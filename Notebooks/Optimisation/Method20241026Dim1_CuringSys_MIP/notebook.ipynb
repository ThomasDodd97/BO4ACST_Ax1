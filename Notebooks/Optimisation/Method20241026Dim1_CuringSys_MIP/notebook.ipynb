{
 "cells": [
  {
   "cell_type": "markdown",
   "metadata": {},
   "source": [
    "# Optimising Unknown Curing System: 'Method20241026Dim1'\n",
    "\n",
    "Settings:\n",
    "* Space-Filling Technique: Grid (1 * 4)\n",
    "* Sequential Technique: MIP (4 * 1)"
   ]
  },
  {
   "cell_type": "markdown",
   "metadata": {},
   "source": [
    "# Nødvendig Bestanddel:"
   ]
  },
  {
   "cell_type": "code",
   "execution_count": 1,
   "metadata": {},
   "outputs": [],
   "source": [
    "from ConfigFile import OptimisationSetup_class\n",
    "from ExperimentalMethods import ExperimentalMethods_class\n",
    "from PlottingMethods import PlottingMethods_class"
   ]
  },
  {
   "cell_type": "code",
   "execution_count": 2,
   "metadata": {},
   "outputs": [],
   "source": [
    "# Instantiate the optimisation configuration class object.\n",
    "OptimisationSetup_obj = OptimisationSetup_class()\n",
    "# Instantiate the experimental methods class object.\n",
    "ExperimentalMethods_obj = ExperimentalMethods_class()"
   ]
  },
  {
   "cell_type": "code",
   "execution_count": null,
   "metadata": {},
   "outputs": [],
   "source": [
    "# Use the initialiser function to import the current experiment or begin a new one.\n",
    "AxClient_obj = ExperimentalMethods_obj.ExperimentInitialiser_func(OptimisationSetup_obj)"
   ]
  },
  {
   "cell_type": "markdown",
   "metadata": {},
   "source": [
    "# Stykke 0 - Plot"
   ]
  },
  {
   "cell_type": "code",
   "execution_count": null,
   "metadata": {},
   "outputs": [],
   "source": [
    "Plotter_obj = PlottingMethods_class()\n",
    "Plotter_obj.InteractivePlot(AxClient_obj,OptimisationSetup_obj)"
   ]
  },
  {
   "cell_type": "markdown",
   "metadata": {},
   "source": [
    "# Stykke 1 - Begyndelsen"
   ]
  },
  {
   "cell_type": "code",
   "execution_count": null,
   "metadata": {},
   "outputs": [],
   "source": [
    "df = AxClient_obj.get_trials_data_frame()\n",
    "df"
   ]
  },
  {
   "cell_type": "code",
   "execution_count": null,
   "metadata": {},
   "outputs": [],
   "source": [
    "# Initiate the current trials.\n",
    "ExperimentalMethods_obj.TrialsStartor_func(AxClient_obj,OptimisationSetup_obj)\n",
    "df = AxClient_obj.get_trials_data_frame()\n",
    "df"
   ]
  },
  {
   "cell_type": "code",
   "execution_count": null,
   "metadata": {},
   "outputs": [],
   "source": [
    "# Carry out the experimentation associated with the current trials.\n",
    "ExperimentalMethods_obj.TrialsExecutor_func(AxClient_obj,OptimisationSetup_obj)"
   ]
  },
  {
   "cell_type": "markdown",
   "metadata": {},
   "source": [
    "# Stykke 2 - Enden"
   ]
  },
  {
   "cell_type": "code",
   "execution_count": null,
   "metadata": {},
   "outputs": [],
   "source": [
    "# Complete the current trials.\n",
    "ExperimentalMethods_obj.TrialsCompletor_func(AxClient_obj,OptimisationSetup_obj)"
   ]
  },
  {
   "cell_type": "code",
   "execution_count": null,
   "metadata": {},
   "outputs": [],
   "source": [
    "df = AxClient_obj.get_trials_data_frame()\n",
    "df"
   ]
  },
  {
   "cell_type": "code",
   "execution_count": null,
   "metadata": {},
   "outputs": [],
   "source": []
  }
 ],
 "metadata": {
  "kernelspec": {
   "display_name": "BO4ACST_env",
   "language": "python",
   "name": "python3"
  },
  "language_info": {
   "codemirror_mode": {
    "name": "ipython",
    "version": 3
   },
   "file_extension": ".py",
   "mimetype": "text/x-python",
   "name": "python",
   "nbconvert_exporter": "python",
   "pygments_lexer": "ipython3",
   "version": "3.11.10"
  }
 },
 "nbformat": 4,
 "nbformat_minor": 2
}
