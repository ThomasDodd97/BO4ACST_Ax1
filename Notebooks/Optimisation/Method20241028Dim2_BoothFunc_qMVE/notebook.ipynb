{
 "cells": [
  {
   "cell_type": "markdown",
   "metadata": {},
   "source": [
    "# Optimising Booth Test Function: 'Method20241028Dim2'\n",
    "\n",
    "Settings:\n",
    "* Space-Filling Technique: Grid (1 * 8)\n",
    "* Sequential Technique: Ax (16 * 1)\n",
    "* Acquisition Function: qMVE"
   ]
  },
  {
   "cell_type": "code",
   "execution_count": 1,
   "metadata": {},
   "outputs": [],
   "source": [
    "import os\n",
    "import numpy as np\n",
    "from ConfigFile import OptimisationSetup_class\n",
    "from ExperimentalMethods import ExperimentalMethods_class\n",
    "# Instantiate the optimisation configuration class object.\n",
    "OptimisationSetup_obj = OptimisationSetup_class()\n",
    "# Instantiate the experimental methods class object.\n",
    "ExperimentalMethods_obj = ExperimentalMethods_class()"
   ]
  },
  {
   "cell_type": "code",
   "execution_count": 2,
   "metadata": {},
   "outputs": [
    {
     "name": "stderr",
     "output_type": "stream",
     "text": [
      "[INFO 10-29 16:23:25] ax.service.ax_client: Starting optimization with verbose logging. To disable logging, set the `verbose_logging` argument to `False`. Note that float values in the logs are rounded to 6 decimal points.\n",
      "[INFO 10-29 16:23:25] ax.service.utils.instantiation: Created search space: SearchSpace(parameters=[RangeParameter(name='x1', parameter_type=FLOAT, range=[-10.0, 10.0]), RangeParameter(name='x2', parameter_type=FLOAT, range=[-10.0, 10.0])], parameter_constraints=[]).\n",
      "[INFO 10-29 16:23:25] ax.service.ax_client: Saved JSON-serialized state of optimization to `/Users/thomasdodd/Library/CloudStorage/OneDrive-MillfieldEnterprisesLimited/Cambridge/GitHub/BO4ACST/Notebooks/Optimisation/Method20241028Dim2_qMaxValueEntropy/AxExperiment.json`.\n",
      "[INFO 10-29 16:23:25] ax.core.experiment: Attached custom parameterizations [{'x1': -10.0, 'x2': -10.0}] as trial 0.\n",
      "[INFO 10-29 16:23:25] ax.core.experiment: Attached custom parameterizations [{'x1': 0.0, 'x2': -10.0}] as trial 1.\n",
      "[INFO 10-29 16:23:25] ax.core.experiment: Attached custom parameterizations [{'x1': 10.0, 'x2': -10.0}] as trial 2.\n",
      "[INFO 10-29 16:23:25] ax.core.experiment: Attached custom parameterizations [{'x1': -10.0, 'x2': 0.0}] as trial 3.\n",
      "[INFO 10-29 16:23:25] ax.core.experiment: Attached custom parameterizations [{'x1': 0.0, 'x2': 0.0}] as trial 4.\n",
      "[INFO 10-29 16:23:25] ax.core.experiment: Attached custom parameterizations [{'x1': 10.0, 'x2': 0.0}] as trial 5.\n",
      "[INFO 10-29 16:23:25] ax.core.experiment: Attached custom parameterizations [{'x1': -10.0, 'x2': 10.0}] as trial 6.\n",
      "[INFO 10-29 16:23:25] ax.core.experiment: Attached custom parameterizations [{'x1': 0.0, 'x2': 10.0}] as trial 7.\n",
      "[INFO 10-29 16:23:25] ax.core.experiment: Attached custom parameterizations [{'x1': 10.0, 'x2': 10.0}] as trial 8.\n",
      "[INFO 10-29 16:23:25] ax.service.ax_client: Saved JSON-serialized state of optimization to `/Users/thomasdodd/Library/CloudStorage/OneDrive-MillfieldEnterprisesLimited/Cambridge/GitHub/BO4ACST/Notebooks/Optimisation/Method20241028Dim2_qMaxValueEntropy/AxExperiment.json`.\n",
      "[WARNING 10-29 16:23:25] ax.service.utils.report_utils: Column reason missing for all trials. Not appending column.\n",
      "[INFO 10-29 16:23:25] ax.service.utils.report_utils: No results present for the specified metrics `[Metric('t1')]`. Returning arm parameters and metadata only.\n",
      "[WARNING 10-29 16:23:25] ax.service.utils.report_utils: Column reason missing for all trials. Not appending column.\n",
      "[INFO 10-29 16:23:25] ax.service.utils.report_utils: No results present for the specified metrics `[Metric('t1')]`. Returning arm parameters and metadata only.\n",
      "[INFO 10-29 16:23:25] ax.service.ax_client: Completed trial 0 with data: {'t1': (2594.0, None)}.\n",
      "[INFO 10-29 16:23:25] ax.service.ax_client: Saved JSON-serialized state of optimization to `/Users/thomasdodd/Library/CloudStorage/OneDrive-MillfieldEnterprisesLimited/Cambridge/GitHub/BO4ACST/Notebooks/Optimisation/Method20241028Dim2_qMaxValueEntropy/AxExperiment.json`.\n",
      "[INFO 10-29 16:23:25] ax.service.ax_client: Completed trial 1 with data: {'t1': (954.0, None)}.\n",
      "[INFO 10-29 16:23:25] ax.service.ax_client: Saved JSON-serialized state of optimization to `/Users/thomasdodd/Library/CloudStorage/OneDrive-MillfieldEnterprisesLimited/Cambridge/GitHub/BO4ACST/Notebooks/Optimisation/Method20241028Dim2_qMaxValueEntropy/AxExperiment.json`.\n",
      "[INFO 10-29 16:23:25] ax.service.ax_client: Completed trial 2 with data: {'t1': (314.0, None)}.\n",
      "[INFO 10-29 16:23:25] ax.service.ax_client: Saved JSON-serialized state of optimization to `/Users/thomasdodd/Library/CloudStorage/OneDrive-MillfieldEnterprisesLimited/Cambridge/GitHub/BO4ACST/Notebooks/Optimisation/Method20241028Dim2_qMaxValueEntropy/AxExperiment.json`.\n",
      "[INFO 10-29 16:23:25] ax.service.ax_client: Completed trial 3 with data: {'t1': (914.0, None)}.\n",
      "[INFO 10-29 16:23:25] ax.service.ax_client: Saved JSON-serialized state of optimization to `/Users/thomasdodd/Library/CloudStorage/OneDrive-MillfieldEnterprisesLimited/Cambridge/GitHub/BO4ACST/Notebooks/Optimisation/Method20241028Dim2_qMaxValueEntropy/AxExperiment.json`.\n",
      "[INFO 10-29 16:23:25] ax.service.ax_client: Completed trial 4 with data: {'t1': (74.0, None)}.\n",
      "[INFO 10-29 16:23:25] ax.service.ax_client: Saved JSON-serialized state of optimization to `/Users/thomasdodd/Library/CloudStorage/OneDrive-MillfieldEnterprisesLimited/Cambridge/GitHub/BO4ACST/Notebooks/Optimisation/Method20241028Dim2_qMaxValueEntropy/AxExperiment.json`.\n",
      "[INFO 10-29 16:23:25] ax.service.ax_client: Completed trial 5 with data: {'t1': (234.0, None)}.\n",
      "[INFO 10-29 16:23:25] ax.service.ax_client: Saved JSON-serialized state of optimization to `/Users/thomasdodd/Library/CloudStorage/OneDrive-MillfieldEnterprisesLimited/Cambridge/GitHub/BO4ACST/Notebooks/Optimisation/Method20241028Dim2_qMaxValueEntropy/AxExperiment.json`.\n",
      "[INFO 10-29 16:23:25] ax.service.ax_client: Completed trial 6 with data: {'t1': (234.0, None)}.\n",
      "[INFO 10-29 16:23:25] ax.service.ax_client: Saved JSON-serialized state of optimization to `/Users/thomasdodd/Library/CloudStorage/OneDrive-MillfieldEnterprisesLimited/Cambridge/GitHub/BO4ACST/Notebooks/Optimisation/Method20241028Dim2_qMaxValueEntropy/AxExperiment.json`.\n",
      "[INFO 10-29 16:23:25] ax.service.ax_client: Completed trial 7 with data: {'t1': (194.0, None)}.\n",
      "[INFO 10-29 16:23:25] ax.service.ax_client: Saved JSON-serialized state of optimization to `/Users/thomasdodd/Library/CloudStorage/OneDrive-MillfieldEnterprisesLimited/Cambridge/GitHub/BO4ACST/Notebooks/Optimisation/Method20241028Dim2_qMaxValueEntropy/AxExperiment.json`.\n",
      "[INFO 10-29 16:23:25] ax.service.ax_client: Completed trial 8 with data: {'t1': (1154.0, None)}.\n",
      "[INFO 10-29 16:23:25] ax.service.ax_client: Saved JSON-serialized state of optimization to `/Users/thomasdodd/Library/CloudStorage/OneDrive-MillfieldEnterprisesLimited/Cambridge/GitHub/BO4ACST/Notebooks/Optimisation/Method20241028Dim2_qMaxValueEntropy/AxExperiment.json`.\n",
      "[WARNING 10-29 16:23:25] ax.service.utils.report_utils: Column reason missing for all trials. Not appending column.\n",
      "[WARNING 10-29 16:23:25] ax.service.utils.report_utils: Column reason missing for all trials. Not appending column.\n"
     ]
    },
    {
     "name": "stdout",
     "output_type": "stream",
     "text": [
      "A new experiment has been created and initialised.\n",
      "No previous or current trials detected - initialising prior-forming trials.\n",
      "Samples gridded = 9\n",
      "There are no trials currently running - initialising Bayesian iteration trials.\n"
     ]
    },
    {
     "name": "stderr",
     "output_type": "stream",
     "text": [
      "[INFO 10-29 16:23:26] ax.service.ax_client: Generated new trial 9 with parameters {'x1': -3.855997, 'x2': 5.94554} using model BoTorch.\n",
      "[INFO 10-29 16:23:26] ax.service.ax_client: Saved JSON-serialized state of optimization to `/Users/thomasdodd/Library/CloudStorage/OneDrive-MillfieldEnterprisesLimited/Cambridge/GitHub/BO4ACST/Notebooks/Optimisation/Method20241028Dim2_qMaxValueEntropy/AxExperiment.json`.\n",
      "/Users/thomasdodd/miniconda3/envs/BO4ACST_env/lib/python3.11/site-packages/ax/core/data.py:288: FutureWarning: The behavior of DataFrame concatenation with empty or all-NA entries is deprecated. In a future version, this will no longer exclude empty or all-NA columns when determining the result dtypes. To retain the old behavior, exclude the relevant entries before the concat operation.\n",
      "  return cls(df=pd.concat(dfs, axis=0, sort=True))\n",
      "[WARNING 10-29 16:23:26] ax.service.utils.report_utils: Column reason missing for all trials. Not appending column.\n",
      "/Users/thomasdodd/miniconda3/envs/BO4ACST_env/lib/python3.11/site-packages/ax/core/data.py:288: FutureWarning: The behavior of DataFrame concatenation with empty or all-NA entries is deprecated. In a future version, this will no longer exclude empty or all-NA columns when determining the result dtypes. To retain the old behavior, exclude the relevant entries before the concat operation.\n",
      "  return cls(df=pd.concat(dfs, axis=0, sort=True))\n",
      "[WARNING 10-29 16:23:26] ax.service.utils.report_utils: Column reason missing for all trials. Not appending column.\n",
      "[INFO 10-29 16:23:26] ax.service.ax_client: Completed trial 9 with data: {'t1': (46.856293, None)}.\n",
      "[INFO 10-29 16:23:26] ax.service.ax_client: Saved JSON-serialized state of optimization to `/Users/thomasdodd/Library/CloudStorage/OneDrive-MillfieldEnterprisesLimited/Cambridge/GitHub/BO4ACST/Notebooks/Optimisation/Method20241028Dim2_qMaxValueEntropy/AxExperiment.json`.\n",
      "[WARNING 10-29 16:23:26] ax.service.utils.report_utils: Column reason missing for all trials. Not appending column.\n",
      "[WARNING 10-29 16:23:26] ax.service.utils.report_utils: Column reason missing for all trials. Not appending column.\n"
     ]
    },
    {
     "name": "stdout",
     "output_type": "stream",
     "text": [
      "There are no trials currently running - initialising Bayesian iteration trials.\n"
     ]
    },
    {
     "name": "stderr",
     "output_type": "stream",
     "text": [
      "[INFO 10-29 16:23:27] ax.service.ax_client: Generated new trial 10 with parameters {'x1': 5.602243, 'x2': -2.989344} using model BoTorch.\n",
      "[INFO 10-29 16:23:27] ax.service.ax_client: Saved JSON-serialized state of optimization to `/Users/thomasdodd/Library/CloudStorage/OneDrive-MillfieldEnterprisesLimited/Cambridge/GitHub/BO4ACST/Notebooks/Optimisation/Method20241028Dim2_qMaxValueEntropy/AxExperiment.json`.\n",
      "/Users/thomasdodd/miniconda3/envs/BO4ACST_env/lib/python3.11/site-packages/ax/core/data.py:288: FutureWarning: The behavior of DataFrame concatenation with empty or all-NA entries is deprecated. In a future version, this will no longer exclude empty or all-NA columns when determining the result dtypes. To retain the old behavior, exclude the relevant entries before the concat operation.\n",
      "  return cls(df=pd.concat(dfs, axis=0, sort=True))\n",
      "[WARNING 10-29 16:23:27] ax.service.utils.report_utils: Column reason missing for all trials. Not appending column.\n",
      "/Users/thomasdodd/miniconda3/envs/BO4ACST_env/lib/python3.11/site-packages/ax/core/data.py:288: FutureWarning: The behavior of DataFrame concatenation with empty or all-NA entries is deprecated. In a future version, this will no longer exclude empty or all-NA columns when determining the result dtypes. To retain the old behavior, exclude the relevant entries before the concat operation.\n",
      "  return cls(df=pd.concat(dfs, axis=0, sort=True))\n",
      "[WARNING 10-29 16:23:27] ax.service.utils.report_utils: Column reason missing for all trials. Not appending column.\n",
      "[INFO 10-29 16:23:27] ax.service.ax_client: Completed trial 10 with data: {'t1': (64.749075, None)}.\n",
      "[INFO 10-29 16:23:27] ax.service.ax_client: Saved JSON-serialized state of optimization to `/Users/thomasdodd/Library/CloudStorage/OneDrive-MillfieldEnterprisesLimited/Cambridge/GitHub/BO4ACST/Notebooks/Optimisation/Method20241028Dim2_qMaxValueEntropy/AxExperiment.json`.\n",
      "[WARNING 10-29 16:23:27] ax.service.utils.report_utils: Column reason missing for all trials. Not appending column.\n",
      "[WARNING 10-29 16:23:27] ax.service.utils.report_utils: Column reason missing for all trials. Not appending column.\n"
     ]
    },
    {
     "name": "stdout",
     "output_type": "stream",
     "text": [
      "There are no trials currently running - initialising Bayesian iteration trials.\n"
     ]
    },
    {
     "name": "stderr",
     "output_type": "stream",
     "text": [
      "[INFO 10-29 16:23:28] ax.service.ax_client: Generated new trial 11 with parameters {'x1': 2.188984, 'x2': 3.114863} using model BoTorch.\n",
      "[INFO 10-29 16:23:28] ax.service.ax_client: Saved JSON-serialized state of optimization to `/Users/thomasdodd/Library/CloudStorage/OneDrive-MillfieldEnterprisesLimited/Cambridge/GitHub/BO4ACST/Notebooks/Optimisation/Method20241028Dim2_qMaxValueEntropy/AxExperiment.json`.\n",
      "/Users/thomasdodd/miniconda3/envs/BO4ACST_env/lib/python3.11/site-packages/ax/core/data.py:288: FutureWarning: The behavior of DataFrame concatenation with empty or all-NA entries is deprecated. In a future version, this will no longer exclude empty or all-NA columns when determining the result dtypes. To retain the old behavior, exclude the relevant entries before the concat operation.\n",
      "  return cls(df=pd.concat(dfs, axis=0, sort=True))\n",
      "[WARNING 10-29 16:23:28] ax.service.utils.report_utils: Column reason missing for all trials. Not appending column.\n",
      "/Users/thomasdodd/miniconda3/envs/BO4ACST_env/lib/python3.11/site-packages/ax/core/data.py:288: FutureWarning: The behavior of DataFrame concatenation with empty or all-NA entries is deprecated. In a future version, this will no longer exclude empty or all-NA columns when determining the result dtypes. To retain the old behavior, exclude the relevant entries before the concat operation.\n",
      "  return cls(df=pd.concat(dfs, axis=0, sort=True))\n",
      "[WARNING 10-29 16:23:28] ax.service.utils.report_utils: Column reason missing for all trials. Not appending column.\n",
      "[INFO 10-29 16:23:28] ax.service.ax_client: Completed trial 11 with data: {'t1': (8.226938, None)}.\n",
      "[INFO 10-29 16:23:28] ax.service.ax_client: Saved JSON-serialized state of optimization to `/Users/thomasdodd/Library/CloudStorage/OneDrive-MillfieldEnterprisesLimited/Cambridge/GitHub/BO4ACST/Notebooks/Optimisation/Method20241028Dim2_qMaxValueEntropy/AxExperiment.json`.\n",
      "[WARNING 10-29 16:23:28] ax.service.utils.report_utils: Column reason missing for all trials. Not appending column.\n",
      "[WARNING 10-29 16:23:28] ax.service.utils.report_utils: Column reason missing for all trials. Not appending column.\n"
     ]
    },
    {
     "name": "stdout",
     "output_type": "stream",
     "text": [
      "There are no trials currently running - initialising Bayesian iteration trials.\n"
     ]
    },
    {
     "name": "stderr",
     "output_type": "stream",
     "text": [
      "[INFO 10-29 16:23:29] ax.service.ax_client: Generated new trial 12 with parameters {'x1': 1.083275, 'x2': 3.327048} using model BoTorch.\n",
      "[INFO 10-29 16:23:29] ax.service.ax_client: Saved JSON-serialized state of optimization to `/Users/thomasdodd/Library/CloudStorage/OneDrive-MillfieldEnterprisesLimited/Cambridge/GitHub/BO4ACST/Notebooks/Optimisation/Method20241028Dim2_qMaxValueEntropy/AxExperiment.json`.\n",
      "/Users/thomasdodd/miniconda3/envs/BO4ACST_env/lib/python3.11/site-packages/ax/core/data.py:288: FutureWarning: The behavior of DataFrame concatenation with empty or all-NA entries is deprecated. In a future version, this will no longer exclude empty or all-NA columns when determining the result dtypes. To retain the old behavior, exclude the relevant entries before the concat operation.\n",
      "  return cls(df=pd.concat(dfs, axis=0, sort=True))\n",
      "[WARNING 10-29 16:23:29] ax.service.utils.report_utils: Column reason missing for all trials. Not appending column.\n",
      "/Users/thomasdodd/miniconda3/envs/BO4ACST_env/lib/python3.11/site-packages/ax/core/data.py:288: FutureWarning: The behavior of DataFrame concatenation with empty or all-NA entries is deprecated. In a future version, this will no longer exclude empty or all-NA columns when determining the result dtypes. To retain the old behavior, exclude the relevant entries before the concat operation.\n",
      "  return cls(df=pd.concat(dfs, axis=0, sort=True))\n",
      "[WARNING 10-29 16:23:29] ax.service.utils.report_utils: Column reason missing for all trials. Not appending column.\n",
      "[INFO 10-29 16:23:29] ax.service.ax_client: Completed trial 12 with data: {'t1': (0.787353, None)}.\n",
      "[INFO 10-29 16:23:29] ax.service.ax_client: Saved JSON-serialized state of optimization to `/Users/thomasdodd/Library/CloudStorage/OneDrive-MillfieldEnterprisesLimited/Cambridge/GitHub/BO4ACST/Notebooks/Optimisation/Method20241028Dim2_qMaxValueEntropy/AxExperiment.json`.\n",
      "[WARNING 10-29 16:23:29] ax.service.utils.report_utils: Column reason missing for all trials. Not appending column.\n",
      "[WARNING 10-29 16:23:29] ax.service.utils.report_utils: Column reason missing for all trials. Not appending column.\n"
     ]
    },
    {
     "name": "stdout",
     "output_type": "stream",
     "text": [
      "There are no trials currently running - initialising Bayesian iteration trials.\n"
     ]
    },
    {
     "name": "stderr",
     "output_type": "stream",
     "text": [
      "[INFO 10-29 16:23:30] ax.service.ax_client: Generated new trial 13 with parameters {'x1': -2.661321, 'x2': 5.868007} using model BoTorch.\n",
      "[INFO 10-29 16:23:30] ax.service.ax_client: Saved JSON-serialized state of optimization to `/Users/thomasdodd/Library/CloudStorage/OneDrive-MillfieldEnterprisesLimited/Cambridge/GitHub/BO4ACST/Notebooks/Optimisation/Method20241028Dim2_qMaxValueEntropy/AxExperiment.json`.\n",
      "/Users/thomasdodd/miniconda3/envs/BO4ACST_env/lib/python3.11/site-packages/ax/core/data.py:288: FutureWarning: The behavior of DataFrame concatenation with empty or all-NA entries is deprecated. In a future version, this will no longer exclude empty or all-NA columns when determining the result dtypes. To retain the old behavior, exclude the relevant entries before the concat operation.\n",
      "  return cls(df=pd.concat(dfs, axis=0, sort=True))\n",
      "[WARNING 10-29 16:23:30] ax.service.utils.report_utils: Column reason missing for all trials. Not appending column.\n",
      "/Users/thomasdodd/miniconda3/envs/BO4ACST_env/lib/python3.11/site-packages/ax/core/data.py:288: FutureWarning: The behavior of DataFrame concatenation with empty or all-NA entries is deprecated. In a future version, this will no longer exclude empty or all-NA columns when determining the result dtypes. To retain the old behavior, exclude the relevant entries before the concat operation.\n",
      "  return cls(df=pd.concat(dfs, axis=0, sort=True))\n",
      "[WARNING 10-29 16:23:30] ax.service.utils.report_utils: Column reason missing for all trials. Not appending column.\n",
      "[INFO 10-29 16:23:30] ax.service.ax_client: Completed trial 13 with data: {'t1': (24.148123, None)}.\n",
      "[INFO 10-29 16:23:30] ax.service.ax_client: Saved JSON-serialized state of optimization to `/Users/thomasdodd/Library/CloudStorage/OneDrive-MillfieldEnterprisesLimited/Cambridge/GitHub/BO4ACST/Notebooks/Optimisation/Method20241028Dim2_qMaxValueEntropy/AxExperiment.json`.\n",
      "[WARNING 10-29 16:23:30] ax.service.utils.report_utils: Column reason missing for all trials. Not appending column.\n",
      "[WARNING 10-29 16:23:30] ax.service.utils.report_utils: Column reason missing for all trials. Not appending column.\n"
     ]
    },
    {
     "name": "stdout",
     "output_type": "stream",
     "text": [
      "There are no trials currently running - initialising Bayesian iteration trials.\n"
     ]
    },
    {
     "name": "stderr",
     "output_type": "stream",
     "text": [
      "[INFO 10-29 16:23:31] ax.service.ax_client: Generated new trial 14 with parameters {'x1': 2.748584, 'x2': 1.516969} using model BoTorch.\n",
      "[INFO 10-29 16:23:31] ax.service.ax_client: Saved JSON-serialized state of optimization to `/Users/thomasdodd/Library/CloudStorage/OneDrive-MillfieldEnterprisesLimited/Cambridge/GitHub/BO4ACST/Notebooks/Optimisation/Method20241028Dim2_qMaxValueEntropy/AxExperiment.json`.\n",
      "/Users/thomasdodd/miniconda3/envs/BO4ACST_env/lib/python3.11/site-packages/ax/core/data.py:288: FutureWarning: The behavior of DataFrame concatenation with empty or all-NA entries is deprecated. In a future version, this will no longer exclude empty or all-NA columns when determining the result dtypes. To retain the old behavior, exclude the relevant entries before the concat operation.\n",
      "  return cls(df=pd.concat(dfs, axis=0, sort=True))\n",
      "[WARNING 10-29 16:23:31] ax.service.utils.report_utils: Column reason missing for all trials. Not appending column.\n",
      "/Users/thomasdodd/miniconda3/envs/BO4ACST_env/lib/python3.11/site-packages/ax/core/data.py:288: FutureWarning: The behavior of DataFrame concatenation with empty or all-NA entries is deprecated. In a future version, this will no longer exclude empty or all-NA columns when determining the result dtypes. To retain the old behavior, exclude the relevant entries before the concat operation.\n",
      "  return cls(df=pd.concat(dfs, axis=0, sort=True))\n",
      "[WARNING 10-29 16:23:31] ax.service.utils.report_utils: Column reason missing for all trials. Not appending column.\n",
      "[INFO 10-29 16:23:31] ax.service.ax_client: Completed trial 14 with data: {'t1': (5.539001, None)}.\n",
      "[INFO 10-29 16:23:31] ax.service.ax_client: Saved JSON-serialized state of optimization to `/Users/thomasdodd/Library/CloudStorage/OneDrive-MillfieldEnterprisesLimited/Cambridge/GitHub/BO4ACST/Notebooks/Optimisation/Method20241028Dim2_qMaxValueEntropy/AxExperiment.json`.\n",
      "[WARNING 10-29 16:23:31] ax.service.utils.report_utils: Column reason missing for all trials. Not appending column.\n",
      "[WARNING 10-29 16:23:31] ax.service.utils.report_utils: Column reason missing for all trials. Not appending column.\n"
     ]
    },
    {
     "name": "stdout",
     "output_type": "stream",
     "text": [
      "There are no trials currently running - initialising Bayesian iteration trials.\n"
     ]
    },
    {
     "name": "stderr",
     "output_type": "stream",
     "text": [
      "[INFO 10-29 16:23:31] ax.service.ax_client: Generated new trial 15 with parameters {'x1': 0.277073, 'x2': 3.604827} using model BoTorch.\n",
      "[INFO 10-29 16:23:31] ax.service.ax_client: Saved JSON-serialized state of optimization to `/Users/thomasdodd/Library/CloudStorage/OneDrive-MillfieldEnterprisesLimited/Cambridge/GitHub/BO4ACST/Notebooks/Optimisation/Method20241028Dim2_qMaxValueEntropy/AxExperiment.json`.\n",
      "/Users/thomasdodd/miniconda3/envs/BO4ACST_env/lib/python3.11/site-packages/ax/core/data.py:288: FutureWarning: The behavior of DataFrame concatenation with empty or all-NA entries is deprecated. In a future version, this will no longer exclude empty or all-NA columns when determining the result dtypes. To retain the old behavior, exclude the relevant entries before the concat operation.\n",
      "  return cls(df=pd.concat(dfs, axis=0, sort=True))\n",
      "[WARNING 10-29 16:23:31] ax.service.utils.report_utils: Column reason missing for all trials. Not appending column.\n",
      "/Users/thomasdodd/miniconda3/envs/BO4ACST_env/lib/python3.11/site-packages/ax/core/data.py:288: FutureWarning: The behavior of DataFrame concatenation with empty or all-NA entries is deprecated. In a future version, this will no longer exclude empty or all-NA columns when determining the result dtypes. To retain the old behavior, exclude the relevant entries before the concat operation.\n",
      "  return cls(df=pd.concat(dfs, axis=0, sort=True))\n",
      "[WARNING 10-29 16:23:31] ax.service.utils.report_utils: Column reason missing for all trials. Not appending column.\n",
      "[INFO 10-29 16:23:32] ax.service.ax_client: Completed trial 15 with data: {'t1': (0.944229, None)}.\n",
      "[INFO 10-29 16:23:32] ax.service.ax_client: Saved JSON-serialized state of optimization to `/Users/thomasdodd/Library/CloudStorage/OneDrive-MillfieldEnterprisesLimited/Cambridge/GitHub/BO4ACST/Notebooks/Optimisation/Method20241028Dim2_qMaxValueEntropy/AxExperiment.json`.\n",
      "[WARNING 10-29 16:23:32] ax.service.utils.report_utils: Column reason missing for all trials. Not appending column.\n",
      "[WARNING 10-29 16:23:32] ax.service.utils.report_utils: Column reason missing for all trials. Not appending column.\n"
     ]
    },
    {
     "name": "stdout",
     "output_type": "stream",
     "text": [
      "There are no trials currently running - initialising Bayesian iteration trials.\n"
     ]
    },
    {
     "name": "stderr",
     "output_type": "stream",
     "text": [
      "[INFO 10-29 16:23:32] ax.service.ax_client: Generated new trial 16 with parameters {'x1': 2.854866, 'x2': 1.025111} using model BoTorch.\n",
      "[INFO 10-29 16:23:32] ax.service.ax_client: Saved JSON-serialized state of optimization to `/Users/thomasdodd/Library/CloudStorage/OneDrive-MillfieldEnterprisesLimited/Cambridge/GitHub/BO4ACST/Notebooks/Optimisation/Method20241028Dim2_qMaxValueEntropy/AxExperiment.json`.\n",
      "/Users/thomasdodd/miniconda3/envs/BO4ACST_env/lib/python3.11/site-packages/ax/core/data.py:288: FutureWarning: The behavior of DataFrame concatenation with empty or all-NA entries is deprecated. In a future version, this will no longer exclude empty or all-NA columns when determining the result dtypes. To retain the old behavior, exclude the relevant entries before the concat operation.\n",
      "  return cls(df=pd.concat(dfs, axis=0, sort=True))\n",
      "[WARNING 10-29 16:23:32] ax.service.utils.report_utils: Column reason missing for all trials. Not appending column.\n",
      "/Users/thomasdodd/miniconda3/envs/BO4ACST_env/lib/python3.11/site-packages/ax/core/data.py:288: FutureWarning: The behavior of DataFrame concatenation with empty or all-NA entries is deprecated. In a future version, this will no longer exclude empty or all-NA columns when determining the result dtypes. To retain the old behavior, exclude the relevant entries before the concat operation.\n",
      "  return cls(df=pd.concat(dfs, axis=0, sort=True))\n",
      "[WARNING 10-29 16:23:32] ax.service.utils.report_utils: Column reason missing for all trials. Not appending column.\n",
      "[INFO 10-29 16:23:32] ax.service.ax_client: Completed trial 16 with data: {'t1': (7.398336, None)}.\n",
      "[INFO 10-29 16:23:32] ax.service.ax_client: Saved JSON-serialized state of optimization to `/Users/thomasdodd/Library/CloudStorage/OneDrive-MillfieldEnterprisesLimited/Cambridge/GitHub/BO4ACST/Notebooks/Optimisation/Method20241028Dim2_qMaxValueEntropy/AxExperiment.json`.\n",
      "[WARNING 10-29 16:23:32] ax.service.utils.report_utils: Column reason missing for all trials. Not appending column.\n",
      "[WARNING 10-29 16:23:32] ax.service.utils.report_utils: Column reason missing for all trials. Not appending column.\n"
     ]
    },
    {
     "name": "stdout",
     "output_type": "stream",
     "text": [
      "There are no trials currently running - initialising Bayesian iteration trials.\n"
     ]
    },
    {
     "name": "stderr",
     "output_type": "stream",
     "text": [
      "[INFO 10-29 16:23:33] ax.service.ax_client: Generated new trial 17 with parameters {'x1': 0.030357, 'x2': 3.630977} using model BoTorch.\n",
      "[INFO 10-29 16:23:33] ax.service.ax_client: Saved JSON-serialized state of optimization to `/Users/thomasdodd/Library/CloudStorage/OneDrive-MillfieldEnterprisesLimited/Cambridge/GitHub/BO4ACST/Notebooks/Optimisation/Method20241028Dim2_qMaxValueEntropy/AxExperiment.json`.\n",
      "/Users/thomasdodd/miniconda3/envs/BO4ACST_env/lib/python3.11/site-packages/ax/core/data.py:288: FutureWarning: The behavior of DataFrame concatenation with empty or all-NA entries is deprecated. In a future version, this will no longer exclude empty or all-NA columns when determining the result dtypes. To retain the old behavior, exclude the relevant entries before the concat operation.\n",
      "  return cls(df=pd.concat(dfs, axis=0, sort=True))\n",
      "[WARNING 10-29 16:23:33] ax.service.utils.report_utils: Column reason missing for all trials. Not appending column.\n",
      "/Users/thomasdodd/miniconda3/envs/BO4ACST_env/lib/python3.11/site-packages/ax/core/data.py:288: FutureWarning: The behavior of DataFrame concatenation with empty or all-NA entries is deprecated. In a future version, this will no longer exclude empty or all-NA columns when determining the result dtypes. To retain the old behavior, exclude the relevant entries before the concat operation.\n",
      "  return cls(df=pd.concat(dfs, axis=0, sort=True))\n",
      "[WARNING 10-29 16:23:33] ax.service.utils.report_utils: Column reason missing for all trials. Not appending column.\n",
      "[INFO 10-29 16:23:33] ax.service.ax_client: Completed trial 17 with data: {'t1': (1.797119, None)}.\n",
      "[INFO 10-29 16:23:33] ax.service.ax_client: Saved JSON-serialized state of optimization to `/Users/thomasdodd/Library/CloudStorage/OneDrive-MillfieldEnterprisesLimited/Cambridge/GitHub/BO4ACST/Notebooks/Optimisation/Method20241028Dim2_qMaxValueEntropy/AxExperiment.json`.\n",
      "[WARNING 10-29 16:23:33] ax.service.utils.report_utils: Column reason missing for all trials. Not appending column.\n",
      "[WARNING 10-29 16:23:33] ax.service.utils.report_utils: Column reason missing for all trials. Not appending column.\n"
     ]
    },
    {
     "name": "stdout",
     "output_type": "stream",
     "text": [
      "There are no trials currently running - initialising Bayesian iteration trials.\n"
     ]
    },
    {
     "name": "stderr",
     "output_type": "stream",
     "text": [
      "[INFO 10-29 16:23:34] ax.service.ax_client: Generated new trial 18 with parameters {'x1': 0.21558, 'x2': 3.36661} using model BoTorch.\n",
      "[INFO 10-29 16:23:34] ax.service.ax_client: Saved JSON-serialized state of optimization to `/Users/thomasdodd/Library/CloudStorage/OneDrive-MillfieldEnterprisesLimited/Cambridge/GitHub/BO4ACST/Notebooks/Optimisation/Method20241028Dim2_qMaxValueEntropy/AxExperiment.json`.\n",
      "/Users/thomasdodd/miniconda3/envs/BO4ACST_env/lib/python3.11/site-packages/ax/core/data.py:288: FutureWarning: The behavior of DataFrame concatenation with empty or all-NA entries is deprecated. In a future version, this will no longer exclude empty or all-NA columns when determining the result dtypes. To retain the old behavior, exclude the relevant entries before the concat operation.\n",
      "  return cls(df=pd.concat(dfs, axis=0, sort=True))\n",
      "[WARNING 10-29 16:23:34] ax.service.utils.report_utils: Column reason missing for all trials. Not appending column.\n",
      "/Users/thomasdodd/miniconda3/envs/BO4ACST_env/lib/python3.11/site-packages/ax/core/data.py:288: FutureWarning: The behavior of DataFrame concatenation with empty or all-NA entries is deprecated. In a future version, this will no longer exclude empty or all-NA columns when determining the result dtypes. To retain the old behavior, exclude the relevant entries before the concat operation.\n",
      "  return cls(df=pd.concat(dfs, axis=0, sort=True))\n",
      "[WARNING 10-29 16:23:34] ax.service.utils.report_utils: Column reason missing for all trials. Not appending column.\n",
      "[INFO 10-29 16:23:34] ax.service.ax_client: Completed trial 18 with data: {'t1': (1.447978, None)}.\n",
      "[INFO 10-29 16:23:34] ax.service.ax_client: Saved JSON-serialized state of optimization to `/Users/thomasdodd/Library/CloudStorage/OneDrive-MillfieldEnterprisesLimited/Cambridge/GitHub/BO4ACST/Notebooks/Optimisation/Method20241028Dim2_qMaxValueEntropy/AxExperiment.json`.\n",
      "[WARNING 10-29 16:23:34] ax.service.utils.report_utils: Column reason missing for all trials. Not appending column.\n",
      "[WARNING 10-29 16:23:34] ax.service.utils.report_utils: Column reason missing for all trials. Not appending column.\n"
     ]
    },
    {
     "name": "stdout",
     "output_type": "stream",
     "text": [
      "There are no trials currently running - initialising Bayesian iteration trials.\n"
     ]
    },
    {
     "name": "stderr",
     "output_type": "stream",
     "text": [
      "[INFO 10-29 16:23:35] ax.service.ax_client: Generated new trial 19 with parameters {'x1': 0.512207, 'x2': 3.000977} using model BoTorch.\n",
      "[INFO 10-29 16:23:35] ax.service.ax_client: Saved JSON-serialized state of optimization to `/Users/thomasdodd/Library/CloudStorage/OneDrive-MillfieldEnterprisesLimited/Cambridge/GitHub/BO4ACST/Notebooks/Optimisation/Method20241028Dim2_qMaxValueEntropy/AxExperiment.json`.\n",
      "/Users/thomasdodd/miniconda3/envs/BO4ACST_env/lib/python3.11/site-packages/ax/core/data.py:288: FutureWarning: The behavior of DataFrame concatenation with empty or all-NA entries is deprecated. In a future version, this will no longer exclude empty or all-NA columns when determining the result dtypes. To retain the old behavior, exclude the relevant entries before the concat operation.\n",
      "  return cls(df=pd.concat(dfs, axis=0, sort=True))\n",
      "[WARNING 10-29 16:23:35] ax.service.utils.report_utils: Column reason missing for all trials. Not appending column.\n",
      "/Users/thomasdodd/miniconda3/envs/BO4ACST_env/lib/python3.11/site-packages/ax/core/data.py:288: FutureWarning: The behavior of DataFrame concatenation with empty or all-NA entries is deprecated. In a future version, this will no longer exclude empty or all-NA columns when determining the result dtypes. To retain the old behavior, exclude the relevant entries before the concat operation.\n",
      "  return cls(df=pd.concat(dfs, axis=0, sort=True))\n",
      "[WARNING 10-29 16:23:35] ax.service.utils.report_utils: Column reason missing for all trials. Not appending column.\n",
      "[INFO 10-29 16:23:35] ax.service.ax_client: Completed trial 19 with data: {'t1': (1.185904, None)}.\n",
      "[INFO 10-29 16:23:35] ax.service.ax_client: Saved JSON-serialized state of optimization to `/Users/thomasdodd/Library/CloudStorage/OneDrive-MillfieldEnterprisesLimited/Cambridge/GitHub/BO4ACST/Notebooks/Optimisation/Method20241028Dim2_qMaxValueEntropy/AxExperiment.json`.\n",
      "[WARNING 10-29 16:23:35] ax.service.utils.report_utils: Column reason missing for all trials. Not appending column.\n",
      "[WARNING 10-29 16:23:35] ax.service.utils.report_utils: Column reason missing for all trials. Not appending column.\n"
     ]
    },
    {
     "name": "stdout",
     "output_type": "stream",
     "text": [
      "There are no trials currently running - initialising Bayesian iteration trials.\n"
     ]
    },
    {
     "name": "stderr",
     "output_type": "stream",
     "text": [
      "[INFO 10-29 16:23:36] ax.service.ax_client: Generated new trial 20 with parameters {'x1': 2.064734, 'x2': 1.522746} using model BoTorch.\n",
      "[INFO 10-29 16:23:36] ax.service.ax_client: Saved JSON-serialized state of optimization to `/Users/thomasdodd/Library/CloudStorage/OneDrive-MillfieldEnterprisesLimited/Cambridge/GitHub/BO4ACST/Notebooks/Optimisation/Method20241028Dim2_qMaxValueEntropy/AxExperiment.json`.\n",
      "/Users/thomasdodd/miniconda3/envs/BO4ACST_env/lib/python3.11/site-packages/ax/core/data.py:288: FutureWarning: The behavior of DataFrame concatenation with empty or all-NA entries is deprecated. In a future version, this will no longer exclude empty or all-NA columns when determining the result dtypes. To retain the old behavior, exclude the relevant entries before the concat operation.\n",
      "  return cls(df=pd.concat(dfs, axis=0, sort=True))\n",
      "[WARNING 10-29 16:23:36] ax.service.utils.report_utils: Column reason missing for all trials. Not appending column.\n",
      "/Users/thomasdodd/miniconda3/envs/BO4ACST_env/lib/python3.11/site-packages/ax/core/data.py:288: FutureWarning: The behavior of DataFrame concatenation with empty or all-NA entries is deprecated. In a future version, this will no longer exclude empty or all-NA columns when determining the result dtypes. To retain the old behavior, exclude the relevant entries before the concat operation.\n",
      "  return cls(df=pd.concat(dfs, axis=0, sort=True))\n",
      "[WARNING 10-29 16:23:36] ax.service.utils.report_utils: Column reason missing for all trials. Not appending column.\n",
      "[INFO 10-29 16:23:36] ax.service.ax_client: Completed trial 20 with data: {'t1': (3.996627, None)}.\n",
      "[INFO 10-29 16:23:36] ax.service.ax_client: Saved JSON-serialized state of optimization to `/Users/thomasdodd/Library/CloudStorage/OneDrive-MillfieldEnterprisesLimited/Cambridge/GitHub/BO4ACST/Notebooks/Optimisation/Method20241028Dim2_qMaxValueEntropy/AxExperiment.json`.\n",
      "[WARNING 10-29 16:23:36] ax.service.utils.report_utils: Column reason missing for all trials. Not appending column.\n",
      "[WARNING 10-29 16:23:36] ax.service.utils.report_utils: Column reason missing for all trials. Not appending column.\n"
     ]
    },
    {
     "name": "stdout",
     "output_type": "stream",
     "text": [
      "There are no trials currently running - initialising Bayesian iteration trials.\n"
     ]
    },
    {
     "name": "stderr",
     "output_type": "stream",
     "text": [
      "[INFO 10-29 16:23:37] ax.service.ax_client: Generated new trial 21 with parameters {'x1': 0.245892, 'x2': 3.340983} using model BoTorch.\n",
      "[INFO 10-29 16:23:37] ax.service.ax_client: Saved JSON-serialized state of optimization to `/Users/thomasdodd/Library/CloudStorage/OneDrive-MillfieldEnterprisesLimited/Cambridge/GitHub/BO4ACST/Notebooks/Optimisation/Method20241028Dim2_qMaxValueEntropy/AxExperiment.json`.\n",
      "/Users/thomasdodd/miniconda3/envs/BO4ACST_env/lib/python3.11/site-packages/ax/core/data.py:288: FutureWarning: The behavior of DataFrame concatenation with empty or all-NA entries is deprecated. In a future version, this will no longer exclude empty or all-NA columns when determining the result dtypes. To retain the old behavior, exclude the relevant entries before the concat operation.\n",
      "  return cls(df=pd.concat(dfs, axis=0, sort=True))\n",
      "[WARNING 10-29 16:23:37] ax.service.utils.report_utils: Column reason missing for all trials. Not appending column.\n",
      "/Users/thomasdodd/miniconda3/envs/BO4ACST_env/lib/python3.11/site-packages/ax/core/data.py:288: FutureWarning: The behavior of DataFrame concatenation with empty or all-NA entries is deprecated. In a future version, this will no longer exclude empty or all-NA columns when determining the result dtypes. To retain the old behavior, exclude the relevant entries before the concat operation.\n",
      "  return cls(df=pd.concat(dfs, axis=0, sort=True))\n",
      "[WARNING 10-29 16:23:37] ax.service.utils.report_utils: Column reason missing for all trials. Not appending column.\n",
      "[INFO 10-29 16:23:37] ax.service.ax_client: Completed trial 21 with data: {'t1': (1.367636, None)}.\n",
      "[INFO 10-29 16:23:37] ax.service.ax_client: Saved JSON-serialized state of optimization to `/Users/thomasdodd/Library/CloudStorage/OneDrive-MillfieldEnterprisesLimited/Cambridge/GitHub/BO4ACST/Notebooks/Optimisation/Method20241028Dim2_qMaxValueEntropy/AxExperiment.json`.\n",
      "[WARNING 10-29 16:23:37] ax.service.utils.report_utils: Column reason missing for all trials. Not appending column.\n",
      "[WARNING 10-29 16:23:37] ax.service.utils.report_utils: Column reason missing for all trials. Not appending column.\n"
     ]
    },
    {
     "name": "stdout",
     "output_type": "stream",
     "text": [
      "There are no trials currently running - initialising Bayesian iteration trials.\n"
     ]
    },
    {
     "name": "stderr",
     "output_type": "stream",
     "text": [
      "[INFO 10-29 16:23:38] ax.service.ax_client: Generated new trial 22 with parameters {'x1': 0.717788, 'x2': 2.804784} using model BoTorch.\n",
      "[INFO 10-29 16:23:38] ax.service.ax_client: Saved JSON-serialized state of optimization to `/Users/thomasdodd/Library/CloudStorage/OneDrive-MillfieldEnterprisesLimited/Cambridge/GitHub/BO4ACST/Notebooks/Optimisation/Method20241028Dim2_qMaxValueEntropy/AxExperiment.json`.\n",
      "/Users/thomasdodd/miniconda3/envs/BO4ACST_env/lib/python3.11/site-packages/ax/core/data.py:288: FutureWarning: The behavior of DataFrame concatenation with empty or all-NA entries is deprecated. In a future version, this will no longer exclude empty or all-NA columns when determining the result dtypes. To retain the old behavior, exclude the relevant entries before the concat operation.\n",
      "  return cls(df=pd.concat(dfs, axis=0, sort=True))\n",
      "[WARNING 10-29 16:23:38] ax.service.utils.report_utils: Column reason missing for all trials. Not appending column.\n",
      "/Users/thomasdodd/miniconda3/envs/BO4ACST_env/lib/python3.11/site-packages/ax/core/data.py:288: FutureWarning: The behavior of DataFrame concatenation with empty or all-NA entries is deprecated. In a future version, this will no longer exclude empty or all-NA columns when determining the result dtypes. To retain the old behavior, exclude the relevant entries before the concat operation.\n",
      "  return cls(df=pd.concat(dfs, axis=0, sort=True))\n",
      "[WARNING 10-29 16:23:38] ax.service.utils.report_utils: Column reason missing for all trials. Not appending column.\n",
      "[INFO 10-29 16:23:39] ax.service.ax_client: Completed trial 22 with data: {'t1': (1.029503, None)}.\n",
      "[INFO 10-29 16:23:39] ax.service.ax_client: Saved JSON-serialized state of optimization to `/Users/thomasdodd/Library/CloudStorage/OneDrive-MillfieldEnterprisesLimited/Cambridge/GitHub/BO4ACST/Notebooks/Optimisation/Method20241028Dim2_qMaxValueEntropy/AxExperiment.json`.\n",
      "[WARNING 10-29 16:23:39] ax.service.utils.report_utils: Column reason missing for all trials. Not appending column.\n",
      "[WARNING 10-29 16:23:39] ax.service.utils.report_utils: Column reason missing for all trials. Not appending column.\n"
     ]
    },
    {
     "name": "stdout",
     "output_type": "stream",
     "text": [
      "There are no trials currently running - initialising Bayesian iteration trials.\n"
     ]
    },
    {
     "name": "stderr",
     "output_type": "stream",
     "text": [
      "[INFO 10-29 16:23:39] ax.service.ax_client: Generated new trial 23 with parameters {'x1': 1.809464, 'x2': 1.748437} using model BoTorch.\n",
      "[INFO 10-29 16:23:39] ax.service.ax_client: Saved JSON-serialized state of optimization to `/Users/thomasdodd/Library/CloudStorage/OneDrive-MillfieldEnterprisesLimited/Cambridge/GitHub/BO4ACST/Notebooks/Optimisation/Method20241028Dim2_qMaxValueEntropy/AxExperiment.json`.\n",
      "/Users/thomasdodd/miniconda3/envs/BO4ACST_env/lib/python3.11/site-packages/ax/core/data.py:288: FutureWarning: The behavior of DataFrame concatenation with empty or all-NA entries is deprecated. In a future version, this will no longer exclude empty or all-NA columns when determining the result dtypes. To retain the old behavior, exclude the relevant entries before the concat operation.\n",
      "  return cls(df=pd.concat(dfs, axis=0, sort=True))\n",
      "[WARNING 10-29 16:23:39] ax.service.utils.report_utils: Column reason missing for all trials. Not appending column.\n",
      "/Users/thomasdodd/miniconda3/envs/BO4ACST_env/lib/python3.11/site-packages/ax/core/data.py:288: FutureWarning: The behavior of DataFrame concatenation with empty or all-NA entries is deprecated. In a future version, this will no longer exclude empty or all-NA columns when determining the result dtypes. To retain the old behavior, exclude the relevant entries before the concat operation.\n",
      "  return cls(df=pd.concat(dfs, axis=0, sort=True))\n",
      "[WARNING 10-29 16:23:39] ax.service.utils.report_utils: Column reason missing for all trials. Not appending column.\n",
      "[INFO 10-29 16:23:39] ax.service.ax_client: Completed trial 23 with data: {'t1': (3.003448, None)}.\n",
      "[INFO 10-29 16:23:39] ax.service.ax_client: Saved JSON-serialized state of optimization to `/Users/thomasdodd/Library/CloudStorage/OneDrive-MillfieldEnterprisesLimited/Cambridge/GitHub/BO4ACST/Notebooks/Optimisation/Method20241028Dim2_qMaxValueEntropy/AxExperiment.json`.\n",
      "[WARNING 10-29 16:23:39] ax.service.utils.report_utils: Column reason missing for all trials. Not appending column.\n",
      "[INFO 10-29 16:23:39] ax.service.ax_client: Starting optimization with verbose logging. To disable logging, set the `verbose_logging` argument to `False`. Note that float values in the logs are rounded to 6 decimal points.\n",
      "[INFO 10-29 16:23:39] ax.service.utils.instantiation: Created search space: SearchSpace(parameters=[RangeParameter(name='x1', parameter_type=FLOAT, range=[-10.0, 10.0]), RangeParameter(name='x2', parameter_type=FLOAT, range=[-10.0, 10.0])], parameter_constraints=[]).\n",
      "[INFO 10-29 16:23:39] ax.service.ax_client: Saved JSON-serialized state of optimization to `/Users/thomasdodd/Library/CloudStorage/OneDrive-MillfieldEnterprisesLimited/Cambridge/GitHub/BO4ACST/Notebooks/Optimisation/Method20241028Dim2_qMaxValueEntropy/AxExperiment.json`.\n",
      "[INFO 10-29 16:23:39] ax.core.experiment: Attached custom parameterizations [{'x1': -10.0, 'x2': -10.0}] as trial 0.\n",
      "[INFO 10-29 16:23:39] ax.core.experiment: Attached custom parameterizations [{'x1': 0.0, 'x2': -10.0}] as trial 1.\n",
      "[INFO 10-29 16:23:39] ax.core.experiment: Attached custom parameterizations [{'x1': 10.0, 'x2': -10.0}] as trial 2.\n",
      "[INFO 10-29 16:23:39] ax.core.experiment: Attached custom parameterizations [{'x1': -10.0, 'x2': 0.0}] as trial 3.\n",
      "[INFO 10-29 16:23:39] ax.core.experiment: Attached custom parameterizations [{'x1': 0.0, 'x2': 0.0}] as trial 4.\n",
      "[INFO 10-29 16:23:39] ax.core.experiment: Attached custom parameterizations [{'x1': 10.0, 'x2': 0.0}] as trial 5.\n",
      "[INFO 10-29 16:23:39] ax.core.experiment: Attached custom parameterizations [{'x1': -10.0, 'x2': 10.0}] as trial 6.\n",
      "[INFO 10-29 16:23:39] ax.core.experiment: Attached custom parameterizations [{'x1': 0.0, 'x2': 10.0}] as trial 7.\n",
      "[INFO 10-29 16:23:39] ax.core.experiment: Attached custom parameterizations [{'x1': 10.0, 'x2': 10.0}] as trial 8.\n",
      "[INFO 10-29 16:23:39] ax.service.ax_client: Saved JSON-serialized state of optimization to `/Users/thomasdodd/Library/CloudStorage/OneDrive-MillfieldEnterprisesLimited/Cambridge/GitHub/BO4ACST/Notebooks/Optimisation/Method20241028Dim2_qMaxValueEntropy/AxExperiment.json`.\n",
      "[WARNING 10-29 16:23:39] ax.service.utils.report_utils: Column reason missing for all trials. Not appending column.\n",
      "[INFO 10-29 16:23:39] ax.service.utils.report_utils: No results present for the specified metrics `[Metric('t1')]`. Returning arm parameters and metadata only.\n",
      "[WARNING 10-29 16:23:39] ax.service.utils.report_utils: Column reason missing for all trials. Not appending column.\n",
      "[INFO 10-29 16:23:39] ax.service.utils.report_utils: No results present for the specified metrics `[Metric('t1')]`. Returning arm parameters and metadata only.\n",
      "[INFO 10-29 16:23:39] ax.service.ax_client: Completed trial 0 with data: {'t1': (2594.0, None)}.\n",
      "[INFO 10-29 16:23:39] ax.service.ax_client: Saved JSON-serialized state of optimization to `/Users/thomasdodd/Library/CloudStorage/OneDrive-MillfieldEnterprisesLimited/Cambridge/GitHub/BO4ACST/Notebooks/Optimisation/Method20241028Dim2_qMaxValueEntropy/AxExperiment.json`.\n",
      "[INFO 10-29 16:23:39] ax.service.ax_client: Completed trial 1 with data: {'t1': (954.0, None)}.\n",
      "[INFO 10-29 16:23:39] ax.service.ax_client: Saved JSON-serialized state of optimization to `/Users/thomasdodd/Library/CloudStorage/OneDrive-MillfieldEnterprisesLimited/Cambridge/GitHub/BO4ACST/Notebooks/Optimisation/Method20241028Dim2_qMaxValueEntropy/AxExperiment.json`.\n",
      "[INFO 10-29 16:23:39] ax.service.ax_client: Completed trial 2 with data: {'t1': (314.0, None)}.\n",
      "[INFO 10-29 16:23:39] ax.service.ax_client: Saved JSON-serialized state of optimization to `/Users/thomasdodd/Library/CloudStorage/OneDrive-MillfieldEnterprisesLimited/Cambridge/GitHub/BO4ACST/Notebooks/Optimisation/Method20241028Dim2_qMaxValueEntropy/AxExperiment.json`.\n",
      "[INFO 10-29 16:23:39] ax.service.ax_client: Completed trial 3 with data: {'t1': (914.0, None)}.\n",
      "[INFO 10-29 16:23:39] ax.service.ax_client: Saved JSON-serialized state of optimization to `/Users/thomasdodd/Library/CloudStorage/OneDrive-MillfieldEnterprisesLimited/Cambridge/GitHub/BO4ACST/Notebooks/Optimisation/Method20241028Dim2_qMaxValueEntropy/AxExperiment.json`.\n",
      "[INFO 10-29 16:23:39] ax.service.ax_client: Completed trial 4 with data: {'t1': (74.0, None)}.\n",
      "[INFO 10-29 16:23:39] ax.service.ax_client: Saved JSON-serialized state of optimization to `/Users/thomasdodd/Library/CloudStorage/OneDrive-MillfieldEnterprisesLimited/Cambridge/GitHub/BO4ACST/Notebooks/Optimisation/Method20241028Dim2_qMaxValueEntropy/AxExperiment.json`.\n",
      "[INFO 10-29 16:23:39] ax.service.ax_client: Completed trial 5 with data: {'t1': (234.0, None)}.\n",
      "[INFO 10-29 16:23:39] ax.service.ax_client: Saved JSON-serialized state of optimization to `/Users/thomasdodd/Library/CloudStorage/OneDrive-MillfieldEnterprisesLimited/Cambridge/GitHub/BO4ACST/Notebooks/Optimisation/Method20241028Dim2_qMaxValueEntropy/AxExperiment.json`.\n",
      "[INFO 10-29 16:23:39] ax.service.ax_client: Completed trial 6 with data: {'t1': (234.0, None)}.\n",
      "[INFO 10-29 16:23:39] ax.service.ax_client: Saved JSON-serialized state of optimization to `/Users/thomasdodd/Library/CloudStorage/OneDrive-MillfieldEnterprisesLimited/Cambridge/GitHub/BO4ACST/Notebooks/Optimisation/Method20241028Dim2_qMaxValueEntropy/AxExperiment.json`.\n",
      "[INFO 10-29 16:23:39] ax.service.ax_client: Completed trial 7 with data: {'t1': (194.0, None)}.\n",
      "[INFO 10-29 16:23:39] ax.service.ax_client: Saved JSON-serialized state of optimization to `/Users/thomasdodd/Library/CloudStorage/OneDrive-MillfieldEnterprisesLimited/Cambridge/GitHub/BO4ACST/Notebooks/Optimisation/Method20241028Dim2_qMaxValueEntropy/AxExperiment.json`.\n",
      "[INFO 10-29 16:23:39] ax.service.ax_client: Completed trial 8 with data: {'t1': (1154.0, None)}.\n",
      "[INFO 10-29 16:23:39] ax.service.ax_client: Saved JSON-serialized state of optimization to `/Users/thomasdodd/Library/CloudStorage/OneDrive-MillfieldEnterprisesLimited/Cambridge/GitHub/BO4ACST/Notebooks/Optimisation/Method20241028Dim2_qMaxValueEntropy/AxExperiment.json`.\n",
      "[WARNING 10-29 16:23:40] ax.service.utils.report_utils: Column reason missing for all trials. Not appending column.\n",
      "[WARNING 10-29 16:23:40] ax.service.utils.report_utils: Column reason missing for all trials. Not appending column.\n"
     ]
    },
    {
     "name": "stdout",
     "output_type": "stream",
     "text": [
      "[74.         46.85629328 46.85629328  8.22693756  0.78735276  0.78735276\n",
      "  0.78735276  0.78735276  0.78735276  0.78735276  0.78735276  0.78735276\n",
      "  0.78735276  0.78735276  0.78735276  0.78735276]\n",
      "A new experiment has been created and initialised.\n",
      "No previous or current trials detected - initialising prior-forming trials.\n",
      "Samples gridded = 9\n",
      "There are no trials currently running - initialising Bayesian iteration trials.\n"
     ]
    },
    {
     "name": "stderr",
     "output_type": "stream",
     "text": [
      "[INFO 10-29 16:23:40] ax.service.ax_client: Generated new trial 9 with parameters {'x1': -3.777881, 'x2': 5.948918} using model BoTorch.\n",
      "[INFO 10-29 16:23:40] ax.service.ax_client: Saved JSON-serialized state of optimization to `/Users/thomasdodd/Library/CloudStorage/OneDrive-MillfieldEnterprisesLimited/Cambridge/GitHub/BO4ACST/Notebooks/Optimisation/Method20241028Dim2_qMaxValueEntropy/AxExperiment.json`.\n",
      "/Users/thomasdodd/miniconda3/envs/BO4ACST_env/lib/python3.11/site-packages/ax/core/data.py:288: FutureWarning: The behavior of DataFrame concatenation with empty or all-NA entries is deprecated. In a future version, this will no longer exclude empty or all-NA columns when determining the result dtypes. To retain the old behavior, exclude the relevant entries before the concat operation.\n",
      "  return cls(df=pd.concat(dfs, axis=0, sort=True))\n",
      "[WARNING 10-29 16:23:40] ax.service.utils.report_utils: Column reason missing for all trials. Not appending column.\n",
      "/Users/thomasdodd/miniconda3/envs/BO4ACST_env/lib/python3.11/site-packages/ax/core/data.py:288: FutureWarning: The behavior of DataFrame concatenation with empty or all-NA entries is deprecated. In a future version, this will no longer exclude empty or all-NA columns when determining the result dtypes. To retain the old behavior, exclude the relevant entries before the concat operation.\n",
      "  return cls(df=pd.concat(dfs, axis=0, sort=True))\n",
      "[WARNING 10-29 16:23:40] ax.service.utils.report_utils: Column reason missing for all trials. Not appending column.\n",
      "[INFO 10-29 16:23:40] ax.service.ax_client: Completed trial 9 with data: {'t1': (44.904693, None)}.\n",
      "[INFO 10-29 16:23:40] ax.service.ax_client: Saved JSON-serialized state of optimization to `/Users/thomasdodd/Library/CloudStorage/OneDrive-MillfieldEnterprisesLimited/Cambridge/GitHub/BO4ACST/Notebooks/Optimisation/Method20241028Dim2_qMaxValueEntropy/AxExperiment.json`.\n",
      "[WARNING 10-29 16:23:40] ax.service.utils.report_utils: Column reason missing for all trials. Not appending column.\n",
      "[WARNING 10-29 16:23:40] ax.service.utils.report_utils: Column reason missing for all trials. Not appending column.\n"
     ]
    },
    {
     "name": "stdout",
     "output_type": "stream",
     "text": [
      "There are no trials currently running - initialising Bayesian iteration trials.\n"
     ]
    },
    {
     "name": "stderr",
     "output_type": "stream",
     "text": [
      "[INFO 10-29 16:23:41] ax.service.ax_client: Generated new trial 10 with parameters {'x1': 5.620225, 'x2': -3.043361} using model BoTorch.\n",
      "[INFO 10-29 16:23:41] ax.service.ax_client: Saved JSON-serialized state of optimization to `/Users/thomasdodd/Library/CloudStorage/OneDrive-MillfieldEnterprisesLimited/Cambridge/GitHub/BO4ACST/Notebooks/Optimisation/Method20241028Dim2_qMaxValueEntropy/AxExperiment.json`.\n",
      "/Users/thomasdodd/miniconda3/envs/BO4ACST_env/lib/python3.11/site-packages/ax/core/data.py:288: FutureWarning: The behavior of DataFrame concatenation with empty or all-NA entries is deprecated. In a future version, this will no longer exclude empty or all-NA columns when determining the result dtypes. To retain the old behavior, exclude the relevant entries before the concat operation.\n",
      "  return cls(df=pd.concat(dfs, axis=0, sort=True))\n",
      "[WARNING 10-29 16:23:41] ax.service.utils.report_utils: Column reason missing for all trials. Not appending column.\n",
      "/Users/thomasdodd/miniconda3/envs/BO4ACST_env/lib/python3.11/site-packages/ax/core/data.py:288: FutureWarning: The behavior of DataFrame concatenation with empty or all-NA entries is deprecated. In a future version, this will no longer exclude empty or all-NA columns when determining the result dtypes. To retain the old behavior, exclude the relevant entries before the concat operation.\n",
      "  return cls(df=pd.concat(dfs, axis=0, sort=True))\n",
      "[WARNING 10-29 16:23:41] ax.service.utils.report_utils: Column reason missing for all trials. Not appending column.\n",
      "[INFO 10-29 16:23:41] ax.service.ax_client: Completed trial 10 with data: {'t1': (65.969947, None)}.\n",
      "[INFO 10-29 16:23:41] ax.service.ax_client: Saved JSON-serialized state of optimization to `/Users/thomasdodd/Library/CloudStorage/OneDrive-MillfieldEnterprisesLimited/Cambridge/GitHub/BO4ACST/Notebooks/Optimisation/Method20241028Dim2_qMaxValueEntropy/AxExperiment.json`.\n",
      "[WARNING 10-29 16:23:41] ax.service.utils.report_utils: Column reason missing for all trials. Not appending column.\n",
      "[WARNING 10-29 16:23:41] ax.service.utils.report_utils: Column reason missing for all trials. Not appending column.\n"
     ]
    },
    {
     "name": "stdout",
     "output_type": "stream",
     "text": [
      "There are no trials currently running - initialising Bayesian iteration trials.\n"
     ]
    },
    {
     "name": "stderr",
     "output_type": "stream",
     "text": [
      "[INFO 10-29 16:23:42] ax.service.ax_client: Generated new trial 11 with parameters {'x1': 2.234622, 'x2': 3.099044} using model BoTorch.\n",
      "[INFO 10-29 16:23:42] ax.service.ax_client: Saved JSON-serialized state of optimization to `/Users/thomasdodd/Library/CloudStorage/OneDrive-MillfieldEnterprisesLimited/Cambridge/GitHub/BO4ACST/Notebooks/Optimisation/Method20241028Dim2_qMaxValueEntropy/AxExperiment.json`.\n",
      "/Users/thomasdodd/miniconda3/envs/BO4ACST_env/lib/python3.11/site-packages/ax/core/data.py:288: FutureWarning: The behavior of DataFrame concatenation with empty or all-NA entries is deprecated. In a future version, this will no longer exclude empty or all-NA columns when determining the result dtypes. To retain the old behavior, exclude the relevant entries before the concat operation.\n",
      "  return cls(df=pd.concat(dfs, axis=0, sort=True))\n",
      "[WARNING 10-29 16:23:42] ax.service.utils.report_utils: Column reason missing for all trials. Not appending column.\n",
      "/Users/thomasdodd/miniconda3/envs/BO4ACST_env/lib/python3.11/site-packages/ax/core/data.py:288: FutureWarning: The behavior of DataFrame concatenation with empty or all-NA entries is deprecated. In a future version, this will no longer exclude empty or all-NA columns when determining the result dtypes. To retain the old behavior, exclude the relevant entries before the concat operation.\n",
      "  return cls(df=pd.concat(dfs, axis=0, sort=True))\n",
      "[WARNING 10-29 16:23:42] ax.service.utils.report_utils: Column reason missing for all trials. Not appending column.\n",
      "[INFO 10-29 16:23:42] ax.service.ax_client: Completed trial 11 with data: {'t1': (8.64877, None)}.\n",
      "[INFO 10-29 16:23:42] ax.service.ax_client: Saved JSON-serialized state of optimization to `/Users/thomasdodd/Library/CloudStorage/OneDrive-MillfieldEnterprisesLimited/Cambridge/GitHub/BO4ACST/Notebooks/Optimisation/Method20241028Dim2_qMaxValueEntropy/AxExperiment.json`.\n",
      "[WARNING 10-29 16:23:42] ax.service.utils.report_utils: Column reason missing for all trials. Not appending column.\n",
      "[WARNING 10-29 16:23:42] ax.service.utils.report_utils: Column reason missing for all trials. Not appending column.\n"
     ]
    },
    {
     "name": "stdout",
     "output_type": "stream",
     "text": [
      "There are no trials currently running - initialising Bayesian iteration trials.\n"
     ]
    },
    {
     "name": "stderr",
     "output_type": "stream",
     "text": [
      "[INFO 10-29 16:23:43] ax.service.ax_client: Generated new trial 12 with parameters {'x1': 1.228893, 'x2': 3.265268} using model BoTorch.\n",
      "[INFO 10-29 16:23:43] ax.service.ax_client: Saved JSON-serialized state of optimization to `/Users/thomasdodd/Library/CloudStorage/OneDrive-MillfieldEnterprisesLimited/Cambridge/GitHub/BO4ACST/Notebooks/Optimisation/Method20241028Dim2_qMaxValueEntropy/AxExperiment.json`.\n",
      "/Users/thomasdodd/miniconda3/envs/BO4ACST_env/lib/python3.11/site-packages/ax/core/data.py:288: FutureWarning: The behavior of DataFrame concatenation with empty or all-NA entries is deprecated. In a future version, this will no longer exclude empty or all-NA columns when determining the result dtypes. To retain the old behavior, exclude the relevant entries before the concat operation.\n",
      "  return cls(df=pd.concat(dfs, axis=0, sort=True))\n",
      "[WARNING 10-29 16:23:43] ax.service.utils.report_utils: Column reason missing for all trials. Not appending column.\n",
      "/Users/thomasdodd/miniconda3/envs/BO4ACST_env/lib/python3.11/site-packages/ax/core/data.py:288: FutureWarning: The behavior of DataFrame concatenation with empty or all-NA entries is deprecated. In a future version, this will no longer exclude empty or all-NA columns when determining the result dtypes. To retain the old behavior, exclude the relevant entries before the concat operation.\n",
      "  return cls(df=pd.concat(dfs, axis=0, sort=True))\n",
      "[WARNING 10-29 16:23:43] ax.service.utils.report_utils: Column reason missing for all trials. Not appending column.\n",
      "[INFO 10-29 16:23:43] ax.service.ax_client: Completed trial 12 with data: {'t1': (1.099542, None)}.\n",
      "[INFO 10-29 16:23:43] ax.service.ax_client: Saved JSON-serialized state of optimization to `/Users/thomasdodd/Library/CloudStorage/OneDrive-MillfieldEnterprisesLimited/Cambridge/GitHub/BO4ACST/Notebooks/Optimisation/Method20241028Dim2_qMaxValueEntropy/AxExperiment.json`.\n",
      "[WARNING 10-29 16:23:43] ax.service.utils.report_utils: Column reason missing for all trials. Not appending column.\n",
      "[WARNING 10-29 16:23:43] ax.service.utils.report_utils: Column reason missing for all trials. Not appending column.\n"
     ]
    },
    {
     "name": "stdout",
     "output_type": "stream",
     "text": [
      "There are no trials currently running - initialising Bayesian iteration trials.\n"
     ]
    },
    {
     "name": "stderr",
     "output_type": "stream",
     "text": [
      "[INFO 10-29 16:23:44] ax.service.ax_client: Generated new trial 13 with parameters {'x1': -2.749589, 'x2': 5.91421} using model BoTorch.\n",
      "[INFO 10-29 16:23:44] ax.service.ax_client: Saved JSON-serialized state of optimization to `/Users/thomasdodd/Library/CloudStorage/OneDrive-MillfieldEnterprisesLimited/Cambridge/GitHub/BO4ACST/Notebooks/Optimisation/Method20241028Dim2_qMaxValueEntropy/AxExperiment.json`.\n",
      "/Users/thomasdodd/miniconda3/envs/BO4ACST_env/lib/python3.11/site-packages/ax/core/data.py:288: FutureWarning: The behavior of DataFrame concatenation with empty or all-NA entries is deprecated. In a future version, this will no longer exclude empty or all-NA columns when determining the result dtypes. To retain the old behavior, exclude the relevant entries before the concat operation.\n",
      "  return cls(df=pd.concat(dfs, axis=0, sort=True))\n",
      "[WARNING 10-29 16:23:44] ax.service.utils.report_utils: Column reason missing for all trials. Not appending column.\n",
      "/Users/thomasdodd/miniconda3/envs/BO4ACST_env/lib/python3.11/site-packages/ax/core/data.py:288: FutureWarning: The behavior of DataFrame concatenation with empty or all-NA entries is deprecated. In a future version, this will no longer exclude empty or all-NA columns when determining the result dtypes. To retain the old behavior, exclude the relevant entries before the concat operation.\n",
      "  return cls(df=pd.concat(dfs, axis=0, sort=True))\n",
      "[WARNING 10-29 16:23:44] ax.service.utils.report_utils: Column reason missing for all trials. Not appending column.\n",
      "[INFO 10-29 16:23:44] ax.service.ax_client: Completed trial 13 with data: {'t1': (25.343474, None)}.\n",
      "[INFO 10-29 16:23:44] ax.service.ax_client: Saved JSON-serialized state of optimization to `/Users/thomasdodd/Library/CloudStorage/OneDrive-MillfieldEnterprisesLimited/Cambridge/GitHub/BO4ACST/Notebooks/Optimisation/Method20241028Dim2_qMaxValueEntropy/AxExperiment.json`.\n",
      "[WARNING 10-29 16:23:44] ax.service.utils.report_utils: Column reason missing for all trials. Not appending column.\n",
      "[WARNING 10-29 16:23:44] ax.service.utils.report_utils: Column reason missing for all trials. Not appending column.\n"
     ]
    },
    {
     "name": "stdout",
     "output_type": "stream",
     "text": [
      "There are no trials currently running - initialising Bayesian iteration trials.\n"
     ]
    },
    {
     "name": "stderr",
     "output_type": "stream",
     "text": [
      "[INFO 10-29 16:23:45] ax.service.ax_client: Generated new trial 14 with parameters {'x1': 2.912963, 'x2': 1.404084} using model BoTorch.\n",
      "[INFO 10-29 16:23:45] ax.service.ax_client: Saved JSON-serialized state of optimization to `/Users/thomasdodd/Library/CloudStorage/OneDrive-MillfieldEnterprisesLimited/Cambridge/GitHub/BO4ACST/Notebooks/Optimisation/Method20241028Dim2_qMaxValueEntropy/AxExperiment.json`.\n",
      "/Users/thomasdodd/miniconda3/envs/BO4ACST_env/lib/python3.11/site-packages/ax/core/data.py:288: FutureWarning: The behavior of DataFrame concatenation with empty or all-NA entries is deprecated. In a future version, this will no longer exclude empty or all-NA columns when determining the result dtypes. To retain the old behavior, exclude the relevant entries before the concat operation.\n",
      "  return cls(df=pd.concat(dfs, axis=0, sort=True))\n",
      "[WARNING 10-29 16:23:45] ax.service.utils.report_utils: Column reason missing for all trials. Not appending column.\n",
      "/Users/thomasdodd/miniconda3/envs/BO4ACST_env/lib/python3.11/site-packages/ax/core/data.py:288: FutureWarning: The behavior of DataFrame concatenation with empty or all-NA entries is deprecated. In a future version, this will no longer exclude empty or all-NA columns when determining the result dtypes. To retain the old behavior, exclude the relevant entries before the concat operation.\n",
      "  return cls(df=pd.concat(dfs, axis=0, sort=True))\n",
      "[WARNING 10-29 16:23:45] ax.service.utils.report_utils: Column reason missing for all trials. Not appending column.\n",
      "[INFO 10-29 16:23:45] ax.service.ax_client: Completed trial 14 with data: {'t1': (6.608451, None)}.\n",
      "[INFO 10-29 16:23:45] ax.service.ax_client: Saved JSON-serialized state of optimization to `/Users/thomasdodd/Library/CloudStorage/OneDrive-MillfieldEnterprisesLimited/Cambridge/GitHub/BO4ACST/Notebooks/Optimisation/Method20241028Dim2_qMaxValueEntropy/AxExperiment.json`.\n",
      "[WARNING 10-29 16:23:45] ax.service.utils.report_utils: Column reason missing for all trials. Not appending column.\n",
      "[WARNING 10-29 16:23:45] ax.service.utils.report_utils: Column reason missing for all trials. Not appending column.\n"
     ]
    },
    {
     "name": "stdout",
     "output_type": "stream",
     "text": [
      "There are no trials currently running - initialising Bayesian iteration trials.\n"
     ]
    },
    {
     "name": "stderr",
     "output_type": "stream",
     "text": [
      "[INFO 10-29 16:23:46] ax.service.ax_client: Generated new trial 15 with parameters {'x1': 0.236801, 'x2': 3.60159} using model BoTorch.\n",
      "[INFO 10-29 16:23:46] ax.service.ax_client: Saved JSON-serialized state of optimization to `/Users/thomasdodd/Library/CloudStorage/OneDrive-MillfieldEnterprisesLimited/Cambridge/GitHub/BO4ACST/Notebooks/Optimisation/Method20241028Dim2_qMaxValueEntropy/AxExperiment.json`.\n",
      "/Users/thomasdodd/miniconda3/envs/BO4ACST_env/lib/python3.11/site-packages/ax/core/data.py:288: FutureWarning: The behavior of DataFrame concatenation with empty or all-NA entries is deprecated. In a future version, this will no longer exclude empty or all-NA columns when determining the result dtypes. To retain the old behavior, exclude the relevant entries before the concat operation.\n",
      "  return cls(df=pd.concat(dfs, axis=0, sort=True))\n",
      "[WARNING 10-29 16:23:46] ax.service.utils.report_utils: Column reason missing for all trials. Not appending column.\n",
      "/Users/thomasdodd/miniconda3/envs/BO4ACST_env/lib/python3.11/site-packages/ax/core/data.py:288: FutureWarning: The behavior of DataFrame concatenation with empty or all-NA entries is deprecated. In a future version, this will no longer exclude empty or all-NA columns when determining the result dtypes. To retain the old behavior, exclude the relevant entries before the concat operation.\n",
      "  return cls(df=pd.concat(dfs, axis=0, sort=True))\n",
      "[WARNING 10-29 16:23:46] ax.service.utils.report_utils: Column reason missing for all trials. Not appending column.\n",
      "[INFO 10-29 16:23:46] ax.service.ax_client: Completed trial 15 with data: {'t1': (1.048853, None)}.\n",
      "[INFO 10-29 16:23:46] ax.service.ax_client: Saved JSON-serialized state of optimization to `/Users/thomasdodd/Library/CloudStorage/OneDrive-MillfieldEnterprisesLimited/Cambridge/GitHub/BO4ACST/Notebooks/Optimisation/Method20241028Dim2_qMaxValueEntropy/AxExperiment.json`.\n",
      "[WARNING 10-29 16:23:46] ax.service.utils.report_utils: Column reason missing for all trials. Not appending column.\n",
      "[WARNING 10-29 16:23:46] ax.service.utils.report_utils: Column reason missing for all trials. Not appending column.\n"
     ]
    },
    {
     "name": "stdout",
     "output_type": "stream",
     "text": [
      "There are no trials currently running - initialising Bayesian iteration trials.\n"
     ]
    },
    {
     "name": "stderr",
     "output_type": "stream",
     "text": [
      "[INFO 10-29 16:23:46] ax.service.ax_client: Generated new trial 16 with parameters {'x1': -4.823557, 'x2': 10.0} using model BoTorch.\n",
      "[INFO 10-29 16:23:46] ax.service.ax_client: Saved JSON-serialized state of optimization to `/Users/thomasdodd/Library/CloudStorage/OneDrive-MillfieldEnterprisesLimited/Cambridge/GitHub/BO4ACST/Notebooks/Optimisation/Method20241028Dim2_qMaxValueEntropy/AxExperiment.json`.\n",
      "/Users/thomasdodd/miniconda3/envs/BO4ACST_env/lib/python3.11/site-packages/ax/core/data.py:288: FutureWarning: The behavior of DataFrame concatenation with empty or all-NA entries is deprecated. In a future version, this will no longer exclude empty or all-NA columns when determining the result dtypes. To retain the old behavior, exclude the relevant entries before the concat operation.\n",
      "  return cls(df=pd.concat(dfs, axis=0, sort=True))\n",
      "[WARNING 10-29 16:23:46] ax.service.utils.report_utils: Column reason missing for all trials. Not appending column.\n",
      "/Users/thomasdodd/miniconda3/envs/BO4ACST_env/lib/python3.11/site-packages/ax/core/data.py:288: FutureWarning: The behavior of DataFrame concatenation with empty or all-NA entries is deprecated. In a future version, this will no longer exclude empty or all-NA columns when determining the result dtypes. To retain the old behavior, exclude the relevant entries before the concat operation.\n",
      "  return cls(df=pd.concat(dfs, axis=0, sort=True))\n",
      "[WARNING 10-29 16:23:46] ax.service.utils.report_utils: Column reason missing for all trials. Not appending column.\n",
      "[INFO 10-29 16:23:46] ax.service.ax_client: Completed trial 16 with data: {'t1': (88.44989, None)}.\n",
      "[INFO 10-29 16:23:46] ax.service.ax_client: Saved JSON-serialized state of optimization to `/Users/thomasdodd/Library/CloudStorage/OneDrive-MillfieldEnterprisesLimited/Cambridge/GitHub/BO4ACST/Notebooks/Optimisation/Method20241028Dim2_qMaxValueEntropy/AxExperiment.json`.\n",
      "[WARNING 10-29 16:23:46] ax.service.utils.report_utils: Column reason missing for all trials. Not appending column.\n",
      "[WARNING 10-29 16:23:46] ax.service.utils.report_utils: Column reason missing for all trials. Not appending column.\n"
     ]
    },
    {
     "name": "stdout",
     "output_type": "stream",
     "text": [
      "There are no trials currently running - initialising Bayesian iteration trials.\n"
     ]
    },
    {
     "name": "stderr",
     "output_type": "stream",
     "text": [
      "[INFO 10-29 16:23:47] ax.service.ax_client: Generated new trial 17 with parameters {'x1': 2.245106, 'x2': 1.513237} using model BoTorch.\n",
      "[INFO 10-29 16:23:47] ax.service.ax_client: Saved JSON-serialized state of optimization to `/Users/thomasdodd/Library/CloudStorage/OneDrive-MillfieldEnterprisesLimited/Cambridge/GitHub/BO4ACST/Notebooks/Optimisation/Method20241028Dim2_qMaxValueEntropy/AxExperiment.json`.\n",
      "/Users/thomasdodd/miniconda3/envs/BO4ACST_env/lib/python3.11/site-packages/ax/core/data.py:288: FutureWarning: The behavior of DataFrame concatenation with empty or all-NA entries is deprecated. In a future version, this will no longer exclude empty or all-NA columns when determining the result dtypes. To retain the old behavior, exclude the relevant entries before the concat operation.\n",
      "  return cls(df=pd.concat(dfs, axis=0, sort=True))\n",
      "[WARNING 10-29 16:23:47] ax.service.utils.report_utils: Column reason missing for all trials. Not appending column.\n",
      "/Users/thomasdodd/miniconda3/envs/BO4ACST_env/lib/python3.11/site-packages/ax/core/data.py:288: FutureWarning: The behavior of DataFrame concatenation with empty or all-NA entries is deprecated. In a future version, this will no longer exclude empty or all-NA columns when determining the result dtypes. To retain the old behavior, exclude the relevant entries before the concat operation.\n",
      "  return cls(df=pd.concat(dfs, axis=0, sort=True))\n",
      "[WARNING 10-29 16:23:47] ax.service.utils.report_utils: Column reason missing for all trials. Not appending column.\n",
      "[INFO 10-29 16:23:47] ax.service.ax_client: Completed trial 17 with data: {'t1': (3.994344, None)}.\n",
      "[INFO 10-29 16:23:47] ax.service.ax_client: Saved JSON-serialized state of optimization to `/Users/thomasdodd/Library/CloudStorage/OneDrive-MillfieldEnterprisesLimited/Cambridge/GitHub/BO4ACST/Notebooks/Optimisation/Method20241028Dim2_qMaxValueEntropy/AxExperiment.json`.\n",
      "[WARNING 10-29 16:23:47] ax.service.utils.report_utils: Column reason missing for all trials. Not appending column.\n",
      "[WARNING 10-29 16:23:47] ax.service.utils.report_utils: Column reason missing for all trials. Not appending column.\n"
     ]
    },
    {
     "name": "stdout",
     "output_type": "stream",
     "text": [
      "There are no trials currently running - initialising Bayesian iteration trials.\n"
     ]
    },
    {
     "name": "stderr",
     "output_type": "stream",
     "text": [
      "[INFO 10-29 16:23:48] ax.service.ax_client: Generated new trial 18 with parameters {'x1': 0.152226, 'x2': 3.411036} using model BoTorch.\n",
      "[INFO 10-29 16:23:48] ax.service.ax_client: Saved JSON-serialized state of optimization to `/Users/thomasdodd/Library/CloudStorage/OneDrive-MillfieldEnterprisesLimited/Cambridge/GitHub/BO4ACST/Notebooks/Optimisation/Method20241028Dim2_qMaxValueEntropy/AxExperiment.json`.\n",
      "/Users/thomasdodd/miniconda3/envs/BO4ACST_env/lib/python3.11/site-packages/ax/core/data.py:288: FutureWarning: The behavior of DataFrame concatenation with empty or all-NA entries is deprecated. In a future version, this will no longer exclude empty or all-NA columns when determining the result dtypes. To retain the old behavior, exclude the relevant entries before the concat operation.\n",
      "  return cls(df=pd.concat(dfs, axis=0, sort=True))\n",
      "[WARNING 10-29 16:23:48] ax.service.utils.report_utils: Column reason missing for all trials. Not appending column.\n",
      "/Users/thomasdodd/miniconda3/envs/BO4ACST_env/lib/python3.11/site-packages/ax/core/data.py:288: FutureWarning: The behavior of DataFrame concatenation with empty or all-NA entries is deprecated. In a future version, this will no longer exclude empty or all-NA columns when determining the result dtypes. To retain the old behavior, exclude the relevant entries before the concat operation.\n",
      "  return cls(df=pd.concat(dfs, axis=0, sort=True))\n",
      "[WARNING 10-29 16:23:48] ax.service.utils.report_utils: Column reason missing for all trials. Not appending column.\n",
      "[INFO 10-29 16:23:48] ax.service.ax_client: Completed trial 18 with data: {'t1': (1.650632, None)}.\n",
      "[INFO 10-29 16:23:48] ax.service.ax_client: Saved JSON-serialized state of optimization to `/Users/thomasdodd/Library/CloudStorage/OneDrive-MillfieldEnterprisesLimited/Cambridge/GitHub/BO4ACST/Notebooks/Optimisation/Method20241028Dim2_qMaxValueEntropy/AxExperiment.json`.\n",
      "[WARNING 10-29 16:23:48] ax.service.utils.report_utils: Column reason missing for all trials. Not appending column.\n",
      "[WARNING 10-29 16:23:48] ax.service.utils.report_utils: Column reason missing for all trials. Not appending column.\n"
     ]
    },
    {
     "name": "stdout",
     "output_type": "stream",
     "text": [
      "There are no trials currently running - initialising Bayesian iteration trials.\n"
     ]
    },
    {
     "name": "stderr",
     "output_type": "stream",
     "text": [
      "[INFO 10-29 16:23:49] ax.service.ax_client: Generated new trial 19 with parameters {'x1': 0.450427, 'x2': 3.073832} using model BoTorch.\n",
      "[INFO 10-29 16:23:49] ax.service.ax_client: Saved JSON-serialized state of optimization to `/Users/thomasdodd/Library/CloudStorage/OneDrive-MillfieldEnterprisesLimited/Cambridge/GitHub/BO4ACST/Notebooks/Optimisation/Method20241028Dim2_qMaxValueEntropy/AxExperiment.json`.\n",
      "/Users/thomasdodd/miniconda3/envs/BO4ACST_env/lib/python3.11/site-packages/ax/core/data.py:288: FutureWarning: The behavior of DataFrame concatenation with empty or all-NA entries is deprecated. In a future version, this will no longer exclude empty or all-NA columns when determining the result dtypes. To retain the old behavior, exclude the relevant entries before the concat operation.\n",
      "  return cls(df=pd.concat(dfs, axis=0, sort=True))\n",
      "[WARNING 10-29 16:23:49] ax.service.utils.report_utils: Column reason missing for all trials. Not appending column.\n",
      "/Users/thomasdodd/miniconda3/envs/BO4ACST_env/lib/python3.11/site-packages/ax/core/data.py:288: FutureWarning: The behavior of DataFrame concatenation with empty or all-NA entries is deprecated. In a future version, this will no longer exclude empty or all-NA columns when determining the result dtypes. To retain the old behavior, exclude the relevant entries before the concat operation.\n",
      "  return cls(df=pd.concat(dfs, axis=0, sort=True))\n",
      "[WARNING 10-29 16:23:49] ax.service.utils.report_utils: Column reason missing for all trials. Not appending column.\n",
      "[INFO 10-29 16:23:49] ax.service.ax_client: Completed trial 19 with data: {'t1': (1.212802, None)}.\n",
      "[INFO 10-29 16:23:49] ax.service.ax_client: Saved JSON-serialized state of optimization to `/Users/thomasdodd/Library/CloudStorage/OneDrive-MillfieldEnterprisesLimited/Cambridge/GitHub/BO4ACST/Notebooks/Optimisation/Method20241028Dim2_qMaxValueEntropy/AxExperiment.json`.\n",
      "[WARNING 10-29 16:23:49] ax.service.utils.report_utils: Column reason missing for all trials. Not appending column.\n",
      "[WARNING 10-29 16:23:49] ax.service.utils.report_utils: Column reason missing for all trials. Not appending column.\n"
     ]
    },
    {
     "name": "stdout",
     "output_type": "stream",
     "text": [
      "There are no trials currently running - initialising Bayesian iteration trials.\n"
     ]
    },
    {
     "name": "stderr",
     "output_type": "stream",
     "text": [
      "[INFO 10-29 16:23:51] ax.service.ax_client: Generated new trial 20 with parameters {'x1': 2.141305, 'x2': 1.514261} using model BoTorch.\n",
      "[INFO 10-29 16:23:51] ax.service.ax_client: Saved JSON-serialized state of optimization to `/Users/thomasdodd/Library/CloudStorage/OneDrive-MillfieldEnterprisesLimited/Cambridge/GitHub/BO4ACST/Notebooks/Optimisation/Method20241028Dim2_qMaxValueEntropy/AxExperiment.json`.\n",
      "/Users/thomasdodd/miniconda3/envs/BO4ACST_env/lib/python3.11/site-packages/ax/core/data.py:288: FutureWarning: The behavior of DataFrame concatenation with empty or all-NA entries is deprecated. In a future version, this will no longer exclude empty or all-NA columns when determining the result dtypes. To retain the old behavior, exclude the relevant entries before the concat operation.\n",
      "  return cls(df=pd.concat(dfs, axis=0, sort=True))\n",
      "[WARNING 10-29 16:23:51] ax.service.utils.report_utils: Column reason missing for all trials. Not appending column.\n",
      "/Users/thomasdodd/miniconda3/envs/BO4ACST_env/lib/python3.11/site-packages/ax/core/data.py:288: FutureWarning: The behavior of DataFrame concatenation with empty or all-NA entries is deprecated. In a future version, this will no longer exclude empty or all-NA columns when determining the result dtypes. To retain the old behavior, exclude the relevant entries before the concat operation.\n",
      "  return cls(df=pd.concat(dfs, axis=0, sort=True))\n",
      "[WARNING 10-29 16:23:51] ax.service.utils.report_utils: Column reason missing for all trials. Not appending column.\n",
      "[INFO 10-29 16:23:51] ax.service.ax_client: Completed trial 20 with data: {'t1': (3.984537, None)}.\n",
      "[INFO 10-29 16:23:51] ax.service.ax_client: Saved JSON-serialized state of optimization to `/Users/thomasdodd/Library/CloudStorage/OneDrive-MillfieldEnterprisesLimited/Cambridge/GitHub/BO4ACST/Notebooks/Optimisation/Method20241028Dim2_qMaxValueEntropy/AxExperiment.json`.\n",
      "[WARNING 10-29 16:23:51] ax.service.utils.report_utils: Column reason missing for all trials. Not appending column.\n",
      "[WARNING 10-29 16:23:51] ax.service.utils.report_utils: Column reason missing for all trials. Not appending column.\n"
     ]
    },
    {
     "name": "stdout",
     "output_type": "stream",
     "text": [
      "There are no trials currently running - initialising Bayesian iteration trials.\n"
     ]
    },
    {
     "name": "stderr",
     "output_type": "stream",
     "text": [
      "[INFO 10-29 16:23:51] ax.service.ax_client: Generated new trial 21 with parameters {'x1': 0.313889, 'x2': 3.258998} using model BoTorch.\n",
      "[INFO 10-29 16:23:51] ax.service.ax_client: Saved JSON-serialized state of optimization to `/Users/thomasdodd/Library/CloudStorage/OneDrive-MillfieldEnterprisesLimited/Cambridge/GitHub/BO4ACST/Notebooks/Optimisation/Method20241028Dim2_qMaxValueEntropy/AxExperiment.json`.\n",
      "/Users/thomasdodd/miniconda3/envs/BO4ACST_env/lib/python3.11/site-packages/ax/core/data.py:288: FutureWarning: The behavior of DataFrame concatenation with empty or all-NA entries is deprecated. In a future version, this will no longer exclude empty or all-NA columns when determining the result dtypes. To retain the old behavior, exclude the relevant entries before the concat operation.\n",
      "  return cls(df=pd.concat(dfs, axis=0, sort=True))\n",
      "[WARNING 10-29 16:23:51] ax.service.utils.report_utils: Column reason missing for all trials. Not appending column.\n",
      "/Users/thomasdodd/miniconda3/envs/BO4ACST_env/lib/python3.11/site-packages/ax/core/data.py:288: FutureWarning: The behavior of DataFrame concatenation with empty or all-NA entries is deprecated. In a future version, this will no longer exclude empty or all-NA columns when determining the result dtypes. To retain the old behavior, exclude the relevant entries before the concat operation.\n",
      "  return cls(df=pd.concat(dfs, axis=0, sort=True))\n",
      "[WARNING 10-29 16:23:52] ax.service.utils.report_utils: Column reason missing for all trials. Not appending column.\n",
      "[INFO 10-29 16:23:52] ax.service.ax_client: Completed trial 21 with data: {'t1': (1.26753, None)}.\n",
      "[INFO 10-29 16:23:52] ax.service.ax_client: Saved JSON-serialized state of optimization to `/Users/thomasdodd/Library/CloudStorage/OneDrive-MillfieldEnterprisesLimited/Cambridge/GitHub/BO4ACST/Notebooks/Optimisation/Method20241028Dim2_qMaxValueEntropy/AxExperiment.json`.\n",
      "[WARNING 10-29 16:23:52] ax.service.utils.report_utils: Column reason missing for all trials. Not appending column.\n",
      "[WARNING 10-29 16:23:52] ax.service.utils.report_utils: Column reason missing for all trials. Not appending column.\n"
     ]
    },
    {
     "name": "stdout",
     "output_type": "stream",
     "text": [
      "There are no trials currently running - initialising Bayesian iteration trials.\n"
     ]
    },
    {
     "name": "stderr",
     "output_type": "stream",
     "text": [
      "[INFO 10-29 16:23:52] ax.service.ax_client: Generated new trial 22 with parameters {'x1': 0.514861, 'x2': 3.04337} using model BoTorch.\n",
      "[INFO 10-29 16:23:52] ax.service.ax_client: Saved JSON-serialized state of optimization to `/Users/thomasdodd/Library/CloudStorage/OneDrive-MillfieldEnterprisesLimited/Cambridge/GitHub/BO4ACST/Notebooks/Optimisation/Method20241028Dim2_qMaxValueEntropy/AxExperiment.json`.\n",
      "/Users/thomasdodd/miniconda3/envs/BO4ACST_env/lib/python3.11/site-packages/ax/core/data.py:288: FutureWarning: The behavior of DataFrame concatenation with empty or all-NA entries is deprecated. In a future version, this will no longer exclude empty or all-NA columns when determining the result dtypes. To retain the old behavior, exclude the relevant entries before the concat operation.\n",
      "  return cls(df=pd.concat(dfs, axis=0, sort=True))\n",
      "[WARNING 10-29 16:23:52] ax.service.utils.report_utils: Column reason missing for all trials. Not appending column.\n",
      "/Users/thomasdodd/miniconda3/envs/BO4ACST_env/lib/python3.11/site-packages/ax/core/data.py:288: FutureWarning: The behavior of DataFrame concatenation with empty or all-NA entries is deprecated. In a future version, this will no longer exclude empty or all-NA columns when determining the result dtypes. To retain the old behavior, exclude the relevant entries before the concat operation.\n",
      "  return cls(df=pd.concat(dfs, axis=0, sort=True))\n",
      "[WARNING 10-29 16:23:52] ax.service.utils.report_utils: Column reason missing for all trials. Not appending column.\n",
      "[INFO 10-29 16:23:52] ax.service.ax_client: Completed trial 22 with data: {'t1': (1.017881, None)}.\n",
      "[INFO 10-29 16:23:52] ax.service.ax_client: Saved JSON-serialized state of optimization to `/Users/thomasdodd/Library/CloudStorage/OneDrive-MillfieldEnterprisesLimited/Cambridge/GitHub/BO4ACST/Notebooks/Optimisation/Method20241028Dim2_qMaxValueEntropy/AxExperiment.json`.\n",
      "[WARNING 10-29 16:23:52] ax.service.utils.report_utils: Column reason missing for all trials. Not appending column.\n",
      "[WARNING 10-29 16:23:52] ax.service.utils.report_utils: Column reason missing for all trials. Not appending column.\n"
     ]
    },
    {
     "name": "stdout",
     "output_type": "stream",
     "text": [
      "There are no trials currently running - initialising Bayesian iteration trials.\n"
     ]
    },
    {
     "name": "stderr",
     "output_type": "stream",
     "text": [
      "[INFO 10-29 16:23:53] ax.service.ax_client: Generated new trial 23 with parameters {'x1': 1.558935, 'x2': 2.016583} using model BoTorch.\n",
      "[INFO 10-29 16:23:53] ax.service.ax_client: Saved JSON-serialized state of optimization to `/Users/thomasdodd/Library/CloudStorage/OneDrive-MillfieldEnterprisesLimited/Cambridge/GitHub/BO4ACST/Notebooks/Optimisation/Method20241028Dim2_qMaxValueEntropy/AxExperiment.json`.\n",
      "/Users/thomasdodd/miniconda3/envs/BO4ACST_env/lib/python3.11/site-packages/ax/core/data.py:288: FutureWarning: The behavior of DataFrame concatenation with empty or all-NA entries is deprecated. In a future version, this will no longer exclude empty or all-NA columns when determining the result dtypes. To retain the old behavior, exclude the relevant entries before the concat operation.\n",
      "  return cls(df=pd.concat(dfs, axis=0, sort=True))\n",
      "[WARNING 10-29 16:23:53] ax.service.utils.report_utils: Column reason missing for all trials. Not appending column.\n",
      "/Users/thomasdodd/miniconda3/envs/BO4ACST_env/lib/python3.11/site-packages/ax/core/data.py:288: FutureWarning: The behavior of DataFrame concatenation with empty or all-NA entries is deprecated. In a future version, this will no longer exclude empty or all-NA columns when determining the result dtypes. To retain the old behavior, exclude the relevant entries before the concat operation.\n",
      "  return cls(df=pd.concat(dfs, axis=0, sort=True))\n",
      "[WARNING 10-29 16:23:54] ax.service.utils.report_utils: Column reason missing for all trials. Not appending column.\n",
      "[INFO 10-29 16:23:54] ax.service.ax_client: Completed trial 23 with data: {'t1': (2.000259, None)}.\n",
      "[INFO 10-29 16:23:54] ax.service.ax_client: Saved JSON-serialized state of optimization to `/Users/thomasdodd/Library/CloudStorage/OneDrive-MillfieldEnterprisesLimited/Cambridge/GitHub/BO4ACST/Notebooks/Optimisation/Method20241028Dim2_qMaxValueEntropy/AxExperiment.json`.\n",
      "[WARNING 10-29 16:23:54] ax.service.utils.report_utils: Column reason missing for all trials. Not appending column.\n",
      "[INFO 10-29 16:23:54] ax.service.ax_client: Starting optimization with verbose logging. To disable logging, set the `verbose_logging` argument to `False`. Note that float values in the logs are rounded to 6 decimal points.\n",
      "[INFO 10-29 16:23:54] ax.service.utils.instantiation: Created search space: SearchSpace(parameters=[RangeParameter(name='x1', parameter_type=FLOAT, range=[-10.0, 10.0]), RangeParameter(name='x2', parameter_type=FLOAT, range=[-10.0, 10.0])], parameter_constraints=[]).\n",
      "[INFO 10-29 16:23:54] ax.service.ax_client: Saved JSON-serialized state of optimization to `/Users/thomasdodd/Library/CloudStorage/OneDrive-MillfieldEnterprisesLimited/Cambridge/GitHub/BO4ACST/Notebooks/Optimisation/Method20241028Dim2_qMaxValueEntropy/AxExperiment.json`.\n",
      "[INFO 10-29 16:23:54] ax.core.experiment: Attached custom parameterizations [{'x1': -10.0, 'x2': -10.0}] as trial 0.\n",
      "[INFO 10-29 16:23:54] ax.core.experiment: Attached custom parameterizations [{'x1': 0.0, 'x2': -10.0}] as trial 1.\n",
      "[INFO 10-29 16:23:54] ax.core.experiment: Attached custom parameterizations [{'x1': 10.0, 'x2': -10.0}] as trial 2.\n",
      "[INFO 10-29 16:23:54] ax.core.experiment: Attached custom parameterizations [{'x1': -10.0, 'x2': 0.0}] as trial 3.\n",
      "[INFO 10-29 16:23:54] ax.core.experiment: Attached custom parameterizations [{'x1': 0.0, 'x2': 0.0}] as trial 4.\n",
      "[INFO 10-29 16:23:54] ax.core.experiment: Attached custom parameterizations [{'x1': 10.0, 'x2': 0.0}] as trial 5.\n",
      "[INFO 10-29 16:23:54] ax.core.experiment: Attached custom parameterizations [{'x1': -10.0, 'x2': 10.0}] as trial 6.\n",
      "[INFO 10-29 16:23:54] ax.core.experiment: Attached custom parameterizations [{'x1': 0.0, 'x2': 10.0}] as trial 7.\n",
      "[INFO 10-29 16:23:54] ax.core.experiment: Attached custom parameterizations [{'x1': 10.0, 'x2': 10.0}] as trial 8.\n",
      "[INFO 10-29 16:23:54] ax.service.ax_client: Saved JSON-serialized state of optimization to `/Users/thomasdodd/Library/CloudStorage/OneDrive-MillfieldEnterprisesLimited/Cambridge/GitHub/BO4ACST/Notebooks/Optimisation/Method20241028Dim2_qMaxValueEntropy/AxExperiment.json`.\n",
      "[WARNING 10-29 16:23:54] ax.service.utils.report_utils: Column reason missing for all trials. Not appending column.\n",
      "[INFO 10-29 16:23:54] ax.service.utils.report_utils: No results present for the specified metrics `[Metric('t1')]`. Returning arm parameters and metadata only.\n",
      "[WARNING 10-29 16:23:54] ax.service.utils.report_utils: Column reason missing for all trials. Not appending column.\n",
      "[INFO 10-29 16:23:54] ax.service.utils.report_utils: No results present for the specified metrics `[Metric('t1')]`. Returning arm parameters and metadata only.\n",
      "[INFO 10-29 16:23:54] ax.service.ax_client: Completed trial 0 with data: {'t1': (2594.0, None)}.\n",
      "[INFO 10-29 16:23:54] ax.service.ax_client: Saved JSON-serialized state of optimization to `/Users/thomasdodd/Library/CloudStorage/OneDrive-MillfieldEnterprisesLimited/Cambridge/GitHub/BO4ACST/Notebooks/Optimisation/Method20241028Dim2_qMaxValueEntropy/AxExperiment.json`.\n",
      "[INFO 10-29 16:23:54] ax.service.ax_client: Completed trial 1 with data: {'t1': (954.0, None)}.\n",
      "[INFO 10-29 16:23:54] ax.service.ax_client: Saved JSON-serialized state of optimization to `/Users/thomasdodd/Library/CloudStorage/OneDrive-MillfieldEnterprisesLimited/Cambridge/GitHub/BO4ACST/Notebooks/Optimisation/Method20241028Dim2_qMaxValueEntropy/AxExperiment.json`.\n",
      "[INFO 10-29 16:23:54] ax.service.ax_client: Completed trial 2 with data: {'t1': (314.0, None)}.\n",
      "[INFO 10-29 16:23:54] ax.service.ax_client: Saved JSON-serialized state of optimization to `/Users/thomasdodd/Library/CloudStorage/OneDrive-MillfieldEnterprisesLimited/Cambridge/GitHub/BO4ACST/Notebooks/Optimisation/Method20241028Dim2_qMaxValueEntropy/AxExperiment.json`.\n",
      "[INFO 10-29 16:23:54] ax.service.ax_client: Completed trial 3 with data: {'t1': (914.0, None)}.\n",
      "[INFO 10-29 16:23:54] ax.service.ax_client: Saved JSON-serialized state of optimization to `/Users/thomasdodd/Library/CloudStorage/OneDrive-MillfieldEnterprisesLimited/Cambridge/GitHub/BO4ACST/Notebooks/Optimisation/Method20241028Dim2_qMaxValueEntropy/AxExperiment.json`.\n",
      "[INFO 10-29 16:23:54] ax.service.ax_client: Completed trial 4 with data: {'t1': (74.0, None)}.\n",
      "[INFO 10-29 16:23:54] ax.service.ax_client: Saved JSON-serialized state of optimization to `/Users/thomasdodd/Library/CloudStorage/OneDrive-MillfieldEnterprisesLimited/Cambridge/GitHub/BO4ACST/Notebooks/Optimisation/Method20241028Dim2_qMaxValueEntropy/AxExperiment.json`.\n",
      "[INFO 10-29 16:23:54] ax.service.ax_client: Completed trial 5 with data: {'t1': (234.0, None)}.\n",
      "[INFO 10-29 16:23:54] ax.service.ax_client: Saved JSON-serialized state of optimization to `/Users/thomasdodd/Library/CloudStorage/OneDrive-MillfieldEnterprisesLimited/Cambridge/GitHub/BO4ACST/Notebooks/Optimisation/Method20241028Dim2_qMaxValueEntropy/AxExperiment.json`.\n",
      "[INFO 10-29 16:23:54] ax.service.ax_client: Completed trial 6 with data: {'t1': (234.0, None)}.\n",
      "[INFO 10-29 16:23:54] ax.service.ax_client: Saved JSON-serialized state of optimization to `/Users/thomasdodd/Library/CloudStorage/OneDrive-MillfieldEnterprisesLimited/Cambridge/GitHub/BO4ACST/Notebooks/Optimisation/Method20241028Dim2_qMaxValueEntropy/AxExperiment.json`.\n",
      "[INFO 10-29 16:23:54] ax.service.ax_client: Completed trial 7 with data: {'t1': (194.0, None)}.\n",
      "[INFO 10-29 16:23:54] ax.service.ax_client: Saved JSON-serialized state of optimization to `/Users/thomasdodd/Library/CloudStorage/OneDrive-MillfieldEnterprisesLimited/Cambridge/GitHub/BO4ACST/Notebooks/Optimisation/Method20241028Dim2_qMaxValueEntropy/AxExperiment.json`.\n",
      "[INFO 10-29 16:23:54] ax.service.ax_client: Completed trial 8 with data: {'t1': (1154.0, None)}.\n",
      "[INFO 10-29 16:23:54] ax.service.ax_client: Saved JSON-serialized state of optimization to `/Users/thomasdodd/Library/CloudStorage/OneDrive-MillfieldEnterprisesLimited/Cambridge/GitHub/BO4ACST/Notebooks/Optimisation/Method20241028Dim2_qMaxValueEntropy/AxExperiment.json`.\n",
      "[WARNING 10-29 16:23:54] ax.service.utils.report_utils: Column reason missing for all trials. Not appending column.\n",
      "[WARNING 10-29 16:23:54] ax.service.utils.report_utils: Column reason missing for all trials. Not appending column.\n"
     ]
    },
    {
     "name": "stdout",
     "output_type": "stream",
     "text": [
      "[74.         44.9046933  44.9046933   8.64876979  1.09954219  1.09954219\n",
      "  1.09954219  1.04885333  1.04885333  1.04885333  1.04885333  1.04885333\n",
      "  1.04885333  1.04885333  1.01788117  1.01788117]\n",
      "A new experiment has been created and initialised.\n",
      "No previous or current trials detected - initialising prior-forming trials.\n",
      "Samples gridded = 9\n",
      "There are no trials currently running - initialising Bayesian iteration trials.\n"
     ]
    },
    {
     "name": "stderr",
     "output_type": "stream",
     "text": [
      "[INFO 10-29 16:23:54] ax.service.ax_client: Generated new trial 9 with parameters {'x1': -3.760762, 'x2': 5.949325} using model BoTorch.\n",
      "[INFO 10-29 16:23:54] ax.service.ax_client: Saved JSON-serialized state of optimization to `/Users/thomasdodd/Library/CloudStorage/OneDrive-MillfieldEnterprisesLimited/Cambridge/GitHub/BO4ACST/Notebooks/Optimisation/Method20241028Dim2_qMaxValueEntropy/AxExperiment.json`.\n",
      "/Users/thomasdodd/miniconda3/envs/BO4ACST_env/lib/python3.11/site-packages/ax/core/data.py:288: FutureWarning: The behavior of DataFrame concatenation with empty or all-NA entries is deprecated. In a future version, this will no longer exclude empty or all-NA columns when determining the result dtypes. To retain the old behavior, exclude the relevant entries before the concat operation.\n",
      "  return cls(df=pd.concat(dfs, axis=0, sort=True))\n",
      "[WARNING 10-29 16:23:54] ax.service.utils.report_utils: Column reason missing for all trials. Not appending column.\n",
      "/Users/thomasdodd/miniconda3/envs/BO4ACST_env/lib/python3.11/site-packages/ax/core/data.py:288: FutureWarning: The behavior of DataFrame concatenation with empty or all-NA entries is deprecated. In a future version, this will no longer exclude empty or all-NA columns when determining the result dtypes. To retain the old behavior, exclude the relevant entries before the concat operation.\n",
      "  return cls(df=pd.concat(dfs, axis=0, sort=True))\n",
      "[WARNING 10-29 16:23:54] ax.service.utils.report_utils: Column reason missing for all trials. Not appending column.\n",
      "[INFO 10-29 16:23:54] ax.service.ax_client: Completed trial 9 with data: {'t1': (44.4886, None)}.\n",
      "[INFO 10-29 16:23:54] ax.service.ax_client: Saved JSON-serialized state of optimization to `/Users/thomasdodd/Library/CloudStorage/OneDrive-MillfieldEnterprisesLimited/Cambridge/GitHub/BO4ACST/Notebooks/Optimisation/Method20241028Dim2_qMaxValueEntropy/AxExperiment.json`.\n",
      "[WARNING 10-29 16:23:54] ax.service.utils.report_utils: Column reason missing for all trials. Not appending column.\n",
      "[WARNING 10-29 16:23:54] ax.service.utils.report_utils: Column reason missing for all trials. Not appending column.\n"
     ]
    },
    {
     "name": "stdout",
     "output_type": "stream",
     "text": [
      "There are no trials currently running - initialising Bayesian iteration trials.\n"
     ]
    },
    {
     "name": "stderr",
     "output_type": "stream",
     "text": [
      "[INFO 10-29 16:23:55] ax.service.ax_client: Generated new trial 10 with parameters {'x1': 5.593059, 'x2': -2.967468} using model BoTorch.\n",
      "[INFO 10-29 16:23:55] ax.service.ax_client: Saved JSON-serialized state of optimization to `/Users/thomasdodd/Library/CloudStorage/OneDrive-MillfieldEnterprisesLimited/Cambridge/GitHub/BO4ACST/Notebooks/Optimisation/Method20241028Dim2_qMaxValueEntropy/AxExperiment.json`.\n",
      "/Users/thomasdodd/miniconda3/envs/BO4ACST_env/lib/python3.11/site-packages/ax/core/data.py:288: FutureWarning: The behavior of DataFrame concatenation with empty or all-NA entries is deprecated. In a future version, this will no longer exclude empty or all-NA columns when determining the result dtypes. To retain the old behavior, exclude the relevant entries before the concat operation.\n",
      "  return cls(df=pd.concat(dfs, axis=0, sort=True))\n",
      "[WARNING 10-29 16:23:55] ax.service.utils.report_utils: Column reason missing for all trials. Not appending column.\n",
      "/Users/thomasdodd/miniconda3/envs/BO4ACST_env/lib/python3.11/site-packages/ax/core/data.py:288: FutureWarning: The behavior of DataFrame concatenation with empty or all-NA entries is deprecated. In a future version, this will no longer exclude empty or all-NA columns when determining the result dtypes. To retain the old behavior, exclude the relevant entries before the concat operation.\n",
      "  return cls(df=pd.concat(dfs, axis=0, sort=True))\n",
      "[WARNING 10-29 16:23:55] ax.service.utils.report_utils: Column reason missing for all trials. Not appending column.\n",
      "[INFO 10-29 16:23:55] ax.service.ax_client: Completed trial 10 with data: {'t1': (64.262865, None)}.\n",
      "[INFO 10-29 16:23:55] ax.service.ax_client: Saved JSON-serialized state of optimization to `/Users/thomasdodd/Library/CloudStorage/OneDrive-MillfieldEnterprisesLimited/Cambridge/GitHub/BO4ACST/Notebooks/Optimisation/Method20241028Dim2_qMaxValueEntropy/AxExperiment.json`.\n",
      "[WARNING 10-29 16:23:55] ax.service.utils.report_utils: Column reason missing for all trials. Not appending column.\n",
      "[WARNING 10-29 16:23:55] ax.service.utils.report_utils: Column reason missing for all trials. Not appending column.\n"
     ]
    },
    {
     "name": "stdout",
     "output_type": "stream",
     "text": [
      "There are no trials currently running - initialising Bayesian iteration trials.\n"
     ]
    },
    {
     "name": "stderr",
     "output_type": "stream",
     "text": [
      "[INFO 10-29 16:23:56] ax.service.ax_client: Generated new trial 11 with parameters {'x1': 2.142314, 'x2': 3.082885} using model BoTorch.\n",
      "[INFO 10-29 16:23:56] ax.service.ax_client: Saved JSON-serialized state of optimization to `/Users/thomasdodd/Library/CloudStorage/OneDrive-MillfieldEnterprisesLimited/Cambridge/GitHub/BO4ACST/Notebooks/Optimisation/Method20241028Dim2_qMaxValueEntropy/AxExperiment.json`.\n",
      "/Users/thomasdodd/miniconda3/envs/BO4ACST_env/lib/python3.11/site-packages/ax/core/data.py:288: FutureWarning: The behavior of DataFrame concatenation with empty or all-NA entries is deprecated. In a future version, this will no longer exclude empty or all-NA columns when determining the result dtypes. To retain the old behavior, exclude the relevant entries before the concat operation.\n",
      "  return cls(df=pd.concat(dfs, axis=0, sort=True))\n",
      "[WARNING 10-29 16:23:56] ax.service.utils.report_utils: Column reason missing for all trials. Not appending column.\n",
      "/Users/thomasdodd/miniconda3/envs/BO4ACST_env/lib/python3.11/site-packages/ax/core/data.py:288: FutureWarning: The behavior of DataFrame concatenation with empty or all-NA entries is deprecated. In a future version, this will no longer exclude empty or all-NA columns when determining the result dtypes. To retain the old behavior, exclude the relevant entries before the concat operation.\n",
      "  return cls(df=pd.concat(dfs, axis=0, sort=True))\n",
      "[WARNING 10-29 16:23:56] ax.service.utils.report_utils: Column reason missing for all trials. Not appending column.\n",
      "[INFO 10-29 16:23:56] ax.service.ax_client: Completed trial 11 with data: {'t1': (7.3162, None)}.\n",
      "[INFO 10-29 16:23:56] ax.service.ax_client: Saved JSON-serialized state of optimization to `/Users/thomasdodd/Library/CloudStorage/OneDrive-MillfieldEnterprisesLimited/Cambridge/GitHub/BO4ACST/Notebooks/Optimisation/Method20241028Dim2_qMaxValueEntropy/AxExperiment.json`.\n",
      "[WARNING 10-29 16:23:56] ax.service.utils.report_utils: Column reason missing for all trials. Not appending column.\n",
      "[WARNING 10-29 16:23:56] ax.service.utils.report_utils: Column reason missing for all trials. Not appending column.\n"
     ]
    },
    {
     "name": "stdout",
     "output_type": "stream",
     "text": [
      "There are no trials currently running - initialising Bayesian iteration trials.\n"
     ]
    },
    {
     "name": "stderr",
     "output_type": "stream",
     "text": [
      "[INFO 10-29 16:23:57] ax.service.ax_client: Generated new trial 12 with parameters {'x1': 1.186981, 'x2': 3.268991} using model BoTorch.\n",
      "[INFO 10-29 16:23:57] ax.service.ax_client: Saved JSON-serialized state of optimization to `/Users/thomasdodd/Library/CloudStorage/OneDrive-MillfieldEnterprisesLimited/Cambridge/GitHub/BO4ACST/Notebooks/Optimisation/Method20241028Dim2_qMaxValueEntropy/AxExperiment.json`.\n",
      "/Users/thomasdodd/miniconda3/envs/BO4ACST_env/lib/python3.11/site-packages/ax/core/data.py:288: FutureWarning: The behavior of DataFrame concatenation with empty or all-NA entries is deprecated. In a future version, this will no longer exclude empty or all-NA columns when determining the result dtypes. To retain the old behavior, exclude the relevant entries before the concat operation.\n",
      "  return cls(df=pd.concat(dfs, axis=0, sort=True))\n",
      "[WARNING 10-29 16:23:57] ax.service.utils.report_utils: Column reason missing for all trials. Not appending column.\n",
      "/Users/thomasdodd/miniconda3/envs/BO4ACST_env/lib/python3.11/site-packages/ax/core/data.py:288: FutureWarning: The behavior of DataFrame concatenation with empty or all-NA entries is deprecated. In a future version, this will no longer exclude empty or all-NA columns when determining the result dtypes. To retain the old behavior, exclude the relevant entries before the concat operation.\n",
      "  return cls(df=pd.concat(dfs, axis=0, sort=True))\n",
      "[WARNING 10-29 16:23:57] ax.service.utils.report_utils: Column reason missing for all trials. Not appending column.\n",
      "[INFO 10-29 16:23:57] ax.service.ax_client: Completed trial 12 with data: {'t1': (0.938961, None)}.\n",
      "[INFO 10-29 16:23:57] ax.service.ax_client: Saved JSON-serialized state of optimization to `/Users/thomasdodd/Library/CloudStorage/OneDrive-MillfieldEnterprisesLimited/Cambridge/GitHub/BO4ACST/Notebooks/Optimisation/Method20241028Dim2_qMaxValueEntropy/AxExperiment.json`.\n",
      "[WARNING 10-29 16:23:57] ax.service.utils.report_utils: Column reason missing for all trials. Not appending column.\n",
      "[WARNING 10-29 16:23:57] ax.service.utils.report_utils: Column reason missing for all trials. Not appending column.\n"
     ]
    },
    {
     "name": "stdout",
     "output_type": "stream",
     "text": [
      "There are no trials currently running - initialising Bayesian iteration trials.\n"
     ]
    },
    {
     "name": "stderr",
     "output_type": "stream",
     "text": [
      "[INFO 10-29 16:23:58] ax.service.ax_client: Generated new trial 13 with parameters {'x1': -2.820485, 'x2': 5.970066} using model BoTorch.\n",
      "[INFO 10-29 16:23:58] ax.service.ax_client: Saved JSON-serialized state of optimization to `/Users/thomasdodd/Library/CloudStorage/OneDrive-MillfieldEnterprisesLimited/Cambridge/GitHub/BO4ACST/Notebooks/Optimisation/Method20241028Dim2_qMaxValueEntropy/AxExperiment.json`.\n",
      "/Users/thomasdodd/miniconda3/envs/BO4ACST_env/lib/python3.11/site-packages/ax/core/data.py:288: FutureWarning: The behavior of DataFrame concatenation with empty or all-NA entries is deprecated. In a future version, this will no longer exclude empty or all-NA columns when determining the result dtypes. To retain the old behavior, exclude the relevant entries before the concat operation.\n",
      "  return cls(df=pd.concat(dfs, axis=0, sort=True))\n",
      "[WARNING 10-29 16:23:58] ax.service.utils.report_utils: Column reason missing for all trials. Not appending column.\n",
      "/Users/thomasdodd/miniconda3/envs/BO4ACST_env/lib/python3.11/site-packages/ax/core/data.py:288: FutureWarning: The behavior of DataFrame concatenation with empty or all-NA entries is deprecated. In a future version, this will no longer exclude empty or all-NA columns when determining the result dtypes. To retain the old behavior, exclude the relevant entries before the concat operation.\n",
      "  return cls(df=pd.concat(dfs, axis=0, sort=True))\n",
      "[WARNING 10-29 16:23:58] ax.service.utils.report_utils: Column reason missing for all trials. Not appending column.\n",
      "[INFO 10-29 16:23:58] ax.service.ax_client: Completed trial 13 with data: {'t1': (26.310247, None)}.\n",
      "[INFO 10-29 16:23:58] ax.service.ax_client: Saved JSON-serialized state of optimization to `/Users/thomasdodd/Library/CloudStorage/OneDrive-MillfieldEnterprisesLimited/Cambridge/GitHub/BO4ACST/Notebooks/Optimisation/Method20241028Dim2_qMaxValueEntropy/AxExperiment.json`.\n",
      "[WARNING 10-29 16:23:58] ax.service.utils.report_utils: Column reason missing for all trials. Not appending column.\n",
      "[WARNING 10-29 16:23:58] ax.service.utils.report_utils: Column reason missing for all trials. Not appending column.\n"
     ]
    },
    {
     "name": "stdout",
     "output_type": "stream",
     "text": [
      "There are no trials currently running - initialising Bayesian iteration trials.\n"
     ]
    },
    {
     "name": "stderr",
     "output_type": "stream",
     "text": [
      "[INFO 10-29 16:23:59] ax.service.ax_client: Generated new trial 14 with parameters {'x1': 2.744857, 'x2': 1.557001} using model BoTorch.\n",
      "[INFO 10-29 16:23:59] ax.service.ax_client: Saved JSON-serialized state of optimization to `/Users/thomasdodd/Library/CloudStorage/OneDrive-MillfieldEnterprisesLimited/Cambridge/GitHub/BO4ACST/Notebooks/Optimisation/Method20241028Dim2_qMaxValueEntropy/AxExperiment.json`.\n",
      "/Users/thomasdodd/miniconda3/envs/BO4ACST_env/lib/python3.11/site-packages/ax/core/data.py:288: FutureWarning: The behavior of DataFrame concatenation with empty or all-NA entries is deprecated. In a future version, this will no longer exclude empty or all-NA columns when determining the result dtypes. To retain the old behavior, exclude the relevant entries before the concat operation.\n",
      "  return cls(df=pd.concat(dfs, axis=0, sort=True))\n",
      "[WARNING 10-29 16:23:59] ax.service.utils.report_utils: Column reason missing for all trials. Not appending column.\n",
      "/Users/thomasdodd/miniconda3/envs/BO4ACST_env/lib/python3.11/site-packages/ax/core/data.py:288: FutureWarning: The behavior of DataFrame concatenation with empty or all-NA entries is deprecated. In a future version, this will no longer exclude empty or all-NA columns when determining the result dtypes. To retain the old behavior, exclude the relevant entries before the concat operation.\n",
      "  return cls(df=pd.concat(dfs, axis=0, sort=True))\n",
      "[WARNING 10-29 16:23:59] ax.service.utils.report_utils: Column reason missing for all trials. Not appending column.\n",
      "[INFO 10-29 16:23:59] ax.service.ax_client: Completed trial 14 with data: {'t1': (5.491243, None)}.\n",
      "[INFO 10-29 16:23:59] ax.service.ax_client: Saved JSON-serialized state of optimization to `/Users/thomasdodd/Library/CloudStorage/OneDrive-MillfieldEnterprisesLimited/Cambridge/GitHub/BO4ACST/Notebooks/Optimisation/Method20241028Dim2_qMaxValueEntropy/AxExperiment.json`.\n",
      "[WARNING 10-29 16:23:59] ax.service.utils.report_utils: Column reason missing for all trials. Not appending column.\n",
      "[WARNING 10-29 16:23:59] ax.service.utils.report_utils: Column reason missing for all trials. Not appending column.\n"
     ]
    },
    {
     "name": "stdout",
     "output_type": "stream",
     "text": [
      "There are no trials currently running - initialising Bayesian iteration trials.\n"
     ]
    },
    {
     "name": "stderr",
     "output_type": "stream",
     "text": [
      "[INFO 10-29 16:24:00] ax.service.ax_client: Generated new trial 15 with parameters {'x1': 0.228884, 'x2': 3.620164} using model BoTorch.\n",
      "[INFO 10-29 16:24:00] ax.service.ax_client: Saved JSON-serialized state of optimization to `/Users/thomasdodd/Library/CloudStorage/OneDrive-MillfieldEnterprisesLimited/Cambridge/GitHub/BO4ACST/Notebooks/Optimisation/Method20241028Dim2_qMaxValueEntropy/AxExperiment.json`.\n",
      "/Users/thomasdodd/miniconda3/envs/BO4ACST_env/lib/python3.11/site-packages/ax/core/data.py:288: FutureWarning: The behavior of DataFrame concatenation with empty or all-NA entries is deprecated. In a future version, this will no longer exclude empty or all-NA columns when determining the result dtypes. To retain the old behavior, exclude the relevant entries before the concat operation.\n",
      "  return cls(df=pd.concat(dfs, axis=0, sort=True))\n",
      "[WARNING 10-29 16:24:00] ax.service.utils.report_utils: Column reason missing for all trials. Not appending column.\n",
      "/Users/thomasdodd/miniconda3/envs/BO4ACST_env/lib/python3.11/site-packages/ax/core/data.py:288: FutureWarning: The behavior of DataFrame concatenation with empty or all-NA entries is deprecated. In a future version, this will no longer exclude empty or all-NA columns when determining the result dtypes. To retain the old behavior, exclude the relevant entries before the concat operation.\n",
      "  return cls(df=pd.concat(dfs, axis=0, sort=True))\n",
      "[WARNING 10-29 16:24:00] ax.service.utils.report_utils: Column reason missing for all trials. Not appending column.\n",
      "[INFO 10-29 16:24:00] ax.service.ax_client: Completed trial 15 with data: {'t1': (1.07037, None)}.\n",
      "[INFO 10-29 16:24:00] ax.service.ax_client: Saved JSON-serialized state of optimization to `/Users/thomasdodd/Library/CloudStorage/OneDrive-MillfieldEnterprisesLimited/Cambridge/GitHub/BO4ACST/Notebooks/Optimisation/Method20241028Dim2_qMaxValueEntropy/AxExperiment.json`.\n",
      "[WARNING 10-29 16:24:00] ax.service.utils.report_utils: Column reason missing for all trials. Not appending column.\n",
      "[WARNING 10-29 16:24:00] ax.service.utils.report_utils: Column reason missing for all trials. Not appending column.\n"
     ]
    },
    {
     "name": "stdout",
     "output_type": "stream",
     "text": [
      "There are no trials currently running - initialising Bayesian iteration trials.\n"
     ]
    },
    {
     "name": "stderr",
     "output_type": "stream",
     "text": [
      "[INFO 10-29 16:24:01] ax.service.ax_client: Generated new trial 16 with parameters {'x1': 2.844021, 'x2': 1.020963} using model BoTorch.\n",
      "[INFO 10-29 16:24:01] ax.service.ax_client: Saved JSON-serialized state of optimization to `/Users/thomasdodd/Library/CloudStorage/OneDrive-MillfieldEnterprisesLimited/Cambridge/GitHub/BO4ACST/Notebooks/Optimisation/Method20241028Dim2_qMaxValueEntropy/AxExperiment.json`.\n",
      "/Users/thomasdodd/miniconda3/envs/BO4ACST_env/lib/python3.11/site-packages/ax/core/data.py:288: FutureWarning: The behavior of DataFrame concatenation with empty or all-NA entries is deprecated. In a future version, this will no longer exclude empty or all-NA columns when determining the result dtypes. To retain the old behavior, exclude the relevant entries before the concat operation.\n",
      "  return cls(df=pd.concat(dfs, axis=0, sort=True))\n",
      "[WARNING 10-29 16:24:01] ax.service.utils.report_utils: Column reason missing for all trials. Not appending column.\n",
      "/Users/thomasdodd/miniconda3/envs/BO4ACST_env/lib/python3.11/site-packages/ax/core/data.py:288: FutureWarning: The behavior of DataFrame concatenation with empty or all-NA entries is deprecated. In a future version, this will no longer exclude empty or all-NA columns when determining the result dtypes. To retain the old behavior, exclude the relevant entries before the concat operation.\n",
      "  return cls(df=pd.concat(dfs, axis=0, sort=True))\n",
      "[WARNING 10-29 16:24:01] ax.service.utils.report_utils: Column reason missing for all trials. Not appending column.\n",
      "[INFO 10-29 16:24:01] ax.service.ax_client: Completed trial 16 with data: {'t1': (7.389917, None)}.\n",
      "[INFO 10-29 16:24:01] ax.service.ax_client: Saved JSON-serialized state of optimization to `/Users/thomasdodd/Library/CloudStorage/OneDrive-MillfieldEnterprisesLimited/Cambridge/GitHub/BO4ACST/Notebooks/Optimisation/Method20241028Dim2_qMaxValueEntropy/AxExperiment.json`.\n",
      "[WARNING 10-29 16:24:01] ax.service.utils.report_utils: Column reason missing for all trials. Not appending column.\n",
      "[WARNING 10-29 16:24:01] ax.service.utils.report_utils: Column reason missing for all trials. Not appending column.\n"
     ]
    },
    {
     "name": "stdout",
     "output_type": "stream",
     "text": [
      "There are no trials currently running - initialising Bayesian iteration trials.\n"
     ]
    },
    {
     "name": "stderr",
     "output_type": "stream",
     "text": [
      "[INFO 10-29 16:24:02] ax.service.ax_client: Generated new trial 17 with parameters {'x1': 0.005506, 'x2': 3.658875} using model BoTorch.\n",
      "[INFO 10-29 16:24:02] ax.service.ax_client: Saved JSON-serialized state of optimization to `/Users/thomasdodd/Library/CloudStorage/OneDrive-MillfieldEnterprisesLimited/Cambridge/GitHub/BO4ACST/Notebooks/Optimisation/Method20241028Dim2_qMaxValueEntropy/AxExperiment.json`.\n",
      "/Users/thomasdodd/miniconda3/envs/BO4ACST_env/lib/python3.11/site-packages/ax/core/data.py:288: FutureWarning: The behavior of DataFrame concatenation with empty or all-NA entries is deprecated. In a future version, this will no longer exclude empty or all-NA columns when determining the result dtypes. To retain the old behavior, exclude the relevant entries before the concat operation.\n",
      "  return cls(df=pd.concat(dfs, axis=0, sort=True))\n",
      "[WARNING 10-29 16:24:02] ax.service.utils.report_utils: Column reason missing for all trials. Not appending column.\n",
      "/Users/thomasdodd/miniconda3/envs/BO4ACST_env/lib/python3.11/site-packages/ax/core/data.py:288: FutureWarning: The behavior of DataFrame concatenation with empty or all-NA entries is deprecated. In a future version, this will no longer exclude empty or all-NA columns when determining the result dtypes. To retain the old behavior, exclude the relevant entries before the concat operation.\n",
      "  return cls(df=pd.concat(dfs, axis=0, sort=True))\n",
      "[WARNING 10-29 16:24:02] ax.service.utils.report_utils: Column reason missing for all trials. Not appending column.\n",
      "[INFO 10-29 16:24:02] ax.service.ax_client: Completed trial 17 with data: {'t1': (1.873696, None)}.\n",
      "[INFO 10-29 16:24:02] ax.service.ax_client: Saved JSON-serialized state of optimization to `/Users/thomasdodd/Library/CloudStorage/OneDrive-MillfieldEnterprisesLimited/Cambridge/GitHub/BO4ACST/Notebooks/Optimisation/Method20241028Dim2_qMaxValueEntropy/AxExperiment.json`.\n",
      "[WARNING 10-29 16:24:02] ax.service.utils.report_utils: Column reason missing for all trials. Not appending column.\n",
      "[WARNING 10-29 16:24:02] ax.service.utils.report_utils: Column reason missing for all trials. Not appending column.\n"
     ]
    },
    {
     "name": "stdout",
     "output_type": "stream",
     "text": [
      "There are no trials currently running - initialising Bayesian iteration trials.\n"
     ]
    },
    {
     "name": "stderr",
     "output_type": "stream",
     "text": [
      "[INFO 10-29 16:24:03] ax.service.ax_client: Generated new trial 18 with parameters {'x1': 0.168176, 'x2': 3.415341} using model BoTorch.\n",
      "[INFO 10-29 16:24:03] ax.service.ax_client: Saved JSON-serialized state of optimization to `/Users/thomasdodd/Library/CloudStorage/OneDrive-MillfieldEnterprisesLimited/Cambridge/GitHub/BO4ACST/Notebooks/Optimisation/Method20241028Dim2_qMaxValueEntropy/AxExperiment.json`.\n",
      "/Users/thomasdodd/miniconda3/envs/BO4ACST_env/lib/python3.11/site-packages/ax/core/data.py:288: FutureWarning: The behavior of DataFrame concatenation with empty or all-NA entries is deprecated. In a future version, this will no longer exclude empty or all-NA columns when determining the result dtypes. To retain the old behavior, exclude the relevant entries before the concat operation.\n",
      "  return cls(df=pd.concat(dfs, axis=0, sort=True))\n",
      "[WARNING 10-29 16:24:03] ax.service.utils.report_utils: Column reason missing for all trials. Not appending column.\n",
      "/Users/thomasdodd/miniconda3/envs/BO4ACST_env/lib/python3.11/site-packages/ax/core/data.py:288: FutureWarning: The behavior of DataFrame concatenation with empty or all-NA entries is deprecated. In a future version, this will no longer exclude empty or all-NA columns when determining the result dtypes. To retain the old behavior, exclude the relevant entries before the concat operation.\n",
      "  return cls(df=pd.concat(dfs, axis=0, sort=True))\n",
      "[WARNING 10-29 16:24:03] ax.service.utils.report_utils: Column reason missing for all trials. Not appending column.\n",
      "[INFO 10-29 16:24:03] ax.service.ax_client: Completed trial 18 with data: {'t1': (1.558269, None)}.\n",
      "[INFO 10-29 16:24:03] ax.service.ax_client: Saved JSON-serialized state of optimization to `/Users/thomasdodd/Library/CloudStorage/OneDrive-MillfieldEnterprisesLimited/Cambridge/GitHub/BO4ACST/Notebooks/Optimisation/Method20241028Dim2_qMaxValueEntropy/AxExperiment.json`.\n",
      "[WARNING 10-29 16:24:03] ax.service.utils.report_utils: Column reason missing for all trials. Not appending column.\n",
      "[WARNING 10-29 16:24:03] ax.service.utils.report_utils: Column reason missing for all trials. Not appending column.\n"
     ]
    },
    {
     "name": "stdout",
     "output_type": "stream",
     "text": [
      "There are no trials currently running - initialising Bayesian iteration trials.\n"
     ]
    },
    {
     "name": "stderr",
     "output_type": "stream",
     "text": [
      "[INFO 10-29 16:24:04] ax.service.ax_client: Generated new trial 19 with parameters {'x1': 0.43987, 'x2': 3.064878} using model BoTorch.\n",
      "[INFO 10-29 16:24:04] ax.service.ax_client: Saved JSON-serialized state of optimization to `/Users/thomasdodd/Library/CloudStorage/OneDrive-MillfieldEnterprisesLimited/Cambridge/GitHub/BO4ACST/Notebooks/Optimisation/Method20241028Dim2_qMaxValueEntropy/AxExperiment.json`.\n",
      "/Users/thomasdodd/miniconda3/envs/BO4ACST_env/lib/python3.11/site-packages/ax/core/data.py:288: FutureWarning: The behavior of DataFrame concatenation with empty or all-NA entries is deprecated. In a future version, this will no longer exclude empty or all-NA columns when determining the result dtypes. To retain the old behavior, exclude the relevant entries before the concat operation.\n",
      "  return cls(df=pd.concat(dfs, axis=0, sort=True))\n",
      "[WARNING 10-29 16:24:04] ax.service.utils.report_utils: Column reason missing for all trials. Not appending column.\n",
      "/Users/thomasdodd/miniconda3/envs/BO4ACST_env/lib/python3.11/site-packages/ax/core/data.py:288: FutureWarning: The behavior of DataFrame concatenation with empty or all-NA entries is deprecated. In a future version, this will no longer exclude empty or all-NA columns when determining the result dtypes. To retain the old behavior, exclude the relevant entries before the concat operation.\n",
      "  return cls(df=pd.concat(dfs, axis=0, sort=True))\n",
      "[WARNING 10-29 16:24:04] ax.service.utils.report_utils: Column reason missing for all trials. Not appending column.\n",
      "[INFO 10-29 16:24:04] ax.service.ax_client: Completed trial 19 with data: {'t1': (1.299051, None)}.\n",
      "[INFO 10-29 16:24:04] ax.service.ax_client: Saved JSON-serialized state of optimization to `/Users/thomasdodd/Library/CloudStorage/OneDrive-MillfieldEnterprisesLimited/Cambridge/GitHub/BO4ACST/Notebooks/Optimisation/Method20241028Dim2_qMaxValueEntropy/AxExperiment.json`.\n",
      "[WARNING 10-29 16:24:04] ax.service.utils.report_utils: Column reason missing for all trials. Not appending column.\n",
      "[WARNING 10-29 16:24:04] ax.service.utils.report_utils: Column reason missing for all trials. Not appending column.\n"
     ]
    },
    {
     "name": "stdout",
     "output_type": "stream",
     "text": [
      "There are no trials currently running - initialising Bayesian iteration trials.\n"
     ]
    },
    {
     "name": "stderr",
     "output_type": "stream",
     "text": [
      "[INFO 10-29 16:24:05] ax.service.ax_client: Generated new trial 20 with parameters {'x1': 2.104363, 'x2': 1.473056} using model BoTorch.\n",
      "[INFO 10-29 16:24:05] ax.service.ax_client: Saved JSON-serialized state of optimization to `/Users/thomasdodd/Library/CloudStorage/OneDrive-MillfieldEnterprisesLimited/Cambridge/GitHub/BO4ACST/Notebooks/Optimisation/Method20241028Dim2_qMaxValueEntropy/AxExperiment.json`.\n",
      "/Users/thomasdodd/miniconda3/envs/BO4ACST_env/lib/python3.11/site-packages/ax/core/data.py:288: FutureWarning: The behavior of DataFrame concatenation with empty or all-NA entries is deprecated. In a future version, this will no longer exclude empty or all-NA columns when determining the result dtypes. To retain the old behavior, exclude the relevant entries before the concat operation.\n",
      "  return cls(df=pd.concat(dfs, axis=0, sort=True))\n",
      "[WARNING 10-29 16:24:05] ax.service.utils.report_utils: Column reason missing for all trials. Not appending column.\n",
      "/Users/thomasdodd/miniconda3/envs/BO4ACST_env/lib/python3.11/site-packages/ax/core/data.py:288: FutureWarning: The behavior of DataFrame concatenation with empty or all-NA entries is deprecated. In a future version, this will no longer exclude empty or all-NA columns when determining the result dtypes. To retain the old behavior, exclude the relevant entries before the concat operation.\n",
      "  return cls(df=pd.concat(dfs, axis=0, sort=True))\n",
      "[WARNING 10-29 16:24:05] ax.service.utils.report_utils: Column reason missing for all trials. Not appending column.\n",
      "[INFO 10-29 16:24:05] ax.service.ax_client: Completed trial 20 with data: {'t1': (4.265476, None)}.\n",
      "[INFO 10-29 16:24:05] ax.service.ax_client: Saved JSON-serialized state of optimization to `/Users/thomasdodd/Library/CloudStorage/OneDrive-MillfieldEnterprisesLimited/Cambridge/GitHub/BO4ACST/Notebooks/Optimisation/Method20241028Dim2_qMaxValueEntropy/AxExperiment.json`.\n",
      "[WARNING 10-29 16:24:05] ax.service.utils.report_utils: Column reason missing for all trials. Not appending column.\n",
      "[WARNING 10-29 16:24:05] ax.service.utils.report_utils: Column reason missing for all trials. Not appending column.\n"
     ]
    },
    {
     "name": "stdout",
     "output_type": "stream",
     "text": [
      "There are no trials currently running - initialising Bayesian iteration trials.\n"
     ]
    },
    {
     "name": "stderr",
     "output_type": "stream",
     "text": [
      "[INFO 10-29 16:24:06] ax.service.ax_client: Generated new trial 21 with parameters {'x1': 0.316304, 'x2': 3.249492} using model BoTorch.\n",
      "[INFO 10-29 16:24:06] ax.service.ax_client: Saved JSON-serialized state of optimization to `/Users/thomasdodd/Library/CloudStorage/OneDrive-MillfieldEnterprisesLimited/Cambridge/GitHub/BO4ACST/Notebooks/Optimisation/Method20241028Dim2_qMaxValueEntropy/AxExperiment.json`.\n",
      "/Users/thomasdodd/miniconda3/envs/BO4ACST_env/lib/python3.11/site-packages/ax/core/data.py:288: FutureWarning: The behavior of DataFrame concatenation with empty or all-NA entries is deprecated. In a future version, this will no longer exclude empty or all-NA columns when determining the result dtypes. To retain the old behavior, exclude the relevant entries before the concat operation.\n",
      "  return cls(df=pd.concat(dfs, axis=0, sort=True))\n",
      "[WARNING 10-29 16:24:06] ax.service.utils.report_utils: Column reason missing for all trials. Not appending column.\n",
      "/Users/thomasdodd/miniconda3/envs/BO4ACST_env/lib/python3.11/site-packages/ax/core/data.py:288: FutureWarning: The behavior of DataFrame concatenation with empty or all-NA entries is deprecated. In a future version, this will no longer exclude empty or all-NA columns when determining the result dtypes. To retain the old behavior, exclude the relevant entries before the concat operation.\n",
      "  return cls(df=pd.concat(dfs, axis=0, sort=True))\n",
      "[WARNING 10-29 16:24:06] ax.service.utils.report_utils: Column reason missing for all trials. Not appending column.\n",
      "[INFO 10-29 16:24:06] ax.service.ax_client: Completed trial 21 with data: {'t1': (1.283821, None)}.\n",
      "[INFO 10-29 16:24:06] ax.service.ax_client: Saved JSON-serialized state of optimization to `/Users/thomasdodd/Library/CloudStorage/OneDrive-MillfieldEnterprisesLimited/Cambridge/GitHub/BO4ACST/Notebooks/Optimisation/Method20241028Dim2_qMaxValueEntropy/AxExperiment.json`.\n",
      "[WARNING 10-29 16:24:06] ax.service.utils.report_utils: Column reason missing for all trials. Not appending column.\n",
      "[WARNING 10-29 16:24:06] ax.service.utils.report_utils: Column reason missing for all trials. Not appending column.\n"
     ]
    },
    {
     "name": "stdout",
     "output_type": "stream",
     "text": [
      "There are no trials currently running - initialising Bayesian iteration trials.\n"
     ]
    },
    {
     "name": "stderr",
     "output_type": "stream",
     "text": [
      "[INFO 10-29 16:24:07] ax.service.ax_client: Generated new trial 22 with parameters {'x1': 0.612235, 'x2': 2.89767} using model BoTorch.\n",
      "[INFO 10-29 16:24:07] ax.service.ax_client: Saved JSON-serialized state of optimization to `/Users/thomasdodd/Library/CloudStorage/OneDrive-MillfieldEnterprisesLimited/Cambridge/GitHub/BO4ACST/Notebooks/Optimisation/Method20241028Dim2_qMaxValueEntropy/AxExperiment.json`.\n",
      "/Users/thomasdodd/miniconda3/envs/BO4ACST_env/lib/python3.11/site-packages/ax/core/data.py:288: FutureWarning: The behavior of DataFrame concatenation with empty or all-NA entries is deprecated. In a future version, this will no longer exclude empty or all-NA columns when determining the result dtypes. To retain the old behavior, exclude the relevant entries before the concat operation.\n",
      "  return cls(df=pd.concat(dfs, axis=0, sort=True))\n",
      "[WARNING 10-29 16:24:07] ax.service.utils.report_utils: Column reason missing for all trials. Not appending column.\n",
      "/Users/thomasdodd/miniconda3/envs/BO4ACST_env/lib/python3.11/site-packages/ax/core/data.py:288: FutureWarning: The behavior of DataFrame concatenation with empty or all-NA entries is deprecated. In a future version, this will no longer exclude empty or all-NA columns when determining the result dtypes. To retain the old behavior, exclude the relevant entries before the concat operation.\n",
      "  return cls(df=pd.concat(dfs, axis=0, sort=True))\n",
      "[WARNING 10-29 16:24:07] ax.service.utils.report_utils: Column reason missing for all trials. Not appending column.\n",
      "[INFO 10-29 16:24:07] ax.service.ax_client: Completed trial 22 with data: {'t1': (1.121604, None)}.\n",
      "[INFO 10-29 16:24:07] ax.service.ax_client: Saved JSON-serialized state of optimization to `/Users/thomasdodd/Library/CloudStorage/OneDrive-MillfieldEnterprisesLimited/Cambridge/GitHub/BO4ACST/Notebooks/Optimisation/Method20241028Dim2_qMaxValueEntropy/AxExperiment.json`.\n",
      "[WARNING 10-29 16:24:07] ax.service.utils.report_utils: Column reason missing for all trials. Not appending column.\n",
      "[WARNING 10-29 16:24:07] ax.service.utils.report_utils: Column reason missing for all trials. Not appending column.\n"
     ]
    },
    {
     "name": "stdout",
     "output_type": "stream",
     "text": [
      "There are no trials currently running - initialising Bayesian iteration trials.\n"
     ]
    },
    {
     "name": "stderr",
     "output_type": "stream",
     "text": [
      "[INFO 10-29 16:24:08] ax.service.ax_client: Generated new trial 23 with parameters {'x1': 1.450926, 'x2': 2.085773} using model BoTorch.\n",
      "[INFO 10-29 16:24:08] ax.service.ax_client: Saved JSON-serialized state of optimization to `/Users/thomasdodd/Library/CloudStorage/OneDrive-MillfieldEnterprisesLimited/Cambridge/GitHub/BO4ACST/Notebooks/Optimisation/Method20241028Dim2_qMaxValueEntropy/AxExperiment.json`.\n",
      "/Users/thomasdodd/miniconda3/envs/BO4ACST_env/lib/python3.11/site-packages/ax/core/data.py:288: FutureWarning: The behavior of DataFrame concatenation with empty or all-NA entries is deprecated. In a future version, this will no longer exclude empty or all-NA columns when determining the result dtypes. To retain the old behavior, exclude the relevant entries before the concat operation.\n",
      "  return cls(df=pd.concat(dfs, axis=0, sort=True))\n",
      "[WARNING 10-29 16:24:08] ax.service.utils.report_utils: Column reason missing for all trials. Not appending column.\n",
      "/Users/thomasdodd/miniconda3/envs/BO4ACST_env/lib/python3.11/site-packages/ax/core/data.py:288: FutureWarning: The behavior of DataFrame concatenation with empty or all-NA entries is deprecated. In a future version, this will no longer exclude empty or all-NA columns when determining the result dtypes. To retain the old behavior, exclude the relevant entries before the concat operation.\n",
      "  return cls(df=pd.concat(dfs, axis=0, sort=True))\n",
      "[WARNING 10-29 16:24:08] ax.service.utils.report_utils: Column reason missing for all trials. Not appending column.\n",
      "[INFO 10-29 16:24:08] ax.service.ax_client: Completed trial 23 with data: {'t1': (1.897735, None)}.\n",
      "[INFO 10-29 16:24:08] ax.service.ax_client: Saved JSON-serialized state of optimization to `/Users/thomasdodd/Library/CloudStorage/OneDrive-MillfieldEnterprisesLimited/Cambridge/GitHub/BO4ACST/Notebooks/Optimisation/Method20241028Dim2_qMaxValueEntropy/AxExperiment.json`.\n",
      "[WARNING 10-29 16:24:08] ax.service.utils.report_utils: Column reason missing for all trials. Not appending column.\n",
      "[INFO 10-29 16:24:08] ax.service.ax_client: Starting optimization with verbose logging. To disable logging, set the `verbose_logging` argument to `False`. Note that float values in the logs are rounded to 6 decimal points.\n",
      "[INFO 10-29 16:24:08] ax.service.utils.instantiation: Created search space: SearchSpace(parameters=[RangeParameter(name='x1', parameter_type=FLOAT, range=[-10.0, 10.0]), RangeParameter(name='x2', parameter_type=FLOAT, range=[-10.0, 10.0])], parameter_constraints=[]).\n",
      "[INFO 10-29 16:24:08] ax.service.ax_client: Saved JSON-serialized state of optimization to `/Users/thomasdodd/Library/CloudStorage/OneDrive-MillfieldEnterprisesLimited/Cambridge/GitHub/BO4ACST/Notebooks/Optimisation/Method20241028Dim2_qMaxValueEntropy/AxExperiment.json`.\n",
      "[INFO 10-29 16:24:08] ax.core.experiment: Attached custom parameterizations [{'x1': -10.0, 'x2': -10.0}] as trial 0.\n",
      "[INFO 10-29 16:24:08] ax.core.experiment: Attached custom parameterizations [{'x1': 0.0, 'x2': -10.0}] as trial 1.\n",
      "[INFO 10-29 16:24:08] ax.core.experiment: Attached custom parameterizations [{'x1': 10.0, 'x2': -10.0}] as trial 2.\n",
      "[INFO 10-29 16:24:08] ax.core.experiment: Attached custom parameterizations [{'x1': -10.0, 'x2': 0.0}] as trial 3.\n",
      "[INFO 10-29 16:24:08] ax.core.experiment: Attached custom parameterizations [{'x1': 0.0, 'x2': 0.0}] as trial 4.\n",
      "[INFO 10-29 16:24:08] ax.core.experiment: Attached custom parameterizations [{'x1': 10.0, 'x2': 0.0}] as trial 5.\n",
      "[INFO 10-29 16:24:08] ax.core.experiment: Attached custom parameterizations [{'x1': -10.0, 'x2': 10.0}] as trial 6.\n",
      "[INFO 10-29 16:24:08] ax.core.experiment: Attached custom parameterizations [{'x1': 0.0, 'x2': 10.0}] as trial 7.\n",
      "[INFO 10-29 16:24:08] ax.core.experiment: Attached custom parameterizations [{'x1': 10.0, 'x2': 10.0}] as trial 8.\n",
      "[INFO 10-29 16:24:08] ax.service.ax_client: Saved JSON-serialized state of optimization to `/Users/thomasdodd/Library/CloudStorage/OneDrive-MillfieldEnterprisesLimited/Cambridge/GitHub/BO4ACST/Notebooks/Optimisation/Method20241028Dim2_qMaxValueEntropy/AxExperiment.json`.\n",
      "[WARNING 10-29 16:24:08] ax.service.utils.report_utils: Column reason missing for all trials. Not appending column.\n",
      "[INFO 10-29 16:24:08] ax.service.utils.report_utils: No results present for the specified metrics `[Metric('t1')]`. Returning arm parameters and metadata only.\n",
      "[WARNING 10-29 16:24:08] ax.service.utils.report_utils: Column reason missing for all trials. Not appending column.\n",
      "[INFO 10-29 16:24:08] ax.service.utils.report_utils: No results present for the specified metrics `[Metric('t1')]`. Returning arm parameters and metadata only.\n",
      "[INFO 10-29 16:24:08] ax.service.ax_client: Completed trial 0 with data: {'t1': (2594.0, None)}.\n",
      "[INFO 10-29 16:24:08] ax.service.ax_client: Saved JSON-serialized state of optimization to `/Users/thomasdodd/Library/CloudStorage/OneDrive-MillfieldEnterprisesLimited/Cambridge/GitHub/BO4ACST/Notebooks/Optimisation/Method20241028Dim2_qMaxValueEntropy/AxExperiment.json`.\n",
      "[INFO 10-29 16:24:08] ax.service.ax_client: Completed trial 1 with data: {'t1': (954.0, None)}.\n",
      "[INFO 10-29 16:24:08] ax.service.ax_client: Saved JSON-serialized state of optimization to `/Users/thomasdodd/Library/CloudStorage/OneDrive-MillfieldEnterprisesLimited/Cambridge/GitHub/BO4ACST/Notebooks/Optimisation/Method20241028Dim2_qMaxValueEntropy/AxExperiment.json`.\n",
      "[INFO 10-29 16:24:08] ax.service.ax_client: Completed trial 2 with data: {'t1': (314.0, None)}.\n",
      "[INFO 10-29 16:24:08] ax.service.ax_client: Saved JSON-serialized state of optimization to `/Users/thomasdodd/Library/CloudStorage/OneDrive-MillfieldEnterprisesLimited/Cambridge/GitHub/BO4ACST/Notebooks/Optimisation/Method20241028Dim2_qMaxValueEntropy/AxExperiment.json`.\n",
      "[INFO 10-29 16:24:08] ax.service.ax_client: Completed trial 3 with data: {'t1': (914.0, None)}.\n",
      "[INFO 10-29 16:24:08] ax.service.ax_client: Saved JSON-serialized state of optimization to `/Users/thomasdodd/Library/CloudStorage/OneDrive-MillfieldEnterprisesLimited/Cambridge/GitHub/BO4ACST/Notebooks/Optimisation/Method20241028Dim2_qMaxValueEntropy/AxExperiment.json`.\n",
      "[INFO 10-29 16:24:08] ax.service.ax_client: Completed trial 4 with data: {'t1': (74.0, None)}.\n",
      "[INFO 10-29 16:24:08] ax.service.ax_client: Saved JSON-serialized state of optimization to `/Users/thomasdodd/Library/CloudStorage/OneDrive-MillfieldEnterprisesLimited/Cambridge/GitHub/BO4ACST/Notebooks/Optimisation/Method20241028Dim2_qMaxValueEntropy/AxExperiment.json`.\n",
      "[INFO 10-29 16:24:08] ax.service.ax_client: Completed trial 5 with data: {'t1': (234.0, None)}.\n",
      "[INFO 10-29 16:24:08] ax.service.ax_client: Saved JSON-serialized state of optimization to `/Users/thomasdodd/Library/CloudStorage/OneDrive-MillfieldEnterprisesLimited/Cambridge/GitHub/BO4ACST/Notebooks/Optimisation/Method20241028Dim2_qMaxValueEntropy/AxExperiment.json`.\n",
      "[INFO 10-29 16:24:08] ax.service.ax_client: Completed trial 6 with data: {'t1': (234.0, None)}.\n",
      "[INFO 10-29 16:24:08] ax.service.ax_client: Saved JSON-serialized state of optimization to `/Users/thomasdodd/Library/CloudStorage/OneDrive-MillfieldEnterprisesLimited/Cambridge/GitHub/BO4ACST/Notebooks/Optimisation/Method20241028Dim2_qMaxValueEntropy/AxExperiment.json`.\n",
      "[INFO 10-29 16:24:08] ax.service.ax_client: Completed trial 7 with data: {'t1': (194.0, None)}.\n",
      "[INFO 10-29 16:24:08] ax.service.ax_client: Saved JSON-serialized state of optimization to `/Users/thomasdodd/Library/CloudStorage/OneDrive-MillfieldEnterprisesLimited/Cambridge/GitHub/BO4ACST/Notebooks/Optimisation/Method20241028Dim2_qMaxValueEntropy/AxExperiment.json`.\n",
      "[INFO 10-29 16:24:08] ax.service.ax_client: Completed trial 8 with data: {'t1': (1154.0, None)}.\n",
      "[INFO 10-29 16:24:08] ax.service.ax_client: Saved JSON-serialized state of optimization to `/Users/thomasdodd/Library/CloudStorage/OneDrive-MillfieldEnterprisesLimited/Cambridge/GitHub/BO4ACST/Notebooks/Optimisation/Method20241028Dim2_qMaxValueEntropy/AxExperiment.json`.\n",
      "[WARNING 10-29 16:24:08] ax.service.utils.report_utils: Column reason missing for all trials. Not appending column.\n",
      "[WARNING 10-29 16:24:08] ax.service.utils.report_utils: Column reason missing for all trials. Not appending column.\n"
     ]
    },
    {
     "name": "stdout",
     "output_type": "stream",
     "text": [
      "[74.         44.48859975 44.48859975  7.31619984  0.93896131  0.93896131\n",
      "  0.93896131  0.93896131  0.93896131  0.93896131  0.93896131  0.93896131\n",
      "  0.93896131  0.93896131  0.93896131  0.93896131]\n",
      "A new experiment has been created and initialised.\n",
      "No previous or current trials detected - initialising prior-forming trials.\n",
      "Samples gridded = 9\n",
      "There are no trials currently running - initialising Bayesian iteration trials.\n"
     ]
    },
    {
     "name": "stderr",
     "output_type": "stream",
     "text": [
      "[INFO 10-29 16:24:09] ax.service.ax_client: Generated new trial 9 with parameters {'x1': -3.820933, 'x2': 5.94737} using model BoTorch.\n",
      "[INFO 10-29 16:24:09] ax.service.ax_client: Saved JSON-serialized state of optimization to `/Users/thomasdodd/Library/CloudStorage/OneDrive-MillfieldEnterprisesLimited/Cambridge/GitHub/BO4ACST/Notebooks/Optimisation/Method20241028Dim2_qMaxValueEntropy/AxExperiment.json`.\n",
      "/Users/thomasdodd/miniconda3/envs/BO4ACST_env/lib/python3.11/site-packages/ax/core/data.py:288: FutureWarning: The behavior of DataFrame concatenation with empty or all-NA entries is deprecated. In a future version, this will no longer exclude empty or all-NA columns when determining the result dtypes. To retain the old behavior, exclude the relevant entries before the concat operation.\n",
      "  return cls(df=pd.concat(dfs, axis=0, sort=True))\n",
      "[WARNING 10-29 16:24:09] ax.service.utils.report_utils: Column reason missing for all trials. Not appending column.\n",
      "/Users/thomasdodd/miniconda3/envs/BO4ACST_env/lib/python3.11/site-packages/ax/core/data.py:288: FutureWarning: The behavior of DataFrame concatenation with empty or all-NA entries is deprecated. In a future version, this will no longer exclude empty or all-NA columns when determining the result dtypes. To retain the old behavior, exclude the relevant entries before the concat operation.\n",
      "  return cls(df=pd.concat(dfs, axis=0, sort=True))\n",
      "[WARNING 10-29 16:24:09] ax.service.utils.report_utils: Column reason missing for all trials. Not appending column.\n",
      "[INFO 10-29 16:24:09] ax.service.ax_client: Completed trial 9 with data: {'t1': (45.969334, None)}.\n",
      "[INFO 10-29 16:24:09] ax.service.ax_client: Saved JSON-serialized state of optimization to `/Users/thomasdodd/Library/CloudStorage/OneDrive-MillfieldEnterprisesLimited/Cambridge/GitHub/BO4ACST/Notebooks/Optimisation/Method20241028Dim2_qMaxValueEntropy/AxExperiment.json`.\n",
      "[WARNING 10-29 16:24:09] ax.service.utils.report_utils: Column reason missing for all trials. Not appending column.\n",
      "[WARNING 10-29 16:24:09] ax.service.utils.report_utils: Column reason missing for all trials. Not appending column.\n"
     ]
    },
    {
     "name": "stdout",
     "output_type": "stream",
     "text": [
      "There are no trials currently running - initialising Bayesian iteration trials.\n"
     ]
    },
    {
     "name": "stderr",
     "output_type": "stream",
     "text": [
      "[INFO 10-29 16:24:10] ax.service.ax_client: Generated new trial 10 with parameters {'x1': 5.634837, 'x2': -3.083963} using model BoTorch.\n",
      "[INFO 10-29 16:24:10] ax.service.ax_client: Saved JSON-serialized state of optimization to `/Users/thomasdodd/Library/CloudStorage/OneDrive-MillfieldEnterprisesLimited/Cambridge/GitHub/BO4ACST/Notebooks/Optimisation/Method20241028Dim2_qMaxValueEntropy/AxExperiment.json`.\n",
      "/Users/thomasdodd/miniconda3/envs/BO4ACST_env/lib/python3.11/site-packages/ax/core/data.py:288: FutureWarning: The behavior of DataFrame concatenation with empty or all-NA entries is deprecated. In a future version, this will no longer exclude empty or all-NA columns when determining the result dtypes. To retain the old behavior, exclude the relevant entries before the concat operation.\n",
      "  return cls(df=pd.concat(dfs, axis=0, sort=True))\n",
      "[WARNING 10-29 16:24:10] ax.service.utils.report_utils: Column reason missing for all trials. Not appending column.\n",
      "/Users/thomasdodd/miniconda3/envs/BO4ACST_env/lib/python3.11/site-packages/ax/core/data.py:288: FutureWarning: The behavior of DataFrame concatenation with empty or all-NA entries is deprecated. In a future version, this will no longer exclude empty or all-NA columns when determining the result dtypes. To retain the old behavior, exclude the relevant entries before the concat operation.\n",
      "  return cls(df=pd.concat(dfs, axis=0, sort=True))\n",
      "[WARNING 10-29 16:24:10] ax.service.utils.report_utils: Column reason missing for all trials. Not appending column.\n",
      "[INFO 10-29 16:24:10] ax.service.ax_client: Completed trial 10 with data: {'t1': (66.896178, None)}.\n",
      "[INFO 10-29 16:24:10] ax.service.ax_client: Saved JSON-serialized state of optimization to `/Users/thomasdodd/Library/CloudStorage/OneDrive-MillfieldEnterprisesLimited/Cambridge/GitHub/BO4ACST/Notebooks/Optimisation/Method20241028Dim2_qMaxValueEntropy/AxExperiment.json`.\n",
      "[WARNING 10-29 16:24:10] ax.service.utils.report_utils: Column reason missing for all trials. Not appending column.\n",
      "[WARNING 10-29 16:24:10] ax.service.utils.report_utils: Column reason missing for all trials. Not appending column.\n"
     ]
    },
    {
     "name": "stdout",
     "output_type": "stream",
     "text": [
      "There are no trials currently running - initialising Bayesian iteration trials.\n"
     ]
    },
    {
     "name": "stderr",
     "output_type": "stream",
     "text": [
      "[INFO 10-29 16:24:10] ax.service.ax_client: Generated new trial 11 with parameters {'x1': 2.232021, 'x2': 3.095055} using model BoTorch.\n",
      "[INFO 10-29 16:24:10] ax.service.ax_client: Saved JSON-serialized state of optimization to `/Users/thomasdodd/Library/CloudStorage/OneDrive-MillfieldEnterprisesLimited/Cambridge/GitHub/BO4ACST/Notebooks/Optimisation/Method20241028Dim2_qMaxValueEntropy/AxExperiment.json`.\n",
      "/Users/thomasdodd/miniconda3/envs/BO4ACST_env/lib/python3.11/site-packages/ax/core/data.py:288: FutureWarning: The behavior of DataFrame concatenation with empty or all-NA entries is deprecated. In a future version, this will no longer exclude empty or all-NA columns when determining the result dtypes. To retain the old behavior, exclude the relevant entries before the concat operation.\n",
      "  return cls(df=pd.concat(dfs, axis=0, sort=True))\n",
      "[WARNING 10-29 16:24:10] ax.service.utils.report_utils: Column reason missing for all trials. Not appending column.\n",
      "/Users/thomasdodd/miniconda3/envs/BO4ACST_env/lib/python3.11/site-packages/ax/core/data.py:288: FutureWarning: The behavior of DataFrame concatenation with empty or all-NA entries is deprecated. In a future version, this will no longer exclude empty or all-NA columns when determining the result dtypes. To retain the old behavior, exclude the relevant entries before the concat operation.\n",
      "  return cls(df=pd.concat(dfs, axis=0, sort=True))\n",
      "[WARNING 10-29 16:24:10] ax.service.utils.report_utils: Column reason missing for all trials. Not appending column.\n",
      "[INFO 10-29 16:24:10] ax.service.ax_client: Completed trial 11 with data: {'t1': (8.571432, None)}.\n",
      "[INFO 10-29 16:24:10] ax.service.ax_client: Saved JSON-serialized state of optimization to `/Users/thomasdodd/Library/CloudStorage/OneDrive-MillfieldEnterprisesLimited/Cambridge/GitHub/BO4ACST/Notebooks/Optimisation/Method20241028Dim2_qMaxValueEntropy/AxExperiment.json`.\n",
      "[WARNING 10-29 16:24:10] ax.service.utils.report_utils: Column reason missing for all trials. Not appending column.\n",
      "[WARNING 10-29 16:24:10] ax.service.utils.report_utils: Column reason missing for all trials. Not appending column.\n"
     ]
    },
    {
     "name": "stdout",
     "output_type": "stream",
     "text": [
      "There are no trials currently running - initialising Bayesian iteration trials.\n"
     ]
    },
    {
     "name": "stderr",
     "output_type": "stream",
     "text": [
      "[INFO 10-29 16:24:11] ax.service.ax_client: Generated new trial 12 with parameters {'x1': 1.026941, 'x2': 3.340971} using model BoTorch.\n",
      "[INFO 10-29 16:24:11] ax.service.ax_client: Saved JSON-serialized state of optimization to `/Users/thomasdodd/Library/CloudStorage/OneDrive-MillfieldEnterprisesLimited/Cambridge/GitHub/BO4ACST/Notebooks/Optimisation/Method20241028Dim2_qMaxValueEntropy/AxExperiment.json`.\n",
      "/Users/thomasdodd/miniconda3/envs/BO4ACST_env/lib/python3.11/site-packages/ax/core/data.py:288: FutureWarning: The behavior of DataFrame concatenation with empty or all-NA entries is deprecated. In a future version, this will no longer exclude empty or all-NA columns when determining the result dtypes. To retain the old behavior, exclude the relevant entries before the concat operation.\n",
      "  return cls(df=pd.concat(dfs, axis=0, sort=True))\n",
      "[WARNING 10-29 16:24:11] ax.service.utils.report_utils: Column reason missing for all trials. Not appending column.\n",
      "/Users/thomasdodd/miniconda3/envs/BO4ACST_env/lib/python3.11/site-packages/ax/core/data.py:288: FutureWarning: The behavior of DataFrame concatenation with empty or all-NA entries is deprecated. In a future version, this will no longer exclude empty or all-NA columns when determining the result dtypes. To retain the old behavior, exclude the relevant entries before the concat operation.\n",
      "  return cls(df=pd.concat(dfs, axis=0, sort=True))\n",
      "[WARNING 10-29 16:24:11] ax.service.utils.report_utils: Column reason missing for all trials. Not appending column.\n",
      "[INFO 10-29 16:24:11] ax.service.ax_client: Completed trial 12 with data: {'t1': (0.658425, None)}.\n",
      "[INFO 10-29 16:24:11] ax.service.ax_client: Saved JSON-serialized state of optimization to `/Users/thomasdodd/Library/CloudStorage/OneDrive-MillfieldEnterprisesLimited/Cambridge/GitHub/BO4ACST/Notebooks/Optimisation/Method20241028Dim2_qMaxValueEntropy/AxExperiment.json`.\n",
      "[WARNING 10-29 16:24:11] ax.service.utils.report_utils: Column reason missing for all trials. Not appending column.\n",
      "[WARNING 10-29 16:24:11] ax.service.utils.report_utils: Column reason missing for all trials. Not appending column.\n"
     ]
    },
    {
     "name": "stdout",
     "output_type": "stream",
     "text": [
      "There are no trials currently running - initialising Bayesian iteration trials.\n"
     ]
    },
    {
     "name": "stderr",
     "output_type": "stream",
     "text": [
      "[INFO 10-29 16:24:12] ax.service.ax_client: Generated new trial 13 with parameters {'x1': -2.722224, 'x2': 5.910651} using model BoTorch.\n",
      "[INFO 10-29 16:24:12] ax.service.ax_client: Saved JSON-serialized state of optimization to `/Users/thomasdodd/Library/CloudStorage/OneDrive-MillfieldEnterprisesLimited/Cambridge/GitHub/BO4ACST/Notebooks/Optimisation/Method20241028Dim2_qMaxValueEntropy/AxExperiment.json`.\n",
      "/Users/thomasdodd/miniconda3/envs/BO4ACST_env/lib/python3.11/site-packages/ax/core/data.py:288: FutureWarning: The behavior of DataFrame concatenation with empty or all-NA entries is deprecated. In a future version, this will no longer exclude empty or all-NA columns when determining the result dtypes. To retain the old behavior, exclude the relevant entries before the concat operation.\n",
      "  return cls(df=pd.concat(dfs, axis=0, sort=True))\n",
      "[WARNING 10-29 16:24:12] ax.service.utils.report_utils: Column reason missing for all trials. Not appending column.\n",
      "/Users/thomasdodd/miniconda3/envs/BO4ACST_env/lib/python3.11/site-packages/ax/core/data.py:288: FutureWarning: The behavior of DataFrame concatenation with empty or all-NA entries is deprecated. In a future version, this will no longer exclude empty or all-NA columns when determining the result dtypes. To retain the old behavior, exclude the relevant entries before the concat operation.\n",
      "  return cls(df=pd.concat(dfs, axis=0, sort=True))\n",
      "[WARNING 10-29 16:24:12] ax.service.utils.report_utils: Column reason missing for all trials. Not appending column.\n",
      "[INFO 10-29 16:24:12] ax.service.ax_client: Completed trial 13 with data: {'t1': (24.961443, None)}.\n",
      "[INFO 10-29 16:24:12] ax.service.ax_client: Saved JSON-serialized state of optimization to `/Users/thomasdodd/Library/CloudStorage/OneDrive-MillfieldEnterprisesLimited/Cambridge/GitHub/BO4ACST/Notebooks/Optimisation/Method20241028Dim2_qMaxValueEntropy/AxExperiment.json`.\n",
      "[WARNING 10-29 16:24:12] ax.service.utils.report_utils: Column reason missing for all trials. Not appending column.\n",
      "[WARNING 10-29 16:24:12] ax.service.utils.report_utils: Column reason missing for all trials. Not appending column.\n"
     ]
    },
    {
     "name": "stdout",
     "output_type": "stream",
     "text": [
      "There are no trials currently running - initialising Bayesian iteration trials.\n"
     ]
    },
    {
     "name": "stderr",
     "output_type": "stream",
     "text": [
      "[INFO 10-29 16:24:13] ax.service.ax_client: Generated new trial 14 with parameters {'x1': 2.733353, 'x2': 1.518622} using model BoTorch.\n",
      "[INFO 10-29 16:24:13] ax.service.ax_client: Saved JSON-serialized state of optimization to `/Users/thomasdodd/Library/CloudStorage/OneDrive-MillfieldEnterprisesLimited/Cambridge/GitHub/BO4ACST/Notebooks/Optimisation/Method20241028Dim2_qMaxValueEntropy/AxExperiment.json`.\n",
      "/Users/thomasdodd/miniconda3/envs/BO4ACST_env/lib/python3.11/site-packages/ax/core/data.py:288: FutureWarning: The behavior of DataFrame concatenation with empty or all-NA entries is deprecated. In a future version, this will no longer exclude empty or all-NA columns when determining the result dtypes. To retain the old behavior, exclude the relevant entries before the concat operation.\n",
      "  return cls(df=pd.concat(dfs, axis=0, sort=True))\n",
      "[WARNING 10-29 16:24:13] ax.service.utils.report_utils: Column reason missing for all trials. Not appending column.\n",
      "/Users/thomasdodd/miniconda3/envs/BO4ACST_env/lib/python3.11/site-packages/ax/core/data.py:288: FutureWarning: The behavior of DataFrame concatenation with empty or all-NA entries is deprecated. In a future version, this will no longer exclude empty or all-NA columns when determining the result dtypes. To retain the old behavior, exclude the relevant entries before the concat operation.\n",
      "  return cls(df=pd.concat(dfs, axis=0, sort=True))\n",
      "[WARNING 10-29 16:24:13] ax.service.utils.report_utils: Column reason missing for all trials. Not appending column.\n",
      "[INFO 10-29 16:24:13] ax.service.ax_client: Completed trial 14 with data: {'t1': (5.452958, None)}.\n",
      "[INFO 10-29 16:24:13] ax.service.ax_client: Saved JSON-serialized state of optimization to `/Users/thomasdodd/Library/CloudStorage/OneDrive-MillfieldEnterprisesLimited/Cambridge/GitHub/BO4ACST/Notebooks/Optimisation/Method20241028Dim2_qMaxValueEntropy/AxExperiment.json`.\n",
      "[WARNING 10-29 16:24:13] ax.service.utils.report_utils: Column reason missing for all trials. Not appending column.\n",
      "[WARNING 10-29 16:24:13] ax.service.utils.report_utils: Column reason missing for all trials. Not appending column.\n"
     ]
    },
    {
     "name": "stdout",
     "output_type": "stream",
     "text": [
      "There are no trials currently running - initialising Bayesian iteration trials.\n"
     ]
    },
    {
     "name": "stderr",
     "output_type": "stream",
     "text": [
      "[INFO 10-29 16:24:14] ax.service.ax_client: Generated new trial 15 with parameters {'x1': 0.328058, 'x2': 3.544458} using model BoTorch.\n",
      "[INFO 10-29 16:24:14] ax.service.ax_client: Saved JSON-serialized state of optimization to `/Users/thomasdodd/Library/CloudStorage/OneDrive-MillfieldEnterprisesLimited/Cambridge/GitHub/BO4ACST/Notebooks/Optimisation/Method20241028Dim2_qMaxValueEntropy/AxExperiment.json`.\n",
      "/Users/thomasdodd/miniconda3/envs/BO4ACST_env/lib/python3.11/site-packages/ax/core/data.py:288: FutureWarning: The behavior of DataFrame concatenation with empty or all-NA entries is deprecated. In a future version, this will no longer exclude empty or all-NA columns when determining the result dtypes. To retain the old behavior, exclude the relevant entries before the concat operation.\n",
      "  return cls(df=pd.concat(dfs, axis=0, sort=True))\n",
      "[WARNING 10-29 16:24:14] ax.service.utils.report_utils: Column reason missing for all trials. Not appending column.\n",
      "/Users/thomasdodd/miniconda3/envs/BO4ACST_env/lib/python3.11/site-packages/ax/core/data.py:288: FutureWarning: The behavior of DataFrame concatenation with empty or all-NA entries is deprecated. In a future version, this will no longer exclude empty or all-NA columns when determining the result dtypes. To retain the old behavior, exclude the relevant entries before the concat operation.\n",
      "  return cls(df=pd.concat(dfs, axis=0, sort=True))\n",
      "[WARNING 10-29 16:24:14] ax.service.utils.report_utils: Column reason missing for all trials. Not appending column.\n",
      "[INFO 10-29 16:24:14] ax.service.ax_client: Completed trial 15 with data: {'t1': (0.812949, None)}.\n",
      "[INFO 10-29 16:24:14] ax.service.ax_client: Saved JSON-serialized state of optimization to `/Users/thomasdodd/Library/CloudStorage/OneDrive-MillfieldEnterprisesLimited/Cambridge/GitHub/BO4ACST/Notebooks/Optimisation/Method20241028Dim2_qMaxValueEntropy/AxExperiment.json`.\n",
      "[WARNING 10-29 16:24:14] ax.service.utils.report_utils: Column reason missing for all trials. Not appending column.\n",
      "[WARNING 10-29 16:24:14] ax.service.utils.report_utils: Column reason missing for all trials. Not appending column.\n"
     ]
    },
    {
     "name": "stdout",
     "output_type": "stream",
     "text": [
      "There are no trials currently running - initialising Bayesian iteration trials.\n"
     ]
    },
    {
     "name": "stderr",
     "output_type": "stream",
     "text": [
      "[INFO 10-29 16:24:15] ax.service.ax_client: Generated new trial 16 with parameters {'x1': 2.950782, 'x2': 0.946046} using model BoTorch.\n",
      "[INFO 10-29 16:24:15] ax.service.ax_client: Saved JSON-serialized state of optimization to `/Users/thomasdodd/Library/CloudStorage/OneDrive-MillfieldEnterprisesLimited/Cambridge/GitHub/BO4ACST/Notebooks/Optimisation/Method20241028Dim2_qMaxValueEntropy/AxExperiment.json`.\n",
      "/Users/thomasdodd/miniconda3/envs/BO4ACST_env/lib/python3.11/site-packages/ax/core/data.py:288: FutureWarning: The behavior of DataFrame concatenation with empty or all-NA entries is deprecated. In a future version, this will no longer exclude empty or all-NA columns when determining the result dtypes. To retain the old behavior, exclude the relevant entries before the concat operation.\n",
      "  return cls(df=pd.concat(dfs, axis=0, sort=True))\n",
      "[WARNING 10-29 16:24:15] ax.service.utils.report_utils: Column reason missing for all trials. Not appending column.\n",
      "/Users/thomasdodd/miniconda3/envs/BO4ACST_env/lib/python3.11/site-packages/ax/core/data.py:288: FutureWarning: The behavior of DataFrame concatenation with empty or all-NA entries is deprecated. In a future version, this will no longer exclude empty or all-NA columns when determining the result dtypes. To retain the old behavior, exclude the relevant entries before the concat operation.\n",
      "  return cls(df=pd.concat(dfs, axis=0, sort=True))\n",
      "[WARNING 10-29 16:24:15] ax.service.utils.report_utils: Column reason missing for all trials. Not appending column.\n",
      "[INFO 10-29 16:24:15] ax.service.ax_client: Completed trial 16 with data: {'t1': (8.066857, None)}.\n",
      "[INFO 10-29 16:24:15] ax.service.ax_client: Saved JSON-serialized state of optimization to `/Users/thomasdodd/Library/CloudStorage/OneDrive-MillfieldEnterprisesLimited/Cambridge/GitHub/BO4ACST/Notebooks/Optimisation/Method20241028Dim2_qMaxValueEntropy/AxExperiment.json`.\n",
      "[WARNING 10-29 16:24:15] ax.service.utils.report_utils: Column reason missing for all trials. Not appending column.\n",
      "[WARNING 10-29 16:24:15] ax.service.utils.report_utils: Column reason missing for all trials. Not appending column.\n"
     ]
    },
    {
     "name": "stdout",
     "output_type": "stream",
     "text": [
      "There are no trials currently running - initialising Bayesian iteration trials.\n"
     ]
    },
    {
     "name": "stderr",
     "output_type": "stream",
     "text": [
      "[INFO 10-29 16:24:16] ax.service.ax_client: Generated new trial 17 with parameters {'x1': 0.045198, 'x2': 3.628633} using model BoTorch.\n",
      "[INFO 10-29 16:24:16] ax.service.ax_client: Saved JSON-serialized state of optimization to `/Users/thomasdodd/Library/CloudStorage/OneDrive-MillfieldEnterprisesLimited/Cambridge/GitHub/BO4ACST/Notebooks/Optimisation/Method20241028Dim2_qMaxValueEntropy/AxExperiment.json`.\n",
      "/Users/thomasdodd/miniconda3/envs/BO4ACST_env/lib/python3.11/site-packages/ax/core/data.py:288: FutureWarning: The behavior of DataFrame concatenation with empty or all-NA entries is deprecated. In a future version, this will no longer exclude empty or all-NA columns when determining the result dtypes. To retain the old behavior, exclude the relevant entries before the concat operation.\n",
      "  return cls(df=pd.concat(dfs, axis=0, sort=True))\n",
      "[WARNING 10-29 16:24:16] ax.service.utils.report_utils: Column reason missing for all trials. Not appending column.\n",
      "/Users/thomasdodd/miniconda3/envs/BO4ACST_env/lib/python3.11/site-packages/ax/core/data.py:288: FutureWarning: The behavior of DataFrame concatenation with empty or all-NA entries is deprecated. In a future version, this will no longer exclude empty or all-NA columns when determining the result dtypes. To retain the old behavior, exclude the relevant entries before the concat operation.\n",
      "  return cls(df=pd.concat(dfs, axis=0, sort=True))\n",
      "[WARNING 10-29 16:24:16] ax.service.utils.report_utils: Column reason missing for all trials. Not appending column.\n",
      "[INFO 10-29 16:24:16] ax.service.ax_client: Completed trial 17 with data: {'t1': (1.732373, None)}.\n",
      "[INFO 10-29 16:24:16] ax.service.ax_client: Saved JSON-serialized state of optimization to `/Users/thomasdodd/Library/CloudStorage/OneDrive-MillfieldEnterprisesLimited/Cambridge/GitHub/BO4ACST/Notebooks/Optimisation/Method20241028Dim2_qMaxValueEntropy/AxExperiment.json`.\n",
      "[WARNING 10-29 16:24:16] ax.service.utils.report_utils: Column reason missing for all trials. Not appending column.\n",
      "[WARNING 10-29 16:24:16] ax.service.utils.report_utils: Column reason missing for all trials. Not appending column.\n"
     ]
    },
    {
     "name": "stdout",
     "output_type": "stream",
     "text": [
      "There are no trials currently running - initialising Bayesian iteration trials.\n"
     ]
    },
    {
     "name": "stderr",
     "output_type": "stream",
     "text": [
      "[INFO 10-29 16:24:16] ax.service.ax_client: Generated new trial 18 with parameters {'x1': -4.791229, 'x2': 10.0} using model BoTorch.\n",
      "[INFO 10-29 16:24:16] ax.service.ax_client: Saved JSON-serialized state of optimization to `/Users/thomasdodd/Library/CloudStorage/OneDrive-MillfieldEnterprisesLimited/Cambridge/GitHub/BO4ACST/Notebooks/Optimisation/Method20241028Dim2_qMaxValueEntropy/AxExperiment.json`.\n",
      "/Users/thomasdodd/miniconda3/envs/BO4ACST_env/lib/python3.11/site-packages/ax/core/data.py:288: FutureWarning: The behavior of DataFrame concatenation with empty or all-NA entries is deprecated. In a future version, this will no longer exclude empty or all-NA columns when determining the result dtypes. To retain the old behavior, exclude the relevant entries before the concat operation.\n",
      "  return cls(df=pd.concat(dfs, axis=0, sort=True))\n",
      "[WARNING 10-29 16:24:16] ax.service.utils.report_utils: Column reason missing for all trials. Not appending column.\n",
      "/Users/thomasdodd/miniconda3/envs/BO4ACST_env/lib/python3.11/site-packages/ax/core/data.py:288: FutureWarning: The behavior of DataFrame concatenation with empty or all-NA entries is deprecated. In a future version, this will no longer exclude empty or all-NA columns when determining the result dtypes. To retain the old behavior, exclude the relevant entries before the concat operation.\n",
      "  return cls(df=pd.concat(dfs, axis=0, sort=True))\n",
      "[WARNING 10-29 16:24:16] ax.service.utils.report_utils: Column reason missing for all trials. Not appending column.\n",
      "[INFO 10-29 16:24:16] ax.service.ax_client: Completed trial 18 with data: {'t1': (88.382843, None)}.\n",
      "[INFO 10-29 16:24:16] ax.service.ax_client: Saved JSON-serialized state of optimization to `/Users/thomasdodd/Library/CloudStorage/OneDrive-MillfieldEnterprisesLimited/Cambridge/GitHub/BO4ACST/Notebooks/Optimisation/Method20241028Dim2_qMaxValueEntropy/AxExperiment.json`.\n",
      "[WARNING 10-29 16:24:16] ax.service.utils.report_utils: Column reason missing for all trials. Not appending column.\n",
      "[WARNING 10-29 16:24:16] ax.service.utils.report_utils: Column reason missing for all trials. Not appending column.\n"
     ]
    },
    {
     "name": "stdout",
     "output_type": "stream",
     "text": [
      "There are no trials currently running - initialising Bayesian iteration trials.\n"
     ]
    },
    {
     "name": "stderr",
     "output_type": "stream",
     "text": [
      "[INFO 10-29 16:24:17] ax.service.ax_client: Generated new trial 19 with parameters {'x1': 0.527374, 'x2': 2.958432} using model BoTorch.\n",
      "[INFO 10-29 16:24:17] ax.service.ax_client: Saved JSON-serialized state of optimization to `/Users/thomasdodd/Library/CloudStorage/OneDrive-MillfieldEnterprisesLimited/Cambridge/GitHub/BO4ACST/Notebooks/Optimisation/Method20241028Dim2_qMaxValueEntropy/AxExperiment.json`.\n",
      "/Users/thomasdodd/miniconda3/envs/BO4ACST_env/lib/python3.11/site-packages/ax/core/data.py:288: FutureWarning: The behavior of DataFrame concatenation with empty or all-NA entries is deprecated. In a future version, this will no longer exclude empty or all-NA columns when determining the result dtypes. To retain the old behavior, exclude the relevant entries before the concat operation.\n",
      "  return cls(df=pd.concat(dfs, axis=0, sort=True))\n",
      "[WARNING 10-29 16:24:17] ax.service.utils.report_utils: Column reason missing for all trials. Not appending column.\n",
      "/Users/thomasdodd/miniconda3/envs/BO4ACST_env/lib/python3.11/site-packages/ax/core/data.py:288: FutureWarning: The behavior of DataFrame concatenation with empty or all-NA entries is deprecated. In a future version, this will no longer exclude empty or all-NA columns when determining the result dtypes. To retain the old behavior, exclude the relevant entries before the concat operation.\n",
      "  return cls(df=pd.concat(dfs, axis=0, sort=True))\n",
      "[WARNING 10-29 16:24:17] ax.service.utils.report_utils: Column reason missing for all trials. Not appending column.\n",
      "[INFO 10-29 16:24:17] ax.service.ax_client: Completed trial 19 with data: {'t1': (1.282685, None)}.\n",
      "[INFO 10-29 16:24:17] ax.service.ax_client: Saved JSON-serialized state of optimization to `/Users/thomasdodd/Library/CloudStorage/OneDrive-MillfieldEnterprisesLimited/Cambridge/GitHub/BO4ACST/Notebooks/Optimisation/Method20241028Dim2_qMaxValueEntropy/AxExperiment.json`.\n",
      "[WARNING 10-29 16:24:17] ax.service.utils.report_utils: Column reason missing for all trials. Not appending column.\n",
      "[WARNING 10-29 16:24:17] ax.service.utils.report_utils: Column reason missing for all trials. Not appending column.\n"
     ]
    },
    {
     "name": "stdout",
     "output_type": "stream",
     "text": [
      "There are no trials currently running - initialising Bayesian iteration trials.\n"
     ]
    },
    {
     "name": "stderr",
     "output_type": "stream",
     "text": [
      "[INFO 10-29 16:24:18] ax.service.ax_client: Generated new trial 20 with parameters {'x1': 0.762758, 'x2': 2.734124} using model BoTorch.\n",
      "[INFO 10-29 16:24:18] ax.service.ax_client: Saved JSON-serialized state of optimization to `/Users/thomasdodd/Library/CloudStorage/OneDrive-MillfieldEnterprisesLimited/Cambridge/GitHub/BO4ACST/Notebooks/Optimisation/Method20241028Dim2_qMaxValueEntropy/AxExperiment.json`.\n",
      "/Users/thomasdodd/miniconda3/envs/BO4ACST_env/lib/python3.11/site-packages/ax/core/data.py:288: FutureWarning: The behavior of DataFrame concatenation with empty or all-NA entries is deprecated. In a future version, this will no longer exclude empty or all-NA columns when determining the result dtypes. To retain the old behavior, exclude the relevant entries before the concat operation.\n",
      "  return cls(df=pd.concat(dfs, axis=0, sort=True))\n",
      "[WARNING 10-29 16:24:18] ax.service.utils.report_utils: Column reason missing for all trials. Not appending column.\n",
      "/Users/thomasdodd/miniconda3/envs/BO4ACST_env/lib/python3.11/site-packages/ax/core/data.py:288: FutureWarning: The behavior of DataFrame concatenation with empty or all-NA entries is deprecated. In a future version, this will no longer exclude empty or all-NA columns when determining the result dtypes. To retain the old behavior, exclude the relevant entries before the concat operation.\n",
      "  return cls(df=pd.concat(dfs, axis=0, sort=True))\n",
      "[WARNING 10-29 16:24:18] ax.service.utils.report_utils: Column reason missing for all trials. Not appending column.\n",
      "[INFO 10-29 16:24:18] ax.service.ax_client: Completed trial 20 with data: {'t1': (1.139486, None)}.\n",
      "[INFO 10-29 16:24:18] ax.service.ax_client: Saved JSON-serialized state of optimization to `/Users/thomasdodd/Library/CloudStorage/OneDrive-MillfieldEnterprisesLimited/Cambridge/GitHub/BO4ACST/Notebooks/Optimisation/Method20241028Dim2_qMaxValueEntropy/AxExperiment.json`.\n",
      "[WARNING 10-29 16:24:18] ax.service.utils.report_utils: Column reason missing for all trials. Not appending column.\n",
      "[WARNING 10-29 16:24:18] ax.service.utils.report_utils: Column reason missing for all trials. Not appending column.\n"
     ]
    },
    {
     "name": "stdout",
     "output_type": "stream",
     "text": [
      "There are no trials currently running - initialising Bayesian iteration trials.\n"
     ]
    },
    {
     "name": "stderr",
     "output_type": "stream",
     "text": [
      "[INFO 10-29 16:24:20] ax.service.ax_client: Generated new trial 21 with parameters {'x1': 1.461984, 'x2': 2.091254} using model BoTorch.\n",
      "[INFO 10-29 16:24:20] ax.service.ax_client: Saved JSON-serialized state of optimization to `/Users/thomasdodd/Library/CloudStorage/OneDrive-MillfieldEnterprisesLimited/Cambridge/GitHub/BO4ACST/Notebooks/Optimisation/Method20241028Dim2_qMaxValueEntropy/AxExperiment.json`.\n",
      "/Users/thomasdodd/miniconda3/envs/BO4ACST_env/lib/python3.11/site-packages/ax/core/data.py:288: FutureWarning: The behavior of DataFrame concatenation with empty or all-NA entries is deprecated. In a future version, this will no longer exclude empty or all-NA columns when determining the result dtypes. To retain the old behavior, exclude the relevant entries before the concat operation.\n",
      "  return cls(df=pd.concat(dfs, axis=0, sort=True))\n",
      "[WARNING 10-29 16:24:20] ax.service.utils.report_utils: Column reason missing for all trials. Not appending column.\n",
      "/Users/thomasdodd/miniconda3/envs/BO4ACST_env/lib/python3.11/site-packages/ax/core/data.py:288: FutureWarning: The behavior of DataFrame concatenation with empty or all-NA entries is deprecated. In a future version, this will no longer exclude empty or all-NA columns when determining the result dtypes. To retain the old behavior, exclude the relevant entries before the concat operation.\n",
      "  return cls(df=pd.concat(dfs, axis=0, sort=True))\n",
      "[WARNING 10-29 16:24:20] ax.service.utils.report_utils: Column reason missing for all trials. Not appending column.\n",
      "[INFO 10-29 16:24:20] ax.service.ax_client: Completed trial 21 with data: {'t1': (1.837634, None)}.\n",
      "[INFO 10-29 16:24:20] ax.service.ax_client: Saved JSON-serialized state of optimization to `/Users/thomasdodd/Library/CloudStorage/OneDrive-MillfieldEnterprisesLimited/Cambridge/GitHub/BO4ACST/Notebooks/Optimisation/Method20241028Dim2_qMaxValueEntropy/AxExperiment.json`.\n",
      "[WARNING 10-29 16:24:20] ax.service.utils.report_utils: Column reason missing for all trials. Not appending column.\n",
      "[WARNING 10-29 16:24:20] ax.service.utils.report_utils: Column reason missing for all trials. Not appending column.\n"
     ]
    },
    {
     "name": "stdout",
     "output_type": "stream",
     "text": [
      "There are no trials currently running - initialising Bayesian iteration trials.\n"
     ]
    },
    {
     "name": "stderr",
     "output_type": "stream",
     "text": [
      "[INFO 10-29 16:24:21] ax.service.ax_client: Generated new trial 22 with parameters {'x1': 0.513166, 'x2': 3.058156} using model BoTorch.\n",
      "[INFO 10-29 16:24:21] ax.service.ax_client: Saved JSON-serialized state of optimization to `/Users/thomasdodd/Library/CloudStorage/OneDrive-MillfieldEnterprisesLimited/Cambridge/GitHub/BO4ACST/Notebooks/Optimisation/Method20241028Dim2_qMaxValueEntropy/AxExperiment.json`.\n",
      "/Users/thomasdodd/miniconda3/envs/BO4ACST_env/lib/python3.11/site-packages/ax/core/data.py:288: FutureWarning: The behavior of DataFrame concatenation with empty or all-NA entries is deprecated. In a future version, this will no longer exclude empty or all-NA columns when determining the result dtypes. To retain the old behavior, exclude the relevant entries before the concat operation.\n",
      "  return cls(df=pd.concat(dfs, axis=0, sort=True))\n",
      "[WARNING 10-29 16:24:21] ax.service.utils.report_utils: Column reason missing for all trials. Not appending column.\n",
      "/Users/thomasdodd/miniconda3/envs/BO4ACST_env/lib/python3.11/site-packages/ax/core/data.py:288: FutureWarning: The behavior of DataFrame concatenation with empty or all-NA entries is deprecated. In a future version, this will no longer exclude empty or all-NA columns when determining the result dtypes. To retain the old behavior, exclude the relevant entries before the concat operation.\n",
      "  return cls(df=pd.concat(dfs, axis=0, sort=True))\n",
      "[WARNING 10-29 16:24:21] ax.service.utils.report_utils: Column reason missing for all trials. Not appending column.\n",
      "[INFO 10-29 16:24:21] ax.service.ax_client: Completed trial 22 with data: {'t1': (0.975452, None)}.\n",
      "[INFO 10-29 16:24:21] ax.service.ax_client: Saved JSON-serialized state of optimization to `/Users/thomasdodd/Library/CloudStorage/OneDrive-MillfieldEnterprisesLimited/Cambridge/GitHub/BO4ACST/Notebooks/Optimisation/Method20241028Dim2_qMaxValueEntropy/AxExperiment.json`.\n",
      "[WARNING 10-29 16:24:21] ax.service.utils.report_utils: Column reason missing for all trials. Not appending column.\n",
      "[WARNING 10-29 16:24:21] ax.service.utils.report_utils: Column reason missing for all trials. Not appending column.\n"
     ]
    },
    {
     "name": "stdout",
     "output_type": "stream",
     "text": [
      "There are no trials currently running - initialising Bayesian iteration trials.\n"
     ]
    },
    {
     "name": "stderr",
     "output_type": "stream",
     "text": [
      "[INFO 10-29 16:24:22] ax.service.ax_client: Generated new trial 23 with parameters {'x1': 0.819695, 'x2': 2.747113} using model BoTorch.\n",
      "[INFO 10-29 16:24:22] ax.service.ax_client: Saved JSON-serialized state of optimization to `/Users/thomasdodd/Library/CloudStorage/OneDrive-MillfieldEnterprisesLimited/Cambridge/GitHub/BO4ACST/Notebooks/Optimisation/Method20241028Dim2_qMaxValueEntropy/AxExperiment.json`.\n",
      "/Users/thomasdodd/miniconda3/envs/BO4ACST_env/lib/python3.11/site-packages/ax/core/data.py:288: FutureWarning: The behavior of DataFrame concatenation with empty or all-NA entries is deprecated. In a future version, this will no longer exclude empty or all-NA columns when determining the result dtypes. To retain the old behavior, exclude the relevant entries before the concat operation.\n",
      "  return cls(df=pd.concat(dfs, axis=0, sort=True))\n",
      "[WARNING 10-29 16:24:22] ax.service.utils.report_utils: Column reason missing for all trials. Not appending column.\n",
      "/Users/thomasdodd/miniconda3/envs/BO4ACST_env/lib/python3.11/site-packages/ax/core/data.py:288: FutureWarning: The behavior of DataFrame concatenation with empty or all-NA entries is deprecated. In a future version, this will no longer exclude empty or all-NA columns when determining the result dtypes. To retain the old behavior, exclude the relevant entries before the concat operation.\n",
      "  return cls(df=pd.concat(dfs, axis=0, sort=True))\n",
      "[WARNING 10-29 16:24:22] ax.service.utils.report_utils: Column reason missing for all trials. Not appending column.\n",
      "[INFO 10-29 16:24:22] ax.service.ax_client: Completed trial 23 with data: {'t1': (0.847086, None)}.\n",
      "[INFO 10-29 16:24:22] ax.service.ax_client: Saved JSON-serialized state of optimization to `/Users/thomasdodd/Library/CloudStorage/OneDrive-MillfieldEnterprisesLimited/Cambridge/GitHub/BO4ACST/Notebooks/Optimisation/Method20241028Dim2_qMaxValueEntropy/AxExperiment.json`.\n",
      "[WARNING 10-29 16:24:22] ax.service.utils.report_utils: Column reason missing for all trials. Not appending column.\n",
      "[INFO 10-29 16:24:22] ax.service.ax_client: Starting optimization with verbose logging. To disable logging, set the `verbose_logging` argument to `False`. Note that float values in the logs are rounded to 6 decimal points.\n",
      "[INFO 10-29 16:24:22] ax.service.utils.instantiation: Created search space: SearchSpace(parameters=[RangeParameter(name='x1', parameter_type=FLOAT, range=[-10.0, 10.0]), RangeParameter(name='x2', parameter_type=FLOAT, range=[-10.0, 10.0])], parameter_constraints=[]).\n",
      "[INFO 10-29 16:24:22] ax.service.ax_client: Saved JSON-serialized state of optimization to `/Users/thomasdodd/Library/CloudStorage/OneDrive-MillfieldEnterprisesLimited/Cambridge/GitHub/BO4ACST/Notebooks/Optimisation/Method20241028Dim2_qMaxValueEntropy/AxExperiment.json`.\n",
      "[INFO 10-29 16:24:22] ax.core.experiment: Attached custom parameterizations [{'x1': -10.0, 'x2': -10.0}] as trial 0.\n",
      "[INFO 10-29 16:24:22] ax.core.experiment: Attached custom parameterizations [{'x1': 0.0, 'x2': -10.0}] as trial 1.\n",
      "[INFO 10-29 16:24:22] ax.core.experiment: Attached custom parameterizations [{'x1': 10.0, 'x2': -10.0}] as trial 2.\n",
      "[INFO 10-29 16:24:22] ax.core.experiment: Attached custom parameterizations [{'x1': -10.0, 'x2': 0.0}] as trial 3.\n",
      "[INFO 10-29 16:24:22] ax.core.experiment: Attached custom parameterizations [{'x1': 0.0, 'x2': 0.0}] as trial 4.\n",
      "[INFO 10-29 16:24:22] ax.core.experiment: Attached custom parameterizations [{'x1': 10.0, 'x2': 0.0}] as trial 5.\n",
      "[INFO 10-29 16:24:22] ax.core.experiment: Attached custom parameterizations [{'x1': -10.0, 'x2': 10.0}] as trial 6.\n",
      "[INFO 10-29 16:24:22] ax.core.experiment: Attached custom parameterizations [{'x1': 0.0, 'x2': 10.0}] as trial 7.\n",
      "[INFO 10-29 16:24:22] ax.core.experiment: Attached custom parameterizations [{'x1': 10.0, 'x2': 10.0}] as trial 8.\n",
      "[INFO 10-29 16:24:22] ax.service.ax_client: Saved JSON-serialized state of optimization to `/Users/thomasdodd/Library/CloudStorage/OneDrive-MillfieldEnterprisesLimited/Cambridge/GitHub/BO4ACST/Notebooks/Optimisation/Method20241028Dim2_qMaxValueEntropy/AxExperiment.json`.\n",
      "[WARNING 10-29 16:24:22] ax.service.utils.report_utils: Column reason missing for all trials. Not appending column.\n",
      "[INFO 10-29 16:24:22] ax.service.utils.report_utils: No results present for the specified metrics `[Metric('t1')]`. Returning arm parameters and metadata only.\n",
      "[WARNING 10-29 16:24:22] ax.service.utils.report_utils: Column reason missing for all trials. Not appending column.\n",
      "[INFO 10-29 16:24:22] ax.service.utils.report_utils: No results present for the specified metrics `[Metric('t1')]`. Returning arm parameters and metadata only.\n",
      "[INFO 10-29 16:24:22] ax.service.ax_client: Completed trial 0 with data: {'t1': (2594.0, None)}.\n",
      "[INFO 10-29 16:24:22] ax.service.ax_client: Saved JSON-serialized state of optimization to `/Users/thomasdodd/Library/CloudStorage/OneDrive-MillfieldEnterprisesLimited/Cambridge/GitHub/BO4ACST/Notebooks/Optimisation/Method20241028Dim2_qMaxValueEntropy/AxExperiment.json`.\n",
      "[INFO 10-29 16:24:22] ax.service.ax_client: Completed trial 1 with data: {'t1': (954.0, None)}.\n",
      "[INFO 10-29 16:24:22] ax.service.ax_client: Saved JSON-serialized state of optimization to `/Users/thomasdodd/Library/CloudStorage/OneDrive-MillfieldEnterprisesLimited/Cambridge/GitHub/BO4ACST/Notebooks/Optimisation/Method20241028Dim2_qMaxValueEntropy/AxExperiment.json`.\n",
      "[INFO 10-29 16:24:22] ax.service.ax_client: Completed trial 2 with data: {'t1': (314.0, None)}.\n",
      "[INFO 10-29 16:24:22] ax.service.ax_client: Saved JSON-serialized state of optimization to `/Users/thomasdodd/Library/CloudStorage/OneDrive-MillfieldEnterprisesLimited/Cambridge/GitHub/BO4ACST/Notebooks/Optimisation/Method20241028Dim2_qMaxValueEntropy/AxExperiment.json`.\n",
      "[INFO 10-29 16:24:22] ax.service.ax_client: Completed trial 3 with data: {'t1': (914.0, None)}.\n",
      "[INFO 10-29 16:24:22] ax.service.ax_client: Saved JSON-serialized state of optimization to `/Users/thomasdodd/Library/CloudStorage/OneDrive-MillfieldEnterprisesLimited/Cambridge/GitHub/BO4ACST/Notebooks/Optimisation/Method20241028Dim2_qMaxValueEntropy/AxExperiment.json`.\n",
      "[INFO 10-29 16:24:22] ax.service.ax_client: Completed trial 4 with data: {'t1': (74.0, None)}.\n",
      "[INFO 10-29 16:24:22] ax.service.ax_client: Saved JSON-serialized state of optimization to `/Users/thomasdodd/Library/CloudStorage/OneDrive-MillfieldEnterprisesLimited/Cambridge/GitHub/BO4ACST/Notebooks/Optimisation/Method20241028Dim2_qMaxValueEntropy/AxExperiment.json`.\n",
      "[INFO 10-29 16:24:22] ax.service.ax_client: Completed trial 5 with data: {'t1': (234.0, None)}.\n",
      "[INFO 10-29 16:24:22] ax.service.ax_client: Saved JSON-serialized state of optimization to `/Users/thomasdodd/Library/CloudStorage/OneDrive-MillfieldEnterprisesLimited/Cambridge/GitHub/BO4ACST/Notebooks/Optimisation/Method20241028Dim2_qMaxValueEntropy/AxExperiment.json`.\n",
      "[INFO 10-29 16:24:22] ax.service.ax_client: Completed trial 6 with data: {'t1': (234.0, None)}.\n",
      "[INFO 10-29 16:24:22] ax.service.ax_client: Saved JSON-serialized state of optimization to `/Users/thomasdodd/Library/CloudStorage/OneDrive-MillfieldEnterprisesLimited/Cambridge/GitHub/BO4ACST/Notebooks/Optimisation/Method20241028Dim2_qMaxValueEntropy/AxExperiment.json`.\n",
      "[INFO 10-29 16:24:22] ax.service.ax_client: Completed trial 7 with data: {'t1': (194.0, None)}.\n",
      "[INFO 10-29 16:24:22] ax.service.ax_client: Saved JSON-serialized state of optimization to `/Users/thomasdodd/Library/CloudStorage/OneDrive-MillfieldEnterprisesLimited/Cambridge/GitHub/BO4ACST/Notebooks/Optimisation/Method20241028Dim2_qMaxValueEntropy/AxExperiment.json`.\n",
      "[INFO 10-29 16:24:22] ax.service.ax_client: Completed trial 8 with data: {'t1': (1154.0, None)}.\n",
      "[INFO 10-29 16:24:22] ax.service.ax_client: Saved JSON-serialized state of optimization to `/Users/thomasdodd/Library/CloudStorage/OneDrive-MillfieldEnterprisesLimited/Cambridge/GitHub/BO4ACST/Notebooks/Optimisation/Method20241028Dim2_qMaxValueEntropy/AxExperiment.json`.\n",
      "[WARNING 10-29 16:24:22] ax.service.utils.report_utils: Column reason missing for all trials. Not appending column.\n",
      "[WARNING 10-29 16:24:22] ax.service.utils.report_utils: Column reason missing for all trials. Not appending column.\n"
     ]
    },
    {
     "name": "stdout",
     "output_type": "stream",
     "text": [
      "[74.         45.96933431 45.96933431  8.57143234  0.65842454  0.65842454\n",
      "  0.65842454  0.65842454  0.65842454  0.65842454  0.65842454  0.65842454\n",
      "  0.65842454  0.65842454  0.65842454  0.65842454]\n",
      "A new experiment has been created and initialised.\n",
      "No previous or current trials detected - initialising prior-forming trials.\n",
      "Samples gridded = 9\n",
      "There are no trials currently running - initialising Bayesian iteration trials.\n"
     ]
    },
    {
     "name": "stderr",
     "output_type": "stream",
     "text": [
      "[INFO 10-29 16:24:23] ax.service.ax_client: Generated new trial 9 with parameters {'x1': -3.77643, 'x2': 5.948959} using model BoTorch.\n",
      "[INFO 10-29 16:24:23] ax.service.ax_client: Saved JSON-serialized state of optimization to `/Users/thomasdodd/Library/CloudStorage/OneDrive-MillfieldEnterprisesLimited/Cambridge/GitHub/BO4ACST/Notebooks/Optimisation/Method20241028Dim2_qMaxValueEntropy/AxExperiment.json`.\n",
      "/Users/thomasdodd/miniconda3/envs/BO4ACST_env/lib/python3.11/site-packages/ax/core/data.py:288: FutureWarning: The behavior of DataFrame concatenation with empty or all-NA entries is deprecated. In a future version, this will no longer exclude empty or all-NA columns when determining the result dtypes. To retain the old behavior, exclude the relevant entries before the concat operation.\n",
      "  return cls(df=pd.concat(dfs, axis=0, sort=True))\n",
      "[WARNING 10-29 16:24:23] ax.service.utils.report_utils: Column reason missing for all trials. Not appending column.\n",
      "/Users/thomasdodd/miniconda3/envs/BO4ACST_env/lib/python3.11/site-packages/ax/core/data.py:288: FutureWarning: The behavior of DataFrame concatenation with empty or all-NA entries is deprecated. In a future version, this will no longer exclude empty or all-NA columns when determining the result dtypes. To retain the old behavior, exclude the relevant entries before the concat operation.\n",
      "  return cls(df=pd.concat(dfs, axis=0, sort=True))\n",
      "[WARNING 10-29 16:24:23] ax.service.utils.report_utils: Column reason missing for all trials. Not appending column.\n",
      "[INFO 10-29 16:24:23] ax.service.ax_client: Completed trial 9 with data: {'t1': (44.869242, None)}.\n",
      "[INFO 10-29 16:24:23] ax.service.ax_client: Saved JSON-serialized state of optimization to `/Users/thomasdodd/Library/CloudStorage/OneDrive-MillfieldEnterprisesLimited/Cambridge/GitHub/BO4ACST/Notebooks/Optimisation/Method20241028Dim2_qMaxValueEntropy/AxExperiment.json`.\n",
      "[WARNING 10-29 16:24:23] ax.service.utils.report_utils: Column reason missing for all trials. Not appending column.\n",
      "[WARNING 10-29 16:24:23] ax.service.utils.report_utils: Column reason missing for all trials. Not appending column.\n"
     ]
    },
    {
     "name": "stdout",
     "output_type": "stream",
     "text": [
      "There are no trials currently running - initialising Bayesian iteration trials.\n"
     ]
    },
    {
     "name": "stderr",
     "output_type": "stream",
     "text": [
      "[INFO 10-29 16:24:24] ax.service.ax_client: Generated new trial 10 with parameters {'x1': 5.602939, 'x2': -2.994355} using model BoTorch.\n",
      "[INFO 10-29 16:24:24] ax.service.ax_client: Saved JSON-serialized state of optimization to `/Users/thomasdodd/Library/CloudStorage/OneDrive-MillfieldEnterprisesLimited/Cambridge/GitHub/BO4ACST/Notebooks/Optimisation/Method20241028Dim2_qMaxValueEntropy/AxExperiment.json`.\n",
      "/Users/thomasdodd/miniconda3/envs/BO4ACST_env/lib/python3.11/site-packages/ax/core/data.py:288: FutureWarning: The behavior of DataFrame concatenation with empty or all-NA entries is deprecated. In a future version, this will no longer exclude empty or all-NA columns when determining the result dtypes. To retain the old behavior, exclude the relevant entries before the concat operation.\n",
      "  return cls(df=pd.concat(dfs, axis=0, sort=True))\n",
      "[WARNING 10-29 16:24:24] ax.service.utils.report_utils: Column reason missing for all trials. Not appending column.\n",
      "/Users/thomasdodd/miniconda3/envs/BO4ACST_env/lib/python3.11/site-packages/ax/core/data.py:288: FutureWarning: The behavior of DataFrame concatenation with empty or all-NA entries is deprecated. In a future version, this will no longer exclude empty or all-NA columns when determining the result dtypes. To retain the old behavior, exclude the relevant entries before the concat operation.\n",
      "  return cls(df=pd.concat(dfs, axis=0, sort=True))\n",
      "[WARNING 10-29 16:24:24] ax.service.utils.report_utils: Column reason missing for all trials. Not appending column.\n",
      "[INFO 10-29 16:24:24] ax.service.ax_client: Completed trial 10 with data: {'t1': (64.863497, None)}.\n",
      "[INFO 10-29 16:24:24] ax.service.ax_client: Saved JSON-serialized state of optimization to `/Users/thomasdodd/Library/CloudStorage/OneDrive-MillfieldEnterprisesLimited/Cambridge/GitHub/BO4ACST/Notebooks/Optimisation/Method20241028Dim2_qMaxValueEntropy/AxExperiment.json`.\n",
      "[WARNING 10-29 16:24:24] ax.service.utils.report_utils: Column reason missing for all trials. Not appending column.\n",
      "[WARNING 10-29 16:24:24] ax.service.utils.report_utils: Column reason missing for all trials. Not appending column.\n"
     ]
    },
    {
     "name": "stdout",
     "output_type": "stream",
     "text": [
      "There are no trials currently running - initialising Bayesian iteration trials.\n"
     ]
    },
    {
     "name": "stderr",
     "output_type": "stream",
     "text": [
      "[INFO 10-29 16:24:24] ax.service.ax_client: Generated new trial 11 with parameters {'x1': 2.178684, 'x2': 3.091741} using model BoTorch.\n",
      "[INFO 10-29 16:24:24] ax.service.ax_client: Saved JSON-serialized state of optimization to `/Users/thomasdodd/Library/CloudStorage/OneDrive-MillfieldEnterprisesLimited/Cambridge/GitHub/BO4ACST/Notebooks/Optimisation/Method20241028Dim2_qMaxValueEntropy/AxExperiment.json`.\n",
      "/Users/thomasdodd/miniconda3/envs/BO4ACST_env/lib/python3.11/site-packages/ax/core/data.py:288: FutureWarning: The behavior of DataFrame concatenation with empty or all-NA entries is deprecated. In a future version, this will no longer exclude empty or all-NA columns when determining the result dtypes. To retain the old behavior, exclude the relevant entries before the concat operation.\n",
      "  return cls(df=pd.concat(dfs, axis=0, sort=True))\n",
      "[WARNING 10-29 16:24:24] ax.service.utils.report_utils: Column reason missing for all trials. Not appending column.\n",
      "/Users/thomasdodd/miniconda3/envs/BO4ACST_env/lib/python3.11/site-packages/ax/core/data.py:288: FutureWarning: The behavior of DataFrame concatenation with empty or all-NA entries is deprecated. In a future version, this will no longer exclude empty or all-NA columns when determining the result dtypes. To retain the old behavior, exclude the relevant entries before the concat operation.\n",
      "  return cls(df=pd.concat(dfs, axis=0, sort=True))\n",
      "[WARNING 10-29 16:24:24] ax.service.utils.report_utils: Column reason missing for all trials. Not appending column.\n",
      "[INFO 10-29 16:24:24] ax.service.ax_client: Completed trial 11 with data: {'t1': (7.853632, None)}.\n",
      "[INFO 10-29 16:24:24] ax.service.ax_client: Saved JSON-serialized state of optimization to `/Users/thomasdodd/Library/CloudStorage/OneDrive-MillfieldEnterprisesLimited/Cambridge/GitHub/BO4ACST/Notebooks/Optimisation/Method20241028Dim2_qMaxValueEntropy/AxExperiment.json`.\n",
      "[WARNING 10-29 16:24:24] ax.service.utils.report_utils: Column reason missing for all trials. Not appending column.\n",
      "[WARNING 10-29 16:24:24] ax.service.utils.report_utils: Column reason missing for all trials. Not appending column.\n"
     ]
    },
    {
     "name": "stdout",
     "output_type": "stream",
     "text": [
      "There are no trials currently running - initialising Bayesian iteration trials.\n"
     ]
    },
    {
     "name": "stderr",
     "output_type": "stream",
     "text": [
      "[INFO 10-29 16:24:26] ax.service.ax_client: Generated new trial 12 with parameters {'x1': 1.344305, 'x2': 3.219128} using model BoTorch.\n",
      "[INFO 10-29 16:24:26] ax.service.ax_client: Saved JSON-serialized state of optimization to `/Users/thomasdodd/Library/CloudStorage/OneDrive-MillfieldEnterprisesLimited/Cambridge/GitHub/BO4ACST/Notebooks/Optimisation/Method20241028Dim2_qMaxValueEntropy/AxExperiment.json`.\n",
      "/Users/thomasdodd/miniconda3/envs/BO4ACST_env/lib/python3.11/site-packages/ax/core/data.py:288: FutureWarning: The behavior of DataFrame concatenation with empty or all-NA entries is deprecated. In a future version, this will no longer exclude empty or all-NA columns when determining the result dtypes. To retain the old behavior, exclude the relevant entries before the concat operation.\n",
      "  return cls(df=pd.concat(dfs, axis=0, sort=True))\n",
      "[WARNING 10-29 16:24:26] ax.service.utils.report_utils: Column reason missing for all trials. Not appending column.\n",
      "/Users/thomasdodd/miniconda3/envs/BO4ACST_env/lib/python3.11/site-packages/ax/core/data.py:288: FutureWarning: The behavior of DataFrame concatenation with empty or all-NA entries is deprecated. In a future version, this will no longer exclude empty or all-NA columns when determining the result dtypes. To retain the old behavior, exclude the relevant entries before the concat operation.\n",
      "  return cls(df=pd.concat(dfs, axis=0, sort=True))\n",
      "[WARNING 10-29 16:24:26] ax.service.utils.report_utils: Column reason missing for all trials. Not appending column.\n",
      "[INFO 10-29 16:24:26] ax.service.ax_client: Completed trial 12 with data: {'t1': (1.436387, None)}.\n",
      "[INFO 10-29 16:24:26] ax.service.ax_client: Saved JSON-serialized state of optimization to `/Users/thomasdodd/Library/CloudStorage/OneDrive-MillfieldEnterprisesLimited/Cambridge/GitHub/BO4ACST/Notebooks/Optimisation/Method20241028Dim2_qMaxValueEntropy/AxExperiment.json`.\n",
      "[WARNING 10-29 16:24:26] ax.service.utils.report_utils: Column reason missing for all trials. Not appending column.\n",
      "[WARNING 10-29 16:24:26] ax.service.utils.report_utils: Column reason missing for all trials. Not appending column.\n"
     ]
    },
    {
     "name": "stdout",
     "output_type": "stream",
     "text": [
      "There are no trials currently running - initialising Bayesian iteration trials.\n"
     ]
    },
    {
     "name": "stderr",
     "output_type": "stream",
     "text": [
      "[INFO 10-29 16:24:27] ax.service.ax_client: Generated new trial 13 with parameters {'x1': -2.710536, 'x2': 5.881667} using model BoTorch.\n",
      "[INFO 10-29 16:24:27] ax.service.ax_client: Saved JSON-serialized state of optimization to `/Users/thomasdodd/Library/CloudStorage/OneDrive-MillfieldEnterprisesLimited/Cambridge/GitHub/BO4ACST/Notebooks/Optimisation/Method20241028Dim2_qMaxValueEntropy/AxExperiment.json`.\n",
      "/Users/thomasdodd/miniconda3/envs/BO4ACST_env/lib/python3.11/site-packages/ax/core/data.py:288: FutureWarning: The behavior of DataFrame concatenation with empty or all-NA entries is deprecated. In a future version, this will no longer exclude empty or all-NA columns when determining the result dtypes. To retain the old behavior, exclude the relevant entries before the concat operation.\n",
      "  return cls(df=pd.concat(dfs, axis=0, sort=True))\n",
      "[WARNING 10-29 16:24:27] ax.service.utils.report_utils: Column reason missing for all trials. Not appending column.\n",
      "/Users/thomasdodd/miniconda3/envs/BO4ACST_env/lib/python3.11/site-packages/ax/core/data.py:288: FutureWarning: The behavior of DataFrame concatenation with empty or all-NA entries is deprecated. In a future version, this will no longer exclude empty or all-NA columns when determining the result dtypes. To retain the old behavior, exclude the relevant entries before the concat operation.\n",
      "  return cls(df=pd.concat(dfs, axis=0, sort=True))\n",
      "[WARNING 10-29 16:24:27] ax.service.utils.report_utils: Column reason missing for all trials. Not appending column.\n",
      "[INFO 10-29 16:24:27] ax.service.ax_client: Completed trial 13 with data: {'t1': (24.820184, None)}.\n",
      "[INFO 10-29 16:24:27] ax.service.ax_client: Saved JSON-serialized state of optimization to `/Users/thomasdodd/Library/CloudStorage/OneDrive-MillfieldEnterprisesLimited/Cambridge/GitHub/BO4ACST/Notebooks/Optimisation/Method20241028Dim2_qMaxValueEntropy/AxExperiment.json`.\n",
      "[WARNING 10-29 16:24:27] ax.service.utils.report_utils: Column reason missing for all trials. Not appending column.\n",
      "[WARNING 10-29 16:24:27] ax.service.utils.report_utils: Column reason missing for all trials. Not appending column.\n"
     ]
    },
    {
     "name": "stdout",
     "output_type": "stream",
     "text": [
      "There are no trials currently running - initialising Bayesian iteration trials.\n"
     ]
    },
    {
     "name": "stderr",
     "output_type": "stream",
     "text": [
      "[INFO 10-29 16:24:28] ax.service.ax_client: Generated new trial 14 with parameters {'x1': 2.626256, 'x2': 1.586874} using model BoTorch.\n",
      "[INFO 10-29 16:24:28] ax.service.ax_client: Saved JSON-serialized state of optimization to `/Users/thomasdodd/Library/CloudStorage/OneDrive-MillfieldEnterprisesLimited/Cambridge/GitHub/BO4ACST/Notebooks/Optimisation/Method20241028Dim2_qMaxValueEntropy/AxExperiment.json`.\n",
      "/Users/thomasdodd/miniconda3/envs/BO4ACST_env/lib/python3.11/site-packages/ax/core/data.py:288: FutureWarning: The behavior of DataFrame concatenation with empty or all-NA entries is deprecated. In a future version, this will no longer exclude empty or all-NA columns when determining the result dtypes. To retain the old behavior, exclude the relevant entries before the concat operation.\n",
      "  return cls(df=pd.concat(dfs, axis=0, sort=True))\n",
      "[WARNING 10-29 16:24:28] ax.service.utils.report_utils: Column reason missing for all trials. Not appending column.\n",
      "/Users/thomasdodd/miniconda3/envs/BO4ACST_env/lib/python3.11/site-packages/ax/core/data.py:288: FutureWarning: The behavior of DataFrame concatenation with empty or all-NA entries is deprecated. In a future version, this will no longer exclude empty or all-NA columns when determining the result dtypes. To retain the old behavior, exclude the relevant entries before the concat operation.\n",
      "  return cls(df=pd.concat(dfs, axis=0, sort=True))\n",
      "[WARNING 10-29 16:24:28] ax.service.utils.report_utils: Column reason missing for all trials. Not appending column.\n",
      "[INFO 10-29 16:24:28] ax.service.ax_client: Completed trial 14 with data: {'t1': (4.823329, None)}.\n",
      "[INFO 10-29 16:24:28] ax.service.ax_client: Saved JSON-serialized state of optimization to `/Users/thomasdodd/Library/CloudStorage/OneDrive-MillfieldEnterprisesLimited/Cambridge/GitHub/BO4ACST/Notebooks/Optimisation/Method20241028Dim2_qMaxValueEntropy/AxExperiment.json`.\n",
      "[WARNING 10-29 16:24:28] ax.service.utils.report_utils: Column reason missing for all trials. Not appending column.\n",
      "[WARNING 10-29 16:24:28] ax.service.utils.report_utils: Column reason missing for all trials. Not appending column.\n"
     ]
    },
    {
     "name": "stdout",
     "output_type": "stream",
     "text": [
      "There are no trials currently running - initialising Bayesian iteration trials.\n"
     ]
    },
    {
     "name": "stderr",
     "output_type": "stream",
     "text": [
      "[INFO 10-29 16:24:29] ax.service.ax_client: Generated new trial 15 with parameters {'x1': 0.168395, 'x2': 3.665623} using model BoTorch.\n",
      "[INFO 10-29 16:24:29] ax.service.ax_client: Saved JSON-serialized state of optimization to `/Users/thomasdodd/Library/CloudStorage/OneDrive-MillfieldEnterprisesLimited/Cambridge/GitHub/BO4ACST/Notebooks/Optimisation/Method20241028Dim2_qMaxValueEntropy/AxExperiment.json`.\n",
      "/Users/thomasdodd/miniconda3/envs/BO4ACST_env/lib/python3.11/site-packages/ax/core/data.py:288: FutureWarning: The behavior of DataFrame concatenation with empty or all-NA entries is deprecated. In a future version, this will no longer exclude empty or all-NA columns when determining the result dtypes. To retain the old behavior, exclude the relevant entries before the concat operation.\n",
      "  return cls(df=pd.concat(dfs, axis=0, sort=True))\n",
      "[WARNING 10-29 16:24:29] ax.service.utils.report_utils: Column reason missing for all trials. Not appending column.\n",
      "/Users/thomasdodd/miniconda3/envs/BO4ACST_env/lib/python3.11/site-packages/ax/core/data.py:288: FutureWarning: The behavior of DataFrame concatenation with empty or all-NA entries is deprecated. In a future version, this will no longer exclude empty or all-NA columns when determining the result dtypes. To retain the old behavior, exclude the relevant entries before the concat operation.\n",
      "  return cls(df=pd.concat(dfs, axis=0, sort=True))\n",
      "[WARNING 10-29 16:24:29] ax.service.utils.report_utils: Column reason missing for all trials. Not appending column.\n",
      "[INFO 10-29 16:24:29] ax.service.ax_client: Completed trial 15 with data: {'t1': (1.244822, None)}.\n",
      "[INFO 10-29 16:24:29] ax.service.ax_client: Saved JSON-serialized state of optimization to `/Users/thomasdodd/Library/CloudStorage/OneDrive-MillfieldEnterprisesLimited/Cambridge/GitHub/BO4ACST/Notebooks/Optimisation/Method20241028Dim2_qMaxValueEntropy/AxExperiment.json`.\n",
      "[WARNING 10-29 16:24:29] ax.service.utils.report_utils: Column reason missing for all trials. Not appending column.\n",
      "[WARNING 10-29 16:24:29] ax.service.utils.report_utils: Column reason missing for all trials. Not appending column.\n"
     ]
    },
    {
     "name": "stdout",
     "output_type": "stream",
     "text": [
      "There are no trials currently running - initialising Bayesian iteration trials.\n"
     ]
    },
    {
     "name": "stderr",
     "output_type": "stream",
     "text": [
      "[INFO 10-29 16:24:30] ax.service.ax_client: Generated new trial 16 with parameters {'x1': 2.918736, 'x2': 0.961512} using model BoTorch.\n",
      "[INFO 10-29 16:24:30] ax.service.ax_client: Saved JSON-serialized state of optimization to `/Users/thomasdodd/Library/CloudStorage/OneDrive-MillfieldEnterprisesLimited/Cambridge/GitHub/BO4ACST/Notebooks/Optimisation/Method20241028Dim2_qMaxValueEntropy/AxExperiment.json`.\n",
      "/Users/thomasdodd/miniconda3/envs/BO4ACST_env/lib/python3.11/site-packages/ax/core/data.py:288: FutureWarning: The behavior of DataFrame concatenation with empty or all-NA entries is deprecated. In a future version, this will no longer exclude empty or all-NA columns when determining the result dtypes. To retain the old behavior, exclude the relevant entries before the concat operation.\n",
      "  return cls(df=pd.concat(dfs, axis=0, sort=True))\n",
      "[WARNING 10-29 16:24:30] ax.service.utils.report_utils: Column reason missing for all trials. Not appending column.\n",
      "/Users/thomasdodd/miniconda3/envs/BO4ACST_env/lib/python3.11/site-packages/ax/core/data.py:288: FutureWarning: The behavior of DataFrame concatenation with empty or all-NA entries is deprecated. In a future version, this will no longer exclude empty or all-NA columns when determining the result dtypes. To retain the old behavior, exclude the relevant entries before the concat operation.\n",
      "  return cls(df=pd.concat(dfs, axis=0, sort=True))\n",
      "[WARNING 10-29 16:24:30] ax.service.utils.report_utils: Column reason missing for all trials. Not appending column.\n",
      "[INFO 10-29 16:24:30] ax.service.ax_client: Completed trial 16 with data: {'t1': (7.894344, None)}.\n",
      "[INFO 10-29 16:24:30] ax.service.ax_client: Saved JSON-serialized state of optimization to `/Users/thomasdodd/Library/CloudStorage/OneDrive-MillfieldEnterprisesLimited/Cambridge/GitHub/BO4ACST/Notebooks/Optimisation/Method20241028Dim2_qMaxValueEntropy/AxExperiment.json`.\n",
      "[WARNING 10-29 16:24:30] ax.service.utils.report_utils: Column reason missing for all trials. Not appending column.\n",
      "[WARNING 10-29 16:24:30] ax.service.utils.report_utils: Column reason missing for all trials. Not appending column.\n"
     ]
    },
    {
     "name": "stdout",
     "output_type": "stream",
     "text": [
      "There are no trials currently running - initialising Bayesian iteration trials.\n"
     ]
    },
    {
     "name": "stderr",
     "output_type": "stream",
     "text": [
      "[INFO 10-29 16:24:31] ax.service.ax_client: Generated new trial 17 with parameters {'x1': 0.017827, 'x2': 3.645626} using model BoTorch.\n",
      "[INFO 10-29 16:24:31] ax.service.ax_client: Saved JSON-serialized state of optimization to `/Users/thomasdodd/Library/CloudStorage/OneDrive-MillfieldEnterprisesLimited/Cambridge/GitHub/BO4ACST/Notebooks/Optimisation/Method20241028Dim2_qMaxValueEntropy/AxExperiment.json`.\n",
      "/Users/thomasdodd/miniconda3/envs/BO4ACST_env/lib/python3.11/site-packages/ax/core/data.py:288: FutureWarning: The behavior of DataFrame concatenation with empty or all-NA entries is deprecated. In a future version, this will no longer exclude empty or all-NA columns when determining the result dtypes. To retain the old behavior, exclude the relevant entries before the concat operation.\n",
      "  return cls(df=pd.concat(dfs, axis=0, sort=True))\n",
      "[WARNING 10-29 16:24:31] ax.service.utils.report_utils: Column reason missing for all trials. Not appending column.\n",
      "/Users/thomasdodd/miniconda3/envs/BO4ACST_env/lib/python3.11/site-packages/ax/core/data.py:288: FutureWarning: The behavior of DataFrame concatenation with empty or all-NA entries is deprecated. In a future version, this will no longer exclude empty or all-NA columns when determining the result dtypes. To retain the old behavior, exclude the relevant entries before the concat operation.\n",
      "  return cls(df=pd.concat(dfs, axis=0, sort=True))\n",
      "[WARNING 10-29 16:24:31] ax.service.utils.report_utils: Column reason missing for all trials. Not appending column.\n",
      "[INFO 10-29 16:24:31] ax.service.ax_client: Completed trial 17 with data: {'t1': (1.83455, None)}.\n",
      "[INFO 10-29 16:24:31] ax.service.ax_client: Saved JSON-serialized state of optimization to `/Users/thomasdodd/Library/CloudStorage/OneDrive-MillfieldEnterprisesLimited/Cambridge/GitHub/BO4ACST/Notebooks/Optimisation/Method20241028Dim2_qMaxValueEntropy/AxExperiment.json`.\n",
      "[WARNING 10-29 16:24:31] ax.service.utils.report_utils: Column reason missing for all trials. Not appending column.\n",
      "[WARNING 10-29 16:24:31] ax.service.utils.report_utils: Column reason missing for all trials. Not appending column.\n"
     ]
    },
    {
     "name": "stdout",
     "output_type": "stream",
     "text": [
      "There are no trials currently running - initialising Bayesian iteration trials.\n"
     ]
    },
    {
     "name": "stderr",
     "output_type": "stream",
     "text": [
      "[INFO 10-29 16:24:32] ax.service.ax_client: Generated new trial 18 with parameters {'x1': 0.194923, 'x2': 3.391721} using model BoTorch.\n",
      "[INFO 10-29 16:24:32] ax.service.ax_client: Saved JSON-serialized state of optimization to `/Users/thomasdodd/Library/CloudStorage/OneDrive-MillfieldEnterprisesLimited/Cambridge/GitHub/BO4ACST/Notebooks/Optimisation/Method20241028Dim2_qMaxValueEntropy/AxExperiment.json`.\n",
      "/Users/thomasdodd/miniconda3/envs/BO4ACST_env/lib/python3.11/site-packages/ax/core/data.py:288: FutureWarning: The behavior of DataFrame concatenation with empty or all-NA entries is deprecated. In a future version, this will no longer exclude empty or all-NA columns when determining the result dtypes. To retain the old behavior, exclude the relevant entries before the concat operation.\n",
      "  return cls(df=pd.concat(dfs, axis=0, sort=True))\n",
      "[WARNING 10-29 16:24:32] ax.service.utils.report_utils: Column reason missing for all trials. Not appending column.\n",
      "/Users/thomasdodd/miniconda3/envs/BO4ACST_env/lib/python3.11/site-packages/ax/core/data.py:288: FutureWarning: The behavior of DataFrame concatenation with empty or all-NA entries is deprecated. In a future version, this will no longer exclude empty or all-NA columns when determining the result dtypes. To retain the old behavior, exclude the relevant entries before the concat operation.\n",
      "  return cls(df=pd.concat(dfs, axis=0, sort=True))\n",
      "[WARNING 10-29 16:24:32] ax.service.utils.report_utils: Column reason missing for all trials. Not appending column.\n",
      "[INFO 10-29 16:24:32] ax.service.ax_client: Completed trial 18 with data: {'t1': (1.485049, None)}.\n",
      "[INFO 10-29 16:24:32] ax.service.ax_client: Saved JSON-serialized state of optimization to `/Users/thomasdodd/Library/CloudStorage/OneDrive-MillfieldEnterprisesLimited/Cambridge/GitHub/BO4ACST/Notebooks/Optimisation/Method20241028Dim2_qMaxValueEntropy/AxExperiment.json`.\n",
      "[WARNING 10-29 16:24:32] ax.service.utils.report_utils: Column reason missing for all trials. Not appending column.\n",
      "[WARNING 10-29 16:24:32] ax.service.utils.report_utils: Column reason missing for all trials. Not appending column.\n"
     ]
    },
    {
     "name": "stdout",
     "output_type": "stream",
     "text": [
      "There are no trials currently running - initialising Bayesian iteration trials.\n"
     ]
    },
    {
     "name": "stderr",
     "output_type": "stream",
     "text": [
      "[INFO 10-29 16:24:33] ax.service.ax_client: Generated new trial 19 with parameters {'x1': 0.45411, 'x2': 3.064463} using model BoTorch.\n",
      "[INFO 10-29 16:24:33] ax.service.ax_client: Saved JSON-serialized state of optimization to `/Users/thomasdodd/Library/CloudStorage/OneDrive-MillfieldEnterprisesLimited/Cambridge/GitHub/BO4ACST/Notebooks/Optimisation/Method20241028Dim2_qMaxValueEntropy/AxExperiment.json`.\n",
      "/Users/thomasdodd/miniconda3/envs/BO4ACST_env/lib/python3.11/site-packages/ax/core/data.py:288: FutureWarning: The behavior of DataFrame concatenation with empty or all-NA entries is deprecated. In a future version, this will no longer exclude empty or all-NA columns when determining the result dtypes. To retain the old behavior, exclude the relevant entries before the concat operation.\n",
      "  return cls(df=pd.concat(dfs, axis=0, sort=True))\n",
      "[WARNING 10-29 16:24:33] ax.service.utils.report_utils: Column reason missing for all trials. Not appending column.\n",
      "/Users/thomasdodd/miniconda3/envs/BO4ACST_env/lib/python3.11/site-packages/ax/core/data.py:288: FutureWarning: The behavior of DataFrame concatenation with empty or all-NA entries is deprecated. In a future version, this will no longer exclude empty or all-NA columns when determining the result dtypes. To retain the old behavior, exclude the relevant entries before the concat operation.\n",
      "  return cls(df=pd.concat(dfs, axis=0, sort=True))\n",
      "[WARNING 10-29 16:24:33] ax.service.utils.report_utils: Column reason missing for all trials. Not appending column.\n",
      "[INFO 10-29 16:24:33] ax.service.ax_client: Completed trial 19 with data: {'t1': (1.229241, None)}.\n",
      "[INFO 10-29 16:24:33] ax.service.ax_client: Saved JSON-serialized state of optimization to `/Users/thomasdodd/Library/CloudStorage/OneDrive-MillfieldEnterprisesLimited/Cambridge/GitHub/BO4ACST/Notebooks/Optimisation/Method20241028Dim2_qMaxValueEntropy/AxExperiment.json`.\n",
      "[WARNING 10-29 16:24:33] ax.service.utils.report_utils: Column reason missing for all trials. Not appending column.\n",
      "[WARNING 10-29 16:24:33] ax.service.utils.report_utils: Column reason missing for all trials. Not appending column.\n"
     ]
    },
    {
     "name": "stdout",
     "output_type": "stream",
     "text": [
      "There are no trials currently running - initialising Bayesian iteration trials.\n"
     ]
    },
    {
     "name": "stderr",
     "output_type": "stream",
     "text": [
      "[INFO 10-29 16:24:34] ax.service.ax_client: Generated new trial 20 with parameters {'x1': 2.30085, 'x2': 1.315471} using model BoTorch.\n",
      "[INFO 10-29 16:24:34] ax.service.ax_client: Saved JSON-serialized state of optimization to `/Users/thomasdodd/Library/CloudStorage/OneDrive-MillfieldEnterprisesLimited/Cambridge/GitHub/BO4ACST/Notebooks/Optimisation/Method20241028Dim2_qMaxValueEntropy/AxExperiment.json`.\n",
      "/Users/thomasdodd/miniconda3/envs/BO4ACST_env/lib/python3.11/site-packages/ax/core/data.py:288: FutureWarning: The behavior of DataFrame concatenation with empty or all-NA entries is deprecated. In a future version, this will no longer exclude empty or all-NA columns when determining the result dtypes. To retain the old behavior, exclude the relevant entries before the concat operation.\n",
      "  return cls(df=pd.concat(dfs, axis=0, sort=True))\n",
      "[WARNING 10-29 16:24:34] ax.service.utils.report_utils: Column reason missing for all trials. Not appending column.\n",
      "/Users/thomasdodd/miniconda3/envs/BO4ACST_env/lib/python3.11/site-packages/ax/core/data.py:288: FutureWarning: The behavior of DataFrame concatenation with empty or all-NA entries is deprecated. In a future version, this will no longer exclude empty or all-NA columns when determining the result dtypes. To retain the old behavior, exclude the relevant entries before the concat operation.\n",
      "  return cls(df=pd.concat(dfs, axis=0, sort=True))\n",
      "[WARNING 10-29 16:24:34] ax.service.utils.report_utils: Column reason missing for all trials. Not appending column.\n",
      "[INFO 10-29 16:24:34] ax.service.ax_client: Completed trial 20 with data: {'t1': (5.118688, None)}.\n",
      "[INFO 10-29 16:24:34] ax.service.ax_client: Saved JSON-serialized state of optimization to `/Users/thomasdodd/Library/CloudStorage/OneDrive-MillfieldEnterprisesLimited/Cambridge/GitHub/BO4ACST/Notebooks/Optimisation/Method20241028Dim2_qMaxValueEntropy/AxExperiment.json`.\n",
      "[WARNING 10-29 16:24:34] ax.service.utils.report_utils: Column reason missing for all trials. Not appending column.\n",
      "[WARNING 10-29 16:24:34] ax.service.utils.report_utils: Column reason missing for all trials. Not appending column.\n"
     ]
    },
    {
     "name": "stdout",
     "output_type": "stream",
     "text": [
      "There are no trials currently running - initialising Bayesian iteration trials.\n"
     ]
    },
    {
     "name": "stderr",
     "output_type": "stream",
     "text": [
      "[INFO 10-29 16:24:35] ax.service.ax_client: Generated new trial 21 with parameters {'x1': 0.396288, 'x2': 3.173291} using model BoTorch.\n",
      "[INFO 10-29 16:24:35] ax.service.ax_client: Saved JSON-serialized state of optimization to `/Users/thomasdodd/Library/CloudStorage/OneDrive-MillfieldEnterprisesLimited/Cambridge/GitHub/BO4ACST/Notebooks/Optimisation/Method20241028Dim2_qMaxValueEntropy/AxExperiment.json`.\n",
      "/Users/thomasdodd/miniconda3/envs/BO4ACST_env/lib/python3.11/site-packages/ax/core/data.py:288: FutureWarning: The behavior of DataFrame concatenation with empty or all-NA entries is deprecated. In a future version, this will no longer exclude empty or all-NA columns when determining the result dtypes. To retain the old behavior, exclude the relevant entries before the concat operation.\n",
      "  return cls(df=pd.concat(dfs, axis=0, sort=True))\n",
      "[WARNING 10-29 16:24:35] ax.service.utils.report_utils: Column reason missing for all trials. Not appending column.\n",
      "/Users/thomasdodd/miniconda3/envs/BO4ACST_env/lib/python3.11/site-packages/ax/core/data.py:288: FutureWarning: The behavior of DataFrame concatenation with empty or all-NA entries is deprecated. In a future version, this will no longer exclude empty or all-NA columns when determining the result dtypes. To retain the old behavior, exclude the relevant entries before the concat operation.\n",
      "  return cls(df=pd.concat(dfs, axis=0, sort=True))\n",
      "[WARNING 10-29 16:24:35] ax.service.utils.report_utils: Column reason missing for all trials. Not appending column.\n",
      "[INFO 10-29 16:24:35] ax.service.ax_client: Completed trial 21 with data: {'t1': (1.135544, None)}.\n",
      "[INFO 10-29 16:24:35] ax.service.ax_client: Saved JSON-serialized state of optimization to `/Users/thomasdodd/Library/CloudStorage/OneDrive-MillfieldEnterprisesLimited/Cambridge/GitHub/BO4ACST/Notebooks/Optimisation/Method20241028Dim2_qMaxValueEntropy/AxExperiment.json`.\n",
      "[WARNING 10-29 16:24:35] ax.service.utils.report_utils: Column reason missing for all trials. Not appending column.\n",
      "[WARNING 10-29 16:24:35] ax.service.utils.report_utils: Column reason missing for all trials. Not appending column.\n"
     ]
    },
    {
     "name": "stdout",
     "output_type": "stream",
     "text": [
      "There are no trials currently running - initialising Bayesian iteration trials.\n"
     ]
    },
    {
     "name": "stderr",
     "output_type": "stream",
     "text": [
      "[INFO 10-29 16:24:36] ax.service.ax_client: Generated new trial 22 with parameters {'x1': 0.587606, 'x2': 2.954821} using model BoTorch.\n",
      "[INFO 10-29 16:24:36] ax.service.ax_client: Saved JSON-serialized state of optimization to `/Users/thomasdodd/Library/CloudStorage/OneDrive-MillfieldEnterprisesLimited/Cambridge/GitHub/BO4ACST/Notebooks/Optimisation/Method20241028Dim2_qMaxValueEntropy/AxExperiment.json`.\n",
      "/Users/thomasdodd/miniconda3/envs/BO4ACST_env/lib/python3.11/site-packages/ax/core/data.py:288: FutureWarning: The behavior of DataFrame concatenation with empty or all-NA entries is deprecated. In a future version, this will no longer exclude empty or all-NA columns when determining the result dtypes. To retain the old behavior, exclude the relevant entries before the concat operation.\n",
      "  return cls(df=pd.concat(dfs, axis=0, sort=True))\n",
      "[WARNING 10-29 16:24:36] ax.service.utils.report_utils: Column reason missing for all trials. Not appending column.\n",
      "/Users/thomasdodd/miniconda3/envs/BO4ACST_env/lib/python3.11/site-packages/ax/core/data.py:288: FutureWarning: The behavior of DataFrame concatenation with empty or all-NA entries is deprecated. In a future version, this will no longer exclude empty or all-NA columns when determining the result dtypes. To retain the old behavior, exclude the relevant entries before the concat operation.\n",
      "  return cls(df=pd.concat(dfs, axis=0, sort=True))\n",
      "[WARNING 10-29 16:24:36] ax.service.utils.report_utils: Column reason missing for all trials. Not appending column.\n",
      "[INFO 10-29 16:24:36] ax.service.ax_client: Completed trial 22 with data: {'t1': (1.009601, None)}.\n",
      "[INFO 10-29 16:24:36] ax.service.ax_client: Saved JSON-serialized state of optimization to `/Users/thomasdodd/Library/CloudStorage/OneDrive-MillfieldEnterprisesLimited/Cambridge/GitHub/BO4ACST/Notebooks/Optimisation/Method20241028Dim2_qMaxValueEntropy/AxExperiment.json`.\n",
      "[WARNING 10-29 16:24:36] ax.service.utils.report_utils: Column reason missing for all trials. Not appending column.\n",
      "[WARNING 10-29 16:24:36] ax.service.utils.report_utils: Column reason missing for all trials. Not appending column.\n"
     ]
    },
    {
     "name": "stdout",
     "output_type": "stream",
     "text": [
      "There are no trials currently running - initialising Bayesian iteration trials.\n"
     ]
    },
    {
     "name": "stderr",
     "output_type": "stream",
     "text": [
      "[INFO 10-29 16:24:37] ax.service.ax_client: Generated new trial 23 with parameters {'x1': 1.34048, 'x2': 2.176468} using model BoTorch.\n",
      "[INFO 10-29 16:24:37] ax.service.ax_client: Saved JSON-serialized state of optimization to `/Users/thomasdodd/Library/CloudStorage/OneDrive-MillfieldEnterprisesLimited/Cambridge/GitHub/BO4ACST/Notebooks/Optimisation/Method20241028Dim2_qMaxValueEntropy/AxExperiment.json`.\n",
      "/Users/thomasdodd/miniconda3/envs/BO4ACST_env/lib/python3.11/site-packages/ax/core/data.py:288: FutureWarning: The behavior of DataFrame concatenation with empty or all-NA entries is deprecated. In a future version, this will no longer exclude empty or all-NA columns when determining the result dtypes. To retain the old behavior, exclude the relevant entries before the concat operation.\n",
      "  return cls(df=pd.concat(dfs, axis=0, sort=True))\n",
      "[WARNING 10-29 16:24:37] ax.service.utils.report_utils: Column reason missing for all trials. Not appending column.\n",
      "/Users/thomasdodd/miniconda3/envs/BO4ACST_env/lib/python3.11/site-packages/ax/core/data.py:288: FutureWarning: The behavior of DataFrame concatenation with empty or all-NA entries is deprecated. In a future version, this will no longer exclude empty or all-NA columns when determining the result dtypes. To retain the old behavior, exclude the relevant entries before the concat operation.\n",
      "  return cls(df=pd.concat(dfs, axis=0, sort=True))\n",
      "[WARNING 10-29 16:24:37] ax.service.utils.report_utils: Column reason missing for all trials. Not appending column.\n",
      "[INFO 10-29 16:24:37] ax.service.ax_client: Completed trial 23 with data: {'t1': (1.727491, None)}.\n",
      "[INFO 10-29 16:24:37] ax.service.ax_client: Saved JSON-serialized state of optimization to `/Users/thomasdodd/Library/CloudStorage/OneDrive-MillfieldEnterprisesLimited/Cambridge/GitHub/BO4ACST/Notebooks/Optimisation/Method20241028Dim2_qMaxValueEntropy/AxExperiment.json`.\n",
      "[WARNING 10-29 16:24:37] ax.service.utils.report_utils: Column reason missing for all trials. Not appending column.\n",
      "[INFO 10-29 16:24:37] ax.service.ax_client: Starting optimization with verbose logging. To disable logging, set the `verbose_logging` argument to `False`. Note that float values in the logs are rounded to 6 decimal points.\n",
      "[INFO 10-29 16:24:37] ax.service.utils.instantiation: Created search space: SearchSpace(parameters=[RangeParameter(name='x1', parameter_type=FLOAT, range=[-10.0, 10.0]), RangeParameter(name='x2', parameter_type=FLOAT, range=[-10.0, 10.0])], parameter_constraints=[]).\n",
      "[INFO 10-29 16:24:37] ax.service.ax_client: Saved JSON-serialized state of optimization to `/Users/thomasdodd/Library/CloudStorage/OneDrive-MillfieldEnterprisesLimited/Cambridge/GitHub/BO4ACST/Notebooks/Optimisation/Method20241028Dim2_qMaxValueEntropy/AxExperiment.json`.\n",
      "[INFO 10-29 16:24:37] ax.core.experiment: Attached custom parameterizations [{'x1': -10.0, 'x2': -10.0}] as trial 0.\n",
      "[INFO 10-29 16:24:37] ax.core.experiment: Attached custom parameterizations [{'x1': 0.0, 'x2': -10.0}] as trial 1.\n",
      "[INFO 10-29 16:24:37] ax.core.experiment: Attached custom parameterizations [{'x1': 10.0, 'x2': -10.0}] as trial 2.\n",
      "[INFO 10-29 16:24:37] ax.core.experiment: Attached custom parameterizations [{'x1': -10.0, 'x2': 0.0}] as trial 3.\n",
      "[INFO 10-29 16:24:37] ax.core.experiment: Attached custom parameterizations [{'x1': 0.0, 'x2': 0.0}] as trial 4.\n",
      "[INFO 10-29 16:24:37] ax.core.experiment: Attached custom parameterizations [{'x1': 10.0, 'x2': 0.0}] as trial 5.\n",
      "[INFO 10-29 16:24:37] ax.core.experiment: Attached custom parameterizations [{'x1': -10.0, 'x2': 10.0}] as trial 6.\n",
      "[INFO 10-29 16:24:37] ax.core.experiment: Attached custom parameterizations [{'x1': 0.0, 'x2': 10.0}] as trial 7.\n",
      "[INFO 10-29 16:24:37] ax.core.experiment: Attached custom parameterizations [{'x1': 10.0, 'x2': 10.0}] as trial 8.\n",
      "[INFO 10-29 16:24:37] ax.service.ax_client: Saved JSON-serialized state of optimization to `/Users/thomasdodd/Library/CloudStorage/OneDrive-MillfieldEnterprisesLimited/Cambridge/GitHub/BO4ACST/Notebooks/Optimisation/Method20241028Dim2_qMaxValueEntropy/AxExperiment.json`.\n",
      "[WARNING 10-29 16:24:37] ax.service.utils.report_utils: Column reason missing for all trials. Not appending column.\n",
      "[INFO 10-29 16:24:37] ax.service.utils.report_utils: No results present for the specified metrics `[Metric('t1')]`. Returning arm parameters and metadata only.\n",
      "[WARNING 10-29 16:24:37] ax.service.utils.report_utils: Column reason missing for all trials. Not appending column.\n",
      "[INFO 10-29 16:24:37] ax.service.utils.report_utils: No results present for the specified metrics `[Metric('t1')]`. Returning arm parameters and metadata only.\n",
      "[INFO 10-29 16:24:37] ax.service.ax_client: Completed trial 0 with data: {'t1': (2594.0, None)}.\n",
      "[INFO 10-29 16:24:37] ax.service.ax_client: Saved JSON-serialized state of optimization to `/Users/thomasdodd/Library/CloudStorage/OneDrive-MillfieldEnterprisesLimited/Cambridge/GitHub/BO4ACST/Notebooks/Optimisation/Method20241028Dim2_qMaxValueEntropy/AxExperiment.json`.\n",
      "[INFO 10-29 16:24:37] ax.service.ax_client: Completed trial 1 with data: {'t1': (954.0, None)}.\n",
      "[INFO 10-29 16:24:37] ax.service.ax_client: Saved JSON-serialized state of optimization to `/Users/thomasdodd/Library/CloudStorage/OneDrive-MillfieldEnterprisesLimited/Cambridge/GitHub/BO4ACST/Notebooks/Optimisation/Method20241028Dim2_qMaxValueEntropy/AxExperiment.json`.\n",
      "[INFO 10-29 16:24:37] ax.service.ax_client: Completed trial 2 with data: {'t1': (314.0, None)}.\n",
      "[INFO 10-29 16:24:37] ax.service.ax_client: Saved JSON-serialized state of optimization to `/Users/thomasdodd/Library/CloudStorage/OneDrive-MillfieldEnterprisesLimited/Cambridge/GitHub/BO4ACST/Notebooks/Optimisation/Method20241028Dim2_qMaxValueEntropy/AxExperiment.json`.\n",
      "[INFO 10-29 16:24:37] ax.service.ax_client: Completed trial 3 with data: {'t1': (914.0, None)}.\n",
      "[INFO 10-29 16:24:37] ax.service.ax_client: Saved JSON-serialized state of optimization to `/Users/thomasdodd/Library/CloudStorage/OneDrive-MillfieldEnterprisesLimited/Cambridge/GitHub/BO4ACST/Notebooks/Optimisation/Method20241028Dim2_qMaxValueEntropy/AxExperiment.json`.\n",
      "[INFO 10-29 16:24:37] ax.service.ax_client: Completed trial 4 with data: {'t1': (74.0, None)}.\n",
      "[INFO 10-29 16:24:37] ax.service.ax_client: Saved JSON-serialized state of optimization to `/Users/thomasdodd/Library/CloudStorage/OneDrive-MillfieldEnterprisesLimited/Cambridge/GitHub/BO4ACST/Notebooks/Optimisation/Method20241028Dim2_qMaxValueEntropy/AxExperiment.json`.\n",
      "[INFO 10-29 16:24:37] ax.service.ax_client: Completed trial 5 with data: {'t1': (234.0, None)}.\n",
      "[INFO 10-29 16:24:37] ax.service.ax_client: Saved JSON-serialized state of optimization to `/Users/thomasdodd/Library/CloudStorage/OneDrive-MillfieldEnterprisesLimited/Cambridge/GitHub/BO4ACST/Notebooks/Optimisation/Method20241028Dim2_qMaxValueEntropy/AxExperiment.json`.\n",
      "[INFO 10-29 16:24:37] ax.service.ax_client: Completed trial 6 with data: {'t1': (234.0, None)}.\n",
      "[INFO 10-29 16:24:37] ax.service.ax_client: Saved JSON-serialized state of optimization to `/Users/thomasdodd/Library/CloudStorage/OneDrive-MillfieldEnterprisesLimited/Cambridge/GitHub/BO4ACST/Notebooks/Optimisation/Method20241028Dim2_qMaxValueEntropy/AxExperiment.json`.\n",
      "[INFO 10-29 16:24:37] ax.service.ax_client: Completed trial 7 with data: {'t1': (194.0, None)}.\n",
      "[INFO 10-29 16:24:37] ax.service.ax_client: Saved JSON-serialized state of optimization to `/Users/thomasdodd/Library/CloudStorage/OneDrive-MillfieldEnterprisesLimited/Cambridge/GitHub/BO4ACST/Notebooks/Optimisation/Method20241028Dim2_qMaxValueEntropy/AxExperiment.json`.\n",
      "[INFO 10-29 16:24:37] ax.service.ax_client: Completed trial 8 with data: {'t1': (1154.0, None)}.\n",
      "[INFO 10-29 16:24:37] ax.service.ax_client: Saved JSON-serialized state of optimization to `/Users/thomasdodd/Library/CloudStorage/OneDrive-MillfieldEnterprisesLimited/Cambridge/GitHub/BO4ACST/Notebooks/Optimisation/Method20241028Dim2_qMaxValueEntropy/AxExperiment.json`.\n",
      "[WARNING 10-29 16:24:37] ax.service.utils.report_utils: Column reason missing for all trials. Not appending column.\n",
      "[WARNING 10-29 16:24:37] ax.service.utils.report_utils: Column reason missing for all trials. Not appending column.\n"
     ]
    },
    {
     "name": "stdout",
     "output_type": "stream",
     "text": [
      "[74.         44.86924238 44.86924238  7.85363233  1.43638711  1.43638711\n",
      "  1.43638711  1.24482244  1.24482244  1.24482244  1.24482244  1.22924105\n",
      "  1.22924105  1.13554425  1.00960134  1.00960134]\n",
      "A new experiment has been created and initialised.\n",
      "No previous or current trials detected - initialising prior-forming trials.\n",
      "Samples gridded = 9\n",
      "There are no trials currently running - initialising Bayesian iteration trials.\n"
     ]
    },
    {
     "name": "stderr",
     "output_type": "stream",
     "text": [
      "[INFO 10-29 16:24:40] ax.service.ax_client: Generated new trial 9 with parameters {'x1': -3.806494, 'x2': 5.947988} using model BoTorch.\n",
      "[INFO 10-29 16:24:40] ax.service.ax_client: Saved JSON-serialized state of optimization to `/Users/thomasdodd/Library/CloudStorage/OneDrive-MillfieldEnterprisesLimited/Cambridge/GitHub/BO4ACST/Notebooks/Optimisation/Method20241028Dim2_qMaxValueEntropy/AxExperiment.json`.\n",
      "/Users/thomasdodd/miniconda3/envs/BO4ACST_env/lib/python3.11/site-packages/ax/core/data.py:288: FutureWarning: The behavior of DataFrame concatenation with empty or all-NA entries is deprecated. In a future version, this will no longer exclude empty or all-NA columns when determining the result dtypes. To retain the old behavior, exclude the relevant entries before the concat operation.\n",
      "  return cls(df=pd.concat(dfs, axis=0, sort=True))\n",
      "[WARNING 10-29 16:24:40] ax.service.utils.report_utils: Column reason missing for all trials. Not appending column.\n",
      "/Users/thomasdodd/miniconda3/envs/BO4ACST_env/lib/python3.11/site-packages/ax/core/data.py:288: FutureWarning: The behavior of DataFrame concatenation with empty or all-NA entries is deprecated. In a future version, this will no longer exclude empty or all-NA columns when determining the result dtypes. To retain the old behavior, exclude the relevant entries before the concat operation.\n",
      "  return cls(df=pd.concat(dfs, axis=0, sort=True))\n",
      "[WARNING 10-29 16:24:40] ax.service.utils.report_utils: Column reason missing for all trials. Not appending column.\n",
      "[INFO 10-29 16:24:40] ax.service.ax_client: Completed trial 9 with data: {'t1': (45.6092, None)}.\n",
      "[INFO 10-29 16:24:40] ax.service.ax_client: Saved JSON-serialized state of optimization to `/Users/thomasdodd/Library/CloudStorage/OneDrive-MillfieldEnterprisesLimited/Cambridge/GitHub/BO4ACST/Notebooks/Optimisation/Method20241028Dim2_qMaxValueEntropy/AxExperiment.json`.\n",
      "[WARNING 10-29 16:24:40] ax.service.utils.report_utils: Column reason missing for all trials. Not appending column.\n",
      "[WARNING 10-29 16:24:40] ax.service.utils.report_utils: Column reason missing for all trials. Not appending column.\n"
     ]
    },
    {
     "name": "stdout",
     "output_type": "stream",
     "text": [
      "There are no trials currently running - initialising Bayesian iteration trials.\n"
     ]
    },
    {
     "name": "stderr",
     "output_type": "stream",
     "text": [
      "[INFO 10-29 16:24:45] ax.service.ax_client: Generated new trial 10 with parameters {'x1': 5.640576, 'x2': -3.101629} using model BoTorch.\n",
      "[INFO 10-29 16:24:45] ax.service.ax_client: Saved JSON-serialized state of optimization to `/Users/thomasdodd/Library/CloudStorage/OneDrive-MillfieldEnterprisesLimited/Cambridge/GitHub/BO4ACST/Notebooks/Optimisation/Method20241028Dim2_qMaxValueEntropy/AxExperiment.json`.\n",
      "/Users/thomasdodd/miniconda3/envs/BO4ACST_env/lib/python3.11/site-packages/ax/core/data.py:288: FutureWarning: The behavior of DataFrame concatenation with empty or all-NA entries is deprecated. In a future version, this will no longer exclude empty or all-NA columns when determining the result dtypes. To retain the old behavior, exclude the relevant entries before the concat operation.\n",
      "  return cls(df=pd.concat(dfs, axis=0, sort=True))\n",
      "[WARNING 10-29 16:24:45] ax.service.utils.report_utils: Column reason missing for all trials. Not appending column.\n",
      "/Users/thomasdodd/miniconda3/envs/BO4ACST_env/lib/python3.11/site-packages/ax/core/data.py:288: FutureWarning: The behavior of DataFrame concatenation with empty or all-NA entries is deprecated. In a future version, this will no longer exclude empty or all-NA columns when determining the result dtypes. To retain the old behavior, exclude the relevant entries before the concat operation.\n",
      "  return cls(df=pd.concat(dfs, axis=0, sort=True))\n",
      "[WARNING 10-29 16:24:45] ax.service.utils.report_utils: Column reason missing for all trials. Not appending column.\n",
      "[INFO 10-29 16:24:45] ax.service.ax_client: Completed trial 10 with data: {'t1': (67.303533, None)}.\n",
      "[INFO 10-29 16:24:45] ax.service.ax_client: Saved JSON-serialized state of optimization to `/Users/thomasdodd/Library/CloudStorage/OneDrive-MillfieldEnterprisesLimited/Cambridge/GitHub/BO4ACST/Notebooks/Optimisation/Method20241028Dim2_qMaxValueEntropy/AxExperiment.json`.\n",
      "[WARNING 10-29 16:24:45] ax.service.utils.report_utils: Column reason missing for all trials. Not appending column.\n",
      "[WARNING 10-29 16:24:45] ax.service.utils.report_utils: Column reason missing for all trials. Not appending column.\n"
     ]
    },
    {
     "name": "stdout",
     "output_type": "stream",
     "text": [
      "There are no trials currently running - initialising Bayesian iteration trials.\n"
     ]
    },
    {
     "name": "stderr",
     "output_type": "stream",
     "text": [
      "[INFO 10-29 16:24:53] ax.service.ax_client: Generated new trial 11 with parameters {'x1': 2.354933, 'x2': 3.139794} using model BoTorch.\n",
      "[INFO 10-29 16:24:53] ax.service.ax_client: Saved JSON-serialized state of optimization to `/Users/thomasdodd/Library/CloudStorage/OneDrive-MillfieldEnterprisesLimited/Cambridge/GitHub/BO4ACST/Notebooks/Optimisation/Method20241028Dim2_qMaxValueEntropy/AxExperiment.json`.\n",
      "/Users/thomasdodd/miniconda3/envs/BO4ACST_env/lib/python3.11/site-packages/ax/core/data.py:288: FutureWarning: The behavior of DataFrame concatenation with empty or all-NA entries is deprecated. In a future version, this will no longer exclude empty or all-NA columns when determining the result dtypes. To retain the old behavior, exclude the relevant entries before the concat operation.\n",
      "  return cls(df=pd.concat(dfs, axis=0, sort=True))\n",
      "[WARNING 10-29 16:24:53] ax.service.utils.report_utils: Column reason missing for all trials. Not appending column.\n",
      "/Users/thomasdodd/miniconda3/envs/BO4ACST_env/lib/python3.11/site-packages/ax/core/data.py:288: FutureWarning: The behavior of DataFrame concatenation with empty or all-NA entries is deprecated. In a future version, this will no longer exclude empty or all-NA columns when determining the result dtypes. To retain the old behavior, exclude the relevant entries before the concat operation.\n",
      "  return cls(df=pd.concat(dfs, axis=0, sort=True))\n",
      "[WARNING 10-29 16:24:53] ax.service.utils.report_utils: Column reason missing for all trials. Not appending column.\n",
      "[INFO 10-29 16:24:53] ax.service.ax_client: Completed trial 11 with data: {'t1': (10.792227, None)}.\n",
      "[INFO 10-29 16:24:53] ax.service.ax_client: Saved JSON-serialized state of optimization to `/Users/thomasdodd/Library/CloudStorage/OneDrive-MillfieldEnterprisesLimited/Cambridge/GitHub/BO4ACST/Notebooks/Optimisation/Method20241028Dim2_qMaxValueEntropy/AxExperiment.json`.\n",
      "[WARNING 10-29 16:24:53] ax.service.utils.report_utils: Column reason missing for all trials. Not appending column.\n",
      "[WARNING 10-29 16:24:53] ax.service.utils.report_utils: Column reason missing for all trials. Not appending column.\n"
     ]
    },
    {
     "name": "stdout",
     "output_type": "stream",
     "text": [
      "There are no trials currently running - initialising Bayesian iteration trials.\n"
     ]
    },
    {
     "name": "stderr",
     "output_type": "stream",
     "text": [
      "[INFO 10-29 16:24:59] ax.service.ax_client: Generated new trial 12 with parameters {'x1': 0.809084, 'x2': 3.461182} using model BoTorch.\n",
      "[INFO 10-29 16:24:59] ax.service.ax_client: Saved JSON-serialized state of optimization to `/Users/thomasdodd/Library/CloudStorage/OneDrive-MillfieldEnterprisesLimited/Cambridge/GitHub/BO4ACST/Notebooks/Optimisation/Method20241028Dim2_qMaxValueEntropy/AxExperiment.json`.\n",
      "/Users/thomasdodd/miniconda3/envs/BO4ACST_env/lib/python3.11/site-packages/ax/core/data.py:288: FutureWarning: The behavior of DataFrame concatenation with empty or all-NA entries is deprecated. In a future version, this will no longer exclude empty or all-NA columns when determining the result dtypes. To retain the old behavior, exclude the relevant entries before the concat operation.\n",
      "  return cls(df=pd.concat(dfs, axis=0, sort=True))\n",
      "[WARNING 10-29 16:24:59] ax.service.utils.report_utils: Column reason missing for all trials. Not appending column.\n",
      "/Users/thomasdodd/miniconda3/envs/BO4ACST_env/lib/python3.11/site-packages/ax/core/data.py:288: FutureWarning: The behavior of DataFrame concatenation with empty or all-NA entries is deprecated. In a future version, this will no longer exclude empty or all-NA columns when determining the result dtypes. To retain the old behavior, exclude the relevant entries before the concat operation.\n",
      "  return cls(df=pd.concat(dfs, axis=0, sort=True))\n",
      "[WARNING 10-29 16:24:59] ax.service.utils.report_utils: Column reason missing for all trials. Not appending column.\n",
      "[INFO 10-29 16:24:59] ax.service.ax_client: Completed trial 12 with data: {'t1': (0.541312, None)}.\n",
      "[INFO 10-29 16:24:59] ax.service.ax_client: Saved JSON-serialized state of optimization to `/Users/thomasdodd/Library/CloudStorage/OneDrive-MillfieldEnterprisesLimited/Cambridge/GitHub/BO4ACST/Notebooks/Optimisation/Method20241028Dim2_qMaxValueEntropy/AxExperiment.json`.\n",
      "[WARNING 10-29 16:24:59] ax.service.utils.report_utils: Column reason missing for all trials. Not appending column.\n",
      "[WARNING 10-29 16:24:59] ax.service.utils.report_utils: Column reason missing for all trials. Not appending column.\n"
     ]
    },
    {
     "name": "stdout",
     "output_type": "stream",
     "text": [
      "There are no trials currently running - initialising Bayesian iteration trials.\n"
     ]
    },
    {
     "name": "stderr",
     "output_type": "stream",
     "text": [
      "[INFO 10-29 16:25:06] ax.service.ax_client: Generated new trial 13 with parameters {'x1': -2.775741, 'x2': 5.957311} using model BoTorch.\n",
      "[INFO 10-29 16:25:06] ax.service.ax_client: Saved JSON-serialized state of optimization to `/Users/thomasdodd/Library/CloudStorage/OneDrive-MillfieldEnterprisesLimited/Cambridge/GitHub/BO4ACST/Notebooks/Optimisation/Method20241028Dim2_qMaxValueEntropy/AxExperiment.json`.\n",
      "/Users/thomasdodd/miniconda3/envs/BO4ACST_env/lib/python3.11/site-packages/ax/core/data.py:288: FutureWarning: The behavior of DataFrame concatenation with empty or all-NA entries is deprecated. In a future version, this will no longer exclude empty or all-NA columns when determining the result dtypes. To retain the old behavior, exclude the relevant entries before the concat operation.\n",
      "  return cls(df=pd.concat(dfs, axis=0, sort=True))\n",
      "[WARNING 10-29 16:25:06] ax.service.utils.report_utils: Column reason missing for all trials. Not appending column.\n",
      "/Users/thomasdodd/miniconda3/envs/BO4ACST_env/lib/python3.11/site-packages/ax/core/data.py:288: FutureWarning: The behavior of DataFrame concatenation with empty or all-NA entries is deprecated. In a future version, this will no longer exclude empty or all-NA columns when determining the result dtypes. To retain the old behavior, exclude the relevant entries before the concat operation.\n",
      "  return cls(df=pd.concat(dfs, axis=0, sort=True))\n",
      "[WARNING 10-29 16:25:07] ax.service.utils.report_utils: Column reason missing for all trials. Not appending column.\n",
      "[INFO 10-29 16:25:07] ax.service.ax_client: Completed trial 13 with data: {'t1': (25.681217, None)}.\n",
      "[INFO 10-29 16:25:07] ax.service.ax_client: Saved JSON-serialized state of optimization to `/Users/thomasdodd/Library/CloudStorage/OneDrive-MillfieldEnterprisesLimited/Cambridge/GitHub/BO4ACST/Notebooks/Optimisation/Method20241028Dim2_qMaxValueEntropy/AxExperiment.json`.\n",
      "[WARNING 10-29 16:25:07] ax.service.utils.report_utils: Column reason missing for all trials. Not appending column.\n",
      "[WARNING 10-29 16:25:07] ax.service.utils.report_utils: Column reason missing for all trials. Not appending column.\n"
     ]
    },
    {
     "name": "stdout",
     "output_type": "stream",
     "text": [
      "There are no trials currently running - initialising Bayesian iteration trials.\n"
     ]
    },
    {
     "name": "stderr",
     "output_type": "stream",
     "text": [
      "[INFO 10-29 16:25:15] ax.service.ax_client: Generated new trial 14 with parameters {'x1': 2.757668, 'x2': 1.490745} using model BoTorch.\n",
      "[INFO 10-29 16:25:15] ax.service.ax_client: Saved JSON-serialized state of optimization to `/Users/thomasdodd/Library/CloudStorage/OneDrive-MillfieldEnterprisesLimited/Cambridge/GitHub/BO4ACST/Notebooks/Optimisation/Method20241028Dim2_qMaxValueEntropy/AxExperiment.json`.\n",
      "/Users/thomasdodd/miniconda3/envs/BO4ACST_env/lib/python3.11/site-packages/ax/core/data.py:288: FutureWarning: The behavior of DataFrame concatenation with empty or all-NA entries is deprecated. In a future version, this will no longer exclude empty or all-NA columns when determining the result dtypes. To retain the old behavior, exclude the relevant entries before the concat operation.\n",
      "  return cls(df=pd.concat(dfs, axis=0, sort=True))\n",
      "[WARNING 10-29 16:25:15] ax.service.utils.report_utils: Column reason missing for all trials. Not appending column.\n",
      "/Users/thomasdodd/miniconda3/envs/BO4ACST_env/lib/python3.11/site-packages/ax/core/data.py:288: FutureWarning: The behavior of DataFrame concatenation with empty or all-NA entries is deprecated. In a future version, this will no longer exclude empty or all-NA columns when determining the result dtypes. To retain the old behavior, exclude the relevant entries before the concat operation.\n",
      "  return cls(df=pd.concat(dfs, axis=0, sort=True))\n",
      "[WARNING 10-29 16:25:15] ax.service.utils.report_utils: Column reason missing for all trials. Not appending column.\n",
      "[INFO 10-29 16:25:15] ax.service.ax_client: Completed trial 14 with data: {'t1': (5.614086, None)}.\n",
      "[INFO 10-29 16:25:15] ax.service.ax_client: Saved JSON-serialized state of optimization to `/Users/thomasdodd/Library/CloudStorage/OneDrive-MillfieldEnterprisesLimited/Cambridge/GitHub/BO4ACST/Notebooks/Optimisation/Method20241028Dim2_qMaxValueEntropy/AxExperiment.json`.\n",
      "[WARNING 10-29 16:25:15] ax.service.utils.report_utils: Column reason missing for all trials. Not appending column.\n",
      "[WARNING 10-29 16:25:15] ax.service.utils.report_utils: Column reason missing for all trials. Not appending column.\n"
     ]
    },
    {
     "name": "stdout",
     "output_type": "stream",
     "text": [
      "There are no trials currently running - initialising Bayesian iteration trials.\n"
     ]
    },
    {
     "name": "stderr",
     "output_type": "stream",
     "text": [
      "[INFO 10-29 16:25:20] ax.service.ax_client: Generated new trial 15 with parameters {'x1': 0.444867, 'x2': 3.454631} using model BoTorch.\n",
      "[INFO 10-29 16:25:20] ax.service.ax_client: Saved JSON-serialized state of optimization to `/Users/thomasdodd/Library/CloudStorage/OneDrive-MillfieldEnterprisesLimited/Cambridge/GitHub/BO4ACST/Notebooks/Optimisation/Method20241028Dim2_qMaxValueEntropy/AxExperiment.json`.\n",
      "/Users/thomasdodd/miniconda3/envs/BO4ACST_env/lib/python3.11/site-packages/ax/core/data.py:288: FutureWarning: The behavior of DataFrame concatenation with empty or all-NA entries is deprecated. In a future version, this will no longer exclude empty or all-NA columns when determining the result dtypes. To retain the old behavior, exclude the relevant entries before the concat operation.\n",
      "  return cls(df=pd.concat(dfs, axis=0, sort=True))\n",
      "[WARNING 10-29 16:25:20] ax.service.utils.report_utils: Column reason missing for all trials. Not appending column.\n",
      "/Users/thomasdodd/miniconda3/envs/BO4ACST_env/lib/python3.11/site-packages/ax/core/data.py:288: FutureWarning: The behavior of DataFrame concatenation with empty or all-NA entries is deprecated. In a future version, this will no longer exclude empty or all-NA columns when determining the result dtypes. To retain the old behavior, exclude the relevant entries before the concat operation.\n",
      "  return cls(df=pd.concat(dfs, axis=0, sort=True))\n",
      "[WARNING 10-29 16:25:20] ax.service.utils.report_utils: Column reason missing for all trials. Not appending column.\n",
      "[INFO 10-29 16:25:20] ax.service.ax_client: Completed trial 15 with data: {'t1': (0.555266, None)}.\n",
      "[INFO 10-29 16:25:20] ax.service.ax_client: Saved JSON-serialized state of optimization to `/Users/thomasdodd/Library/CloudStorage/OneDrive-MillfieldEnterprisesLimited/Cambridge/GitHub/BO4ACST/Notebooks/Optimisation/Method20241028Dim2_qMaxValueEntropy/AxExperiment.json`.\n",
      "[WARNING 10-29 16:25:20] ax.service.utils.report_utils: Column reason missing for all trials. Not appending column.\n",
      "[WARNING 10-29 16:25:20] ax.service.utils.report_utils: Column reason missing for all trials. Not appending column.\n"
     ]
    },
    {
     "name": "stdout",
     "output_type": "stream",
     "text": [
      "There are no trials currently running - initialising Bayesian iteration trials.\n"
     ]
    },
    {
     "name": "stderr",
     "output_type": "stream",
     "text": [
      "[INFO 10-29 16:25:29] ax.service.ax_client: Generated new trial 16 with parameters {'x1': 3.000243, 'x2': 0.911357} using model BoTorch.\n",
      "[INFO 10-29 16:25:29] ax.service.ax_client: Saved JSON-serialized state of optimization to `/Users/thomasdodd/Library/CloudStorage/OneDrive-MillfieldEnterprisesLimited/Cambridge/GitHub/BO4ACST/Notebooks/Optimisation/Method20241028Dim2_qMaxValueEntropy/AxExperiment.json`.\n",
      "/Users/thomasdodd/miniconda3/envs/BO4ACST_env/lib/python3.11/site-packages/ax/core/data.py:288: FutureWarning: The behavior of DataFrame concatenation with empty or all-NA entries is deprecated. In a future version, this will no longer exclude empty or all-NA columns when determining the result dtypes. To retain the old behavior, exclude the relevant entries before the concat operation.\n",
      "  return cls(df=pd.concat(dfs, axis=0, sort=True))\n",
      "[WARNING 10-29 16:25:29] ax.service.utils.report_utils: Column reason missing for all trials. Not appending column.\n",
      "/Users/thomasdodd/miniconda3/envs/BO4ACST_env/lib/python3.11/site-packages/ax/core/data.py:288: FutureWarning: The behavior of DataFrame concatenation with empty or all-NA entries is deprecated. In a future version, this will no longer exclude empty or all-NA columns when determining the result dtypes. To retain the old behavior, exclude the relevant entries before the concat operation.\n",
      "  return cls(df=pd.concat(dfs, axis=0, sort=True))\n",
      "[WARNING 10-29 16:25:29] ax.service.utils.report_utils: Column reason missing for all trials. Not appending column.\n",
      "[INFO 10-29 16:25:29] ax.service.ax_client: Completed trial 16 with data: {'t1': (8.394658, None)}.\n",
      "[INFO 10-29 16:25:29] ax.service.ax_client: Saved JSON-serialized state of optimization to `/Users/thomasdodd/Library/CloudStorage/OneDrive-MillfieldEnterprisesLimited/Cambridge/GitHub/BO4ACST/Notebooks/Optimisation/Method20241028Dim2_qMaxValueEntropy/AxExperiment.json`.\n",
      "[WARNING 10-29 16:25:29] ax.service.utils.report_utils: Column reason missing for all trials. Not appending column.\n",
      "[WARNING 10-29 16:25:29] ax.service.utils.report_utils: Column reason missing for all trials. Not appending column.\n"
     ]
    },
    {
     "name": "stdout",
     "output_type": "stream",
     "text": [
      "There are no trials currently running - initialising Bayesian iteration trials.\n"
     ]
    },
    {
     "name": "stderr",
     "output_type": "stream",
     "text": [
      "[INFO 10-29 16:25:38] ax.service.ax_client: Generated new trial 17 with parameters {'x1': 0.060663, 'x2': 3.635704} using model BoTorch.\n",
      "[INFO 10-29 16:25:38] ax.service.ax_client: Saved JSON-serialized state of optimization to `/Users/thomasdodd/Library/CloudStorage/OneDrive-MillfieldEnterprisesLimited/Cambridge/GitHub/BO4ACST/Notebooks/Optimisation/Method20241028Dim2_qMaxValueEntropy/AxExperiment.json`.\n",
      "/Users/thomasdodd/miniconda3/envs/BO4ACST_env/lib/python3.11/site-packages/ax/core/data.py:288: FutureWarning: The behavior of DataFrame concatenation with empty or all-NA entries is deprecated. In a future version, this will no longer exclude empty or all-NA columns when determining the result dtypes. To retain the old behavior, exclude the relevant entries before the concat operation.\n",
      "  return cls(df=pd.concat(dfs, axis=0, sort=True))\n",
      "[WARNING 10-29 16:25:38] ax.service.utils.report_utils: Column reason missing for all trials. Not appending column.\n",
      "/Users/thomasdodd/miniconda3/envs/BO4ACST_env/lib/python3.11/site-packages/ax/core/data.py:288: FutureWarning: The behavior of DataFrame concatenation with empty or all-NA entries is deprecated. In a future version, this will no longer exclude empty or all-NA columns when determining the result dtypes. To retain the old behavior, exclude the relevant entries before the concat operation.\n",
      "  return cls(df=pd.concat(dfs, axis=0, sort=True))\n",
      "[WARNING 10-29 16:25:38] ax.service.utils.report_utils: Column reason missing for all trials. Not appending column.\n",
      "[INFO 10-29 16:25:38] ax.service.ax_client: Completed trial 17 with data: {'t1': (1.655245, None)}.\n",
      "[INFO 10-29 16:25:38] ax.service.ax_client: Saved JSON-serialized state of optimization to `/Users/thomasdodd/Library/CloudStorage/OneDrive-MillfieldEnterprisesLimited/Cambridge/GitHub/BO4ACST/Notebooks/Optimisation/Method20241028Dim2_qMaxValueEntropy/AxExperiment.json`.\n",
      "[WARNING 10-29 16:25:38] ax.service.utils.report_utils: Column reason missing for all trials. Not appending column.\n",
      "[WARNING 10-29 16:25:38] ax.service.utils.report_utils: Column reason missing for all trials. Not appending column.\n"
     ]
    },
    {
     "name": "stdout",
     "output_type": "stream",
     "text": [
      "There are no trials currently running - initialising Bayesian iteration trials.\n"
     ]
    },
    {
     "name": "stderr",
     "output_type": "stream",
     "text": [
      "[INFO 10-29 16:25:47] ax.service.ax_client: Generated new trial 18 with parameters {'x1': 0.22264, 'x2': 3.399491} using model BoTorch.\n",
      "[INFO 10-29 16:25:47] ax.service.ax_client: Saved JSON-serialized state of optimization to `/Users/thomasdodd/Library/CloudStorage/OneDrive-MillfieldEnterprisesLimited/Cambridge/GitHub/BO4ACST/Notebooks/Optimisation/Method20241028Dim2_qMaxValueEntropy/AxExperiment.json`.\n",
      "/Users/thomasdodd/miniconda3/envs/BO4ACST_env/lib/python3.11/site-packages/ax/core/data.py:288: FutureWarning: The behavior of DataFrame concatenation with empty or all-NA entries is deprecated. In a future version, this will no longer exclude empty or all-NA columns when determining the result dtypes. To retain the old behavior, exclude the relevant entries before the concat operation.\n",
      "  return cls(df=pd.concat(dfs, axis=0, sort=True))\n",
      "[WARNING 10-29 16:25:47] ax.service.utils.report_utils: Column reason missing for all trials. Not appending column.\n",
      "/Users/thomasdodd/miniconda3/envs/BO4ACST_env/lib/python3.11/site-packages/ax/core/data.py:288: FutureWarning: The behavior of DataFrame concatenation with empty or all-NA entries is deprecated. In a future version, this will no longer exclude empty or all-NA columns when determining the result dtypes. To retain the old behavior, exclude the relevant entries before the concat operation.\n",
      "  return cls(df=pd.concat(dfs, axis=0, sort=True))\n",
      "[WARNING 10-29 16:25:47] ax.service.utils.report_utils: Column reason missing for all trials. Not appending column.\n",
      "[INFO 10-29 16:25:47] ax.service.ax_client: Completed trial 18 with data: {'t1': (1.335019, None)}.\n",
      "[INFO 10-29 16:25:48] ax.service.ax_client: Saved JSON-serialized state of optimization to `/Users/thomasdodd/Library/CloudStorage/OneDrive-MillfieldEnterprisesLimited/Cambridge/GitHub/BO4ACST/Notebooks/Optimisation/Method20241028Dim2_qMaxValueEntropy/AxExperiment.json`.\n",
      "[WARNING 10-29 16:25:48] ax.service.utils.report_utils: Column reason missing for all trials. Not appending column.\n",
      "[WARNING 10-29 16:25:48] ax.service.utils.report_utils: Column reason missing for all trials. Not appending column.\n"
     ]
    },
    {
     "name": "stdout",
     "output_type": "stream",
     "text": [
      "There are no trials currently running - initialising Bayesian iteration trials.\n"
     ]
    },
    {
     "name": "stderr",
     "output_type": "stream",
     "text": [
      "[INFO 10-29 16:25:56] ax.service.ax_client: Generated new trial 19 with parameters {'x1': -4.798728, 'x2': 10.0} using model BoTorch.\n",
      "[INFO 10-29 16:25:56] ax.service.ax_client: Saved JSON-serialized state of optimization to `/Users/thomasdodd/Library/CloudStorage/OneDrive-MillfieldEnterprisesLimited/Cambridge/GitHub/BO4ACST/Notebooks/Optimisation/Method20241028Dim2_qMaxValueEntropy/AxExperiment.json`.\n",
      "/Users/thomasdodd/miniconda3/envs/BO4ACST_env/lib/python3.11/site-packages/ax/core/data.py:288: FutureWarning: The behavior of DataFrame concatenation with empty or all-NA entries is deprecated. In a future version, this will no longer exclude empty or all-NA columns when determining the result dtypes. To retain the old behavior, exclude the relevant entries before the concat operation.\n",
      "  return cls(df=pd.concat(dfs, axis=0, sort=True))\n",
      "[WARNING 10-29 16:25:56] ax.service.utils.report_utils: Column reason missing for all trials. Not appending column.\n",
      "/Users/thomasdodd/miniconda3/envs/BO4ACST_env/lib/python3.11/site-packages/ax/core/data.py:288: FutureWarning: The behavior of DataFrame concatenation with empty or all-NA entries is deprecated. In a future version, this will no longer exclude empty or all-NA columns when determining the result dtypes. To retain the old behavior, exclude the relevant entries before the concat operation.\n",
      "  return cls(df=pd.concat(dfs, axis=0, sort=True))\n",
      "[WARNING 10-29 16:25:56] ax.service.utils.report_utils: Column reason missing for all trials. Not appending column.\n",
      "[INFO 10-29 16:25:56] ax.service.ax_client: Completed trial 19 with data: {'t1': (88.397465, None)}.\n",
      "[INFO 10-29 16:25:56] ax.service.ax_client: Saved JSON-serialized state of optimization to `/Users/thomasdodd/Library/CloudStorage/OneDrive-MillfieldEnterprisesLimited/Cambridge/GitHub/BO4ACST/Notebooks/Optimisation/Method20241028Dim2_qMaxValueEntropy/AxExperiment.json`.\n",
      "[WARNING 10-29 16:25:56] ax.service.utils.report_utils: Column reason missing for all trials. Not appending column.\n",
      "[WARNING 10-29 16:25:56] ax.service.utils.report_utils: Column reason missing for all trials. Not appending column.\n"
     ]
    },
    {
     "name": "stdout",
     "output_type": "stream",
     "text": [
      "There are no trials currently running - initialising Bayesian iteration trials.\n"
     ]
    },
    {
     "name": "stderr",
     "output_type": "stream",
     "text": [
      "[INFO 10-29 16:26:04] ax.service.ax_client: Generated new trial 20 with parameters {'x1': 1.331322, 'x2': 2.197597} using model BoTorch.\n",
      "[INFO 10-29 16:26:04] ax.service.ax_client: Saved JSON-serialized state of optimization to `/Users/thomasdodd/Library/CloudStorage/OneDrive-MillfieldEnterprisesLimited/Cambridge/GitHub/BO4ACST/Notebooks/Optimisation/Method20241028Dim2_qMaxValueEntropy/AxExperiment.json`.\n",
      "/Users/thomasdodd/miniconda3/envs/BO4ACST_env/lib/python3.11/site-packages/ax/core/data.py:288: FutureWarning: The behavior of DataFrame concatenation with empty or all-NA entries is deprecated. In a future version, this will no longer exclude empty or all-NA columns when determining the result dtypes. To retain the old behavior, exclude the relevant entries before the concat operation.\n",
      "  return cls(df=pd.concat(dfs, axis=0, sort=True))\n",
      "[WARNING 10-29 16:26:04] ax.service.utils.report_utils: Column reason missing for all trials. Not appending column.\n",
      "/Users/thomasdodd/miniconda3/envs/BO4ACST_env/lib/python3.11/site-packages/ax/core/data.py:288: FutureWarning: The behavior of DataFrame concatenation with empty or all-NA entries is deprecated. In a future version, this will no longer exclude empty or all-NA columns when determining the result dtypes. To retain the old behavior, exclude the relevant entries before the concat operation.\n",
      "  return cls(df=pd.concat(dfs, axis=0, sort=True))\n",
      "[WARNING 10-29 16:26:04] ax.service.utils.report_utils: Column reason missing for all trials. Not appending column.\n",
      "[INFO 10-29 16:26:04] ax.service.ax_client: Completed trial 20 with data: {'t1': (1.641295, None)}.\n",
      "[INFO 10-29 16:26:04] ax.service.ax_client: Saved JSON-serialized state of optimization to `/Users/thomasdodd/Library/CloudStorage/OneDrive-MillfieldEnterprisesLimited/Cambridge/GitHub/BO4ACST/Notebooks/Optimisation/Method20241028Dim2_qMaxValueEntropy/AxExperiment.json`.\n",
      "[WARNING 10-29 16:26:04] ax.service.utils.report_utils: Column reason missing for all trials. Not appending column.\n",
      "[WARNING 10-29 16:26:04] ax.service.utils.report_utils: Column reason missing for all trials. Not appending column.\n"
     ]
    },
    {
     "name": "stdout",
     "output_type": "stream",
     "text": [
      "There are no trials currently running - initialising Bayesian iteration trials.\n"
     ]
    },
    {
     "name": "stderr",
     "output_type": "stream",
     "text": [
      "[INFO 10-29 16:26:14] ax.service.ax_client: Generated new trial 21 with parameters {'x1': 0.569072, 'x2': 2.940246} using model BoTorch.\n",
      "[INFO 10-29 16:26:14] ax.service.ax_client: Saved JSON-serialized state of optimization to `/Users/thomasdodd/Library/CloudStorage/OneDrive-MillfieldEnterprisesLimited/Cambridge/GitHub/BO4ACST/Notebooks/Optimisation/Method20241028Dim2_qMaxValueEntropy/AxExperiment.json`.\n",
      "/Users/thomasdodd/miniconda3/envs/BO4ACST_env/lib/python3.11/site-packages/ax/core/data.py:288: FutureWarning: The behavior of DataFrame concatenation with empty or all-NA entries is deprecated. In a future version, this will no longer exclude empty or all-NA columns when determining the result dtypes. To retain the old behavior, exclude the relevant entries before the concat operation.\n",
      "  return cls(df=pd.concat(dfs, axis=0, sort=True))\n",
      "[WARNING 10-29 16:26:14] ax.service.utils.report_utils: Column reason missing for all trials. Not appending column.\n",
      "/Users/thomasdodd/miniconda3/envs/BO4ACST_env/lib/python3.11/site-packages/ax/core/data.py:288: FutureWarning: The behavior of DataFrame concatenation with empty or all-NA entries is deprecated. In a future version, this will no longer exclude empty or all-NA columns when determining the result dtypes. To retain the old behavior, exclude the relevant entries before the concat operation.\n",
      "  return cls(df=pd.concat(dfs, axis=0, sort=True))\n",
      "[WARNING 10-29 16:26:14] ax.service.utils.report_utils: Column reason missing for all trials. Not appending column.\n",
      "[INFO 10-29 16:26:14] ax.service.ax_client: Completed trial 21 with data: {'t1': (1.152346, None)}.\n",
      "[INFO 10-29 16:26:14] ax.service.ax_client: Saved JSON-serialized state of optimization to `/Users/thomasdodd/Library/CloudStorage/OneDrive-MillfieldEnterprisesLimited/Cambridge/GitHub/BO4ACST/Notebooks/Optimisation/Method20241028Dim2_qMaxValueEntropy/AxExperiment.json`.\n",
      "[WARNING 10-29 16:26:14] ax.service.utils.report_utils: Column reason missing for all trials. Not appending column.\n",
      "[WARNING 10-29 16:26:14] ax.service.utils.report_utils: Column reason missing for all trials. Not appending column.\n"
     ]
    },
    {
     "name": "stdout",
     "output_type": "stream",
     "text": [
      "There are no trials currently running - initialising Bayesian iteration trials.\n"
     ]
    },
    {
     "name": "stderr",
     "output_type": "stream",
     "text": [
      "[INFO 10-29 16:26:27] ax.service.ax_client: Generated new trial 22 with parameters {'x1': 1.89444, 'x2': 1.723316} using model BoTorch.\n",
      "[INFO 10-29 16:26:27] ax.service.ax_client: Saved JSON-serialized state of optimization to `/Users/thomasdodd/Library/CloudStorage/OneDrive-MillfieldEnterprisesLimited/Cambridge/GitHub/BO4ACST/Notebooks/Optimisation/Method20241028Dim2_qMaxValueEntropy/AxExperiment.json`.\n",
      "/Users/thomasdodd/miniconda3/envs/BO4ACST_env/lib/python3.11/site-packages/ax/core/data.py:288: FutureWarning: The behavior of DataFrame concatenation with empty or all-NA entries is deprecated. In a future version, this will no longer exclude empty or all-NA columns when determining the result dtypes. To retain the old behavior, exclude the relevant entries before the concat operation.\n",
      "  return cls(df=pd.concat(dfs, axis=0, sort=True))\n",
      "[WARNING 10-29 16:26:27] ax.service.utils.report_utils: Column reason missing for all trials. Not appending column.\n",
      "/Users/thomasdodd/miniconda3/envs/BO4ACST_env/lib/python3.11/site-packages/ax/core/data.py:288: FutureWarning: The behavior of DataFrame concatenation with empty or all-NA entries is deprecated. In a future version, this will no longer exclude empty or all-NA columns when determining the result dtypes. To retain the old behavior, exclude the relevant entries before the concat operation.\n",
      "  return cls(df=pd.concat(dfs, axis=0, sort=True))\n",
      "[WARNING 10-29 16:26:27] ax.service.utils.report_utils: Column reason missing for all trials. Not appending column.\n",
      "[INFO 10-29 16:26:27] ax.service.ax_client: Completed trial 22 with data: {'t1': (3.014388, None)}.\n",
      "[INFO 10-29 16:26:27] ax.service.ax_client: Saved JSON-serialized state of optimization to `/Users/thomasdodd/Library/CloudStorage/OneDrive-MillfieldEnterprisesLimited/Cambridge/GitHub/BO4ACST/Notebooks/Optimisation/Method20241028Dim2_qMaxValueEntropy/AxExperiment.json`.\n",
      "[WARNING 10-29 16:26:27] ax.service.utils.report_utils: Column reason missing for all trials. Not appending column.\n",
      "[WARNING 10-29 16:26:27] ax.service.utils.report_utils: Column reason missing for all trials. Not appending column.\n"
     ]
    },
    {
     "name": "stdout",
     "output_type": "stream",
     "text": [
      "There are no trials currently running - initialising Bayesian iteration trials.\n"
     ]
    },
    {
     "name": "stderr",
     "output_type": "stream",
     "text": [
      "[INFO 10-29 16:26:33] ax.service.ax_client: Generated new trial 23 with parameters {'x1': 0.535927, 'x2': 3.063688} using model BoTorch.\n",
      "[INFO 10-29 16:26:33] ax.service.ax_client: Saved JSON-serialized state of optimization to `/Users/thomasdodd/Library/CloudStorage/OneDrive-MillfieldEnterprisesLimited/Cambridge/GitHub/BO4ACST/Notebooks/Optimisation/Method20241028Dim2_qMaxValueEntropy/AxExperiment.json`.\n",
      "/Users/thomasdodd/miniconda3/envs/BO4ACST_env/lib/python3.11/site-packages/ax/core/data.py:288: FutureWarning: The behavior of DataFrame concatenation with empty or all-NA entries is deprecated. In a future version, this will no longer exclude empty or all-NA columns when determining the result dtypes. To retain the old behavior, exclude the relevant entries before the concat operation.\n",
      "  return cls(df=pd.concat(dfs, axis=0, sort=True))\n",
      "[WARNING 10-29 16:26:33] ax.service.utils.report_utils: Column reason missing for all trials. Not appending column.\n",
      "/Users/thomasdodd/miniconda3/envs/BO4ACST_env/lib/python3.11/site-packages/ax/core/data.py:288: FutureWarning: The behavior of DataFrame concatenation with empty or all-NA entries is deprecated. In a future version, this will no longer exclude empty or all-NA columns when determining the result dtypes. To retain the old behavior, exclude the relevant entries before the concat operation.\n",
      "  return cls(df=pd.concat(dfs, axis=0, sort=True))\n",
      "[WARNING 10-29 16:26:33] ax.service.utils.report_utils: Column reason missing for all trials. Not appending column.\n",
      "[INFO 10-29 16:26:33] ax.service.ax_client: Completed trial 23 with data: {'t1': (0.860652, None)}.\n",
      "[INFO 10-29 16:26:33] ax.service.ax_client: Saved JSON-serialized state of optimization to `/Users/thomasdodd/Library/CloudStorage/OneDrive-MillfieldEnterprisesLimited/Cambridge/GitHub/BO4ACST/Notebooks/Optimisation/Method20241028Dim2_qMaxValueEntropy/AxExperiment.json`.\n",
      "[WARNING 10-29 16:26:33] ax.service.utils.report_utils: Column reason missing for all trials. Not appending column.\n",
      "[INFO 10-29 16:26:33] ax.service.ax_client: Starting optimization with verbose logging. To disable logging, set the `verbose_logging` argument to `False`. Note that float values in the logs are rounded to 6 decimal points.\n",
      "[INFO 10-29 16:26:33] ax.service.utils.instantiation: Created search space: SearchSpace(parameters=[RangeParameter(name='x1', parameter_type=FLOAT, range=[-10.0, 10.0]), RangeParameter(name='x2', parameter_type=FLOAT, range=[-10.0, 10.0])], parameter_constraints=[]).\n",
      "[INFO 10-29 16:26:33] ax.service.ax_client: Saved JSON-serialized state of optimization to `/Users/thomasdodd/Library/CloudStorage/OneDrive-MillfieldEnterprisesLimited/Cambridge/GitHub/BO4ACST/Notebooks/Optimisation/Method20241028Dim2_qMaxValueEntropy/AxExperiment.json`.\n",
      "[INFO 10-29 16:26:33] ax.core.experiment: Attached custom parameterizations [{'x1': -10.0, 'x2': -10.0}] as trial 0.\n",
      "[INFO 10-29 16:26:33] ax.core.experiment: Attached custom parameterizations [{'x1': 0.0, 'x2': -10.0}] as trial 1.\n",
      "[INFO 10-29 16:26:33] ax.core.experiment: Attached custom parameterizations [{'x1': 10.0, 'x2': -10.0}] as trial 2.\n",
      "[INFO 10-29 16:26:33] ax.core.experiment: Attached custom parameterizations [{'x1': -10.0, 'x2': 0.0}] as trial 3.\n",
      "[INFO 10-29 16:26:33] ax.core.experiment: Attached custom parameterizations [{'x1': 0.0, 'x2': 0.0}] as trial 4.\n",
      "[INFO 10-29 16:26:33] ax.core.experiment: Attached custom parameterizations [{'x1': 10.0, 'x2': 0.0}] as trial 5.\n",
      "[INFO 10-29 16:26:33] ax.core.experiment: Attached custom parameterizations [{'x1': -10.0, 'x2': 10.0}] as trial 6.\n",
      "[INFO 10-29 16:26:33] ax.core.experiment: Attached custom parameterizations [{'x1': 0.0, 'x2': 10.0}] as trial 7.\n",
      "[INFO 10-29 16:26:33] ax.core.experiment: Attached custom parameterizations [{'x1': 10.0, 'x2': 10.0}] as trial 8.\n",
      "[INFO 10-29 16:26:33] ax.service.ax_client: Saved JSON-serialized state of optimization to `/Users/thomasdodd/Library/CloudStorage/OneDrive-MillfieldEnterprisesLimited/Cambridge/GitHub/BO4ACST/Notebooks/Optimisation/Method20241028Dim2_qMaxValueEntropy/AxExperiment.json`.\n",
      "[WARNING 10-29 16:26:33] ax.service.utils.report_utils: Column reason missing for all trials. Not appending column.\n",
      "[INFO 10-29 16:26:33] ax.service.utils.report_utils: No results present for the specified metrics `[Metric('t1')]`. Returning arm parameters and metadata only.\n",
      "[WARNING 10-29 16:26:33] ax.service.utils.report_utils: Column reason missing for all trials. Not appending column.\n",
      "[INFO 10-29 16:26:33] ax.service.utils.report_utils: No results present for the specified metrics `[Metric('t1')]`. Returning arm parameters and metadata only.\n",
      "[INFO 10-29 16:26:33] ax.service.ax_client: Completed trial 0 with data: {'t1': (2594.0, None)}.\n",
      "[INFO 10-29 16:26:33] ax.service.ax_client: Saved JSON-serialized state of optimization to `/Users/thomasdodd/Library/CloudStorage/OneDrive-MillfieldEnterprisesLimited/Cambridge/GitHub/BO4ACST/Notebooks/Optimisation/Method20241028Dim2_qMaxValueEntropy/AxExperiment.json`.\n",
      "[INFO 10-29 16:26:33] ax.service.ax_client: Completed trial 1 with data: {'t1': (954.0, None)}.\n",
      "[INFO 10-29 16:26:33] ax.service.ax_client: Saved JSON-serialized state of optimization to `/Users/thomasdodd/Library/CloudStorage/OneDrive-MillfieldEnterprisesLimited/Cambridge/GitHub/BO4ACST/Notebooks/Optimisation/Method20241028Dim2_qMaxValueEntropy/AxExperiment.json`.\n",
      "[INFO 10-29 16:26:33] ax.service.ax_client: Completed trial 2 with data: {'t1': (314.0, None)}.\n",
      "[INFO 10-29 16:26:33] ax.service.ax_client: Saved JSON-serialized state of optimization to `/Users/thomasdodd/Library/CloudStorage/OneDrive-MillfieldEnterprisesLimited/Cambridge/GitHub/BO4ACST/Notebooks/Optimisation/Method20241028Dim2_qMaxValueEntropy/AxExperiment.json`.\n",
      "[INFO 10-29 16:26:33] ax.service.ax_client: Completed trial 3 with data: {'t1': (914.0, None)}.\n",
      "[INFO 10-29 16:26:33] ax.service.ax_client: Saved JSON-serialized state of optimization to `/Users/thomasdodd/Library/CloudStorage/OneDrive-MillfieldEnterprisesLimited/Cambridge/GitHub/BO4ACST/Notebooks/Optimisation/Method20241028Dim2_qMaxValueEntropy/AxExperiment.json`.\n",
      "[INFO 10-29 16:26:33] ax.service.ax_client: Completed trial 4 with data: {'t1': (74.0, None)}.\n",
      "[INFO 10-29 16:26:33] ax.service.ax_client: Saved JSON-serialized state of optimization to `/Users/thomasdodd/Library/CloudStorage/OneDrive-MillfieldEnterprisesLimited/Cambridge/GitHub/BO4ACST/Notebooks/Optimisation/Method20241028Dim2_qMaxValueEntropy/AxExperiment.json`.\n",
      "[INFO 10-29 16:26:33] ax.service.ax_client: Completed trial 5 with data: {'t1': (234.0, None)}.\n",
      "[INFO 10-29 16:26:33] ax.service.ax_client: Saved JSON-serialized state of optimization to `/Users/thomasdodd/Library/CloudStorage/OneDrive-MillfieldEnterprisesLimited/Cambridge/GitHub/BO4ACST/Notebooks/Optimisation/Method20241028Dim2_qMaxValueEntropy/AxExperiment.json`.\n",
      "[INFO 10-29 16:26:33] ax.service.ax_client: Completed trial 6 with data: {'t1': (234.0, None)}.\n",
      "[INFO 10-29 16:26:33] ax.service.ax_client: Saved JSON-serialized state of optimization to `/Users/thomasdodd/Library/CloudStorage/OneDrive-MillfieldEnterprisesLimited/Cambridge/GitHub/BO4ACST/Notebooks/Optimisation/Method20241028Dim2_qMaxValueEntropy/AxExperiment.json`.\n",
      "[INFO 10-29 16:26:33] ax.service.ax_client: Completed trial 7 with data: {'t1': (194.0, None)}.\n",
      "[INFO 10-29 16:26:33] ax.service.ax_client: Saved JSON-serialized state of optimization to `/Users/thomasdodd/Library/CloudStorage/OneDrive-MillfieldEnterprisesLimited/Cambridge/GitHub/BO4ACST/Notebooks/Optimisation/Method20241028Dim2_qMaxValueEntropy/AxExperiment.json`.\n",
      "[INFO 10-29 16:26:33] ax.service.ax_client: Completed trial 8 with data: {'t1': (1154.0, None)}.\n",
      "[INFO 10-29 16:26:33] ax.service.ax_client: Saved JSON-serialized state of optimization to `/Users/thomasdodd/Library/CloudStorage/OneDrive-MillfieldEnterprisesLimited/Cambridge/GitHub/BO4ACST/Notebooks/Optimisation/Method20241028Dim2_qMaxValueEntropy/AxExperiment.json`.\n",
      "[WARNING 10-29 16:26:33] ax.service.utils.report_utils: Column reason missing for all trials. Not appending column.\n",
      "[WARNING 10-29 16:26:33] ax.service.utils.report_utils: Column reason missing for all trials. Not appending column.\n"
     ]
    },
    {
     "name": "stdout",
     "output_type": "stream",
     "text": [
      "[74.         45.60919977 45.60919977 10.79222744  0.54131195  0.54131195\n",
      "  0.54131195  0.54131195  0.54131195  0.54131195  0.54131195  0.54131195\n",
      "  0.54131195  0.54131195  0.54131195  0.54131195]\n",
      "A new experiment has been created and initialised.\n",
      "No previous or current trials detected - initialising prior-forming trials.\n",
      "Samples gridded = 9\n",
      "There are no trials currently running - initialising Bayesian iteration trials.\n"
     ]
    },
    {
     "name": "stderr",
     "output_type": "stream",
     "text": [
      "[INFO 10-29 16:26:40] ax.service.ax_client: Generated new trial 9 with parameters {'x1': -3.837012, 'x2': 5.946599} using model BoTorch.\n",
      "[INFO 10-29 16:26:40] ax.service.ax_client: Saved JSON-serialized state of optimization to `/Users/thomasdodd/Library/CloudStorage/OneDrive-MillfieldEnterprisesLimited/Cambridge/GitHub/BO4ACST/Notebooks/Optimisation/Method20241028Dim2_qMaxValueEntropy/AxExperiment.json`.\n",
      "/Users/thomasdodd/miniconda3/envs/BO4ACST_env/lib/python3.11/site-packages/ax/core/data.py:288: FutureWarning: The behavior of DataFrame concatenation with empty or all-NA entries is deprecated. In a future version, this will no longer exclude empty or all-NA columns when determining the result dtypes. To retain the old behavior, exclude the relevant entries before the concat operation.\n",
      "  return cls(df=pd.concat(dfs, axis=0, sort=True))\n",
      "[WARNING 10-29 16:26:40] ax.service.utils.report_utils: Column reason missing for all trials. Not appending column.\n",
      "/Users/thomasdodd/miniconda3/envs/BO4ACST_env/lib/python3.11/site-packages/ax/core/data.py:288: FutureWarning: The behavior of DataFrame concatenation with empty or all-NA entries is deprecated. In a future version, this will no longer exclude empty or all-NA columns when determining the result dtypes. To retain the old behavior, exclude the relevant entries before the concat operation.\n",
      "  return cls(df=pd.concat(dfs, axis=0, sort=True))\n",
      "[WARNING 10-29 16:26:40] ax.service.utils.report_utils: Column reason missing for all trials. Not appending column.\n",
      "[INFO 10-29 16:26:40] ax.service.ax_client: Completed trial 9 with data: {'t1': (46.373775, None)}.\n",
      "[INFO 10-29 16:26:40] ax.service.ax_client: Saved JSON-serialized state of optimization to `/Users/thomasdodd/Library/CloudStorage/OneDrive-MillfieldEnterprisesLimited/Cambridge/GitHub/BO4ACST/Notebooks/Optimisation/Method20241028Dim2_qMaxValueEntropy/AxExperiment.json`.\n",
      "[WARNING 10-29 16:26:40] ax.service.utils.report_utils: Column reason missing for all trials. Not appending column.\n",
      "[WARNING 10-29 16:26:40] ax.service.utils.report_utils: Column reason missing for all trials. Not appending column.\n"
     ]
    },
    {
     "name": "stdout",
     "output_type": "stream",
     "text": [
      "There are no trials currently running - initialising Bayesian iteration trials.\n"
     ]
    },
    {
     "name": "stderr",
     "output_type": "stream",
     "text": [
      "[INFO 10-29 16:26:51] ax.service.ax_client: Generated new trial 10 with parameters {'x1': 5.621975, 'x2': -3.045884} using model BoTorch.\n",
      "[INFO 10-29 16:26:51] ax.service.ax_client: Saved JSON-serialized state of optimization to `/Users/thomasdodd/Library/CloudStorage/OneDrive-MillfieldEnterprisesLimited/Cambridge/GitHub/BO4ACST/Notebooks/Optimisation/Method20241028Dim2_qMaxValueEntropy/AxExperiment.json`.\n",
      "/Users/thomasdodd/miniconda3/envs/BO4ACST_env/lib/python3.11/site-packages/ax/core/data.py:288: FutureWarning: The behavior of DataFrame concatenation with empty or all-NA entries is deprecated. In a future version, this will no longer exclude empty or all-NA columns when determining the result dtypes. To retain the old behavior, exclude the relevant entries before the concat operation.\n",
      "  return cls(df=pd.concat(dfs, axis=0, sort=True))\n",
      "[WARNING 10-29 16:26:51] ax.service.utils.report_utils: Column reason missing for all trials. Not appending column.\n",
      "/Users/thomasdodd/miniconda3/envs/BO4ACST_env/lib/python3.11/site-packages/ax/core/data.py:288: FutureWarning: The behavior of DataFrame concatenation with empty or all-NA entries is deprecated. In a future version, this will no longer exclude empty or all-NA columns when determining the result dtypes. To retain the old behavior, exclude the relevant entries before the concat operation.\n",
      "  return cls(df=pd.concat(dfs, axis=0, sort=True))\n",
      "[WARNING 10-29 16:26:51] ax.service.utils.report_utils: Column reason missing for all trials. Not appending column.\n",
      "[INFO 10-29 16:26:51] ax.service.ax_client: Completed trial 10 with data: {'t1': (66.025437, None)}.\n",
      "[INFO 10-29 16:26:51] ax.service.ax_client: Saved JSON-serialized state of optimization to `/Users/thomasdodd/Library/CloudStorage/OneDrive-MillfieldEnterprisesLimited/Cambridge/GitHub/BO4ACST/Notebooks/Optimisation/Method20241028Dim2_qMaxValueEntropy/AxExperiment.json`.\n",
      "[WARNING 10-29 16:26:51] ax.service.utils.report_utils: Column reason missing for all trials. Not appending column.\n",
      "[WARNING 10-29 16:26:51] ax.service.utils.report_utils: Column reason missing for all trials. Not appending column.\n"
     ]
    },
    {
     "name": "stdout",
     "output_type": "stream",
     "text": [
      "There are no trials currently running - initialising Bayesian iteration trials.\n"
     ]
    },
    {
     "name": "stderr",
     "output_type": "stream",
     "text": [
      "[INFO 10-29 16:27:02] ax.service.ax_client: Generated new trial 11 with parameters {'x1': 2.092873, 'x2': 3.05787} using model BoTorch.\n",
      "[INFO 10-29 16:27:02] ax.service.ax_client: Saved JSON-serialized state of optimization to `/Users/thomasdodd/Library/CloudStorage/OneDrive-MillfieldEnterprisesLimited/Cambridge/GitHub/BO4ACST/Notebooks/Optimisation/Method20241028Dim2_qMaxValueEntropy/AxExperiment.json`.\n",
      "/Users/thomasdodd/miniconda3/envs/BO4ACST_env/lib/python3.11/site-packages/ax/core/data.py:288: FutureWarning: The behavior of DataFrame concatenation with empty or all-NA entries is deprecated. In a future version, this will no longer exclude empty or all-NA columns when determining the result dtypes. To retain the old behavior, exclude the relevant entries before the concat operation.\n",
      "  return cls(df=pd.concat(dfs, axis=0, sort=True))\n",
      "[WARNING 10-29 16:27:02] ax.service.utils.report_utils: Column reason missing for all trials. Not appending column.\n",
      "/Users/thomasdodd/miniconda3/envs/BO4ACST_env/lib/python3.11/site-packages/ax/core/data.py:288: FutureWarning: The behavior of DataFrame concatenation with empty or all-NA entries is deprecated. In a future version, this will no longer exclude empty or all-NA columns when determining the result dtypes. To retain the old behavior, exclude the relevant entries before the concat operation.\n",
      "  return cls(df=pd.concat(dfs, axis=0, sort=True))\n",
      "[WARNING 10-29 16:27:02] ax.service.utils.report_utils: Column reason missing for all trials. Not appending column.\n",
      "[INFO 10-29 16:27:02] ax.service.ax_client: Completed trial 11 with data: {'t1': (6.494563, None)}.\n",
      "[INFO 10-29 16:27:02] ax.service.ax_client: Saved JSON-serialized state of optimization to `/Users/thomasdodd/Library/CloudStorage/OneDrive-MillfieldEnterprisesLimited/Cambridge/GitHub/BO4ACST/Notebooks/Optimisation/Method20241028Dim2_qMaxValueEntropy/AxExperiment.json`.\n",
      "[WARNING 10-29 16:27:02] ax.service.utils.report_utils: Column reason missing for all trials. Not appending column.\n",
      "[WARNING 10-29 16:27:02] ax.service.utils.report_utils: Column reason missing for all trials. Not appending column.\n"
     ]
    },
    {
     "name": "stdout",
     "output_type": "stream",
     "text": [
      "There are no trials currently running - initialising Bayesian iteration trials.\n"
     ]
    },
    {
     "name": "stderr",
     "output_type": "stream",
     "text": [
      "[INFO 10-29 16:27:15] ax.service.ax_client: Generated new trial 12 with parameters {'x1': 1.271369, 'x2': 3.217139} using model BoTorch.\n",
      "[INFO 10-29 16:27:15] ax.service.ax_client: Saved JSON-serialized state of optimization to `/Users/thomasdodd/Library/CloudStorage/OneDrive-MillfieldEnterprisesLimited/Cambridge/GitHub/BO4ACST/Notebooks/Optimisation/Method20241028Dim2_qMaxValueEntropy/AxExperiment.json`.\n",
      "/Users/thomasdodd/miniconda3/envs/BO4ACST_env/lib/python3.11/site-packages/ax/core/data.py:288: FutureWarning: The behavior of DataFrame concatenation with empty or all-NA entries is deprecated. In a future version, this will no longer exclude empty or all-NA columns when determining the result dtypes. To retain the old behavior, exclude the relevant entries before the concat operation.\n",
      "  return cls(df=pd.concat(dfs, axis=0, sort=True))\n",
      "[WARNING 10-29 16:27:15] ax.service.utils.report_utils: Column reason missing for all trials. Not appending column.\n",
      "/Users/thomasdodd/miniconda3/envs/BO4ACST_env/lib/python3.11/site-packages/ax/core/data.py:288: FutureWarning: The behavior of DataFrame concatenation with empty or all-NA entries is deprecated. In a future version, this will no longer exclude empty or all-NA columns when determining the result dtypes. To retain the old behavior, exclude the relevant entries before the concat operation.\n",
      "  return cls(df=pd.concat(dfs, axis=0, sort=True))\n",
      "[WARNING 10-29 16:27:15] ax.service.utils.report_utils: Column reason missing for all trials. Not appending column.\n",
      "[INFO 10-29 16:27:15] ax.service.ax_client: Completed trial 12 with data: {'t1': (1.075349, None)}.\n",
      "[INFO 10-29 16:27:15] ax.service.ax_client: Saved JSON-serialized state of optimization to `/Users/thomasdodd/Library/CloudStorage/OneDrive-MillfieldEnterprisesLimited/Cambridge/GitHub/BO4ACST/Notebooks/Optimisation/Method20241028Dim2_qMaxValueEntropy/AxExperiment.json`.\n",
      "[WARNING 10-29 16:27:15] ax.service.utils.report_utils: Column reason missing for all trials. Not appending column.\n",
      "[WARNING 10-29 16:27:15] ax.service.utils.report_utils: Column reason missing for all trials. Not appending column.\n"
     ]
    },
    {
     "name": "stdout",
     "output_type": "stream",
     "text": [
      "There are no trials currently running - initialising Bayesian iteration trials.\n"
     ]
    },
    {
     "name": "stderr",
     "output_type": "stream",
     "text": [
      "[INFO 10-29 16:27:23] ax.service.ax_client: Generated new trial 13 with parameters {'x1': -3.033696, 'x2': 6.127759} using model BoTorch.\n",
      "[INFO 10-29 16:27:23] ax.service.ax_client: Saved JSON-serialized state of optimization to `/Users/thomasdodd/Library/CloudStorage/OneDrive-MillfieldEnterprisesLimited/Cambridge/GitHub/BO4ACST/Notebooks/Optimisation/Method20241028Dim2_qMaxValueEntropy/AxExperiment.json`.\n",
      "/Users/thomasdodd/miniconda3/envs/BO4ACST_env/lib/python3.11/site-packages/ax/core/data.py:288: FutureWarning: The behavior of DataFrame concatenation with empty or all-NA entries is deprecated. In a future version, this will no longer exclude empty or all-NA columns when determining the result dtypes. To retain the old behavior, exclude the relevant entries before the concat operation.\n",
      "  return cls(df=pd.concat(dfs, axis=0, sort=True))\n",
      "[WARNING 10-29 16:27:23] ax.service.utils.report_utils: Column reason missing for all trials. Not appending column.\n",
      "/Users/thomasdodd/miniconda3/envs/BO4ACST_env/lib/python3.11/site-packages/ax/core/data.py:288: FutureWarning: The behavior of DataFrame concatenation with empty or all-NA entries is deprecated. In a future version, this will no longer exclude empty or all-NA columns when determining the result dtypes. To retain the old behavior, exclude the relevant entries before the concat operation.\n",
      "  return cls(df=pd.concat(dfs, axis=0, sort=True))\n",
      "[WARNING 10-29 16:27:23] ax.service.utils.report_utils: Column reason missing for all trials. Not appending column.\n",
      "[INFO 10-29 16:27:23] ax.service.ax_client: Completed trial 13 with data: {'t1': (29.33646, None)}.\n",
      "[INFO 10-29 16:27:23] ax.service.ax_client: Saved JSON-serialized state of optimization to `/Users/thomasdodd/Library/CloudStorage/OneDrive-MillfieldEnterprisesLimited/Cambridge/GitHub/BO4ACST/Notebooks/Optimisation/Method20241028Dim2_qMaxValueEntropy/AxExperiment.json`.\n",
      "[WARNING 10-29 16:27:23] ax.service.utils.report_utils: Column reason missing for all trials. Not appending column.\n",
      "[WARNING 10-29 16:27:23] ax.service.utils.report_utils: Column reason missing for all trials. Not appending column.\n"
     ]
    },
    {
     "name": "stdout",
     "output_type": "stream",
     "text": [
      "There are no trials currently running - initialising Bayesian iteration trials.\n"
     ]
    },
    {
     "name": "stderr",
     "output_type": "stream",
     "text": [
      "[INFO 10-29 16:27:32] ax.service.ax_client: Generated new trial 14 with parameters {'x1': 2.762114, 'x2': 1.568305} using model BoTorch.\n",
      "[INFO 10-29 16:27:32] ax.service.ax_client: Saved JSON-serialized state of optimization to `/Users/thomasdodd/Library/CloudStorage/OneDrive-MillfieldEnterprisesLimited/Cambridge/GitHub/BO4ACST/Notebooks/Optimisation/Method20241028Dim2_qMaxValueEntropy/AxExperiment.json`.\n",
      "/Users/thomasdodd/miniconda3/envs/BO4ACST_env/lib/python3.11/site-packages/ax/core/data.py:288: FutureWarning: The behavior of DataFrame concatenation with empty or all-NA entries is deprecated. In a future version, this will no longer exclude empty or all-NA columns when determining the result dtypes. To retain the old behavior, exclude the relevant entries before the concat operation.\n",
      "  return cls(df=pd.concat(dfs, axis=0, sort=True))\n",
      "[WARNING 10-29 16:27:32] ax.service.utils.report_utils: Column reason missing for all trials. Not appending column.\n",
      "/Users/thomasdodd/miniconda3/envs/BO4ACST_env/lib/python3.11/site-packages/ax/core/data.py:288: FutureWarning: The behavior of DataFrame concatenation with empty or all-NA entries is deprecated. In a future version, this will no longer exclude empty or all-NA columns when determining the result dtypes. To retain the old behavior, exclude the relevant entries before the concat operation.\n",
      "  return cls(df=pd.concat(dfs, axis=0, sort=True))\n",
      "[WARNING 10-29 16:27:32] ax.service.utils.report_utils: Column reason missing for all trials. Not appending column.\n",
      "[INFO 10-29 16:27:32] ax.service.ax_client: Completed trial 14 with data: {'t1': (5.591505, None)}.\n",
      "[INFO 10-29 16:27:32] ax.service.ax_client: Saved JSON-serialized state of optimization to `/Users/thomasdodd/Library/CloudStorage/OneDrive-MillfieldEnterprisesLimited/Cambridge/GitHub/BO4ACST/Notebooks/Optimisation/Method20241028Dim2_qMaxValueEntropy/AxExperiment.json`.\n",
      "[WARNING 10-29 16:27:32] ax.service.utils.report_utils: Column reason missing for all trials. Not appending column.\n",
      "[WARNING 10-29 16:27:32] ax.service.utils.report_utils: Column reason missing for all trials. Not appending column.\n"
     ]
    },
    {
     "name": "stdout",
     "output_type": "stream",
     "text": [
      "There are no trials currently running - initialising Bayesian iteration trials.\n"
     ]
    },
    {
     "name": "stderr",
     "output_type": "stream",
     "text": [
      "[INFO 10-29 16:27:41] ax.service.ax_client: Generated new trial 15 with parameters {'x1': 0.115321, 'x2': 3.731466} using model BoTorch.\n",
      "[INFO 10-29 16:27:41] ax.service.ax_client: Saved JSON-serialized state of optimization to `/Users/thomasdodd/Library/CloudStorage/OneDrive-MillfieldEnterprisesLimited/Cambridge/GitHub/BO4ACST/Notebooks/Optimisation/Method20241028Dim2_qMaxValueEntropy/AxExperiment.json`.\n",
      "/Users/thomasdodd/miniconda3/envs/BO4ACST_env/lib/python3.11/site-packages/ax/core/data.py:288: FutureWarning: The behavior of DataFrame concatenation with empty or all-NA entries is deprecated. In a future version, this will no longer exclude empty or all-NA columns when determining the result dtypes. To retain the old behavior, exclude the relevant entries before the concat operation.\n",
      "  return cls(df=pd.concat(dfs, axis=0, sort=True))\n",
      "[WARNING 10-29 16:27:41] ax.service.utils.report_utils: Column reason missing for all trials. Not appending column.\n",
      "/Users/thomasdodd/miniconda3/envs/BO4ACST_env/lib/python3.11/site-packages/ax/core/data.py:288: FutureWarning: The behavior of DataFrame concatenation with empty or all-NA entries is deprecated. In a future version, this will no longer exclude empty or all-NA columns when determining the result dtypes. To retain the old behavior, exclude the relevant entries before the concat operation.\n",
      "  return cls(df=pd.concat(dfs, axis=0, sort=True))\n",
      "[WARNING 10-29 16:27:41] ax.service.utils.report_utils: Column reason missing for all trials. Not appending column.\n",
      "[INFO 10-29 16:27:41] ax.service.ax_client: Completed trial 15 with data: {'t1': (1.411596, None)}.\n",
      "[INFO 10-29 16:27:41] ax.service.ax_client: Saved JSON-serialized state of optimization to `/Users/thomasdodd/Library/CloudStorage/OneDrive-MillfieldEnterprisesLimited/Cambridge/GitHub/BO4ACST/Notebooks/Optimisation/Method20241028Dim2_qMaxValueEntropy/AxExperiment.json`.\n",
      "[WARNING 10-29 16:27:41] ax.service.utils.report_utils: Column reason missing for all trials. Not appending column.\n",
      "[WARNING 10-29 16:27:41] ax.service.utils.report_utils: Column reason missing for all trials. Not appending column.\n"
     ]
    },
    {
     "name": "stdout",
     "output_type": "stream",
     "text": [
      "There are no trials currently running - initialising Bayesian iteration trials.\n"
     ]
    },
    {
     "name": "stderr",
     "output_type": "stream",
     "text": [
      "[INFO 10-29 16:27:46] ax.service.ax_client: Generated new trial 16 with parameters {'x1': 2.871374, 'x2': 0.988561} using model BoTorch.\n",
      "[INFO 10-29 16:27:46] ax.service.ax_client: Saved JSON-serialized state of optimization to `/Users/thomasdodd/Library/CloudStorage/OneDrive-MillfieldEnterprisesLimited/Cambridge/GitHub/BO4ACST/Notebooks/Optimisation/Method20241028Dim2_qMaxValueEntropy/AxExperiment.json`.\n",
      "/Users/thomasdodd/miniconda3/envs/BO4ACST_env/lib/python3.11/site-packages/ax/core/data.py:288: FutureWarning: The behavior of DataFrame concatenation with empty or all-NA entries is deprecated. In a future version, this will no longer exclude empty or all-NA columns when determining the result dtypes. To retain the old behavior, exclude the relevant entries before the concat operation.\n",
      "  return cls(df=pd.concat(dfs, axis=0, sort=True))\n",
      "[WARNING 10-29 16:27:46] ax.service.utils.report_utils: Column reason missing for all trials. Not appending column.\n",
      "/Users/thomasdodd/miniconda3/envs/BO4ACST_env/lib/python3.11/site-packages/ax/core/data.py:288: FutureWarning: The behavior of DataFrame concatenation with empty or all-NA entries is deprecated. In a future version, this will no longer exclude empty or all-NA columns when determining the result dtypes. To retain the old behavior, exclude the relevant entries before the concat operation.\n",
      "  return cls(df=pd.concat(dfs, axis=0, sort=True))\n",
      "[WARNING 10-29 16:27:46] ax.service.utils.report_utils: Column reason missing for all trials. Not appending column.\n",
      "[INFO 10-29 16:27:46] ax.service.ax_client: Completed trial 16 with data: {'t1': (7.626403, None)}.\n",
      "[INFO 10-29 16:27:46] ax.service.ax_client: Saved JSON-serialized state of optimization to `/Users/thomasdodd/Library/CloudStorage/OneDrive-MillfieldEnterprisesLimited/Cambridge/GitHub/BO4ACST/Notebooks/Optimisation/Method20241028Dim2_qMaxValueEntropy/AxExperiment.json`.\n",
      "[WARNING 10-29 16:27:46] ax.service.utils.report_utils: Column reason missing for all trials. Not appending column.\n",
      "[WARNING 10-29 16:27:46] ax.service.utils.report_utils: Column reason missing for all trials. Not appending column.\n"
     ]
    },
    {
     "name": "stdout",
     "output_type": "stream",
     "text": [
      "There are no trials currently running - initialising Bayesian iteration trials.\n"
     ]
    },
    {
     "name": "stderr",
     "output_type": "stream",
     "text": [
      "[INFO 10-29 16:27:52] ax.service.ax_client: Generated new trial 17 with parameters {'x1': -0.04093, 'x2': 3.707837} using model BoTorch.\n",
      "[INFO 10-29 16:27:52] ax.service.ax_client: Saved JSON-serialized state of optimization to `/Users/thomasdodd/Library/CloudStorage/OneDrive-MillfieldEnterprisesLimited/Cambridge/GitHub/BO4ACST/Notebooks/Optimisation/Method20241028Dim2_qMaxValueEntropy/AxExperiment.json`.\n",
      "/Users/thomasdodd/miniconda3/envs/BO4ACST_env/lib/python3.11/site-packages/ax/core/data.py:288: FutureWarning: The behavior of DataFrame concatenation with empty or all-NA entries is deprecated. In a future version, this will no longer exclude empty or all-NA columns when determining the result dtypes. To retain the old behavior, exclude the relevant entries before the concat operation.\n",
      "  return cls(df=pd.concat(dfs, axis=0, sort=True))\n",
      "[WARNING 10-29 16:27:52] ax.service.utils.report_utils: Column reason missing for all trials. Not appending column.\n",
      "/Users/thomasdodd/miniconda3/envs/BO4ACST_env/lib/python3.11/site-packages/ax/core/data.py:288: FutureWarning: The behavior of DataFrame concatenation with empty or all-NA entries is deprecated. In a future version, this will no longer exclude empty or all-NA columns when determining the result dtypes. To retain the old behavior, exclude the relevant entries before the concat operation.\n",
      "  return cls(df=pd.concat(dfs, axis=0, sort=True))\n",
      "[WARNING 10-29 16:27:52] ax.service.utils.report_utils: Column reason missing for all trials. Not appending column.\n",
      "[INFO 10-29 16:27:52] ax.service.ax_client: Completed trial 17 with data: {'t1': (2.028374, None)}.\n",
      "[INFO 10-29 16:27:52] ax.service.ax_client: Saved JSON-serialized state of optimization to `/Users/thomasdodd/Library/CloudStorage/OneDrive-MillfieldEnterprisesLimited/Cambridge/GitHub/BO4ACST/Notebooks/Optimisation/Method20241028Dim2_qMaxValueEntropy/AxExperiment.json`.\n",
      "[WARNING 10-29 16:27:52] ax.service.utils.report_utils: Column reason missing for all trials. Not appending column.\n",
      "[WARNING 10-29 16:27:52] ax.service.utils.report_utils: Column reason missing for all trials. Not appending column.\n"
     ]
    },
    {
     "name": "stdout",
     "output_type": "stream",
     "text": [
      "There are no trials currently running - initialising Bayesian iteration trials.\n"
     ]
    },
    {
     "name": "stderr",
     "output_type": "stream",
     "text": [
      "[INFO 10-29 16:28:00] ax.service.ax_client: Generated new trial 18 with parameters {'x1': 0.164359, 'x2': 3.409916} using model BoTorch.\n",
      "[INFO 10-29 16:28:00] ax.service.ax_client: Saved JSON-serialized state of optimization to `/Users/thomasdodd/Library/CloudStorage/OneDrive-MillfieldEnterprisesLimited/Cambridge/GitHub/BO4ACST/Notebooks/Optimisation/Method20241028Dim2_qMaxValueEntropy/AxExperiment.json`.\n",
      "/Users/thomasdodd/miniconda3/envs/BO4ACST_env/lib/python3.11/site-packages/ax/core/data.py:288: FutureWarning: The behavior of DataFrame concatenation with empty or all-NA entries is deprecated. In a future version, this will no longer exclude empty or all-NA columns when determining the result dtypes. To retain the old behavior, exclude the relevant entries before the concat operation.\n",
      "  return cls(df=pd.concat(dfs, axis=0, sort=True))\n",
      "[WARNING 10-29 16:28:00] ax.service.utils.report_utils: Column reason missing for all trials. Not appending column.\n",
      "/Users/thomasdodd/miniconda3/envs/BO4ACST_env/lib/python3.11/site-packages/ax/core/data.py:288: FutureWarning: The behavior of DataFrame concatenation with empty or all-NA entries is deprecated. In a future version, this will no longer exclude empty or all-NA columns when determining the result dtypes. To retain the old behavior, exclude the relevant entries before the concat operation.\n",
      "  return cls(df=pd.concat(dfs, axis=0, sort=True))\n",
      "[WARNING 10-29 16:28:00] ax.service.utils.report_utils: Column reason missing for all trials. Not appending column.\n",
      "[INFO 10-29 16:28:00] ax.service.ax_client: Completed trial 18 with data: {'t1': (1.591292, None)}.\n",
      "[INFO 10-29 16:28:00] ax.service.ax_client: Saved JSON-serialized state of optimization to `/Users/thomasdodd/Library/CloudStorage/OneDrive-MillfieldEnterprisesLimited/Cambridge/GitHub/BO4ACST/Notebooks/Optimisation/Method20241028Dim2_qMaxValueEntropy/AxExperiment.json`.\n",
      "[WARNING 10-29 16:28:00] ax.service.utils.report_utils: Column reason missing for all trials. Not appending column.\n",
      "[WARNING 10-29 16:28:00] ax.service.utils.report_utils: Column reason missing for all trials. Not appending column.\n"
     ]
    },
    {
     "name": "stdout",
     "output_type": "stream",
     "text": [
      "There are no trials currently running - initialising Bayesian iteration trials.\n"
     ]
    },
    {
     "name": "stderr",
     "output_type": "stream",
     "text": [
      "[INFO 10-29 16:28:08] ax.service.ax_client: Generated new trial 19 with parameters {'x1': 0.394881, 'x2': 3.104485} using model BoTorch.\n",
      "[INFO 10-29 16:28:08] ax.service.ax_client: Saved JSON-serialized state of optimization to `/Users/thomasdodd/Library/CloudStorage/OneDrive-MillfieldEnterprisesLimited/Cambridge/GitHub/BO4ACST/Notebooks/Optimisation/Method20241028Dim2_qMaxValueEntropy/AxExperiment.json`.\n",
      "/Users/thomasdodd/miniconda3/envs/BO4ACST_env/lib/python3.11/site-packages/ax/core/data.py:288: FutureWarning: The behavior of DataFrame concatenation with empty or all-NA entries is deprecated. In a future version, this will no longer exclude empty or all-NA columns when determining the result dtypes. To retain the old behavior, exclude the relevant entries before the concat operation.\n",
      "  return cls(df=pd.concat(dfs, axis=0, sort=True))\n",
      "[WARNING 10-29 16:28:08] ax.service.utils.report_utils: Column reason missing for all trials. Not appending column.\n",
      "/Users/thomasdodd/miniconda3/envs/BO4ACST_env/lib/python3.11/site-packages/ax/core/data.py:288: FutureWarning: The behavior of DataFrame concatenation with empty or all-NA entries is deprecated. In a future version, this will no longer exclude empty or all-NA columns when determining the result dtypes. To retain the old behavior, exclude the relevant entries before the concat operation.\n",
      "  return cls(df=pd.concat(dfs, axis=0, sort=True))\n",
      "[WARNING 10-29 16:28:08] ax.service.utils.report_utils: Column reason missing for all trials. Not appending column.\n",
      "[INFO 10-29 16:28:08] ax.service.ax_client: Completed trial 19 with data: {'t1': (1.379624, None)}.\n",
      "[INFO 10-29 16:28:08] ax.service.ax_client: Saved JSON-serialized state of optimization to `/Users/thomasdodd/Library/CloudStorage/OneDrive-MillfieldEnterprisesLimited/Cambridge/GitHub/BO4ACST/Notebooks/Optimisation/Method20241028Dim2_qMaxValueEntropy/AxExperiment.json`.\n",
      "[WARNING 10-29 16:28:08] ax.service.utils.report_utils: Column reason missing for all trials. Not appending column.\n",
      "[WARNING 10-29 16:28:09] ax.service.utils.report_utils: Column reason missing for all trials. Not appending column.\n"
     ]
    },
    {
     "name": "stdout",
     "output_type": "stream",
     "text": [
      "There are no trials currently running - initialising Bayesian iteration trials.\n"
     ]
    },
    {
     "name": "stderr",
     "output_type": "stream",
     "text": [
      "[INFO 10-29 16:28:17] ax.service.ax_client: Generated new trial 20 with parameters {'x1': 2.059449, 'x2': 1.498922} using model BoTorch.\n",
      "[INFO 10-29 16:28:17] ax.service.ax_client: Saved JSON-serialized state of optimization to `/Users/thomasdodd/Library/CloudStorage/OneDrive-MillfieldEnterprisesLimited/Cambridge/GitHub/BO4ACST/Notebooks/Optimisation/Method20241028Dim2_qMaxValueEntropy/AxExperiment.json`.\n",
      "/Users/thomasdodd/miniconda3/envs/BO4ACST_env/lib/python3.11/site-packages/ax/core/data.py:288: FutureWarning: The behavior of DataFrame concatenation with empty or all-NA entries is deprecated. In a future version, this will no longer exclude empty or all-NA columns when determining the result dtypes. To retain the old behavior, exclude the relevant entries before the concat operation.\n",
      "  return cls(df=pd.concat(dfs, axis=0, sort=True))\n",
      "[WARNING 10-29 16:28:17] ax.service.utils.report_utils: Column reason missing for all trials. Not appending column.\n",
      "/Users/thomasdodd/miniconda3/envs/BO4ACST_env/lib/python3.11/site-packages/ax/core/data.py:288: FutureWarning: The behavior of DataFrame concatenation with empty or all-NA entries is deprecated. In a future version, this will no longer exclude empty or all-NA columns when determining the result dtypes. To retain the old behavior, exclude the relevant entries before the concat operation.\n",
      "  return cls(df=pd.concat(dfs, axis=0, sort=True))\n",
      "[WARNING 10-29 16:28:17] ax.service.utils.report_utils: Column reason missing for all trials. Not appending column.\n",
      "[INFO 10-29 16:28:17] ax.service.ax_client: Completed trial 20 with data: {'t1': (4.15581, None)}.\n",
      "[INFO 10-29 16:28:17] ax.service.ax_client: Saved JSON-serialized state of optimization to `/Users/thomasdodd/Library/CloudStorage/OneDrive-MillfieldEnterprisesLimited/Cambridge/GitHub/BO4ACST/Notebooks/Optimisation/Method20241028Dim2_qMaxValueEntropy/AxExperiment.json`.\n",
      "[WARNING 10-29 16:28:17] ax.service.utils.report_utils: Column reason missing for all trials. Not appending column.\n",
      "[WARNING 10-29 16:28:17] ax.service.utils.report_utils: Column reason missing for all trials. Not appending column.\n"
     ]
    },
    {
     "name": "stdout",
     "output_type": "stream",
     "text": [
      "There are no trials currently running - initialising Bayesian iteration trials.\n"
     ]
    },
    {
     "name": "stderr",
     "output_type": "stream",
     "text": [
      "[INFO 10-29 16:28:25] ax.service.ax_client: Generated new trial 21 with parameters {'x1': 0.399502, 'x2': 3.149392} using model BoTorch.\n",
      "[INFO 10-29 16:28:25] ax.service.ax_client: Saved JSON-serialized state of optimization to `/Users/thomasdodd/Library/CloudStorage/OneDrive-MillfieldEnterprisesLimited/Cambridge/GitHub/BO4ACST/Notebooks/Optimisation/Method20241028Dim2_qMaxValueEntropy/AxExperiment.json`.\n",
      "/Users/thomasdodd/miniconda3/envs/BO4ACST_env/lib/python3.11/site-packages/ax/core/data.py:288: FutureWarning: The behavior of DataFrame concatenation with empty or all-NA entries is deprecated. In a future version, this will no longer exclude empty or all-NA columns when determining the result dtypes. To retain the old behavior, exclude the relevant entries before the concat operation.\n",
      "  return cls(df=pd.concat(dfs, axis=0, sort=True))\n",
      "[WARNING 10-29 16:28:25] ax.service.utils.report_utils: Column reason missing for all trials. Not appending column.\n",
      "/Users/thomasdodd/miniconda3/envs/BO4ACST_env/lib/python3.11/site-packages/ax/core/data.py:288: FutureWarning: The behavior of DataFrame concatenation with empty or all-NA entries is deprecated. In a future version, this will no longer exclude empty or all-NA columns when determining the result dtypes. To retain the old behavior, exclude the relevant entries before the concat operation.\n",
      "  return cls(df=pd.concat(dfs, axis=0, sort=True))\n",
      "[WARNING 10-29 16:28:25] ax.service.utils.report_utils: Column reason missing for all trials. Not appending column.\n",
      "[INFO 10-29 16:28:25] ax.service.ax_client: Completed trial 21 with data: {'t1': (1.1969, None)}.\n",
      "[INFO 10-29 16:28:25] ax.service.ax_client: Saved JSON-serialized state of optimization to `/Users/thomasdodd/Library/CloudStorage/OneDrive-MillfieldEnterprisesLimited/Cambridge/GitHub/BO4ACST/Notebooks/Optimisation/Method20241028Dim2_qMaxValueEntropy/AxExperiment.json`.\n",
      "[WARNING 10-29 16:28:25] ax.service.utils.report_utils: Column reason missing for all trials. Not appending column.\n",
      "[WARNING 10-29 16:28:25] ax.service.utils.report_utils: Column reason missing for all trials. Not appending column.\n"
     ]
    },
    {
     "name": "stdout",
     "output_type": "stream",
     "text": [
      "There are no trials currently running - initialising Bayesian iteration trials.\n"
     ]
    },
    {
     "name": "stderr",
     "output_type": "stream",
     "text": [
      "[INFO 10-29 16:28:34] ax.service.ax_client: Generated new trial 22 with parameters {'x1': 0.450836, 'x2': 3.058574} using model BoTorch.\n",
      "[INFO 10-29 16:28:34] ax.service.ax_client: Saved JSON-serialized state of optimization to `/Users/thomasdodd/Library/CloudStorage/OneDrive-MillfieldEnterprisesLimited/Cambridge/GitHub/BO4ACST/Notebooks/Optimisation/Method20241028Dim2_qMaxValueEntropy/AxExperiment.json`.\n",
      "/Users/thomasdodd/miniconda3/envs/BO4ACST_env/lib/python3.11/site-packages/ax/core/data.py:288: FutureWarning: The behavior of DataFrame concatenation with empty or all-NA entries is deprecated. In a future version, this will no longer exclude empty or all-NA columns when determining the result dtypes. To retain the old behavior, exclude the relevant entries before the concat operation.\n",
      "  return cls(df=pd.concat(dfs, axis=0, sort=True))\n",
      "[WARNING 10-29 16:28:34] ax.service.utils.report_utils: Column reason missing for all trials. Not appending column.\n",
      "/Users/thomasdodd/miniconda3/envs/BO4ACST_env/lib/python3.11/site-packages/ax/core/data.py:288: FutureWarning: The behavior of DataFrame concatenation with empty or all-NA entries is deprecated. In a future version, this will no longer exclude empty or all-NA columns when determining the result dtypes. To retain the old behavior, exclude the relevant entries before the concat operation.\n",
      "  return cls(df=pd.concat(dfs, axis=0, sort=True))\n",
      "[WARNING 10-29 16:28:34] ax.service.utils.report_utils: Column reason missing for all trials. Not appending column.\n",
      "[INFO 10-29 16:28:34] ax.service.ax_client: Completed trial 22 with data: {'t1': (1.267729, None)}.\n",
      "[INFO 10-29 16:28:34] ax.service.ax_client: Saved JSON-serialized state of optimization to `/Users/thomasdodd/Library/CloudStorage/OneDrive-MillfieldEnterprisesLimited/Cambridge/GitHub/BO4ACST/Notebooks/Optimisation/Method20241028Dim2_qMaxValueEntropy/AxExperiment.json`.\n",
      "[WARNING 10-29 16:28:34] ax.service.utils.report_utils: Column reason missing for all trials. Not appending column.\n",
      "[WARNING 10-29 16:28:34] ax.service.utils.report_utils: Column reason missing for all trials. Not appending column.\n"
     ]
    },
    {
     "name": "stdout",
     "output_type": "stream",
     "text": [
      "There are no trials currently running - initialising Bayesian iteration trials.\n"
     ]
    },
    {
     "name": "stderr",
     "output_type": "stream",
     "text": [
      "[INFO 10-29 16:28:43] ax.service.ax_client: Generated new trial 23 with parameters {'x1': 1.448084, 'x2': 2.081059} using model BoTorch.\n",
      "[INFO 10-29 16:28:43] ax.service.ax_client: Saved JSON-serialized state of optimization to `/Users/thomasdodd/Library/CloudStorage/OneDrive-MillfieldEnterprisesLimited/Cambridge/GitHub/BO4ACST/Notebooks/Optimisation/Method20241028Dim2_qMaxValueEntropy/AxExperiment.json`.\n",
      "/Users/thomasdodd/miniconda3/envs/BO4ACST_env/lib/python3.11/site-packages/ax/core/data.py:288: FutureWarning: The behavior of DataFrame concatenation with empty or all-NA entries is deprecated. In a future version, this will no longer exclude empty or all-NA columns when determining the result dtypes. To retain the old behavior, exclude the relevant entries before the concat operation.\n",
      "  return cls(df=pd.concat(dfs, axis=0, sort=True))\n",
      "[WARNING 10-29 16:28:43] ax.service.utils.report_utils: Column reason missing for all trials. Not appending column.\n",
      "/Users/thomasdodd/miniconda3/envs/BO4ACST_env/lib/python3.11/site-packages/ax/core/data.py:288: FutureWarning: The behavior of DataFrame concatenation with empty or all-NA entries is deprecated. In a future version, this will no longer exclude empty or all-NA columns when determining the result dtypes. To retain the old behavior, exclude the relevant entries before the concat operation.\n",
      "  return cls(df=pd.concat(dfs, axis=0, sort=True))\n",
      "[WARNING 10-29 16:28:43] ax.service.utils.report_utils: Column reason missing for all trials. Not appending column.\n",
      "[INFO 10-29 16:28:43] ax.service.ax_client: Completed trial 23 with data: {'t1': (1.932056, None)}.\n",
      "[INFO 10-29 16:28:43] ax.service.ax_client: Saved JSON-serialized state of optimization to `/Users/thomasdodd/Library/CloudStorage/OneDrive-MillfieldEnterprisesLimited/Cambridge/GitHub/BO4ACST/Notebooks/Optimisation/Method20241028Dim2_qMaxValueEntropy/AxExperiment.json`.\n",
      "[WARNING 10-29 16:28:43] ax.service.utils.report_utils: Column reason missing for all trials. Not appending column.\n",
      "[INFO 10-29 16:28:43] ax.service.ax_client: Starting optimization with verbose logging. To disable logging, set the `verbose_logging` argument to `False`. Note that float values in the logs are rounded to 6 decimal points.\n",
      "[INFO 10-29 16:28:43] ax.service.utils.instantiation: Created search space: SearchSpace(parameters=[RangeParameter(name='x1', parameter_type=FLOAT, range=[-10.0, 10.0]), RangeParameter(name='x2', parameter_type=FLOAT, range=[-10.0, 10.0])], parameter_constraints=[]).\n",
      "[INFO 10-29 16:28:43] ax.service.ax_client: Saved JSON-serialized state of optimization to `/Users/thomasdodd/Library/CloudStorage/OneDrive-MillfieldEnterprisesLimited/Cambridge/GitHub/BO4ACST/Notebooks/Optimisation/Method20241028Dim2_qMaxValueEntropy/AxExperiment.json`.\n",
      "[INFO 10-29 16:28:43] ax.core.experiment: Attached custom parameterizations [{'x1': -10.0, 'x2': -10.0}] as trial 0.\n",
      "[INFO 10-29 16:28:43] ax.core.experiment: Attached custom parameterizations [{'x1': 0.0, 'x2': -10.0}] as trial 1.\n",
      "[INFO 10-29 16:28:43] ax.core.experiment: Attached custom parameterizations [{'x1': 10.0, 'x2': -10.0}] as trial 2.\n",
      "[INFO 10-29 16:28:43] ax.core.experiment: Attached custom parameterizations [{'x1': -10.0, 'x2': 0.0}] as trial 3.\n",
      "[INFO 10-29 16:28:43] ax.core.experiment: Attached custom parameterizations [{'x1': 0.0, 'x2': 0.0}] as trial 4.\n",
      "[INFO 10-29 16:28:43] ax.core.experiment: Attached custom parameterizations [{'x1': 10.0, 'x2': 0.0}] as trial 5.\n",
      "[INFO 10-29 16:28:43] ax.core.experiment: Attached custom parameterizations [{'x1': -10.0, 'x2': 10.0}] as trial 6.\n",
      "[INFO 10-29 16:28:43] ax.core.experiment: Attached custom parameterizations [{'x1': 0.0, 'x2': 10.0}] as trial 7.\n",
      "[INFO 10-29 16:28:43] ax.core.experiment: Attached custom parameterizations [{'x1': 10.0, 'x2': 10.0}] as trial 8.\n",
      "[INFO 10-29 16:28:43] ax.service.ax_client: Saved JSON-serialized state of optimization to `/Users/thomasdodd/Library/CloudStorage/OneDrive-MillfieldEnterprisesLimited/Cambridge/GitHub/BO4ACST/Notebooks/Optimisation/Method20241028Dim2_qMaxValueEntropy/AxExperiment.json`.\n",
      "[WARNING 10-29 16:28:43] ax.service.utils.report_utils: Column reason missing for all trials. Not appending column.\n",
      "[INFO 10-29 16:28:43] ax.service.utils.report_utils: No results present for the specified metrics `[Metric('t1')]`. Returning arm parameters and metadata only.\n",
      "[WARNING 10-29 16:28:43] ax.service.utils.report_utils: Column reason missing for all trials. Not appending column.\n",
      "[INFO 10-29 16:28:43] ax.service.utils.report_utils: No results present for the specified metrics `[Metric('t1')]`. Returning arm parameters and metadata only.\n",
      "[INFO 10-29 16:28:43] ax.service.ax_client: Completed trial 0 with data: {'t1': (2594.0, None)}.\n",
      "[INFO 10-29 16:28:43] ax.service.ax_client: Saved JSON-serialized state of optimization to `/Users/thomasdodd/Library/CloudStorage/OneDrive-MillfieldEnterprisesLimited/Cambridge/GitHub/BO4ACST/Notebooks/Optimisation/Method20241028Dim2_qMaxValueEntropy/AxExperiment.json`.\n",
      "[INFO 10-29 16:28:43] ax.service.ax_client: Completed trial 1 with data: {'t1': (954.0, None)}.\n",
      "[INFO 10-29 16:28:43] ax.service.ax_client: Saved JSON-serialized state of optimization to `/Users/thomasdodd/Library/CloudStorage/OneDrive-MillfieldEnterprisesLimited/Cambridge/GitHub/BO4ACST/Notebooks/Optimisation/Method20241028Dim2_qMaxValueEntropy/AxExperiment.json`.\n",
      "[INFO 10-29 16:28:43] ax.service.ax_client: Completed trial 2 with data: {'t1': (314.0, None)}.\n",
      "[INFO 10-29 16:28:43] ax.service.ax_client: Saved JSON-serialized state of optimization to `/Users/thomasdodd/Library/CloudStorage/OneDrive-MillfieldEnterprisesLimited/Cambridge/GitHub/BO4ACST/Notebooks/Optimisation/Method20241028Dim2_qMaxValueEntropy/AxExperiment.json`.\n",
      "[INFO 10-29 16:28:43] ax.service.ax_client: Completed trial 3 with data: {'t1': (914.0, None)}.\n",
      "[INFO 10-29 16:28:43] ax.service.ax_client: Saved JSON-serialized state of optimization to `/Users/thomasdodd/Library/CloudStorage/OneDrive-MillfieldEnterprisesLimited/Cambridge/GitHub/BO4ACST/Notebooks/Optimisation/Method20241028Dim2_qMaxValueEntropy/AxExperiment.json`.\n",
      "[INFO 10-29 16:28:43] ax.service.ax_client: Completed trial 4 with data: {'t1': (74.0, None)}.\n",
      "[INFO 10-29 16:28:43] ax.service.ax_client: Saved JSON-serialized state of optimization to `/Users/thomasdodd/Library/CloudStorage/OneDrive-MillfieldEnterprisesLimited/Cambridge/GitHub/BO4ACST/Notebooks/Optimisation/Method20241028Dim2_qMaxValueEntropy/AxExperiment.json`.\n",
      "[INFO 10-29 16:28:43] ax.service.ax_client: Completed trial 5 with data: {'t1': (234.0, None)}.\n",
      "[INFO 10-29 16:28:43] ax.service.ax_client: Saved JSON-serialized state of optimization to `/Users/thomasdodd/Library/CloudStorage/OneDrive-MillfieldEnterprisesLimited/Cambridge/GitHub/BO4ACST/Notebooks/Optimisation/Method20241028Dim2_qMaxValueEntropy/AxExperiment.json`.\n",
      "[INFO 10-29 16:28:43] ax.service.ax_client: Completed trial 6 with data: {'t1': (234.0, None)}.\n",
      "[INFO 10-29 16:28:43] ax.service.ax_client: Saved JSON-serialized state of optimization to `/Users/thomasdodd/Library/CloudStorage/OneDrive-MillfieldEnterprisesLimited/Cambridge/GitHub/BO4ACST/Notebooks/Optimisation/Method20241028Dim2_qMaxValueEntropy/AxExperiment.json`.\n",
      "[INFO 10-29 16:28:43] ax.service.ax_client: Completed trial 7 with data: {'t1': (194.0, None)}.\n",
      "[INFO 10-29 16:28:43] ax.service.ax_client: Saved JSON-serialized state of optimization to `/Users/thomasdodd/Library/CloudStorage/OneDrive-MillfieldEnterprisesLimited/Cambridge/GitHub/BO4ACST/Notebooks/Optimisation/Method20241028Dim2_qMaxValueEntropy/AxExperiment.json`.\n",
      "[INFO 10-29 16:28:43] ax.service.ax_client: Completed trial 8 with data: {'t1': (1154.0, None)}.\n",
      "[INFO 10-29 16:28:43] ax.service.ax_client: Saved JSON-serialized state of optimization to `/Users/thomasdodd/Library/CloudStorage/OneDrive-MillfieldEnterprisesLimited/Cambridge/GitHub/BO4ACST/Notebooks/Optimisation/Method20241028Dim2_qMaxValueEntropy/AxExperiment.json`.\n",
      "[WARNING 10-29 16:28:43] ax.service.utils.report_utils: Column reason missing for all trials. Not appending column.\n",
      "[WARNING 10-29 16:28:43] ax.service.utils.report_utils: Column reason missing for all trials. Not appending column.\n"
     ]
    },
    {
     "name": "stdout",
     "output_type": "stream",
     "text": [
      "[74.         46.37377456 46.37377456  6.49456258  1.07534884  1.07534884\n",
      "  1.07534884  1.07534884  1.07534884  1.07534884  1.07534884  1.07534884\n",
      "  1.07534884  1.07534884  1.07534884  1.07534884]\n",
      "A new experiment has been created and initialised.\n",
      "No previous or current trials detected - initialising prior-forming trials.\n",
      "Samples gridded = 9\n",
      "There are no trials currently running - initialising Bayesian iteration trials.\n"
     ]
    },
    {
     "name": "stderr",
     "output_type": "stream",
     "text": [
      "[INFO 10-29 16:28:48] ax.service.ax_client: Generated new trial 9 with parameters {'x1': -3.77996, 'x2': 5.948857} using model BoTorch.\n",
      "[INFO 10-29 16:28:48] ax.service.ax_client: Saved JSON-serialized state of optimization to `/Users/thomasdodd/Library/CloudStorage/OneDrive-MillfieldEnterprisesLimited/Cambridge/GitHub/BO4ACST/Notebooks/Optimisation/Method20241028Dim2_qMaxValueEntropy/AxExperiment.json`.\n",
      "/Users/thomasdodd/miniconda3/envs/BO4ACST_env/lib/python3.11/site-packages/ax/core/data.py:288: FutureWarning: The behavior of DataFrame concatenation with empty or all-NA entries is deprecated. In a future version, this will no longer exclude empty or all-NA columns when determining the result dtypes. To retain the old behavior, exclude the relevant entries before the concat operation.\n",
      "  return cls(df=pd.concat(dfs, axis=0, sort=True))\n",
      "[WARNING 10-29 16:28:48] ax.service.utils.report_utils: Column reason missing for all trials. Not appending column.\n",
      "/Users/thomasdodd/miniconda3/envs/BO4ACST_env/lib/python3.11/site-packages/ax/core/data.py:288: FutureWarning: The behavior of DataFrame concatenation with empty or all-NA entries is deprecated. In a future version, this will no longer exclude empty or all-NA columns when determining the result dtypes. To retain the old behavior, exclude the relevant entries before the concat operation.\n",
      "  return cls(df=pd.concat(dfs, axis=0, sort=True))\n",
      "[WARNING 10-29 16:28:48] ax.service.utils.report_utils: Column reason missing for all trials. Not appending column.\n",
      "[INFO 10-29 16:28:48] ax.service.ax_client: Completed trial 9 with data: {'t1': (44.955523, None)}.\n",
      "[INFO 10-29 16:28:48] ax.service.ax_client: Saved JSON-serialized state of optimization to `/Users/thomasdodd/Library/CloudStorage/OneDrive-MillfieldEnterprisesLimited/Cambridge/GitHub/BO4ACST/Notebooks/Optimisation/Method20241028Dim2_qMaxValueEntropy/AxExperiment.json`.\n",
      "[WARNING 10-29 16:28:48] ax.service.utils.report_utils: Column reason missing for all trials. Not appending column.\n",
      "[WARNING 10-29 16:28:48] ax.service.utils.report_utils: Column reason missing for all trials. Not appending column.\n"
     ]
    },
    {
     "name": "stdout",
     "output_type": "stream",
     "text": [
      "There are no trials currently running - initialising Bayesian iteration trials.\n"
     ]
    },
    {
     "name": "stderr",
     "output_type": "stream",
     "text": [
      "[INFO 10-29 16:28:55] ax.service.ax_client: Generated new trial 10 with parameters {'x1': 5.578867, 'x2': -2.927995} using model BoTorch.\n",
      "[INFO 10-29 16:28:55] ax.service.ax_client: Saved JSON-serialized state of optimization to `/Users/thomasdodd/Library/CloudStorage/OneDrive-MillfieldEnterprisesLimited/Cambridge/GitHub/BO4ACST/Notebooks/Optimisation/Method20241028Dim2_qMaxValueEntropy/AxExperiment.json`.\n",
      "/Users/thomasdodd/miniconda3/envs/BO4ACST_env/lib/python3.11/site-packages/ax/core/data.py:288: FutureWarning: The behavior of DataFrame concatenation with empty or all-NA entries is deprecated. In a future version, this will no longer exclude empty or all-NA columns when determining the result dtypes. To retain the old behavior, exclude the relevant entries before the concat operation.\n",
      "  return cls(df=pd.concat(dfs, axis=0, sort=True))\n",
      "[WARNING 10-29 16:28:55] ax.service.utils.report_utils: Column reason missing for all trials. Not appending column.\n",
      "/Users/thomasdodd/miniconda3/envs/BO4ACST_env/lib/python3.11/site-packages/ax/core/data.py:288: FutureWarning: The behavior of DataFrame concatenation with empty or all-NA entries is deprecated. In a future version, this will no longer exclude empty or all-NA columns when determining the result dtypes. To retain the old behavior, exclude the relevant entries before the concat operation.\n",
      "  return cls(df=pd.concat(dfs, axis=0, sort=True))\n",
      "[WARNING 10-29 16:28:55] ax.service.utils.report_utils: Column reason missing for all trials. Not appending column.\n",
      "[INFO 10-29 16:28:55] ax.service.ax_client: Completed trial 10 with data: {'t1': (63.387743, None)}.\n",
      "[INFO 10-29 16:28:55] ax.service.ax_client: Saved JSON-serialized state of optimization to `/Users/thomasdodd/Library/CloudStorage/OneDrive-MillfieldEnterprisesLimited/Cambridge/GitHub/BO4ACST/Notebooks/Optimisation/Method20241028Dim2_qMaxValueEntropy/AxExperiment.json`.\n",
      "[WARNING 10-29 16:28:55] ax.service.utils.report_utils: Column reason missing for all trials. Not appending column.\n",
      "[WARNING 10-29 16:28:55] ax.service.utils.report_utils: Column reason missing for all trials. Not appending column.\n"
     ]
    },
    {
     "name": "stdout",
     "output_type": "stream",
     "text": [
      "There are no trials currently running - initialising Bayesian iteration trials.\n"
     ]
    },
    {
     "name": "stderr",
     "output_type": "stream",
     "text": [
      "[INFO 10-29 16:29:01] ax.service.ax_client: Generated new trial 11 with parameters {'x1': 2.191517, 'x2': 3.118352} using model BoTorch.\n",
      "[INFO 10-29 16:29:01] ax.service.ax_client: Saved JSON-serialized state of optimization to `/Users/thomasdodd/Library/CloudStorage/OneDrive-MillfieldEnterprisesLimited/Cambridge/GitHub/BO4ACST/Notebooks/Optimisation/Method20241028Dim2_qMaxValueEntropy/AxExperiment.json`.\n",
      "/Users/thomasdodd/miniconda3/envs/BO4ACST_env/lib/python3.11/site-packages/ax/core/data.py:288: FutureWarning: The behavior of DataFrame concatenation with empty or all-NA entries is deprecated. In a future version, this will no longer exclude empty or all-NA columns when determining the result dtypes. To retain the old behavior, exclude the relevant entries before the concat operation.\n",
      "  return cls(df=pd.concat(dfs, axis=0, sort=True))\n",
      "[WARNING 10-29 16:29:01] ax.service.utils.report_utils: Column reason missing for all trials. Not appending column.\n",
      "/Users/thomasdodd/miniconda3/envs/BO4ACST_env/lib/python3.11/site-packages/ax/core/data.py:288: FutureWarning: The behavior of DataFrame concatenation with empty or all-NA entries is deprecated. In a future version, this will no longer exclude empty or all-NA columns when determining the result dtypes. To retain the old behavior, exclude the relevant entries before the concat operation.\n",
      "  return cls(df=pd.concat(dfs, axis=0, sort=True))\n",
      "[WARNING 10-29 16:29:01] ax.service.utils.report_utils: Column reason missing for all trials. Not appending column.\n",
      "[INFO 10-29 16:29:01] ax.service.ax_client: Completed trial 11 with data: {'t1': (8.296744, None)}.\n",
      "[INFO 10-29 16:29:01] ax.service.ax_client: Saved JSON-serialized state of optimization to `/Users/thomasdodd/Library/CloudStorage/OneDrive-MillfieldEnterprisesLimited/Cambridge/GitHub/BO4ACST/Notebooks/Optimisation/Method20241028Dim2_qMaxValueEntropy/AxExperiment.json`.\n",
      "[WARNING 10-29 16:29:01] ax.service.utils.report_utils: Column reason missing for all trials. Not appending column.\n",
      "[WARNING 10-29 16:29:01] ax.service.utils.report_utils: Column reason missing for all trials. Not appending column.\n"
     ]
    },
    {
     "name": "stdout",
     "output_type": "stream",
     "text": [
      "There are no trials currently running - initialising Bayesian iteration trials.\n"
     ]
    },
    {
     "name": "stderr",
     "output_type": "stream",
     "text": [
      "[INFO 10-29 16:29:10] ax.service.ax_client: Generated new trial 12 with parameters {'x1': 1.030897, 'x2': 3.353389} using model BoTorch.\n",
      "[INFO 10-29 16:29:10] ax.service.ax_client: Saved JSON-serialized state of optimization to `/Users/thomasdodd/Library/CloudStorage/OneDrive-MillfieldEnterprisesLimited/Cambridge/GitHub/BO4ACST/Notebooks/Optimisation/Method20241028Dim2_qMaxValueEntropy/AxExperiment.json`.\n",
      "/Users/thomasdodd/miniconda3/envs/BO4ACST_env/lib/python3.11/site-packages/ax/core/data.py:288: FutureWarning: The behavior of DataFrame concatenation with empty or all-NA entries is deprecated. In a future version, this will no longer exclude empty or all-NA columns when determining the result dtypes. To retain the old behavior, exclude the relevant entries before the concat operation.\n",
      "  return cls(df=pd.concat(dfs, axis=0, sort=True))\n",
      "[WARNING 10-29 16:29:10] ax.service.utils.report_utils: Column reason missing for all trials. Not appending column.\n",
      "/Users/thomasdodd/miniconda3/envs/BO4ACST_env/lib/python3.11/site-packages/ax/core/data.py:288: FutureWarning: The behavior of DataFrame concatenation with empty or all-NA entries is deprecated. In a future version, this will no longer exclude empty or all-NA columns when determining the result dtypes. To retain the old behavior, exclude the relevant entries before the concat operation.\n",
      "  return cls(df=pd.concat(dfs, axis=0, sort=True))\n",
      "[WARNING 10-29 16:29:10] ax.service.utils.report_utils: Column reason missing for all trials. Not appending column.\n",
      "[INFO 10-29 16:29:10] ax.service.ax_client: Completed trial 12 with data: {'t1': (0.716539, None)}.\n",
      "[INFO 10-29 16:29:10] ax.service.ax_client: Saved JSON-serialized state of optimization to `/Users/thomasdodd/Library/CloudStorage/OneDrive-MillfieldEnterprisesLimited/Cambridge/GitHub/BO4ACST/Notebooks/Optimisation/Method20241028Dim2_qMaxValueEntropy/AxExperiment.json`.\n",
      "[WARNING 10-29 16:29:10] ax.service.utils.report_utils: Column reason missing for all trials. Not appending column.\n",
      "[WARNING 10-29 16:29:10] ax.service.utils.report_utils: Column reason missing for all trials. Not appending column.\n"
     ]
    },
    {
     "name": "stdout",
     "output_type": "stream",
     "text": [
      "There are no trials currently running - initialising Bayesian iteration trials.\n"
     ]
    },
    {
     "name": "stderr",
     "output_type": "stream",
     "text": [
      "[INFO 10-29 16:29:16] ax.service.ax_client: Generated new trial 13 with parameters {'x1': -2.765725, 'x2': 5.939731} using model BoTorch.\n",
      "[INFO 10-29 16:29:16] ax.service.ax_client: Saved JSON-serialized state of optimization to `/Users/thomasdodd/Library/CloudStorage/OneDrive-MillfieldEnterprisesLimited/Cambridge/GitHub/BO4ACST/Notebooks/Optimisation/Method20241028Dim2_qMaxValueEntropy/AxExperiment.json`.\n",
      "/Users/thomasdodd/miniconda3/envs/BO4ACST_env/lib/python3.11/site-packages/ax/core/data.py:288: FutureWarning: The behavior of DataFrame concatenation with empty or all-NA entries is deprecated. In a future version, this will no longer exclude empty or all-NA columns when determining the result dtypes. To retain the old behavior, exclude the relevant entries before the concat operation.\n",
      "  return cls(df=pd.concat(dfs, axis=0, sort=True))\n",
      "[WARNING 10-29 16:29:16] ax.service.utils.report_utils: Column reason missing for all trials. Not appending column.\n",
      "/Users/thomasdodd/miniconda3/envs/BO4ACST_env/lib/python3.11/site-packages/ax/core/data.py:288: FutureWarning: The behavior of DataFrame concatenation with empty or all-NA entries is deprecated. In a future version, this will no longer exclude empty or all-NA columns when determining the result dtypes. To retain the old behavior, exclude the relevant entries before the concat operation.\n",
      "  return cls(df=pd.concat(dfs, axis=0, sort=True))\n",
      "[WARNING 10-29 16:29:16] ax.service.utils.report_utils: Column reason missing for all trials. Not appending column.\n",
      "[INFO 10-29 16:29:16] ax.service.ax_client: Completed trial 13 with data: {'t1': (25.551765, None)}.\n",
      "[INFO 10-29 16:29:16] ax.service.ax_client: Saved JSON-serialized state of optimization to `/Users/thomasdodd/Library/CloudStorage/OneDrive-MillfieldEnterprisesLimited/Cambridge/GitHub/BO4ACST/Notebooks/Optimisation/Method20241028Dim2_qMaxValueEntropy/AxExperiment.json`.\n",
      "[WARNING 10-29 16:29:16] ax.service.utils.report_utils: Column reason missing for all trials. Not appending column.\n",
      "[WARNING 10-29 16:29:16] ax.service.utils.report_utils: Column reason missing for all trials. Not appending column.\n"
     ]
    },
    {
     "name": "stdout",
     "output_type": "stream",
     "text": [
      "There are no trials currently running - initialising Bayesian iteration trials.\n"
     ]
    },
    {
     "name": "stderr",
     "output_type": "stream",
     "text": [
      "[INFO 10-29 16:29:21] ax.service.ax_client: Generated new trial 14 with parameters {'x1': 2.767557, 'x2': 1.534737} using model BoTorch.\n",
      "[INFO 10-29 16:29:21] ax.service.ax_client: Saved JSON-serialized state of optimization to `/Users/thomasdodd/Library/CloudStorage/OneDrive-MillfieldEnterprisesLimited/Cambridge/GitHub/BO4ACST/Notebooks/Optimisation/Method20241028Dim2_qMaxValueEntropy/AxExperiment.json`.\n",
      "/Users/thomasdodd/miniconda3/envs/BO4ACST_env/lib/python3.11/site-packages/ax/core/data.py:288: FutureWarning: The behavior of DataFrame concatenation with empty or all-NA entries is deprecated. In a future version, this will no longer exclude empty or all-NA columns when determining the result dtypes. To retain the old behavior, exclude the relevant entries before the concat operation.\n",
      "  return cls(df=pd.concat(dfs, axis=0, sort=True))\n",
      "[WARNING 10-29 16:29:21] ax.service.utils.report_utils: Column reason missing for all trials. Not appending column.\n",
      "/Users/thomasdodd/miniconda3/envs/BO4ACST_env/lib/python3.11/site-packages/ax/core/data.py:288: FutureWarning: The behavior of DataFrame concatenation with empty or all-NA entries is deprecated. In a future version, this will no longer exclude empty or all-NA columns when determining the result dtypes. To retain the old behavior, exclude the relevant entries before the concat operation.\n",
      "  return cls(df=pd.concat(dfs, axis=0, sort=True))\n",
      "[WARNING 10-29 16:29:21] ax.service.utils.report_utils: Column reason missing for all trials. Not appending column.\n",
      "[INFO 10-29 16:29:21] ax.service.ax_client: Completed trial 14 with data: {'t1': (5.636777, None)}.\n",
      "[INFO 10-29 16:29:21] ax.service.ax_client: Saved JSON-serialized state of optimization to `/Users/thomasdodd/Library/CloudStorage/OneDrive-MillfieldEnterprisesLimited/Cambridge/GitHub/BO4ACST/Notebooks/Optimisation/Method20241028Dim2_qMaxValueEntropy/AxExperiment.json`.\n",
      "[WARNING 10-29 16:29:21] ax.service.utils.report_utils: Column reason missing for all trials. Not appending column.\n",
      "[WARNING 10-29 16:29:21] ax.service.utils.report_utils: Column reason missing for all trials. Not appending column.\n"
     ]
    },
    {
     "name": "stdout",
     "output_type": "stream",
     "text": [
      "There are no trials currently running - initialising Bayesian iteration trials.\n"
     ]
    },
    {
     "name": "stderr",
     "output_type": "stream",
     "text": [
      "[INFO 10-29 16:29:28] ax.service.ax_client: Generated new trial 15 with parameters {'x1': 0.322595, 'x2': 3.540221} using model BoTorch.\n",
      "[INFO 10-29 16:29:28] ax.service.ax_client: Saved JSON-serialized state of optimization to `/Users/thomasdodd/Library/CloudStorage/OneDrive-MillfieldEnterprisesLimited/Cambridge/GitHub/BO4ACST/Notebooks/Optimisation/Method20241028Dim2_qMaxValueEntropy/AxExperiment.json`.\n",
      "/Users/thomasdodd/miniconda3/envs/BO4ACST_env/lib/python3.11/site-packages/ax/core/data.py:288: FutureWarning: The behavior of DataFrame concatenation with empty or all-NA entries is deprecated. In a future version, this will no longer exclude empty or all-NA columns when determining the result dtypes. To retain the old behavior, exclude the relevant entries before the concat operation.\n",
      "  return cls(df=pd.concat(dfs, axis=0, sort=True))\n",
      "[WARNING 10-29 16:29:28] ax.service.utils.report_utils: Column reason missing for all trials. Not appending column.\n",
      "/Users/thomasdodd/miniconda3/envs/BO4ACST_env/lib/python3.11/site-packages/ax/core/data.py:288: FutureWarning: The behavior of DataFrame concatenation with empty or all-NA entries is deprecated. In a future version, this will no longer exclude empty or all-NA columns when determining the result dtypes. To retain the old behavior, exclude the relevant entries before the concat operation.\n",
      "  return cls(df=pd.concat(dfs, axis=0, sort=True))\n",
      "[WARNING 10-29 16:29:28] ax.service.utils.report_utils: Column reason missing for all trials. Not appending column.\n",
      "[INFO 10-29 16:29:28] ax.service.ax_client: Completed trial 15 with data: {'t1': (0.825995, None)}.\n",
      "[INFO 10-29 16:29:28] ax.service.ax_client: Saved JSON-serialized state of optimization to `/Users/thomasdodd/Library/CloudStorage/OneDrive-MillfieldEnterprisesLimited/Cambridge/GitHub/BO4ACST/Notebooks/Optimisation/Method20241028Dim2_qMaxValueEntropy/AxExperiment.json`.\n",
      "[WARNING 10-29 16:29:28] ax.service.utils.report_utils: Column reason missing for all trials. Not appending column.\n",
      "[WARNING 10-29 16:29:28] ax.service.utils.report_utils: Column reason missing for all trials. Not appending column.\n"
     ]
    },
    {
     "name": "stdout",
     "output_type": "stream",
     "text": [
      "There are no trials currently running - initialising Bayesian iteration trials.\n"
     ]
    },
    {
     "name": "stderr",
     "output_type": "stream",
     "text": [
      "[INFO 10-29 16:29:36] ax.service.ax_client: Generated new trial 16 with parameters {'x1': 2.844054, 'x2': 1.031113} using model BoTorch.\n",
      "[INFO 10-29 16:29:36] ax.service.ax_client: Saved JSON-serialized state of optimization to `/Users/thomasdodd/Library/CloudStorage/OneDrive-MillfieldEnterprisesLimited/Cambridge/GitHub/BO4ACST/Notebooks/Optimisation/Method20241028Dim2_qMaxValueEntropy/AxExperiment.json`.\n",
      "/Users/thomasdodd/miniconda3/envs/BO4ACST_env/lib/python3.11/site-packages/ax/core/data.py:288: FutureWarning: The behavior of DataFrame concatenation with empty or all-NA entries is deprecated. In a future version, this will no longer exclude empty or all-NA columns when determining the result dtypes. To retain the old behavior, exclude the relevant entries before the concat operation.\n",
      "  return cls(df=pd.concat(dfs, axis=0, sort=True))\n",
      "[WARNING 10-29 16:29:36] ax.service.utils.report_utils: Column reason missing for all trials. Not appending column.\n",
      "/Users/thomasdodd/miniconda3/envs/BO4ACST_env/lib/python3.11/site-packages/ax/core/data.py:288: FutureWarning: The behavior of DataFrame concatenation with empty or all-NA entries is deprecated. In a future version, this will no longer exclude empty or all-NA columns when determining the result dtypes. To retain the old behavior, exclude the relevant entries before the concat operation.\n",
      "  return cls(df=pd.concat(dfs, axis=0, sort=True))\n",
      "[WARNING 10-29 16:29:36] ax.service.utils.report_utils: Column reason missing for all trials. Not appending column.\n",
      "[INFO 10-29 16:29:36] ax.service.ax_client: Completed trial 16 with data: {'t1': (7.339387, None)}.\n",
      "[INFO 10-29 16:29:36] ax.service.ax_client: Saved JSON-serialized state of optimization to `/Users/thomasdodd/Library/CloudStorage/OneDrive-MillfieldEnterprisesLimited/Cambridge/GitHub/BO4ACST/Notebooks/Optimisation/Method20241028Dim2_qMaxValueEntropy/AxExperiment.json`.\n",
      "[WARNING 10-29 16:29:36] ax.service.utils.report_utils: Column reason missing for all trials. Not appending column.\n",
      "[WARNING 10-29 16:29:36] ax.service.utils.report_utils: Column reason missing for all trials. Not appending column.\n"
     ]
    },
    {
     "name": "stdout",
     "output_type": "stream",
     "text": [
      "There are no trials currently running - initialising Bayesian iteration trials.\n"
     ]
    },
    {
     "name": "stderr",
     "output_type": "stream",
     "text": [
      "[INFO 10-29 16:29:43] ax.service.ax_client: Generated new trial 17 with parameters {'x1': -0.009534, 'x2': 3.686393} using model BoTorch.\n",
      "[INFO 10-29 16:29:43] ax.service.ax_client: Saved JSON-serialized state of optimization to `/Users/thomasdodd/Library/CloudStorage/OneDrive-MillfieldEnterprisesLimited/Cambridge/GitHub/BO4ACST/Notebooks/Optimisation/Method20241028Dim2_qMaxValueEntropy/AxExperiment.json`.\n",
      "/Users/thomasdodd/miniconda3/envs/BO4ACST_env/lib/python3.11/site-packages/ax/core/data.py:288: FutureWarning: The behavior of DataFrame concatenation with empty or all-NA entries is deprecated. In a future version, this will no longer exclude empty or all-NA columns when determining the result dtypes. To retain the old behavior, exclude the relevant entries before the concat operation.\n",
      "  return cls(df=pd.concat(dfs, axis=0, sort=True))\n",
      "[WARNING 10-29 16:29:43] ax.service.utils.report_utils: Column reason missing for all trials. Not appending column.\n",
      "/Users/thomasdodd/miniconda3/envs/BO4ACST_env/lib/python3.11/site-packages/ax/core/data.py:288: FutureWarning: The behavior of DataFrame concatenation with empty or all-NA entries is deprecated. In a future version, this will no longer exclude empty or all-NA columns when determining the result dtypes. To retain the old behavior, exclude the relevant entries before the concat operation.\n",
      "  return cls(df=pd.concat(dfs, axis=0, sort=True))\n",
      "[WARNING 10-29 16:29:43] ax.service.utils.report_utils: Column reason missing for all trials. Not appending column.\n",
      "[INFO 10-29 16:29:43] ax.service.ax_client: Completed trial 17 with data: {'t1': (1.907975, None)}.\n",
      "[INFO 10-29 16:29:43] ax.service.ax_client: Saved JSON-serialized state of optimization to `/Users/thomasdodd/Library/CloudStorage/OneDrive-MillfieldEnterprisesLimited/Cambridge/GitHub/BO4ACST/Notebooks/Optimisation/Method20241028Dim2_qMaxValueEntropy/AxExperiment.json`.\n",
      "[WARNING 10-29 16:29:43] ax.service.utils.report_utils: Column reason missing for all trials. Not appending column.\n",
      "[WARNING 10-29 16:29:43] ax.service.utils.report_utils: Column reason missing for all trials. Not appending column.\n"
     ]
    },
    {
     "name": "stdout",
     "output_type": "stream",
     "text": [
      "There are no trials currently running - initialising Bayesian iteration trials.\n"
     ]
    },
    {
     "name": "stderr",
     "output_type": "stream",
     "text": [
      "[INFO 10-29 16:29:50] ax.service.ax_client: Generated new trial 18 with parameters {'x1': -4.807594, 'x2': 10.0} using model BoTorch.\n",
      "[INFO 10-29 16:29:50] ax.service.ax_client: Saved JSON-serialized state of optimization to `/Users/thomasdodd/Library/CloudStorage/OneDrive-MillfieldEnterprisesLimited/Cambridge/GitHub/BO4ACST/Notebooks/Optimisation/Method20241028Dim2_qMaxValueEntropy/AxExperiment.json`.\n",
      "/Users/thomasdodd/miniconda3/envs/BO4ACST_env/lib/python3.11/site-packages/ax/core/data.py:288: FutureWarning: The behavior of DataFrame concatenation with empty or all-NA entries is deprecated. In a future version, this will no longer exclude empty or all-NA columns when determining the result dtypes. To retain the old behavior, exclude the relevant entries before the concat operation.\n",
      "  return cls(df=pd.concat(dfs, axis=0, sort=True))\n",
      "[WARNING 10-29 16:29:50] ax.service.utils.report_utils: Column reason missing for all trials. Not appending column.\n",
      "/Users/thomasdodd/miniconda3/envs/BO4ACST_env/lib/python3.11/site-packages/ax/core/data.py:288: FutureWarning: The behavior of DataFrame concatenation with empty or all-NA entries is deprecated. In a future version, this will no longer exclude empty or all-NA columns when determining the result dtypes. To retain the old behavior, exclude the relevant entries before the concat operation.\n",
      "  return cls(df=pd.concat(dfs, axis=0, sort=True))\n",
      "[WARNING 10-29 16:29:50] ax.service.utils.report_utils: Column reason missing for all trials. Not appending column.\n",
      "[INFO 10-29 16:29:50] ax.service.ax_client: Completed trial 18 with data: {'t1': (88.415476, None)}.\n",
      "[INFO 10-29 16:29:50] ax.service.ax_client: Saved JSON-serialized state of optimization to `/Users/thomasdodd/Library/CloudStorage/OneDrive-MillfieldEnterprisesLimited/Cambridge/GitHub/BO4ACST/Notebooks/Optimisation/Method20241028Dim2_qMaxValueEntropy/AxExperiment.json`.\n",
      "[WARNING 10-29 16:29:50] ax.service.utils.report_utils: Column reason missing for all trials. Not appending column.\n",
      "[WARNING 10-29 16:29:50] ax.service.utils.report_utils: Column reason missing for all trials. Not appending column.\n"
     ]
    },
    {
     "name": "stdout",
     "output_type": "stream",
     "text": [
      "There are no trials currently running - initialising Bayesian iteration trials.\n"
     ]
    },
    {
     "name": "stderr",
     "output_type": "stream",
     "text": [
      "[INFO 10-29 16:29:58] ax.service.ax_client: Generated new trial 19 with parameters {'x1': 0.578433, 'x2': 2.902634} using model BoTorch.\n",
      "[INFO 10-29 16:29:58] ax.service.ax_client: Saved JSON-serialized state of optimization to `/Users/thomasdodd/Library/CloudStorage/OneDrive-MillfieldEnterprisesLimited/Cambridge/GitHub/BO4ACST/Notebooks/Optimisation/Method20241028Dim2_qMaxValueEntropy/AxExperiment.json`.\n",
      "/Users/thomasdodd/miniconda3/envs/BO4ACST_env/lib/python3.11/site-packages/ax/core/data.py:288: FutureWarning: The behavior of DataFrame concatenation with empty or all-NA entries is deprecated. In a future version, this will no longer exclude empty or all-NA columns when determining the result dtypes. To retain the old behavior, exclude the relevant entries before the concat operation.\n",
      "  return cls(df=pd.concat(dfs, axis=0, sort=True))\n",
      "[WARNING 10-29 16:29:58] ax.service.utils.report_utils: Column reason missing for all trials. Not appending column.\n",
      "/Users/thomasdodd/miniconda3/envs/BO4ACST_env/lib/python3.11/site-packages/ax/core/data.py:288: FutureWarning: The behavior of DataFrame concatenation with empty or all-NA entries is deprecated. In a future version, this will no longer exclude empty or all-NA columns when determining the result dtypes. To retain the old behavior, exclude the relevant entries before the concat operation.\n",
      "  return cls(df=pd.concat(dfs, axis=0, sort=True))\n",
      "[WARNING 10-29 16:29:58] ax.service.utils.report_utils: Column reason missing for all trials. Not appending column.\n",
      "[INFO 10-29 16:29:58] ax.service.ax_client: Completed trial 19 with data: {'t1': (1.264362, None)}.\n",
      "[INFO 10-29 16:29:58] ax.service.ax_client: Saved JSON-serialized state of optimization to `/Users/thomasdodd/Library/CloudStorage/OneDrive-MillfieldEnterprisesLimited/Cambridge/GitHub/BO4ACST/Notebooks/Optimisation/Method20241028Dim2_qMaxValueEntropy/AxExperiment.json`.\n",
      "[WARNING 10-29 16:29:58] ax.service.utils.report_utils: Column reason missing for all trials. Not appending column.\n",
      "[WARNING 10-29 16:29:58] ax.service.utils.report_utils: Column reason missing for all trials. Not appending column.\n"
     ]
    },
    {
     "name": "stdout",
     "output_type": "stream",
     "text": [
      "There are no trials currently running - initialising Bayesian iteration trials.\n"
     ]
    },
    {
     "name": "stderr",
     "output_type": "stream",
     "text": [
      "[INFO 10-29 16:30:05] ax.service.ax_client: Generated new trial 20 with parameters {'x1': 0.498675, 'x2': 2.950759} using model BoTorch.\n",
      "[INFO 10-29 16:30:05] ax.service.ax_client: Saved JSON-serialized state of optimization to `/Users/thomasdodd/Library/CloudStorage/OneDrive-MillfieldEnterprisesLimited/Cambridge/GitHub/BO4ACST/Notebooks/Optimisation/Method20241028Dim2_qMaxValueEntropy/AxExperiment.json`.\n",
      "/Users/thomasdodd/miniconda3/envs/BO4ACST_env/lib/python3.11/site-packages/ax/core/data.py:288: FutureWarning: The behavior of DataFrame concatenation with empty or all-NA entries is deprecated. In a future version, this will no longer exclude empty or all-NA columns when determining the result dtypes. To retain the old behavior, exclude the relevant entries before the concat operation.\n",
      "  return cls(df=pd.concat(dfs, axis=0, sort=True))\n",
      "[WARNING 10-29 16:30:05] ax.service.utils.report_utils: Column reason missing for all trials. Not appending column.\n",
      "/Users/thomasdodd/miniconda3/envs/BO4ACST_env/lib/python3.11/site-packages/ax/core/data.py:288: FutureWarning: The behavior of DataFrame concatenation with empty or all-NA entries is deprecated. In a future version, this will no longer exclude empty or all-NA columns when determining the result dtypes. To retain the old behavior, exclude the relevant entries before the concat operation.\n",
      "  return cls(df=pd.concat(dfs, axis=0, sort=True))\n",
      "[WARNING 10-29 16:30:05] ax.service.utils.report_utils: Column reason missing for all trials. Not appending column.\n",
      "[INFO 10-29 16:30:05] ax.service.ax_client: Completed trial 20 with data: {'t1': (1.466245, None)}.\n",
      "[INFO 10-29 16:30:05] ax.service.ax_client: Saved JSON-serialized state of optimization to `/Users/thomasdodd/Library/CloudStorage/OneDrive-MillfieldEnterprisesLimited/Cambridge/GitHub/BO4ACST/Notebooks/Optimisation/Method20241028Dim2_qMaxValueEntropy/AxExperiment.json`.\n",
      "[WARNING 10-29 16:30:05] ax.service.utils.report_utils: Column reason missing for all trials. Not appending column.\n",
      "[WARNING 10-29 16:30:05] ax.service.utils.report_utils: Column reason missing for all trials. Not appending column.\n"
     ]
    },
    {
     "name": "stdout",
     "output_type": "stream",
     "text": [
      "There are no trials currently running - initialising Bayesian iteration trials.\n"
     ]
    },
    {
     "name": "stderr",
     "output_type": "stream",
     "text": [
      "[INFO 10-29 16:30:13] ax.service.ax_client: Generated new trial 21 with parameters {'x1': 1.606062, 'x2': 1.96816} using model BoTorch.\n",
      "[INFO 10-29 16:30:13] ax.service.ax_client: Saved JSON-serialized state of optimization to `/Users/thomasdodd/Library/CloudStorage/OneDrive-MillfieldEnterprisesLimited/Cambridge/GitHub/BO4ACST/Notebooks/Optimisation/Method20241028Dim2_qMaxValueEntropy/AxExperiment.json`.\n",
      "/Users/thomasdodd/miniconda3/envs/BO4ACST_env/lib/python3.11/site-packages/ax/core/data.py:288: FutureWarning: The behavior of DataFrame concatenation with empty or all-NA entries is deprecated. In a future version, this will no longer exclude empty or all-NA columns when determining the result dtypes. To retain the old behavior, exclude the relevant entries before the concat operation.\n",
      "  return cls(df=pd.concat(dfs, axis=0, sort=True))\n",
      "[WARNING 10-29 16:30:13] ax.service.utils.report_utils: Column reason missing for all trials. Not appending column.\n",
      "/Users/thomasdodd/miniconda3/envs/BO4ACST_env/lib/python3.11/site-packages/ax/core/data.py:288: FutureWarning: The behavior of DataFrame concatenation with empty or all-NA entries is deprecated. In a future version, this will no longer exclude empty or all-NA columns when determining the result dtypes. To retain the old behavior, exclude the relevant entries before the concat operation.\n",
      "  return cls(df=pd.concat(dfs, axis=0, sort=True))\n",
      "[WARNING 10-29 16:30:13] ax.service.utils.report_utils: Column reason missing for all trials. Not appending column.\n",
      "[INFO 10-29 16:30:13] ax.service.ax_client: Completed trial 21 with data: {'t1': (2.15715, None)}.\n",
      "[INFO 10-29 16:30:13] ax.service.ax_client: Saved JSON-serialized state of optimization to `/Users/thomasdodd/Library/CloudStorage/OneDrive-MillfieldEnterprisesLimited/Cambridge/GitHub/BO4ACST/Notebooks/Optimisation/Method20241028Dim2_qMaxValueEntropy/AxExperiment.json`.\n",
      "[WARNING 10-29 16:30:13] ax.service.utils.report_utils: Column reason missing for all trials. Not appending column.\n",
      "[WARNING 10-29 16:30:13] ax.service.utils.report_utils: Column reason missing for all trials. Not appending column.\n"
     ]
    },
    {
     "name": "stdout",
     "output_type": "stream",
     "text": [
      "There are no trials currently running - initialising Bayesian iteration trials.\n"
     ]
    },
    {
     "name": "stderr",
     "output_type": "stream",
     "text": [
      "[INFO 10-29 16:30:20] ax.service.ax_client: Generated new trial 22 with parameters {'x1': 0.541172, 'x2': 3.019026} using model BoTorch.\n",
      "[INFO 10-29 16:30:20] ax.service.ax_client: Saved JSON-serialized state of optimization to `/Users/thomasdodd/Library/CloudStorage/OneDrive-MillfieldEnterprisesLimited/Cambridge/GitHub/BO4ACST/Notebooks/Optimisation/Method20241028Dim2_qMaxValueEntropy/AxExperiment.json`.\n",
      "/Users/thomasdodd/miniconda3/envs/BO4ACST_env/lib/python3.11/site-packages/ax/core/data.py:288: FutureWarning: The behavior of DataFrame concatenation with empty or all-NA entries is deprecated. In a future version, this will no longer exclude empty or all-NA columns when determining the result dtypes. To retain the old behavior, exclude the relevant entries before the concat operation.\n",
      "  return cls(df=pd.concat(dfs, axis=0, sort=True))\n",
      "[WARNING 10-29 16:30:20] ax.service.utils.report_utils: Column reason missing for all trials. Not appending column.\n",
      "/Users/thomasdodd/miniconda3/envs/BO4ACST_env/lib/python3.11/site-packages/ax/core/data.py:288: FutureWarning: The behavior of DataFrame concatenation with empty or all-NA entries is deprecated. In a future version, this will no longer exclude empty or all-NA columns when determining the result dtypes. To retain the old behavior, exclude the relevant entries before the concat operation.\n",
      "  return cls(df=pd.concat(dfs, axis=0, sort=True))\n",
      "[WARNING 10-29 16:30:21] ax.service.utils.report_utils: Column reason missing for all trials. Not appending column.\n",
      "[INFO 10-29 16:30:21] ax.service.ax_client: Completed trial 22 with data: {'t1': (0.98459, None)}.\n",
      "[INFO 10-29 16:30:21] ax.service.ax_client: Saved JSON-serialized state of optimization to `/Users/thomasdodd/Library/CloudStorage/OneDrive-MillfieldEnterprisesLimited/Cambridge/GitHub/BO4ACST/Notebooks/Optimisation/Method20241028Dim2_qMaxValueEntropy/AxExperiment.json`.\n",
      "[WARNING 10-29 16:30:21] ax.service.utils.report_utils: Column reason missing for all trials. Not appending column.\n",
      "[WARNING 10-29 16:30:21] ax.service.utils.report_utils: Column reason missing for all trials. Not appending column.\n"
     ]
    },
    {
     "name": "stdout",
     "output_type": "stream",
     "text": [
      "There are no trials currently running - initialising Bayesian iteration trials.\n"
     ]
    },
    {
     "name": "stderr",
     "output_type": "stream",
     "text": [
      "[INFO 10-29 16:30:30] ax.service.ax_client: Generated new trial 23 with parameters {'x1': 0.964137, 'x2': 2.597339} using model BoTorch.\n",
      "[INFO 10-29 16:30:30] ax.service.ax_client: Saved JSON-serialized state of optimization to `/Users/thomasdodd/Library/CloudStorage/OneDrive-MillfieldEnterprisesLimited/Cambridge/GitHub/BO4ACST/Notebooks/Optimisation/Method20241028Dim2_qMaxValueEntropy/AxExperiment.json`.\n",
      "/Users/thomasdodd/miniconda3/envs/BO4ACST_env/lib/python3.11/site-packages/ax/core/data.py:288: FutureWarning: The behavior of DataFrame concatenation with empty or all-NA entries is deprecated. In a future version, this will no longer exclude empty or all-NA columns when determining the result dtypes. To retain the old behavior, exclude the relevant entries before the concat operation.\n",
      "  return cls(df=pd.concat(dfs, axis=0, sort=True))\n",
      "[WARNING 10-29 16:30:30] ax.service.utils.report_utils: Column reason missing for all trials. Not appending column.\n",
      "/Users/thomasdodd/miniconda3/envs/BO4ACST_env/lib/python3.11/site-packages/ax/core/data.py:288: FutureWarning: The behavior of DataFrame concatenation with empty or all-NA entries is deprecated. In a future version, this will no longer exclude empty or all-NA columns when determining the result dtypes. To retain the old behavior, exclude the relevant entries before the concat operation.\n",
      "  return cls(df=pd.concat(dfs, axis=0, sort=True))\n",
      "[WARNING 10-29 16:30:30] ax.service.utils.report_utils: Column reason missing for all trials. Not appending column.\n",
      "[INFO 10-29 16:30:30] ax.service.ax_client: Completed trial 23 with data: {'t1': (0.932637, None)}.\n",
      "[INFO 10-29 16:30:30] ax.service.ax_client: Saved JSON-serialized state of optimization to `/Users/thomasdodd/Library/CloudStorage/OneDrive-MillfieldEnterprisesLimited/Cambridge/GitHub/BO4ACST/Notebooks/Optimisation/Method20241028Dim2_qMaxValueEntropy/AxExperiment.json`.\n",
      "[WARNING 10-29 16:30:30] ax.service.utils.report_utils: Column reason missing for all trials. Not appending column.\n",
      "[INFO 10-29 16:30:30] ax.service.ax_client: Starting optimization with verbose logging. To disable logging, set the `verbose_logging` argument to `False`. Note that float values in the logs are rounded to 6 decimal points.\n",
      "[INFO 10-29 16:30:30] ax.service.utils.instantiation: Created search space: SearchSpace(parameters=[RangeParameter(name='x1', parameter_type=FLOAT, range=[-10.0, 10.0]), RangeParameter(name='x2', parameter_type=FLOAT, range=[-10.0, 10.0])], parameter_constraints=[]).\n",
      "[INFO 10-29 16:30:30] ax.service.ax_client: Saved JSON-serialized state of optimization to `/Users/thomasdodd/Library/CloudStorage/OneDrive-MillfieldEnterprisesLimited/Cambridge/GitHub/BO4ACST/Notebooks/Optimisation/Method20241028Dim2_qMaxValueEntropy/AxExperiment.json`.\n",
      "[INFO 10-29 16:30:30] ax.core.experiment: Attached custom parameterizations [{'x1': -10.0, 'x2': -10.0}] as trial 0.\n",
      "[INFO 10-29 16:30:30] ax.core.experiment: Attached custom parameterizations [{'x1': 0.0, 'x2': -10.0}] as trial 1.\n",
      "[INFO 10-29 16:30:30] ax.core.experiment: Attached custom parameterizations [{'x1': 10.0, 'x2': -10.0}] as trial 2.\n",
      "[INFO 10-29 16:30:30] ax.core.experiment: Attached custom parameterizations [{'x1': -10.0, 'x2': 0.0}] as trial 3.\n",
      "[INFO 10-29 16:30:30] ax.core.experiment: Attached custom parameterizations [{'x1': 0.0, 'x2': 0.0}] as trial 4.\n",
      "[INFO 10-29 16:30:30] ax.core.experiment: Attached custom parameterizations [{'x1': 10.0, 'x2': 0.0}] as trial 5.\n",
      "[INFO 10-29 16:30:30] ax.core.experiment: Attached custom parameterizations [{'x1': -10.0, 'x2': 10.0}] as trial 6.\n",
      "[INFO 10-29 16:30:30] ax.core.experiment: Attached custom parameterizations [{'x1': 0.0, 'x2': 10.0}] as trial 7.\n",
      "[INFO 10-29 16:30:30] ax.core.experiment: Attached custom parameterizations [{'x1': 10.0, 'x2': 10.0}] as trial 8.\n",
      "[INFO 10-29 16:30:30] ax.service.ax_client: Saved JSON-serialized state of optimization to `/Users/thomasdodd/Library/CloudStorage/OneDrive-MillfieldEnterprisesLimited/Cambridge/GitHub/BO4ACST/Notebooks/Optimisation/Method20241028Dim2_qMaxValueEntropy/AxExperiment.json`.\n",
      "[WARNING 10-29 16:30:30] ax.service.utils.report_utils: Column reason missing for all trials. Not appending column.\n",
      "[INFO 10-29 16:30:30] ax.service.utils.report_utils: No results present for the specified metrics `[Metric('t1')]`. Returning arm parameters and metadata only.\n",
      "[WARNING 10-29 16:30:30] ax.service.utils.report_utils: Column reason missing for all trials. Not appending column.\n",
      "[INFO 10-29 16:30:30] ax.service.utils.report_utils: No results present for the specified metrics `[Metric('t1')]`. Returning arm parameters and metadata only.\n",
      "[INFO 10-29 16:30:30] ax.service.ax_client: Completed trial 0 with data: {'t1': (2594.0, None)}.\n",
      "[INFO 10-29 16:30:30] ax.service.ax_client: Saved JSON-serialized state of optimization to `/Users/thomasdodd/Library/CloudStorage/OneDrive-MillfieldEnterprisesLimited/Cambridge/GitHub/BO4ACST/Notebooks/Optimisation/Method20241028Dim2_qMaxValueEntropy/AxExperiment.json`.\n",
      "[INFO 10-29 16:30:30] ax.service.ax_client: Completed trial 1 with data: {'t1': (954.0, None)}.\n",
      "[INFO 10-29 16:30:30] ax.service.ax_client: Saved JSON-serialized state of optimization to `/Users/thomasdodd/Library/CloudStorage/OneDrive-MillfieldEnterprisesLimited/Cambridge/GitHub/BO4ACST/Notebooks/Optimisation/Method20241028Dim2_qMaxValueEntropy/AxExperiment.json`.\n",
      "[INFO 10-29 16:30:30] ax.service.ax_client: Completed trial 2 with data: {'t1': (314.0, None)}.\n",
      "[INFO 10-29 16:30:30] ax.service.ax_client: Saved JSON-serialized state of optimization to `/Users/thomasdodd/Library/CloudStorage/OneDrive-MillfieldEnterprisesLimited/Cambridge/GitHub/BO4ACST/Notebooks/Optimisation/Method20241028Dim2_qMaxValueEntropy/AxExperiment.json`.\n",
      "[INFO 10-29 16:30:30] ax.service.ax_client: Completed trial 3 with data: {'t1': (914.0, None)}.\n",
      "[INFO 10-29 16:30:30] ax.service.ax_client: Saved JSON-serialized state of optimization to `/Users/thomasdodd/Library/CloudStorage/OneDrive-MillfieldEnterprisesLimited/Cambridge/GitHub/BO4ACST/Notebooks/Optimisation/Method20241028Dim2_qMaxValueEntropy/AxExperiment.json`.\n",
      "[INFO 10-29 16:30:30] ax.service.ax_client: Completed trial 4 with data: {'t1': (74.0, None)}.\n",
      "[INFO 10-29 16:30:30] ax.service.ax_client: Saved JSON-serialized state of optimization to `/Users/thomasdodd/Library/CloudStorage/OneDrive-MillfieldEnterprisesLimited/Cambridge/GitHub/BO4ACST/Notebooks/Optimisation/Method20241028Dim2_qMaxValueEntropy/AxExperiment.json`.\n",
      "[INFO 10-29 16:30:30] ax.service.ax_client: Completed trial 5 with data: {'t1': (234.0, None)}.\n",
      "[INFO 10-29 16:30:30] ax.service.ax_client: Saved JSON-serialized state of optimization to `/Users/thomasdodd/Library/CloudStorage/OneDrive-MillfieldEnterprisesLimited/Cambridge/GitHub/BO4ACST/Notebooks/Optimisation/Method20241028Dim2_qMaxValueEntropy/AxExperiment.json`.\n",
      "[INFO 10-29 16:30:30] ax.service.ax_client: Completed trial 6 with data: {'t1': (234.0, None)}.\n",
      "[INFO 10-29 16:30:30] ax.service.ax_client: Saved JSON-serialized state of optimization to `/Users/thomasdodd/Library/CloudStorage/OneDrive-MillfieldEnterprisesLimited/Cambridge/GitHub/BO4ACST/Notebooks/Optimisation/Method20241028Dim2_qMaxValueEntropy/AxExperiment.json`.\n",
      "[INFO 10-29 16:30:30] ax.service.ax_client: Completed trial 7 with data: {'t1': (194.0, None)}.\n",
      "[INFO 10-29 16:30:30] ax.service.ax_client: Saved JSON-serialized state of optimization to `/Users/thomasdodd/Library/CloudStorage/OneDrive-MillfieldEnterprisesLimited/Cambridge/GitHub/BO4ACST/Notebooks/Optimisation/Method20241028Dim2_qMaxValueEntropy/AxExperiment.json`.\n",
      "[INFO 10-29 16:30:30] ax.service.ax_client: Completed trial 8 with data: {'t1': (1154.0, None)}.\n",
      "[INFO 10-29 16:30:30] ax.service.ax_client: Saved JSON-serialized state of optimization to `/Users/thomasdodd/Library/CloudStorage/OneDrive-MillfieldEnterprisesLimited/Cambridge/GitHub/BO4ACST/Notebooks/Optimisation/Method20241028Dim2_qMaxValueEntropy/AxExperiment.json`.\n",
      "[WARNING 10-29 16:30:30] ax.service.utils.report_utils: Column reason missing for all trials. Not appending column.\n",
      "[WARNING 10-29 16:30:30] ax.service.utils.report_utils: Column reason missing for all trials. Not appending column.\n"
     ]
    },
    {
     "name": "stdout",
     "output_type": "stream",
     "text": [
      "[74.         44.9555229  44.9555229   8.29674417  0.71653913  0.71653913\n",
      "  0.71653913  0.71653913  0.71653913  0.71653913  0.71653913  0.71653913\n",
      "  0.71653913  0.71653913  0.71653913  0.71653913]\n",
      "A new experiment has been created and initialised.\n",
      "No previous or current trials detected - initialising prior-forming trials.\n",
      "Samples gridded = 9\n",
      "There are no trials currently running - initialising Bayesian iteration trials.\n"
     ]
    },
    {
     "name": "stderr",
     "output_type": "stream",
     "text": [
      "[INFO 10-29 16:30:35] ax.service.ax_client: Generated new trial 9 with parameters {'x1': -3.791885, 'x2': 5.948495} using model BoTorch.\n",
      "[INFO 10-29 16:30:35] ax.service.ax_client: Saved JSON-serialized state of optimization to `/Users/thomasdodd/Library/CloudStorage/OneDrive-MillfieldEnterprisesLimited/Cambridge/GitHub/BO4ACST/Notebooks/Optimisation/Method20241028Dim2_qMaxValueEntropy/AxExperiment.json`.\n",
      "/Users/thomasdodd/miniconda3/envs/BO4ACST_env/lib/python3.11/site-packages/ax/core/data.py:288: FutureWarning: The behavior of DataFrame concatenation with empty or all-NA entries is deprecated. In a future version, this will no longer exclude empty or all-NA columns when determining the result dtypes. To retain the old behavior, exclude the relevant entries before the concat operation.\n",
      "  return cls(df=pd.concat(dfs, axis=0, sort=True))\n",
      "[WARNING 10-29 16:30:35] ax.service.utils.report_utils: Column reason missing for all trials. Not appending column.\n",
      "/Users/thomasdodd/miniconda3/envs/BO4ACST_env/lib/python3.11/site-packages/ax/core/data.py:288: FutureWarning: The behavior of DataFrame concatenation with empty or all-NA entries is deprecated. In a future version, this will no longer exclude empty or all-NA columns when determining the result dtypes. To retain the old behavior, exclude the relevant entries before the concat operation.\n",
      "  return cls(df=pd.concat(dfs, axis=0, sort=True))\n",
      "[WARNING 10-29 16:30:35] ax.service.utils.report_utils: Column reason missing for all trials. Not appending column.\n",
      "[INFO 10-29 16:30:35] ax.service.ax_client: Completed trial 9 with data: {'t1': (45.248126, None)}.\n",
      "[INFO 10-29 16:30:35] ax.service.ax_client: Saved JSON-serialized state of optimization to `/Users/thomasdodd/Library/CloudStorage/OneDrive-MillfieldEnterprisesLimited/Cambridge/GitHub/BO4ACST/Notebooks/Optimisation/Method20241028Dim2_qMaxValueEntropy/AxExperiment.json`.\n",
      "[WARNING 10-29 16:30:35] ax.service.utils.report_utils: Column reason missing for all trials. Not appending column.\n",
      "[WARNING 10-29 16:30:35] ax.service.utils.report_utils: Column reason missing for all trials. Not appending column.\n"
     ]
    },
    {
     "name": "stdout",
     "output_type": "stream",
     "text": [
      "There are no trials currently running - initialising Bayesian iteration trials.\n"
     ]
    },
    {
     "name": "stderr",
     "output_type": "stream",
     "text": [
      "[INFO 10-29 16:30:43] ax.service.ax_client: Generated new trial 10 with parameters {'x1': 5.605647, 'x2': -3.001315} using model BoTorch.\n",
      "[INFO 10-29 16:30:43] ax.service.ax_client: Saved JSON-serialized state of optimization to `/Users/thomasdodd/Library/CloudStorage/OneDrive-MillfieldEnterprisesLimited/Cambridge/GitHub/BO4ACST/Notebooks/Optimisation/Method20241028Dim2_qMaxValueEntropy/AxExperiment.json`.\n",
      "/Users/thomasdodd/miniconda3/envs/BO4ACST_env/lib/python3.11/site-packages/ax/core/data.py:288: FutureWarning: The behavior of DataFrame concatenation with empty or all-NA entries is deprecated. In a future version, this will no longer exclude empty or all-NA columns when determining the result dtypes. To retain the old behavior, exclude the relevant entries before the concat operation.\n",
      "  return cls(df=pd.concat(dfs, axis=0, sort=True))\n",
      "[WARNING 10-29 16:30:43] ax.service.utils.report_utils: Column reason missing for all trials. Not appending column.\n",
      "/Users/thomasdodd/miniconda3/envs/BO4ACST_env/lib/python3.11/site-packages/ax/core/data.py:288: FutureWarning: The behavior of DataFrame concatenation with empty or all-NA entries is deprecated. In a future version, this will no longer exclude empty or all-NA columns when determining the result dtypes. To retain the old behavior, exclude the relevant entries before the concat operation.\n",
      "  return cls(df=pd.concat(dfs, axis=0, sort=True))\n",
      "[WARNING 10-29 16:30:43] ax.service.utils.report_utils: Column reason missing for all trials. Not appending column.\n",
      "[INFO 10-29 16:30:43] ax.service.ax_client: Completed trial 10 with data: {'t1': (65.019325, None)}.\n",
      "[INFO 10-29 16:30:43] ax.service.ax_client: Saved JSON-serialized state of optimization to `/Users/thomasdodd/Library/CloudStorage/OneDrive-MillfieldEnterprisesLimited/Cambridge/GitHub/BO4ACST/Notebooks/Optimisation/Method20241028Dim2_qMaxValueEntropy/AxExperiment.json`.\n",
      "[WARNING 10-29 16:30:43] ax.service.utils.report_utils: Column reason missing for all trials. Not appending column.\n",
      "[WARNING 10-29 16:30:43] ax.service.utils.report_utils: Column reason missing for all trials. Not appending column.\n"
     ]
    },
    {
     "name": "stdout",
     "output_type": "stream",
     "text": [
      "There are no trials currently running - initialising Bayesian iteration trials.\n"
     ]
    },
    {
     "name": "stderr",
     "output_type": "stream",
     "text": [
      "[INFO 10-29 16:30:50] ax.service.ax_client: Generated new trial 11 with parameters {'x1': 2.120468, 'x2': 3.071369} using model BoTorch.\n",
      "[INFO 10-29 16:30:50] ax.service.ax_client: Saved JSON-serialized state of optimization to `/Users/thomasdodd/Library/CloudStorage/OneDrive-MillfieldEnterprisesLimited/Cambridge/GitHub/BO4ACST/Notebooks/Optimisation/Method20241028Dim2_qMaxValueEntropy/AxExperiment.json`.\n",
      "/Users/thomasdodd/miniconda3/envs/BO4ACST_env/lib/python3.11/site-packages/ax/core/data.py:288: FutureWarning: The behavior of DataFrame concatenation with empty or all-NA entries is deprecated. In a future version, this will no longer exclude empty or all-NA columns when determining the result dtypes. To retain the old behavior, exclude the relevant entries before the concat operation.\n",
      "  return cls(df=pd.concat(dfs, axis=0, sort=True))\n",
      "[WARNING 10-29 16:30:50] ax.service.utils.report_utils: Column reason missing for all trials. Not appending column.\n",
      "/Users/thomasdodd/miniconda3/envs/BO4ACST_env/lib/python3.11/site-packages/ax/core/data.py:288: FutureWarning: The behavior of DataFrame concatenation with empty or all-NA entries is deprecated. In a future version, this will no longer exclude empty or all-NA columns when determining the result dtypes. To retain the old behavior, exclude the relevant entries before the concat operation.\n",
      "  return cls(df=pd.concat(dfs, axis=0, sort=True))\n",
      "[WARNING 10-29 16:30:50] ax.service.utils.report_utils: Column reason missing for all trials. Not appending column.\n",
      "[INFO 10-29 16:30:51] ax.service.ax_client: Completed trial 11 with data: {'t1': (6.942438, None)}.\n",
      "[INFO 10-29 16:30:51] ax.service.ax_client: Saved JSON-serialized state of optimization to `/Users/thomasdodd/Library/CloudStorage/OneDrive-MillfieldEnterprisesLimited/Cambridge/GitHub/BO4ACST/Notebooks/Optimisation/Method20241028Dim2_qMaxValueEntropy/AxExperiment.json`.\n",
      "[WARNING 10-29 16:30:51] ax.service.utils.report_utils: Column reason missing for all trials. Not appending column.\n",
      "[WARNING 10-29 16:30:51] ax.service.utils.report_utils: Column reason missing for all trials. Not appending column.\n"
     ]
    },
    {
     "name": "stdout",
     "output_type": "stream",
     "text": [
      "There are no trials currently running - initialising Bayesian iteration trials.\n"
     ]
    },
    {
     "name": "stderr",
     "output_type": "stream",
     "text": [
      "[INFO 10-29 16:31:04] ax.service.ax_client: Generated new trial 12 with parameters {'x1': 1.171326, 'x2': 3.265837} using model BoTorch.\n",
      "[INFO 10-29 16:31:04] ax.service.ax_client: Saved JSON-serialized state of optimization to `/Users/thomasdodd/Library/CloudStorage/OneDrive-MillfieldEnterprisesLimited/Cambridge/GitHub/BO4ACST/Notebooks/Optimisation/Method20241028Dim2_qMaxValueEntropy/AxExperiment.json`.\n",
      "/Users/thomasdodd/miniconda3/envs/BO4ACST_env/lib/python3.11/site-packages/ax/core/data.py:288: FutureWarning: The behavior of DataFrame concatenation with empty or all-NA entries is deprecated. In a future version, this will no longer exclude empty or all-NA columns when determining the result dtypes. To retain the old behavior, exclude the relevant entries before the concat operation.\n",
      "  return cls(df=pd.concat(dfs, axis=0, sort=True))\n",
      "[WARNING 10-29 16:31:04] ax.service.utils.report_utils: Column reason missing for all trials. Not appending column.\n",
      "/Users/thomasdodd/miniconda3/envs/BO4ACST_env/lib/python3.11/site-packages/ax/core/data.py:288: FutureWarning: The behavior of DataFrame concatenation with empty or all-NA entries is deprecated. In a future version, this will no longer exclude empty or all-NA columns when determining the result dtypes. To retain the old behavior, exclude the relevant entries before the concat operation.\n",
      "  return cls(df=pd.concat(dfs, axis=0, sort=True))\n",
      "[WARNING 10-29 16:31:04] ax.service.utils.report_utils: Column reason missing for all trials. Not appending column.\n",
      "[INFO 10-29 16:31:04] ax.service.ax_client: Completed trial 12 with data: {'t1': (0.864471, None)}.\n",
      "[INFO 10-29 16:31:04] ax.service.ax_client: Saved JSON-serialized state of optimization to `/Users/thomasdodd/Library/CloudStorage/OneDrive-MillfieldEnterprisesLimited/Cambridge/GitHub/BO4ACST/Notebooks/Optimisation/Method20241028Dim2_qMaxValueEntropy/AxExperiment.json`.\n",
      "[WARNING 10-29 16:31:04] ax.service.utils.report_utils: Column reason missing for all trials. Not appending column.\n",
      "[WARNING 10-29 16:31:04] ax.service.utils.report_utils: Column reason missing for all trials. Not appending column.\n"
     ]
    },
    {
     "name": "stdout",
     "output_type": "stream",
     "text": [
      "There are no trials currently running - initialising Bayesian iteration trials.\n"
     ]
    },
    {
     "name": "stderr",
     "output_type": "stream",
     "text": [
      "[INFO 10-29 16:31:21] ax.service.ax_client: Generated new trial 13 with parameters {'x1': -2.615219, 'x2': 5.826481} using model BoTorch.\n",
      "[INFO 10-29 16:31:21] ax.service.ax_client: Saved JSON-serialized state of optimization to `/Users/thomasdodd/Library/CloudStorage/OneDrive-MillfieldEnterprisesLimited/Cambridge/GitHub/BO4ACST/Notebooks/Optimisation/Method20241028Dim2_qMaxValueEntropy/AxExperiment.json`.\n",
      "/Users/thomasdodd/miniconda3/envs/BO4ACST_env/lib/python3.11/site-packages/ax/core/data.py:288: FutureWarning: The behavior of DataFrame concatenation with empty or all-NA entries is deprecated. In a future version, this will no longer exclude empty or all-NA columns when determining the result dtypes. To retain the old behavior, exclude the relevant entries before the concat operation.\n",
      "  return cls(df=pd.concat(dfs, axis=0, sort=True))\n",
      "[WARNING 10-29 16:31:21] ax.service.utils.report_utils: Column reason missing for all trials. Not appending column.\n",
      "/Users/thomasdodd/miniconda3/envs/BO4ACST_env/lib/python3.11/site-packages/ax/core/data.py:288: FutureWarning: The behavior of DataFrame concatenation with empty or all-NA entries is deprecated. In a future version, this will no longer exclude empty or all-NA columns when determining the result dtypes. To retain the old behavior, exclude the relevant entries before the concat operation.\n",
      "  return cls(df=pd.concat(dfs, axis=0, sort=True))\n",
      "[WARNING 10-29 16:31:21] ax.service.utils.report_utils: Column reason missing for all trials. Not appending column.\n",
      "[INFO 10-29 16:31:21] ax.service.ax_client: Completed trial 13 with data: {'t1': (23.54723, None)}.\n",
      "[INFO 10-29 16:31:21] ax.service.ax_client: Saved JSON-serialized state of optimization to `/Users/thomasdodd/Library/CloudStorage/OneDrive-MillfieldEnterprisesLimited/Cambridge/GitHub/BO4ACST/Notebooks/Optimisation/Method20241028Dim2_qMaxValueEntropy/AxExperiment.json`.\n",
      "[WARNING 10-29 16:31:21] ax.service.utils.report_utils: Column reason missing for all trials. Not appending column.\n",
      "[WARNING 10-29 16:31:21] ax.service.utils.report_utils: Column reason missing for all trials. Not appending column.\n"
     ]
    },
    {
     "name": "stdout",
     "output_type": "stream",
     "text": [
      "There are no trials currently running - initialising Bayesian iteration trials.\n"
     ]
    },
    {
     "name": "stderr",
     "output_type": "stream",
     "text": [
      "[INFO 10-29 16:31:27] ax.service.ax_client: Generated new trial 14 with parameters {'x1': 2.824502, 'x2': 1.493493} using model BoTorch.\n",
      "[INFO 10-29 16:31:27] ax.service.ax_client: Saved JSON-serialized state of optimization to `/Users/thomasdodd/Library/CloudStorage/OneDrive-MillfieldEnterprisesLimited/Cambridge/GitHub/BO4ACST/Notebooks/Optimisation/Method20241028Dim2_qMaxValueEntropy/AxExperiment.json`.\n",
      "/Users/thomasdodd/miniconda3/envs/BO4ACST_env/lib/python3.11/site-packages/ax/core/data.py:288: FutureWarning: The behavior of DataFrame concatenation with empty or all-NA entries is deprecated. In a future version, this will no longer exclude empty or all-NA columns when determining the result dtypes. To retain the old behavior, exclude the relevant entries before the concat operation.\n",
      "  return cls(df=pd.concat(dfs, axis=0, sort=True))\n",
      "[WARNING 10-29 16:31:27] ax.service.utils.report_utils: Column reason missing for all trials. Not appending column.\n",
      "/Users/thomasdodd/miniconda3/envs/BO4ACST_env/lib/python3.11/site-packages/ax/core/data.py:288: FutureWarning: The behavior of DataFrame concatenation with empty or all-NA entries is deprecated. In a future version, this will no longer exclude empty or all-NA columns when determining the result dtypes. To retain the old behavior, exclude the relevant entries before the concat operation.\n",
      "  return cls(df=pd.concat(dfs, axis=0, sort=True))\n",
      "[WARNING 10-29 16:31:27] ax.service.utils.report_utils: Column reason missing for all trials. Not appending column.\n",
      "[INFO 10-29 16:31:27] ax.service.ax_client: Completed trial 14 with data: {'t1': (6.002855, None)}.\n",
      "[INFO 10-29 16:31:27] ax.service.ax_client: Saved JSON-serialized state of optimization to `/Users/thomasdodd/Library/CloudStorage/OneDrive-MillfieldEnterprisesLimited/Cambridge/GitHub/BO4ACST/Notebooks/Optimisation/Method20241028Dim2_qMaxValueEntropy/AxExperiment.json`.\n",
      "[WARNING 10-29 16:31:27] ax.service.utils.report_utils: Column reason missing for all trials. Not appending column.\n",
      "[WARNING 10-29 16:31:27] ax.service.utils.report_utils: Column reason missing for all trials. Not appending column.\n"
     ]
    },
    {
     "name": "stdout",
     "output_type": "stream",
     "text": [
      "There are no trials currently running - initialising Bayesian iteration trials.\n"
     ]
    },
    {
     "name": "stderr",
     "output_type": "stream",
     "text": [
      "[INFO 10-29 16:31:45] ax.service.ax_client: Generated new trial 15 with parameters {'x1': 0.290191, 'x2': 3.573252} using model BoTorch.\n",
      "[INFO 10-29 16:31:45] ax.service.ax_client: Saved JSON-serialized state of optimization to `/Users/thomasdodd/Library/CloudStorage/OneDrive-MillfieldEnterprisesLimited/Cambridge/GitHub/BO4ACST/Notebooks/Optimisation/Method20241028Dim2_qMaxValueEntropy/AxExperiment.json`.\n",
      "/Users/thomasdodd/miniconda3/envs/BO4ACST_env/lib/python3.11/site-packages/ax/core/data.py:288: FutureWarning: The behavior of DataFrame concatenation with empty or all-NA entries is deprecated. In a future version, this will no longer exclude empty or all-NA columns when determining the result dtypes. To retain the old behavior, exclude the relevant entries before the concat operation.\n",
      "  return cls(df=pd.concat(dfs, axis=0, sort=True))\n",
      "[WARNING 10-29 16:31:45] ax.service.utils.report_utils: Column reason missing for all trials. Not appending column.\n",
      "/Users/thomasdodd/miniconda3/envs/BO4ACST_env/lib/python3.11/site-packages/ax/core/data.py:288: FutureWarning: The behavior of DataFrame concatenation with empty or all-NA entries is deprecated. In a future version, this will no longer exclude empty or all-NA columns when determining the result dtypes. To retain the old behavior, exclude the relevant entries before the concat operation.\n",
      "  return cls(df=pd.concat(dfs, axis=0, sort=True))\n",
      "[WARNING 10-29 16:31:45] ax.service.utils.report_utils: Column reason missing for all trials. Not appending column.\n",
      "[INFO 10-29 16:31:45] ax.service.ax_client: Completed trial 15 with data: {'t1': (0.907039, None)}.\n",
      "[INFO 10-29 16:31:45] ax.service.ax_client: Saved JSON-serialized state of optimization to `/Users/thomasdodd/Library/CloudStorage/OneDrive-MillfieldEnterprisesLimited/Cambridge/GitHub/BO4ACST/Notebooks/Optimisation/Method20241028Dim2_qMaxValueEntropy/AxExperiment.json`.\n",
      "[WARNING 10-29 16:31:45] ax.service.utils.report_utils: Column reason missing for all trials. Not appending column.\n",
      "[WARNING 10-29 16:31:45] ax.service.utils.report_utils: Column reason missing for all trials. Not appending column.\n"
     ]
    },
    {
     "name": "stdout",
     "output_type": "stream",
     "text": [
      "There are no trials currently running - initialising Bayesian iteration trials.\n"
     ]
    },
    {
     "name": "stderr",
     "output_type": "stream",
     "text": [
      "[INFO 10-29 16:32:01] ax.service.ax_client: Generated new trial 16 with parameters {'x1': 2.860512, 'x2': 1.009888} using model BoTorch.\n",
      "[INFO 10-29 16:32:01] ax.service.ax_client: Saved JSON-serialized state of optimization to `/Users/thomasdodd/Library/CloudStorage/OneDrive-MillfieldEnterprisesLimited/Cambridge/GitHub/BO4ACST/Notebooks/Optimisation/Method20241028Dim2_qMaxValueEntropy/AxExperiment.json`.\n",
      "/Users/thomasdodd/miniconda3/envs/BO4ACST_env/lib/python3.11/site-packages/ax/core/data.py:288: FutureWarning: The behavior of DataFrame concatenation with empty or all-NA entries is deprecated. In a future version, this will no longer exclude empty or all-NA columns when determining the result dtypes. To retain the old behavior, exclude the relevant entries before the concat operation.\n",
      "  return cls(df=pd.concat(dfs, axis=0, sort=True))\n",
      "[WARNING 10-29 16:32:01] ax.service.utils.report_utils: Column reason missing for all trials. Not appending column.\n",
      "/Users/thomasdodd/miniconda3/envs/BO4ACST_env/lib/python3.11/site-packages/ax/core/data.py:288: FutureWarning: The behavior of DataFrame concatenation with empty or all-NA entries is deprecated. In a future version, this will no longer exclude empty or all-NA columns when determining the result dtypes. To retain the old behavior, exclude the relevant entries before the concat operation.\n",
      "  return cls(df=pd.concat(dfs, axis=0, sort=True))\n",
      "[WARNING 10-29 16:32:01] ax.service.utils.report_utils: Column reason missing for all trials. Not appending column.\n",
      "[INFO 10-29 16:32:01] ax.service.ax_client: Completed trial 16 with data: {'t1': (7.489238, None)}.\n",
      "[INFO 10-29 16:32:01] ax.service.ax_client: Saved JSON-serialized state of optimization to `/Users/thomasdodd/Library/CloudStorage/OneDrive-MillfieldEnterprisesLimited/Cambridge/GitHub/BO4ACST/Notebooks/Optimisation/Method20241028Dim2_qMaxValueEntropy/AxExperiment.json`.\n",
      "[WARNING 10-29 16:32:01] ax.service.utils.report_utils: Column reason missing for all trials. Not appending column.\n",
      "[WARNING 10-29 16:32:01] ax.service.utils.report_utils: Column reason missing for all trials. Not appending column.\n"
     ]
    },
    {
     "name": "stdout",
     "output_type": "stream",
     "text": [
      "There are no trials currently running - initialising Bayesian iteration trials.\n"
     ]
    },
    {
     "name": "stderr",
     "output_type": "stream",
     "text": [
      "[INFO 10-29 16:32:14] ax.service.ax_client: Generated new trial 17 with parameters {'x1': -0.031462, 'x2': 3.708121} using model BoTorch.\n",
      "[INFO 10-29 16:32:14] ax.service.ax_client: Saved JSON-serialized state of optimization to `/Users/thomasdodd/Library/CloudStorage/OneDrive-MillfieldEnterprisesLimited/Cambridge/GitHub/BO4ACST/Notebooks/Optimisation/Method20241028Dim2_qMaxValueEntropy/AxExperiment.json`.\n",
      "/Users/thomasdodd/miniconda3/envs/BO4ACST_env/lib/python3.11/site-packages/ax/core/data.py:288: FutureWarning: The behavior of DataFrame concatenation with empty or all-NA entries is deprecated. In a future version, this will no longer exclude empty or all-NA columns when determining the result dtypes. To retain the old behavior, exclude the relevant entries before the concat operation.\n",
      "  return cls(df=pd.concat(dfs, axis=0, sort=True))\n",
      "[WARNING 10-29 16:32:14] ax.service.utils.report_utils: Column reason missing for all trials. Not appending column.\n",
      "/Users/thomasdodd/miniconda3/envs/BO4ACST_env/lib/python3.11/site-packages/ax/core/data.py:288: FutureWarning: The behavior of DataFrame concatenation with empty or all-NA entries is deprecated. In a future version, this will no longer exclude empty or all-NA columns when determining the result dtypes. To retain the old behavior, exclude the relevant entries before the concat operation.\n",
      "  return cls(df=pd.concat(dfs, axis=0, sort=True))\n",
      "[WARNING 10-29 16:32:15] ax.service.utils.report_utils: Column reason missing for all trials. Not appending column.\n",
      "[INFO 10-29 16:32:15] ax.service.ax_client: Completed trial 17 with data: {'t1': (1.983546, None)}.\n",
      "[INFO 10-29 16:32:15] ax.service.ax_client: Saved JSON-serialized state of optimization to `/Users/thomasdodd/Library/CloudStorage/OneDrive-MillfieldEnterprisesLimited/Cambridge/GitHub/BO4ACST/Notebooks/Optimisation/Method20241028Dim2_qMaxValueEntropy/AxExperiment.json`.\n",
      "[WARNING 10-29 16:32:15] ax.service.utils.report_utils: Column reason missing for all trials. Not appending column.\n",
      "[WARNING 10-29 16:32:15] ax.service.utils.report_utils: Column reason missing for all trials. Not appending column.\n"
     ]
    },
    {
     "name": "stdout",
     "output_type": "stream",
     "text": [
      "There are no trials currently running - initialising Bayesian iteration trials.\n"
     ]
    },
    {
     "name": "stderr",
     "output_type": "stream",
     "text": [
      "[INFO 10-29 16:32:19] ax.service.ax_client: Generated new trial 18 with parameters {'x1': 0.233392, 'x2': 3.32946} using model BoTorch.\n",
      "[INFO 10-29 16:32:19] ax.service.ax_client: Saved JSON-serialized state of optimization to `/Users/thomasdodd/Library/CloudStorage/OneDrive-MillfieldEnterprisesLimited/Cambridge/GitHub/BO4ACST/Notebooks/Optimisation/Method20241028Dim2_qMaxValueEntropy/AxExperiment.json`.\n",
      "/Users/thomasdodd/miniconda3/envs/BO4ACST_env/lib/python3.11/site-packages/ax/core/data.py:288: FutureWarning: The behavior of DataFrame concatenation with empty or all-NA entries is deprecated. In a future version, this will no longer exclude empty or all-NA columns when determining the result dtypes. To retain the old behavior, exclude the relevant entries before the concat operation.\n",
      "  return cls(df=pd.concat(dfs, axis=0, sort=True))\n",
      "[WARNING 10-29 16:32:19] ax.service.utils.report_utils: Column reason missing for all trials. Not appending column.\n",
      "/Users/thomasdodd/miniconda3/envs/BO4ACST_env/lib/python3.11/site-packages/ax/core/data.py:288: FutureWarning: The behavior of DataFrame concatenation with empty or all-NA entries is deprecated. In a future version, this will no longer exclude empty or all-NA columns when determining the result dtypes. To retain the old behavior, exclude the relevant entries before the concat operation.\n",
      "  return cls(df=pd.concat(dfs, axis=0, sort=True))\n",
      "[WARNING 10-29 16:32:19] ax.service.utils.report_utils: Column reason missing for all trials. Not appending column.\n",
      "[INFO 10-29 16:32:19] ax.service.ax_client: Completed trial 18 with data: {'t1': (1.460627, None)}.\n",
      "[INFO 10-29 16:32:19] ax.service.ax_client: Saved JSON-serialized state of optimization to `/Users/thomasdodd/Library/CloudStorage/OneDrive-MillfieldEnterprisesLimited/Cambridge/GitHub/BO4ACST/Notebooks/Optimisation/Method20241028Dim2_qMaxValueEntropy/AxExperiment.json`.\n",
      "[WARNING 10-29 16:32:19] ax.service.utils.report_utils: Column reason missing for all trials. Not appending column.\n",
      "[WARNING 10-29 16:32:19] ax.service.utils.report_utils: Column reason missing for all trials. Not appending column.\n"
     ]
    },
    {
     "name": "stdout",
     "output_type": "stream",
     "text": [
      "There are no trials currently running - initialising Bayesian iteration trials.\n"
     ]
    },
    {
     "name": "stderr",
     "output_type": "stream",
     "text": [
      "[INFO 10-29 16:32:27] ax.service.ax_client: Generated new trial 19 with parameters {'x1': 0.453371, 'x2': 3.037022} using model BoTorch.\n",
      "[INFO 10-29 16:32:27] ax.service.ax_client: Saved JSON-serialized state of optimization to `/Users/thomasdodd/Library/CloudStorage/OneDrive-MillfieldEnterprisesLimited/Cambridge/GitHub/BO4ACST/Notebooks/Optimisation/Method20241028Dim2_qMaxValueEntropy/AxExperiment.json`.\n",
      "/Users/thomasdodd/miniconda3/envs/BO4ACST_env/lib/python3.11/site-packages/ax/core/data.py:288: FutureWarning: The behavior of DataFrame concatenation with empty or all-NA entries is deprecated. In a future version, this will no longer exclude empty or all-NA columns when determining the result dtypes. To retain the old behavior, exclude the relevant entries before the concat operation.\n",
      "  return cls(df=pd.concat(dfs, axis=0, sort=True))\n",
      "[WARNING 10-29 16:32:27] ax.service.utils.report_utils: Column reason missing for all trials. Not appending column.\n",
      "/Users/thomasdodd/miniconda3/envs/BO4ACST_env/lib/python3.11/site-packages/ax/core/data.py:288: FutureWarning: The behavior of DataFrame concatenation with empty or all-NA entries is deprecated. In a future version, this will no longer exclude empty or all-NA columns when determining the result dtypes. To retain the old behavior, exclude the relevant entries before the concat operation.\n",
      "  return cls(df=pd.concat(dfs, axis=0, sort=True))\n",
      "[WARNING 10-29 16:32:27] ax.service.utils.report_utils: Column reason missing for all trials. Not appending column.\n",
      "[INFO 10-29 16:32:27] ax.service.ax_client: Completed trial 19 with data: {'t1': (1.338973, None)}.\n",
      "[INFO 10-29 16:32:27] ax.service.ax_client: Saved JSON-serialized state of optimization to `/Users/thomasdodd/Library/CloudStorage/OneDrive-MillfieldEnterprisesLimited/Cambridge/GitHub/BO4ACST/Notebooks/Optimisation/Method20241028Dim2_qMaxValueEntropy/AxExperiment.json`.\n",
      "[WARNING 10-29 16:32:27] ax.service.utils.report_utils: Column reason missing for all trials. Not appending column.\n",
      "[WARNING 10-29 16:32:27] ax.service.utils.report_utils: Column reason missing for all trials. Not appending column.\n"
     ]
    },
    {
     "name": "stdout",
     "output_type": "stream",
     "text": [
      "There are no trials currently running - initialising Bayesian iteration trials.\n"
     ]
    },
    {
     "name": "stderr",
     "output_type": "stream",
     "text": [
      "[INFO 10-29 16:32:34] ax.service.ax_client: Generated new trial 20 with parameters {'x1': 2.084892, 'x2': 1.479181} using model BoTorch.\n",
      "[INFO 10-29 16:32:34] ax.service.ax_client: Saved JSON-serialized state of optimization to `/Users/thomasdodd/Library/CloudStorage/OneDrive-MillfieldEnterprisesLimited/Cambridge/GitHub/BO4ACST/Notebooks/Optimisation/Method20241028Dim2_qMaxValueEntropy/AxExperiment.json`.\n",
      "/Users/thomasdodd/miniconda3/envs/BO4ACST_env/lib/python3.11/site-packages/ax/core/data.py:288: FutureWarning: The behavior of DataFrame concatenation with empty or all-NA entries is deprecated. In a future version, this will no longer exclude empty or all-NA columns when determining the result dtypes. To retain the old behavior, exclude the relevant entries before the concat operation.\n",
      "  return cls(df=pd.concat(dfs, axis=0, sort=True))\n",
      "[WARNING 10-29 16:32:34] ax.service.utils.report_utils: Column reason missing for all trials. Not appending column.\n",
      "/Users/thomasdodd/miniconda3/envs/BO4ACST_env/lib/python3.11/site-packages/ax/core/data.py:288: FutureWarning: The behavior of DataFrame concatenation with empty or all-NA entries is deprecated. In a future version, this will no longer exclude empty or all-NA columns when determining the result dtypes. To retain the old behavior, exclude the relevant entries before the concat operation.\n",
      "  return cls(df=pd.concat(dfs, axis=0, sort=True))\n",
      "[WARNING 10-29 16:32:34] ax.service.utils.report_utils: Column reason missing for all trials. Not appending column.\n",
      "[INFO 10-29 16:32:34] ax.service.ax_client: Completed trial 20 with data: {'t1': (4.250009, None)}.\n",
      "[INFO 10-29 16:32:34] ax.service.ax_client: Saved JSON-serialized state of optimization to `/Users/thomasdodd/Library/CloudStorage/OneDrive-MillfieldEnterprisesLimited/Cambridge/GitHub/BO4ACST/Notebooks/Optimisation/Method20241028Dim2_qMaxValueEntropy/AxExperiment.json`.\n",
      "[WARNING 10-29 16:32:34] ax.service.utils.report_utils: Column reason missing for all trials. Not appending column.\n",
      "[WARNING 10-29 16:32:34] ax.service.utils.report_utils: Column reason missing for all trials. Not appending column.\n"
     ]
    },
    {
     "name": "stdout",
     "output_type": "stream",
     "text": [
      "There are no trials currently running - initialising Bayesian iteration trials.\n"
     ]
    },
    {
     "name": "stderr",
     "output_type": "stream",
     "text": [
      "[INFO 10-29 16:32:42] ax.service.ax_client: Generated new trial 21 with parameters {'x1': 0.430608, 'x2': 3.122232} using model BoTorch.\n",
      "[INFO 10-29 16:32:42] ax.service.ax_client: Saved JSON-serialized state of optimization to `/Users/thomasdodd/Library/CloudStorage/OneDrive-MillfieldEnterprisesLimited/Cambridge/GitHub/BO4ACST/Notebooks/Optimisation/Method20241028Dim2_qMaxValueEntropy/AxExperiment.json`.\n",
      "/Users/thomasdodd/miniconda3/envs/BO4ACST_env/lib/python3.11/site-packages/ax/core/data.py:288: FutureWarning: The behavior of DataFrame concatenation with empty or all-NA entries is deprecated. In a future version, this will no longer exclude empty or all-NA columns when determining the result dtypes. To retain the old behavior, exclude the relevant entries before the concat operation.\n",
      "  return cls(df=pd.concat(dfs, axis=0, sort=True))\n",
      "[WARNING 10-29 16:32:42] ax.service.utils.report_utils: Column reason missing for all trials. Not appending column.\n",
      "/Users/thomasdodd/miniconda3/envs/BO4ACST_env/lib/python3.11/site-packages/ax/core/data.py:288: FutureWarning: The behavior of DataFrame concatenation with empty or all-NA entries is deprecated. In a future version, this will no longer exclude empty or all-NA columns when determining the result dtypes. To retain the old behavior, exclude the relevant entries before the concat operation.\n",
      "  return cls(df=pd.concat(dfs, axis=0, sort=True))\n",
      "[WARNING 10-29 16:32:42] ax.service.utils.report_utils: Column reason missing for all trials. Not appending column.\n",
      "[INFO 10-29 16:32:42] ax.service.ax_client: Completed trial 21 with data: {'t1': (1.138954, None)}.\n",
      "[INFO 10-29 16:32:42] ax.service.ax_client: Saved JSON-serialized state of optimization to `/Users/thomasdodd/Library/CloudStorage/OneDrive-MillfieldEnterprisesLimited/Cambridge/GitHub/BO4ACST/Notebooks/Optimisation/Method20241028Dim2_qMaxValueEntropy/AxExperiment.json`.\n",
      "[WARNING 10-29 16:32:42] ax.service.utils.report_utils: Column reason missing for all trials. Not appending column.\n",
      "[WARNING 10-29 16:32:42] ax.service.utils.report_utils: Column reason missing for all trials. Not appending column.\n"
     ]
    },
    {
     "name": "stdout",
     "output_type": "stream",
     "text": [
      "There are no trials currently running - initialising Bayesian iteration trials.\n"
     ]
    },
    {
     "name": "stderr",
     "output_type": "stream",
     "text": [
      "[INFO 10-29 16:32:50] ax.service.ax_client: Generated new trial 22 with parameters {'x1': 0.533947, 'x2': 2.984136} using model BoTorch.\n",
      "[INFO 10-29 16:32:50] ax.service.ax_client: Saved JSON-serialized state of optimization to `/Users/thomasdodd/Library/CloudStorage/OneDrive-MillfieldEnterprisesLimited/Cambridge/GitHub/BO4ACST/Notebooks/Optimisation/Method20241028Dim2_qMaxValueEntropy/AxExperiment.json`.\n",
      "/Users/thomasdodd/miniconda3/envs/BO4ACST_env/lib/python3.11/site-packages/ax/core/data.py:288: FutureWarning: The behavior of DataFrame concatenation with empty or all-NA entries is deprecated. In a future version, this will no longer exclude empty or all-NA columns when determining the result dtypes. To retain the old behavior, exclude the relevant entries before the concat operation.\n",
      "  return cls(df=pd.concat(dfs, axis=0, sort=True))\n",
      "[WARNING 10-29 16:32:50] ax.service.utils.report_utils: Column reason missing for all trials. Not appending column.\n",
      "/Users/thomasdodd/miniconda3/envs/BO4ACST_env/lib/python3.11/site-packages/ax/core/data.py:288: FutureWarning: The behavior of DataFrame concatenation with empty or all-NA entries is deprecated. In a future version, this will no longer exclude empty or all-NA columns when determining the result dtypes. To retain the old behavior, exclude the relevant entries before the concat operation.\n",
      "  return cls(df=pd.concat(dfs, axis=0, sort=True))\n",
      "[WARNING 10-29 16:32:50] ax.service.utils.report_utils: Column reason missing for all trials. Not appending column.\n",
      "[INFO 10-29 16:32:50] ax.service.ax_client: Completed trial 22 with data: {'t1': (1.146434, None)}.\n",
      "[INFO 10-29 16:32:50] ax.service.ax_client: Saved JSON-serialized state of optimization to `/Users/thomasdodd/Library/CloudStorage/OneDrive-MillfieldEnterprisesLimited/Cambridge/GitHub/BO4ACST/Notebooks/Optimisation/Method20241028Dim2_qMaxValueEntropy/AxExperiment.json`.\n",
      "[WARNING 10-29 16:32:50] ax.service.utils.report_utils: Column reason missing for all trials. Not appending column.\n",
      "[WARNING 10-29 16:32:50] ax.service.utils.report_utils: Column reason missing for all trials. Not appending column.\n"
     ]
    },
    {
     "name": "stdout",
     "output_type": "stream",
     "text": [
      "There are no trials currently running - initialising Bayesian iteration trials.\n"
     ]
    },
    {
     "name": "stderr",
     "output_type": "stream",
     "text": [
      "[INFO 10-29 16:32:58] ax.service.ax_client: Generated new trial 23 with parameters {'x1': 1.384086, 'x2': 2.143633} using model BoTorch.\n",
      "[INFO 10-29 16:32:58] ax.service.ax_client: Saved JSON-serialized state of optimization to `/Users/thomasdodd/Library/CloudStorage/OneDrive-MillfieldEnterprisesLimited/Cambridge/GitHub/BO4ACST/Notebooks/Optimisation/Method20241028Dim2_qMaxValueEntropy/AxExperiment.json`.\n",
      "/Users/thomasdodd/miniconda3/envs/BO4ACST_env/lib/python3.11/site-packages/ax/core/data.py:288: FutureWarning: The behavior of DataFrame concatenation with empty or all-NA entries is deprecated. In a future version, this will no longer exclude empty or all-NA columns when determining the result dtypes. To retain the old behavior, exclude the relevant entries before the concat operation.\n",
      "  return cls(df=pd.concat(dfs, axis=0, sort=True))\n",
      "[WARNING 10-29 16:32:58] ax.service.utils.report_utils: Column reason missing for all trials. Not appending column.\n",
      "/Users/thomasdodd/miniconda3/envs/BO4ACST_env/lib/python3.11/site-packages/ax/core/data.py:288: FutureWarning: The behavior of DataFrame concatenation with empty or all-NA entries is deprecated. In a future version, this will no longer exclude empty or all-NA columns when determining the result dtypes. To retain the old behavior, exclude the relevant entries before the concat operation.\n",
      "  return cls(df=pd.concat(dfs, axis=0, sort=True))\n",
      "[WARNING 10-29 16:32:58] ax.service.utils.report_utils: Column reason missing for all trials. Not appending column.\n",
      "[INFO 10-29 16:32:58] ax.service.ax_client: Completed trial 23 with data: {'t1': (1.773085, None)}.\n",
      "[INFO 10-29 16:32:58] ax.service.ax_client: Saved JSON-serialized state of optimization to `/Users/thomasdodd/Library/CloudStorage/OneDrive-MillfieldEnterprisesLimited/Cambridge/GitHub/BO4ACST/Notebooks/Optimisation/Method20241028Dim2_qMaxValueEntropy/AxExperiment.json`.\n",
      "[WARNING 10-29 16:32:58] ax.service.utils.report_utils: Column reason missing for all trials. Not appending column.\n",
      "[INFO 10-29 16:32:58] ax.service.ax_client: Starting optimization with verbose logging. To disable logging, set the `verbose_logging` argument to `False`. Note that float values in the logs are rounded to 6 decimal points.\n",
      "[INFO 10-29 16:32:58] ax.service.utils.instantiation: Created search space: SearchSpace(parameters=[RangeParameter(name='x1', parameter_type=FLOAT, range=[-10.0, 10.0]), RangeParameter(name='x2', parameter_type=FLOAT, range=[-10.0, 10.0])], parameter_constraints=[]).\n",
      "[INFO 10-29 16:32:58] ax.service.ax_client: Saved JSON-serialized state of optimization to `/Users/thomasdodd/Library/CloudStorage/OneDrive-MillfieldEnterprisesLimited/Cambridge/GitHub/BO4ACST/Notebooks/Optimisation/Method20241028Dim2_qMaxValueEntropy/AxExperiment.json`.\n",
      "[INFO 10-29 16:32:58] ax.core.experiment: Attached custom parameterizations [{'x1': -10.0, 'x2': -10.0}] as trial 0.\n",
      "[INFO 10-29 16:32:58] ax.core.experiment: Attached custom parameterizations [{'x1': 0.0, 'x2': -10.0}] as trial 1.\n",
      "[INFO 10-29 16:32:58] ax.core.experiment: Attached custom parameterizations [{'x1': 10.0, 'x2': -10.0}] as trial 2.\n",
      "[INFO 10-29 16:32:58] ax.core.experiment: Attached custom parameterizations [{'x1': -10.0, 'x2': 0.0}] as trial 3.\n",
      "[INFO 10-29 16:32:58] ax.core.experiment: Attached custom parameterizations [{'x1': 0.0, 'x2': 0.0}] as trial 4.\n",
      "[INFO 10-29 16:32:58] ax.core.experiment: Attached custom parameterizations [{'x1': 10.0, 'x2': 0.0}] as trial 5.\n",
      "[INFO 10-29 16:32:58] ax.core.experiment: Attached custom parameterizations [{'x1': -10.0, 'x2': 10.0}] as trial 6.\n",
      "[INFO 10-29 16:32:58] ax.core.experiment: Attached custom parameterizations [{'x1': 0.0, 'x2': 10.0}] as trial 7.\n",
      "[INFO 10-29 16:32:58] ax.core.experiment: Attached custom parameterizations [{'x1': 10.0, 'x2': 10.0}] as trial 8.\n",
      "[INFO 10-29 16:32:58] ax.service.ax_client: Saved JSON-serialized state of optimization to `/Users/thomasdodd/Library/CloudStorage/OneDrive-MillfieldEnterprisesLimited/Cambridge/GitHub/BO4ACST/Notebooks/Optimisation/Method20241028Dim2_qMaxValueEntropy/AxExperiment.json`.\n",
      "[WARNING 10-29 16:32:58] ax.service.utils.report_utils: Column reason missing for all trials. Not appending column.\n",
      "[INFO 10-29 16:32:58] ax.service.utils.report_utils: No results present for the specified metrics `[Metric('t1')]`. Returning arm parameters and metadata only.\n",
      "[WARNING 10-29 16:32:58] ax.service.utils.report_utils: Column reason missing for all trials. Not appending column.\n",
      "[INFO 10-29 16:32:58] ax.service.utils.report_utils: No results present for the specified metrics `[Metric('t1')]`. Returning arm parameters and metadata only.\n",
      "[INFO 10-29 16:32:58] ax.service.ax_client: Completed trial 0 with data: {'t1': (2594.0, None)}.\n",
      "[INFO 10-29 16:32:58] ax.service.ax_client: Saved JSON-serialized state of optimization to `/Users/thomasdodd/Library/CloudStorage/OneDrive-MillfieldEnterprisesLimited/Cambridge/GitHub/BO4ACST/Notebooks/Optimisation/Method20241028Dim2_qMaxValueEntropy/AxExperiment.json`.\n",
      "[INFO 10-29 16:32:58] ax.service.ax_client: Completed trial 1 with data: {'t1': (954.0, None)}.\n",
      "[INFO 10-29 16:32:58] ax.service.ax_client: Saved JSON-serialized state of optimization to `/Users/thomasdodd/Library/CloudStorage/OneDrive-MillfieldEnterprisesLimited/Cambridge/GitHub/BO4ACST/Notebooks/Optimisation/Method20241028Dim2_qMaxValueEntropy/AxExperiment.json`.\n",
      "[INFO 10-29 16:32:58] ax.service.ax_client: Completed trial 2 with data: {'t1': (314.0, None)}.\n",
      "[INFO 10-29 16:32:58] ax.service.ax_client: Saved JSON-serialized state of optimization to `/Users/thomasdodd/Library/CloudStorage/OneDrive-MillfieldEnterprisesLimited/Cambridge/GitHub/BO4ACST/Notebooks/Optimisation/Method20241028Dim2_qMaxValueEntropy/AxExperiment.json`.\n",
      "[INFO 10-29 16:32:58] ax.service.ax_client: Completed trial 3 with data: {'t1': (914.0, None)}.\n",
      "[INFO 10-29 16:32:58] ax.service.ax_client: Saved JSON-serialized state of optimization to `/Users/thomasdodd/Library/CloudStorage/OneDrive-MillfieldEnterprisesLimited/Cambridge/GitHub/BO4ACST/Notebooks/Optimisation/Method20241028Dim2_qMaxValueEntropy/AxExperiment.json`.\n",
      "[INFO 10-29 16:32:58] ax.service.ax_client: Completed trial 4 with data: {'t1': (74.0, None)}.\n",
      "[INFO 10-29 16:32:58] ax.service.ax_client: Saved JSON-serialized state of optimization to `/Users/thomasdodd/Library/CloudStorage/OneDrive-MillfieldEnterprisesLimited/Cambridge/GitHub/BO4ACST/Notebooks/Optimisation/Method20241028Dim2_qMaxValueEntropy/AxExperiment.json`.\n",
      "[INFO 10-29 16:32:58] ax.service.ax_client: Completed trial 5 with data: {'t1': (234.0, None)}.\n",
      "[INFO 10-29 16:32:58] ax.service.ax_client: Saved JSON-serialized state of optimization to `/Users/thomasdodd/Library/CloudStorage/OneDrive-MillfieldEnterprisesLimited/Cambridge/GitHub/BO4ACST/Notebooks/Optimisation/Method20241028Dim2_qMaxValueEntropy/AxExperiment.json`.\n",
      "[INFO 10-29 16:32:58] ax.service.ax_client: Completed trial 6 with data: {'t1': (234.0, None)}.\n",
      "[INFO 10-29 16:32:58] ax.service.ax_client: Saved JSON-serialized state of optimization to `/Users/thomasdodd/Library/CloudStorage/OneDrive-MillfieldEnterprisesLimited/Cambridge/GitHub/BO4ACST/Notebooks/Optimisation/Method20241028Dim2_qMaxValueEntropy/AxExperiment.json`.\n",
      "[INFO 10-29 16:32:58] ax.service.ax_client: Completed trial 7 with data: {'t1': (194.0, None)}.\n",
      "[INFO 10-29 16:32:58] ax.service.ax_client: Saved JSON-serialized state of optimization to `/Users/thomasdodd/Library/CloudStorage/OneDrive-MillfieldEnterprisesLimited/Cambridge/GitHub/BO4ACST/Notebooks/Optimisation/Method20241028Dim2_qMaxValueEntropy/AxExperiment.json`.\n",
      "[INFO 10-29 16:32:58] ax.service.ax_client: Completed trial 8 with data: {'t1': (1154.0, None)}.\n",
      "[INFO 10-29 16:32:58] ax.service.ax_client: Saved JSON-serialized state of optimization to `/Users/thomasdodd/Library/CloudStorage/OneDrive-MillfieldEnterprisesLimited/Cambridge/GitHub/BO4ACST/Notebooks/Optimisation/Method20241028Dim2_qMaxValueEntropy/AxExperiment.json`.\n",
      "[WARNING 10-29 16:32:58] ax.service.utils.report_utils: Column reason missing for all trials. Not appending column.\n",
      "[WARNING 10-29 16:32:58] ax.service.utils.report_utils: Column reason missing for all trials. Not appending column.\n"
     ]
    },
    {
     "name": "stdout",
     "output_type": "stream",
     "text": [
      "[74.         45.24812581 45.24812581  6.94243775  0.8644708   0.8644708\n",
      "  0.8644708   0.8644708   0.8644708   0.8644708   0.8644708   0.8644708\n",
      "  0.8644708   0.8644708   0.8644708   0.8644708 ]\n",
      "A new experiment has been created and initialised.\n",
      "No previous or current trials detected - initialising prior-forming trials.\n",
      "Samples gridded = 9\n",
      "There are no trials currently running - initialising Bayesian iteration trials.\n"
     ]
    },
    {
     "name": "stderr",
     "output_type": "stream",
     "text": [
      "[INFO 10-29 16:33:05] ax.service.ax_client: Generated new trial 9 with parameters {'x1': -3.773777, 'x2': 5.949026} using model BoTorch.\n",
      "[INFO 10-29 16:33:05] ax.service.ax_client: Saved JSON-serialized state of optimization to `/Users/thomasdodd/Library/CloudStorage/OneDrive-MillfieldEnterprisesLimited/Cambridge/GitHub/BO4ACST/Notebooks/Optimisation/Method20241028Dim2_qMaxValueEntropy/AxExperiment.json`.\n",
      "/Users/thomasdodd/miniconda3/envs/BO4ACST_env/lib/python3.11/site-packages/ax/core/data.py:288: FutureWarning: The behavior of DataFrame concatenation with empty or all-NA entries is deprecated. In a future version, this will no longer exclude empty or all-NA columns when determining the result dtypes. To retain the old behavior, exclude the relevant entries before the concat operation.\n",
      "  return cls(df=pd.concat(dfs, axis=0, sort=True))\n",
      "[WARNING 10-29 16:33:05] ax.service.utils.report_utils: Column reason missing for all trials. Not appending column.\n",
      "/Users/thomasdodd/miniconda3/envs/BO4ACST_env/lib/python3.11/site-packages/ax/core/data.py:288: FutureWarning: The behavior of DataFrame concatenation with empty or all-NA entries is deprecated. In a future version, this will no longer exclude empty or all-NA columns when determining the result dtypes. To retain the old behavior, exclude the relevant entries before the concat operation.\n",
      "  return cls(df=pd.concat(dfs, axis=0, sort=True))\n",
      "[WARNING 10-29 16:33:05] ax.service.utils.report_utils: Column reason missing for all trials. Not appending column.\n",
      "[INFO 10-29 16:33:05] ax.service.ax_client: Completed trial 9 with data: {'t1': (44.804558, None)}.\n",
      "[INFO 10-29 16:33:05] ax.service.ax_client: Saved JSON-serialized state of optimization to `/Users/thomasdodd/Library/CloudStorage/OneDrive-MillfieldEnterprisesLimited/Cambridge/GitHub/BO4ACST/Notebooks/Optimisation/Method20241028Dim2_qMaxValueEntropy/AxExperiment.json`.\n",
      "[WARNING 10-29 16:33:05] ax.service.utils.report_utils: Column reason missing for all trials. Not appending column.\n",
      "[WARNING 10-29 16:33:05] ax.service.utils.report_utils: Column reason missing for all trials. Not appending column.\n"
     ]
    },
    {
     "name": "stdout",
     "output_type": "stream",
     "text": [
      "There are no trials currently running - initialising Bayesian iteration trials.\n"
     ]
    },
    {
     "name": "stderr",
     "output_type": "stream",
     "text": [
      "[INFO 10-29 16:33:12] ax.service.ax_client: Generated new trial 10 with parameters {'x1': 5.596603, 'x2': -2.976769} using model BoTorch.\n",
      "[INFO 10-29 16:33:12] ax.service.ax_client: Saved JSON-serialized state of optimization to `/Users/thomasdodd/Library/CloudStorage/OneDrive-MillfieldEnterprisesLimited/Cambridge/GitHub/BO4ACST/Notebooks/Optimisation/Method20241028Dim2_qMaxValueEntropy/AxExperiment.json`.\n",
      "/Users/thomasdodd/miniconda3/envs/BO4ACST_env/lib/python3.11/site-packages/ax/core/data.py:288: FutureWarning: The behavior of DataFrame concatenation with empty or all-NA entries is deprecated. In a future version, this will no longer exclude empty or all-NA columns when determining the result dtypes. To retain the old behavior, exclude the relevant entries before the concat operation.\n",
      "  return cls(df=pd.concat(dfs, axis=0, sort=True))\n",
      "[WARNING 10-29 16:33:12] ax.service.utils.report_utils: Column reason missing for all trials. Not appending column.\n",
      "/Users/thomasdodd/miniconda3/envs/BO4ACST_env/lib/python3.11/site-packages/ax/core/data.py:288: FutureWarning: The behavior of DataFrame concatenation with empty or all-NA entries is deprecated. In a future version, this will no longer exclude empty or all-NA columns when determining the result dtypes. To retain the old behavior, exclude the relevant entries before the concat operation.\n",
      "  return cls(df=pd.concat(dfs, axis=0, sort=True))\n",
      "[WARNING 10-29 16:33:12] ax.service.utils.report_utils: Column reason missing for all trials. Not appending column.\n",
      "[INFO 10-29 16:33:12] ax.service.ax_client: Completed trial 10 with data: {'t1': (64.469956, None)}.\n",
      "[INFO 10-29 16:33:12] ax.service.ax_client: Saved JSON-serialized state of optimization to `/Users/thomasdodd/Library/CloudStorage/OneDrive-MillfieldEnterprisesLimited/Cambridge/GitHub/BO4ACST/Notebooks/Optimisation/Method20241028Dim2_qMaxValueEntropy/AxExperiment.json`.\n",
      "[WARNING 10-29 16:33:12] ax.service.utils.report_utils: Column reason missing for all trials. Not appending column.\n",
      "[WARNING 10-29 16:33:12] ax.service.utils.report_utils: Column reason missing for all trials. Not appending column.\n"
     ]
    },
    {
     "name": "stdout",
     "output_type": "stream",
     "text": [
      "There are no trials currently running - initialising Bayesian iteration trials.\n"
     ]
    },
    {
     "name": "stderr",
     "output_type": "stream",
     "text": [
      "[INFO 10-29 16:33:18] ax.service.ax_client: Generated new trial 11 with parameters {'x1': 2.20449, 'x2': 3.106768} using model BoTorch.\n",
      "[INFO 10-29 16:33:18] ax.service.ax_client: Saved JSON-serialized state of optimization to `/Users/thomasdodd/Library/CloudStorage/OneDrive-MillfieldEnterprisesLimited/Cambridge/GitHub/BO4ACST/Notebooks/Optimisation/Method20241028Dim2_qMaxValueEntropy/AxExperiment.json`.\n",
      "/Users/thomasdodd/miniconda3/envs/BO4ACST_env/lib/python3.11/site-packages/ax/core/data.py:288: FutureWarning: The behavior of DataFrame concatenation with empty or all-NA entries is deprecated. In a future version, this will no longer exclude empty or all-NA columns when determining the result dtypes. To retain the old behavior, exclude the relevant entries before the concat operation.\n",
      "  return cls(df=pd.concat(dfs, axis=0, sort=True))\n",
      "[WARNING 10-29 16:33:18] ax.service.utils.report_utils: Column reason missing for all trials. Not appending column.\n",
      "/Users/thomasdodd/miniconda3/envs/BO4ACST_env/lib/python3.11/site-packages/ax/core/data.py:288: FutureWarning: The behavior of DataFrame concatenation with empty or all-NA entries is deprecated. In a future version, this will no longer exclude empty or all-NA columns when determining the result dtypes. To retain the old behavior, exclude the relevant entries before the concat operation.\n",
      "  return cls(df=pd.concat(dfs, axis=0, sort=True))\n",
      "[WARNING 10-29 16:33:18] ax.service.utils.report_utils: Column reason missing for all trials. Not appending column.\n",
      "[INFO 10-29 16:33:18] ax.service.ax_client: Completed trial 11 with data: {'t1': (8.339776, None)}.\n",
      "[INFO 10-29 16:33:18] ax.service.ax_client: Saved JSON-serialized state of optimization to `/Users/thomasdodd/Library/CloudStorage/OneDrive-MillfieldEnterprisesLimited/Cambridge/GitHub/BO4ACST/Notebooks/Optimisation/Method20241028Dim2_qMaxValueEntropy/AxExperiment.json`.\n",
      "[WARNING 10-29 16:33:18] ax.service.utils.report_utils: Column reason missing for all trials. Not appending column.\n",
      "[WARNING 10-29 16:33:18] ax.service.utils.report_utils: Column reason missing for all trials. Not appending column.\n"
     ]
    },
    {
     "name": "stdout",
     "output_type": "stream",
     "text": [
      "There are no trials currently running - initialising Bayesian iteration trials.\n"
     ]
    },
    {
     "name": "stderr",
     "output_type": "stream",
     "text": [
      "[INFO 10-29 16:33:26] ax.service.ax_client: Generated new trial 12 with parameters {'x1': 1.163841, 'x2': 3.294155} using model BoTorch.\n",
      "[INFO 10-29 16:33:26] ax.service.ax_client: Saved JSON-serialized state of optimization to `/Users/thomasdodd/Library/CloudStorage/OneDrive-MillfieldEnterprisesLimited/Cambridge/GitHub/BO4ACST/Notebooks/Optimisation/Method20241028Dim2_qMaxValueEntropy/AxExperiment.json`.\n",
      "/Users/thomasdodd/miniconda3/envs/BO4ACST_env/lib/python3.11/site-packages/ax/core/data.py:288: FutureWarning: The behavior of DataFrame concatenation with empty or all-NA entries is deprecated. In a future version, this will no longer exclude empty or all-NA columns when determining the result dtypes. To retain the old behavior, exclude the relevant entries before the concat operation.\n",
      "  return cls(df=pd.concat(dfs, axis=0, sort=True))\n",
      "[WARNING 10-29 16:33:26] ax.service.utils.report_utils: Column reason missing for all trials. Not appending column.\n",
      "/Users/thomasdodd/miniconda3/envs/BO4ACST_env/lib/python3.11/site-packages/ax/core/data.py:288: FutureWarning: The behavior of DataFrame concatenation with empty or all-NA entries is deprecated. In a future version, this will no longer exclude empty or all-NA columns when determining the result dtypes. To retain the old behavior, exclude the relevant entries before the concat operation.\n",
      "  return cls(df=pd.concat(dfs, axis=0, sort=True))\n",
      "[WARNING 10-29 16:33:26] ax.service.utils.report_utils: Column reason missing for all trials. Not appending column.\n",
      "[INFO 10-29 16:33:26] ax.service.ax_client: Completed trial 12 with data: {'t1': (0.952414, None)}.\n",
      "[INFO 10-29 16:33:26] ax.service.ax_client: Saved JSON-serialized state of optimization to `/Users/thomasdodd/Library/CloudStorage/OneDrive-MillfieldEnterprisesLimited/Cambridge/GitHub/BO4ACST/Notebooks/Optimisation/Method20241028Dim2_qMaxValueEntropy/AxExperiment.json`.\n",
      "[WARNING 10-29 16:33:26] ax.service.utils.report_utils: Column reason missing for all trials. Not appending column.\n",
      "[WARNING 10-29 16:33:26] ax.service.utils.report_utils: Column reason missing for all trials. Not appending column.\n"
     ]
    },
    {
     "name": "stdout",
     "output_type": "stream",
     "text": [
      "There are no trials currently running - initialising Bayesian iteration trials.\n"
     ]
    },
    {
     "name": "stderr",
     "output_type": "stream",
     "text": [
      "[INFO 10-29 16:33:33] ax.service.ax_client: Generated new trial 13 with parameters {'x1': -2.72543, 'x2': 5.901546} using model BoTorch.\n",
      "[INFO 10-29 16:33:33] ax.service.ax_client: Saved JSON-serialized state of optimization to `/Users/thomasdodd/Library/CloudStorage/OneDrive-MillfieldEnterprisesLimited/Cambridge/GitHub/BO4ACST/Notebooks/Optimisation/Method20241028Dim2_qMaxValueEntropy/AxExperiment.json`.\n",
      "/Users/thomasdodd/miniconda3/envs/BO4ACST_env/lib/python3.11/site-packages/ax/core/data.py:288: FutureWarning: The behavior of DataFrame concatenation with empty or all-NA entries is deprecated. In a future version, this will no longer exclude empty or all-NA columns when determining the result dtypes. To retain the old behavior, exclude the relevant entries before the concat operation.\n",
      "  return cls(df=pd.concat(dfs, axis=0, sort=True))\n",
      "[WARNING 10-29 16:33:33] ax.service.utils.report_utils: Column reason missing for all trials. Not appending column.\n",
      "/Users/thomasdodd/miniconda3/envs/BO4ACST_env/lib/python3.11/site-packages/ax/core/data.py:288: FutureWarning: The behavior of DataFrame concatenation with empty or all-NA entries is deprecated. In a future version, this will no longer exclude empty or all-NA columns when determining the result dtypes. To retain the old behavior, exclude the relevant entries before the concat operation.\n",
      "  return cls(df=pd.concat(dfs, axis=0, sort=True))\n",
      "[WARNING 10-29 16:33:33] ax.service.utils.report_utils: Column reason missing for all trials. Not appending column.\n",
      "[INFO 10-29 16:33:33] ax.service.ax_client: Completed trial 13 with data: {'t1': (25.012937, None)}.\n",
      "[INFO 10-29 16:33:33] ax.service.ax_client: Saved JSON-serialized state of optimization to `/Users/thomasdodd/Library/CloudStorage/OneDrive-MillfieldEnterprisesLimited/Cambridge/GitHub/BO4ACST/Notebooks/Optimisation/Method20241028Dim2_qMaxValueEntropy/AxExperiment.json`.\n",
      "[WARNING 10-29 16:33:33] ax.service.utils.report_utils: Column reason missing for all trials. Not appending column.\n",
      "[WARNING 10-29 16:33:33] ax.service.utils.report_utils: Column reason missing for all trials. Not appending column.\n"
     ]
    },
    {
     "name": "stdout",
     "output_type": "stream",
     "text": [
      "There are no trials currently running - initialising Bayesian iteration trials.\n"
     ]
    },
    {
     "name": "stderr",
     "output_type": "stream",
     "text": [
      "[INFO 10-29 16:33:39] ax.service.ax_client: Generated new trial 14 with parameters {'x1': 2.709367, 'x2': 1.542786} using model BoTorch.\n",
      "[INFO 10-29 16:33:39] ax.service.ax_client: Saved JSON-serialized state of optimization to `/Users/thomasdodd/Library/CloudStorage/OneDrive-MillfieldEnterprisesLimited/Cambridge/GitHub/BO4ACST/Notebooks/Optimisation/Method20241028Dim2_qMaxValueEntropy/AxExperiment.json`.\n",
      "/Users/thomasdodd/miniconda3/envs/BO4ACST_env/lib/python3.11/site-packages/ax/core/data.py:288: FutureWarning: The behavior of DataFrame concatenation with empty or all-NA entries is deprecated. In a future version, this will no longer exclude empty or all-NA columns when determining the result dtypes. To retain the old behavior, exclude the relevant entries before the concat operation.\n",
      "  return cls(df=pd.concat(dfs, axis=0, sort=True))\n",
      "[WARNING 10-29 16:33:39] ax.service.utils.report_utils: Column reason missing for all trials. Not appending column.\n",
      "/Users/thomasdodd/miniconda3/envs/BO4ACST_env/lib/python3.11/site-packages/ax/core/data.py:288: FutureWarning: The behavior of DataFrame concatenation with empty or all-NA entries is deprecated. In a future version, this will no longer exclude empty or all-NA columns when determining the result dtypes. To retain the old behavior, exclude the relevant entries before the concat operation.\n",
      "  return cls(df=pd.concat(dfs, axis=0, sort=True))\n",
      "[WARNING 10-29 16:33:39] ax.service.utils.report_utils: Column reason missing for all trials. Not appending column.\n",
      "[INFO 10-29 16:33:39] ax.service.ax_client: Completed trial 14 with data: {'t1': (5.299735, None)}.\n",
      "[INFO 10-29 16:33:39] ax.service.ax_client: Saved JSON-serialized state of optimization to `/Users/thomasdodd/Library/CloudStorage/OneDrive-MillfieldEnterprisesLimited/Cambridge/GitHub/BO4ACST/Notebooks/Optimisation/Method20241028Dim2_qMaxValueEntropy/AxExperiment.json`.\n",
      "[WARNING 10-29 16:33:39] ax.service.utils.report_utils: Column reason missing for all trials. Not appending column.\n",
      "[WARNING 10-29 16:33:39] ax.service.utils.report_utils: Column reason missing for all trials. Not appending column.\n"
     ]
    },
    {
     "name": "stdout",
     "output_type": "stream",
     "text": [
      "There are no trials currently running - initialising Bayesian iteration trials.\n"
     ]
    },
    {
     "name": "stderr",
     "output_type": "stream",
     "text": [
      "[INFO 10-29 16:33:46] ax.service.ax_client: Generated new trial 15 with parameters {'x1': 0.27141, 'x2': 3.571694} using model BoTorch.\n",
      "[INFO 10-29 16:33:46] ax.service.ax_client: Saved JSON-serialized state of optimization to `/Users/thomasdodd/Library/CloudStorage/OneDrive-MillfieldEnterprisesLimited/Cambridge/GitHub/BO4ACST/Notebooks/Optimisation/Method20241028Dim2_qMaxValueEntropy/AxExperiment.json`.\n",
      "/Users/thomasdodd/miniconda3/envs/BO4ACST_env/lib/python3.11/site-packages/ax/core/data.py:288: FutureWarning: The behavior of DataFrame concatenation with empty or all-NA entries is deprecated. In a future version, this will no longer exclude empty or all-NA columns when determining the result dtypes. To retain the old behavior, exclude the relevant entries before the concat operation.\n",
      "  return cls(df=pd.concat(dfs, axis=0, sort=True))\n",
      "[WARNING 10-29 16:33:46] ax.service.utils.report_utils: Column reason missing for all trials. Not appending column.\n",
      "/Users/thomasdodd/miniconda3/envs/BO4ACST_env/lib/python3.11/site-packages/ax/core/data.py:288: FutureWarning: The behavior of DataFrame concatenation with empty or all-NA entries is deprecated. In a future version, this will no longer exclude empty or all-NA columns when determining the result dtypes. To retain the old behavior, exclude the relevant entries before the concat operation.\n",
      "  return cls(df=pd.concat(dfs, axis=0, sort=True))\n",
      "[WARNING 10-29 16:33:46] ax.service.utils.report_utils: Column reason missing for all trials. Not appending column.\n",
      "[INFO 10-29 16:33:46] ax.service.ax_client: Completed trial 15 with data: {'t1': (0.956144, None)}.\n",
      "[INFO 10-29 16:33:46] ax.service.ax_client: Saved JSON-serialized state of optimization to `/Users/thomasdodd/Library/CloudStorage/OneDrive-MillfieldEnterprisesLimited/Cambridge/GitHub/BO4ACST/Notebooks/Optimisation/Method20241028Dim2_qMaxValueEntropy/AxExperiment.json`.\n",
      "[WARNING 10-29 16:33:46] ax.service.utils.report_utils: Column reason missing for all trials. Not appending column.\n",
      "[WARNING 10-29 16:33:46] ax.service.utils.report_utils: Column reason missing for all trials. Not appending column.\n"
     ]
    },
    {
     "name": "stdout",
     "output_type": "stream",
     "text": [
      "There are no trials currently running - initialising Bayesian iteration trials.\n"
     ]
    },
    {
     "name": "stderr",
     "output_type": "stream",
     "text": [
      "[INFO 10-29 16:33:52] ax.service.ax_client: Generated new trial 16 with parameters {'x1': -4.836387, 'x2': 10.0} using model BoTorch.\n",
      "[INFO 10-29 16:33:52] ax.service.ax_client: Saved JSON-serialized state of optimization to `/Users/thomasdodd/Library/CloudStorage/OneDrive-MillfieldEnterprisesLimited/Cambridge/GitHub/BO4ACST/Notebooks/Optimisation/Method20241028Dim2_qMaxValueEntropy/AxExperiment.json`.\n",
      "/Users/thomasdodd/miniconda3/envs/BO4ACST_env/lib/python3.11/site-packages/ax/core/data.py:288: FutureWarning: The behavior of DataFrame concatenation with empty or all-NA entries is deprecated. In a future version, this will no longer exclude empty or all-NA columns when determining the result dtypes. To retain the old behavior, exclude the relevant entries before the concat operation.\n",
      "  return cls(df=pd.concat(dfs, axis=0, sort=True))\n",
      "[WARNING 10-29 16:33:53] ax.service.utils.report_utils: Column reason missing for all trials. Not appending column.\n",
      "/Users/thomasdodd/miniconda3/envs/BO4ACST_env/lib/python3.11/site-packages/ax/core/data.py:288: FutureWarning: The behavior of DataFrame concatenation with empty or all-NA entries is deprecated. In a future version, this will no longer exclude empty or all-NA columns when determining the result dtypes. To retain the old behavior, exclude the relevant entries before the concat operation.\n",
      "  return cls(df=pd.concat(dfs, axis=0, sort=True))\n",
      "[WARNING 10-29 16:33:53] ax.service.utils.report_utils: Column reason missing for all trials. Not appending column.\n",
      "[INFO 10-29 16:33:53] ax.service.ax_client: Completed trial 16 with data: {'t1': (88.479395, None)}.\n",
      "[INFO 10-29 16:33:53] ax.service.ax_client: Saved JSON-serialized state of optimization to `/Users/thomasdodd/Library/CloudStorage/OneDrive-MillfieldEnterprisesLimited/Cambridge/GitHub/BO4ACST/Notebooks/Optimisation/Method20241028Dim2_qMaxValueEntropy/AxExperiment.json`.\n",
      "[WARNING 10-29 16:33:53] ax.service.utils.report_utils: Column reason missing for all trials. Not appending column.\n",
      "[WARNING 10-29 16:33:53] ax.service.utils.report_utils: Column reason missing for all trials. Not appending column.\n"
     ]
    },
    {
     "name": "stdout",
     "output_type": "stream",
     "text": [
      "There are no trials currently running - initialising Bayesian iteration trials.\n"
     ]
    },
    {
     "name": "stderr",
     "output_type": "stream",
     "text": [
      "[INFO 10-29 16:34:00] ax.service.ax_client: Generated new trial 17 with parameters {'x1': 2.587304, 'x2': 1.258802} using model BoTorch.\n",
      "[INFO 10-29 16:34:00] ax.service.ax_client: Saved JSON-serialized state of optimization to `/Users/thomasdodd/Library/CloudStorage/OneDrive-MillfieldEnterprisesLimited/Cambridge/GitHub/BO4ACST/Notebooks/Optimisation/Method20241028Dim2_qMaxValueEntropy/AxExperiment.json`.\n",
      "/Users/thomasdodd/miniconda3/envs/BO4ACST_env/lib/python3.11/site-packages/ax/core/data.py:288: FutureWarning: The behavior of DataFrame concatenation with empty or all-NA entries is deprecated. In a future version, this will no longer exclude empty or all-NA columns when determining the result dtypes. To retain the old behavior, exclude the relevant entries before the concat operation.\n",
      "  return cls(df=pd.concat(dfs, axis=0, sort=True))\n",
      "[WARNING 10-29 16:34:00] ax.service.utils.report_utils: Column reason missing for all trials. Not appending column.\n",
      "/Users/thomasdodd/miniconda3/envs/BO4ACST_env/lib/python3.11/site-packages/ax/core/data.py:288: FutureWarning: The behavior of DataFrame concatenation with empty or all-NA entries is deprecated. In a future version, this will no longer exclude empty or all-NA columns when determining the result dtypes. To retain the old behavior, exclude the relevant entries before the concat operation.\n",
      "  return cls(df=pd.concat(dfs, axis=0, sort=True))\n",
      "[WARNING 10-29 16:34:00] ax.service.utils.report_utils: Column reason missing for all trials. Not appending column.\n",
      "[INFO 10-29 16:34:00] ax.service.ax_client: Completed trial 17 with data: {'t1': (5.646038, None)}.\n",
      "[INFO 10-29 16:34:00] ax.service.ax_client: Saved JSON-serialized state of optimization to `/Users/thomasdodd/Library/CloudStorage/OneDrive-MillfieldEnterprisesLimited/Cambridge/GitHub/BO4ACST/Notebooks/Optimisation/Method20241028Dim2_qMaxValueEntropy/AxExperiment.json`.\n",
      "[WARNING 10-29 16:34:00] ax.service.utils.report_utils: Column reason missing for all trials. Not appending column.\n",
      "[WARNING 10-29 16:34:00] ax.service.utils.report_utils: Column reason missing for all trials. Not appending column.\n"
     ]
    },
    {
     "name": "stdout",
     "output_type": "stream",
     "text": [
      "There are no trials currently running - initialising Bayesian iteration trials.\n"
     ]
    },
    {
     "name": "stderr",
     "output_type": "stream",
     "text": [
      "[INFO 10-29 16:34:06] ax.service.ax_client: Generated new trial 18 with parameters {'x1': 0.156904, 'x2': 3.394149} using model BoTorch.\n",
      "[INFO 10-29 16:34:06] ax.service.ax_client: Saved JSON-serialized state of optimization to `/Users/thomasdodd/Library/CloudStorage/OneDrive-MillfieldEnterprisesLimited/Cambridge/GitHub/BO4ACST/Notebooks/Optimisation/Method20241028Dim2_qMaxValueEntropy/AxExperiment.json`.\n",
      "/Users/thomasdodd/miniconda3/envs/BO4ACST_env/lib/python3.11/site-packages/ax/core/data.py:288: FutureWarning: The behavior of DataFrame concatenation with empty or all-NA entries is deprecated. In a future version, this will no longer exclude empty or all-NA columns when determining the result dtypes. To retain the old behavior, exclude the relevant entries before the concat operation.\n",
      "  return cls(df=pd.concat(dfs, axis=0, sort=True))\n",
      "[WARNING 10-29 16:34:06] ax.service.utils.report_utils: Column reason missing for all trials. Not appending column.\n",
      "/Users/thomasdodd/miniconda3/envs/BO4ACST_env/lib/python3.11/site-packages/ax/core/data.py:288: FutureWarning: The behavior of DataFrame concatenation with empty or all-NA entries is deprecated. In a future version, this will no longer exclude empty or all-NA columns when determining the result dtypes. To retain the old behavior, exclude the relevant entries before the concat operation.\n",
      "  return cls(df=pd.concat(dfs, axis=0, sort=True))\n",
      "[WARNING 10-29 16:34:06] ax.service.utils.report_utils: Column reason missing for all trials. Not appending column.\n",
      "[INFO 10-29 16:34:06] ax.service.ax_client: Completed trial 18 with data: {'t1': (1.672379, None)}.\n",
      "[INFO 10-29 16:34:06] ax.service.ax_client: Saved JSON-serialized state of optimization to `/Users/thomasdodd/Library/CloudStorage/OneDrive-MillfieldEnterprisesLimited/Cambridge/GitHub/BO4ACST/Notebooks/Optimisation/Method20241028Dim2_qMaxValueEntropy/AxExperiment.json`.\n",
      "[WARNING 10-29 16:34:06] ax.service.utils.report_utils: Column reason missing for all trials. Not appending column.\n",
      "[WARNING 10-29 16:34:06] ax.service.utils.report_utils: Column reason missing for all trials. Not appending column.\n"
     ]
    },
    {
     "name": "stdout",
     "output_type": "stream",
     "text": [
      "There are no trials currently running - initialising Bayesian iteration trials.\n"
     ]
    },
    {
     "name": "stderr",
     "output_type": "stream",
     "text": [
      "[INFO 10-29 16:34:14] ax.service.ax_client: Generated new trial 19 with parameters {'x1': 0.267838, 'x2': 3.23914} using model BoTorch.\n",
      "[INFO 10-29 16:34:14] ax.service.ax_client: Saved JSON-serialized state of optimization to `/Users/thomasdodd/Library/CloudStorage/OneDrive-MillfieldEnterprisesLimited/Cambridge/GitHub/BO4ACST/Notebooks/Optimisation/Method20241028Dim2_qMaxValueEntropy/AxExperiment.json`.\n",
      "/Users/thomasdodd/miniconda3/envs/BO4ACST_env/lib/python3.11/site-packages/ax/core/data.py:288: FutureWarning: The behavior of DataFrame concatenation with empty or all-NA entries is deprecated. In a future version, this will no longer exclude empty or all-NA columns when determining the result dtypes. To retain the old behavior, exclude the relevant entries before the concat operation.\n",
      "  return cls(df=pd.concat(dfs, axis=0, sort=True))\n",
      "[WARNING 10-29 16:34:14] ax.service.utils.report_utils: Column reason missing for all trials. Not appending column.\n",
      "/Users/thomasdodd/miniconda3/envs/BO4ACST_env/lib/python3.11/site-packages/ax/core/data.py:288: FutureWarning: The behavior of DataFrame concatenation with empty or all-NA entries is deprecated. In a future version, this will no longer exclude empty or all-NA columns when determining the result dtypes. To retain the old behavior, exclude the relevant entries before the concat operation.\n",
      "  return cls(df=pd.concat(dfs, axis=0, sort=True))\n",
      "[WARNING 10-29 16:34:14] ax.service.utils.report_utils: Column reason missing for all trials. Not appending column.\n",
      "[INFO 10-29 16:34:14] ax.service.ax_client: Completed trial 19 with data: {'t1': (1.565532, None)}.\n",
      "[INFO 10-29 16:34:14] ax.service.ax_client: Saved JSON-serialized state of optimization to `/Users/thomasdodd/Library/CloudStorage/OneDrive-MillfieldEnterprisesLimited/Cambridge/GitHub/BO4ACST/Notebooks/Optimisation/Method20241028Dim2_qMaxValueEntropy/AxExperiment.json`.\n",
      "[WARNING 10-29 16:34:14] ax.service.utils.report_utils: Column reason missing for all trials. Not appending column.\n",
      "[WARNING 10-29 16:34:14] ax.service.utils.report_utils: Column reason missing for all trials. Not appending column.\n"
     ]
    },
    {
     "name": "stdout",
     "output_type": "stream",
     "text": [
      "There are no trials currently running - initialising Bayesian iteration trials.\n"
     ]
    },
    {
     "name": "stderr",
     "output_type": "stream",
     "text": [
      "[INFO 10-29 16:34:20] ax.service.ax_client: Generated new trial 20 with parameters {'x1': 1.909332, 'x2': 1.705234} using model BoTorch.\n",
      "[INFO 10-29 16:34:20] ax.service.ax_client: Saved JSON-serialized state of optimization to `/Users/thomasdodd/Library/CloudStorage/OneDrive-MillfieldEnterprisesLimited/Cambridge/GitHub/BO4ACST/Notebooks/Optimisation/Method20241028Dim2_qMaxValueEntropy/AxExperiment.json`.\n",
      "/Users/thomasdodd/miniconda3/envs/BO4ACST_env/lib/python3.11/site-packages/ax/core/data.py:288: FutureWarning: The behavior of DataFrame concatenation with empty or all-NA entries is deprecated. In a future version, this will no longer exclude empty or all-NA columns when determining the result dtypes. To retain the old behavior, exclude the relevant entries before the concat operation.\n",
      "  return cls(df=pd.concat(dfs, axis=0, sort=True))\n",
      "[WARNING 10-29 16:34:20] ax.service.utils.report_utils: Column reason missing for all trials. Not appending column.\n",
      "/Users/thomasdodd/miniconda3/envs/BO4ACST_env/lib/python3.11/site-packages/ax/core/data.py:288: FutureWarning: The behavior of DataFrame concatenation with empty or all-NA entries is deprecated. In a future version, this will no longer exclude empty or all-NA columns when determining the result dtypes. To retain the old behavior, exclude the relevant entries before the concat operation.\n",
      "  return cls(df=pd.concat(dfs, axis=0, sort=True))\n",
      "[WARNING 10-29 16:34:20] ax.service.utils.report_utils: Column reason missing for all trials. Not appending column.\n",
      "[INFO 10-29 16:34:20] ax.service.ax_client: Completed trial 20 with data: {'t1': (3.09754, None)}.\n",
      "[INFO 10-29 16:34:20] ax.service.ax_client: Saved JSON-serialized state of optimization to `/Users/thomasdodd/Library/CloudStorage/OneDrive-MillfieldEnterprisesLimited/Cambridge/GitHub/BO4ACST/Notebooks/Optimisation/Method20241028Dim2_qMaxValueEntropy/AxExperiment.json`.\n",
      "[WARNING 10-29 16:34:20] ax.service.utils.report_utils: Column reason missing for all trials. Not appending column.\n",
      "[WARNING 10-29 16:34:20] ax.service.utils.report_utils: Column reason missing for all trials. Not appending column.\n"
     ]
    },
    {
     "name": "stdout",
     "output_type": "stream",
     "text": [
      "There are no trials currently running - initialising Bayesian iteration trials.\n"
     ]
    },
    {
     "name": "stderr",
     "output_type": "stream",
     "text": [
      "[INFO 10-29 16:34:26] ax.service.ax_client: Generated new trial 21 with parameters {'x1': 0.418485, 'x2': 3.138464} using model BoTorch.\n",
      "[INFO 10-29 16:34:26] ax.service.ax_client: Saved JSON-serialized state of optimization to `/Users/thomasdodd/Library/CloudStorage/OneDrive-MillfieldEnterprisesLimited/Cambridge/GitHub/BO4ACST/Notebooks/Optimisation/Method20241028Dim2_qMaxValueEntropy/AxExperiment.json`.\n",
      "/Users/thomasdodd/miniconda3/envs/BO4ACST_env/lib/python3.11/site-packages/ax/core/data.py:288: FutureWarning: The behavior of DataFrame concatenation with empty or all-NA entries is deprecated. In a future version, this will no longer exclude empty or all-NA columns when determining the result dtypes. To retain the old behavior, exclude the relevant entries before the concat operation.\n",
      "  return cls(df=pd.concat(dfs, axis=0, sort=True))\n",
      "[WARNING 10-29 16:34:26] ax.service.utils.report_utils: Column reason missing for all trials. Not appending column.\n",
      "/Users/thomasdodd/miniconda3/envs/BO4ACST_env/lib/python3.11/site-packages/ax/core/data.py:288: FutureWarning: The behavior of DataFrame concatenation with empty or all-NA entries is deprecated. In a future version, this will no longer exclude empty or all-NA columns when determining the result dtypes. To retain the old behavior, exclude the relevant entries before the concat operation.\n",
      "  return cls(df=pd.concat(dfs, axis=0, sort=True))\n",
      "[WARNING 10-29 16:34:26] ax.service.utils.report_utils: Column reason missing for all trials. Not appending column.\n",
      "[INFO 10-29 16:34:26] ax.service.ax_client: Completed trial 21 with data: {'t1': (1.14251, None)}.\n",
      "[INFO 10-29 16:34:26] ax.service.ax_client: Saved JSON-serialized state of optimization to `/Users/thomasdodd/Library/CloudStorage/OneDrive-MillfieldEnterprisesLimited/Cambridge/GitHub/BO4ACST/Notebooks/Optimisation/Method20241028Dim2_qMaxValueEntropy/AxExperiment.json`.\n",
      "[WARNING 10-29 16:34:26] ax.service.utils.report_utils: Column reason missing for all trials. Not appending column.\n",
      "[WARNING 10-29 16:34:26] ax.service.utils.report_utils: Column reason missing for all trials. Not appending column.\n"
     ]
    },
    {
     "name": "stdout",
     "output_type": "stream",
     "text": [
      "There are no trials currently running - initialising Bayesian iteration trials.\n"
     ]
    },
    {
     "name": "stderr",
     "output_type": "stream",
     "text": [
      "[INFO 10-29 16:34:35] ax.service.ax_client: Generated new trial 22 with parameters {'x1': 0.499446, 'x2': 3.049428} using model BoTorch.\n",
      "[INFO 10-29 16:34:35] ax.service.ax_client: Saved JSON-serialized state of optimization to `/Users/thomasdodd/Library/CloudStorage/OneDrive-MillfieldEnterprisesLimited/Cambridge/GitHub/BO4ACST/Notebooks/Optimisation/Method20241028Dim2_qMaxValueEntropy/AxExperiment.json`.\n",
      "/Users/thomasdodd/miniconda3/envs/BO4ACST_env/lib/python3.11/site-packages/ax/core/data.py:288: FutureWarning: The behavior of DataFrame concatenation with empty or all-NA entries is deprecated. In a future version, this will no longer exclude empty or all-NA columns when determining the result dtypes. To retain the old behavior, exclude the relevant entries before the concat operation.\n",
      "  return cls(df=pd.concat(dfs, axis=0, sort=True))\n",
      "[WARNING 10-29 16:34:35] ax.service.utils.report_utils: Column reason missing for all trials. Not appending column.\n",
      "/Users/thomasdodd/miniconda3/envs/BO4ACST_env/lib/python3.11/site-packages/ax/core/data.py:288: FutureWarning: The behavior of DataFrame concatenation with empty or all-NA entries is deprecated. In a future version, this will no longer exclude empty or all-NA columns when determining the result dtypes. To retain the old behavior, exclude the relevant entries before the concat operation.\n",
      "  return cls(df=pd.concat(dfs, axis=0, sort=True))\n",
      "[WARNING 10-29 16:34:35] ax.service.utils.report_utils: Column reason missing for all trials. Not appending column.\n",
      "[INFO 10-29 16:34:35] ax.service.ax_client: Completed trial 22 with data: {'t1': (1.067055, None)}.\n",
      "[INFO 10-29 16:34:35] ax.service.ax_client: Saved JSON-serialized state of optimization to `/Users/thomasdodd/Library/CloudStorage/OneDrive-MillfieldEnterprisesLimited/Cambridge/GitHub/BO4ACST/Notebooks/Optimisation/Method20241028Dim2_qMaxValueEntropy/AxExperiment.json`.\n",
      "[WARNING 10-29 16:34:35] ax.service.utils.report_utils: Column reason missing for all trials. Not appending column.\n",
      "[WARNING 10-29 16:34:35] ax.service.utils.report_utils: Column reason missing for all trials. Not appending column.\n"
     ]
    },
    {
     "name": "stdout",
     "output_type": "stream",
     "text": [
      "There are no trials currently running - initialising Bayesian iteration trials.\n"
     ]
    },
    {
     "name": "stderr",
     "output_type": "stream",
     "text": [
      "[INFO 10-29 16:34:43] ax.service.ax_client: Generated new trial 23 with parameters {'x1': 1.58085, 'x2': 1.999382} using model BoTorch.\n",
      "[INFO 10-29 16:34:43] ax.service.ax_client: Saved JSON-serialized state of optimization to `/Users/thomasdodd/Library/CloudStorage/OneDrive-MillfieldEnterprisesLimited/Cambridge/GitHub/BO4ACST/Notebooks/Optimisation/Method20241028Dim2_qMaxValueEntropy/AxExperiment.json`.\n",
      "/Users/thomasdodd/miniconda3/envs/BO4ACST_env/lib/python3.11/site-packages/ax/core/data.py:288: FutureWarning: The behavior of DataFrame concatenation with empty or all-NA entries is deprecated. In a future version, this will no longer exclude empty or all-NA columns when determining the result dtypes. To retain the old behavior, exclude the relevant entries before the concat operation.\n",
      "  return cls(df=pd.concat(dfs, axis=0, sort=True))\n",
      "[WARNING 10-29 16:34:43] ax.service.utils.report_utils: Column reason missing for all trials. Not appending column.\n",
      "/Users/thomasdodd/miniconda3/envs/BO4ACST_env/lib/python3.11/site-packages/ax/core/data.py:288: FutureWarning: The behavior of DataFrame concatenation with empty or all-NA entries is deprecated. In a future version, this will no longer exclude empty or all-NA columns when determining the result dtypes. To retain the old behavior, exclude the relevant entries before the concat operation.\n",
      "  return cls(df=pd.concat(dfs, axis=0, sort=True))\n",
      "[WARNING 10-29 16:34:43] ax.service.utils.report_utils: Column reason missing for all trials. Not appending column.\n",
      "[INFO 10-29 16:34:43] ax.service.ax_client: Completed trial 23 with data: {'t1': (2.043444, None)}.\n",
      "[INFO 10-29 16:34:44] ax.service.ax_client: Saved JSON-serialized state of optimization to `/Users/thomasdodd/Library/CloudStorage/OneDrive-MillfieldEnterprisesLimited/Cambridge/GitHub/BO4ACST/Notebooks/Optimisation/Method20241028Dim2_qMaxValueEntropy/AxExperiment.json`.\n",
      "[WARNING 10-29 16:34:44] ax.service.utils.report_utils: Column reason missing for all trials. Not appending column.\n"
     ]
    },
    {
     "name": "stdout",
     "output_type": "stream",
     "text": [
      "[74.         44.80455817 44.80455817  8.33977617  0.95241435  0.95241435\n",
      "  0.95241435  0.95241435  0.95241435  0.95241435  0.95241435  0.95241435\n",
      "  0.95241435  0.95241435  0.95241435  0.95241435]\n"
     ]
    }
   ],
   "source": [
    "# Using the qlognoisyexpectedimprovement\n",
    "attempts = 10\n",
    "t1Best_arr = np.empty(0)\n",
    "for attempt in range(attempts):\n",
    "    t1Min_arr = np.empty(0)\n",
    "    AxClient_obj = ExperimentalMethods_obj.ExperimentInitialiser_func(OptimisationSetup_obj)\n",
    "    for round in range(OptimisationSetup_obj.NoOfIterations_int):\n",
    "        ExperimentalMethods_obj.TrialsStartor_func(AxClient_obj,OptimisationSetup_obj)\n",
    "        ExperimentalMethods_obj.TrialsCompletor_func(AxClient_obj,OptimisationSetup_obj)\n",
    "        df = AxClient_obj.get_trials_data_frame()\n",
    "        t1_arr = np.array(df[\"t1\"])\n",
    "        t1Min_flt = np.min(t1_arr)\n",
    "        t1Min_arr = np.append(arr=t1Min_arr,values=t1Min_flt)\n",
    "    print(t1Min_arr)\n",
    "    os.remove(OptimisationSetup_obj.ExperimentFilePath_str)\n",
    "    Bestt1_flt = t1Min_arr[-1]\n",
    "    t1Best_arr = np.append(arr=t1Best_arr,values=Bestt1_flt)"
   ]
  },
  {
   "cell_type": "code",
   "execution_count": 3,
   "metadata": {},
   "outputs": [
    {
     "data": {
      "text/plain": [
       "array([0.78735276, 1.01788117, 0.93896131, 0.65842454, 1.00960134,\n",
       "       0.54131195, 1.07534884, 0.71653913, 0.8644708 , 0.95241435])"
      ]
     },
     "execution_count": 3,
     "metadata": {},
     "output_type": "execute_result"
    }
   ],
   "source": [
    "t1Best_arr"
   ]
  },
  {
   "cell_type": "code",
   "execution_count": 4,
   "metadata": {},
   "outputs": [
    {
     "data": {
      "text/plain": [
       "0.8562306199699645"
      ]
     },
     "execution_count": 4,
     "metadata": {},
     "output_type": "execute_result"
    }
   ],
   "source": [
    "np.average(t1Best_arr)"
   ]
  },
  {
   "cell_type": "code",
   "execution_count": 5,
   "metadata": {},
   "outputs": [
    {
     "data": {
      "text/plain": [
       "0.5413119500840012"
      ]
     },
     "execution_count": 5,
     "metadata": {},
     "output_type": "execute_result"
    }
   ],
   "source": [
    "np.min(t1Best_arr)"
   ]
  },
  {
   "cell_type": "code",
   "execution_count": null,
   "metadata": {},
   "outputs": [],
   "source": []
  }
 ],
 "metadata": {
  "kernelspec": {
   "display_name": "BO4ACST_env",
   "language": "python",
   "name": "python3"
  },
  "language_info": {
   "codemirror_mode": {
    "name": "ipython",
    "version": 3
   },
   "file_extension": ".py",
   "mimetype": "text/x-python",
   "name": "python",
   "nbconvert_exporter": "python",
   "pygments_lexer": "ipython3",
   "version": "3.11.10"
  }
 },
 "nbformat": 4,
 "nbformat_minor": 2
}
