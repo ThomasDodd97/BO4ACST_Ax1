{
 "cells": [
  {
   "cell_type": "markdown",
   "metadata": {},
   "source": [
    "# Optimising Booth Test Function: 'Method20241028Dim2'\n",
    "\n",
    "Settings:\n",
    "* Space-Filling Technique: Grid (1 * 8)\n",
    "* Sequential Technique: Ax (16 * 1)\n",
    "* Acquisition Function: qLNEI"
   ]
  },
  {
   "cell_type": "code",
   "execution_count": 1,
   "metadata": {},
   "outputs": [],
   "source": [
    "import os\n",
    "import numpy as np\n",
    "from ConfigFile import OptimisationSetup_class\n",
    "from ExperimentalMethods import ExperimentalMethods_class\n",
    "# Instantiate the optimisation configuration class object.\n",
    "OptimisationSetup_obj = OptimisationSetup_class()\n",
    "# Instantiate the experimental methods class object.\n",
    "ExperimentalMethods_obj = ExperimentalMethods_class()"
   ]
  },
  {
   "cell_type": "code",
   "execution_count": 2,
   "metadata": {},
   "outputs": [
    {
     "name": "stderr",
     "output_type": "stream",
     "text": [
      "[INFO 10-29 16:24:57] ax.service.ax_client: Starting optimization with verbose logging. To disable logging, set the `verbose_logging` argument to `False`. Note that float values in the logs are rounded to 6 decimal points.\n",
      "[INFO 10-29 16:24:57] ax.service.utils.instantiation: Created search space: SearchSpace(parameters=[RangeParameter(name='x1', parameter_type=FLOAT, range=[-10.0, 10.0]), RangeParameter(name='x2', parameter_type=FLOAT, range=[-10.0, 10.0])], parameter_constraints=[]).\n",
      "[INFO 10-29 16:24:57] ax.service.ax_client: Saved JSON-serialized state of optimization to `/Users/thomasdodd/Library/CloudStorage/OneDrive-MillfieldEnterprisesLimited/Cambridge/GitHub/BO4ACST/Notebooks/Optimisation/Method20241028Dim2_qLogNoisyExpectedImprovement/AxExperiment.json`.\n",
      "[INFO 10-29 16:24:57] ax.core.experiment: Attached custom parameterizations [{'x1': -10.0, 'x2': -10.0}] as trial 0.\n",
      "[INFO 10-29 16:24:57] ax.core.experiment: Attached custom parameterizations [{'x1': 0.0, 'x2': -10.0}] as trial 1.\n",
      "[INFO 10-29 16:24:57] ax.core.experiment: Attached custom parameterizations [{'x1': 10.0, 'x2': -10.0}] as trial 2.\n",
      "[INFO 10-29 16:24:57] ax.core.experiment: Attached custom parameterizations [{'x1': -10.0, 'x2': 0.0}] as trial 3.\n",
      "[INFO 10-29 16:24:57] ax.core.experiment: Attached custom parameterizations [{'x1': 0.0, 'x2': 0.0}] as trial 4.\n",
      "[INFO 10-29 16:24:57] ax.core.experiment: Attached custom parameterizations [{'x1': 10.0, 'x2': 0.0}] as trial 5.\n",
      "[INFO 10-29 16:24:57] ax.core.experiment: Attached custom parameterizations [{'x1': -10.0, 'x2': 10.0}] as trial 6.\n",
      "[INFO 10-29 16:24:57] ax.core.experiment: Attached custom parameterizations [{'x1': 0.0, 'x2': 10.0}] as trial 7.\n",
      "[INFO 10-29 16:24:57] ax.core.experiment: Attached custom parameterizations [{'x1': 10.0, 'x2': 10.0}] as trial 8.\n",
      "[INFO 10-29 16:24:57] ax.service.ax_client: Saved JSON-serialized state of optimization to `/Users/thomasdodd/Library/CloudStorage/OneDrive-MillfieldEnterprisesLimited/Cambridge/GitHub/BO4ACST/Notebooks/Optimisation/Method20241028Dim2_qLogNoisyExpectedImprovement/AxExperiment.json`.\n",
      "[WARNING 10-29 16:24:57] ax.service.utils.report_utils: Column reason missing for all trials. Not appending column.\n",
      "[INFO 10-29 16:24:57] ax.service.utils.report_utils: No results present for the specified metrics `[Metric('t1')]`. Returning arm parameters and metadata only.\n",
      "[WARNING 10-29 16:24:57] ax.service.utils.report_utils: Column reason missing for all trials. Not appending column.\n",
      "[INFO 10-29 16:24:57] ax.service.utils.report_utils: No results present for the specified metrics `[Metric('t1')]`. Returning arm parameters and metadata only.\n",
      "[INFO 10-29 16:24:57] ax.service.ax_client: Completed trial 0 with data: {'t1': (2594.0, None)}.\n",
      "[INFO 10-29 16:24:57] ax.service.ax_client: Saved JSON-serialized state of optimization to `/Users/thomasdodd/Library/CloudStorage/OneDrive-MillfieldEnterprisesLimited/Cambridge/GitHub/BO4ACST/Notebooks/Optimisation/Method20241028Dim2_qLogNoisyExpectedImprovement/AxExperiment.json`.\n",
      "[INFO 10-29 16:24:57] ax.service.ax_client: Completed trial 1 with data: {'t1': (954.0, None)}.\n",
      "[INFO 10-29 16:24:57] ax.service.ax_client: Saved JSON-serialized state of optimization to `/Users/thomasdodd/Library/CloudStorage/OneDrive-MillfieldEnterprisesLimited/Cambridge/GitHub/BO4ACST/Notebooks/Optimisation/Method20241028Dim2_qLogNoisyExpectedImprovement/AxExperiment.json`.\n",
      "[INFO 10-29 16:24:57] ax.service.ax_client: Completed trial 2 with data: {'t1': (314.0, None)}.\n",
      "[INFO 10-29 16:24:57] ax.service.ax_client: Saved JSON-serialized state of optimization to `/Users/thomasdodd/Library/CloudStorage/OneDrive-MillfieldEnterprisesLimited/Cambridge/GitHub/BO4ACST/Notebooks/Optimisation/Method20241028Dim2_qLogNoisyExpectedImprovement/AxExperiment.json`.\n",
      "[INFO 10-29 16:24:57] ax.service.ax_client: Completed trial 3 with data: {'t1': (914.0, None)}.\n",
      "[INFO 10-29 16:24:57] ax.service.ax_client: Saved JSON-serialized state of optimization to `/Users/thomasdodd/Library/CloudStorage/OneDrive-MillfieldEnterprisesLimited/Cambridge/GitHub/BO4ACST/Notebooks/Optimisation/Method20241028Dim2_qLogNoisyExpectedImprovement/AxExperiment.json`.\n",
      "[INFO 10-29 16:24:57] ax.service.ax_client: Completed trial 4 with data: {'t1': (74.0, None)}.\n",
      "[INFO 10-29 16:24:57] ax.service.ax_client: Saved JSON-serialized state of optimization to `/Users/thomasdodd/Library/CloudStorage/OneDrive-MillfieldEnterprisesLimited/Cambridge/GitHub/BO4ACST/Notebooks/Optimisation/Method20241028Dim2_qLogNoisyExpectedImprovement/AxExperiment.json`.\n",
      "[INFO 10-29 16:24:57] ax.service.ax_client: Completed trial 5 with data: {'t1': (234.0, None)}.\n",
      "[INFO 10-29 16:24:57] ax.service.ax_client: Saved JSON-serialized state of optimization to `/Users/thomasdodd/Library/CloudStorage/OneDrive-MillfieldEnterprisesLimited/Cambridge/GitHub/BO4ACST/Notebooks/Optimisation/Method20241028Dim2_qLogNoisyExpectedImprovement/AxExperiment.json`.\n",
      "[INFO 10-29 16:24:57] ax.service.ax_client: Completed trial 6 with data: {'t1': (234.0, None)}.\n",
      "[INFO 10-29 16:24:58] ax.service.ax_client: Saved JSON-serialized state of optimization to `/Users/thomasdodd/Library/CloudStorage/OneDrive-MillfieldEnterprisesLimited/Cambridge/GitHub/BO4ACST/Notebooks/Optimisation/Method20241028Dim2_qLogNoisyExpectedImprovement/AxExperiment.json`.\n",
      "[INFO 10-29 16:24:58] ax.service.ax_client: Completed trial 7 with data: {'t1': (194.0, None)}.\n",
      "[INFO 10-29 16:24:58] ax.service.ax_client: Saved JSON-serialized state of optimization to `/Users/thomasdodd/Library/CloudStorage/OneDrive-MillfieldEnterprisesLimited/Cambridge/GitHub/BO4ACST/Notebooks/Optimisation/Method20241028Dim2_qLogNoisyExpectedImprovement/AxExperiment.json`.\n",
      "[INFO 10-29 16:24:58] ax.service.ax_client: Completed trial 8 with data: {'t1': (1154.0, None)}.\n",
      "[INFO 10-29 16:24:58] ax.service.ax_client: Saved JSON-serialized state of optimization to `/Users/thomasdodd/Library/CloudStorage/OneDrive-MillfieldEnterprisesLimited/Cambridge/GitHub/BO4ACST/Notebooks/Optimisation/Method20241028Dim2_qLogNoisyExpectedImprovement/AxExperiment.json`.\n",
      "[WARNING 10-29 16:24:58] ax.service.utils.report_utils: Column reason missing for all trials. Not appending column.\n",
      "[WARNING 10-29 16:24:58] ax.service.utils.report_utils: Column reason missing for all trials. Not appending column.\n"
     ]
    },
    {
     "name": "stdout",
     "output_type": "stream",
     "text": [
      "A new experiment has been created and initialised.\n",
      "No previous or current trials detected - initialising prior-forming trials.\n",
      "Samples gridded = 9\n",
      "There are no trials currently running - initialising Bayesian iteration trials.\n"
     ]
    },
    {
     "name": "stderr",
     "output_type": "stream",
     "text": [
      "[INFO 10-29 16:25:02] ax.service.ax_client: Generated new trial 9 with parameters {'x1': -2.647522, 'x2': 5.800845} using model BoTorch.\n",
      "[INFO 10-29 16:25:02] ax.service.ax_client: Saved JSON-serialized state of optimization to `/Users/thomasdodd/Library/CloudStorage/OneDrive-MillfieldEnterprisesLimited/Cambridge/GitHub/BO4ACST/Notebooks/Optimisation/Method20241028Dim2_qLogNoisyExpectedImprovement/AxExperiment.json`.\n",
      "/Users/thomasdodd/miniconda3/envs/BO4ACST_env/lib/python3.11/site-packages/ax/core/data.py:288: FutureWarning: The behavior of DataFrame concatenation with empty or all-NA entries is deprecated. In a future version, this will no longer exclude empty or all-NA columns when determining the result dtypes. To retain the old behavior, exclude the relevant entries before the concat operation.\n",
      "  return cls(df=pd.concat(dfs, axis=0, sort=True))\n",
      "[WARNING 10-29 16:25:02] ax.service.utils.report_utils: Column reason missing for all trials. Not appending column.\n",
      "/Users/thomasdodd/miniconda3/envs/BO4ACST_env/lib/python3.11/site-packages/ax/core/data.py:288: FutureWarning: The behavior of DataFrame concatenation with empty or all-NA entries is deprecated. In a future version, this will no longer exclude empty or all-NA columns when determining the result dtypes. To retain the old behavior, exclude the relevant entries before the concat operation.\n",
      "  return cls(df=pd.concat(dfs, axis=0, sort=True))\n",
      "[WARNING 10-29 16:25:03] ax.service.utils.report_utils: Column reason missing for all trials. Not appending column.\n",
      "[INFO 10-29 16:25:03] ax.service.ax_client: Completed trial 9 with data: {'t1': (24.0166, None)}.\n",
      "[INFO 10-29 16:25:03] ax.service.ax_client: Saved JSON-serialized state of optimization to `/Users/thomasdodd/Library/CloudStorage/OneDrive-MillfieldEnterprisesLimited/Cambridge/GitHub/BO4ACST/Notebooks/Optimisation/Method20241028Dim2_qLogNoisyExpectedImprovement/AxExperiment.json`.\n",
      "[WARNING 10-29 16:25:03] ax.service.utils.report_utils: Column reason missing for all trials. Not appending column.\n",
      "[WARNING 10-29 16:25:03] ax.service.utils.report_utils: Column reason missing for all trials. Not appending column.\n"
     ]
    },
    {
     "name": "stdout",
     "output_type": "stream",
     "text": [
      "There are no trials currently running - initialising Bayesian iteration trials.\n"
     ]
    },
    {
     "name": "stderr",
     "output_type": "stream",
     "text": [
      "[INFO 10-29 16:25:09] ax.service.ax_client: Generated new trial 10 with parameters {'x1': 4.933461, 'x2': -1.679611} using model BoTorch.\n",
      "[INFO 10-29 16:25:09] ax.service.ax_client: Saved JSON-serialized state of optimization to `/Users/thomasdodd/Library/CloudStorage/OneDrive-MillfieldEnterprisesLimited/Cambridge/GitHub/BO4ACST/Notebooks/Optimisation/Method20241028Dim2_qLogNoisyExpectedImprovement/AxExperiment.json`.\n",
      "/Users/thomasdodd/miniconda3/envs/BO4ACST_env/lib/python3.11/site-packages/ax/core/data.py:288: FutureWarning: The behavior of DataFrame concatenation with empty or all-NA entries is deprecated. In a future version, this will no longer exclude empty or all-NA columns when determining the result dtypes. To retain the old behavior, exclude the relevant entries before the concat operation.\n",
      "  return cls(df=pd.concat(dfs, axis=0, sort=True))\n",
      "[WARNING 10-29 16:25:09] ax.service.utils.report_utils: Column reason missing for all trials. Not appending column.\n",
      "/Users/thomasdodd/miniconda3/envs/BO4ACST_env/lib/python3.11/site-packages/ax/core/data.py:288: FutureWarning: The behavior of DataFrame concatenation with empty or all-NA entries is deprecated. In a future version, this will no longer exclude empty or all-NA columns when determining the result dtypes. To retain the old behavior, exclude the relevant entries before the concat operation.\n",
      "  return cls(df=pd.concat(dfs, axis=0, sort=True))\n",
      "[WARNING 10-29 16:25:09] ax.service.utils.report_utils: Column reason missing for all trials. Not appending column.\n",
      "[INFO 10-29 16:25:09] ax.service.ax_client: Completed trial 10 with data: {'t1': (39.597827, None)}.\n",
      "[INFO 10-29 16:25:09] ax.service.ax_client: Saved JSON-serialized state of optimization to `/Users/thomasdodd/Library/CloudStorage/OneDrive-MillfieldEnterprisesLimited/Cambridge/GitHub/BO4ACST/Notebooks/Optimisation/Method20241028Dim2_qLogNoisyExpectedImprovement/AxExperiment.json`.\n",
      "[WARNING 10-29 16:25:09] ax.service.utils.report_utils: Column reason missing for all trials. Not appending column.\n",
      "[WARNING 10-29 16:25:09] ax.service.utils.report_utils: Column reason missing for all trials. Not appending column.\n"
     ]
    },
    {
     "name": "stdout",
     "output_type": "stream",
     "text": [
      "There are no trials currently running - initialising Bayesian iteration trials.\n"
     ]
    },
    {
     "name": "stderr",
     "output_type": "stream",
     "text": [
      "[INFO 10-29 16:25:15] ax.service.ax_client: Generated new trial 11 with parameters {'x1': 1.362712, 'x2': 2.814624} using model BoTorch.\n",
      "[INFO 10-29 16:25:15] ax.service.ax_client: Saved JSON-serialized state of optimization to `/Users/thomasdodd/Library/CloudStorage/OneDrive-MillfieldEnterprisesLimited/Cambridge/GitHub/BO4ACST/Notebooks/Optimisation/Method20241028Dim2_qLogNoisyExpectedImprovement/AxExperiment.json`.\n",
      "/Users/thomasdodd/miniconda3/envs/BO4ACST_env/lib/python3.11/site-packages/ax/core/data.py:288: FutureWarning: The behavior of DataFrame concatenation with empty or all-NA entries is deprecated. In a future version, this will no longer exclude empty or all-NA columns when determining the result dtypes. To retain the old behavior, exclude the relevant entries before the concat operation.\n",
      "  return cls(df=pd.concat(dfs, axis=0, sort=True))\n",
      "[WARNING 10-29 16:25:15] ax.service.utils.report_utils: Column reason missing for all trials. Not appending column.\n",
      "/Users/thomasdodd/miniconda3/envs/BO4ACST_env/lib/python3.11/site-packages/ax/core/data.py:288: FutureWarning: The behavior of DataFrame concatenation with empty or all-NA entries is deprecated. In a future version, this will no longer exclude empty or all-NA columns when determining the result dtypes. To retain the old behavior, exclude the relevant entries before the concat operation.\n",
      "  return cls(df=pd.concat(dfs, axis=0, sort=True))\n",
      "[WARNING 10-29 16:25:15] ax.service.utils.report_utils: Column reason missing for all trials. Not appending column.\n",
      "[INFO 10-29 16:25:15] ax.service.ax_client: Completed trial 11 with data: {'t1': (0.291716, None)}.\n",
      "[INFO 10-29 16:25:15] ax.service.ax_client: Saved JSON-serialized state of optimization to `/Users/thomasdodd/Library/CloudStorage/OneDrive-MillfieldEnterprisesLimited/Cambridge/GitHub/BO4ACST/Notebooks/Optimisation/Method20241028Dim2_qLogNoisyExpectedImprovement/AxExperiment.json`.\n",
      "[WARNING 10-29 16:25:15] ax.service.utils.report_utils: Column reason missing for all trials. Not appending column.\n",
      "[WARNING 10-29 16:25:15] ax.service.utils.report_utils: Column reason missing for all trials. Not appending column.\n"
     ]
    },
    {
     "name": "stdout",
     "output_type": "stream",
     "text": [
      "There are no trials currently running - initialising Bayesian iteration trials.\n"
     ]
    },
    {
     "name": "stderr",
     "output_type": "stream",
     "text": [
      "[INFO 10-29 16:25:19] ax.service.ax_client: Generated new trial 12 with parameters {'x1': -4.140264, 'x2': 7.760542} using model BoTorch.\n",
      "[INFO 10-29 16:25:19] ax.service.ax_client: Saved JSON-serialized state of optimization to `/Users/thomasdodd/Library/CloudStorage/OneDrive-MillfieldEnterprisesLimited/Cambridge/GitHub/BO4ACST/Notebooks/Optimisation/Method20241028Dim2_qLogNoisyExpectedImprovement/AxExperiment.json`.\n",
      "/Users/thomasdodd/miniconda3/envs/BO4ACST_env/lib/python3.11/site-packages/ax/core/data.py:288: FutureWarning: The behavior of DataFrame concatenation with empty or all-NA entries is deprecated. In a future version, this will no longer exclude empty or all-NA columns when determining the result dtypes. To retain the old behavior, exclude the relevant entries before the concat operation.\n",
      "  return cls(df=pd.concat(dfs, axis=0, sort=True))\n",
      "[WARNING 10-29 16:25:19] ax.service.utils.report_utils: Column reason missing for all trials. Not appending column.\n",
      "/Users/thomasdodd/miniconda3/envs/BO4ACST_env/lib/python3.11/site-packages/ax/core/data.py:288: FutureWarning: The behavior of DataFrame concatenation with empty or all-NA entries is deprecated. In a future version, this will no longer exclude empty or all-NA columns when determining the result dtypes. To retain the old behavior, exclude the relevant entries before the concat operation.\n",
      "  return cls(df=pd.concat(dfs, axis=0, sort=True))\n",
      "[WARNING 10-29 16:25:19] ax.service.utils.report_utils: Column reason missing for all trials. Not appending column.\n",
      "[INFO 10-29 16:25:19] ax.service.ax_client: Completed trial 12 with data: {'t1': (49.661835, None)}.\n",
      "[INFO 10-29 16:25:19] ax.service.ax_client: Saved JSON-serialized state of optimization to `/Users/thomasdodd/Library/CloudStorage/OneDrive-MillfieldEnterprisesLimited/Cambridge/GitHub/BO4ACST/Notebooks/Optimisation/Method20241028Dim2_qLogNoisyExpectedImprovement/AxExperiment.json`.\n",
      "[WARNING 10-29 16:25:19] ax.service.utils.report_utils: Column reason missing for all trials. Not appending column.\n",
      "[WARNING 10-29 16:25:19] ax.service.utils.report_utils: Column reason missing for all trials. Not appending column.\n"
     ]
    },
    {
     "name": "stdout",
     "output_type": "stream",
     "text": [
      "There are no trials currently running - initialising Bayesian iteration trials.\n"
     ]
    },
    {
     "name": "stderr",
     "output_type": "stream",
     "text": [
      "[INFO 10-29 16:25:26] ax.service.ax_client: Generated new trial 13 with parameters {'x1': -0.597974, 'x2': 3.956158} using model BoTorch.\n",
      "[INFO 10-29 16:25:26] ax.service.ax_client: Saved JSON-serialized state of optimization to `/Users/thomasdodd/Library/CloudStorage/OneDrive-MillfieldEnterprisesLimited/Cambridge/GitHub/BO4ACST/Notebooks/Optimisation/Method20241028Dim2_qLogNoisyExpectedImprovement/AxExperiment.json`.\n",
      "/Users/thomasdodd/miniconda3/envs/BO4ACST_env/lib/python3.11/site-packages/ax/core/data.py:288: FutureWarning: The behavior of DataFrame concatenation with empty or all-NA entries is deprecated. In a future version, this will no longer exclude empty or all-NA columns when determining the result dtypes. To retain the old behavior, exclude the relevant entries before the concat operation.\n",
      "  return cls(df=pd.concat(dfs, axis=0, sort=True))\n",
      "[WARNING 10-29 16:25:26] ax.service.utils.report_utils: Column reason missing for all trials. Not appending column.\n",
      "/Users/thomasdodd/miniconda3/envs/BO4ACST_env/lib/python3.11/site-packages/ax/core/data.py:288: FutureWarning: The behavior of DataFrame concatenation with empty or all-NA entries is deprecated. In a future version, this will no longer exclude empty or all-NA columns when determining the result dtypes. To retain the old behavior, exclude the relevant entries before the concat operation.\n",
      "  return cls(df=pd.concat(dfs, axis=0, sort=True))\n",
      "[WARNING 10-29 16:25:26] ax.service.utils.report_utils: Column reason missing for all trials. Not appending column.\n",
      "[INFO 10-29 16:25:26] ax.service.ax_client: Completed trial 13 with data: {'t1': (5.115468, None)}.\n",
      "[INFO 10-29 16:25:26] ax.service.ax_client: Saved JSON-serialized state of optimization to `/Users/thomasdodd/Library/CloudStorage/OneDrive-MillfieldEnterprisesLimited/Cambridge/GitHub/BO4ACST/Notebooks/Optimisation/Method20241028Dim2_qLogNoisyExpectedImprovement/AxExperiment.json`.\n",
      "[WARNING 10-29 16:25:26] ax.service.utils.report_utils: Column reason missing for all trials. Not appending column.\n",
      "[WARNING 10-29 16:25:26] ax.service.utils.report_utils: Column reason missing for all trials. Not appending column.\n"
     ]
    },
    {
     "name": "stdout",
     "output_type": "stream",
     "text": [
      "There are no trials currently running - initialising Bayesian iteration trials.\n"
     ]
    },
    {
     "name": "stderr",
     "output_type": "stream",
     "text": [
      "[INFO 10-29 16:25:33] ax.service.ax_client: Generated new trial 14 with parameters {'x1': 2.733111, 'x2': 0.774137} using model BoTorch.\n",
      "[INFO 10-29 16:25:33] ax.service.ax_client: Saved JSON-serialized state of optimization to `/Users/thomasdodd/Library/CloudStorage/OneDrive-MillfieldEnterprisesLimited/Cambridge/GitHub/BO4ACST/Notebooks/Optimisation/Method20241028Dim2_qLogNoisyExpectedImprovement/AxExperiment.json`.\n",
      "/Users/thomasdodd/miniconda3/envs/BO4ACST_env/lib/python3.11/site-packages/ax/core/data.py:288: FutureWarning: The behavior of DataFrame concatenation with empty or all-NA entries is deprecated. In a future version, this will no longer exclude empty or all-NA columns when determining the result dtypes. To retain the old behavior, exclude the relevant entries before the concat operation.\n",
      "  return cls(df=pd.concat(dfs, axis=0, sort=True))\n",
      "[WARNING 10-29 16:25:33] ax.service.utils.report_utils: Column reason missing for all trials. Not appending column.\n",
      "/Users/thomasdodd/miniconda3/envs/BO4ACST_env/lib/python3.11/site-packages/ax/core/data.py:288: FutureWarning: The behavior of DataFrame concatenation with empty or all-NA entries is deprecated. In a future version, this will no longer exclude empty or all-NA columns when determining the result dtypes. To retain the old behavior, exclude the relevant entries before the concat operation.\n",
      "  return cls(df=pd.concat(dfs, axis=0, sort=True))\n",
      "[WARNING 10-29 16:25:33] ax.service.utils.report_utils: Column reason missing for all trials. Not appending column.\n",
      "[INFO 10-29 16:25:33] ax.service.ax_client: Completed trial 14 with data: {'t1': (8.929362, None)}.\n",
      "[INFO 10-29 16:25:33] ax.service.ax_client: Saved JSON-serialized state of optimization to `/Users/thomasdodd/Library/CloudStorage/OneDrive-MillfieldEnterprisesLimited/Cambridge/GitHub/BO4ACST/Notebooks/Optimisation/Method20241028Dim2_qLogNoisyExpectedImprovement/AxExperiment.json`.\n",
      "[WARNING 10-29 16:25:33] ax.service.utils.report_utils: Column reason missing for all trials. Not appending column.\n",
      "[WARNING 10-29 16:25:33] ax.service.utils.report_utils: Column reason missing for all trials. Not appending column.\n"
     ]
    },
    {
     "name": "stdout",
     "output_type": "stream",
     "text": [
      "There are no trials currently running - initialising Bayesian iteration trials.\n"
     ]
    },
    {
     "name": "stderr",
     "output_type": "stream",
     "text": [
      "[INFO 10-29 16:25:43] ax.service.ax_client: Generated new trial 15 with parameters {'x1': 0.76956, 'x2': 2.304315} using model BoTorch.\n",
      "[INFO 10-29 16:25:43] ax.service.ax_client: Saved JSON-serialized state of optimization to `/Users/thomasdodd/Library/CloudStorage/OneDrive-MillfieldEnterprisesLimited/Cambridge/GitHub/BO4ACST/Notebooks/Optimisation/Method20241028Dim2_qLogNoisyExpectedImprovement/AxExperiment.json`.\n",
      "/Users/thomasdodd/miniconda3/envs/BO4ACST_env/lib/python3.11/site-packages/ax/core/data.py:288: FutureWarning: The behavior of DataFrame concatenation with empty or all-NA entries is deprecated. In a future version, this will no longer exclude empty or all-NA columns when determining the result dtypes. To retain the old behavior, exclude the relevant entries before the concat operation.\n",
      "  return cls(df=pd.concat(dfs, axis=0, sort=True))\n",
      "[WARNING 10-29 16:25:43] ax.service.utils.report_utils: Column reason missing for all trials. Not appending column.\n",
      "/Users/thomasdodd/miniconda3/envs/BO4ACST_env/lib/python3.11/site-packages/ax/core/data.py:288: FutureWarning: The behavior of DataFrame concatenation with empty or all-NA entries is deprecated. In a future version, this will no longer exclude empty or all-NA columns when determining the result dtypes. To retain the old behavior, exclude the relevant entries before the concat operation.\n",
      "  return cls(df=pd.concat(dfs, axis=0, sort=True))\n",
      "[WARNING 10-29 16:25:43] ax.service.utils.report_utils: Column reason missing for all trials. Not appending column.\n",
      "[INFO 10-29 16:25:43] ax.service.ax_client: Completed trial 15 with data: {'t1': (3.96791, None)}.\n",
      "[INFO 10-29 16:25:43] ax.service.ax_client: Saved JSON-serialized state of optimization to `/Users/thomasdodd/Library/CloudStorage/OneDrive-MillfieldEnterprisesLimited/Cambridge/GitHub/BO4ACST/Notebooks/Optimisation/Method20241028Dim2_qLogNoisyExpectedImprovement/AxExperiment.json`.\n",
      "[WARNING 10-29 16:25:43] ax.service.utils.report_utils: Column reason missing for all trials. Not appending column.\n",
      "[WARNING 10-29 16:25:43] ax.service.utils.report_utils: Column reason missing for all trials. Not appending column.\n"
     ]
    },
    {
     "name": "stdout",
     "output_type": "stream",
     "text": [
      "There are no trials currently running - initialising Bayesian iteration trials.\n"
     ]
    },
    {
     "name": "stderr",
     "output_type": "stream",
     "text": [
      "[INFO 10-29 16:25:52] ax.service.ax_client: Generated new trial 16 with parameters {'x1': 0.022742, 'x2': 3.979538} using model BoTorch.\n",
      "[INFO 10-29 16:25:52] ax.service.ax_client: Saved JSON-serialized state of optimization to `/Users/thomasdodd/Library/CloudStorage/OneDrive-MillfieldEnterprisesLimited/Cambridge/GitHub/BO4ACST/Notebooks/Optimisation/Method20241028Dim2_qLogNoisyExpectedImprovement/AxExperiment.json`.\n",
      "/Users/thomasdodd/miniconda3/envs/BO4ACST_env/lib/python3.11/site-packages/ax/core/data.py:288: FutureWarning: The behavior of DataFrame concatenation with empty or all-NA entries is deprecated. In a future version, this will no longer exclude empty or all-NA columns when determining the result dtypes. To retain the old behavior, exclude the relevant entries before the concat operation.\n",
      "  return cls(df=pd.concat(dfs, axis=0, sort=True))\n",
      "[WARNING 10-29 16:25:52] ax.service.utils.report_utils: Column reason missing for all trials. Not appending column.\n",
      "/Users/thomasdodd/miniconda3/envs/BO4ACST_env/lib/python3.11/site-packages/ax/core/data.py:288: FutureWarning: The behavior of DataFrame concatenation with empty or all-NA entries is deprecated. In a future version, this will no longer exclude empty or all-NA columns when determining the result dtypes. To retain the old behavior, exclude the relevant entries before the concat operation.\n",
      "  return cls(df=pd.concat(dfs, axis=0, sort=True))\n",
      "[WARNING 10-29 16:25:52] ax.service.utils.report_utils: Column reason missing for all trials. Not appending column.\n",
      "[INFO 10-29 16:25:52] ax.service.ax_client: Completed trial 16 with data: {'t1': (1.914548, None)}.\n",
      "[INFO 10-29 16:25:52] ax.service.ax_client: Saved JSON-serialized state of optimization to `/Users/thomasdodd/Library/CloudStorage/OneDrive-MillfieldEnterprisesLimited/Cambridge/GitHub/BO4ACST/Notebooks/Optimisation/Method20241028Dim2_qLogNoisyExpectedImprovement/AxExperiment.json`.\n",
      "[WARNING 10-29 16:25:52] ax.service.utils.report_utils: Column reason missing for all trials. Not appending column.\n",
      "[WARNING 10-29 16:25:52] ax.service.utils.report_utils: Column reason missing for all trials. Not appending column.\n"
     ]
    },
    {
     "name": "stdout",
     "output_type": "stream",
     "text": [
      "There are no trials currently running - initialising Bayesian iteration trials.\n"
     ]
    },
    {
     "name": "stderr",
     "output_type": "stream",
     "text": [
      "[INFO 10-29 16:26:05] ax.service.ax_client: Generated new trial 17 with parameters {'x1': 1.552042, 'x2': 2.053049} using model BoTorch.\n",
      "[INFO 10-29 16:26:05] ax.service.ax_client: Saved JSON-serialized state of optimization to `/Users/thomasdodd/Library/CloudStorage/OneDrive-MillfieldEnterprisesLimited/Cambridge/GitHub/BO4ACST/Notebooks/Optimisation/Method20241028Dim2_qLogNoisyExpectedImprovement/AxExperiment.json`.\n",
      "/Users/thomasdodd/miniconda3/envs/BO4ACST_env/lib/python3.11/site-packages/ax/core/data.py:288: FutureWarning: The behavior of DataFrame concatenation with empty or all-NA entries is deprecated. In a future version, this will no longer exclude empty or all-NA columns when determining the result dtypes. To retain the old behavior, exclude the relevant entries before the concat operation.\n",
      "  return cls(df=pd.concat(dfs, axis=0, sort=True))\n",
      "[WARNING 10-29 16:26:05] ax.service.utils.report_utils: Column reason missing for all trials. Not appending column.\n",
      "/Users/thomasdodd/miniconda3/envs/BO4ACST_env/lib/python3.11/site-packages/ax/core/data.py:288: FutureWarning: The behavior of DataFrame concatenation with empty or all-NA entries is deprecated. In a future version, this will no longer exclude empty or all-NA columns when determining the result dtypes. To retain the old behavior, exclude the relevant entries before the concat operation.\n",
      "  return cls(df=pd.concat(dfs, axis=0, sort=True))\n",
      "[WARNING 10-29 16:26:05] ax.service.utils.report_utils: Column reason missing for all trials. Not appending column.\n",
      "[INFO 10-29 16:26:05] ax.service.ax_client: Completed trial 17 with data: {'t1': (1.825279, None)}.\n",
      "[INFO 10-29 16:26:05] ax.service.ax_client: Saved JSON-serialized state of optimization to `/Users/thomasdodd/Library/CloudStorage/OneDrive-MillfieldEnterprisesLimited/Cambridge/GitHub/BO4ACST/Notebooks/Optimisation/Method20241028Dim2_qLogNoisyExpectedImprovement/AxExperiment.json`.\n",
      "[WARNING 10-29 16:26:05] ax.service.utils.report_utils: Column reason missing for all trials. Not appending column.\n",
      "[WARNING 10-29 16:26:05] ax.service.utils.report_utils: Column reason missing for all trials. Not appending column.\n"
     ]
    },
    {
     "name": "stdout",
     "output_type": "stream",
     "text": [
      "There are no trials currently running - initialising Bayesian iteration trials.\n"
     ]
    },
    {
     "name": "stderr",
     "output_type": "stream",
     "text": [
      "[INFO 10-29 16:26:21] ax.service.ax_client: Generated new trial 18 with parameters {'x1': 0.455409, 'x2': 3.058694} using model BoTorch.\n",
      "[INFO 10-29 16:26:21] ax.service.ax_client: Saved JSON-serialized state of optimization to `/Users/thomasdodd/Library/CloudStorage/OneDrive-MillfieldEnterprisesLimited/Cambridge/GitHub/BO4ACST/Notebooks/Optimisation/Method20241028Dim2_qLogNoisyExpectedImprovement/AxExperiment.json`.\n",
      "/Users/thomasdodd/miniconda3/envs/BO4ACST_env/lib/python3.11/site-packages/ax/core/data.py:288: FutureWarning: The behavior of DataFrame concatenation with empty or all-NA entries is deprecated. In a future version, this will no longer exclude empty or all-NA columns when determining the result dtypes. To retain the old behavior, exclude the relevant entries before the concat operation.\n",
      "  return cls(df=pd.concat(dfs, axis=0, sort=True))\n",
      "[WARNING 10-29 16:26:21] ax.service.utils.report_utils: Column reason missing for all trials. Not appending column.\n",
      "/Users/thomasdodd/miniconda3/envs/BO4ACST_env/lib/python3.11/site-packages/ax/core/data.py:288: FutureWarning: The behavior of DataFrame concatenation with empty or all-NA entries is deprecated. In a future version, this will no longer exclude empty or all-NA columns when determining the result dtypes. To retain the old behavior, exclude the relevant entries before the concat operation.\n",
      "  return cls(df=pd.concat(dfs, axis=0, sort=True))\n",
      "[WARNING 10-29 16:26:21] ax.service.utils.report_utils: Column reason missing for all trials. Not appending column.\n",
      "[INFO 10-29 16:26:21] ax.service.ax_client: Completed trial 18 with data: {'t1': (1.244409, None)}.\n",
      "[INFO 10-29 16:26:21] ax.service.ax_client: Saved JSON-serialized state of optimization to `/Users/thomasdodd/Library/CloudStorage/OneDrive-MillfieldEnterprisesLimited/Cambridge/GitHub/BO4ACST/Notebooks/Optimisation/Method20241028Dim2_qLogNoisyExpectedImprovement/AxExperiment.json`.\n",
      "[WARNING 10-29 16:26:21] ax.service.utils.report_utils: Column reason missing for all trials. Not appending column.\n",
      "[WARNING 10-29 16:26:21] ax.service.utils.report_utils: Column reason missing for all trials. Not appending column.\n"
     ]
    },
    {
     "name": "stdout",
     "output_type": "stream",
     "text": [
      "There are no trials currently running - initialising Bayesian iteration trials.\n"
     ]
    },
    {
     "name": "stderr",
     "output_type": "stream",
     "text": [
      "[INFO 10-29 16:26:30] ax.service.ax_client: Generated new trial 19 with parameters {'x1': -0.136655, 'x2': 3.275017} using model BoTorch.\n",
      "[INFO 10-29 16:26:30] ax.service.ax_client: Saved JSON-serialized state of optimization to `/Users/thomasdodd/Library/CloudStorage/OneDrive-MillfieldEnterprisesLimited/Cambridge/GitHub/BO4ACST/Notebooks/Optimisation/Method20241028Dim2_qLogNoisyExpectedImprovement/AxExperiment.json`.\n",
      "/Users/thomasdodd/miniconda3/envs/BO4ACST_env/lib/python3.11/site-packages/ax/core/data.py:288: FutureWarning: The behavior of DataFrame concatenation with empty or all-NA entries is deprecated. In a future version, this will no longer exclude empty or all-NA columns when determining the result dtypes. To retain the old behavior, exclude the relevant entries before the concat operation.\n",
      "  return cls(df=pd.concat(dfs, axis=0, sort=True))\n",
      "[WARNING 10-29 16:26:30] ax.service.utils.report_utils: Column reason missing for all trials. Not appending column.\n",
      "/Users/thomasdodd/miniconda3/envs/BO4ACST_env/lib/python3.11/site-packages/ax/core/data.py:288: FutureWarning: The behavior of DataFrame concatenation with empty or all-NA entries is deprecated. In a future version, this will no longer exclude empty or all-NA columns when determining the result dtypes. To retain the old behavior, exclude the relevant entries before the concat operation.\n",
      "  return cls(df=pd.concat(dfs, axis=0, sort=True))\n",
      "[WARNING 10-29 16:26:30] ax.service.utils.report_utils: Column reason missing for all trials. Not appending column.\n",
      "[INFO 10-29 16:26:30] ax.service.ax_client: Completed trial 19 with data: {'t1': (4.3373, None)}.\n",
      "[INFO 10-29 16:26:30] ax.service.ax_client: Saved JSON-serialized state of optimization to `/Users/thomasdodd/Library/CloudStorage/OneDrive-MillfieldEnterprisesLimited/Cambridge/GitHub/BO4ACST/Notebooks/Optimisation/Method20241028Dim2_qLogNoisyExpectedImprovement/AxExperiment.json`.\n",
      "[WARNING 10-29 16:26:30] ax.service.utils.report_utils: Column reason missing for all trials. Not appending column.\n",
      "[WARNING 10-29 16:26:30] ax.service.utils.report_utils: Column reason missing for all trials. Not appending column.\n"
     ]
    },
    {
     "name": "stdout",
     "output_type": "stream",
     "text": [
      "There are no trials currently running - initialising Bayesian iteration trials.\n"
     ]
    },
    {
     "name": "stderr",
     "output_type": "stream",
     "text": [
      "[INFO 10-29 16:26:38] ax.service.ax_client: Generated new trial 20 with parameters {'x1': 0.956138, 'x2': 2.644412} using model BoTorch.\n",
      "[INFO 10-29 16:26:38] ax.service.ax_client: Saved JSON-serialized state of optimization to `/Users/thomasdodd/Library/CloudStorage/OneDrive-MillfieldEnterprisesLimited/Cambridge/GitHub/BO4ACST/Notebooks/Optimisation/Method20241028Dim2_qLogNoisyExpectedImprovement/AxExperiment.json`.\n",
      "/Users/thomasdodd/miniconda3/envs/BO4ACST_env/lib/python3.11/site-packages/ax/core/data.py:288: FutureWarning: The behavior of DataFrame concatenation with empty or all-NA entries is deprecated. In a future version, this will no longer exclude empty or all-NA columns when determining the result dtypes. To retain the old behavior, exclude the relevant entries before the concat operation.\n",
      "  return cls(df=pd.concat(dfs, axis=0, sort=True))\n",
      "[WARNING 10-29 16:26:38] ax.service.utils.report_utils: Column reason missing for all trials. Not appending column.\n",
      "/Users/thomasdodd/miniconda3/envs/BO4ACST_env/lib/python3.11/site-packages/ax/core/data.py:288: FutureWarning: The behavior of DataFrame concatenation with empty or all-NA entries is deprecated. In a future version, this will no longer exclude empty or all-NA columns when determining the result dtypes. To retain the old behavior, exclude the relevant entries before the concat operation.\n",
      "  return cls(df=pd.concat(dfs, axis=0, sort=True))\n",
      "[WARNING 10-29 16:26:38] ax.service.utils.report_utils: Column reason missing for all trials. Not appending column.\n",
      "[INFO 10-29 16:26:38] ax.service.ax_client: Completed trial 20 with data: {'t1': (0.76661, None)}.\n",
      "[INFO 10-29 16:26:38] ax.service.ax_client: Saved JSON-serialized state of optimization to `/Users/thomasdodd/Library/CloudStorage/OneDrive-MillfieldEnterprisesLimited/Cambridge/GitHub/BO4ACST/Notebooks/Optimisation/Method20241028Dim2_qLogNoisyExpectedImprovement/AxExperiment.json`.\n",
      "[WARNING 10-29 16:26:38] ax.service.utils.report_utils: Column reason missing for all trials. Not appending column.\n",
      "[WARNING 10-29 16:26:38] ax.service.utils.report_utils: Column reason missing for all trials. Not appending column.\n"
     ]
    },
    {
     "name": "stdout",
     "output_type": "stream",
     "text": [
      "There are no trials currently running - initialising Bayesian iteration trials.\n"
     ]
    },
    {
     "name": "stderr",
     "output_type": "stream",
     "text": [
      "[INFO 10-29 16:26:50] ax.service.ax_client: Generated new trial 21 with parameters {'x1': 1.099229, 'x2': 2.246398} using model BoTorch.\n",
      "[INFO 10-29 16:26:50] ax.service.ax_client: Saved JSON-serialized state of optimization to `/Users/thomasdodd/Library/CloudStorage/OneDrive-MillfieldEnterprisesLimited/Cambridge/GitHub/BO4ACST/Notebooks/Optimisation/Method20241028Dim2_qLogNoisyExpectedImprovement/AxExperiment.json`.\n",
      "/Users/thomasdodd/miniconda3/envs/BO4ACST_env/lib/python3.11/site-packages/ax/core/data.py:288: FutureWarning: The behavior of DataFrame concatenation with empty or all-NA entries is deprecated. In a future version, this will no longer exclude empty or all-NA columns when determining the result dtypes. To retain the old behavior, exclude the relevant entries before the concat operation.\n",
      "  return cls(df=pd.concat(dfs, axis=0, sort=True))\n",
      "[WARNING 10-29 16:26:50] ax.service.utils.report_utils: Column reason missing for all trials. Not appending column.\n",
      "/Users/thomasdodd/miniconda3/envs/BO4ACST_env/lib/python3.11/site-packages/ax/core/data.py:288: FutureWarning: The behavior of DataFrame concatenation with empty or all-NA entries is deprecated. In a future version, this will no longer exclude empty or all-NA columns when determining the result dtypes. To retain the old behavior, exclude the relevant entries before the concat operation.\n",
      "  return cls(df=pd.concat(dfs, axis=0, sort=True))\n",
      "[WARNING 10-29 16:26:50] ax.service.utils.report_utils: Column reason missing for all trials. Not appending column.\n",
      "[INFO 10-29 16:26:50] ax.service.ax_client: Completed trial 21 with data: {'t1': (2.290575, None)}.\n",
      "[INFO 10-29 16:26:50] ax.service.ax_client: Saved JSON-serialized state of optimization to `/Users/thomasdodd/Library/CloudStorage/OneDrive-MillfieldEnterprisesLimited/Cambridge/GitHub/BO4ACST/Notebooks/Optimisation/Method20241028Dim2_qLogNoisyExpectedImprovement/AxExperiment.json`.\n",
      "[WARNING 10-29 16:26:50] ax.service.utils.report_utils: Column reason missing for all trials. Not appending column.\n",
      "[WARNING 10-29 16:26:50] ax.service.utils.report_utils: Column reason missing for all trials. Not appending column.\n"
     ]
    },
    {
     "name": "stdout",
     "output_type": "stream",
     "text": [
      "There are no trials currently running - initialising Bayesian iteration trials.\n"
     ]
    },
    {
     "name": "stderr",
     "output_type": "stream",
     "text": [
      "[INFO 10-29 16:27:07] ax.service.ax_client: Generated new trial 22 with parameters {'x1': 0.481028, 'x2': 3.293439} using model BoTorch.\n",
      "[INFO 10-29 16:27:07] ax.service.ax_client: Saved JSON-serialized state of optimization to `/Users/thomasdodd/Library/CloudStorage/OneDrive-MillfieldEnterprisesLimited/Cambridge/GitHub/BO4ACST/Notebooks/Optimisation/Method20241028Dim2_qLogNoisyExpectedImprovement/AxExperiment.json`.\n",
      "/Users/thomasdodd/miniconda3/envs/BO4ACST_env/lib/python3.11/site-packages/ax/core/data.py:288: FutureWarning: The behavior of DataFrame concatenation with empty or all-NA entries is deprecated. In a future version, this will no longer exclude empty or all-NA columns when determining the result dtypes. To retain the old behavior, exclude the relevant entries before the concat operation.\n",
      "  return cls(df=pd.concat(dfs, axis=0, sort=True))\n",
      "[WARNING 10-29 16:27:07] ax.service.utils.report_utils: Column reason missing for all trials. Not appending column.\n",
      "/Users/thomasdodd/miniconda3/envs/BO4ACST_env/lib/python3.11/site-packages/ax/core/data.py:288: FutureWarning: The behavior of DataFrame concatenation with empty or all-NA entries is deprecated. In a future version, this will no longer exclude empty or all-NA columns when determining the result dtypes. To retain the old behavior, exclude the relevant entries before the concat operation.\n",
      "  return cls(df=pd.concat(dfs, axis=0, sort=True))\n",
      "[WARNING 10-29 16:27:07] ax.service.utils.report_utils: Column reason missing for all trials. Not appending column.\n",
      "[INFO 10-29 16:27:07] ax.service.ax_client: Completed trial 22 with data: {'t1': (0.558898, None)}.\n",
      "[INFO 10-29 16:27:07] ax.service.ax_client: Saved JSON-serialized state of optimization to `/Users/thomasdodd/Library/CloudStorage/OneDrive-MillfieldEnterprisesLimited/Cambridge/GitHub/BO4ACST/Notebooks/Optimisation/Method20241028Dim2_qLogNoisyExpectedImprovement/AxExperiment.json`.\n",
      "[WARNING 10-29 16:27:07] ax.service.utils.report_utils: Column reason missing for all trials. Not appending column.\n",
      "[WARNING 10-29 16:27:07] ax.service.utils.report_utils: Column reason missing for all trials. Not appending column.\n"
     ]
    },
    {
     "name": "stdout",
     "output_type": "stream",
     "text": [
      "There are no trials currently running - initialising Bayesian iteration trials.\n"
     ]
    },
    {
     "name": "stderr",
     "output_type": "stream",
     "text": [
      "/Users/thomasdodd/miniconda3/envs/BO4ACST_env/lib/python3.11/site-packages/botorch/optim/optimize.py:568: RuntimeWarning: Optimization failed in `gen_candidates_scipy` with the following warning(s):\n",
      "[OptimizationWarning('Optimization failed within `scipy.optimize.minimize` with status 2 and message ABNORMAL_TERMINATION_IN_LNSRCH.')]\n",
      "Trying again with a new set of initial conditions.\n",
      "  return _optimize_acqf_batch(opt_inputs=opt_inputs)\n",
      "[INFO 10-29 16:27:36] ax.service.ax_client: Generated new trial 23 with parameters {'x1': 0.588686, 'x2': 2.711192} using model BoTorch.\n",
      "[INFO 10-29 16:27:36] ax.service.ax_client: Saved JSON-serialized state of optimization to `/Users/thomasdodd/Library/CloudStorage/OneDrive-MillfieldEnterprisesLimited/Cambridge/GitHub/BO4ACST/Notebooks/Optimisation/Method20241028Dim2_qLogNoisyExpectedImprovement/AxExperiment.json`.\n",
      "/Users/thomasdodd/miniconda3/envs/BO4ACST_env/lib/python3.11/site-packages/ax/core/data.py:288: FutureWarning: The behavior of DataFrame concatenation with empty or all-NA entries is deprecated. In a future version, this will no longer exclude empty or all-NA columns when determining the result dtypes. To retain the old behavior, exclude the relevant entries before the concat operation.\n",
      "  return cls(df=pd.concat(dfs, axis=0, sort=True))\n",
      "[WARNING 10-29 16:27:36] ax.service.utils.report_utils: Column reason missing for all trials. Not appending column.\n",
      "/Users/thomasdodd/miniconda3/envs/BO4ACST_env/lib/python3.11/site-packages/ax/core/data.py:288: FutureWarning: The behavior of DataFrame concatenation with empty or all-NA entries is deprecated. In a future version, this will no longer exclude empty or all-NA columns when determining the result dtypes. To retain the old behavior, exclude the relevant entries before the concat operation.\n",
      "  return cls(df=pd.concat(dfs, axis=0, sort=True))\n",
      "[WARNING 10-29 16:27:36] ax.service.utils.report_utils: Column reason missing for all trials. Not appending column.\n",
      "[INFO 10-29 16:27:36] ax.service.ax_client: Completed trial 23 with data: {'t1': (2.213271, None)}.\n",
      "[INFO 10-29 16:27:36] ax.service.ax_client: Saved JSON-serialized state of optimization to `/Users/thomasdodd/Library/CloudStorage/OneDrive-MillfieldEnterprisesLimited/Cambridge/GitHub/BO4ACST/Notebooks/Optimisation/Method20241028Dim2_qLogNoisyExpectedImprovement/AxExperiment.json`.\n",
      "[WARNING 10-29 16:27:36] ax.service.utils.report_utils: Column reason missing for all trials. Not appending column.\n",
      "[INFO 10-29 16:27:36] ax.service.ax_client: Starting optimization with verbose logging. To disable logging, set the `verbose_logging` argument to `False`. Note that float values in the logs are rounded to 6 decimal points.\n",
      "[INFO 10-29 16:27:36] ax.service.utils.instantiation: Created search space: SearchSpace(parameters=[RangeParameter(name='x1', parameter_type=FLOAT, range=[-10.0, 10.0]), RangeParameter(name='x2', parameter_type=FLOAT, range=[-10.0, 10.0])], parameter_constraints=[]).\n",
      "[INFO 10-29 16:27:36] ax.service.ax_client: Saved JSON-serialized state of optimization to `/Users/thomasdodd/Library/CloudStorage/OneDrive-MillfieldEnterprisesLimited/Cambridge/GitHub/BO4ACST/Notebooks/Optimisation/Method20241028Dim2_qLogNoisyExpectedImprovement/AxExperiment.json`.\n",
      "[INFO 10-29 16:27:36] ax.core.experiment: Attached custom parameterizations [{'x1': -10.0, 'x2': -10.0}] as trial 0.\n",
      "[INFO 10-29 16:27:36] ax.core.experiment: Attached custom parameterizations [{'x1': 0.0, 'x2': -10.0}] as trial 1.\n",
      "[INFO 10-29 16:27:36] ax.core.experiment: Attached custom parameterizations [{'x1': 10.0, 'x2': -10.0}] as trial 2.\n",
      "[INFO 10-29 16:27:36] ax.core.experiment: Attached custom parameterizations [{'x1': -10.0, 'x2': 0.0}] as trial 3.\n",
      "[INFO 10-29 16:27:36] ax.core.experiment: Attached custom parameterizations [{'x1': 0.0, 'x2': 0.0}] as trial 4.\n",
      "[INFO 10-29 16:27:36] ax.core.experiment: Attached custom parameterizations [{'x1': 10.0, 'x2': 0.0}] as trial 5.\n",
      "[INFO 10-29 16:27:36] ax.core.experiment: Attached custom parameterizations [{'x1': -10.0, 'x2': 10.0}] as trial 6.\n",
      "[INFO 10-29 16:27:36] ax.core.experiment: Attached custom parameterizations [{'x1': 0.0, 'x2': 10.0}] as trial 7.\n",
      "[INFO 10-29 16:27:36] ax.core.experiment: Attached custom parameterizations [{'x1': 10.0, 'x2': 10.0}] as trial 8.\n",
      "[INFO 10-29 16:27:36] ax.service.ax_client: Saved JSON-serialized state of optimization to `/Users/thomasdodd/Library/CloudStorage/OneDrive-MillfieldEnterprisesLimited/Cambridge/GitHub/BO4ACST/Notebooks/Optimisation/Method20241028Dim2_qLogNoisyExpectedImprovement/AxExperiment.json`.\n",
      "[WARNING 10-29 16:27:36] ax.service.utils.report_utils: Column reason missing for all trials. Not appending column.\n",
      "[INFO 10-29 16:27:36] ax.service.utils.report_utils: No results present for the specified metrics `[Metric('t1')]`. Returning arm parameters and metadata only.\n",
      "[WARNING 10-29 16:27:36] ax.service.utils.report_utils: Column reason missing for all trials. Not appending column.\n",
      "[INFO 10-29 16:27:36] ax.service.utils.report_utils: No results present for the specified metrics `[Metric('t1')]`. Returning arm parameters and metadata only.\n",
      "[INFO 10-29 16:27:36] ax.service.ax_client: Completed trial 0 with data: {'t1': (2594.0, None)}.\n",
      "[INFO 10-29 16:27:36] ax.service.ax_client: Saved JSON-serialized state of optimization to `/Users/thomasdodd/Library/CloudStorage/OneDrive-MillfieldEnterprisesLimited/Cambridge/GitHub/BO4ACST/Notebooks/Optimisation/Method20241028Dim2_qLogNoisyExpectedImprovement/AxExperiment.json`.\n",
      "[INFO 10-29 16:27:36] ax.service.ax_client: Completed trial 1 with data: {'t1': (954.0, None)}.\n",
      "[INFO 10-29 16:27:36] ax.service.ax_client: Saved JSON-serialized state of optimization to `/Users/thomasdodd/Library/CloudStorage/OneDrive-MillfieldEnterprisesLimited/Cambridge/GitHub/BO4ACST/Notebooks/Optimisation/Method20241028Dim2_qLogNoisyExpectedImprovement/AxExperiment.json`.\n",
      "[INFO 10-29 16:27:36] ax.service.ax_client: Completed trial 2 with data: {'t1': (314.0, None)}.\n",
      "[INFO 10-29 16:27:36] ax.service.ax_client: Saved JSON-serialized state of optimization to `/Users/thomasdodd/Library/CloudStorage/OneDrive-MillfieldEnterprisesLimited/Cambridge/GitHub/BO4ACST/Notebooks/Optimisation/Method20241028Dim2_qLogNoisyExpectedImprovement/AxExperiment.json`.\n",
      "[INFO 10-29 16:27:36] ax.service.ax_client: Completed trial 3 with data: {'t1': (914.0, None)}.\n",
      "[INFO 10-29 16:27:36] ax.service.ax_client: Saved JSON-serialized state of optimization to `/Users/thomasdodd/Library/CloudStorage/OneDrive-MillfieldEnterprisesLimited/Cambridge/GitHub/BO4ACST/Notebooks/Optimisation/Method20241028Dim2_qLogNoisyExpectedImprovement/AxExperiment.json`.\n",
      "[INFO 10-29 16:27:36] ax.service.ax_client: Completed trial 4 with data: {'t1': (74.0, None)}.\n",
      "[INFO 10-29 16:27:36] ax.service.ax_client: Saved JSON-serialized state of optimization to `/Users/thomasdodd/Library/CloudStorage/OneDrive-MillfieldEnterprisesLimited/Cambridge/GitHub/BO4ACST/Notebooks/Optimisation/Method20241028Dim2_qLogNoisyExpectedImprovement/AxExperiment.json`.\n",
      "[INFO 10-29 16:27:36] ax.service.ax_client: Completed trial 5 with data: {'t1': (234.0, None)}.\n",
      "[INFO 10-29 16:27:36] ax.service.ax_client: Saved JSON-serialized state of optimization to `/Users/thomasdodd/Library/CloudStorage/OneDrive-MillfieldEnterprisesLimited/Cambridge/GitHub/BO4ACST/Notebooks/Optimisation/Method20241028Dim2_qLogNoisyExpectedImprovement/AxExperiment.json`.\n",
      "[INFO 10-29 16:27:36] ax.service.ax_client: Completed trial 6 with data: {'t1': (234.0, None)}.\n",
      "[INFO 10-29 16:27:36] ax.service.ax_client: Saved JSON-serialized state of optimization to `/Users/thomasdodd/Library/CloudStorage/OneDrive-MillfieldEnterprisesLimited/Cambridge/GitHub/BO4ACST/Notebooks/Optimisation/Method20241028Dim2_qLogNoisyExpectedImprovement/AxExperiment.json`.\n",
      "[INFO 10-29 16:27:36] ax.service.ax_client: Completed trial 7 with data: {'t1': (194.0, None)}.\n",
      "[INFO 10-29 16:27:36] ax.service.ax_client: Saved JSON-serialized state of optimization to `/Users/thomasdodd/Library/CloudStorage/OneDrive-MillfieldEnterprisesLimited/Cambridge/GitHub/BO4ACST/Notebooks/Optimisation/Method20241028Dim2_qLogNoisyExpectedImprovement/AxExperiment.json`.\n",
      "[INFO 10-29 16:27:36] ax.service.ax_client: Completed trial 8 with data: {'t1': (1154.0, None)}.\n",
      "[INFO 10-29 16:27:36] ax.service.ax_client: Saved JSON-serialized state of optimization to `/Users/thomasdodd/Library/CloudStorage/OneDrive-MillfieldEnterprisesLimited/Cambridge/GitHub/BO4ACST/Notebooks/Optimisation/Method20241028Dim2_qLogNoisyExpectedImprovement/AxExperiment.json`.\n",
      "[WARNING 10-29 16:27:36] ax.service.utils.report_utils: Column reason missing for all trials. Not appending column.\n",
      "[WARNING 10-29 16:27:36] ax.service.utils.report_utils: Column reason missing for all trials. Not appending column.\n"
     ]
    },
    {
     "name": "stdout",
     "output_type": "stream",
     "text": [
      "[74.         24.01660012 24.01660012  0.29171598  0.29171598  0.29171598\n",
      "  0.29171598  0.29171598  0.29171598  0.29171598  0.29171598  0.29171598\n",
      "  0.29171598  0.29171598  0.29171598  0.29171598]\n",
      "A new experiment has been created and initialised.\n",
      "No previous or current trials detected - initialising prior-forming trials.\n",
      "Samples gridded = 9\n",
      "There are no trials currently running - initialising Bayesian iteration trials.\n"
     ]
    },
    {
     "name": "stderr",
     "output_type": "stream",
     "text": [
      "[INFO 10-29 16:27:43] ax.service.ax_client: Generated new trial 9 with parameters {'x1': -2.66588, 'x2': 5.820309} using model BoTorch.\n",
      "[INFO 10-29 16:27:43] ax.service.ax_client: Saved JSON-serialized state of optimization to `/Users/thomasdodd/Library/CloudStorage/OneDrive-MillfieldEnterprisesLimited/Cambridge/GitHub/BO4ACST/Notebooks/Optimisation/Method20241028Dim2_qLogNoisyExpectedImprovement/AxExperiment.json`.\n",
      "/Users/thomasdodd/miniconda3/envs/BO4ACST_env/lib/python3.11/site-packages/ax/core/data.py:288: FutureWarning: The behavior of DataFrame concatenation with empty or all-NA entries is deprecated. In a future version, this will no longer exclude empty or all-NA columns when determining the result dtypes. To retain the old behavior, exclude the relevant entries before the concat operation.\n",
      "  return cls(df=pd.concat(dfs, axis=0, sort=True))\n",
      "[WARNING 10-29 16:27:43] ax.service.utils.report_utils: Column reason missing for all trials. Not appending column.\n",
      "/Users/thomasdodd/miniconda3/envs/BO4ACST_env/lib/python3.11/site-packages/ax/core/data.py:288: FutureWarning: The behavior of DataFrame concatenation with empty or all-NA entries is deprecated. In a future version, this will no longer exclude empty or all-NA columns when determining the result dtypes. To retain the old behavior, exclude the relevant entries before the concat operation.\n",
      "  return cls(df=pd.concat(dfs, axis=0, sort=True))\n",
      "[WARNING 10-29 16:27:43] ax.service.utils.report_utils: Column reason missing for all trials. Not appending column.\n",
      "[INFO 10-29 16:27:43] ax.service.ax_client: Completed trial 9 with data: {'t1': (24.252786, None)}.\n",
      "[INFO 10-29 16:27:43] ax.service.ax_client: Saved JSON-serialized state of optimization to `/Users/thomasdodd/Library/CloudStorage/OneDrive-MillfieldEnterprisesLimited/Cambridge/GitHub/BO4ACST/Notebooks/Optimisation/Method20241028Dim2_qLogNoisyExpectedImprovement/AxExperiment.json`.\n",
      "[WARNING 10-29 16:27:43] ax.service.utils.report_utils: Column reason missing for all trials. Not appending column.\n",
      "[WARNING 10-29 16:27:43] ax.service.utils.report_utils: Column reason missing for all trials. Not appending column.\n"
     ]
    },
    {
     "name": "stdout",
     "output_type": "stream",
     "text": [
      "There are no trials currently running - initialising Bayesian iteration trials.\n"
     ]
    },
    {
     "name": "stderr",
     "output_type": "stream",
     "text": [
      "[INFO 10-29 16:27:45] ax.service.ax_client: Generated new trial 10 with parameters {'x1': 4.932555, 'x2': -1.668797} using model BoTorch.\n",
      "[INFO 10-29 16:27:45] ax.service.ax_client: Saved JSON-serialized state of optimization to `/Users/thomasdodd/Library/CloudStorage/OneDrive-MillfieldEnterprisesLimited/Cambridge/GitHub/BO4ACST/Notebooks/Optimisation/Method20241028Dim2_qLogNoisyExpectedImprovement/AxExperiment.json`.\n",
      "/Users/thomasdodd/miniconda3/envs/BO4ACST_env/lib/python3.11/site-packages/ax/core/data.py:288: FutureWarning: The behavior of DataFrame concatenation with empty or all-NA entries is deprecated. In a future version, this will no longer exclude empty or all-NA columns when determining the result dtypes. To retain the old behavior, exclude the relevant entries before the concat operation.\n",
      "  return cls(df=pd.concat(dfs, axis=0, sort=True))\n",
      "[WARNING 10-29 16:27:45] ax.service.utils.report_utils: Column reason missing for all trials. Not appending column.\n",
      "/Users/thomasdodd/miniconda3/envs/BO4ACST_env/lib/python3.11/site-packages/ax/core/data.py:288: FutureWarning: The behavior of DataFrame concatenation with empty or all-NA entries is deprecated. In a future version, this will no longer exclude empty or all-NA columns when determining the result dtypes. To retain the old behavior, exclude the relevant entries before the concat operation.\n",
      "  return cls(df=pd.concat(dfs, axis=0, sort=True))\n",
      "[WARNING 10-29 16:27:45] ax.service.utils.report_utils: Column reason missing for all trials. Not appending column.\n",
      "[INFO 10-29 16:27:45] ax.service.ax_client: Completed trial 10 with data: {'t1': (39.430868, None)}.\n",
      "[INFO 10-29 16:27:45] ax.service.ax_client: Saved JSON-serialized state of optimization to `/Users/thomasdodd/Library/CloudStorage/OneDrive-MillfieldEnterprisesLimited/Cambridge/GitHub/BO4ACST/Notebooks/Optimisation/Method20241028Dim2_qLogNoisyExpectedImprovement/AxExperiment.json`.\n",
      "[WARNING 10-29 16:27:45] ax.service.utils.report_utils: Column reason missing for all trials. Not appending column.\n",
      "[WARNING 10-29 16:27:45] ax.service.utils.report_utils: Column reason missing for all trials. Not appending column.\n"
     ]
    },
    {
     "name": "stdout",
     "output_type": "stream",
     "text": [
      "There are no trials currently running - initialising Bayesian iteration trials.\n"
     ]
    },
    {
     "name": "stderr",
     "output_type": "stream",
     "text": [
      "[INFO 10-29 16:27:48] ax.service.ax_client: Generated new trial 11 with parameters {'x1': 1.392791, 'x2': 2.804884} using model BoTorch.\n",
      "[INFO 10-29 16:27:48] ax.service.ax_client: Saved JSON-serialized state of optimization to `/Users/thomasdodd/Library/CloudStorage/OneDrive-MillfieldEnterprisesLimited/Cambridge/GitHub/BO4ACST/Notebooks/Optimisation/Method20241028Dim2_qLogNoisyExpectedImprovement/AxExperiment.json`.\n",
      "/Users/thomasdodd/miniconda3/envs/BO4ACST_env/lib/python3.11/site-packages/ax/core/data.py:288: FutureWarning: The behavior of DataFrame concatenation with empty or all-NA entries is deprecated. In a future version, this will no longer exclude empty or all-NA columns when determining the result dtypes. To retain the old behavior, exclude the relevant entries before the concat operation.\n",
      "  return cls(df=pd.concat(dfs, axis=0, sort=True))\n",
      "[WARNING 10-29 16:27:48] ax.service.utils.report_utils: Column reason missing for all trials. Not appending column.\n",
      "/Users/thomasdodd/miniconda3/envs/BO4ACST_env/lib/python3.11/site-packages/ax/core/data.py:288: FutureWarning: The behavior of DataFrame concatenation with empty or all-NA entries is deprecated. In a future version, this will no longer exclude empty or all-NA columns when determining the result dtypes. To retain the old behavior, exclude the relevant entries before the concat operation.\n",
      "  return cls(df=pd.concat(dfs, axis=0, sort=True))\n",
      "[WARNING 10-29 16:27:48] ax.service.utils.report_utils: Column reason missing for all trials. Not appending column.\n",
      "[INFO 10-29 16:27:48] ax.service.ax_client: Completed trial 11 with data: {'t1': (0.348656, None)}.\n",
      "[INFO 10-29 16:27:48] ax.service.ax_client: Saved JSON-serialized state of optimization to `/Users/thomasdodd/Library/CloudStorage/OneDrive-MillfieldEnterprisesLimited/Cambridge/GitHub/BO4ACST/Notebooks/Optimisation/Method20241028Dim2_qLogNoisyExpectedImprovement/AxExperiment.json`.\n",
      "[WARNING 10-29 16:27:48] ax.service.utils.report_utils: Column reason missing for all trials. Not appending column.\n",
      "[WARNING 10-29 16:27:48] ax.service.utils.report_utils: Column reason missing for all trials. Not appending column.\n"
     ]
    },
    {
     "name": "stdout",
     "output_type": "stream",
     "text": [
      "There are no trials currently running - initialising Bayesian iteration trials.\n"
     ]
    },
    {
     "name": "stderr",
     "output_type": "stream",
     "text": [
      "[INFO 10-29 16:27:55] ax.service.ax_client: Generated new trial 12 with parameters {'x1': -4.266833, 'x2': 8.169688} using model BoTorch.\n",
      "[INFO 10-29 16:27:55] ax.service.ax_client: Saved JSON-serialized state of optimization to `/Users/thomasdodd/Library/CloudStorage/OneDrive-MillfieldEnterprisesLimited/Cambridge/GitHub/BO4ACST/Notebooks/Optimisation/Method20241028Dim2_qLogNoisyExpectedImprovement/AxExperiment.json`.\n",
      "/Users/thomasdodd/miniconda3/envs/BO4ACST_env/lib/python3.11/site-packages/ax/core/data.py:288: FutureWarning: The behavior of DataFrame concatenation with empty or all-NA entries is deprecated. In a future version, this will no longer exclude empty or all-NA columns when determining the result dtypes. To retain the old behavior, exclude the relevant entries before the concat operation.\n",
      "  return cls(df=pd.concat(dfs, axis=0, sort=True))\n",
      "[WARNING 10-29 16:27:55] ax.service.utils.report_utils: Column reason missing for all trials. Not appending column.\n",
      "/Users/thomasdodd/miniconda3/envs/BO4ACST_env/lib/python3.11/site-packages/ax/core/data.py:288: FutureWarning: The behavior of DataFrame concatenation with empty or all-NA entries is deprecated. In a future version, this will no longer exclude empty or all-NA columns when determining the result dtypes. To retain the old behavior, exclude the relevant entries before the concat operation.\n",
      "  return cls(df=pd.concat(dfs, axis=0, sort=True))\n",
      "[WARNING 10-29 16:27:55] ax.service.utils.report_utils: Column reason missing for all trials. Not appending column.\n",
      "[INFO 10-29 16:27:55] ax.service.ax_client: Completed trial 12 with data: {'t1': (54.50295, None)}.\n",
      "[INFO 10-29 16:27:55] ax.service.ax_client: Saved JSON-serialized state of optimization to `/Users/thomasdodd/Library/CloudStorage/OneDrive-MillfieldEnterprisesLimited/Cambridge/GitHub/BO4ACST/Notebooks/Optimisation/Method20241028Dim2_qLogNoisyExpectedImprovement/AxExperiment.json`.\n",
      "[WARNING 10-29 16:27:55] ax.service.utils.report_utils: Column reason missing for all trials. Not appending column.\n",
      "[WARNING 10-29 16:27:55] ax.service.utils.report_utils: Column reason missing for all trials. Not appending column.\n"
     ]
    },
    {
     "name": "stdout",
     "output_type": "stream",
     "text": [
      "There are no trials currently running - initialising Bayesian iteration trials.\n"
     ]
    },
    {
     "name": "stderr",
     "output_type": "stream",
     "text": [
      "[INFO 10-29 16:28:01] ax.service.ax_client: Generated new trial 13 with parameters {'x1': -0.591592, 'x2': 4.045546} using model BoTorch.\n",
      "[INFO 10-29 16:28:02] ax.service.ax_client: Saved JSON-serialized state of optimization to `/Users/thomasdodd/Library/CloudStorage/OneDrive-MillfieldEnterprisesLimited/Cambridge/GitHub/BO4ACST/Notebooks/Optimisation/Method20241028Dim2_qLogNoisyExpectedImprovement/AxExperiment.json`.\n",
      "/Users/thomasdodd/miniconda3/envs/BO4ACST_env/lib/python3.11/site-packages/ax/core/data.py:288: FutureWarning: The behavior of DataFrame concatenation with empty or all-NA entries is deprecated. In a future version, this will no longer exclude empty or all-NA columns when determining the result dtypes. To retain the old behavior, exclude the relevant entries before the concat operation.\n",
      "  return cls(df=pd.concat(dfs, axis=0, sort=True))\n",
      "[WARNING 10-29 16:28:02] ax.service.utils.report_utils: Column reason missing for all trials. Not appending column.\n",
      "/Users/thomasdodd/miniconda3/envs/BO4ACST_env/lib/python3.11/site-packages/ax/core/data.py:288: FutureWarning: The behavior of DataFrame concatenation with empty or all-NA entries is deprecated. In a future version, this will no longer exclude empty or all-NA columns when determining the result dtypes. To retain the old behavior, exclude the relevant entries before the concat operation.\n",
      "  return cls(df=pd.concat(dfs, axis=0, sort=True))\n",
      "[WARNING 10-29 16:28:02] ax.service.utils.report_utils: Column reason missing for all trials. Not appending column.\n",
      "[INFO 10-29 16:28:02] ax.service.ax_client: Completed trial 13 with data: {'t1': (4.818999, None)}.\n",
      "[INFO 10-29 16:28:02] ax.service.ax_client: Saved JSON-serialized state of optimization to `/Users/thomasdodd/Library/CloudStorage/OneDrive-MillfieldEnterprisesLimited/Cambridge/GitHub/BO4ACST/Notebooks/Optimisation/Method20241028Dim2_qLogNoisyExpectedImprovement/AxExperiment.json`.\n",
      "[WARNING 10-29 16:28:02] ax.service.utils.report_utils: Column reason missing for all trials. Not appending column.\n",
      "[WARNING 10-29 16:28:02] ax.service.utils.report_utils: Column reason missing for all trials. Not appending column.\n"
     ]
    },
    {
     "name": "stdout",
     "output_type": "stream",
     "text": [
      "There are no trials currently running - initialising Bayesian iteration trials.\n"
     ]
    },
    {
     "name": "stderr",
     "output_type": "stream",
     "text": [
      "[INFO 10-29 16:28:09] ax.service.ax_client: Generated new trial 14 with parameters {'x1': 2.486903, 'x2': 0.989464} using model BoTorch.\n",
      "[INFO 10-29 16:28:10] ax.service.ax_client: Saved JSON-serialized state of optimization to `/Users/thomasdodd/Library/CloudStorage/OneDrive-MillfieldEnterprisesLimited/Cambridge/GitHub/BO4ACST/Notebooks/Optimisation/Method20241028Dim2_qLogNoisyExpectedImprovement/AxExperiment.json`.\n",
      "/Users/thomasdodd/miniconda3/envs/BO4ACST_env/lib/python3.11/site-packages/ax/core/data.py:288: FutureWarning: The behavior of DataFrame concatenation with empty or all-NA entries is deprecated. In a future version, this will no longer exclude empty or all-NA columns when determining the result dtypes. To retain the old behavior, exclude the relevant entries before the concat operation.\n",
      "  return cls(df=pd.concat(dfs, axis=0, sort=True))\n",
      "[WARNING 10-29 16:28:10] ax.service.utils.report_utils: Column reason missing for all trials. Not appending column.\n",
      "/Users/thomasdodd/miniconda3/envs/BO4ACST_env/lib/python3.11/site-packages/ax/core/data.py:288: FutureWarning: The behavior of DataFrame concatenation with empty or all-NA entries is deprecated. In a future version, this will no longer exclude empty or all-NA columns when determining the result dtypes. To retain the old behavior, exclude the relevant entries before the concat operation.\n",
      "  return cls(df=pd.concat(dfs, axis=0, sort=True))\n",
      "[WARNING 10-29 16:28:10] ax.service.utils.report_utils: Column reason missing for all trials. Not appending column.\n",
      "[INFO 10-29 16:28:10] ax.service.ax_client: Completed trial 14 with data: {'t1': (7.349903, None)}.\n",
      "[INFO 10-29 16:28:10] ax.service.ax_client: Saved JSON-serialized state of optimization to `/Users/thomasdodd/Library/CloudStorage/OneDrive-MillfieldEnterprisesLimited/Cambridge/GitHub/BO4ACST/Notebooks/Optimisation/Method20241028Dim2_qLogNoisyExpectedImprovement/AxExperiment.json`.\n",
      "[WARNING 10-29 16:28:10] ax.service.utils.report_utils: Column reason missing for all trials. Not appending column.\n",
      "[WARNING 10-29 16:28:10] ax.service.utils.report_utils: Column reason missing for all trials. Not appending column.\n"
     ]
    },
    {
     "name": "stdout",
     "output_type": "stream",
     "text": [
      "There are no trials currently running - initialising Bayesian iteration trials.\n"
     ]
    },
    {
     "name": "stderr",
     "output_type": "stream",
     "text": [
      "[INFO 10-29 16:28:17] ax.service.ax_client: Generated new trial 15 with parameters {'x1': 0.383712, 'x2': 2.574949} using model BoTorch.\n",
      "[INFO 10-29 16:28:17] ax.service.ax_client: Saved JSON-serialized state of optimization to `/Users/thomasdodd/Library/CloudStorage/OneDrive-MillfieldEnterprisesLimited/Cambridge/GitHub/BO4ACST/Notebooks/Optimisation/Method20241028Dim2_qLogNoisyExpectedImprovement/AxExperiment.json`.\n",
      "/Users/thomasdodd/miniconda3/envs/BO4ACST_env/lib/python3.11/site-packages/ax/core/data.py:288: FutureWarning: The behavior of DataFrame concatenation with empty or all-NA entries is deprecated. In a future version, this will no longer exclude empty or all-NA columns when determining the result dtypes. To retain the old behavior, exclude the relevant entries before the concat operation.\n",
      "  return cls(df=pd.concat(dfs, axis=0, sort=True))\n",
      "[WARNING 10-29 16:28:17] ax.service.utils.report_utils: Column reason missing for all trials. Not appending column.\n",
      "/Users/thomasdodd/miniconda3/envs/BO4ACST_env/lib/python3.11/site-packages/ax/core/data.py:288: FutureWarning: The behavior of DataFrame concatenation with empty or all-NA entries is deprecated. In a future version, this will no longer exclude empty or all-NA columns when determining the result dtypes. To retain the old behavior, exclude the relevant entries before the concat operation.\n",
      "  return cls(df=pd.concat(dfs, axis=0, sort=True))\n",
      "[WARNING 10-29 16:28:17] ax.service.utils.report_utils: Column reason missing for all trials. Not appending column.\n",
      "[INFO 10-29 16:28:17] ax.service.ax_client: Completed trial 15 with data: {'t1': (4.898028, None)}.\n",
      "[INFO 10-29 16:28:17] ax.service.ax_client: Saved JSON-serialized state of optimization to `/Users/thomasdodd/Library/CloudStorage/OneDrive-MillfieldEnterprisesLimited/Cambridge/GitHub/BO4ACST/Notebooks/Optimisation/Method20241028Dim2_qLogNoisyExpectedImprovement/AxExperiment.json`.\n",
      "[WARNING 10-29 16:28:17] ax.service.utils.report_utils: Column reason missing for all trials. Not appending column.\n",
      "[WARNING 10-29 16:28:17] ax.service.utils.report_utils: Column reason missing for all trials. Not appending column.\n"
     ]
    },
    {
     "name": "stdout",
     "output_type": "stream",
     "text": [
      "There are no trials currently running - initialising Bayesian iteration trials.\n"
     ]
    },
    {
     "name": "stderr",
     "output_type": "stream",
     "text": [
      "[INFO 10-29 16:28:25] ax.service.ax_client: Generated new trial 16 with parameters {'x1': -0.759659, 'x2': 4.725803} using model BoTorch.\n",
      "[INFO 10-29 16:28:25] ax.service.ax_client: Saved JSON-serialized state of optimization to `/Users/thomasdodd/Library/CloudStorage/OneDrive-MillfieldEnterprisesLimited/Cambridge/GitHub/BO4ACST/Notebooks/Optimisation/Method20241028Dim2_qLogNoisyExpectedImprovement/AxExperiment.json`.\n",
      "/Users/thomasdodd/miniconda3/envs/BO4ACST_env/lib/python3.11/site-packages/ax/core/data.py:288: FutureWarning: The behavior of DataFrame concatenation with empty or all-NA entries is deprecated. In a future version, this will no longer exclude empty or all-NA columns when determining the result dtypes. To retain the old behavior, exclude the relevant entries before the concat operation.\n",
      "  return cls(df=pd.concat(dfs, axis=0, sort=True))\n",
      "[WARNING 10-29 16:28:25] ax.service.utils.report_utils: Column reason missing for all trials. Not appending column.\n",
      "/Users/thomasdodd/miniconda3/envs/BO4ACST_env/lib/python3.11/site-packages/ax/core/data.py:288: FutureWarning: The behavior of DataFrame concatenation with empty or all-NA entries is deprecated. In a future version, this will no longer exclude empty or all-NA columns when determining the result dtypes. To retain the old behavior, exclude the relevant entries before the concat operation.\n",
      "  return cls(df=pd.concat(dfs, axis=0, sort=True))\n",
      "[WARNING 10-29 16:28:25] ax.service.utils.report_utils: Column reason missing for all trials. Not appending column.\n",
      "[INFO 10-29 16:28:25] ax.service.ax_client: Completed trial 16 with data: {'t1': (6.079381, None)}.\n",
      "[INFO 10-29 16:28:25] ax.service.ax_client: Saved JSON-serialized state of optimization to `/Users/thomasdodd/Library/CloudStorage/OneDrive-MillfieldEnterprisesLimited/Cambridge/GitHub/BO4ACST/Notebooks/Optimisation/Method20241028Dim2_qLogNoisyExpectedImprovement/AxExperiment.json`.\n",
      "[WARNING 10-29 16:28:25] ax.service.utils.report_utils: Column reason missing for all trials. Not appending column.\n",
      "[WARNING 10-29 16:28:25] ax.service.utils.report_utils: Column reason missing for all trials. Not appending column.\n"
     ]
    },
    {
     "name": "stdout",
     "output_type": "stream",
     "text": [
      "There are no trials currently running - initialising Bayesian iteration trials.\n"
     ]
    },
    {
     "name": "stderr",
     "output_type": "stream",
     "text": [
      "[INFO 10-29 16:28:35] ax.service.ax_client: Generated new trial 17 with parameters {'x1': 0.788977, 'x2': 2.766129} using model BoTorch.\n",
      "[INFO 10-29 16:28:35] ax.service.ax_client: Saved JSON-serialized state of optimization to `/Users/thomasdodd/Library/CloudStorage/OneDrive-MillfieldEnterprisesLimited/Cambridge/GitHub/BO4ACST/Notebooks/Optimisation/Method20241028Dim2_qLogNoisyExpectedImprovement/AxExperiment.json`.\n",
      "/Users/thomasdodd/miniconda3/envs/BO4ACST_env/lib/python3.11/site-packages/ax/core/data.py:288: FutureWarning: The behavior of DataFrame concatenation with empty or all-NA entries is deprecated. In a future version, this will no longer exclude empty or all-NA columns when determining the result dtypes. To retain the old behavior, exclude the relevant entries before the concat operation.\n",
      "  return cls(df=pd.concat(dfs, axis=0, sort=True))\n",
      "[WARNING 10-29 16:28:35] ax.service.utils.report_utils: Column reason missing for all trials. Not appending column.\n",
      "/Users/thomasdodd/miniconda3/envs/BO4ACST_env/lib/python3.11/site-packages/ax/core/data.py:288: FutureWarning: The behavior of DataFrame concatenation with empty or all-NA entries is deprecated. In a future version, this will no longer exclude empty or all-NA columns when determining the result dtypes. To retain the old behavior, exclude the relevant entries before the concat operation.\n",
      "  return cls(df=pd.concat(dfs, axis=0, sort=True))\n",
      "[WARNING 10-29 16:28:35] ax.service.utils.report_utils: Column reason missing for all trials. Not appending column.\n",
      "[INFO 10-29 16:28:35] ax.service.ax_client: Completed trial 17 with data: {'t1': (0.890951, None)}.\n",
      "[INFO 10-29 16:28:35] ax.service.ax_client: Saved JSON-serialized state of optimization to `/Users/thomasdodd/Library/CloudStorage/OneDrive-MillfieldEnterprisesLimited/Cambridge/GitHub/BO4ACST/Notebooks/Optimisation/Method20241028Dim2_qLogNoisyExpectedImprovement/AxExperiment.json`.\n",
      "[WARNING 10-29 16:28:35] ax.service.utils.report_utils: Column reason missing for all trials. Not appending column.\n",
      "[WARNING 10-29 16:28:35] ax.service.utils.report_utils: Column reason missing for all trials. Not appending column.\n"
     ]
    },
    {
     "name": "stdout",
     "output_type": "stream",
     "text": [
      "There are no trials currently running - initialising Bayesian iteration trials.\n"
     ]
    },
    {
     "name": "stderr",
     "output_type": "stream",
     "text": [
      "[INFO 10-29 16:28:45] ax.service.ax_client: Generated new trial 18 with parameters {'x1': 1.581576, 'x2': 1.864132} using model BoTorch.\n",
      "[INFO 10-29 16:28:45] ax.service.ax_client: Saved JSON-serialized state of optimization to `/Users/thomasdodd/Library/CloudStorage/OneDrive-MillfieldEnterprisesLimited/Cambridge/GitHub/BO4ACST/Notebooks/Optimisation/Method20241028Dim2_qLogNoisyExpectedImprovement/AxExperiment.json`.\n",
      "/Users/thomasdodd/miniconda3/envs/BO4ACST_env/lib/python3.11/site-packages/ax/core/data.py:288: FutureWarning: The behavior of DataFrame concatenation with empty or all-NA entries is deprecated. In a future version, this will no longer exclude empty or all-NA columns when determining the result dtypes. To retain the old behavior, exclude the relevant entries before the concat operation.\n",
      "  return cls(df=pd.concat(dfs, axis=0, sort=True))\n",
      "[WARNING 10-29 16:28:45] ax.service.utils.report_utils: Column reason missing for all trials. Not appending column.\n",
      "/Users/thomasdodd/miniconda3/envs/BO4ACST_env/lib/python3.11/site-packages/ax/core/data.py:288: FutureWarning: The behavior of DataFrame concatenation with empty or all-NA entries is deprecated. In a future version, this will no longer exclude empty or all-NA columns when determining the result dtypes. To retain the old behavior, exclude the relevant entries before the concat operation.\n",
      "  return cls(df=pd.concat(dfs, axis=0, sort=True))\n",
      "[WARNING 10-29 16:28:45] ax.service.utils.report_utils: Column reason missing for all trials. Not appending column.\n",
      "[INFO 10-29 16:28:45] ax.service.ax_client: Completed trial 18 with data: {'t1': (2.857384, None)}.\n",
      "[INFO 10-29 16:28:45] ax.service.ax_client: Saved JSON-serialized state of optimization to `/Users/thomasdodd/Library/CloudStorage/OneDrive-MillfieldEnterprisesLimited/Cambridge/GitHub/BO4ACST/Notebooks/Optimisation/Method20241028Dim2_qLogNoisyExpectedImprovement/AxExperiment.json`.\n",
      "[WARNING 10-29 16:28:45] ax.service.utils.report_utils: Column reason missing for all trials. Not appending column.\n",
      "[WARNING 10-29 16:28:45] ax.service.utils.report_utils: Column reason missing for all trials. Not appending column.\n"
     ]
    },
    {
     "name": "stdout",
     "output_type": "stream",
     "text": [
      "There are no trials currently running - initialising Bayesian iteration trials.\n"
     ]
    },
    {
     "name": "stderr",
     "output_type": "stream",
     "text": [
      "[INFO 10-29 16:28:56] ax.service.ax_client: Generated new trial 19 with parameters {'x1': 0.127854, 'x2': 3.499687} using model BoTorch.\n",
      "[INFO 10-29 16:28:56] ax.service.ax_client: Saved JSON-serialized state of optimization to `/Users/thomasdodd/Library/CloudStorage/OneDrive-MillfieldEnterprisesLimited/Cambridge/GitHub/BO4ACST/Notebooks/Optimisation/Method20241028Dim2_qLogNoisyExpectedImprovement/AxExperiment.json`.\n",
      "/Users/thomasdodd/miniconda3/envs/BO4ACST_env/lib/python3.11/site-packages/ax/core/data.py:288: FutureWarning: The behavior of DataFrame concatenation with empty or all-NA entries is deprecated. In a future version, this will no longer exclude empty or all-NA columns when determining the result dtypes. To retain the old behavior, exclude the relevant entries before the concat operation.\n",
      "  return cls(df=pd.concat(dfs, axis=0, sort=True))\n",
      "[WARNING 10-29 16:28:56] ax.service.utils.report_utils: Column reason missing for all trials. Not appending column.\n",
      "/Users/thomasdodd/miniconda3/envs/BO4ACST_env/lib/python3.11/site-packages/ax/core/data.py:288: FutureWarning: The behavior of DataFrame concatenation with empty or all-NA entries is deprecated. In a future version, this will no longer exclude empty or all-NA columns when determining the result dtypes. To retain the old behavior, exclude the relevant entries before the concat operation.\n",
      "  return cls(df=pd.concat(dfs, axis=0, sort=True))\n",
      "[WARNING 10-29 16:28:56] ax.service.utils.report_utils: Column reason missing for all trials. Not appending column.\n",
      "[INFO 10-29 16:28:56] ax.service.ax_client: Completed trial 19 with data: {'t1': (1.565227, None)}.\n",
      "[INFO 10-29 16:28:56] ax.service.ax_client: Saved JSON-serialized state of optimization to `/Users/thomasdodd/Library/CloudStorage/OneDrive-MillfieldEnterprisesLimited/Cambridge/GitHub/BO4ACST/Notebooks/Optimisation/Method20241028Dim2_qLogNoisyExpectedImprovement/AxExperiment.json`.\n",
      "[WARNING 10-29 16:28:56] ax.service.utils.report_utils: Column reason missing for all trials. Not appending column.\n",
      "[WARNING 10-29 16:28:56] ax.service.utils.report_utils: Column reason missing for all trials. Not appending column.\n"
     ]
    },
    {
     "name": "stdout",
     "output_type": "stream",
     "text": [
      "There are no trials currently running - initialising Bayesian iteration trials.\n"
     ]
    },
    {
     "name": "stderr",
     "output_type": "stream",
     "text": [
      "[INFO 10-29 16:29:10] ax.service.ax_client: Generated new trial 20 with parameters {'x1': 0.038158, 'x2': 3.190383} using model BoTorch.\n",
      "[INFO 10-29 16:29:10] ax.service.ax_client: Saved JSON-serialized state of optimization to `/Users/thomasdodd/Library/CloudStorage/OneDrive-MillfieldEnterprisesLimited/Cambridge/GitHub/BO4ACST/Notebooks/Optimisation/Method20241028Dim2_qLogNoisyExpectedImprovement/AxExperiment.json`.\n",
      "/Users/thomasdodd/miniconda3/envs/BO4ACST_env/lib/python3.11/site-packages/ax/core/data.py:288: FutureWarning: The behavior of DataFrame concatenation with empty or all-NA entries is deprecated. In a future version, this will no longer exclude empty or all-NA columns when determining the result dtypes. To retain the old behavior, exclude the relevant entries before the concat operation.\n",
      "  return cls(df=pd.concat(dfs, axis=0, sort=True))\n",
      "[WARNING 10-29 16:29:10] ax.service.utils.report_utils: Column reason missing for all trials. Not appending column.\n",
      "/Users/thomasdodd/miniconda3/envs/BO4ACST_env/lib/python3.11/site-packages/ax/core/data.py:288: FutureWarning: The behavior of DataFrame concatenation with empty or all-NA entries is deprecated. In a future version, this will no longer exclude empty or all-NA columns when determining the result dtypes. To retain the old behavior, exclude the relevant entries before the concat operation.\n",
      "  return cls(df=pd.concat(dfs, axis=0, sort=True))\n",
      "[WARNING 10-29 16:29:10] ax.service.utils.report_utils: Column reason missing for all trials. Not appending column.\n",
      "[INFO 10-29 16:29:10] ax.service.ax_client: Completed trial 20 with data: {'t1': (3.341975, None)}.\n",
      "[INFO 10-29 16:29:10] ax.service.ax_client: Saved JSON-serialized state of optimization to `/Users/thomasdodd/Library/CloudStorage/OneDrive-MillfieldEnterprisesLimited/Cambridge/GitHub/BO4ACST/Notebooks/Optimisation/Method20241028Dim2_qLogNoisyExpectedImprovement/AxExperiment.json`.\n",
      "[WARNING 10-29 16:29:10] ax.service.utils.report_utils: Column reason missing for all trials. Not appending column.\n",
      "[WARNING 10-29 16:29:10] ax.service.utils.report_utils: Column reason missing for all trials. Not appending column.\n"
     ]
    },
    {
     "name": "stdout",
     "output_type": "stream",
     "text": [
      "There are no trials currently running - initialising Bayesian iteration trials.\n"
     ]
    },
    {
     "name": "stderr",
     "output_type": "stream",
     "text": [
      "[INFO 10-29 16:29:19] ax.service.ax_client: Generated new trial 21 with parameters {'x1': 1.412111, 'x2': 2.329733} using model BoTorch.\n",
      "[INFO 10-29 16:29:19] ax.service.ax_client: Saved JSON-serialized state of optimization to `/Users/thomasdodd/Library/CloudStorage/OneDrive-MillfieldEnterprisesLimited/Cambridge/GitHub/BO4ACST/Notebooks/Optimisation/Method20241028Dim2_qLogNoisyExpectedImprovement/AxExperiment.json`.\n",
      "/Users/thomasdodd/miniconda3/envs/BO4ACST_env/lib/python3.11/site-packages/ax/core/data.py:288: FutureWarning: The behavior of DataFrame concatenation with empty or all-NA entries is deprecated. In a future version, this will no longer exclude empty or all-NA columns when determining the result dtypes. To retain the old behavior, exclude the relevant entries before the concat operation.\n",
      "  return cls(df=pd.concat(dfs, axis=0, sort=True))\n",
      "[WARNING 10-29 16:29:19] ax.service.utils.report_utils: Column reason missing for all trials. Not appending column.\n",
      "/Users/thomasdodd/miniconda3/envs/BO4ACST_env/lib/python3.11/site-packages/ax/core/data.py:288: FutureWarning: The behavior of DataFrame concatenation with empty or all-NA entries is deprecated. In a future version, this will no longer exclude empty or all-NA columns when determining the result dtypes. To retain the old behavior, exclude the relevant entries before the concat operation.\n",
      "  return cls(df=pd.concat(dfs, axis=0, sort=True))\n",
      "[WARNING 10-29 16:29:19] ax.service.utils.report_utils: Column reason missing for all trials. Not appending column.\n",
      "[INFO 10-29 16:29:19] ax.service.ax_client: Completed trial 21 with data: {'t1': (0.88567, None)}.\n",
      "[INFO 10-29 16:29:19] ax.service.ax_client: Saved JSON-serialized state of optimization to `/Users/thomasdodd/Library/CloudStorage/OneDrive-MillfieldEnterprisesLimited/Cambridge/GitHub/BO4ACST/Notebooks/Optimisation/Method20241028Dim2_qLogNoisyExpectedImprovement/AxExperiment.json`.\n",
      "[WARNING 10-29 16:29:19] ax.service.utils.report_utils: Column reason missing for all trials. Not appending column.\n",
      "[WARNING 10-29 16:29:19] ax.service.utils.report_utils: Column reason missing for all trials. Not appending column.\n"
     ]
    },
    {
     "name": "stdout",
     "output_type": "stream",
     "text": [
      "There are no trials currently running - initialising Bayesian iteration trials.\n"
     ]
    },
    {
     "name": "stderr",
     "output_type": "stream",
     "text": [
      "[INFO 10-29 16:29:34] ax.service.ax_client: Generated new trial 22 with parameters {'x1': 0.88855, 'x2': 2.449551} using model BoTorch.\n",
      "[INFO 10-29 16:29:34] ax.service.ax_client: Saved JSON-serialized state of optimization to `/Users/thomasdodd/Library/CloudStorage/OneDrive-MillfieldEnterprisesLimited/Cambridge/GitHub/BO4ACST/Notebooks/Optimisation/Method20241028Dim2_qLogNoisyExpectedImprovement/AxExperiment.json`.\n",
      "/Users/thomasdodd/miniconda3/envs/BO4ACST_env/lib/python3.11/site-packages/ax/core/data.py:288: FutureWarning: The behavior of DataFrame concatenation with empty or all-NA entries is deprecated. In a future version, this will no longer exclude empty or all-NA columns when determining the result dtypes. To retain the old behavior, exclude the relevant entries before the concat operation.\n",
      "  return cls(df=pd.concat(dfs, axis=0, sort=True))\n",
      "[WARNING 10-29 16:29:34] ax.service.utils.report_utils: Column reason missing for all trials. Not appending column.\n",
      "/Users/thomasdodd/miniconda3/envs/BO4ACST_env/lib/python3.11/site-packages/ax/core/data.py:288: FutureWarning: The behavior of DataFrame concatenation with empty or all-NA entries is deprecated. In a future version, this will no longer exclude empty or all-NA columns when determining the result dtypes. To retain the old behavior, exclude the relevant entries before the concat operation.\n",
      "  return cls(df=pd.concat(dfs, axis=0, sort=True))\n",
      "[WARNING 10-29 16:29:34] ax.service.utils.report_utils: Column reason missing for all trials. Not appending column.\n",
      "[INFO 10-29 16:29:34] ax.service.ax_client: Completed trial 22 with data: {'t1': (2.067853, None)}.\n",
      "[INFO 10-29 16:29:34] ax.service.ax_client: Saved JSON-serialized state of optimization to `/Users/thomasdodd/Library/CloudStorage/OneDrive-MillfieldEnterprisesLimited/Cambridge/GitHub/BO4ACST/Notebooks/Optimisation/Method20241028Dim2_qLogNoisyExpectedImprovement/AxExperiment.json`.\n",
      "[WARNING 10-29 16:29:34] ax.service.utils.report_utils: Column reason missing for all trials. Not appending column.\n",
      "[WARNING 10-29 16:29:34] ax.service.utils.report_utils: Column reason missing for all trials. Not appending column.\n"
     ]
    },
    {
     "name": "stdout",
     "output_type": "stream",
     "text": [
      "There are no trials currently running - initialising Bayesian iteration trials.\n"
     ]
    },
    {
     "name": "stderr",
     "output_type": "stream",
     "text": [
      "[INFO 10-29 16:29:52] ax.service.ax_client: Generated new trial 23 with parameters {'x1': 0.611955, 'x2': 3.219126} using model BoTorch.\n",
      "[INFO 10-29 16:29:52] ax.service.ax_client: Saved JSON-serialized state of optimization to `/Users/thomasdodd/Library/CloudStorage/OneDrive-MillfieldEnterprisesLimited/Cambridge/GitHub/BO4ACST/Notebooks/Optimisation/Method20241028Dim2_qLogNoisyExpectedImprovement/AxExperiment.json`.\n",
      "/Users/thomasdodd/miniconda3/envs/BO4ACST_env/lib/python3.11/site-packages/ax/core/data.py:288: FutureWarning: The behavior of DataFrame concatenation with empty or all-NA entries is deprecated. In a future version, this will no longer exclude empty or all-NA columns when determining the result dtypes. To retain the old behavior, exclude the relevant entries before the concat operation.\n",
      "  return cls(df=pd.concat(dfs, axis=0, sort=True))\n",
      "[WARNING 10-29 16:29:52] ax.service.utils.report_utils: Column reason missing for all trials. Not appending column.\n",
      "/Users/thomasdodd/miniconda3/envs/BO4ACST_env/lib/python3.11/site-packages/ax/core/data.py:288: FutureWarning: The behavior of DataFrame concatenation with empty or all-NA entries is deprecated. In a future version, this will no longer exclude empty or all-NA columns when determining the result dtypes. To retain the old behavior, exclude the relevant entries before the concat operation.\n",
      "  return cls(df=pd.concat(dfs, axis=0, sort=True))\n",
      "[WARNING 10-29 16:29:52] ax.service.utils.report_utils: Column reason missing for all trials. Not appending column.\n",
      "[INFO 10-29 16:29:52] ax.service.ax_client: Completed trial 23 with data: {'t1': (0.312728, None)}.\n",
      "[INFO 10-29 16:29:52] ax.service.ax_client: Saved JSON-serialized state of optimization to `/Users/thomasdodd/Library/CloudStorage/OneDrive-MillfieldEnterprisesLimited/Cambridge/GitHub/BO4ACST/Notebooks/Optimisation/Method20241028Dim2_qLogNoisyExpectedImprovement/AxExperiment.json`.\n",
      "[WARNING 10-29 16:29:52] ax.service.utils.report_utils: Column reason missing for all trials. Not appending column.\n",
      "[INFO 10-29 16:29:52] ax.service.ax_client: Starting optimization with verbose logging. To disable logging, set the `verbose_logging` argument to `False`. Note that float values in the logs are rounded to 6 decimal points.\n",
      "[INFO 10-29 16:29:52] ax.service.utils.instantiation: Created search space: SearchSpace(parameters=[RangeParameter(name='x1', parameter_type=FLOAT, range=[-10.0, 10.0]), RangeParameter(name='x2', parameter_type=FLOAT, range=[-10.0, 10.0])], parameter_constraints=[]).\n",
      "[INFO 10-29 16:29:52] ax.service.ax_client: Saved JSON-serialized state of optimization to `/Users/thomasdodd/Library/CloudStorage/OneDrive-MillfieldEnterprisesLimited/Cambridge/GitHub/BO4ACST/Notebooks/Optimisation/Method20241028Dim2_qLogNoisyExpectedImprovement/AxExperiment.json`.\n",
      "[INFO 10-29 16:29:52] ax.core.experiment: Attached custom parameterizations [{'x1': -10.0, 'x2': -10.0}] as trial 0.\n",
      "[INFO 10-29 16:29:52] ax.core.experiment: Attached custom parameterizations [{'x1': 0.0, 'x2': -10.0}] as trial 1.\n",
      "[INFO 10-29 16:29:52] ax.core.experiment: Attached custom parameterizations [{'x1': 10.0, 'x2': -10.0}] as trial 2.\n",
      "[INFO 10-29 16:29:52] ax.core.experiment: Attached custom parameterizations [{'x1': -10.0, 'x2': 0.0}] as trial 3.\n",
      "[INFO 10-29 16:29:52] ax.core.experiment: Attached custom parameterizations [{'x1': 0.0, 'x2': 0.0}] as trial 4.\n",
      "[INFO 10-29 16:29:52] ax.core.experiment: Attached custom parameterizations [{'x1': 10.0, 'x2': 0.0}] as trial 5.\n",
      "[INFO 10-29 16:29:52] ax.core.experiment: Attached custom parameterizations [{'x1': -10.0, 'x2': 10.0}] as trial 6.\n",
      "[INFO 10-29 16:29:52] ax.core.experiment: Attached custom parameterizations [{'x1': 0.0, 'x2': 10.0}] as trial 7.\n",
      "[INFO 10-29 16:29:52] ax.core.experiment: Attached custom parameterizations [{'x1': 10.0, 'x2': 10.0}] as trial 8.\n",
      "[INFO 10-29 16:29:52] ax.service.ax_client: Saved JSON-serialized state of optimization to `/Users/thomasdodd/Library/CloudStorage/OneDrive-MillfieldEnterprisesLimited/Cambridge/GitHub/BO4ACST/Notebooks/Optimisation/Method20241028Dim2_qLogNoisyExpectedImprovement/AxExperiment.json`.\n",
      "[WARNING 10-29 16:29:52] ax.service.utils.report_utils: Column reason missing for all trials. Not appending column.\n",
      "[INFO 10-29 16:29:52] ax.service.utils.report_utils: No results present for the specified metrics `[Metric('t1')]`. Returning arm parameters and metadata only.\n",
      "[WARNING 10-29 16:29:52] ax.service.utils.report_utils: Column reason missing for all trials. Not appending column.\n",
      "[INFO 10-29 16:29:52] ax.service.utils.report_utils: No results present for the specified metrics `[Metric('t1')]`. Returning arm parameters and metadata only.\n",
      "[INFO 10-29 16:29:52] ax.service.ax_client: Completed trial 0 with data: {'t1': (2594.0, None)}.\n",
      "[INFO 10-29 16:29:52] ax.service.ax_client: Saved JSON-serialized state of optimization to `/Users/thomasdodd/Library/CloudStorage/OneDrive-MillfieldEnterprisesLimited/Cambridge/GitHub/BO4ACST/Notebooks/Optimisation/Method20241028Dim2_qLogNoisyExpectedImprovement/AxExperiment.json`.\n",
      "[INFO 10-29 16:29:52] ax.service.ax_client: Completed trial 1 with data: {'t1': (954.0, None)}.\n",
      "[INFO 10-29 16:29:52] ax.service.ax_client: Saved JSON-serialized state of optimization to `/Users/thomasdodd/Library/CloudStorage/OneDrive-MillfieldEnterprisesLimited/Cambridge/GitHub/BO4ACST/Notebooks/Optimisation/Method20241028Dim2_qLogNoisyExpectedImprovement/AxExperiment.json`.\n",
      "[INFO 10-29 16:29:52] ax.service.ax_client: Completed trial 2 with data: {'t1': (314.0, None)}.\n",
      "[INFO 10-29 16:29:52] ax.service.ax_client: Saved JSON-serialized state of optimization to `/Users/thomasdodd/Library/CloudStorage/OneDrive-MillfieldEnterprisesLimited/Cambridge/GitHub/BO4ACST/Notebooks/Optimisation/Method20241028Dim2_qLogNoisyExpectedImprovement/AxExperiment.json`.\n",
      "[INFO 10-29 16:29:52] ax.service.ax_client: Completed trial 3 with data: {'t1': (914.0, None)}.\n",
      "[INFO 10-29 16:29:52] ax.service.ax_client: Saved JSON-serialized state of optimization to `/Users/thomasdodd/Library/CloudStorage/OneDrive-MillfieldEnterprisesLimited/Cambridge/GitHub/BO4ACST/Notebooks/Optimisation/Method20241028Dim2_qLogNoisyExpectedImprovement/AxExperiment.json`.\n",
      "[INFO 10-29 16:29:52] ax.service.ax_client: Completed trial 4 with data: {'t1': (74.0, None)}.\n",
      "[INFO 10-29 16:29:52] ax.service.ax_client: Saved JSON-serialized state of optimization to `/Users/thomasdodd/Library/CloudStorage/OneDrive-MillfieldEnterprisesLimited/Cambridge/GitHub/BO4ACST/Notebooks/Optimisation/Method20241028Dim2_qLogNoisyExpectedImprovement/AxExperiment.json`.\n",
      "[INFO 10-29 16:29:52] ax.service.ax_client: Completed trial 5 with data: {'t1': (234.0, None)}.\n",
      "[INFO 10-29 16:29:52] ax.service.ax_client: Saved JSON-serialized state of optimization to `/Users/thomasdodd/Library/CloudStorage/OneDrive-MillfieldEnterprisesLimited/Cambridge/GitHub/BO4ACST/Notebooks/Optimisation/Method20241028Dim2_qLogNoisyExpectedImprovement/AxExperiment.json`.\n",
      "[INFO 10-29 16:29:52] ax.service.ax_client: Completed trial 6 with data: {'t1': (234.0, None)}.\n",
      "[INFO 10-29 16:29:52] ax.service.ax_client: Saved JSON-serialized state of optimization to `/Users/thomasdodd/Library/CloudStorage/OneDrive-MillfieldEnterprisesLimited/Cambridge/GitHub/BO4ACST/Notebooks/Optimisation/Method20241028Dim2_qLogNoisyExpectedImprovement/AxExperiment.json`.\n",
      "[INFO 10-29 16:29:52] ax.service.ax_client: Completed trial 7 with data: {'t1': (194.0, None)}.\n",
      "[INFO 10-29 16:29:52] ax.service.ax_client: Saved JSON-serialized state of optimization to `/Users/thomasdodd/Library/CloudStorage/OneDrive-MillfieldEnterprisesLimited/Cambridge/GitHub/BO4ACST/Notebooks/Optimisation/Method20241028Dim2_qLogNoisyExpectedImprovement/AxExperiment.json`.\n",
      "[INFO 10-29 16:29:52] ax.service.ax_client: Completed trial 8 with data: {'t1': (1154.0, None)}.\n",
      "[INFO 10-29 16:29:52] ax.service.ax_client: Saved JSON-serialized state of optimization to `/Users/thomasdodd/Library/CloudStorage/OneDrive-MillfieldEnterprisesLimited/Cambridge/GitHub/BO4ACST/Notebooks/Optimisation/Method20241028Dim2_qLogNoisyExpectedImprovement/AxExperiment.json`.\n",
      "[WARNING 10-29 16:29:52] ax.service.utils.report_utils: Column reason missing for all trials. Not appending column.\n",
      "[WARNING 10-29 16:29:52] ax.service.utils.report_utils: Column reason missing for all trials. Not appending column.\n"
     ]
    },
    {
     "name": "stdout",
     "output_type": "stream",
     "text": [
      "[74.         24.25278606 24.25278606  0.34865581  0.34865581  0.34865581\n",
      "  0.34865581  0.34865581  0.34865581  0.34865581  0.34865581  0.34865581\n",
      "  0.34865581  0.34865581  0.34865581  0.31272841]\n",
      "A new experiment has been created and initialised.\n",
      "No previous or current trials detected - initialising prior-forming trials.\n",
      "Samples gridded = 9\n",
      "There are no trials currently running - initialising Bayesian iteration trials.\n"
     ]
    },
    {
     "name": "stderr",
     "output_type": "stream",
     "text": [
      "[INFO 10-29 16:30:00] ax.service.ax_client: Generated new trial 9 with parameters {'x1': -2.709818, 'x2': 5.84687} using model BoTorch.\n",
      "[INFO 10-29 16:30:00] ax.service.ax_client: Saved JSON-serialized state of optimization to `/Users/thomasdodd/Library/CloudStorage/OneDrive-MillfieldEnterprisesLimited/Cambridge/GitHub/BO4ACST/Notebooks/Optimisation/Method20241028Dim2_qLogNoisyExpectedImprovement/AxExperiment.json`.\n",
      "/Users/thomasdodd/miniconda3/envs/BO4ACST_env/lib/python3.11/site-packages/ax/core/data.py:288: FutureWarning: The behavior of DataFrame concatenation with empty or all-NA entries is deprecated. In a future version, this will no longer exclude empty or all-NA columns when determining the result dtypes. To retain the old behavior, exclude the relevant entries before the concat operation.\n",
      "  return cls(df=pd.concat(dfs, axis=0, sort=True))\n",
      "[WARNING 10-29 16:30:00] ax.service.utils.report_utils: Column reason missing for all trials. Not appending column.\n",
      "/Users/thomasdodd/miniconda3/envs/BO4ACST_env/lib/python3.11/site-packages/ax/core/data.py:288: FutureWarning: The behavior of DataFrame concatenation with empty or all-NA entries is deprecated. In a future version, this will no longer exclude empty or all-NA columns when determining the result dtypes. To retain the old behavior, exclude the relevant entries before the concat operation.\n",
      "  return cls(df=pd.concat(dfs, axis=0, sort=True))\n",
      "[WARNING 10-29 16:30:00] ax.service.utils.report_utils: Column reason missing for all trials. Not appending column.\n",
      "[INFO 10-29 16:30:00] ax.service.ax_client: Completed trial 9 with data: {'t1': (24.846128, None)}.\n",
      "[INFO 10-29 16:30:00] ax.service.ax_client: Saved JSON-serialized state of optimization to `/Users/thomasdodd/Library/CloudStorage/OneDrive-MillfieldEnterprisesLimited/Cambridge/GitHub/BO4ACST/Notebooks/Optimisation/Method20241028Dim2_qLogNoisyExpectedImprovement/AxExperiment.json`.\n",
      "[WARNING 10-29 16:30:00] ax.service.utils.report_utils: Column reason missing for all trials. Not appending column.\n",
      "[WARNING 10-29 16:30:00] ax.service.utils.report_utils: Column reason missing for all trials. Not appending column.\n"
     ]
    },
    {
     "name": "stdout",
     "output_type": "stream",
     "text": [
      "There are no trials currently running - initialising Bayesian iteration trials.\n"
     ]
    },
    {
     "name": "stderr",
     "output_type": "stream",
     "text": [
      "[INFO 10-29 16:30:05] ax.service.ax_client: Generated new trial 10 with parameters {'x1': 4.927874, 'x2': -1.667475} using model BoTorch.\n",
      "[INFO 10-29 16:30:05] ax.service.ax_client: Saved JSON-serialized state of optimization to `/Users/thomasdodd/Library/CloudStorage/OneDrive-MillfieldEnterprisesLimited/Cambridge/GitHub/BO4ACST/Notebooks/Optimisation/Method20241028Dim2_qLogNoisyExpectedImprovement/AxExperiment.json`.\n",
      "/Users/thomasdodd/miniconda3/envs/BO4ACST_env/lib/python3.11/site-packages/ax/core/data.py:288: FutureWarning: The behavior of DataFrame concatenation with empty or all-NA entries is deprecated. In a future version, this will no longer exclude empty or all-NA columns when determining the result dtypes. To retain the old behavior, exclude the relevant entries before the concat operation.\n",
      "  return cls(df=pd.concat(dfs, axis=0, sort=True))\n",
      "[WARNING 10-29 16:30:05] ax.service.utils.report_utils: Column reason missing for all trials. Not appending column.\n",
      "/Users/thomasdodd/miniconda3/envs/BO4ACST_env/lib/python3.11/site-packages/ax/core/data.py:288: FutureWarning: The behavior of DataFrame concatenation with empty or all-NA entries is deprecated. In a future version, this will no longer exclude empty or all-NA columns when determining the result dtypes. To retain the old behavior, exclude the relevant entries before the concat operation.\n",
      "  return cls(df=pd.concat(dfs, axis=0, sort=True))\n",
      "[WARNING 10-29 16:30:05] ax.service.utils.report_utils: Column reason missing for all trials. Not appending column.\n",
      "[INFO 10-29 16:30:05] ax.service.ax_client: Completed trial 10 with data: {'t1': (39.401558, None)}.\n",
      "[INFO 10-29 16:30:05] ax.service.ax_client: Saved JSON-serialized state of optimization to `/Users/thomasdodd/Library/CloudStorage/OneDrive-MillfieldEnterprisesLimited/Cambridge/GitHub/BO4ACST/Notebooks/Optimisation/Method20241028Dim2_qLogNoisyExpectedImprovement/AxExperiment.json`.\n",
      "[WARNING 10-29 16:30:05] ax.service.utils.report_utils: Column reason missing for all trials. Not appending column.\n",
      "[WARNING 10-29 16:30:05] ax.service.utils.report_utils: Column reason missing for all trials. Not appending column.\n"
     ]
    },
    {
     "name": "stdout",
     "output_type": "stream",
     "text": [
      "There are no trials currently running - initialising Bayesian iteration trials.\n"
     ]
    },
    {
     "name": "stderr",
     "output_type": "stream",
     "text": [
      "[INFO 10-29 16:30:11] ax.service.ax_client: Generated new trial 11 with parameters {'x1': 1.339241, 'x2': 2.893257} using model BoTorch.\n",
      "[INFO 10-29 16:30:11] ax.service.ax_client: Saved JSON-serialized state of optimization to `/Users/thomasdodd/Library/CloudStorage/OneDrive-MillfieldEnterprisesLimited/Cambridge/GitHub/BO4ACST/Notebooks/Optimisation/Method20241028Dim2_qLogNoisyExpectedImprovement/AxExperiment.json`.\n",
      "/Users/thomasdodd/miniconda3/envs/BO4ACST_env/lib/python3.11/site-packages/ax/core/data.py:288: FutureWarning: The behavior of DataFrame concatenation with empty or all-NA entries is deprecated. In a future version, this will no longer exclude empty or all-NA columns when determining the result dtypes. To retain the old behavior, exclude the relevant entries before the concat operation.\n",
      "  return cls(df=pd.concat(dfs, axis=0, sort=True))\n",
      "[WARNING 10-29 16:30:11] ax.service.utils.report_utils: Column reason missing for all trials. Not appending column.\n",
      "/Users/thomasdodd/miniconda3/envs/BO4ACST_env/lib/python3.11/site-packages/ax/core/data.py:288: FutureWarning: The behavior of DataFrame concatenation with empty or all-NA entries is deprecated. In a future version, this will no longer exclude empty or all-NA columns when determining the result dtypes. To retain the old behavior, exclude the relevant entries before the concat operation.\n",
      "  return cls(df=pd.concat(dfs, axis=0, sort=True))\n",
      "[WARNING 10-29 16:30:11] ax.service.utils.report_utils: Column reason missing for all trials. Not appending column.\n",
      "[INFO 10-29 16:30:11] ax.service.ax_client: Completed trial 11 with data: {'t1': (0.342701, None)}.\n",
      "[INFO 10-29 16:30:11] ax.service.ax_client: Saved JSON-serialized state of optimization to `/Users/thomasdodd/Library/CloudStorage/OneDrive-MillfieldEnterprisesLimited/Cambridge/GitHub/BO4ACST/Notebooks/Optimisation/Method20241028Dim2_qLogNoisyExpectedImprovement/AxExperiment.json`.\n",
      "[WARNING 10-29 16:30:11] ax.service.utils.report_utils: Column reason missing for all trials. Not appending column.\n",
      "[WARNING 10-29 16:30:11] ax.service.utils.report_utils: Column reason missing for all trials. Not appending column.\n"
     ]
    },
    {
     "name": "stdout",
     "output_type": "stream",
     "text": [
      "There are no trials currently running - initialising Bayesian iteration trials.\n"
     ]
    },
    {
     "name": "stderr",
     "output_type": "stream",
     "text": [
      "[INFO 10-29 16:30:20] ax.service.ax_client: Generated new trial 12 with parameters {'x1': -4.390819, 'x2': 8.438095} using model BoTorch.\n",
      "[INFO 10-29 16:30:20] ax.service.ax_client: Saved JSON-serialized state of optimization to `/Users/thomasdodd/Library/CloudStorage/OneDrive-MillfieldEnterprisesLimited/Cambridge/GitHub/BO4ACST/Notebooks/Optimisation/Method20241028Dim2_qLogNoisyExpectedImprovement/AxExperiment.json`.\n",
      "/Users/thomasdodd/miniconda3/envs/BO4ACST_env/lib/python3.11/site-packages/ax/core/data.py:288: FutureWarning: The behavior of DataFrame concatenation with empty or all-NA entries is deprecated. In a future version, this will no longer exclude empty or all-NA columns when determining the result dtypes. To retain the old behavior, exclude the relevant entries before the concat operation.\n",
      "  return cls(df=pd.concat(dfs, axis=0, sort=True))\n",
      "[WARNING 10-29 16:30:20] ax.service.utils.report_utils: Column reason missing for all trials. Not appending column.\n",
      "/Users/thomasdodd/miniconda3/envs/BO4ACST_env/lib/python3.11/site-packages/ax/core/data.py:288: FutureWarning: The behavior of DataFrame concatenation with empty or all-NA entries is deprecated. In a future version, this will no longer exclude empty or all-NA columns when determining the result dtypes. To retain the old behavior, exclude the relevant entries before the concat operation.\n",
      "  return cls(df=pd.concat(dfs, axis=0, sort=True))\n",
      "[WARNING 10-29 16:30:20] ax.service.utils.report_utils: Column reason missing for all trials. Not appending column.\n",
      "[INFO 10-29 16:30:20] ax.service.ax_client: Completed trial 12 with data: {'t1': (58.642745, None)}.\n",
      "[INFO 10-29 16:30:20] ax.service.ax_client: Saved JSON-serialized state of optimization to `/Users/thomasdodd/Library/CloudStorage/OneDrive-MillfieldEnterprisesLimited/Cambridge/GitHub/BO4ACST/Notebooks/Optimisation/Method20241028Dim2_qLogNoisyExpectedImprovement/AxExperiment.json`.\n",
      "[WARNING 10-29 16:30:20] ax.service.utils.report_utils: Column reason missing for all trials. Not appending column.\n",
      "[WARNING 10-29 16:30:20] ax.service.utils.report_utils: Column reason missing for all trials. Not appending column.\n"
     ]
    },
    {
     "name": "stdout",
     "output_type": "stream",
     "text": [
      "There are no trials currently running - initialising Bayesian iteration trials.\n"
     ]
    },
    {
     "name": "stderr",
     "output_type": "stream",
     "text": [
      "[INFO 10-29 16:30:29] ax.service.ax_client: Generated new trial 13 with parameters {'x1': -0.576943, 'x2': 4.026349} using model BoTorch.\n",
      "[INFO 10-29 16:30:29] ax.service.ax_client: Saved JSON-serialized state of optimization to `/Users/thomasdodd/Library/CloudStorage/OneDrive-MillfieldEnterprisesLimited/Cambridge/GitHub/BO4ACST/Notebooks/Optimisation/Method20241028Dim2_qLogNoisyExpectedImprovement/AxExperiment.json`.\n",
      "/Users/thomasdodd/miniconda3/envs/BO4ACST_env/lib/python3.11/site-packages/ax/core/data.py:288: FutureWarning: The behavior of DataFrame concatenation with empty or all-NA entries is deprecated. In a future version, this will no longer exclude empty or all-NA columns when determining the result dtypes. To retain the old behavior, exclude the relevant entries before the concat operation.\n",
      "  return cls(df=pd.concat(dfs, axis=0, sort=True))\n",
      "[WARNING 10-29 16:30:29] ax.service.utils.report_utils: Column reason missing for all trials. Not appending column.\n",
      "/Users/thomasdodd/miniconda3/envs/BO4ACST_env/lib/python3.11/site-packages/ax/core/data.py:288: FutureWarning: The behavior of DataFrame concatenation with empty or all-NA entries is deprecated. In a future version, this will no longer exclude empty or all-NA columns when determining the result dtypes. To retain the old behavior, exclude the relevant entries before the concat operation.\n",
      "  return cls(df=pd.concat(dfs, axis=0, sort=True))\n",
      "[WARNING 10-29 16:30:29] ax.service.utils.report_utils: Column reason missing for all trials. Not appending column.\n",
      "[INFO 10-29 16:30:29] ax.service.ax_client: Completed trial 13 with data: {'t1': (4.752758, None)}.\n",
      "[INFO 10-29 16:30:29] ax.service.ax_client: Saved JSON-serialized state of optimization to `/Users/thomasdodd/Library/CloudStorage/OneDrive-MillfieldEnterprisesLimited/Cambridge/GitHub/BO4ACST/Notebooks/Optimisation/Method20241028Dim2_qLogNoisyExpectedImprovement/AxExperiment.json`.\n",
      "[WARNING 10-29 16:30:29] ax.service.utils.report_utils: Column reason missing for all trials. Not appending column.\n",
      "[WARNING 10-29 16:30:29] ax.service.utils.report_utils: Column reason missing for all trials. Not appending column.\n"
     ]
    },
    {
     "name": "stdout",
     "output_type": "stream",
     "text": [
      "There are no trials currently running - initialising Bayesian iteration trials.\n"
     ]
    },
    {
     "name": "stderr",
     "output_type": "stream",
     "text": [
      "[INFO 10-29 16:30:35] ax.service.ax_client: Generated new trial 14 with parameters {'x1': 2.622482, 'x2': 0.883716} using model BoTorch.\n",
      "[INFO 10-29 16:30:35] ax.service.ax_client: Saved JSON-serialized state of optimization to `/Users/thomasdodd/Library/CloudStorage/OneDrive-MillfieldEnterprisesLimited/Cambridge/GitHub/BO4ACST/Notebooks/Optimisation/Method20241028Dim2_qLogNoisyExpectedImprovement/AxExperiment.json`.\n",
      "/Users/thomasdodd/miniconda3/envs/BO4ACST_env/lib/python3.11/site-packages/ax/core/data.py:288: FutureWarning: The behavior of DataFrame concatenation with empty or all-NA entries is deprecated. In a future version, this will no longer exclude empty or all-NA columns when determining the result dtypes. To retain the old behavior, exclude the relevant entries before the concat operation.\n",
      "  return cls(df=pd.concat(dfs, axis=0, sort=True))\n",
      "[WARNING 10-29 16:30:35] ax.service.utils.report_utils: Column reason missing for all trials. Not appending column.\n",
      "/Users/thomasdodd/miniconda3/envs/BO4ACST_env/lib/python3.11/site-packages/ax/core/data.py:288: FutureWarning: The behavior of DataFrame concatenation with empty or all-NA entries is deprecated. In a future version, this will no longer exclude empty or all-NA columns when determining the result dtypes. To retain the old behavior, exclude the relevant entries before the concat operation.\n",
      "  return cls(df=pd.concat(dfs, axis=0, sort=True))\n",
      "[WARNING 10-29 16:30:35] ax.service.utils.report_utils: Column reason missing for all trials. Not appending column.\n",
      "[INFO 10-29 16:30:35] ax.service.ax_client: Completed trial 14 with data: {'t1': (8.086464, None)}.\n",
      "[INFO 10-29 16:30:35] ax.service.ax_client: Saved JSON-serialized state of optimization to `/Users/thomasdodd/Library/CloudStorage/OneDrive-MillfieldEnterprisesLimited/Cambridge/GitHub/BO4ACST/Notebooks/Optimisation/Method20241028Dim2_qLogNoisyExpectedImprovement/AxExperiment.json`.\n",
      "[WARNING 10-29 16:30:35] ax.service.utils.report_utils: Column reason missing for all trials. Not appending column.\n",
      "[WARNING 10-29 16:30:35] ax.service.utils.report_utils: Column reason missing for all trials. Not appending column.\n"
     ]
    },
    {
     "name": "stdout",
     "output_type": "stream",
     "text": [
      "There are no trials currently running - initialising Bayesian iteration trials.\n"
     ]
    },
    {
     "name": "stderr",
     "output_type": "stream",
     "text": [
      "[INFO 10-29 16:30:45] ax.service.ax_client: Generated new trial 15 with parameters {'x1': 0.422966, 'x2': 2.556197} using model BoTorch.\n",
      "[INFO 10-29 16:30:45] ax.service.ax_client: Saved JSON-serialized state of optimization to `/Users/thomasdodd/Library/CloudStorage/OneDrive-MillfieldEnterprisesLimited/Cambridge/GitHub/BO4ACST/Notebooks/Optimisation/Method20241028Dim2_qLogNoisyExpectedImprovement/AxExperiment.json`.\n",
      "/Users/thomasdodd/miniconda3/envs/BO4ACST_env/lib/python3.11/site-packages/ax/core/data.py:288: FutureWarning: The behavior of DataFrame concatenation with empty or all-NA entries is deprecated. In a future version, this will no longer exclude empty or all-NA columns when determining the result dtypes. To retain the old behavior, exclude the relevant entries before the concat operation.\n",
      "  return cls(df=pd.concat(dfs, axis=0, sort=True))\n",
      "[WARNING 10-29 16:30:45] ax.service.utils.report_utils: Column reason missing for all trials. Not appending column.\n",
      "/Users/thomasdodd/miniconda3/envs/BO4ACST_env/lib/python3.11/site-packages/ax/core/data.py:288: FutureWarning: The behavior of DataFrame concatenation with empty or all-NA entries is deprecated. In a future version, this will no longer exclude empty or all-NA columns when determining the result dtypes. To retain the old behavior, exclude the relevant entries before the concat operation.\n",
      "  return cls(df=pd.concat(dfs, axis=0, sort=True))\n",
      "[WARNING 10-29 16:30:45] ax.service.utils.report_utils: Column reason missing for all trials. Not appending column.\n",
      "[INFO 10-29 16:30:45] ax.service.ax_client: Completed trial 15 with data: {'t1': (4.698355, None)}.\n",
      "[INFO 10-29 16:30:45] ax.service.ax_client: Saved JSON-serialized state of optimization to `/Users/thomasdodd/Library/CloudStorage/OneDrive-MillfieldEnterprisesLimited/Cambridge/GitHub/BO4ACST/Notebooks/Optimisation/Method20241028Dim2_qLogNoisyExpectedImprovement/AxExperiment.json`.\n",
      "[WARNING 10-29 16:30:45] ax.service.utils.report_utils: Column reason missing for all trials. Not appending column.\n",
      "[WARNING 10-29 16:30:45] ax.service.utils.report_utils: Column reason missing for all trials. Not appending column.\n"
     ]
    },
    {
     "name": "stdout",
     "output_type": "stream",
     "text": [
      "There are no trials currently running - initialising Bayesian iteration trials.\n"
     ]
    },
    {
     "name": "stderr",
     "output_type": "stream",
     "text": [
      "[INFO 10-29 16:31:05] ax.service.ax_client: Generated new trial 16 with parameters {'x1': -1.327299, 'x2': 4.994289} using model BoTorch.\n",
      "[INFO 10-29 16:31:05] ax.service.ax_client: Saved JSON-serialized state of optimization to `/Users/thomasdodd/Library/CloudStorage/OneDrive-MillfieldEnterprisesLimited/Cambridge/GitHub/BO4ACST/Notebooks/Optimisation/Method20241028Dim2_qLogNoisyExpectedImprovement/AxExperiment.json`.\n",
      "/Users/thomasdodd/miniconda3/envs/BO4ACST_env/lib/python3.11/site-packages/ax/core/data.py:288: FutureWarning: The behavior of DataFrame concatenation with empty or all-NA entries is deprecated. In a future version, this will no longer exclude empty or all-NA columns when determining the result dtypes. To retain the old behavior, exclude the relevant entries before the concat operation.\n",
      "  return cls(df=pd.concat(dfs, axis=0, sort=True))\n",
      "[WARNING 10-29 16:31:05] ax.service.utils.report_utils: Column reason missing for all trials. Not appending column.\n",
      "/Users/thomasdodd/miniconda3/envs/BO4ACST_env/lib/python3.11/site-packages/ax/core/data.py:288: FutureWarning: The behavior of DataFrame concatenation with empty or all-NA entries is deprecated. In a future version, this will no longer exclude empty or all-NA columns when determining the result dtypes. To retain the old behavior, exclude the relevant entries before the concat operation.\n",
      "  return cls(df=pd.concat(dfs, axis=0, sort=True))\n",
      "[WARNING 10-29 16:31:05] ax.service.utils.report_utils: Column reason missing for all trials. Not appending column.\n",
      "[INFO 10-29 16:31:05] ax.service.ax_client: Completed trial 16 with data: {'t1': (9.837094, None)}.\n",
      "[INFO 10-29 16:31:05] ax.service.ax_client: Saved JSON-serialized state of optimization to `/Users/thomasdodd/Library/CloudStorage/OneDrive-MillfieldEnterprisesLimited/Cambridge/GitHub/BO4ACST/Notebooks/Optimisation/Method20241028Dim2_qLogNoisyExpectedImprovement/AxExperiment.json`.\n",
      "[WARNING 10-29 16:31:05] ax.service.utils.report_utils: Column reason missing for all trials. Not appending column.\n",
      "[WARNING 10-29 16:31:05] ax.service.utils.report_utils: Column reason missing for all trials. Not appending column.\n"
     ]
    },
    {
     "name": "stdout",
     "output_type": "stream",
     "text": [
      "There are no trials currently running - initialising Bayesian iteration trials.\n"
     ]
    },
    {
     "name": "stderr",
     "output_type": "stream",
     "text": [
      "[INFO 10-29 16:31:23] ax.service.ax_client: Generated new trial 17 with parameters {'x1': 1.192101, 'x2': 2.413157} using model BoTorch.\n",
      "[INFO 10-29 16:31:23] ax.service.ax_client: Saved JSON-serialized state of optimization to `/Users/thomasdodd/Library/CloudStorage/OneDrive-MillfieldEnterprisesLimited/Cambridge/GitHub/BO4ACST/Notebooks/Optimisation/Method20241028Dim2_qLogNoisyExpectedImprovement/AxExperiment.json`.\n",
      "/Users/thomasdodd/miniconda3/envs/BO4ACST_env/lib/python3.11/site-packages/ax/core/data.py:288: FutureWarning: The behavior of DataFrame concatenation with empty or all-NA entries is deprecated. In a future version, this will no longer exclude empty or all-NA columns when determining the result dtypes. To retain the old behavior, exclude the relevant entries before the concat operation.\n",
      "  return cls(df=pd.concat(dfs, axis=0, sort=True))\n",
      "[WARNING 10-29 16:31:23] ax.service.utils.report_utils: Column reason missing for all trials. Not appending column.\n",
      "/Users/thomasdodd/miniconda3/envs/BO4ACST_env/lib/python3.11/site-packages/ax/core/data.py:288: FutureWarning: The behavior of DataFrame concatenation with empty or all-NA entries is deprecated. In a future version, this will no longer exclude empty or all-NA columns when determining the result dtypes. To retain the old behavior, exclude the relevant entries before the concat operation.\n",
      "  return cls(df=pd.concat(dfs, axis=0, sort=True))\n",
      "[WARNING 10-29 16:31:23] ax.service.utils.report_utils: Column reason missing for all trials. Not appending column.\n",
      "[INFO 10-29 16:31:23] ax.service.ax_client: Completed trial 17 with data: {'t1': (1.004574, None)}.\n",
      "[INFO 10-29 16:31:23] ax.service.ax_client: Saved JSON-serialized state of optimization to `/Users/thomasdodd/Library/CloudStorage/OneDrive-MillfieldEnterprisesLimited/Cambridge/GitHub/BO4ACST/Notebooks/Optimisation/Method20241028Dim2_qLogNoisyExpectedImprovement/AxExperiment.json`.\n",
      "[WARNING 10-29 16:31:23] ax.service.utils.report_utils: Column reason missing for all trials. Not appending column.\n",
      "[WARNING 10-29 16:31:23] ax.service.utils.report_utils: Column reason missing for all trials. Not appending column.\n"
     ]
    },
    {
     "name": "stdout",
     "output_type": "stream",
     "text": [
      "There are no trials currently running - initialising Bayesian iteration trials.\n"
     ]
    },
    {
     "name": "stderr",
     "output_type": "stream",
     "text": [
      "[INFO 10-29 16:31:37] ax.service.ax_client: Generated new trial 18 with parameters {'x1': 0.252977, 'x2': 3.451619} using model BoTorch.\n",
      "[INFO 10-29 16:31:37] ax.service.ax_client: Saved JSON-serialized state of optimization to `/Users/thomasdodd/Library/CloudStorage/OneDrive-MillfieldEnterprisesLimited/Cambridge/GitHub/BO4ACST/Notebooks/Optimisation/Method20241028Dim2_qLogNoisyExpectedImprovement/AxExperiment.json`.\n",
      "/Users/thomasdodd/miniconda3/envs/BO4ACST_env/lib/python3.11/site-packages/ax/core/data.py:288: FutureWarning: The behavior of DataFrame concatenation with empty or all-NA entries is deprecated. In a future version, this will no longer exclude empty or all-NA columns when determining the result dtypes. To retain the old behavior, exclude the relevant entries before the concat operation.\n",
      "  return cls(df=pd.concat(dfs, axis=0, sort=True))\n",
      "[WARNING 10-29 16:31:37] ax.service.utils.report_utils: Column reason missing for all trials. Not appending column.\n",
      "/Users/thomasdodd/miniconda3/envs/BO4ACST_env/lib/python3.11/site-packages/ax/core/data.py:288: FutureWarning: The behavior of DataFrame concatenation with empty or all-NA entries is deprecated. In a future version, this will no longer exclude empty or all-NA columns when determining the result dtypes. To retain the old behavior, exclude the relevant entries before the concat operation.\n",
      "  return cls(df=pd.concat(dfs, axis=0, sort=True))\n",
      "[WARNING 10-29 16:31:37] ax.service.utils.report_utils: Column reason missing for all trials. Not appending column.\n",
      "[INFO 10-29 16:31:37] ax.service.ax_client: Completed trial 18 with data: {'t1': (1.111057, None)}.\n",
      "[INFO 10-29 16:31:37] ax.service.ax_client: Saved JSON-serialized state of optimization to `/Users/thomasdodd/Library/CloudStorage/OneDrive-MillfieldEnterprisesLimited/Cambridge/GitHub/BO4ACST/Notebooks/Optimisation/Method20241028Dim2_qLogNoisyExpectedImprovement/AxExperiment.json`.\n",
      "[WARNING 10-29 16:31:37] ax.service.utils.report_utils: Column reason missing for all trials. Not appending column.\n",
      "[WARNING 10-29 16:31:37] ax.service.utils.report_utils: Column reason missing for all trials. Not appending column.\n"
     ]
    },
    {
     "name": "stdout",
     "output_type": "stream",
     "text": [
      "There are no trials currently running - initialising Bayesian iteration trials.\n"
     ]
    },
    {
     "name": "stderr",
     "output_type": "stream",
     "text": [
      "[INFO 10-29 16:32:00] ax.service.ax_client: Generated new trial 19 with parameters {'x1': 1.467145, 'x2': 1.872468} using model BoTorch.\n",
      "[INFO 10-29 16:32:00] ax.service.ax_client: Saved JSON-serialized state of optimization to `/Users/thomasdodd/Library/CloudStorage/OneDrive-MillfieldEnterprisesLimited/Cambridge/GitHub/BO4ACST/Notebooks/Optimisation/Method20241028Dim2_qLogNoisyExpectedImprovement/AxExperiment.json`.\n",
      "/Users/thomasdodd/miniconda3/envs/BO4ACST_env/lib/python3.11/site-packages/ax/core/data.py:288: FutureWarning: The behavior of DataFrame concatenation with empty or all-NA entries is deprecated. In a future version, this will no longer exclude empty or all-NA columns when determining the result dtypes. To retain the old behavior, exclude the relevant entries before the concat operation.\n",
      "  return cls(df=pd.concat(dfs, axis=0, sort=True))\n",
      "[WARNING 10-29 16:32:00] ax.service.utils.report_utils: Column reason missing for all trials. Not appending column.\n",
      "/Users/thomasdodd/miniconda3/envs/BO4ACST_env/lib/python3.11/site-packages/ax/core/data.py:288: FutureWarning: The behavior of DataFrame concatenation with empty or all-NA entries is deprecated. In a future version, this will no longer exclude empty or all-NA columns when determining the result dtypes. To retain the old behavior, exclude the relevant entries before the concat operation.\n",
      "  return cls(df=pd.concat(dfs, axis=0, sort=True))\n",
      "[WARNING 10-29 16:32:00] ax.service.utils.report_utils: Column reason missing for all trials. Not appending column.\n",
      "[INFO 10-29 16:32:00] ax.service.ax_client: Completed trial 19 with data: {'t1': (3.233994, None)}.\n",
      "[INFO 10-29 16:32:00] ax.service.ax_client: Saved JSON-serialized state of optimization to `/Users/thomasdodd/Library/CloudStorage/OneDrive-MillfieldEnterprisesLimited/Cambridge/GitHub/BO4ACST/Notebooks/Optimisation/Method20241028Dim2_qLogNoisyExpectedImprovement/AxExperiment.json`.\n",
      "[WARNING 10-29 16:32:00] ax.service.utils.report_utils: Column reason missing for all trials. Not appending column.\n",
      "[WARNING 10-29 16:32:00] ax.service.utils.report_utils: Column reason missing for all trials. Not appending column.\n"
     ]
    },
    {
     "name": "stdout",
     "output_type": "stream",
     "text": [
      "There are no trials currently running - initialising Bayesian iteration trials.\n"
     ]
    },
    {
     "name": "stderr",
     "output_type": "stream",
     "text": [
      "[INFO 10-29 16:32:16] ax.service.ax_client: Generated new trial 20 with parameters {'x1': 0.360688, 'x2': 2.95543} using model BoTorch.\n",
      "[INFO 10-29 16:32:16] ax.service.ax_client: Saved JSON-serialized state of optimization to `/Users/thomasdodd/Library/CloudStorage/OneDrive-MillfieldEnterprisesLimited/Cambridge/GitHub/BO4ACST/Notebooks/Optimisation/Method20241028Dim2_qLogNoisyExpectedImprovement/AxExperiment.json`.\n",
      "/Users/thomasdodd/miniconda3/envs/BO4ACST_env/lib/python3.11/site-packages/ax/core/data.py:288: FutureWarning: The behavior of DataFrame concatenation with empty or all-NA entries is deprecated. In a future version, this will no longer exclude empty or all-NA columns when determining the result dtypes. To retain the old behavior, exclude the relevant entries before the concat operation.\n",
      "  return cls(df=pd.concat(dfs, axis=0, sort=True))\n",
      "[WARNING 10-29 16:32:16] ax.service.utils.report_utils: Column reason missing for all trials. Not appending column.\n",
      "/Users/thomasdodd/miniconda3/envs/BO4ACST_env/lib/python3.11/site-packages/ax/core/data.py:288: FutureWarning: The behavior of DataFrame concatenation with empty or all-NA entries is deprecated. In a future version, this will no longer exclude empty or all-NA columns when determining the result dtypes. To retain the old behavior, exclude the relevant entries before the concat operation.\n",
      "  return cls(df=pd.concat(dfs, axis=0, sort=True))\n",
      "[WARNING 10-29 16:32:16] ax.service.utils.report_utils: Column reason missing for all trials. Not appending column.\n",
      "[INFO 10-29 16:32:16] ax.service.ax_client: Completed trial 20 with data: {'t1': (2.281488, None)}.\n",
      "[INFO 10-29 16:32:17] ax.service.ax_client: Saved JSON-serialized state of optimization to `/Users/thomasdodd/Library/CloudStorage/OneDrive-MillfieldEnterprisesLimited/Cambridge/GitHub/BO4ACST/Notebooks/Optimisation/Method20241028Dim2_qLogNoisyExpectedImprovement/AxExperiment.json`.\n",
      "[WARNING 10-29 16:32:17] ax.service.utils.report_utils: Column reason missing for all trials. Not appending column.\n",
      "[WARNING 10-29 16:32:17] ax.service.utils.report_utils: Column reason missing for all trials. Not appending column.\n"
     ]
    },
    {
     "name": "stdout",
     "output_type": "stream",
     "text": [
      "There are no trials currently running - initialising Bayesian iteration trials.\n"
     ]
    },
    {
     "name": "stderr",
     "output_type": "stream",
     "text": [
      "[INFO 10-29 16:32:25] ax.service.ax_client: Generated new trial 21 with parameters {'x1': 0.737547, 'x2': 2.82442} using model BoTorch.\n",
      "[INFO 10-29 16:32:25] ax.service.ax_client: Saved JSON-serialized state of optimization to `/Users/thomasdodd/Library/CloudStorage/OneDrive-MillfieldEnterprisesLimited/Cambridge/GitHub/BO4ACST/Notebooks/Optimisation/Method20241028Dim2_qLogNoisyExpectedImprovement/AxExperiment.json`.\n",
      "/Users/thomasdodd/miniconda3/envs/BO4ACST_env/lib/python3.11/site-packages/ax/core/data.py:288: FutureWarning: The behavior of DataFrame concatenation with empty or all-NA entries is deprecated. In a future version, this will no longer exclude empty or all-NA columns when determining the result dtypes. To retain the old behavior, exclude the relevant entries before the concat operation.\n",
      "  return cls(df=pd.concat(dfs, axis=0, sort=True))\n",
      "[WARNING 10-29 16:32:25] ax.service.utils.report_utils: Column reason missing for all trials. Not appending column.\n",
      "/Users/thomasdodd/miniconda3/envs/BO4ACST_env/lib/python3.11/site-packages/ax/core/data.py:288: FutureWarning: The behavior of DataFrame concatenation with empty or all-NA entries is deprecated. In a future version, this will no longer exclude empty or all-NA columns when determining the result dtypes. To retain the old behavior, exclude the relevant entries before the concat operation.\n",
      "  return cls(df=pd.concat(dfs, axis=0, sort=True))\n",
      "[WARNING 10-29 16:32:25] ax.service.utils.report_utils: Column reason missing for all trials. Not appending column.\n",
      "[INFO 10-29 16:32:25] ax.service.ax_client: Completed trial 21 with data: {'t1': (0.867201, None)}.\n",
      "[INFO 10-29 16:32:25] ax.service.ax_client: Saved JSON-serialized state of optimization to `/Users/thomasdodd/Library/CloudStorage/OneDrive-MillfieldEnterprisesLimited/Cambridge/GitHub/BO4ACST/Notebooks/Optimisation/Method20241028Dim2_qLogNoisyExpectedImprovement/AxExperiment.json`.\n",
      "[WARNING 10-29 16:32:25] ax.service.utils.report_utils: Column reason missing for all trials. Not appending column.\n",
      "[WARNING 10-29 16:32:25] ax.service.utils.report_utils: Column reason missing for all trials. Not appending column.\n"
     ]
    },
    {
     "name": "stdout",
     "output_type": "stream",
     "text": [
      "There are no trials currently running - initialising Bayesian iteration trials.\n"
     ]
    },
    {
     "name": "stderr",
     "output_type": "stream",
     "text": [
      "[INFO 10-29 16:32:34] ax.service.ax_client: Generated new trial 22 with parameters {'x1': 0.890106, 'x2': 2.445834} using model BoTorch.\n",
      "[INFO 10-29 16:32:34] ax.service.ax_client: Saved JSON-serialized state of optimization to `/Users/thomasdodd/Library/CloudStorage/OneDrive-MillfieldEnterprisesLimited/Cambridge/GitHub/BO4ACST/Notebooks/Optimisation/Method20241028Dim2_qLogNoisyExpectedImprovement/AxExperiment.json`.\n",
      "/Users/thomasdodd/miniconda3/envs/BO4ACST_env/lib/python3.11/site-packages/ax/core/data.py:288: FutureWarning: The behavior of DataFrame concatenation with empty or all-NA entries is deprecated. In a future version, this will no longer exclude empty or all-NA columns when determining the result dtypes. To retain the old behavior, exclude the relevant entries before the concat operation.\n",
      "  return cls(df=pd.concat(dfs, axis=0, sort=True))\n",
      "[WARNING 10-29 16:32:34] ax.service.utils.report_utils: Column reason missing for all trials. Not appending column.\n",
      "/Users/thomasdodd/miniconda3/envs/BO4ACST_env/lib/python3.11/site-packages/ax/core/data.py:288: FutureWarning: The behavior of DataFrame concatenation with empty or all-NA entries is deprecated. In a future version, this will no longer exclude empty or all-NA columns when determining the result dtypes. To retain the old behavior, exclude the relevant entries before the concat operation.\n",
      "  return cls(df=pd.concat(dfs, axis=0, sort=True))\n",
      "[WARNING 10-29 16:32:34] ax.service.utils.report_utils: Column reason missing for all trials. Not appending column.\n",
      "[INFO 10-29 16:32:34] ax.service.ax_client: Completed trial 22 with data: {'t1': (2.083077, None)}.\n",
      "[INFO 10-29 16:32:34] ax.service.ax_client: Saved JSON-serialized state of optimization to `/Users/thomasdodd/Library/CloudStorage/OneDrive-MillfieldEnterprisesLimited/Cambridge/GitHub/BO4ACST/Notebooks/Optimisation/Method20241028Dim2_qLogNoisyExpectedImprovement/AxExperiment.json`.\n",
      "[WARNING 10-29 16:32:34] ax.service.utils.report_utils: Column reason missing for all trials. Not appending column.\n",
      "[WARNING 10-29 16:32:34] ax.service.utils.report_utils: Column reason missing for all trials. Not appending column.\n"
     ]
    },
    {
     "name": "stdout",
     "output_type": "stream",
     "text": [
      "There are no trials currently running - initialising Bayesian iteration trials.\n"
     ]
    },
    {
     "name": "stderr",
     "output_type": "stream",
     "text": [
      "/Users/thomasdodd/miniconda3/envs/BO4ACST_env/lib/python3.11/site-packages/botorch/optim/optimize.py:568: RuntimeWarning: Optimization failed in `gen_candidates_scipy` with the following warning(s):\n",
      "[OptimizationWarning('Optimization failed within `scipy.optimize.minimize` with status 2 and message ABNORMAL_TERMINATION_IN_LNSRCH.')]\n",
      "Trying again with a new set of initial conditions.\n",
      "  return _optimize_acqf_batch(opt_inputs=opt_inputs)\n",
      "/Users/thomasdodd/miniconda3/envs/BO4ACST_env/lib/python3.11/site-packages/botorch/optim/optimize.py:568: RuntimeWarning: Optimization failed on the second try, after generating a new set of initial conditions.\n",
      "  return _optimize_acqf_batch(opt_inputs=opt_inputs)\n",
      "[INFO 10-29 16:33:02] ax.service.ax_client: Generated new trial 23 with parameters {'x1': 1.660349, 'x2': 2.078796} using model BoTorch.\n",
      "[INFO 10-29 16:33:02] ax.service.ax_client: Saved JSON-serialized state of optimization to `/Users/thomasdodd/Library/CloudStorage/OneDrive-MillfieldEnterprisesLimited/Cambridge/GitHub/BO4ACST/Notebooks/Optimisation/Method20241028Dim2_qLogNoisyExpectedImprovement/AxExperiment.json`.\n",
      "/Users/thomasdodd/miniconda3/envs/BO4ACST_env/lib/python3.11/site-packages/ax/core/data.py:288: FutureWarning: The behavior of DataFrame concatenation with empty or all-NA entries is deprecated. In a future version, this will no longer exclude empty or all-NA columns when determining the result dtypes. To retain the old behavior, exclude the relevant entries before the concat operation.\n",
      "  return cls(df=pd.concat(dfs, axis=0, sort=True))\n",
      "[WARNING 10-29 16:33:02] ax.service.utils.report_utils: Column reason missing for all trials. Not appending column.\n",
      "/Users/thomasdodd/miniconda3/envs/BO4ACST_env/lib/python3.11/site-packages/ax/core/data.py:288: FutureWarning: The behavior of DataFrame concatenation with empty or all-NA entries is deprecated. In a future version, this will no longer exclude empty or all-NA columns when determining the result dtypes. To retain the old behavior, exclude the relevant entries before the concat operation.\n",
      "  return cls(df=pd.concat(dfs, axis=0, sort=True))\n",
      "[WARNING 10-29 16:33:02] ax.service.utils.report_utils: Column reason missing for all trials. Not appending column.\n",
      "[INFO 10-29 16:33:02] ax.service.ax_client: Completed trial 23 with data: {'t1': (1.556858, None)}.\n",
      "[INFO 10-29 16:33:02] ax.service.ax_client: Saved JSON-serialized state of optimization to `/Users/thomasdodd/Library/CloudStorage/OneDrive-MillfieldEnterprisesLimited/Cambridge/GitHub/BO4ACST/Notebooks/Optimisation/Method20241028Dim2_qLogNoisyExpectedImprovement/AxExperiment.json`.\n",
      "[WARNING 10-29 16:33:02] ax.service.utils.report_utils: Column reason missing for all trials. Not appending column.\n",
      "[INFO 10-29 16:33:02] ax.service.ax_client: Starting optimization with verbose logging. To disable logging, set the `verbose_logging` argument to `False`. Note that float values in the logs are rounded to 6 decimal points.\n",
      "[INFO 10-29 16:33:02] ax.service.utils.instantiation: Created search space: SearchSpace(parameters=[RangeParameter(name='x1', parameter_type=FLOAT, range=[-10.0, 10.0]), RangeParameter(name='x2', parameter_type=FLOAT, range=[-10.0, 10.0])], parameter_constraints=[]).\n",
      "[INFO 10-29 16:33:02] ax.service.ax_client: Saved JSON-serialized state of optimization to `/Users/thomasdodd/Library/CloudStorage/OneDrive-MillfieldEnterprisesLimited/Cambridge/GitHub/BO4ACST/Notebooks/Optimisation/Method20241028Dim2_qLogNoisyExpectedImprovement/AxExperiment.json`.\n",
      "[INFO 10-29 16:33:02] ax.core.experiment: Attached custom parameterizations [{'x1': -10.0, 'x2': -10.0}] as trial 0.\n",
      "[INFO 10-29 16:33:02] ax.core.experiment: Attached custom parameterizations [{'x1': 0.0, 'x2': -10.0}] as trial 1.\n",
      "[INFO 10-29 16:33:02] ax.core.experiment: Attached custom parameterizations [{'x1': 10.0, 'x2': -10.0}] as trial 2.\n",
      "[INFO 10-29 16:33:02] ax.core.experiment: Attached custom parameterizations [{'x1': -10.0, 'x2': 0.0}] as trial 3.\n",
      "[INFO 10-29 16:33:02] ax.core.experiment: Attached custom parameterizations [{'x1': 0.0, 'x2': 0.0}] as trial 4.\n",
      "[INFO 10-29 16:33:02] ax.core.experiment: Attached custom parameterizations [{'x1': 10.0, 'x2': 0.0}] as trial 5.\n",
      "[INFO 10-29 16:33:02] ax.core.experiment: Attached custom parameterizations [{'x1': -10.0, 'x2': 10.0}] as trial 6.\n",
      "[INFO 10-29 16:33:02] ax.core.experiment: Attached custom parameterizations [{'x1': 0.0, 'x2': 10.0}] as trial 7.\n",
      "[INFO 10-29 16:33:02] ax.core.experiment: Attached custom parameterizations [{'x1': 10.0, 'x2': 10.0}] as trial 8.\n",
      "[INFO 10-29 16:33:02] ax.service.ax_client: Saved JSON-serialized state of optimization to `/Users/thomasdodd/Library/CloudStorage/OneDrive-MillfieldEnterprisesLimited/Cambridge/GitHub/BO4ACST/Notebooks/Optimisation/Method20241028Dim2_qLogNoisyExpectedImprovement/AxExperiment.json`.\n",
      "[WARNING 10-29 16:33:02] ax.service.utils.report_utils: Column reason missing for all trials. Not appending column.\n",
      "[INFO 10-29 16:33:02] ax.service.utils.report_utils: No results present for the specified metrics `[Metric('t1')]`. Returning arm parameters and metadata only.\n",
      "[WARNING 10-29 16:33:02] ax.service.utils.report_utils: Column reason missing for all trials. Not appending column.\n",
      "[INFO 10-29 16:33:02] ax.service.utils.report_utils: No results present for the specified metrics `[Metric('t1')]`. Returning arm parameters and metadata only.\n",
      "[INFO 10-29 16:33:02] ax.service.ax_client: Completed trial 0 with data: {'t1': (2594.0, None)}.\n",
      "[INFO 10-29 16:33:02] ax.service.ax_client: Saved JSON-serialized state of optimization to `/Users/thomasdodd/Library/CloudStorage/OneDrive-MillfieldEnterprisesLimited/Cambridge/GitHub/BO4ACST/Notebooks/Optimisation/Method20241028Dim2_qLogNoisyExpectedImprovement/AxExperiment.json`.\n",
      "[INFO 10-29 16:33:02] ax.service.ax_client: Completed trial 1 with data: {'t1': (954.0, None)}.\n",
      "[INFO 10-29 16:33:02] ax.service.ax_client: Saved JSON-serialized state of optimization to `/Users/thomasdodd/Library/CloudStorage/OneDrive-MillfieldEnterprisesLimited/Cambridge/GitHub/BO4ACST/Notebooks/Optimisation/Method20241028Dim2_qLogNoisyExpectedImprovement/AxExperiment.json`.\n",
      "[INFO 10-29 16:33:02] ax.service.ax_client: Completed trial 2 with data: {'t1': (314.0, None)}.\n",
      "[INFO 10-29 16:33:02] ax.service.ax_client: Saved JSON-serialized state of optimization to `/Users/thomasdodd/Library/CloudStorage/OneDrive-MillfieldEnterprisesLimited/Cambridge/GitHub/BO4ACST/Notebooks/Optimisation/Method20241028Dim2_qLogNoisyExpectedImprovement/AxExperiment.json`.\n",
      "[INFO 10-29 16:33:02] ax.service.ax_client: Completed trial 3 with data: {'t1': (914.0, None)}.\n",
      "[INFO 10-29 16:33:02] ax.service.ax_client: Saved JSON-serialized state of optimization to `/Users/thomasdodd/Library/CloudStorage/OneDrive-MillfieldEnterprisesLimited/Cambridge/GitHub/BO4ACST/Notebooks/Optimisation/Method20241028Dim2_qLogNoisyExpectedImprovement/AxExperiment.json`.\n",
      "[INFO 10-29 16:33:02] ax.service.ax_client: Completed trial 4 with data: {'t1': (74.0, None)}.\n",
      "[INFO 10-29 16:33:02] ax.service.ax_client: Saved JSON-serialized state of optimization to `/Users/thomasdodd/Library/CloudStorage/OneDrive-MillfieldEnterprisesLimited/Cambridge/GitHub/BO4ACST/Notebooks/Optimisation/Method20241028Dim2_qLogNoisyExpectedImprovement/AxExperiment.json`.\n",
      "[INFO 10-29 16:33:02] ax.service.ax_client: Completed trial 5 with data: {'t1': (234.0, None)}.\n",
      "[INFO 10-29 16:33:02] ax.service.ax_client: Saved JSON-serialized state of optimization to `/Users/thomasdodd/Library/CloudStorage/OneDrive-MillfieldEnterprisesLimited/Cambridge/GitHub/BO4ACST/Notebooks/Optimisation/Method20241028Dim2_qLogNoisyExpectedImprovement/AxExperiment.json`.\n",
      "[INFO 10-29 16:33:02] ax.service.ax_client: Completed trial 6 with data: {'t1': (234.0, None)}.\n",
      "[INFO 10-29 16:33:02] ax.service.ax_client: Saved JSON-serialized state of optimization to `/Users/thomasdodd/Library/CloudStorage/OneDrive-MillfieldEnterprisesLimited/Cambridge/GitHub/BO4ACST/Notebooks/Optimisation/Method20241028Dim2_qLogNoisyExpectedImprovement/AxExperiment.json`.\n",
      "[INFO 10-29 16:33:02] ax.service.ax_client: Completed trial 7 with data: {'t1': (194.0, None)}.\n",
      "[INFO 10-29 16:33:02] ax.service.ax_client: Saved JSON-serialized state of optimization to `/Users/thomasdodd/Library/CloudStorage/OneDrive-MillfieldEnterprisesLimited/Cambridge/GitHub/BO4ACST/Notebooks/Optimisation/Method20241028Dim2_qLogNoisyExpectedImprovement/AxExperiment.json`.\n",
      "[INFO 10-29 16:33:02] ax.service.ax_client: Completed trial 8 with data: {'t1': (1154.0, None)}.\n",
      "[INFO 10-29 16:33:03] ax.service.ax_client: Saved JSON-serialized state of optimization to `/Users/thomasdodd/Library/CloudStorage/OneDrive-MillfieldEnterprisesLimited/Cambridge/GitHub/BO4ACST/Notebooks/Optimisation/Method20241028Dim2_qLogNoisyExpectedImprovement/AxExperiment.json`.\n",
      "[WARNING 10-29 16:33:03] ax.service.utils.report_utils: Column reason missing for all trials. Not appending column.\n",
      "[WARNING 10-29 16:33:03] ax.service.utils.report_utils: Column reason missing for all trials. Not appending column.\n"
     ]
    },
    {
     "name": "stdout",
     "output_type": "stream",
     "text": [
      "[74.         24.8461284  24.8461284   0.34270099  0.34270099  0.34270099\n",
      "  0.34270099  0.34270099  0.34270099  0.34270099  0.34270099  0.34270099\n",
      "  0.34270099  0.34270099  0.34270099  0.34270099]\n",
      "A new experiment has been created and initialised.\n",
      "No previous or current trials detected - initialising prior-forming trials.\n",
      "Samples gridded = 9\n",
      "There are no trials currently running - initialising Bayesian iteration trials.\n"
     ]
    },
    {
     "name": "stderr",
     "output_type": "stream",
     "text": [
      "[INFO 10-29 16:33:08] ax.service.ax_client: Generated new trial 9 with parameters {'x1': -2.668124, 'x2': 5.828128} using model BoTorch.\n",
      "[INFO 10-29 16:33:08] ax.service.ax_client: Saved JSON-serialized state of optimization to `/Users/thomasdodd/Library/CloudStorage/OneDrive-MillfieldEnterprisesLimited/Cambridge/GitHub/BO4ACST/Notebooks/Optimisation/Method20241028Dim2_qLogNoisyExpectedImprovement/AxExperiment.json`.\n",
      "/Users/thomasdodd/miniconda3/envs/BO4ACST_env/lib/python3.11/site-packages/ax/core/data.py:288: FutureWarning: The behavior of DataFrame concatenation with empty or all-NA entries is deprecated. In a future version, this will no longer exclude empty or all-NA columns when determining the result dtypes. To retain the old behavior, exclude the relevant entries before the concat operation.\n",
      "  return cls(df=pd.concat(dfs, axis=0, sort=True))\n",
      "[WARNING 10-29 16:33:08] ax.service.utils.report_utils: Column reason missing for all trials. Not appending column.\n",
      "/Users/thomasdodd/miniconda3/envs/BO4ACST_env/lib/python3.11/site-packages/ax/core/data.py:288: FutureWarning: The behavior of DataFrame concatenation with empty or all-NA entries is deprecated. In a future version, this will no longer exclude empty or all-NA columns when determining the result dtypes. To retain the old behavior, exclude the relevant entries before the concat operation.\n",
      "  return cls(df=pd.concat(dfs, axis=0, sort=True))\n",
      "[WARNING 10-29 16:33:08] ax.service.utils.report_utils: Column reason missing for all trials. Not appending column.\n",
      "[INFO 10-29 16:33:08] ax.service.ax_client: Completed trial 9 with data: {'t1': (24.275813, None)}.\n",
      "[INFO 10-29 16:33:08] ax.service.ax_client: Saved JSON-serialized state of optimization to `/Users/thomasdodd/Library/CloudStorage/OneDrive-MillfieldEnterprisesLimited/Cambridge/GitHub/BO4ACST/Notebooks/Optimisation/Method20241028Dim2_qLogNoisyExpectedImprovement/AxExperiment.json`.\n",
      "[WARNING 10-29 16:33:08] ax.service.utils.report_utils: Column reason missing for all trials. Not appending column.\n",
      "[WARNING 10-29 16:33:08] ax.service.utils.report_utils: Column reason missing for all trials. Not appending column.\n"
     ]
    },
    {
     "name": "stdout",
     "output_type": "stream",
     "text": [
      "There are no trials currently running - initialising Bayesian iteration trials.\n"
     ]
    },
    {
     "name": "stderr",
     "output_type": "stream",
     "text": [
      "[INFO 10-29 16:33:14] ax.service.ax_client: Generated new trial 10 with parameters {'x1': 4.977397, 'x2': -1.711522} using model BoTorch.\n",
      "[INFO 10-29 16:33:14] ax.service.ax_client: Saved JSON-serialized state of optimization to `/Users/thomasdodd/Library/CloudStorage/OneDrive-MillfieldEnterprisesLimited/Cambridge/GitHub/BO4ACST/Notebooks/Optimisation/Method20241028Dim2_qLogNoisyExpectedImprovement/AxExperiment.json`.\n",
      "/Users/thomasdodd/miniconda3/envs/BO4ACST_env/lib/python3.11/site-packages/ax/core/data.py:288: FutureWarning: The behavior of DataFrame concatenation with empty or all-NA entries is deprecated. In a future version, this will no longer exclude empty or all-NA columns when determining the result dtypes. To retain the old behavior, exclude the relevant entries before the concat operation.\n",
      "  return cls(df=pd.concat(dfs, axis=0, sort=True))\n",
      "[WARNING 10-29 16:33:14] ax.service.utils.report_utils: Column reason missing for all trials. Not appending column.\n",
      "/Users/thomasdodd/miniconda3/envs/BO4ACST_env/lib/python3.11/site-packages/ax/core/data.py:288: FutureWarning: The behavior of DataFrame concatenation with empty or all-NA entries is deprecated. In a future version, this will no longer exclude empty or all-NA columns when determining the result dtypes. To retain the old behavior, exclude the relevant entries before the concat operation.\n",
      "  return cls(df=pd.concat(dfs, axis=0, sort=True))\n",
      "[WARNING 10-29 16:33:14] ax.service.utils.report_utils: Column reason missing for all trials. Not appending column.\n",
      "[INFO 10-29 16:33:14] ax.service.ax_client: Completed trial 10 with data: {'t1': (40.173888, None)}.\n",
      "[INFO 10-29 16:33:14] ax.service.ax_client: Saved JSON-serialized state of optimization to `/Users/thomasdodd/Library/CloudStorage/OneDrive-MillfieldEnterprisesLimited/Cambridge/GitHub/BO4ACST/Notebooks/Optimisation/Method20241028Dim2_qLogNoisyExpectedImprovement/AxExperiment.json`.\n",
      "[WARNING 10-29 16:33:14] ax.service.utils.report_utils: Column reason missing for all trials. Not appending column.\n",
      "[WARNING 10-29 16:33:14] ax.service.utils.report_utils: Column reason missing for all trials. Not appending column.\n"
     ]
    },
    {
     "name": "stdout",
     "output_type": "stream",
     "text": [
      "There are no trials currently running - initialising Bayesian iteration trials.\n"
     ]
    },
    {
     "name": "stderr",
     "output_type": "stream",
     "text": [
      "[INFO 10-29 16:33:19] ax.service.ax_client: Generated new trial 11 with parameters {'x1': 1.359138, 'x2': 2.833189} using model BoTorch.\n",
      "[INFO 10-29 16:33:19] ax.service.ax_client: Saved JSON-serialized state of optimization to `/Users/thomasdodd/Library/CloudStorage/OneDrive-MillfieldEnterprisesLimited/Cambridge/GitHub/BO4ACST/Notebooks/Optimisation/Method20241028Dim2_qLogNoisyExpectedImprovement/AxExperiment.json`.\n",
      "/Users/thomasdodd/miniconda3/envs/BO4ACST_env/lib/python3.11/site-packages/ax/core/data.py:288: FutureWarning: The behavior of DataFrame concatenation with empty or all-NA entries is deprecated. In a future version, this will no longer exclude empty or all-NA columns when determining the result dtypes. To retain the old behavior, exclude the relevant entries before the concat operation.\n",
      "  return cls(df=pd.concat(dfs, axis=0, sort=True))\n",
      "[WARNING 10-29 16:33:19] ax.service.utils.report_utils: Column reason missing for all trials. Not appending column.\n",
      "/Users/thomasdodd/miniconda3/envs/BO4ACST_env/lib/python3.11/site-packages/ax/core/data.py:288: FutureWarning: The behavior of DataFrame concatenation with empty or all-NA entries is deprecated. In a future version, this will no longer exclude empty or all-NA columns when determining the result dtypes. To retain the old behavior, exclude the relevant entries before the concat operation.\n",
      "  return cls(df=pd.concat(dfs, axis=0, sort=True))\n",
      "[WARNING 10-29 16:33:19] ax.service.utils.report_utils: Column reason missing for all trials. Not appending column.\n",
      "[INFO 10-29 16:33:19] ax.service.ax_client: Completed trial 11 with data: {'t1': (0.304765, None)}.\n",
      "[INFO 10-29 16:33:19] ax.service.ax_client: Saved JSON-serialized state of optimization to `/Users/thomasdodd/Library/CloudStorage/OneDrive-MillfieldEnterprisesLimited/Cambridge/GitHub/BO4ACST/Notebooks/Optimisation/Method20241028Dim2_qLogNoisyExpectedImprovement/AxExperiment.json`.\n",
      "[WARNING 10-29 16:33:19] ax.service.utils.report_utils: Column reason missing for all trials. Not appending column.\n",
      "[WARNING 10-29 16:33:19] ax.service.utils.report_utils: Column reason missing for all trials. Not appending column.\n"
     ]
    },
    {
     "name": "stdout",
     "output_type": "stream",
     "text": [
      "There are no trials currently running - initialising Bayesian iteration trials.\n"
     ]
    },
    {
     "name": "stderr",
     "output_type": "stream",
     "text": [
      "[INFO 10-29 16:33:27] ax.service.ax_client: Generated new trial 12 with parameters {'x1': -4.294217, 'x2': 8.112328} using model BoTorch.\n",
      "[INFO 10-29 16:33:27] ax.service.ax_client: Saved JSON-serialized state of optimization to `/Users/thomasdodd/Library/CloudStorage/OneDrive-MillfieldEnterprisesLimited/Cambridge/GitHub/BO4ACST/Notebooks/Optimisation/Method20241028Dim2_qLogNoisyExpectedImprovement/AxExperiment.json`.\n",
      "/Users/thomasdodd/miniconda3/envs/BO4ACST_env/lib/python3.11/site-packages/ax/core/data.py:288: FutureWarning: The behavior of DataFrame concatenation with empty or all-NA entries is deprecated. In a future version, this will no longer exclude empty or all-NA columns when determining the result dtypes. To retain the old behavior, exclude the relevant entries before the concat operation.\n",
      "  return cls(df=pd.concat(dfs, axis=0, sort=True))\n",
      "[WARNING 10-29 16:33:27] ax.service.utils.report_utils: Column reason missing for all trials. Not appending column.\n",
      "/Users/thomasdodd/miniconda3/envs/BO4ACST_env/lib/python3.11/site-packages/ax/core/data.py:288: FutureWarning: The behavior of DataFrame concatenation with empty or all-NA entries is deprecated. In a future version, this will no longer exclude empty or all-NA columns when determining the result dtypes. To retain the old behavior, exclude the relevant entries before the concat operation.\n",
      "  return cls(df=pd.concat(dfs, axis=0, sort=True))\n",
      "[WARNING 10-29 16:33:27] ax.service.utils.report_utils: Column reason missing for all trials. Not appending column.\n",
      "[INFO 10-29 16:33:27] ax.service.ax_client: Completed trial 12 with data: {'t1': (54.296958, None)}.\n",
      "[INFO 10-29 16:33:27] ax.service.ax_client: Saved JSON-serialized state of optimization to `/Users/thomasdodd/Library/CloudStorage/OneDrive-MillfieldEnterprisesLimited/Cambridge/GitHub/BO4ACST/Notebooks/Optimisation/Method20241028Dim2_qLogNoisyExpectedImprovement/AxExperiment.json`.\n",
      "[WARNING 10-29 16:33:27] ax.service.utils.report_utils: Column reason missing for all trials. Not appending column.\n",
      "[WARNING 10-29 16:33:27] ax.service.utils.report_utils: Column reason missing for all trials. Not appending column.\n"
     ]
    },
    {
     "name": "stdout",
     "output_type": "stream",
     "text": [
      "There are no trials currently running - initialising Bayesian iteration trials.\n"
     ]
    },
    {
     "name": "stderr",
     "output_type": "stream",
     "text": [
      "[INFO 10-29 16:33:34] ax.service.ax_client: Generated new trial 13 with parameters {'x1': -0.653228, 'x2': 4.104483} using model BoTorch.\n",
      "[INFO 10-29 16:33:34] ax.service.ax_client: Saved JSON-serialized state of optimization to `/Users/thomasdodd/Library/CloudStorage/OneDrive-MillfieldEnterprisesLimited/Cambridge/GitHub/BO4ACST/Notebooks/Optimisation/Method20241028Dim2_qLogNoisyExpectedImprovement/AxExperiment.json`.\n",
      "/Users/thomasdodd/miniconda3/envs/BO4ACST_env/lib/python3.11/site-packages/ax/core/data.py:288: FutureWarning: The behavior of DataFrame concatenation with empty or all-NA entries is deprecated. In a future version, this will no longer exclude empty or all-NA columns when determining the result dtypes. To retain the old behavior, exclude the relevant entries before the concat operation.\n",
      "  return cls(df=pd.concat(dfs, axis=0, sort=True))\n",
      "[WARNING 10-29 16:33:34] ax.service.utils.report_utils: Column reason missing for all trials. Not appending column.\n",
      "/Users/thomasdodd/miniconda3/envs/BO4ACST_env/lib/python3.11/site-packages/ax/core/data.py:288: FutureWarning: The behavior of DataFrame concatenation with empty or all-NA entries is deprecated. In a future version, this will no longer exclude empty or all-NA columns when determining the result dtypes. To retain the old behavior, exclude the relevant entries before the concat operation.\n",
      "  return cls(df=pd.concat(dfs, axis=0, sort=True))\n",
      "[WARNING 10-29 16:33:34] ax.service.utils.report_utils: Column reason missing for all trials. Not appending column.\n",
      "[INFO 10-29 16:33:34] ax.service.ax_client: Completed trial 13 with data: {'t1': (5.15753, None)}.\n",
      "[INFO 10-29 16:33:34] ax.service.ax_client: Saved JSON-serialized state of optimization to `/Users/thomasdodd/Library/CloudStorage/OneDrive-MillfieldEnterprisesLimited/Cambridge/GitHub/BO4ACST/Notebooks/Optimisation/Method20241028Dim2_qLogNoisyExpectedImprovement/AxExperiment.json`.\n",
      "[WARNING 10-29 16:33:34] ax.service.utils.report_utils: Column reason missing for all trials. Not appending column.\n",
      "[WARNING 10-29 16:33:34] ax.service.utils.report_utils: Column reason missing for all trials. Not appending column.\n"
     ]
    },
    {
     "name": "stdout",
     "output_type": "stream",
     "text": [
      "There are no trials currently running - initialising Bayesian iteration trials.\n"
     ]
    },
    {
     "name": "stderr",
     "output_type": "stream",
     "text": [
      "[INFO 10-29 16:33:40] ax.service.ax_client: Generated new trial 14 with parameters {'x1': 2.864305, 'x2': 0.591037} using model BoTorch.\n",
      "[INFO 10-29 16:33:40] ax.service.ax_client: Saved JSON-serialized state of optimization to `/Users/thomasdodd/Library/CloudStorage/OneDrive-MillfieldEnterprisesLimited/Cambridge/GitHub/BO4ACST/Notebooks/Optimisation/Method20241028Dim2_qLogNoisyExpectedImprovement/AxExperiment.json`.\n",
      "/Users/thomasdodd/miniconda3/envs/BO4ACST_env/lib/python3.11/site-packages/ax/core/data.py:288: FutureWarning: The behavior of DataFrame concatenation with empty or all-NA entries is deprecated. In a future version, this will no longer exclude empty or all-NA columns when determining the result dtypes. To retain the old behavior, exclude the relevant entries before the concat operation.\n",
      "  return cls(df=pd.concat(dfs, axis=0, sort=True))\n",
      "[WARNING 10-29 16:33:40] ax.service.utils.report_utils: Column reason missing for all trials. Not appending column.\n",
      "/Users/thomasdodd/miniconda3/envs/BO4ACST_env/lib/python3.11/site-packages/ax/core/data.py:288: FutureWarning: The behavior of DataFrame concatenation with empty or all-NA entries is deprecated. In a future version, this will no longer exclude empty or all-NA columns when determining the result dtypes. To retain the old behavior, exclude the relevant entries before the concat operation.\n",
      "  return cls(df=pd.concat(dfs, axis=0, sort=True))\n",
      "[WARNING 10-29 16:33:40] ax.service.utils.report_utils: Column reason missing for all trials. Not appending column.\n",
      "[INFO 10-29 16:33:40] ax.service.ax_client: Completed trial 14 with data: {'t1': (10.465349, None)}.\n",
      "[INFO 10-29 16:33:40] ax.service.ax_client: Saved JSON-serialized state of optimization to `/Users/thomasdodd/Library/CloudStorage/OneDrive-MillfieldEnterprisesLimited/Cambridge/GitHub/BO4ACST/Notebooks/Optimisation/Method20241028Dim2_qLogNoisyExpectedImprovement/AxExperiment.json`.\n",
      "[WARNING 10-29 16:33:40] ax.service.utils.report_utils: Column reason missing for all trials. Not appending column.\n",
      "[WARNING 10-29 16:33:40] ax.service.utils.report_utils: Column reason missing for all trials. Not appending column.\n"
     ]
    },
    {
     "name": "stdout",
     "output_type": "stream",
     "text": [
      "There are no trials currently running - initialising Bayesian iteration trials.\n"
     ]
    },
    {
     "name": "stderr",
     "output_type": "stream",
     "text": [
      "[INFO 10-29 16:33:49] ax.service.ax_client: Generated new trial 15 with parameters {'x1': 0.607577, 'x2': 2.464917} using model BoTorch.\n",
      "[INFO 10-29 16:33:49] ax.service.ax_client: Saved JSON-serialized state of optimization to `/Users/thomasdodd/Library/CloudStorage/OneDrive-MillfieldEnterprisesLimited/Cambridge/GitHub/BO4ACST/Notebooks/Optimisation/Method20241028Dim2_qLogNoisyExpectedImprovement/AxExperiment.json`.\n",
      "/Users/thomasdodd/miniconda3/envs/BO4ACST_env/lib/python3.11/site-packages/ax/core/data.py:288: FutureWarning: The behavior of DataFrame concatenation with empty or all-NA entries is deprecated. In a future version, this will no longer exclude empty or all-NA columns when determining the result dtypes. To retain the old behavior, exclude the relevant entries before the concat operation.\n",
      "  return cls(df=pd.concat(dfs, axis=0, sort=True))\n",
      "[WARNING 10-29 16:33:49] ax.service.utils.report_utils: Column reason missing for all trials. Not appending column.\n",
      "/Users/thomasdodd/miniconda3/envs/BO4ACST_env/lib/python3.11/site-packages/ax/core/data.py:288: FutureWarning: The behavior of DataFrame concatenation with empty or all-NA entries is deprecated. In a future version, this will no longer exclude empty or all-NA columns when determining the result dtypes. To retain the old behavior, exclude the relevant entries before the concat operation.\n",
      "  return cls(df=pd.concat(dfs, axis=0, sort=True))\n",
      "[WARNING 10-29 16:33:49] ax.service.utils.report_utils: Column reason missing for all trials. Not appending column.\n",
      "[INFO 10-29 16:33:49] ax.service.ax_client: Completed trial 15 with data: {'t1': (3.881384, None)}.\n",
      "[INFO 10-29 16:33:49] ax.service.ax_client: Saved JSON-serialized state of optimization to `/Users/thomasdodd/Library/CloudStorage/OneDrive-MillfieldEnterprisesLimited/Cambridge/GitHub/BO4ACST/Notebooks/Optimisation/Method20241028Dim2_qLogNoisyExpectedImprovement/AxExperiment.json`.\n",
      "[WARNING 10-29 16:33:49] ax.service.utils.report_utils: Column reason missing for all trials. Not appending column.\n",
      "[WARNING 10-29 16:33:49] ax.service.utils.report_utils: Column reason missing for all trials. Not appending column.\n"
     ]
    },
    {
     "name": "stdout",
     "output_type": "stream",
     "text": [
      "There are no trials currently running - initialising Bayesian iteration trials.\n"
     ]
    },
    {
     "name": "stderr",
     "output_type": "stream",
     "text": [
      "[INFO 10-29 16:33:58] ax.service.ax_client: Generated new trial 16 with parameters {'x1': -0.039482, 'x2': 4.06097} using model BoTorch.\n",
      "[INFO 10-29 16:33:58] ax.service.ax_client: Saved JSON-serialized state of optimization to `/Users/thomasdodd/Library/CloudStorage/OneDrive-MillfieldEnterprisesLimited/Cambridge/GitHub/BO4ACST/Notebooks/Optimisation/Method20241028Dim2_qLogNoisyExpectedImprovement/AxExperiment.json`.\n",
      "/Users/thomasdodd/miniconda3/envs/BO4ACST_env/lib/python3.11/site-packages/ax/core/data.py:288: FutureWarning: The behavior of DataFrame concatenation with empty or all-NA entries is deprecated. In a future version, this will no longer exclude empty or all-NA columns when determining the result dtypes. To retain the old behavior, exclude the relevant entries before the concat operation.\n",
      "  return cls(df=pd.concat(dfs, axis=0, sort=True))\n",
      "[WARNING 10-29 16:33:58] ax.service.utils.report_utils: Column reason missing for all trials. Not appending column.\n",
      "/Users/thomasdodd/miniconda3/envs/BO4ACST_env/lib/python3.11/site-packages/ax/core/data.py:288: FutureWarning: The behavior of DataFrame concatenation with empty or all-NA entries is deprecated. In a future version, this will no longer exclude empty or all-NA columns when determining the result dtypes. To retain the old behavior, exclude the relevant entries before the concat operation.\n",
      "  return cls(df=pd.concat(dfs, axis=0, sort=True))\n",
      "[WARNING 10-29 16:33:58] ax.service.utils.report_utils: Column reason missing for all trials. Not appending column.\n",
      "[INFO 10-29 16:33:58] ax.service.ax_client: Completed trial 16 with data: {'t1': (2.208027, None)}.\n",
      "[INFO 10-29 16:33:58] ax.service.ax_client: Saved JSON-serialized state of optimization to `/Users/thomasdodd/Library/CloudStorage/OneDrive-MillfieldEnterprisesLimited/Cambridge/GitHub/BO4ACST/Notebooks/Optimisation/Method20241028Dim2_qLogNoisyExpectedImprovement/AxExperiment.json`.\n",
      "[WARNING 10-29 16:33:58] ax.service.utils.report_utils: Column reason missing for all trials. Not appending column.\n",
      "[WARNING 10-29 16:33:58] ax.service.utils.report_utils: Column reason missing for all trials. Not appending column.\n"
     ]
    },
    {
     "name": "stdout",
     "output_type": "stream",
     "text": [
      "There are no trials currently running - initialising Bayesian iteration trials.\n"
     ]
    },
    {
     "name": "stderr",
     "output_type": "stream",
     "text": [
      "[INFO 10-29 16:34:09] ax.service.ax_client: Generated new trial 17 with parameters {'x1': 1.798564, 'x2': 1.839156} using model BoTorch.\n",
      "[INFO 10-29 16:34:09] ax.service.ax_client: Saved JSON-serialized state of optimization to `/Users/thomasdodd/Library/CloudStorage/OneDrive-MillfieldEnterprisesLimited/Cambridge/GitHub/BO4ACST/Notebooks/Optimisation/Method20241028Dim2_qLogNoisyExpectedImprovement/AxExperiment.json`.\n",
      "/Users/thomasdodd/miniconda3/envs/BO4ACST_env/lib/python3.11/site-packages/ax/core/data.py:288: FutureWarning: The behavior of DataFrame concatenation with empty or all-NA entries is deprecated. In a future version, this will no longer exclude empty or all-NA columns when determining the result dtypes. To retain the old behavior, exclude the relevant entries before the concat operation.\n",
      "  return cls(df=pd.concat(dfs, axis=0, sort=True))\n",
      "[WARNING 10-29 16:34:09] ax.service.utils.report_utils: Column reason missing for all trials. Not appending column.\n",
      "/Users/thomasdodd/miniconda3/envs/BO4ACST_env/lib/python3.11/site-packages/ax/core/data.py:288: FutureWarning: The behavior of DataFrame concatenation with empty or all-NA entries is deprecated. In a future version, this will no longer exclude empty or all-NA columns when determining the result dtypes. To retain the old behavior, exclude the relevant entries before the concat operation.\n",
      "  return cls(df=pd.concat(dfs, axis=0, sort=True))\n",
      "[WARNING 10-29 16:34:09] ax.service.utils.report_utils: Column reason missing for all trials. Not appending column.\n",
      "[INFO 10-29 16:34:09] ax.service.ax_client: Completed trial 17 with data: {'t1': (2.510248, None)}.\n",
      "[INFO 10-29 16:34:09] ax.service.ax_client: Saved JSON-serialized state of optimization to `/Users/thomasdodd/Library/CloudStorage/OneDrive-MillfieldEnterprisesLimited/Cambridge/GitHub/BO4ACST/Notebooks/Optimisation/Method20241028Dim2_qLogNoisyExpectedImprovement/AxExperiment.json`.\n",
      "[WARNING 10-29 16:34:09] ax.service.utils.report_utils: Column reason missing for all trials. Not appending column.\n",
      "[WARNING 10-29 16:34:09] ax.service.utils.report_utils: Column reason missing for all trials. Not appending column.\n"
     ]
    },
    {
     "name": "stdout",
     "output_type": "stream",
     "text": [
      "There are no trials currently running - initialising Bayesian iteration trials.\n"
     ]
    },
    {
     "name": "stderr",
     "output_type": "stream",
     "text": [
      "[INFO 10-29 16:34:16] ax.service.ax_client: Generated new trial 18 with parameters {'x1': 0.631635, 'x2': 2.966091} using model BoTorch.\n",
      "[INFO 10-29 16:34:16] ax.service.ax_client: Saved JSON-serialized state of optimization to `/Users/thomasdodd/Library/CloudStorage/OneDrive-MillfieldEnterprisesLimited/Cambridge/GitHub/BO4ACST/Notebooks/Optimisation/Method20241028Dim2_qLogNoisyExpectedImprovement/AxExperiment.json`.\n",
      "/Users/thomasdodd/miniconda3/envs/BO4ACST_env/lib/python3.11/site-packages/ax/core/data.py:288: FutureWarning: The behavior of DataFrame concatenation with empty or all-NA entries is deprecated. In a future version, this will no longer exclude empty or all-NA columns when determining the result dtypes. To retain the old behavior, exclude the relevant entries before the concat operation.\n",
      "  return cls(df=pd.concat(dfs, axis=0, sort=True))\n",
      "[WARNING 10-29 16:34:16] ax.service.utils.report_utils: Column reason missing for all trials. Not appending column.\n",
      "/Users/thomasdodd/miniconda3/envs/BO4ACST_env/lib/python3.11/site-packages/ax/core/data.py:288: FutureWarning: The behavior of DataFrame concatenation with empty or all-NA entries is deprecated. In a future version, this will no longer exclude empty or all-NA columns when determining the result dtypes. To retain the old behavior, exclude the relevant entries before the concat operation.\n",
      "  return cls(df=pd.concat(dfs, axis=0, sort=True))\n",
      "[WARNING 10-29 16:34:16] ax.service.utils.report_utils: Column reason missing for all trials. Not appending column.\n",
      "[INFO 10-29 16:34:16] ax.service.ax_client: Completed trial 18 with data: {'t1': (0.78414, None)}.\n",
      "[INFO 10-29 16:34:16] ax.service.ax_client: Saved JSON-serialized state of optimization to `/Users/thomasdodd/Library/CloudStorage/OneDrive-MillfieldEnterprisesLimited/Cambridge/GitHub/BO4ACST/Notebooks/Optimisation/Method20241028Dim2_qLogNoisyExpectedImprovement/AxExperiment.json`.\n",
      "[WARNING 10-29 16:34:17] ax.service.utils.report_utils: Column reason missing for all trials. Not appending column.\n",
      "[WARNING 10-29 16:34:17] ax.service.utils.report_utils: Column reason missing for all trials. Not appending column.\n"
     ]
    },
    {
     "name": "stdout",
     "output_type": "stream",
     "text": [
      "There are no trials currently running - initialising Bayesian iteration trials.\n"
     ]
    },
    {
     "name": "stderr",
     "output_type": "stream",
     "text": [
      "[INFO 10-29 16:34:23] ax.service.ax_client: Generated new trial 19 with parameters {'x1': -0.06602, 'x2': 3.3186} using model BoTorch.\n",
      "[INFO 10-29 16:34:23] ax.service.ax_client: Saved JSON-serialized state of optimization to `/Users/thomasdodd/Library/CloudStorage/OneDrive-MillfieldEnterprisesLimited/Cambridge/GitHub/BO4ACST/Notebooks/Optimisation/Method20241028Dim2_qLogNoisyExpectedImprovement/AxExperiment.json`.\n",
      "/Users/thomasdodd/miniconda3/envs/BO4ACST_env/lib/python3.11/site-packages/ax/core/data.py:288: FutureWarning: The behavior of DataFrame concatenation with empty or all-NA entries is deprecated. In a future version, this will no longer exclude empty or all-NA columns when determining the result dtypes. To retain the old behavior, exclude the relevant entries before the concat operation.\n",
      "  return cls(df=pd.concat(dfs, axis=0, sort=True))\n",
      "[WARNING 10-29 16:34:23] ax.service.utils.report_utils: Column reason missing for all trials. Not appending column.\n",
      "/Users/thomasdodd/miniconda3/envs/BO4ACST_env/lib/python3.11/site-packages/ax/core/data.py:288: FutureWarning: The behavior of DataFrame concatenation with empty or all-NA entries is deprecated. In a future version, this will no longer exclude empty or all-NA columns when determining the result dtypes. To retain the old behavior, exclude the relevant entries before the concat operation.\n",
      "  return cls(df=pd.concat(dfs, axis=0, sort=True))\n",
      "[WARNING 10-29 16:34:23] ax.service.utils.report_utils: Column reason missing for all trials. Not appending column.\n",
      "[INFO 10-29 16:34:23] ax.service.ax_client: Completed trial 19 with data: {'t1': (3.472446, None)}.\n",
      "[INFO 10-29 16:34:23] ax.service.ax_client: Saved JSON-serialized state of optimization to `/Users/thomasdodd/Library/CloudStorage/OneDrive-MillfieldEnterprisesLimited/Cambridge/GitHub/BO4ACST/Notebooks/Optimisation/Method20241028Dim2_qLogNoisyExpectedImprovement/AxExperiment.json`.\n",
      "[WARNING 10-29 16:34:23] ax.service.utils.report_utils: Column reason missing for all trials. Not appending column.\n",
      "[WARNING 10-29 16:34:23] ax.service.utils.report_utils: Column reason missing for all trials. Not appending column.\n"
     ]
    },
    {
     "name": "stdout",
     "output_type": "stream",
     "text": [
      "There are no trials currently running - initialising Bayesian iteration trials.\n"
     ]
    },
    {
     "name": "stderr",
     "output_type": "stream",
     "text": [
      "[INFO 10-29 16:34:35] ax.service.ax_client: Generated new trial 20 with parameters {'x1': 1.218139, 'x2': 2.234907} using model BoTorch.\n",
      "[INFO 10-29 16:34:35] ax.service.ax_client: Saved JSON-serialized state of optimization to `/Users/thomasdodd/Library/CloudStorage/OneDrive-MillfieldEnterprisesLimited/Cambridge/GitHub/BO4ACST/Notebooks/Optimisation/Method20241028Dim2_qLogNoisyExpectedImprovement/AxExperiment.json`.\n",
      "/Users/thomasdodd/miniconda3/envs/BO4ACST_env/lib/python3.11/site-packages/ax/core/data.py:288: FutureWarning: The behavior of DataFrame concatenation with empty or all-NA entries is deprecated. In a future version, this will no longer exclude empty or all-NA columns when determining the result dtypes. To retain the old behavior, exclude the relevant entries before the concat operation.\n",
      "  return cls(df=pd.concat(dfs, axis=0, sort=True))\n",
      "[WARNING 10-29 16:34:35] ax.service.utils.report_utils: Column reason missing for all trials. Not appending column.\n",
      "/Users/thomasdodd/miniconda3/envs/BO4ACST_env/lib/python3.11/site-packages/ax/core/data.py:288: FutureWarning: The behavior of DataFrame concatenation with empty or all-NA entries is deprecated. In a future version, this will no longer exclude empty or all-NA columns when determining the result dtypes. To retain the old behavior, exclude the relevant entries before the concat operation.\n",
      "  return cls(df=pd.concat(dfs, axis=0, sort=True))\n",
      "[WARNING 10-29 16:34:35] ax.service.utils.report_utils: Column reason missing for all trials. Not appending column.\n",
      "[INFO 10-29 16:34:35] ax.service.ax_client: Completed trial 20 with data: {'t1': (1.829583, None)}.\n",
      "[INFO 10-29 16:34:35] ax.service.ax_client: Saved JSON-serialized state of optimization to `/Users/thomasdodd/Library/CloudStorage/OneDrive-MillfieldEnterprisesLimited/Cambridge/GitHub/BO4ACST/Notebooks/Optimisation/Method20241028Dim2_qLogNoisyExpectedImprovement/AxExperiment.json`.\n",
      "[WARNING 10-29 16:34:35] ax.service.utils.report_utils: Column reason missing for all trials. Not appending column.\n",
      "[WARNING 10-29 16:34:35] ax.service.utils.report_utils: Column reason missing for all trials. Not appending column.\n"
     ]
    },
    {
     "name": "stdout",
     "output_type": "stream",
     "text": [
      "There are no trials currently running - initialising Bayesian iteration trials.\n"
     ]
    },
    {
     "name": "stderr",
     "output_type": "stream",
     "text": [
      "[INFO 10-29 16:34:46] ax.service.ax_client: Generated new trial 21 with parameters {'x1': 0.1277, 'x2': 3.470817} using model BoTorch.\n",
      "[INFO 10-29 16:34:46] ax.service.ax_client: Saved JSON-serialized state of optimization to `/Users/thomasdodd/Library/CloudStorage/OneDrive-MillfieldEnterprisesLimited/Cambridge/GitHub/BO4ACST/Notebooks/Optimisation/Method20241028Dim2_qLogNoisyExpectedImprovement/AxExperiment.json`.\n",
      "/Users/thomasdodd/miniconda3/envs/BO4ACST_env/lib/python3.11/site-packages/ax/core/data.py:288: FutureWarning: The behavior of DataFrame concatenation with empty or all-NA entries is deprecated. In a future version, this will no longer exclude empty or all-NA columns when determining the result dtypes. To retain the old behavior, exclude the relevant entries before the concat operation.\n",
      "  return cls(df=pd.concat(dfs, axis=0, sort=True))\n",
      "[WARNING 10-29 16:34:46] ax.service.utils.report_utils: Column reason missing for all trials. Not appending column.\n",
      "/Users/thomasdodd/miniconda3/envs/BO4ACST_env/lib/python3.11/site-packages/ax/core/data.py:288: FutureWarning: The behavior of DataFrame concatenation with empty or all-NA entries is deprecated. In a future version, this will no longer exclude empty or all-NA columns when determining the result dtypes. To retain the old behavior, exclude the relevant entries before the concat operation.\n",
      "  return cls(df=pd.concat(dfs, axis=0, sort=True))\n",
      "[WARNING 10-29 16:34:46] ax.service.utils.report_utils: Column reason missing for all trials. Not appending column.\n",
      "[INFO 10-29 16:34:46] ax.service.ax_client: Completed trial 21 with data: {'t1': (1.627333, None)}.\n",
      "[INFO 10-29 16:34:46] ax.service.ax_client: Saved JSON-serialized state of optimization to `/Users/thomasdodd/Library/CloudStorage/OneDrive-MillfieldEnterprisesLimited/Cambridge/GitHub/BO4ACST/Notebooks/Optimisation/Method20241028Dim2_qLogNoisyExpectedImprovement/AxExperiment.json`.\n",
      "[WARNING 10-29 16:34:46] ax.service.utils.report_utils: Column reason missing for all trials. Not appending column.\n",
      "[WARNING 10-29 16:34:46] ax.service.utils.report_utils: Column reason missing for all trials. Not appending column.\n"
     ]
    },
    {
     "name": "stdout",
     "output_type": "stream",
     "text": [
      "There are no trials currently running - initialising Bayesian iteration trials.\n"
     ]
    },
    {
     "name": "stderr",
     "output_type": "stream",
     "text": [
      "[INFO 10-29 16:34:56] ax.service.ax_client: Generated new trial 22 with parameters {'x1': 1.091089, 'x2': 2.644234} using model BoTorch.\n",
      "[INFO 10-29 16:34:56] ax.service.ax_client: Saved JSON-serialized state of optimization to `/Users/thomasdodd/Library/CloudStorage/OneDrive-MillfieldEnterprisesLimited/Cambridge/GitHub/BO4ACST/Notebooks/Optimisation/Method20241028Dim2_qLogNoisyExpectedImprovement/AxExperiment.json`.\n",
      "/Users/thomasdodd/miniconda3/envs/BO4ACST_env/lib/python3.11/site-packages/ax/core/data.py:288: FutureWarning: The behavior of DataFrame concatenation with empty or all-NA entries is deprecated. In a future version, this will no longer exclude empty or all-NA columns when determining the result dtypes. To retain the old behavior, exclude the relevant entries before the concat operation.\n",
      "  return cls(df=pd.concat(dfs, axis=0, sort=True))\n",
      "[WARNING 10-29 16:34:56] ax.service.utils.report_utils: Column reason missing for all trials. Not appending column.\n",
      "/Users/thomasdodd/miniconda3/envs/BO4ACST_env/lib/python3.11/site-packages/ax/core/data.py:288: FutureWarning: The behavior of DataFrame concatenation with empty or all-NA entries is deprecated. In a future version, this will no longer exclude empty or all-NA columns when determining the result dtypes. To retain the old behavior, exclude the relevant entries before the concat operation.\n",
      "  return cls(df=pd.concat(dfs, axis=0, sort=True))\n",
      "[WARNING 10-29 16:34:56] ax.service.utils.report_utils: Column reason missing for all trials. Not appending column.\n",
      "[INFO 10-29 16:34:56] ax.service.ax_client: Completed trial 22 with data: {'t1': (0.415082, None)}.\n",
      "[INFO 10-29 16:34:56] ax.service.ax_client: Saved JSON-serialized state of optimization to `/Users/thomasdodd/Library/CloudStorage/OneDrive-MillfieldEnterprisesLimited/Cambridge/GitHub/BO4ACST/Notebooks/Optimisation/Method20241028Dim2_qLogNoisyExpectedImprovement/AxExperiment.json`.\n",
      "[WARNING 10-29 16:34:56] ax.service.utils.report_utils: Column reason missing for all trials. Not appending column.\n",
      "[WARNING 10-29 16:34:56] ax.service.utils.report_utils: Column reason missing for all trials. Not appending column.\n"
     ]
    },
    {
     "name": "stdout",
     "output_type": "stream",
     "text": [
      "There are no trials currently running - initialising Bayesian iteration trials.\n"
     ]
    },
    {
     "name": "stderr",
     "output_type": "stream",
     "text": [
      "[INFO 10-29 16:35:06] ax.service.ax_client: Generated new trial 23 with parameters {'x1': 0.664337, 'x2': 2.681882} using model BoTorch.\n",
      "[INFO 10-29 16:35:06] ax.service.ax_client: Saved JSON-serialized state of optimization to `/Users/thomasdodd/Library/CloudStorage/OneDrive-MillfieldEnterprisesLimited/Cambridge/GitHub/BO4ACST/Notebooks/Optimisation/Method20241028Dim2_qLogNoisyExpectedImprovement/AxExperiment.json`.\n",
      "/Users/thomasdodd/miniconda3/envs/BO4ACST_env/lib/python3.11/site-packages/ax/core/data.py:288: FutureWarning: The behavior of DataFrame concatenation with empty or all-NA entries is deprecated. In a future version, this will no longer exclude empty or all-NA columns when determining the result dtypes. To retain the old behavior, exclude the relevant entries before the concat operation.\n",
      "  return cls(df=pd.concat(dfs, axis=0, sort=True))\n",
      "[WARNING 10-29 16:35:06] ax.service.utils.report_utils: Column reason missing for all trials. Not appending column.\n",
      "/Users/thomasdodd/miniconda3/envs/BO4ACST_env/lib/python3.11/site-packages/ax/core/data.py:288: FutureWarning: The behavior of DataFrame concatenation with empty or all-NA entries is deprecated. In a future version, this will no longer exclude empty or all-NA columns when determining the result dtypes. To retain the old behavior, exclude the relevant entries before the concat operation.\n",
      "  return cls(df=pd.concat(dfs, axis=0, sort=True))\n",
      "[WARNING 10-29 16:35:06] ax.service.utils.report_utils: Column reason missing for all trials. Not appending column.\n",
      "[INFO 10-29 16:35:06] ax.service.ax_client: Completed trial 23 with data: {'t1': (1.923587, None)}.\n",
      "[INFO 10-29 16:35:06] ax.service.ax_client: Saved JSON-serialized state of optimization to `/Users/thomasdodd/Library/CloudStorage/OneDrive-MillfieldEnterprisesLimited/Cambridge/GitHub/BO4ACST/Notebooks/Optimisation/Method20241028Dim2_qLogNoisyExpectedImprovement/AxExperiment.json`.\n",
      "[WARNING 10-29 16:35:06] ax.service.utils.report_utils: Column reason missing for all trials. Not appending column.\n",
      "[INFO 10-29 16:35:06] ax.service.ax_client: Starting optimization with verbose logging. To disable logging, set the `verbose_logging` argument to `False`. Note that float values in the logs are rounded to 6 decimal points.\n",
      "[INFO 10-29 16:35:06] ax.service.utils.instantiation: Created search space: SearchSpace(parameters=[RangeParameter(name='x1', parameter_type=FLOAT, range=[-10.0, 10.0]), RangeParameter(name='x2', parameter_type=FLOAT, range=[-10.0, 10.0])], parameter_constraints=[]).\n",
      "[INFO 10-29 16:35:06] ax.service.ax_client: Saved JSON-serialized state of optimization to `/Users/thomasdodd/Library/CloudStorage/OneDrive-MillfieldEnterprisesLimited/Cambridge/GitHub/BO4ACST/Notebooks/Optimisation/Method20241028Dim2_qLogNoisyExpectedImprovement/AxExperiment.json`.\n",
      "[INFO 10-29 16:35:06] ax.core.experiment: Attached custom parameterizations [{'x1': -10.0, 'x2': -10.0}] as trial 0.\n",
      "[INFO 10-29 16:35:06] ax.core.experiment: Attached custom parameterizations [{'x1': 0.0, 'x2': -10.0}] as trial 1.\n",
      "[INFO 10-29 16:35:06] ax.core.experiment: Attached custom parameterizations [{'x1': 10.0, 'x2': -10.0}] as trial 2.\n",
      "[INFO 10-29 16:35:06] ax.core.experiment: Attached custom parameterizations [{'x1': -10.0, 'x2': 0.0}] as trial 3.\n",
      "[INFO 10-29 16:35:06] ax.core.experiment: Attached custom parameterizations [{'x1': 0.0, 'x2': 0.0}] as trial 4.\n",
      "[INFO 10-29 16:35:06] ax.core.experiment: Attached custom parameterizations [{'x1': 10.0, 'x2': 0.0}] as trial 5.\n",
      "[INFO 10-29 16:35:06] ax.core.experiment: Attached custom parameterizations [{'x1': -10.0, 'x2': 10.0}] as trial 6.\n",
      "[INFO 10-29 16:35:06] ax.core.experiment: Attached custom parameterizations [{'x1': 0.0, 'x2': 10.0}] as trial 7.\n",
      "[INFO 10-29 16:35:06] ax.core.experiment: Attached custom parameterizations [{'x1': 10.0, 'x2': 10.0}] as trial 8.\n",
      "[INFO 10-29 16:35:06] ax.service.ax_client: Saved JSON-serialized state of optimization to `/Users/thomasdodd/Library/CloudStorage/OneDrive-MillfieldEnterprisesLimited/Cambridge/GitHub/BO4ACST/Notebooks/Optimisation/Method20241028Dim2_qLogNoisyExpectedImprovement/AxExperiment.json`.\n",
      "[WARNING 10-29 16:35:06] ax.service.utils.report_utils: Column reason missing for all trials. Not appending column.\n",
      "[INFO 10-29 16:35:06] ax.service.utils.report_utils: No results present for the specified metrics `[Metric('t1')]`. Returning arm parameters and metadata only.\n",
      "[WARNING 10-29 16:35:06] ax.service.utils.report_utils: Column reason missing for all trials. Not appending column.\n",
      "[INFO 10-29 16:35:06] ax.service.utils.report_utils: No results present for the specified metrics `[Metric('t1')]`. Returning arm parameters and metadata only.\n",
      "[INFO 10-29 16:35:06] ax.service.ax_client: Completed trial 0 with data: {'t1': (2594.0, None)}.\n",
      "[INFO 10-29 16:35:06] ax.service.ax_client: Saved JSON-serialized state of optimization to `/Users/thomasdodd/Library/CloudStorage/OneDrive-MillfieldEnterprisesLimited/Cambridge/GitHub/BO4ACST/Notebooks/Optimisation/Method20241028Dim2_qLogNoisyExpectedImprovement/AxExperiment.json`.\n",
      "[INFO 10-29 16:35:06] ax.service.ax_client: Completed trial 1 with data: {'t1': (954.0, None)}.\n",
      "[INFO 10-29 16:35:06] ax.service.ax_client: Saved JSON-serialized state of optimization to `/Users/thomasdodd/Library/CloudStorage/OneDrive-MillfieldEnterprisesLimited/Cambridge/GitHub/BO4ACST/Notebooks/Optimisation/Method20241028Dim2_qLogNoisyExpectedImprovement/AxExperiment.json`.\n",
      "[INFO 10-29 16:35:06] ax.service.ax_client: Completed trial 2 with data: {'t1': (314.0, None)}.\n",
      "[INFO 10-29 16:35:06] ax.service.ax_client: Saved JSON-serialized state of optimization to `/Users/thomasdodd/Library/CloudStorage/OneDrive-MillfieldEnterprisesLimited/Cambridge/GitHub/BO4ACST/Notebooks/Optimisation/Method20241028Dim2_qLogNoisyExpectedImprovement/AxExperiment.json`.\n",
      "[INFO 10-29 16:35:06] ax.service.ax_client: Completed trial 3 with data: {'t1': (914.0, None)}.\n",
      "[INFO 10-29 16:35:06] ax.service.ax_client: Saved JSON-serialized state of optimization to `/Users/thomasdodd/Library/CloudStorage/OneDrive-MillfieldEnterprisesLimited/Cambridge/GitHub/BO4ACST/Notebooks/Optimisation/Method20241028Dim2_qLogNoisyExpectedImprovement/AxExperiment.json`.\n",
      "[INFO 10-29 16:35:06] ax.service.ax_client: Completed trial 4 with data: {'t1': (74.0, None)}.\n",
      "[INFO 10-29 16:35:06] ax.service.ax_client: Saved JSON-serialized state of optimization to `/Users/thomasdodd/Library/CloudStorage/OneDrive-MillfieldEnterprisesLimited/Cambridge/GitHub/BO4ACST/Notebooks/Optimisation/Method20241028Dim2_qLogNoisyExpectedImprovement/AxExperiment.json`.\n",
      "[INFO 10-29 16:35:06] ax.service.ax_client: Completed trial 5 with data: {'t1': (234.0, None)}.\n",
      "[INFO 10-29 16:35:06] ax.service.ax_client: Saved JSON-serialized state of optimization to `/Users/thomasdodd/Library/CloudStorage/OneDrive-MillfieldEnterprisesLimited/Cambridge/GitHub/BO4ACST/Notebooks/Optimisation/Method20241028Dim2_qLogNoisyExpectedImprovement/AxExperiment.json`.\n",
      "[INFO 10-29 16:35:06] ax.service.ax_client: Completed trial 6 with data: {'t1': (234.0, None)}.\n",
      "[INFO 10-29 16:35:06] ax.service.ax_client: Saved JSON-serialized state of optimization to `/Users/thomasdodd/Library/CloudStorage/OneDrive-MillfieldEnterprisesLimited/Cambridge/GitHub/BO4ACST/Notebooks/Optimisation/Method20241028Dim2_qLogNoisyExpectedImprovement/AxExperiment.json`.\n",
      "[INFO 10-29 16:35:06] ax.service.ax_client: Completed trial 7 with data: {'t1': (194.0, None)}.\n",
      "[INFO 10-29 16:35:06] ax.service.ax_client: Saved JSON-serialized state of optimization to `/Users/thomasdodd/Library/CloudStorage/OneDrive-MillfieldEnterprisesLimited/Cambridge/GitHub/BO4ACST/Notebooks/Optimisation/Method20241028Dim2_qLogNoisyExpectedImprovement/AxExperiment.json`.\n",
      "[INFO 10-29 16:35:06] ax.service.ax_client: Completed trial 8 with data: {'t1': (1154.0, None)}.\n",
      "[INFO 10-29 16:35:06] ax.service.ax_client: Saved JSON-serialized state of optimization to `/Users/thomasdodd/Library/CloudStorage/OneDrive-MillfieldEnterprisesLimited/Cambridge/GitHub/BO4ACST/Notebooks/Optimisation/Method20241028Dim2_qLogNoisyExpectedImprovement/AxExperiment.json`.\n",
      "[WARNING 10-29 16:35:06] ax.service.utils.report_utils: Column reason missing for all trials. Not appending column.\n",
      "[WARNING 10-29 16:35:06] ax.service.utils.report_utils: Column reason missing for all trials. Not appending column.\n"
     ]
    },
    {
     "name": "stdout",
     "output_type": "stream",
     "text": [
      "[74.         24.2758134  24.2758134   0.30476476  0.30476476  0.30476476\n",
      "  0.30476476  0.30476476  0.30476476  0.30476476  0.30476476  0.30476476\n",
      "  0.30476476  0.30476476  0.30476476  0.30476476]\n",
      "A new experiment has been created and initialised.\n",
      "No previous or current trials detected - initialising prior-forming trials.\n",
      "Samples gridded = 9\n",
      "There are no trials currently running - initialising Bayesian iteration trials.\n"
     ]
    },
    {
     "name": "stderr",
     "output_type": "stream",
     "text": [
      "[INFO 10-29 16:35:11] ax.service.ax_client: Generated new trial 9 with parameters {'x1': -2.679894, 'x2': 5.821782} using model BoTorch.\n",
      "[INFO 10-29 16:35:11] ax.service.ax_client: Saved JSON-serialized state of optimization to `/Users/thomasdodd/Library/CloudStorage/OneDrive-MillfieldEnterprisesLimited/Cambridge/GitHub/BO4ACST/Notebooks/Optimisation/Method20241028Dim2_qLogNoisyExpectedImprovement/AxExperiment.json`.\n",
      "/Users/thomasdodd/miniconda3/envs/BO4ACST_env/lib/python3.11/site-packages/ax/core/data.py:288: FutureWarning: The behavior of DataFrame concatenation with empty or all-NA entries is deprecated. In a future version, this will no longer exclude empty or all-NA columns when determining the result dtypes. To retain the old behavior, exclude the relevant entries before the concat operation.\n",
      "  return cls(df=pd.concat(dfs, axis=0, sort=True))\n",
      "[WARNING 10-29 16:35:12] ax.service.utils.report_utils: Column reason missing for all trials. Not appending column.\n",
      "/Users/thomasdodd/miniconda3/envs/BO4ACST_env/lib/python3.11/site-packages/ax/core/data.py:288: FutureWarning: The behavior of DataFrame concatenation with empty or all-NA entries is deprecated. In a future version, this will no longer exclude empty or all-NA columns when determining the result dtypes. To retain the old behavior, exclude the relevant entries before the concat operation.\n",
      "  return cls(df=pd.concat(dfs, axis=0, sort=True))\n",
      "[WARNING 10-29 16:35:12] ax.service.utils.report_utils: Column reason missing for all trials. Not appending column.\n",
      "[INFO 10-29 16:35:12] ax.service.ax_client: Completed trial 9 with data: {'t1': (24.449493, None)}.\n",
      "[INFO 10-29 16:35:12] ax.service.ax_client: Saved JSON-serialized state of optimization to `/Users/thomasdodd/Library/CloudStorage/OneDrive-MillfieldEnterprisesLimited/Cambridge/GitHub/BO4ACST/Notebooks/Optimisation/Method20241028Dim2_qLogNoisyExpectedImprovement/AxExperiment.json`.\n",
      "[WARNING 10-29 16:35:12] ax.service.utils.report_utils: Column reason missing for all trials. Not appending column.\n",
      "[WARNING 10-29 16:35:12] ax.service.utils.report_utils: Column reason missing for all trials. Not appending column.\n"
     ]
    },
    {
     "name": "stdout",
     "output_type": "stream",
     "text": [
      "There are no trials currently running - initialising Bayesian iteration trials.\n"
     ]
    },
    {
     "name": "stderr",
     "output_type": "stream",
     "text": [
      "[INFO 10-29 16:35:14] ax.service.ax_client: Generated new trial 10 with parameters {'x1': 4.94678, 'x2': -1.679046} using model BoTorch.\n",
      "[INFO 10-29 16:35:14] ax.service.ax_client: Saved JSON-serialized state of optimization to `/Users/thomasdodd/Library/CloudStorage/OneDrive-MillfieldEnterprisesLimited/Cambridge/GitHub/BO4ACST/Notebooks/Optimisation/Method20241028Dim2_qLogNoisyExpectedImprovement/AxExperiment.json`.\n",
      "/Users/thomasdodd/miniconda3/envs/BO4ACST_env/lib/python3.11/site-packages/ax/core/data.py:288: FutureWarning: The behavior of DataFrame concatenation with empty or all-NA entries is deprecated. In a future version, this will no longer exclude empty or all-NA columns when determining the result dtypes. To retain the old behavior, exclude the relevant entries before the concat operation.\n",
      "  return cls(df=pd.concat(dfs, axis=0, sort=True))\n",
      "[WARNING 10-29 16:35:14] ax.service.utils.report_utils: Column reason missing for all trials. Not appending column.\n",
      "/Users/thomasdodd/miniconda3/envs/BO4ACST_env/lib/python3.11/site-packages/ax/core/data.py:288: FutureWarning: The behavior of DataFrame concatenation with empty or all-NA entries is deprecated. In a future version, this will no longer exclude empty or all-NA columns when determining the result dtypes. To retain the old behavior, exclude the relevant entries before the concat operation.\n",
      "  return cls(df=pd.concat(dfs, axis=0, sort=True))\n",
      "[WARNING 10-29 16:35:14] ax.service.utils.report_utils: Column reason missing for all trials. Not appending column.\n",
      "[INFO 10-29 16:35:14] ax.service.ax_client: Completed trial 10 with data: {'t1': (39.615405, None)}.\n",
      "[INFO 10-29 16:35:14] ax.service.ax_client: Saved JSON-serialized state of optimization to `/Users/thomasdodd/Library/CloudStorage/OneDrive-MillfieldEnterprisesLimited/Cambridge/GitHub/BO4ACST/Notebooks/Optimisation/Method20241028Dim2_qLogNoisyExpectedImprovement/AxExperiment.json`.\n",
      "[WARNING 10-29 16:35:14] ax.service.utils.report_utils: Column reason missing for all trials. Not appending column.\n",
      "[WARNING 10-29 16:35:14] ax.service.utils.report_utils: Column reason missing for all trials. Not appending column.\n"
     ]
    },
    {
     "name": "stdout",
     "output_type": "stream",
     "text": [
      "There are no trials currently running - initialising Bayesian iteration trials.\n"
     ]
    },
    {
     "name": "stderr",
     "output_type": "stream",
     "text": [
      "[INFO 10-29 16:35:18] ax.service.ax_client: Generated new trial 11 with parameters {'x1': 1.306751, 'x2': 2.911956} using model BoTorch.\n",
      "[INFO 10-29 16:35:18] ax.service.ax_client: Saved JSON-serialized state of optimization to `/Users/thomasdodd/Library/CloudStorage/OneDrive-MillfieldEnterprisesLimited/Cambridge/GitHub/BO4ACST/Notebooks/Optimisation/Method20241028Dim2_qLogNoisyExpectedImprovement/AxExperiment.json`.\n",
      "/Users/thomasdodd/miniconda3/envs/BO4ACST_env/lib/python3.11/site-packages/ax/core/data.py:288: FutureWarning: The behavior of DataFrame concatenation with empty or all-NA entries is deprecated. In a future version, this will no longer exclude empty or all-NA columns when determining the result dtypes. To retain the old behavior, exclude the relevant entries before the concat operation.\n",
      "  return cls(df=pd.concat(dfs, axis=0, sort=True))\n",
      "[WARNING 10-29 16:35:18] ax.service.utils.report_utils: Column reason missing for all trials. Not appending column.\n",
      "/Users/thomasdodd/miniconda3/envs/BO4ACST_env/lib/python3.11/site-packages/ax/core/data.py:288: FutureWarning: The behavior of DataFrame concatenation with empty or all-NA entries is deprecated. In a future version, this will no longer exclude empty or all-NA columns when determining the result dtypes. To retain the old behavior, exclude the relevant entries before the concat operation.\n",
      "  return cls(df=pd.concat(dfs, axis=0, sort=True))\n",
      "[WARNING 10-29 16:35:18] ax.service.utils.report_utils: Column reason missing for all trials. Not appending column.\n",
      "[INFO 10-29 16:35:18] ax.service.ax_client: Completed trial 11 with data: {'t1': (0.293178, None)}.\n",
      "[INFO 10-29 16:35:18] ax.service.ax_client: Saved JSON-serialized state of optimization to `/Users/thomasdodd/Library/CloudStorage/OneDrive-MillfieldEnterprisesLimited/Cambridge/GitHub/BO4ACST/Notebooks/Optimisation/Method20241028Dim2_qLogNoisyExpectedImprovement/AxExperiment.json`.\n",
      "[WARNING 10-29 16:35:18] ax.service.utils.report_utils: Column reason missing for all trials. Not appending column.\n",
      "[WARNING 10-29 16:35:18] ax.service.utils.report_utils: Column reason missing for all trials. Not appending column.\n"
     ]
    },
    {
     "name": "stdout",
     "output_type": "stream",
     "text": [
      "There are no trials currently running - initialising Bayesian iteration trials.\n"
     ]
    },
    {
     "name": "stderr",
     "output_type": "stream",
     "text": [
      "[INFO 10-29 16:35:23] ax.service.ax_client: Generated new trial 12 with parameters {'x1': -4.503284, 'x2': 8.854612} using model BoTorch.\n",
      "[INFO 10-29 16:35:23] ax.service.ax_client: Saved JSON-serialized state of optimization to `/Users/thomasdodd/Library/CloudStorage/OneDrive-MillfieldEnterprisesLimited/Cambridge/GitHub/BO4ACST/Notebooks/Optimisation/Method20241028Dim2_qLogNoisyExpectedImprovement/AxExperiment.json`.\n",
      "/Users/thomasdodd/miniconda3/envs/BO4ACST_env/lib/python3.11/site-packages/ax/core/data.py:288: FutureWarning: The behavior of DataFrame concatenation with empty or all-NA entries is deprecated. In a future version, this will no longer exclude empty or all-NA columns when determining the result dtypes. To retain the old behavior, exclude the relevant entries before the concat operation.\n",
      "  return cls(df=pd.concat(dfs, axis=0, sort=True))\n",
      "[WARNING 10-29 16:35:23] ax.service.utils.report_utils: Column reason missing for all trials. Not appending column.\n",
      "/Users/thomasdodd/miniconda3/envs/BO4ACST_env/lib/python3.11/site-packages/ax/core/data.py:288: FutureWarning: The behavior of DataFrame concatenation with empty or all-NA entries is deprecated. In a future version, this will no longer exclude empty or all-NA columns when determining the result dtypes. To retain the old behavior, exclude the relevant entries before the concat operation.\n",
      "  return cls(df=pd.concat(dfs, axis=0, sort=True))\n",
      "[WARNING 10-29 16:35:23] ax.service.utils.report_utils: Column reason missing for all trials. Not appending column.\n",
      "[INFO 10-29 16:35:23] ax.service.ax_client: Completed trial 12 with data: {'t1': (65.056337, None)}.\n",
      "[INFO 10-29 16:35:23] ax.service.ax_client: Saved JSON-serialized state of optimization to `/Users/thomasdodd/Library/CloudStorage/OneDrive-MillfieldEnterprisesLimited/Cambridge/GitHub/BO4ACST/Notebooks/Optimisation/Method20241028Dim2_qLogNoisyExpectedImprovement/AxExperiment.json`.\n",
      "[WARNING 10-29 16:35:23] ax.service.utils.report_utils: Column reason missing for all trials. Not appending column.\n",
      "[WARNING 10-29 16:35:23] ax.service.utils.report_utils: Column reason missing for all trials. Not appending column.\n"
     ]
    },
    {
     "name": "stdout",
     "output_type": "stream",
     "text": [
      "There are no trials currently running - initialising Bayesian iteration trials.\n"
     ]
    },
    {
     "name": "stderr",
     "output_type": "stream",
     "text": [
      "[INFO 10-29 16:35:28] ax.service.ax_client: Generated new trial 13 with parameters {'x1': -0.668555, 'x2': 4.08371} using model BoTorch.\n",
      "[INFO 10-29 16:35:28] ax.service.ax_client: Saved JSON-serialized state of optimization to `/Users/thomasdodd/Library/CloudStorage/OneDrive-MillfieldEnterprisesLimited/Cambridge/GitHub/BO4ACST/Notebooks/Optimisation/Method20241028Dim2_qLogNoisyExpectedImprovement/AxExperiment.json`.\n",
      "/Users/thomasdodd/miniconda3/envs/BO4ACST_env/lib/python3.11/site-packages/ax/core/data.py:288: FutureWarning: The behavior of DataFrame concatenation with empty or all-NA entries is deprecated. In a future version, this will no longer exclude empty or all-NA columns when determining the result dtypes. To retain the old behavior, exclude the relevant entries before the concat operation.\n",
      "  return cls(df=pd.concat(dfs, axis=0, sort=True))\n",
      "[WARNING 10-29 16:35:28] ax.service.utils.report_utils: Column reason missing for all trials. Not appending column.\n",
      "/Users/thomasdodd/miniconda3/envs/BO4ACST_env/lib/python3.11/site-packages/ax/core/data.py:288: FutureWarning: The behavior of DataFrame concatenation with empty or all-NA entries is deprecated. In a future version, this will no longer exclude empty or all-NA columns when determining the result dtypes. To retain the old behavior, exclude the relevant entries before the concat operation.\n",
      "  return cls(df=pd.concat(dfs, axis=0, sort=True))\n",
      "[WARNING 10-29 16:35:28] ax.service.utils.report_utils: Column reason missing for all trials. Not appending column.\n",
      "[INFO 10-29 16:35:28] ax.service.ax_client: Completed trial 13 with data: {'t1': (5.326678, None)}.\n",
      "[INFO 10-29 16:35:28] ax.service.ax_client: Saved JSON-serialized state of optimization to `/Users/thomasdodd/Library/CloudStorage/OneDrive-MillfieldEnterprisesLimited/Cambridge/GitHub/BO4ACST/Notebooks/Optimisation/Method20241028Dim2_qLogNoisyExpectedImprovement/AxExperiment.json`.\n",
      "[WARNING 10-29 16:35:28] ax.service.utils.report_utils: Column reason missing for all trials. Not appending column.\n",
      "[WARNING 10-29 16:35:28] ax.service.utils.report_utils: Column reason missing for all trials. Not appending column.\n"
     ]
    },
    {
     "name": "stdout",
     "output_type": "stream",
     "text": [
      "There are no trials currently running - initialising Bayesian iteration trials.\n"
     ]
    },
    {
     "name": "stderr",
     "output_type": "stream",
     "text": [
      "[INFO 10-29 16:35:31] ax.service.ax_client: Generated new trial 14 with parameters {'x1': 2.801151, 'x2': 0.725834} using model BoTorch.\n",
      "[INFO 10-29 16:35:31] ax.service.ax_client: Saved JSON-serialized state of optimization to `/Users/thomasdodd/Library/CloudStorage/OneDrive-MillfieldEnterprisesLimited/Cambridge/GitHub/BO4ACST/Notebooks/Optimisation/Method20241028Dim2_qLogNoisyExpectedImprovement/AxExperiment.json`.\n",
      "/Users/thomasdodd/miniconda3/envs/BO4ACST_env/lib/python3.11/site-packages/ax/core/data.py:288: FutureWarning: The behavior of DataFrame concatenation with empty or all-NA entries is deprecated. In a future version, this will no longer exclude empty or all-NA columns when determining the result dtypes. To retain the old behavior, exclude the relevant entries before the concat operation.\n",
      "  return cls(df=pd.concat(dfs, axis=0, sort=True))\n",
      "[WARNING 10-29 16:35:31] ax.service.utils.report_utils: Column reason missing for all trials. Not appending column.\n",
      "/Users/thomasdodd/miniconda3/envs/BO4ACST_env/lib/python3.11/site-packages/ax/core/data.py:288: FutureWarning: The behavior of DataFrame concatenation with empty or all-NA entries is deprecated. In a future version, this will no longer exclude empty or all-NA columns when determining the result dtypes. To retain the old behavior, exclude the relevant entries before the concat operation.\n",
      "  return cls(df=pd.concat(dfs, axis=0, sort=True))\n",
      "[WARNING 10-29 16:35:31] ax.service.utils.report_utils: Column reason missing for all trials. Not appending column.\n",
      "[INFO 10-29 16:35:31] ax.service.ax_client: Completed trial 14 with data: {'t1': (9.310951, None)}.\n",
      "[INFO 10-29 16:35:31] ax.service.ax_client: Saved JSON-serialized state of optimization to `/Users/thomasdodd/Library/CloudStorage/OneDrive-MillfieldEnterprisesLimited/Cambridge/GitHub/BO4ACST/Notebooks/Optimisation/Method20241028Dim2_qLogNoisyExpectedImprovement/AxExperiment.json`.\n",
      "[WARNING 10-29 16:35:31] ax.service.utils.report_utils: Column reason missing for all trials. Not appending column.\n",
      "[WARNING 10-29 16:35:31] ax.service.utils.report_utils: Column reason missing for all trials. Not appending column.\n"
     ]
    },
    {
     "name": "stdout",
     "output_type": "stream",
     "text": [
      "There are no trials currently running - initialising Bayesian iteration trials.\n"
     ]
    },
    {
     "name": "stderr",
     "output_type": "stream",
     "text": [
      "[INFO 10-29 16:35:32] ax.service.ax_client: Generated new trial 15 with parameters {'x1': 0.772982, 'x2': 2.266799} using model BoTorch.\n",
      "[INFO 10-29 16:35:32] ax.service.ax_client: Saved JSON-serialized state of optimization to `/Users/thomasdodd/Library/CloudStorage/OneDrive-MillfieldEnterprisesLimited/Cambridge/GitHub/BO4ACST/Notebooks/Optimisation/Method20241028Dim2_qLogNoisyExpectedImprovement/AxExperiment.json`.\n",
      "/Users/thomasdodd/miniconda3/envs/BO4ACST_env/lib/python3.11/site-packages/ax/core/data.py:288: FutureWarning: The behavior of DataFrame concatenation with empty or all-NA entries is deprecated. In a future version, this will no longer exclude empty or all-NA columns when determining the result dtypes. To retain the old behavior, exclude the relevant entries before the concat operation.\n",
      "  return cls(df=pd.concat(dfs, axis=0, sort=True))\n",
      "[WARNING 10-29 16:35:32] ax.service.utils.report_utils: Column reason missing for all trials. Not appending column.\n",
      "/Users/thomasdodd/miniconda3/envs/BO4ACST_env/lib/python3.11/site-packages/ax/core/data.py:288: FutureWarning: The behavior of DataFrame concatenation with empty or all-NA entries is deprecated. In a future version, this will no longer exclude empty or all-NA columns when determining the result dtypes. To retain the old behavior, exclude the relevant entries before the concat operation.\n",
      "  return cls(df=pd.concat(dfs, axis=0, sort=True))\n",
      "[WARNING 10-29 16:35:32] ax.service.utils.report_utils: Column reason missing for all trials. Not appending column.\n",
      "[INFO 10-29 16:35:32] ax.service.ax_client: Completed trial 15 with data: {'t1': (4.277204, None)}.\n",
      "[INFO 10-29 16:35:32] ax.service.ax_client: Saved JSON-serialized state of optimization to `/Users/thomasdodd/Library/CloudStorage/OneDrive-MillfieldEnterprisesLimited/Cambridge/GitHub/BO4ACST/Notebooks/Optimisation/Method20241028Dim2_qLogNoisyExpectedImprovement/AxExperiment.json`.\n",
      "[WARNING 10-29 16:35:32] ax.service.utils.report_utils: Column reason missing for all trials. Not appending column.\n",
      "[WARNING 10-29 16:35:32] ax.service.utils.report_utils: Column reason missing for all trials. Not appending column.\n"
     ]
    },
    {
     "name": "stdout",
     "output_type": "stream",
     "text": [
      "There are no trials currently running - initialising Bayesian iteration trials.\n"
     ]
    },
    {
     "name": "stderr",
     "output_type": "stream",
     "text": [
      "[INFO 10-29 16:35:34] ax.service.ax_client: Generated new trial 16 with parameters {'x1': -0.394764, 'x2': 4.417122} using model BoTorch.\n",
      "[INFO 10-29 16:35:34] ax.service.ax_client: Saved JSON-serialized state of optimization to `/Users/thomasdodd/Library/CloudStorage/OneDrive-MillfieldEnterprisesLimited/Cambridge/GitHub/BO4ACST/Notebooks/Optimisation/Method20241028Dim2_qLogNoisyExpectedImprovement/AxExperiment.json`.\n",
      "/Users/thomasdodd/miniconda3/envs/BO4ACST_env/lib/python3.11/site-packages/ax/core/data.py:288: FutureWarning: The behavior of DataFrame concatenation with empty or all-NA entries is deprecated. In a future version, this will no longer exclude empty or all-NA columns when determining the result dtypes. To retain the old behavior, exclude the relevant entries before the concat operation.\n",
      "  return cls(df=pd.concat(dfs, axis=0, sort=True))\n",
      "[WARNING 10-29 16:35:34] ax.service.utils.report_utils: Column reason missing for all trials. Not appending column.\n",
      "/Users/thomasdodd/miniconda3/envs/BO4ACST_env/lib/python3.11/site-packages/ax/core/data.py:288: FutureWarning: The behavior of DataFrame concatenation with empty or all-NA entries is deprecated. In a future version, this will no longer exclude empty or all-NA columns when determining the result dtypes. To retain the old behavior, exclude the relevant entries before the concat operation.\n",
      "  return cls(df=pd.concat(dfs, axis=0, sort=True))\n",
      "[WARNING 10-29 16:35:34] ax.service.utils.report_utils: Column reason missing for all trials. Not appending column.\n",
      "[INFO 10-29 16:35:34] ax.service.ax_client: Completed trial 16 with data: {'t1': (3.955603, None)}.\n",
      "[INFO 10-29 16:35:34] ax.service.ax_client: Saved JSON-serialized state of optimization to `/Users/thomasdodd/Library/CloudStorage/OneDrive-MillfieldEnterprisesLimited/Cambridge/GitHub/BO4ACST/Notebooks/Optimisation/Method20241028Dim2_qLogNoisyExpectedImprovement/AxExperiment.json`.\n",
      "[WARNING 10-29 16:35:34] ax.service.utils.report_utils: Column reason missing for all trials. Not appending column.\n",
      "[WARNING 10-29 16:35:34] ax.service.utils.report_utils: Column reason missing for all trials. Not appending column.\n"
     ]
    },
    {
     "name": "stdout",
     "output_type": "stream",
     "text": [
      "There are no trials currently running - initialising Bayesian iteration trials.\n"
     ]
    },
    {
     "name": "stderr",
     "output_type": "stream",
     "text": [
      "[INFO 10-29 16:35:35] ax.service.ax_client: Generated new trial 17 with parameters {'x1': 0.808881, 'x2': 2.787617} using model BoTorch.\n",
      "[INFO 10-29 16:35:35] ax.service.ax_client: Saved JSON-serialized state of optimization to `/Users/thomasdodd/Library/CloudStorage/OneDrive-MillfieldEnterprisesLimited/Cambridge/GitHub/BO4ACST/Notebooks/Optimisation/Method20241028Dim2_qLogNoisyExpectedImprovement/AxExperiment.json`.\n",
      "/Users/thomasdodd/miniconda3/envs/BO4ACST_env/lib/python3.11/site-packages/ax/core/data.py:288: FutureWarning: The behavior of DataFrame concatenation with empty or all-NA entries is deprecated. In a future version, this will no longer exclude empty or all-NA columns when determining the result dtypes. To retain the old behavior, exclude the relevant entries before the concat operation.\n",
      "  return cls(df=pd.concat(dfs, axis=0, sort=True))\n",
      "[WARNING 10-29 16:35:35] ax.service.utils.report_utils: Column reason missing for all trials. Not appending column.\n",
      "/Users/thomasdodd/miniconda3/envs/BO4ACST_env/lib/python3.11/site-packages/ax/core/data.py:288: FutureWarning: The behavior of DataFrame concatenation with empty or all-NA entries is deprecated. In a future version, this will no longer exclude empty or all-NA columns when determining the result dtypes. To retain the old behavior, exclude the relevant entries before the concat operation.\n",
      "  return cls(df=pd.concat(dfs, axis=0, sort=True))\n",
      "[WARNING 10-29 16:35:35] ax.service.utils.report_utils: Column reason missing for all trials. Not appending column.\n",
      "[INFO 10-29 16:35:35] ax.service.ax_client: Completed trial 17 with data: {'t1': (0.732887, None)}.\n",
      "[INFO 10-29 16:35:35] ax.service.ax_client: Saved JSON-serialized state of optimization to `/Users/thomasdodd/Library/CloudStorage/OneDrive-MillfieldEnterprisesLimited/Cambridge/GitHub/BO4ACST/Notebooks/Optimisation/Method20241028Dim2_qLogNoisyExpectedImprovement/AxExperiment.json`.\n",
      "[WARNING 10-29 16:35:35] ax.service.utils.report_utils: Column reason missing for all trials. Not appending column.\n",
      "[WARNING 10-29 16:35:35] ax.service.utils.report_utils: Column reason missing for all trials. Not appending column.\n"
     ]
    },
    {
     "name": "stdout",
     "output_type": "stream",
     "text": [
      "There are no trials currently running - initialising Bayesian iteration trials.\n"
     ]
    },
    {
     "name": "stderr",
     "output_type": "stream",
     "text": [
      "[INFO 10-29 16:35:36] ax.service.ax_client: Generated new trial 18 with parameters {'x1': 1.846328, 'x2': 1.855893} using model BoTorch.\n",
      "[INFO 10-29 16:35:36] ax.service.ax_client: Saved JSON-serialized state of optimization to `/Users/thomasdodd/Library/CloudStorage/OneDrive-MillfieldEnterprisesLimited/Cambridge/GitHub/BO4ACST/Notebooks/Optimisation/Method20241028Dim2_qLogNoisyExpectedImprovement/AxExperiment.json`.\n",
      "/Users/thomasdodd/miniconda3/envs/BO4ACST_env/lib/python3.11/site-packages/ax/core/data.py:288: FutureWarning: The behavior of DataFrame concatenation with empty or all-NA entries is deprecated. In a future version, this will no longer exclude empty or all-NA columns when determining the result dtypes. To retain the old behavior, exclude the relevant entries before the concat operation.\n",
      "  return cls(df=pd.concat(dfs, axis=0, sort=True))\n",
      "[WARNING 10-29 16:35:36] ax.service.utils.report_utils: Column reason missing for all trials. Not appending column.\n",
      "/Users/thomasdodd/miniconda3/envs/BO4ACST_env/lib/python3.11/site-packages/ax/core/data.py:288: FutureWarning: The behavior of DataFrame concatenation with empty or all-NA entries is deprecated. In a future version, this will no longer exclude empty or all-NA columns when determining the result dtypes. To retain the old behavior, exclude the relevant entries before the concat operation.\n",
      "  return cls(df=pd.concat(dfs, axis=0, sort=True))\n",
      "[WARNING 10-29 16:35:36] ax.service.utils.report_utils: Column reason missing for all trials. Not appending column.\n",
      "[INFO 10-29 16:35:36] ax.service.ax_client: Completed trial 18 with data: {'t1': (2.379941, None)}.\n",
      "[INFO 10-29 16:35:36] ax.service.ax_client: Saved JSON-serialized state of optimization to `/Users/thomasdodd/Library/CloudStorage/OneDrive-MillfieldEnterprisesLimited/Cambridge/GitHub/BO4ACST/Notebooks/Optimisation/Method20241028Dim2_qLogNoisyExpectedImprovement/AxExperiment.json`.\n",
      "[WARNING 10-29 16:35:36] ax.service.utils.report_utils: Column reason missing for all trials. Not appending column.\n",
      "[WARNING 10-29 16:35:36] ax.service.utils.report_utils: Column reason missing for all trials. Not appending column.\n"
     ]
    },
    {
     "name": "stdout",
     "output_type": "stream",
     "text": [
      "There are no trials currently running - initialising Bayesian iteration trials.\n"
     ]
    },
    {
     "name": "stderr",
     "output_type": "stream",
     "text": [
      "[INFO 10-29 16:35:37] ax.service.ax_client: Generated new trial 19 with parameters {'x1': 0.081933, 'x2': 3.248453} using model BoTorch.\n",
      "[INFO 10-29 16:35:37] ax.service.ax_client: Saved JSON-serialized state of optimization to `/Users/thomasdodd/Library/CloudStorage/OneDrive-MillfieldEnterprisesLimited/Cambridge/GitHub/BO4ACST/Notebooks/Optimisation/Method20241028Dim2_qLogNoisyExpectedImprovement/AxExperiment.json`.\n",
      "/Users/thomasdodd/miniconda3/envs/BO4ACST_env/lib/python3.11/site-packages/ax/core/data.py:288: FutureWarning: The behavior of DataFrame concatenation with empty or all-NA entries is deprecated. In a future version, this will no longer exclude empty or all-NA columns when determining the result dtypes. To retain the old behavior, exclude the relevant entries before the concat operation.\n",
      "  return cls(df=pd.concat(dfs, axis=0, sort=True))\n",
      "[WARNING 10-29 16:35:37] ax.service.utils.report_utils: Column reason missing for all trials. Not appending column.\n",
      "/Users/thomasdodd/miniconda3/envs/BO4ACST_env/lib/python3.11/site-packages/ax/core/data.py:288: FutureWarning: The behavior of DataFrame concatenation with empty or all-NA entries is deprecated. In a future version, this will no longer exclude empty or all-NA columns when determining the result dtypes. To retain the old behavior, exclude the relevant entries before the concat operation.\n",
      "  return cls(df=pd.concat(dfs, axis=0, sort=True))\n",
      "[WARNING 10-29 16:35:37] ax.service.utils.report_utils: Column reason missing for all trials. Not appending column.\n",
      "[INFO 10-29 16:35:37] ax.service.ax_client: Completed trial 19 with data: {'t1': (2.69811, None)}.\n",
      "[INFO 10-29 16:35:37] ax.service.ax_client: Saved JSON-serialized state of optimization to `/Users/thomasdodd/Library/CloudStorage/OneDrive-MillfieldEnterprisesLimited/Cambridge/GitHub/BO4ACST/Notebooks/Optimisation/Method20241028Dim2_qLogNoisyExpectedImprovement/AxExperiment.json`.\n",
      "[WARNING 10-29 16:35:37] ax.service.utils.report_utils: Column reason missing for all trials. Not appending column.\n",
      "[WARNING 10-29 16:35:37] ax.service.utils.report_utils: Column reason missing for all trials. Not appending column.\n"
     ]
    },
    {
     "name": "stdout",
     "output_type": "stream",
     "text": [
      "There are no trials currently running - initialising Bayesian iteration trials.\n"
     ]
    },
    {
     "name": "stderr",
     "output_type": "stream",
     "text": [
      "[INFO 10-29 16:35:38] ax.service.ax_client: Generated new trial 20 with parameters {'x1': 1.240362, 'x2': 2.16229} using model BoTorch.\n",
      "[INFO 10-29 16:35:38] ax.service.ax_client: Saved JSON-serialized state of optimization to `/Users/thomasdodd/Library/CloudStorage/OneDrive-MillfieldEnterprisesLimited/Cambridge/GitHub/BO4ACST/Notebooks/Optimisation/Method20241028Dim2_qLogNoisyExpectedImprovement/AxExperiment.json`.\n",
      "/Users/thomasdodd/miniconda3/envs/BO4ACST_env/lib/python3.11/site-packages/ax/core/data.py:288: FutureWarning: The behavior of DataFrame concatenation with empty or all-NA entries is deprecated. In a future version, this will no longer exclude empty or all-NA columns when determining the result dtypes. To retain the old behavior, exclude the relevant entries before the concat operation.\n",
      "  return cls(df=pd.concat(dfs, axis=0, sort=True))\n",
      "[WARNING 10-29 16:35:38] ax.service.utils.report_utils: Column reason missing for all trials. Not appending column.\n",
      "/Users/thomasdodd/miniconda3/envs/BO4ACST_env/lib/python3.11/site-packages/ax/core/data.py:288: FutureWarning: The behavior of DataFrame concatenation with empty or all-NA entries is deprecated. In a future version, this will no longer exclude empty or all-NA columns when determining the result dtypes. To retain the old behavior, exclude the relevant entries before the concat operation.\n",
      "  return cls(df=pd.concat(dfs, axis=0, sort=True))\n",
      "[WARNING 10-29 16:35:38] ax.service.utils.report_utils: Column reason missing for all trials. Not appending column.\n",
      "[INFO 10-29 16:35:38] ax.service.ax_client: Completed trial 20 with data: {'t1': (2.186828, None)}.\n",
      "[INFO 10-29 16:35:38] ax.service.ax_client: Saved JSON-serialized state of optimization to `/Users/thomasdodd/Library/CloudStorage/OneDrive-MillfieldEnterprisesLimited/Cambridge/GitHub/BO4ACST/Notebooks/Optimisation/Method20241028Dim2_qLogNoisyExpectedImprovement/AxExperiment.json`.\n",
      "[WARNING 10-29 16:35:38] ax.service.utils.report_utils: Column reason missing for all trials. Not appending column.\n",
      "[WARNING 10-29 16:35:38] ax.service.utils.report_utils: Column reason missing for all trials. Not appending column.\n"
     ]
    },
    {
     "name": "stdout",
     "output_type": "stream",
     "text": [
      "There are no trials currently running - initialising Bayesian iteration trials.\n"
     ]
    },
    {
     "name": "stderr",
     "output_type": "stream",
     "text": [
      "[INFO 10-29 16:35:40] ax.service.ax_client: Generated new trial 21 with parameters {'x1': 0.294576, 'x2': 3.447107} using model BoTorch.\n",
      "[INFO 10-29 16:35:40] ax.service.ax_client: Saved JSON-serialized state of optimization to `/Users/thomasdodd/Library/CloudStorage/OneDrive-MillfieldEnterprisesLimited/Cambridge/GitHub/BO4ACST/Notebooks/Optimisation/Method20241028Dim2_qLogNoisyExpectedImprovement/AxExperiment.json`.\n",
      "/Users/thomasdodd/miniconda3/envs/BO4ACST_env/lib/python3.11/site-packages/ax/core/data.py:288: FutureWarning: The behavior of DataFrame concatenation with empty or all-NA entries is deprecated. In a future version, this will no longer exclude empty or all-NA columns when determining the result dtypes. To retain the old behavior, exclude the relevant entries before the concat operation.\n",
      "  return cls(df=pd.concat(dfs, axis=0, sort=True))\n",
      "[WARNING 10-29 16:35:40] ax.service.utils.report_utils: Column reason missing for all trials. Not appending column.\n",
      "/Users/thomasdodd/miniconda3/envs/BO4ACST_env/lib/python3.11/site-packages/ax/core/data.py:288: FutureWarning: The behavior of DataFrame concatenation with empty or all-NA entries is deprecated. In a future version, this will no longer exclude empty or all-NA columns when determining the result dtypes. To retain the old behavior, exclude the relevant entries before the concat operation.\n",
      "  return cls(df=pd.concat(dfs, axis=0, sort=True))\n",
      "[WARNING 10-29 16:35:40] ax.service.utils.report_utils: Column reason missing for all trials. Not appending column.\n",
      "[INFO 10-29 16:35:40] ax.service.ax_client: Completed trial 21 with data: {'t1': (0.96444, None)}.\n",
      "[INFO 10-29 16:35:40] ax.service.ax_client: Saved JSON-serialized state of optimization to `/Users/thomasdodd/Library/CloudStorage/OneDrive-MillfieldEnterprisesLimited/Cambridge/GitHub/BO4ACST/Notebooks/Optimisation/Method20241028Dim2_qLogNoisyExpectedImprovement/AxExperiment.json`.\n",
      "[WARNING 10-29 16:35:40] ax.service.utils.report_utils: Column reason missing for all trials. Not appending column.\n",
      "[WARNING 10-29 16:35:40] ax.service.utils.report_utils: Column reason missing for all trials. Not appending column.\n"
     ]
    },
    {
     "name": "stdout",
     "output_type": "stream",
     "text": [
      "There are no trials currently running - initialising Bayesian iteration trials.\n"
     ]
    },
    {
     "name": "stderr",
     "output_type": "stream",
     "text": [
      "[INFO 10-29 16:35:41] ax.service.ax_client: Generated new trial 22 with parameters {'x1': 0.589955, 'x2': 2.761034} using model BoTorch.\n",
      "[INFO 10-29 16:35:41] ax.service.ax_client: Saved JSON-serialized state of optimization to `/Users/thomasdodd/Library/CloudStorage/OneDrive-MillfieldEnterprisesLimited/Cambridge/GitHub/BO4ACST/Notebooks/Optimisation/Method20241028Dim2_qLogNoisyExpectedImprovement/AxExperiment.json`.\n",
      "/Users/thomasdodd/miniconda3/envs/BO4ACST_env/lib/python3.11/site-packages/ax/core/data.py:288: FutureWarning: The behavior of DataFrame concatenation with empty or all-NA entries is deprecated. In a future version, this will no longer exclude empty or all-NA columns when determining the result dtypes. To retain the old behavior, exclude the relevant entries before the concat operation.\n",
      "  return cls(df=pd.concat(dfs, axis=0, sort=True))\n",
      "[WARNING 10-29 16:35:41] ax.service.utils.report_utils: Column reason missing for all trials. Not appending column.\n",
      "/Users/thomasdodd/miniconda3/envs/BO4ACST_env/lib/python3.11/site-packages/ax/core/data.py:288: FutureWarning: The behavior of DataFrame concatenation with empty or all-NA entries is deprecated. In a future version, this will no longer exclude empty or all-NA columns when determining the result dtypes. To retain the old behavior, exclude the relevant entries before the concat operation.\n",
      "  return cls(df=pd.concat(dfs, axis=0, sort=True))\n",
      "[WARNING 10-29 16:35:41] ax.service.utils.report_utils: Column reason missing for all trials. Not appending column.\n",
      "[INFO 10-29 16:35:41] ax.service.ax_client: Completed trial 22 with data: {'t1': (1.910099, None)}.\n",
      "[INFO 10-29 16:35:41] ax.service.ax_client: Saved JSON-serialized state of optimization to `/Users/thomasdodd/Library/CloudStorage/OneDrive-MillfieldEnterprisesLimited/Cambridge/GitHub/BO4ACST/Notebooks/Optimisation/Method20241028Dim2_qLogNoisyExpectedImprovement/AxExperiment.json`.\n",
      "[WARNING 10-29 16:35:41] ax.service.utils.report_utils: Column reason missing for all trials. Not appending column.\n",
      "[WARNING 10-29 16:35:41] ax.service.utils.report_utils: Column reason missing for all trials. Not appending column.\n"
     ]
    },
    {
     "name": "stdout",
     "output_type": "stream",
     "text": [
      "There are no trials currently running - initialising Bayesian iteration trials.\n"
     ]
    },
    {
     "name": "stderr",
     "output_type": "stream",
     "text": [
      "/Users/thomasdodd/miniconda3/envs/BO4ACST_env/lib/python3.11/site-packages/botorch/optim/optimize.py:568: RuntimeWarning: Optimization failed in `gen_candidates_scipy` with the following warning(s):\n",
      "[OptimizationWarning('Optimization failed within `scipy.optimize.minimize` with status 2 and message ABNORMAL_TERMINATION_IN_LNSRCH.')]\n",
      "Trying again with a new set of initial conditions.\n",
      "  return _optimize_acqf_batch(opt_inputs=opt_inputs)\n",
      "/Users/thomasdodd/miniconda3/envs/BO4ACST_env/lib/python3.11/site-packages/botorch/optim/optimize.py:568: RuntimeWarning: Optimization failed on the second try, after generating a new set of initial conditions.\n",
      "  return _optimize_acqf_batch(opt_inputs=opt_inputs)\n",
      "[INFO 10-29 16:35:44] ax.service.ax_client: Generated new trial 23 with parameters {'x1': 1.220074, 'x2': 2.505836} using model BoTorch.\n",
      "[INFO 10-29 16:35:44] ax.service.ax_client: Saved JSON-serialized state of optimization to `/Users/thomasdodd/Library/CloudStorage/OneDrive-MillfieldEnterprisesLimited/Cambridge/GitHub/BO4ACST/Notebooks/Optimisation/Method20241028Dim2_qLogNoisyExpectedImprovement/AxExperiment.json`.\n",
      "/Users/thomasdodd/miniconda3/envs/BO4ACST_env/lib/python3.11/site-packages/ax/core/data.py:288: FutureWarning: The behavior of DataFrame concatenation with empty or all-NA entries is deprecated. In a future version, this will no longer exclude empty or all-NA columns when determining the result dtypes. To retain the old behavior, exclude the relevant entries before the concat operation.\n",
      "  return cls(df=pd.concat(dfs, axis=0, sort=True))\n",
      "[WARNING 10-29 16:35:44] ax.service.utils.report_utils: Column reason missing for all trials. Not appending column.\n",
      "/Users/thomasdodd/miniconda3/envs/BO4ACST_env/lib/python3.11/site-packages/ax/core/data.py:288: FutureWarning: The behavior of DataFrame concatenation with empty or all-NA entries is deprecated. In a future version, this will no longer exclude empty or all-NA columns when determining the result dtypes. To retain the old behavior, exclude the relevant entries before the concat operation.\n",
      "  return cls(df=pd.concat(dfs, axis=0, sort=True))\n",
      "[WARNING 10-29 16:35:44] ax.service.utils.report_utils: Column reason missing for all trials. Not appending column.\n",
      "[INFO 10-29 16:35:44] ax.service.ax_client: Completed trial 23 with data: {'t1': (0.593132, None)}.\n",
      "[INFO 10-29 16:35:44] ax.service.ax_client: Saved JSON-serialized state of optimization to `/Users/thomasdodd/Library/CloudStorage/OneDrive-MillfieldEnterprisesLimited/Cambridge/GitHub/BO4ACST/Notebooks/Optimisation/Method20241028Dim2_qLogNoisyExpectedImprovement/AxExperiment.json`.\n",
      "[WARNING 10-29 16:35:44] ax.service.utils.report_utils: Column reason missing for all trials. Not appending column.\n",
      "[INFO 10-29 16:35:44] ax.service.ax_client: Starting optimization with verbose logging. To disable logging, set the `verbose_logging` argument to `False`. Note that float values in the logs are rounded to 6 decimal points.\n",
      "[INFO 10-29 16:35:44] ax.service.utils.instantiation: Created search space: SearchSpace(parameters=[RangeParameter(name='x1', parameter_type=FLOAT, range=[-10.0, 10.0]), RangeParameter(name='x2', parameter_type=FLOAT, range=[-10.0, 10.0])], parameter_constraints=[]).\n",
      "[INFO 10-29 16:35:44] ax.service.ax_client: Saved JSON-serialized state of optimization to `/Users/thomasdodd/Library/CloudStorage/OneDrive-MillfieldEnterprisesLimited/Cambridge/GitHub/BO4ACST/Notebooks/Optimisation/Method20241028Dim2_qLogNoisyExpectedImprovement/AxExperiment.json`.\n",
      "[INFO 10-29 16:35:44] ax.core.experiment: Attached custom parameterizations [{'x1': -10.0, 'x2': -10.0}] as trial 0.\n",
      "[INFO 10-29 16:35:44] ax.core.experiment: Attached custom parameterizations [{'x1': 0.0, 'x2': -10.0}] as trial 1.\n",
      "[INFO 10-29 16:35:44] ax.core.experiment: Attached custom parameterizations [{'x1': 10.0, 'x2': -10.0}] as trial 2.\n",
      "[INFO 10-29 16:35:44] ax.core.experiment: Attached custom parameterizations [{'x1': -10.0, 'x2': 0.0}] as trial 3.\n",
      "[INFO 10-29 16:35:44] ax.core.experiment: Attached custom parameterizations [{'x1': 0.0, 'x2': 0.0}] as trial 4.\n",
      "[INFO 10-29 16:35:44] ax.core.experiment: Attached custom parameterizations [{'x1': 10.0, 'x2': 0.0}] as trial 5.\n",
      "[INFO 10-29 16:35:44] ax.core.experiment: Attached custom parameterizations [{'x1': -10.0, 'x2': 10.0}] as trial 6.\n",
      "[INFO 10-29 16:35:44] ax.core.experiment: Attached custom parameterizations [{'x1': 0.0, 'x2': 10.0}] as trial 7.\n",
      "[INFO 10-29 16:35:44] ax.core.experiment: Attached custom parameterizations [{'x1': 10.0, 'x2': 10.0}] as trial 8.\n",
      "[INFO 10-29 16:35:44] ax.service.ax_client: Saved JSON-serialized state of optimization to `/Users/thomasdodd/Library/CloudStorage/OneDrive-MillfieldEnterprisesLimited/Cambridge/GitHub/BO4ACST/Notebooks/Optimisation/Method20241028Dim2_qLogNoisyExpectedImprovement/AxExperiment.json`.\n",
      "[WARNING 10-29 16:35:44] ax.service.utils.report_utils: Column reason missing for all trials. Not appending column.\n",
      "[INFO 10-29 16:35:44] ax.service.utils.report_utils: No results present for the specified metrics `[Metric('t1')]`. Returning arm parameters and metadata only.\n",
      "[WARNING 10-29 16:35:44] ax.service.utils.report_utils: Column reason missing for all trials. Not appending column.\n",
      "[INFO 10-29 16:35:44] ax.service.utils.report_utils: No results present for the specified metrics `[Metric('t1')]`. Returning arm parameters and metadata only.\n",
      "[INFO 10-29 16:35:44] ax.service.ax_client: Completed trial 0 with data: {'t1': (2594.0, None)}.\n",
      "[INFO 10-29 16:35:44] ax.service.ax_client: Saved JSON-serialized state of optimization to `/Users/thomasdodd/Library/CloudStorage/OneDrive-MillfieldEnterprisesLimited/Cambridge/GitHub/BO4ACST/Notebooks/Optimisation/Method20241028Dim2_qLogNoisyExpectedImprovement/AxExperiment.json`.\n",
      "[INFO 10-29 16:35:44] ax.service.ax_client: Completed trial 1 with data: {'t1': (954.0, None)}.\n",
      "[INFO 10-29 16:35:44] ax.service.ax_client: Saved JSON-serialized state of optimization to `/Users/thomasdodd/Library/CloudStorage/OneDrive-MillfieldEnterprisesLimited/Cambridge/GitHub/BO4ACST/Notebooks/Optimisation/Method20241028Dim2_qLogNoisyExpectedImprovement/AxExperiment.json`.\n",
      "[INFO 10-29 16:35:44] ax.service.ax_client: Completed trial 2 with data: {'t1': (314.0, None)}.\n",
      "[INFO 10-29 16:35:44] ax.service.ax_client: Saved JSON-serialized state of optimization to `/Users/thomasdodd/Library/CloudStorage/OneDrive-MillfieldEnterprisesLimited/Cambridge/GitHub/BO4ACST/Notebooks/Optimisation/Method20241028Dim2_qLogNoisyExpectedImprovement/AxExperiment.json`.\n",
      "[INFO 10-29 16:35:44] ax.service.ax_client: Completed trial 3 with data: {'t1': (914.0, None)}.\n",
      "[INFO 10-29 16:35:44] ax.service.ax_client: Saved JSON-serialized state of optimization to `/Users/thomasdodd/Library/CloudStorage/OneDrive-MillfieldEnterprisesLimited/Cambridge/GitHub/BO4ACST/Notebooks/Optimisation/Method20241028Dim2_qLogNoisyExpectedImprovement/AxExperiment.json`.\n",
      "[INFO 10-29 16:35:44] ax.service.ax_client: Completed trial 4 with data: {'t1': (74.0, None)}.\n",
      "[INFO 10-29 16:35:44] ax.service.ax_client: Saved JSON-serialized state of optimization to `/Users/thomasdodd/Library/CloudStorage/OneDrive-MillfieldEnterprisesLimited/Cambridge/GitHub/BO4ACST/Notebooks/Optimisation/Method20241028Dim2_qLogNoisyExpectedImprovement/AxExperiment.json`.\n",
      "[INFO 10-29 16:35:44] ax.service.ax_client: Completed trial 5 with data: {'t1': (234.0, None)}.\n",
      "[INFO 10-29 16:35:44] ax.service.ax_client: Saved JSON-serialized state of optimization to `/Users/thomasdodd/Library/CloudStorage/OneDrive-MillfieldEnterprisesLimited/Cambridge/GitHub/BO4ACST/Notebooks/Optimisation/Method20241028Dim2_qLogNoisyExpectedImprovement/AxExperiment.json`.\n",
      "[INFO 10-29 16:35:44] ax.service.ax_client: Completed trial 6 with data: {'t1': (234.0, None)}.\n",
      "[INFO 10-29 16:35:44] ax.service.ax_client: Saved JSON-serialized state of optimization to `/Users/thomasdodd/Library/CloudStorage/OneDrive-MillfieldEnterprisesLimited/Cambridge/GitHub/BO4ACST/Notebooks/Optimisation/Method20241028Dim2_qLogNoisyExpectedImprovement/AxExperiment.json`.\n",
      "[INFO 10-29 16:35:44] ax.service.ax_client: Completed trial 7 with data: {'t1': (194.0, None)}.\n",
      "[INFO 10-29 16:35:44] ax.service.ax_client: Saved JSON-serialized state of optimization to `/Users/thomasdodd/Library/CloudStorage/OneDrive-MillfieldEnterprisesLimited/Cambridge/GitHub/BO4ACST/Notebooks/Optimisation/Method20241028Dim2_qLogNoisyExpectedImprovement/AxExperiment.json`.\n",
      "[INFO 10-29 16:35:44] ax.service.ax_client: Completed trial 8 with data: {'t1': (1154.0, None)}.\n",
      "[INFO 10-29 16:35:44] ax.service.ax_client: Saved JSON-serialized state of optimization to `/Users/thomasdodd/Library/CloudStorage/OneDrive-MillfieldEnterprisesLimited/Cambridge/GitHub/BO4ACST/Notebooks/Optimisation/Method20241028Dim2_qLogNoisyExpectedImprovement/AxExperiment.json`.\n",
      "[WARNING 10-29 16:35:44] ax.service.utils.report_utils: Column reason missing for all trials. Not appending column.\n",
      "[WARNING 10-29 16:35:44] ax.service.utils.report_utils: Column reason missing for all trials. Not appending column.\n"
     ]
    },
    {
     "name": "stdout",
     "output_type": "stream",
     "text": [
      "[74.         24.44949326 24.44949326  0.29317755  0.29317755  0.29317755\n",
      "  0.29317755  0.29317755  0.29317755  0.29317755  0.29317755  0.29317755\n",
      "  0.29317755  0.29317755  0.29317755  0.29317755]\n",
      "A new experiment has been created and initialised.\n",
      "No previous or current trials detected - initialising prior-forming trials.\n",
      "Samples gridded = 9\n",
      "There are no trials currently running - initialising Bayesian iteration trials.\n"
     ]
    },
    {
     "name": "stderr",
     "output_type": "stream",
     "text": [
      "[INFO 10-29 16:35:44] ax.service.ax_client: Generated new trial 9 with parameters {'x1': -2.661671, 'x2': 5.821393} using model BoTorch.\n",
      "[INFO 10-29 16:35:44] ax.service.ax_client: Saved JSON-serialized state of optimization to `/Users/thomasdodd/Library/CloudStorage/OneDrive-MillfieldEnterprisesLimited/Cambridge/GitHub/BO4ACST/Notebooks/Optimisation/Method20241028Dim2_qLogNoisyExpectedImprovement/AxExperiment.json`.\n",
      "/Users/thomasdodd/miniconda3/envs/BO4ACST_env/lib/python3.11/site-packages/ax/core/data.py:288: FutureWarning: The behavior of DataFrame concatenation with empty or all-NA entries is deprecated. In a future version, this will no longer exclude empty or all-NA columns when determining the result dtypes. To retain the old behavior, exclude the relevant entries before the concat operation.\n",
      "  return cls(df=pd.concat(dfs, axis=0, sort=True))\n",
      "[WARNING 10-29 16:35:44] ax.service.utils.report_utils: Column reason missing for all trials. Not appending column.\n",
      "/Users/thomasdodd/miniconda3/envs/BO4ACST_env/lib/python3.11/site-packages/ax/core/data.py:288: FutureWarning: The behavior of DataFrame concatenation with empty or all-NA entries is deprecated. In a future version, this will no longer exclude empty or all-NA columns when determining the result dtypes. To retain the old behavior, exclude the relevant entries before the concat operation.\n",
      "  return cls(df=pd.concat(dfs, axis=0, sort=True))\n",
      "[WARNING 10-29 16:35:44] ax.service.utils.report_utils: Column reason missing for all trials. Not appending column.\n",
      "[INFO 10-29 16:35:44] ax.service.ax_client: Completed trial 9 with data: {'t1': (24.192357, None)}.\n",
      "[INFO 10-29 16:35:44] ax.service.ax_client: Saved JSON-serialized state of optimization to `/Users/thomasdodd/Library/CloudStorage/OneDrive-MillfieldEnterprisesLimited/Cambridge/GitHub/BO4ACST/Notebooks/Optimisation/Method20241028Dim2_qLogNoisyExpectedImprovement/AxExperiment.json`.\n",
      "[WARNING 10-29 16:35:44] ax.service.utils.report_utils: Column reason missing for all trials. Not appending column.\n",
      "[WARNING 10-29 16:35:44] ax.service.utils.report_utils: Column reason missing for all trials. Not appending column.\n"
     ]
    },
    {
     "name": "stdout",
     "output_type": "stream",
     "text": [
      "There are no trials currently running - initialising Bayesian iteration trials.\n"
     ]
    },
    {
     "name": "stderr",
     "output_type": "stream",
     "text": [
      "[INFO 10-29 16:35:45] ax.service.ax_client: Generated new trial 10 with parameters {'x1': 4.920202, 'x2': -1.656128} using model BoTorch.\n",
      "[INFO 10-29 16:35:45] ax.service.ax_client: Saved JSON-serialized state of optimization to `/Users/thomasdodd/Library/CloudStorage/OneDrive-MillfieldEnterprisesLimited/Cambridge/GitHub/BO4ACST/Notebooks/Optimisation/Method20241028Dim2_qLogNoisyExpectedImprovement/AxExperiment.json`.\n",
      "/Users/thomasdodd/miniconda3/envs/BO4ACST_env/lib/python3.11/site-packages/ax/core/data.py:288: FutureWarning: The behavior of DataFrame concatenation with empty or all-NA entries is deprecated. In a future version, this will no longer exclude empty or all-NA columns when determining the result dtypes. To retain the old behavior, exclude the relevant entries before the concat operation.\n",
      "  return cls(df=pd.concat(dfs, axis=0, sort=True))\n",
      "[WARNING 10-29 16:35:45] ax.service.utils.report_utils: Column reason missing for all trials. Not appending column.\n",
      "/Users/thomasdodd/miniconda3/envs/BO4ACST_env/lib/python3.11/site-packages/ax/core/data.py:288: FutureWarning: The behavior of DataFrame concatenation with empty or all-NA entries is deprecated. In a future version, this will no longer exclude empty or all-NA columns when determining the result dtypes. To retain the old behavior, exclude the relevant entries before the concat operation.\n",
      "  return cls(df=pd.concat(dfs, axis=0, sort=True))\n",
      "[WARNING 10-29 16:35:45] ax.service.utils.report_utils: Column reason missing for all trials. Not appending column.\n",
      "[INFO 10-29 16:35:45] ax.service.ax_client: Completed trial 10 with data: {'t1': (39.213854, None)}.\n",
      "[INFO 10-29 16:35:45] ax.service.ax_client: Saved JSON-serialized state of optimization to `/Users/thomasdodd/Library/CloudStorage/OneDrive-MillfieldEnterprisesLimited/Cambridge/GitHub/BO4ACST/Notebooks/Optimisation/Method20241028Dim2_qLogNoisyExpectedImprovement/AxExperiment.json`.\n",
      "[WARNING 10-29 16:35:45] ax.service.utils.report_utils: Column reason missing for all trials. Not appending column.\n",
      "[WARNING 10-29 16:35:45] ax.service.utils.report_utils: Column reason missing for all trials. Not appending column.\n"
     ]
    },
    {
     "name": "stdout",
     "output_type": "stream",
     "text": [
      "There are no trials currently running - initialising Bayesian iteration trials.\n"
     ]
    },
    {
     "name": "stderr",
     "output_type": "stream",
     "text": [
      "[INFO 10-29 16:35:45] ax.service.ax_client: Generated new trial 11 with parameters {'x1': 1.360919, 'x2': 2.862829} using model BoTorch.\n",
      "[INFO 10-29 16:35:45] ax.service.ax_client: Saved JSON-serialized state of optimization to `/Users/thomasdodd/Library/CloudStorage/OneDrive-MillfieldEnterprisesLimited/Cambridge/GitHub/BO4ACST/Notebooks/Optimisation/Method20241028Dim2_qLogNoisyExpectedImprovement/AxExperiment.json`.\n",
      "/Users/thomasdodd/miniconda3/envs/BO4ACST_env/lib/python3.11/site-packages/ax/core/data.py:288: FutureWarning: The behavior of DataFrame concatenation with empty or all-NA entries is deprecated. In a future version, this will no longer exclude empty or all-NA columns when determining the result dtypes. To retain the old behavior, exclude the relevant entries before the concat operation.\n",
      "  return cls(df=pd.concat(dfs, axis=0, sort=True))\n",
      "[WARNING 10-29 16:35:45] ax.service.utils.report_utils: Column reason missing for all trials. Not appending column.\n",
      "/Users/thomasdodd/miniconda3/envs/BO4ACST_env/lib/python3.11/site-packages/ax/core/data.py:288: FutureWarning: The behavior of DataFrame concatenation with empty or all-NA entries is deprecated. In a future version, this will no longer exclude empty or all-NA columns when determining the result dtypes. To retain the old behavior, exclude the relevant entries before the concat operation.\n",
      "  return cls(df=pd.concat(dfs, axis=0, sort=True))\n",
      "[WARNING 10-29 16:35:45] ax.service.utils.report_utils: Column reason missing for all trials. Not appending column.\n",
      "[INFO 10-29 16:35:45] ax.service.ax_client: Completed trial 11 with data: {'t1': (0.349331, None)}.\n",
      "[INFO 10-29 16:35:45] ax.service.ax_client: Saved JSON-serialized state of optimization to `/Users/thomasdodd/Library/CloudStorage/OneDrive-MillfieldEnterprisesLimited/Cambridge/GitHub/BO4ACST/Notebooks/Optimisation/Method20241028Dim2_qLogNoisyExpectedImprovement/AxExperiment.json`.\n",
      "[WARNING 10-29 16:35:45] ax.service.utils.report_utils: Column reason missing for all trials. Not appending column.\n",
      "[WARNING 10-29 16:35:45] ax.service.utils.report_utils: Column reason missing for all trials. Not appending column.\n"
     ]
    },
    {
     "name": "stdout",
     "output_type": "stream",
     "text": [
      "There are no trials currently running - initialising Bayesian iteration trials.\n"
     ]
    },
    {
     "name": "stderr",
     "output_type": "stream",
     "text": [
      "[INFO 10-29 16:35:46] ax.service.ax_client: Generated new trial 12 with parameters {'x1': -4.094281, 'x2': 7.673086} using model BoTorch.\n",
      "[INFO 10-29 16:35:46] ax.service.ax_client: Saved JSON-serialized state of optimization to `/Users/thomasdodd/Library/CloudStorage/OneDrive-MillfieldEnterprisesLimited/Cambridge/GitHub/BO4ACST/Notebooks/Optimisation/Method20241028Dim2_qLogNoisyExpectedImprovement/AxExperiment.json`.\n",
      "/Users/thomasdodd/miniconda3/envs/BO4ACST_env/lib/python3.11/site-packages/ax/core/data.py:288: FutureWarning: The behavior of DataFrame concatenation with empty or all-NA entries is deprecated. In a future version, this will no longer exclude empty or all-NA columns when determining the result dtypes. To retain the old behavior, exclude the relevant entries before the concat operation.\n",
      "  return cls(df=pd.concat(dfs, axis=0, sort=True))\n",
      "[WARNING 10-29 16:35:46] ax.service.utils.report_utils: Column reason missing for all trials. Not appending column.\n",
      "/Users/thomasdodd/miniconda3/envs/BO4ACST_env/lib/python3.11/site-packages/ax/core/data.py:288: FutureWarning: The behavior of DataFrame concatenation with empty or all-NA entries is deprecated. In a future version, this will no longer exclude empty or all-NA columns when determining the result dtypes. To retain the old behavior, exclude the relevant entries before the concat operation.\n",
      "  return cls(df=pd.concat(dfs, axis=0, sort=True))\n",
      "[WARNING 10-29 16:35:46] ax.service.utils.report_utils: Column reason missing for all trials. Not appending column.\n",
      "[INFO 10-29 16:35:46] ax.service.ax_client: Completed trial 12 with data: {'t1': (48.499057, None)}.\n",
      "[INFO 10-29 16:35:46] ax.service.ax_client: Saved JSON-serialized state of optimization to `/Users/thomasdodd/Library/CloudStorage/OneDrive-MillfieldEnterprisesLimited/Cambridge/GitHub/BO4ACST/Notebooks/Optimisation/Method20241028Dim2_qLogNoisyExpectedImprovement/AxExperiment.json`.\n",
      "[WARNING 10-29 16:35:46] ax.service.utils.report_utils: Column reason missing for all trials. Not appending column.\n",
      "[WARNING 10-29 16:35:46] ax.service.utils.report_utils: Column reason missing for all trials. Not appending column.\n"
     ]
    },
    {
     "name": "stdout",
     "output_type": "stream",
     "text": [
      "There are no trials currently running - initialising Bayesian iteration trials.\n"
     ]
    },
    {
     "name": "stderr",
     "output_type": "stream",
     "text": [
      "[INFO 10-29 16:35:47] ax.service.ax_client: Generated new trial 13 with parameters {'x1': -0.54046, 'x2': 3.881202} using model BoTorch.\n",
      "[INFO 10-29 16:35:47] ax.service.ax_client: Saved JSON-serialized state of optimization to `/Users/thomasdodd/Library/CloudStorage/OneDrive-MillfieldEnterprisesLimited/Cambridge/GitHub/BO4ACST/Notebooks/Optimisation/Method20241028Dim2_qLogNoisyExpectedImprovement/AxExperiment.json`.\n",
      "/Users/thomasdodd/miniconda3/envs/BO4ACST_env/lib/python3.11/site-packages/ax/core/data.py:288: FutureWarning: The behavior of DataFrame concatenation with empty or all-NA entries is deprecated. In a future version, this will no longer exclude empty or all-NA columns when determining the result dtypes. To retain the old behavior, exclude the relevant entries before the concat operation.\n",
      "  return cls(df=pd.concat(dfs, axis=0, sort=True))\n",
      "[WARNING 10-29 16:35:47] ax.service.utils.report_utils: Column reason missing for all trials. Not appending column.\n",
      "/Users/thomasdodd/miniconda3/envs/BO4ACST_env/lib/python3.11/site-packages/ax/core/data.py:288: FutureWarning: The behavior of DataFrame concatenation with empty or all-NA entries is deprecated. In a future version, this will no longer exclude empty or all-NA columns when determining the result dtypes. To retain the old behavior, exclude the relevant entries before the concat operation.\n",
      "  return cls(df=pd.concat(dfs, axis=0, sort=True))\n",
      "[WARNING 10-29 16:35:47] ax.service.utils.report_utils: Column reason missing for all trials. Not appending column.\n",
      "[INFO 10-29 16:35:47] ax.service.ax_client: Completed trial 13 with data: {'t1': (4.888019, None)}.\n",
      "[INFO 10-29 16:35:47] ax.service.ax_client: Saved JSON-serialized state of optimization to `/Users/thomasdodd/Library/CloudStorage/OneDrive-MillfieldEnterprisesLimited/Cambridge/GitHub/BO4ACST/Notebooks/Optimisation/Method20241028Dim2_qLogNoisyExpectedImprovement/AxExperiment.json`.\n",
      "[WARNING 10-29 16:35:47] ax.service.utils.report_utils: Column reason missing for all trials. Not appending column.\n",
      "[WARNING 10-29 16:35:47] ax.service.utils.report_utils: Column reason missing for all trials. Not appending column.\n"
     ]
    },
    {
     "name": "stdout",
     "output_type": "stream",
     "text": [
      "There are no trials currently running - initialising Bayesian iteration trials.\n"
     ]
    },
    {
     "name": "stderr",
     "output_type": "stream",
     "text": [
      "[INFO 10-29 16:35:48] ax.service.ax_client: Generated new trial 14 with parameters {'x1': 2.736992, 'x2': 0.704502} using model BoTorch.\n",
      "[INFO 10-29 16:35:48] ax.service.ax_client: Saved JSON-serialized state of optimization to `/Users/thomasdodd/Library/CloudStorage/OneDrive-MillfieldEnterprisesLimited/Cambridge/GitHub/BO4ACST/Notebooks/Optimisation/Method20241028Dim2_qLogNoisyExpectedImprovement/AxExperiment.json`.\n",
      "/Users/thomasdodd/miniconda3/envs/BO4ACST_env/lib/python3.11/site-packages/ax/core/data.py:288: FutureWarning: The behavior of DataFrame concatenation with empty or all-NA entries is deprecated. In a future version, this will no longer exclude empty or all-NA columns when determining the result dtypes. To retain the old behavior, exclude the relevant entries before the concat operation.\n",
      "  return cls(df=pd.concat(dfs, axis=0, sort=True))\n",
      "[WARNING 10-29 16:35:48] ax.service.utils.report_utils: Column reason missing for all trials. Not appending column.\n",
      "/Users/thomasdodd/miniconda3/envs/BO4ACST_env/lib/python3.11/site-packages/ax/core/data.py:288: FutureWarning: The behavior of DataFrame concatenation with empty or all-NA entries is deprecated. In a future version, this will no longer exclude empty or all-NA columns when determining the result dtypes. To retain the old behavior, exclude the relevant entries before the concat operation.\n",
      "  return cls(df=pd.concat(dfs, axis=0, sort=True))\n",
      "[WARNING 10-29 16:35:48] ax.service.utils.report_utils: Column reason missing for all trials. Not appending column.\n",
      "[INFO 10-29 16:35:48] ax.service.ax_client: Completed trial 14 with data: {'t1': (9.534168, None)}.\n",
      "[INFO 10-29 16:35:48] ax.service.ax_client: Saved JSON-serialized state of optimization to `/Users/thomasdodd/Library/CloudStorage/OneDrive-MillfieldEnterprisesLimited/Cambridge/GitHub/BO4ACST/Notebooks/Optimisation/Method20241028Dim2_qLogNoisyExpectedImprovement/AxExperiment.json`.\n",
      "[WARNING 10-29 16:35:48] ax.service.utils.report_utils: Column reason missing for all trials. Not appending column.\n",
      "[WARNING 10-29 16:35:48] ax.service.utils.report_utils: Column reason missing for all trials. Not appending column.\n"
     ]
    },
    {
     "name": "stdout",
     "output_type": "stream",
     "text": [
      "There are no trials currently running - initialising Bayesian iteration trials.\n"
     ]
    },
    {
     "name": "stderr",
     "output_type": "stream",
     "text": [
      "[INFO 10-29 16:35:49] ax.service.ax_client: Generated new trial 15 with parameters {'x1': 0.606469, 'x2': 2.55244} using model BoTorch.\n",
      "[INFO 10-29 16:35:49] ax.service.ax_client: Saved JSON-serialized state of optimization to `/Users/thomasdodd/Library/CloudStorage/OneDrive-MillfieldEnterprisesLimited/Cambridge/GitHub/BO4ACST/Notebooks/Optimisation/Method20241028Dim2_qLogNoisyExpectedImprovement/AxExperiment.json`.\n",
      "/Users/thomasdodd/miniconda3/envs/BO4ACST_env/lib/python3.11/site-packages/ax/core/data.py:288: FutureWarning: The behavior of DataFrame concatenation with empty or all-NA entries is deprecated. In a future version, this will no longer exclude empty or all-NA columns when determining the result dtypes. To retain the old behavior, exclude the relevant entries before the concat operation.\n",
      "  return cls(df=pd.concat(dfs, axis=0, sort=True))\n",
      "[WARNING 10-29 16:35:49] ax.service.utils.report_utils: Column reason missing for all trials. Not appending column.\n",
      "/Users/thomasdodd/miniconda3/envs/BO4ACST_env/lib/python3.11/site-packages/ax/core/data.py:288: FutureWarning: The behavior of DataFrame concatenation with empty or all-NA entries is deprecated. In a future version, this will no longer exclude empty or all-NA columns when determining the result dtypes. To retain the old behavior, exclude the relevant entries before the concat operation.\n",
      "  return cls(df=pd.concat(dfs, axis=0, sort=True))\n",
      "[WARNING 10-29 16:35:49] ax.service.utils.report_utils: Column reason missing for all trials. Not appending column.\n",
      "[INFO 10-29 16:35:49] ax.service.ax_client: Completed trial 15 with data: {'t1': (3.184911, None)}.\n",
      "[INFO 10-29 16:35:49] ax.service.ax_client: Saved JSON-serialized state of optimization to `/Users/thomasdodd/Library/CloudStorage/OneDrive-MillfieldEnterprisesLimited/Cambridge/GitHub/BO4ACST/Notebooks/Optimisation/Method20241028Dim2_qLogNoisyExpectedImprovement/AxExperiment.json`.\n",
      "[WARNING 10-29 16:35:49] ax.service.utils.report_utils: Column reason missing for all trials. Not appending column.\n",
      "[WARNING 10-29 16:35:49] ax.service.utils.report_utils: Column reason missing for all trials. Not appending column.\n"
     ]
    },
    {
     "name": "stdout",
     "output_type": "stream",
     "text": [
      "There are no trials currently running - initialising Bayesian iteration trials.\n"
     ]
    },
    {
     "name": "stderr",
     "output_type": "stream",
     "text": [
      "[INFO 10-29 16:35:50] ax.service.ax_client: Generated new trial 16 with parameters {'x1': -0.572643, 'x2': 4.507598} using model BoTorch.\n",
      "[INFO 10-29 16:35:50] ax.service.ax_client: Saved JSON-serialized state of optimization to `/Users/thomasdodd/Library/CloudStorage/OneDrive-MillfieldEnterprisesLimited/Cambridge/GitHub/BO4ACST/Notebooks/Optimisation/Method20241028Dim2_qLogNoisyExpectedImprovement/AxExperiment.json`.\n",
      "/Users/thomasdodd/miniconda3/envs/BO4ACST_env/lib/python3.11/site-packages/ax/core/data.py:288: FutureWarning: The behavior of DataFrame concatenation with empty or all-NA entries is deprecated. In a future version, this will no longer exclude empty or all-NA columns when determining the result dtypes. To retain the old behavior, exclude the relevant entries before the concat operation.\n",
      "  return cls(df=pd.concat(dfs, axis=0, sort=True))\n",
      "[WARNING 10-29 16:35:50] ax.service.utils.report_utils: Column reason missing for all trials. Not appending column.\n",
      "/Users/thomasdodd/miniconda3/envs/BO4ACST_env/lib/python3.11/site-packages/ax/core/data.py:288: FutureWarning: The behavior of DataFrame concatenation with empty or all-NA entries is deprecated. In a future version, this will no longer exclude empty or all-NA columns when determining the result dtypes. To retain the old behavior, exclude the relevant entries before the concat operation.\n",
      "  return cls(df=pd.concat(dfs, axis=0, sort=True))\n",
      "[WARNING 10-29 16:35:50] ax.service.utils.report_utils: Column reason missing for all trials. Not appending column.\n",
      "[INFO 10-29 16:35:50] ax.service.ax_client: Completed trial 16 with data: {'t1': (4.76298, None)}.\n",
      "[INFO 10-29 16:35:50] ax.service.ax_client: Saved JSON-serialized state of optimization to `/Users/thomasdodd/Library/CloudStorage/OneDrive-MillfieldEnterprisesLimited/Cambridge/GitHub/BO4ACST/Notebooks/Optimisation/Method20241028Dim2_qLogNoisyExpectedImprovement/AxExperiment.json`.\n",
      "[WARNING 10-29 16:35:50] ax.service.utils.report_utils: Column reason missing for all trials. Not appending column.\n",
      "[WARNING 10-29 16:35:50] ax.service.utils.report_utils: Column reason missing for all trials. Not appending column.\n"
     ]
    },
    {
     "name": "stdout",
     "output_type": "stream",
     "text": [
      "There are no trials currently running - initialising Bayesian iteration trials.\n"
     ]
    },
    {
     "name": "stderr",
     "output_type": "stream",
     "text": [
      "[INFO 10-29 16:35:55] ax.service.ax_client: Generated new trial 17 with parameters {'x1': 1.388203, 'x2': 2.26022} using model BoTorch.\n",
      "[INFO 10-29 16:35:55] ax.service.ax_client: Saved JSON-serialized state of optimization to `/Users/thomasdodd/Library/CloudStorage/OneDrive-MillfieldEnterprisesLimited/Cambridge/GitHub/BO4ACST/Notebooks/Optimisation/Method20241028Dim2_qLogNoisyExpectedImprovement/AxExperiment.json`.\n",
      "/Users/thomasdodd/miniconda3/envs/BO4ACST_env/lib/python3.11/site-packages/ax/core/data.py:288: FutureWarning: The behavior of DataFrame concatenation with empty or all-NA entries is deprecated. In a future version, this will no longer exclude empty or all-NA columns when determining the result dtypes. To retain the old behavior, exclude the relevant entries before the concat operation.\n",
      "  return cls(df=pd.concat(dfs, axis=0, sort=True))\n",
      "[WARNING 10-29 16:35:55] ax.service.utils.report_utils: Column reason missing for all trials. Not appending column.\n",
      "/Users/thomasdodd/miniconda3/envs/BO4ACST_env/lib/python3.11/site-packages/ax/core/data.py:288: FutureWarning: The behavior of DataFrame concatenation with empty or all-NA entries is deprecated. In a future version, this will no longer exclude empty or all-NA columns when determining the result dtypes. To retain the old behavior, exclude the relevant entries before the concat operation.\n",
      "  return cls(df=pd.concat(dfs, axis=0, sort=True))\n",
      "[WARNING 10-29 16:35:55] ax.service.utils.report_utils: Column reason missing for all trials. Not appending column.\n",
      "[INFO 10-29 16:35:55] ax.service.ax_client: Completed trial 17 with data: {'t1': (1.192402, None)}.\n",
      "[INFO 10-29 16:35:55] ax.service.ax_client: Saved JSON-serialized state of optimization to `/Users/thomasdodd/Library/CloudStorage/OneDrive-MillfieldEnterprisesLimited/Cambridge/GitHub/BO4ACST/Notebooks/Optimisation/Method20241028Dim2_qLogNoisyExpectedImprovement/AxExperiment.json`.\n",
      "[WARNING 10-29 16:35:55] ax.service.utils.report_utils: Column reason missing for all trials. Not appending column.\n",
      "[WARNING 10-29 16:35:55] ax.service.utils.report_utils: Column reason missing for all trials. Not appending column.\n"
     ]
    },
    {
     "name": "stdout",
     "output_type": "stream",
     "text": [
      "There are no trials currently running - initialising Bayesian iteration trials.\n"
     ]
    },
    {
     "name": "stderr",
     "output_type": "stream",
     "text": [
      "[INFO 10-29 16:36:03] ax.service.ax_client: Generated new trial 18 with parameters {'x1': 0.312178, 'x2': 3.30202} using model BoTorch.\n",
      "[INFO 10-29 16:36:03] ax.service.ax_client: Saved JSON-serialized state of optimization to `/Users/thomasdodd/Library/CloudStorage/OneDrive-MillfieldEnterprisesLimited/Cambridge/GitHub/BO4ACST/Notebooks/Optimisation/Method20241028Dim2_qLogNoisyExpectedImprovement/AxExperiment.json`.\n",
      "/Users/thomasdodd/miniconda3/envs/BO4ACST_env/lib/python3.11/site-packages/ax/core/data.py:288: FutureWarning: The behavior of DataFrame concatenation with empty or all-NA entries is deprecated. In a future version, this will no longer exclude empty or all-NA columns when determining the result dtypes. To retain the old behavior, exclude the relevant entries before the concat operation.\n",
      "  return cls(df=pd.concat(dfs, axis=0, sort=True))\n",
      "[WARNING 10-29 16:36:03] ax.service.utils.report_utils: Column reason missing for all trials. Not appending column.\n",
      "/Users/thomasdodd/miniconda3/envs/BO4ACST_env/lib/python3.11/site-packages/ax/core/data.py:288: FutureWarning: The behavior of DataFrame concatenation with empty or all-NA entries is deprecated. In a future version, this will no longer exclude empty or all-NA columns when determining the result dtypes. To retain the old behavior, exclude the relevant entries before the concat operation.\n",
      "  return cls(df=pd.concat(dfs, axis=0, sort=True))\n",
      "[WARNING 10-29 16:36:03] ax.service.utils.report_utils: Column reason missing for all trials. Not appending column.\n",
      "[INFO 10-29 16:36:03] ax.service.ax_client: Completed trial 18 with data: {'t1': (1.159688, None)}.\n",
      "[INFO 10-29 16:36:03] ax.service.ax_client: Saved JSON-serialized state of optimization to `/Users/thomasdodd/Library/CloudStorage/OneDrive-MillfieldEnterprisesLimited/Cambridge/GitHub/BO4ACST/Notebooks/Optimisation/Method20241028Dim2_qLogNoisyExpectedImprovement/AxExperiment.json`.\n",
      "[WARNING 10-29 16:36:03] ax.service.utils.report_utils: Column reason missing for all trials. Not appending column.\n",
      "[WARNING 10-29 16:36:03] ax.service.utils.report_utils: Column reason missing for all trials. Not appending column.\n"
     ]
    },
    {
     "name": "stdout",
     "output_type": "stream",
     "text": [
      "There are no trials currently running - initialising Bayesian iteration trials.\n"
     ]
    },
    {
     "name": "stderr",
     "output_type": "stream",
     "text": [
      "[INFO 10-29 16:36:09] ax.service.ax_client: Generated new trial 19 with parameters {'x1': 1.961323, 'x2': 1.660479} using model BoTorch.\n",
      "[INFO 10-29 16:36:09] ax.service.ax_client: Saved JSON-serialized state of optimization to `/Users/thomasdodd/Library/CloudStorage/OneDrive-MillfieldEnterprisesLimited/Cambridge/GitHub/BO4ACST/Notebooks/Optimisation/Method20241028Dim2_qLogNoisyExpectedImprovement/AxExperiment.json`.\n",
      "/Users/thomasdodd/miniconda3/envs/BO4ACST_env/lib/python3.11/site-packages/ax/core/data.py:288: FutureWarning: The behavior of DataFrame concatenation with empty or all-NA entries is deprecated. In a future version, this will no longer exclude empty or all-NA columns when determining the result dtypes. To retain the old behavior, exclude the relevant entries before the concat operation.\n",
      "  return cls(df=pd.concat(dfs, axis=0, sort=True))\n",
      "[WARNING 10-29 16:36:09] ax.service.utils.report_utils: Column reason missing for all trials. Not appending column.\n",
      "/Users/thomasdodd/miniconda3/envs/BO4ACST_env/lib/python3.11/site-packages/ax/core/data.py:288: FutureWarning: The behavior of DataFrame concatenation with empty or all-NA entries is deprecated. In a future version, this will no longer exclude empty or all-NA columns when determining the result dtypes. To retain the old behavior, exclude the relevant entries before the concat operation.\n",
      "  return cls(df=pd.concat(dfs, axis=0, sort=True))\n",
      "[WARNING 10-29 16:36:09] ax.service.utils.report_utils: Column reason missing for all trials. Not appending column.\n",
      "[INFO 10-29 16:36:09] ax.service.ax_client: Completed trial 19 with data: {'t1': (3.290594, None)}.\n",
      "[INFO 10-29 16:36:09] ax.service.ax_client: Saved JSON-serialized state of optimization to `/Users/thomasdodd/Library/CloudStorage/OneDrive-MillfieldEnterprisesLimited/Cambridge/GitHub/BO4ACST/Notebooks/Optimisation/Method20241028Dim2_qLogNoisyExpectedImprovement/AxExperiment.json`.\n",
      "[WARNING 10-29 16:36:09] ax.service.utils.report_utils: Column reason missing for all trials. Not appending column.\n",
      "[WARNING 10-29 16:36:09] ax.service.utils.report_utils: Column reason missing for all trials. Not appending column.\n"
     ]
    },
    {
     "name": "stdout",
     "output_type": "stream",
     "text": [
      "There are no trials currently running - initialising Bayesian iteration trials.\n"
     ]
    },
    {
     "name": "stderr",
     "output_type": "stream",
     "text": [
      "[INFO 10-29 16:36:15] ax.service.ax_client: Generated new trial 20 with parameters {'x1': 0.849919, 'x2': 2.772079} using model BoTorch.\n",
      "[INFO 10-29 16:36:15] ax.service.ax_client: Saved JSON-serialized state of optimization to `/Users/thomasdodd/Library/CloudStorage/OneDrive-MillfieldEnterprisesLimited/Cambridge/GitHub/BO4ACST/Notebooks/Optimisation/Method20241028Dim2_qLogNoisyExpectedImprovement/AxExperiment.json`.\n",
      "/Users/thomasdodd/miniconda3/envs/BO4ACST_env/lib/python3.11/site-packages/ax/core/data.py:288: FutureWarning: The behavior of DataFrame concatenation with empty or all-NA entries is deprecated. In a future version, this will no longer exclude empty or all-NA columns when determining the result dtypes. To retain the old behavior, exclude the relevant entries before the concat operation.\n",
      "  return cls(df=pd.concat(dfs, axis=0, sort=True))\n",
      "[WARNING 10-29 16:36:15] ax.service.utils.report_utils: Column reason missing for all trials. Not appending column.\n",
      "/Users/thomasdodd/miniconda3/envs/BO4ACST_env/lib/python3.11/site-packages/ax/core/data.py:288: FutureWarning: The behavior of DataFrame concatenation with empty or all-NA entries is deprecated. In a future version, this will no longer exclude empty or all-NA columns when determining the result dtypes. To retain the old behavior, exclude the relevant entries before the concat operation.\n",
      "  return cls(df=pd.concat(dfs, axis=0, sort=True))\n",
      "[WARNING 10-29 16:36:15] ax.service.utils.report_utils: Column reason missing for all trials. Not appending column.\n",
      "[INFO 10-29 16:36:15] ax.service.ax_client: Completed trial 20 with data: {'t1': (0.646014, None)}.\n",
      "[INFO 10-29 16:36:15] ax.service.ax_client: Saved JSON-serialized state of optimization to `/Users/thomasdodd/Library/CloudStorage/OneDrive-MillfieldEnterprisesLimited/Cambridge/GitHub/BO4ACST/Notebooks/Optimisation/Method20241028Dim2_qLogNoisyExpectedImprovement/AxExperiment.json`.\n",
      "[WARNING 10-29 16:36:15] ax.service.utils.report_utils: Column reason missing for all trials. Not appending column.\n",
      "[WARNING 10-29 16:36:15] ax.service.utils.report_utils: Column reason missing for all trials. Not appending column.\n"
     ]
    },
    {
     "name": "stdout",
     "output_type": "stream",
     "text": [
      "There are no trials currently running - initialising Bayesian iteration trials.\n"
     ]
    },
    {
     "name": "stderr",
     "output_type": "stream",
     "text": [
      "/Users/thomasdodd/miniconda3/envs/BO4ACST_env/lib/python3.11/site-packages/botorch/optim/optimize.py:568: RuntimeWarning: Optimization failed in `gen_candidates_scipy` with the following warning(s):\n",
      "[OptimizationWarning('Optimization failed within `scipy.optimize.minimize` with status 2 and message ABNORMAL_TERMINATION_IN_LNSRCH.')]\n",
      "Trying again with a new set of initial conditions.\n",
      "  return _optimize_acqf_batch(opt_inputs=opt_inputs)\n",
      "[INFO 10-29 16:36:27] ax.service.ax_client: Generated new trial 21 with parameters {'x1': 0.184744, 'x2': 3.062707} using model BoTorch.\n",
      "[INFO 10-29 16:36:27] ax.service.ax_client: Saved JSON-serialized state of optimization to `/Users/thomasdodd/Library/CloudStorage/OneDrive-MillfieldEnterprisesLimited/Cambridge/GitHub/BO4ACST/Notebooks/Optimisation/Method20241028Dim2_qLogNoisyExpectedImprovement/AxExperiment.json`.\n",
      "/Users/thomasdodd/miniconda3/envs/BO4ACST_env/lib/python3.11/site-packages/ax/core/data.py:288: FutureWarning: The behavior of DataFrame concatenation with empty or all-NA entries is deprecated. In a future version, this will no longer exclude empty or all-NA columns when determining the result dtypes. To retain the old behavior, exclude the relevant entries before the concat operation.\n",
      "  return cls(df=pd.concat(dfs, axis=0, sort=True))\n",
      "[WARNING 10-29 16:36:27] ax.service.utils.report_utils: Column reason missing for all trials. Not appending column.\n",
      "/Users/thomasdodd/miniconda3/envs/BO4ACST_env/lib/python3.11/site-packages/ax/core/data.py:288: FutureWarning: The behavior of DataFrame concatenation with empty or all-NA entries is deprecated. In a future version, this will no longer exclude empty or all-NA columns when determining the result dtypes. To retain the old behavior, exclude the relevant entries before the concat operation.\n",
      "  return cls(df=pd.concat(dfs, axis=0, sort=True))\n",
      "[WARNING 10-29 16:36:27] ax.service.utils.report_utils: Column reason missing for all trials. Not appending column.\n",
      "[INFO 10-29 16:36:27] ax.service.ax_client: Completed trial 21 with data: {'t1': (2.933894, None)}.\n",
      "[INFO 10-29 16:36:27] ax.service.ax_client: Saved JSON-serialized state of optimization to `/Users/thomasdodd/Library/CloudStorage/OneDrive-MillfieldEnterprisesLimited/Cambridge/GitHub/BO4ACST/Notebooks/Optimisation/Method20241028Dim2_qLogNoisyExpectedImprovement/AxExperiment.json`.\n",
      "[WARNING 10-29 16:36:27] ax.service.utils.report_utils: Column reason missing for all trials. Not appending column.\n",
      "[WARNING 10-29 16:36:27] ax.service.utils.report_utils: Column reason missing for all trials. Not appending column.\n"
     ]
    },
    {
     "name": "stdout",
     "output_type": "stream",
     "text": [
      "There are no trials currently running - initialising Bayesian iteration trials.\n"
     ]
    },
    {
     "name": "stderr",
     "output_type": "stream",
     "text": [
      "[INFO 10-29 16:36:34] ax.service.ax_client: Generated new trial 22 with parameters {'x1': 1.095146, 'x2': 2.262078} using model BoTorch.\n",
      "[INFO 10-29 16:36:34] ax.service.ax_client: Saved JSON-serialized state of optimization to `/Users/thomasdodd/Library/CloudStorage/OneDrive-MillfieldEnterprisesLimited/Cambridge/GitHub/BO4ACST/Notebooks/Optimisation/Method20241028Dim2_qLogNoisyExpectedImprovement/AxExperiment.json`.\n",
      "/Users/thomasdodd/miniconda3/envs/BO4ACST_env/lib/python3.11/site-packages/ax/core/data.py:288: FutureWarning: The behavior of DataFrame concatenation with empty or all-NA entries is deprecated. In a future version, this will no longer exclude empty or all-NA columns when determining the result dtypes. To retain the old behavior, exclude the relevant entries before the concat operation.\n",
      "  return cls(df=pd.concat(dfs, axis=0, sort=True))\n",
      "[WARNING 10-29 16:36:34] ax.service.utils.report_utils: Column reason missing for all trials. Not appending column.\n",
      "/Users/thomasdodd/miniconda3/envs/BO4ACST_env/lib/python3.11/site-packages/ax/core/data.py:288: FutureWarning: The behavior of DataFrame concatenation with empty or all-NA entries is deprecated. In a future version, this will no longer exclude empty or all-NA columns when determining the result dtypes. To retain the old behavior, exclude the relevant entries before the concat operation.\n",
      "  return cls(df=pd.concat(dfs, axis=0, sort=True))\n",
      "[WARNING 10-29 16:36:34] ax.service.utils.report_utils: Column reason missing for all trials. Not appending column.\n",
      "[INFO 10-29 16:36:34] ax.service.ax_client: Completed trial 22 with data: {'t1': (2.206225, None)}.\n",
      "[INFO 10-29 16:36:34] ax.service.ax_client: Saved JSON-serialized state of optimization to `/Users/thomasdodd/Library/CloudStorage/OneDrive-MillfieldEnterprisesLimited/Cambridge/GitHub/BO4ACST/Notebooks/Optimisation/Method20241028Dim2_qLogNoisyExpectedImprovement/AxExperiment.json`.\n",
      "[WARNING 10-29 16:36:34] ax.service.utils.report_utils: Column reason missing for all trials. Not appending column.\n",
      "[WARNING 10-29 16:36:34] ax.service.utils.report_utils: Column reason missing for all trials. Not appending column.\n"
     ]
    },
    {
     "name": "stdout",
     "output_type": "stream",
     "text": [
      "There are no trials currently running - initialising Bayesian iteration trials.\n"
     ]
    },
    {
     "name": "stderr",
     "output_type": "stream",
     "text": [
      "[INFO 10-29 16:36:44] ax.service.ax_client: Generated new trial 23 with parameters {'x1': 0.381142, 'x2': 3.537684} using model BoTorch.\n",
      "[INFO 10-29 16:36:44] ax.service.ax_client: Saved JSON-serialized state of optimization to `/Users/thomasdodd/Library/CloudStorage/OneDrive-MillfieldEnterprisesLimited/Cambridge/GitHub/BO4ACST/Notebooks/Optimisation/Method20241028Dim2_qLogNoisyExpectedImprovement/AxExperiment.json`.\n",
      "/Users/thomasdodd/miniconda3/envs/BO4ACST_env/lib/python3.11/site-packages/ax/core/data.py:288: FutureWarning: The behavior of DataFrame concatenation with empty or all-NA entries is deprecated. In a future version, this will no longer exclude empty or all-NA columns when determining the result dtypes. To retain the old behavior, exclude the relevant entries before the concat operation.\n",
      "  return cls(df=pd.concat(dfs, axis=0, sort=True))\n",
      "[WARNING 10-29 16:36:44] ax.service.utils.report_utils: Column reason missing for all trials. Not appending column.\n",
      "/Users/thomasdodd/miniconda3/envs/BO4ACST_env/lib/python3.11/site-packages/ax/core/data.py:288: FutureWarning: The behavior of DataFrame concatenation with empty or all-NA entries is deprecated. In a future version, this will no longer exclude empty or all-NA columns when determining the result dtypes. To retain the old behavior, exclude the relevant entries before the concat operation.\n",
      "  return cls(df=pd.concat(dfs, axis=0, sort=True))\n",
      "[WARNING 10-29 16:36:44] ax.service.utils.report_utils: Column reason missing for all trials. Not appending column.\n",
      "[INFO 10-29 16:36:44] ax.service.ax_client: Completed trial 23 with data: {'t1': (0.698446, None)}.\n",
      "[INFO 10-29 16:36:44] ax.service.ax_client: Saved JSON-serialized state of optimization to `/Users/thomasdodd/Library/CloudStorage/OneDrive-MillfieldEnterprisesLimited/Cambridge/GitHub/BO4ACST/Notebooks/Optimisation/Method20241028Dim2_qLogNoisyExpectedImprovement/AxExperiment.json`.\n",
      "[WARNING 10-29 16:36:44] ax.service.utils.report_utils: Column reason missing for all trials. Not appending column.\n",
      "[INFO 10-29 16:36:44] ax.service.ax_client: Starting optimization with verbose logging. To disable logging, set the `verbose_logging` argument to `False`. Note that float values in the logs are rounded to 6 decimal points.\n",
      "[INFO 10-29 16:36:44] ax.service.utils.instantiation: Created search space: SearchSpace(parameters=[RangeParameter(name='x1', parameter_type=FLOAT, range=[-10.0, 10.0]), RangeParameter(name='x2', parameter_type=FLOAT, range=[-10.0, 10.0])], parameter_constraints=[]).\n",
      "[INFO 10-29 16:36:44] ax.service.ax_client: Saved JSON-serialized state of optimization to `/Users/thomasdodd/Library/CloudStorage/OneDrive-MillfieldEnterprisesLimited/Cambridge/GitHub/BO4ACST/Notebooks/Optimisation/Method20241028Dim2_qLogNoisyExpectedImprovement/AxExperiment.json`.\n",
      "[INFO 10-29 16:36:44] ax.core.experiment: Attached custom parameterizations [{'x1': -10.0, 'x2': -10.0}] as trial 0.\n",
      "[INFO 10-29 16:36:44] ax.core.experiment: Attached custom parameterizations [{'x1': 0.0, 'x2': -10.0}] as trial 1.\n",
      "[INFO 10-29 16:36:44] ax.core.experiment: Attached custom parameterizations [{'x1': 10.0, 'x2': -10.0}] as trial 2.\n",
      "[INFO 10-29 16:36:44] ax.core.experiment: Attached custom parameterizations [{'x1': -10.0, 'x2': 0.0}] as trial 3.\n",
      "[INFO 10-29 16:36:44] ax.core.experiment: Attached custom parameterizations [{'x1': 0.0, 'x2': 0.0}] as trial 4.\n",
      "[INFO 10-29 16:36:44] ax.core.experiment: Attached custom parameterizations [{'x1': 10.0, 'x2': 0.0}] as trial 5.\n",
      "[INFO 10-29 16:36:44] ax.core.experiment: Attached custom parameterizations [{'x1': -10.0, 'x2': 10.0}] as trial 6.\n",
      "[INFO 10-29 16:36:44] ax.core.experiment: Attached custom parameterizations [{'x1': 0.0, 'x2': 10.0}] as trial 7.\n",
      "[INFO 10-29 16:36:44] ax.core.experiment: Attached custom parameterizations [{'x1': 10.0, 'x2': 10.0}] as trial 8.\n",
      "[INFO 10-29 16:36:44] ax.service.ax_client: Saved JSON-serialized state of optimization to `/Users/thomasdodd/Library/CloudStorage/OneDrive-MillfieldEnterprisesLimited/Cambridge/GitHub/BO4ACST/Notebooks/Optimisation/Method20241028Dim2_qLogNoisyExpectedImprovement/AxExperiment.json`.\n",
      "[WARNING 10-29 16:36:44] ax.service.utils.report_utils: Column reason missing for all trials. Not appending column.\n",
      "[INFO 10-29 16:36:44] ax.service.utils.report_utils: No results present for the specified metrics `[Metric('t1')]`. Returning arm parameters and metadata only.\n",
      "[WARNING 10-29 16:36:44] ax.service.utils.report_utils: Column reason missing for all trials. Not appending column.\n",
      "[INFO 10-29 16:36:44] ax.service.utils.report_utils: No results present for the specified metrics `[Metric('t1')]`. Returning arm parameters and metadata only.\n",
      "[INFO 10-29 16:36:44] ax.service.ax_client: Completed trial 0 with data: {'t1': (2594.0, None)}.\n",
      "[INFO 10-29 16:36:44] ax.service.ax_client: Saved JSON-serialized state of optimization to `/Users/thomasdodd/Library/CloudStorage/OneDrive-MillfieldEnterprisesLimited/Cambridge/GitHub/BO4ACST/Notebooks/Optimisation/Method20241028Dim2_qLogNoisyExpectedImprovement/AxExperiment.json`.\n",
      "[INFO 10-29 16:36:44] ax.service.ax_client: Completed trial 1 with data: {'t1': (954.0, None)}.\n",
      "[INFO 10-29 16:36:44] ax.service.ax_client: Saved JSON-serialized state of optimization to `/Users/thomasdodd/Library/CloudStorage/OneDrive-MillfieldEnterprisesLimited/Cambridge/GitHub/BO4ACST/Notebooks/Optimisation/Method20241028Dim2_qLogNoisyExpectedImprovement/AxExperiment.json`.\n",
      "[INFO 10-29 16:36:44] ax.service.ax_client: Completed trial 2 with data: {'t1': (314.0, None)}.\n",
      "[INFO 10-29 16:36:44] ax.service.ax_client: Saved JSON-serialized state of optimization to `/Users/thomasdodd/Library/CloudStorage/OneDrive-MillfieldEnterprisesLimited/Cambridge/GitHub/BO4ACST/Notebooks/Optimisation/Method20241028Dim2_qLogNoisyExpectedImprovement/AxExperiment.json`.\n",
      "[INFO 10-29 16:36:44] ax.service.ax_client: Completed trial 3 with data: {'t1': (914.0, None)}.\n",
      "[INFO 10-29 16:36:44] ax.service.ax_client: Saved JSON-serialized state of optimization to `/Users/thomasdodd/Library/CloudStorage/OneDrive-MillfieldEnterprisesLimited/Cambridge/GitHub/BO4ACST/Notebooks/Optimisation/Method20241028Dim2_qLogNoisyExpectedImprovement/AxExperiment.json`.\n",
      "[INFO 10-29 16:36:44] ax.service.ax_client: Completed trial 4 with data: {'t1': (74.0, None)}.\n",
      "[INFO 10-29 16:36:44] ax.service.ax_client: Saved JSON-serialized state of optimization to `/Users/thomasdodd/Library/CloudStorage/OneDrive-MillfieldEnterprisesLimited/Cambridge/GitHub/BO4ACST/Notebooks/Optimisation/Method20241028Dim2_qLogNoisyExpectedImprovement/AxExperiment.json`.\n",
      "[INFO 10-29 16:36:44] ax.service.ax_client: Completed trial 5 with data: {'t1': (234.0, None)}.\n",
      "[INFO 10-29 16:36:44] ax.service.ax_client: Saved JSON-serialized state of optimization to `/Users/thomasdodd/Library/CloudStorage/OneDrive-MillfieldEnterprisesLimited/Cambridge/GitHub/BO4ACST/Notebooks/Optimisation/Method20241028Dim2_qLogNoisyExpectedImprovement/AxExperiment.json`.\n",
      "[INFO 10-29 16:36:44] ax.service.ax_client: Completed trial 6 with data: {'t1': (234.0, None)}.\n",
      "[INFO 10-29 16:36:44] ax.service.ax_client: Saved JSON-serialized state of optimization to `/Users/thomasdodd/Library/CloudStorage/OneDrive-MillfieldEnterprisesLimited/Cambridge/GitHub/BO4ACST/Notebooks/Optimisation/Method20241028Dim2_qLogNoisyExpectedImprovement/AxExperiment.json`.\n",
      "[INFO 10-29 16:36:44] ax.service.ax_client: Completed trial 7 with data: {'t1': (194.0, None)}.\n",
      "[INFO 10-29 16:36:44] ax.service.ax_client: Saved JSON-serialized state of optimization to `/Users/thomasdodd/Library/CloudStorage/OneDrive-MillfieldEnterprisesLimited/Cambridge/GitHub/BO4ACST/Notebooks/Optimisation/Method20241028Dim2_qLogNoisyExpectedImprovement/AxExperiment.json`.\n",
      "[INFO 10-29 16:36:44] ax.service.ax_client: Completed trial 8 with data: {'t1': (1154.0, None)}.\n",
      "[INFO 10-29 16:36:44] ax.service.ax_client: Saved JSON-serialized state of optimization to `/Users/thomasdodd/Library/CloudStorage/OneDrive-MillfieldEnterprisesLimited/Cambridge/GitHub/BO4ACST/Notebooks/Optimisation/Method20241028Dim2_qLogNoisyExpectedImprovement/AxExperiment.json`.\n",
      "[WARNING 10-29 16:36:44] ax.service.utils.report_utils: Column reason missing for all trials. Not appending column.\n",
      "[WARNING 10-29 16:36:44] ax.service.utils.report_utils: Column reason missing for all trials. Not appending column.\n"
     ]
    },
    {
     "name": "stdout",
     "output_type": "stream",
     "text": [
      "[74.         24.19235713 24.19235713  0.34933149  0.34933149  0.34933149\n",
      "  0.34933149  0.34933149  0.34933149  0.34933149  0.34933149  0.34933149\n",
      "  0.34933149  0.34933149  0.34933149  0.34933149]\n",
      "A new experiment has been created and initialised.\n",
      "No previous or current trials detected - initialising prior-forming trials.\n",
      "Samples gridded = 9\n",
      "There are no trials currently running - initialising Bayesian iteration trials.\n"
     ]
    },
    {
     "name": "stderr",
     "output_type": "stream",
     "text": [
      "[INFO 10-29 16:36:47] ax.service.ax_client: Generated new trial 9 with parameters {'x1': -2.706658, 'x2': 5.847356} using model BoTorch.\n",
      "[INFO 10-29 16:36:47] ax.service.ax_client: Saved JSON-serialized state of optimization to `/Users/thomasdodd/Library/CloudStorage/OneDrive-MillfieldEnterprisesLimited/Cambridge/GitHub/BO4ACST/Notebooks/Optimisation/Method20241028Dim2_qLogNoisyExpectedImprovement/AxExperiment.json`.\n",
      "/Users/thomasdodd/miniconda3/envs/BO4ACST_env/lib/python3.11/site-packages/ax/core/data.py:288: FutureWarning: The behavior of DataFrame concatenation with empty or all-NA entries is deprecated. In a future version, this will no longer exclude empty or all-NA columns when determining the result dtypes. To retain the old behavior, exclude the relevant entries before the concat operation.\n",
      "  return cls(df=pd.concat(dfs, axis=0, sort=True))\n",
      "[WARNING 10-29 16:36:47] ax.service.utils.report_utils: Column reason missing for all trials. Not appending column.\n",
      "/Users/thomasdodd/miniconda3/envs/BO4ACST_env/lib/python3.11/site-packages/ax/core/data.py:288: FutureWarning: The behavior of DataFrame concatenation with empty or all-NA entries is deprecated. In a future version, this will no longer exclude empty or all-NA columns when determining the result dtypes. To retain the old behavior, exclude the relevant entries before the concat operation.\n",
      "  return cls(df=pd.concat(dfs, axis=0, sort=True))\n",
      "[WARNING 10-29 16:36:47] ax.service.utils.report_utils: Column reason missing for all trials. Not appending column.\n",
      "[INFO 10-29 16:36:47] ax.service.ax_client: Completed trial 9 with data: {'t1': (24.800349, None)}.\n",
      "[INFO 10-29 16:36:47] ax.service.ax_client: Saved JSON-serialized state of optimization to `/Users/thomasdodd/Library/CloudStorage/OneDrive-MillfieldEnterprisesLimited/Cambridge/GitHub/BO4ACST/Notebooks/Optimisation/Method20241028Dim2_qLogNoisyExpectedImprovement/AxExperiment.json`.\n",
      "[WARNING 10-29 16:36:47] ax.service.utils.report_utils: Column reason missing for all trials. Not appending column.\n",
      "[WARNING 10-29 16:36:47] ax.service.utils.report_utils: Column reason missing for all trials. Not appending column.\n"
     ]
    },
    {
     "name": "stdout",
     "output_type": "stream",
     "text": [
      "There are no trials currently running - initialising Bayesian iteration trials.\n"
     ]
    },
    {
     "name": "stderr",
     "output_type": "stream",
     "text": [
      "[INFO 10-29 16:36:51] ax.service.ax_client: Generated new trial 10 with parameters {'x1': 4.927047, 'x2': -1.660562} using model BoTorch.\n",
      "[INFO 10-29 16:36:51] ax.service.ax_client: Saved JSON-serialized state of optimization to `/Users/thomasdodd/Library/CloudStorage/OneDrive-MillfieldEnterprisesLimited/Cambridge/GitHub/BO4ACST/Notebooks/Optimisation/Method20241028Dim2_qLogNoisyExpectedImprovement/AxExperiment.json`.\n",
      "/Users/thomasdodd/miniconda3/envs/BO4ACST_env/lib/python3.11/site-packages/ax/core/data.py:288: FutureWarning: The behavior of DataFrame concatenation with empty or all-NA entries is deprecated. In a future version, this will no longer exclude empty or all-NA columns when determining the result dtypes. To retain the old behavior, exclude the relevant entries before the concat operation.\n",
      "  return cls(df=pd.concat(dfs, axis=0, sort=True))\n",
      "[WARNING 10-29 16:36:51] ax.service.utils.report_utils: Column reason missing for all trials. Not appending column.\n",
      "/Users/thomasdodd/miniconda3/envs/BO4ACST_env/lib/python3.11/site-packages/ax/core/data.py:288: FutureWarning: The behavior of DataFrame concatenation with empty or all-NA entries is deprecated. In a future version, this will no longer exclude empty or all-NA columns when determining the result dtypes. To retain the old behavior, exclude the relevant entries before the concat operation.\n",
      "  return cls(df=pd.concat(dfs, axis=0, sort=True))\n",
      "[WARNING 10-29 16:36:51] ax.service.utils.report_utils: Column reason missing for all trials. Not appending column.\n",
      "[INFO 10-29 16:36:51] ax.service.ax_client: Completed trial 10 with data: {'t1': (39.294712, None)}.\n",
      "[INFO 10-29 16:36:51] ax.service.ax_client: Saved JSON-serialized state of optimization to `/Users/thomasdodd/Library/CloudStorage/OneDrive-MillfieldEnterprisesLimited/Cambridge/GitHub/BO4ACST/Notebooks/Optimisation/Method20241028Dim2_qLogNoisyExpectedImprovement/AxExperiment.json`.\n",
      "[WARNING 10-29 16:36:51] ax.service.utils.report_utils: Column reason missing for all trials. Not appending column.\n",
      "[WARNING 10-29 16:36:51] ax.service.utils.report_utils: Column reason missing for all trials. Not appending column.\n"
     ]
    },
    {
     "name": "stdout",
     "output_type": "stream",
     "text": [
      "There are no trials currently running - initialising Bayesian iteration trials.\n"
     ]
    },
    {
     "name": "stderr",
     "output_type": "stream",
     "text": [
      "[INFO 10-29 16:36:54] ax.service.ax_client: Generated new trial 11 with parameters {'x1': 1.303544, 'x2': 2.911619} using model BoTorch.\n",
      "[INFO 10-29 16:36:54] ax.service.ax_client: Saved JSON-serialized state of optimization to `/Users/thomasdodd/Library/CloudStorage/OneDrive-MillfieldEnterprisesLimited/Cambridge/GitHub/BO4ACST/Notebooks/Optimisation/Method20241028Dim2_qLogNoisyExpectedImprovement/AxExperiment.json`.\n",
      "/Users/thomasdodd/miniconda3/envs/BO4ACST_env/lib/python3.11/site-packages/ax/core/data.py:288: FutureWarning: The behavior of DataFrame concatenation with empty or all-NA entries is deprecated. In a future version, this will no longer exclude empty or all-NA columns when determining the result dtypes. To retain the old behavior, exclude the relevant entries before the concat operation.\n",
      "  return cls(df=pd.concat(dfs, axis=0, sort=True))\n",
      "[WARNING 10-29 16:36:54] ax.service.utils.report_utils: Column reason missing for all trials. Not appending column.\n",
      "/Users/thomasdodd/miniconda3/envs/BO4ACST_env/lib/python3.11/site-packages/ax/core/data.py:288: FutureWarning: The behavior of DataFrame concatenation with empty or all-NA entries is deprecated. In a future version, this will no longer exclude empty or all-NA columns when determining the result dtypes. To retain the old behavior, exclude the relevant entries before the concat operation.\n",
      "  return cls(df=pd.concat(dfs, axis=0, sort=True))\n",
      "[WARNING 10-29 16:36:54] ax.service.utils.report_utils: Column reason missing for all trials. Not appending column.\n",
      "[INFO 10-29 16:36:54] ax.service.ax_client: Completed trial 11 with data: {'t1': (0.28513, None)}.\n",
      "[INFO 10-29 16:36:54] ax.service.ax_client: Saved JSON-serialized state of optimization to `/Users/thomasdodd/Library/CloudStorage/OneDrive-MillfieldEnterprisesLimited/Cambridge/GitHub/BO4ACST/Notebooks/Optimisation/Method20241028Dim2_qLogNoisyExpectedImprovement/AxExperiment.json`.\n",
      "[WARNING 10-29 16:36:54] ax.service.utils.report_utils: Column reason missing for all trials. Not appending column.\n",
      "[WARNING 10-29 16:36:54] ax.service.utils.report_utils: Column reason missing for all trials. Not appending column.\n"
     ]
    },
    {
     "name": "stdout",
     "output_type": "stream",
     "text": [
      "There are no trials currently running - initialising Bayesian iteration trials.\n"
     ]
    },
    {
     "name": "stderr",
     "output_type": "stream",
     "text": [
      "[INFO 10-29 16:36:59] ax.service.ax_client: Generated new trial 12 with parameters {'x1': -4.287149, 'x2': 8.127475} using model BoTorch.\n",
      "[INFO 10-29 16:36:59] ax.service.ax_client: Saved JSON-serialized state of optimization to `/Users/thomasdodd/Library/CloudStorage/OneDrive-MillfieldEnterprisesLimited/Cambridge/GitHub/BO4ACST/Notebooks/Optimisation/Method20241028Dim2_qLogNoisyExpectedImprovement/AxExperiment.json`.\n",
      "/Users/thomasdodd/miniconda3/envs/BO4ACST_env/lib/python3.11/site-packages/ax/core/data.py:288: FutureWarning: The behavior of DataFrame concatenation with empty or all-NA entries is deprecated. In a future version, this will no longer exclude empty or all-NA columns when determining the result dtypes. To retain the old behavior, exclude the relevant entries before the concat operation.\n",
      "  return cls(df=pd.concat(dfs, axis=0, sort=True))\n",
      "[WARNING 10-29 16:36:59] ax.service.utils.report_utils: Column reason missing for all trials. Not appending column.\n",
      "/Users/thomasdodd/miniconda3/envs/BO4ACST_env/lib/python3.11/site-packages/ax/core/data.py:288: FutureWarning: The behavior of DataFrame concatenation with empty or all-NA entries is deprecated. In a future version, this will no longer exclude empty or all-NA columns when determining the result dtypes. To retain the old behavior, exclude the relevant entries before the concat operation.\n",
      "  return cls(df=pd.concat(dfs, axis=0, sort=True))\n",
      "[WARNING 10-29 16:36:59] ax.service.utils.report_utils: Column reason missing for all trials. Not appending column.\n",
      "[INFO 10-29 16:36:59] ax.service.ax_client: Completed trial 12 with data: {'t1': (54.346925, None)}.\n",
      "[INFO 10-29 16:36:59] ax.service.ax_client: Saved JSON-serialized state of optimization to `/Users/thomasdodd/Library/CloudStorage/OneDrive-MillfieldEnterprisesLimited/Cambridge/GitHub/BO4ACST/Notebooks/Optimisation/Method20241028Dim2_qLogNoisyExpectedImprovement/AxExperiment.json`.\n",
      "[WARNING 10-29 16:36:59] ax.service.utils.report_utils: Column reason missing for all trials. Not appending column.\n",
      "[WARNING 10-29 16:36:59] ax.service.utils.report_utils: Column reason missing for all trials. Not appending column.\n"
     ]
    },
    {
     "name": "stdout",
     "output_type": "stream",
     "text": [
      "There are no trials currently running - initialising Bayesian iteration trials.\n"
     ]
    },
    {
     "name": "stderr",
     "output_type": "stream",
     "text": [
      "[INFO 10-29 16:37:06] ax.service.ax_client: Generated new trial 13 with parameters {'x1': -0.58734, 'x2': 4.005918} using model BoTorch.\n",
      "[INFO 10-29 16:37:06] ax.service.ax_client: Saved JSON-serialized state of optimization to `/Users/thomasdodd/Library/CloudStorage/OneDrive-MillfieldEnterprisesLimited/Cambridge/GitHub/BO4ACST/Notebooks/Optimisation/Method20241028Dim2_qLogNoisyExpectedImprovement/AxExperiment.json`.\n",
      "/Users/thomasdodd/miniconda3/envs/BO4ACST_env/lib/python3.11/site-packages/ax/core/data.py:288: FutureWarning: The behavior of DataFrame concatenation with empty or all-NA entries is deprecated. In a future version, this will no longer exclude empty or all-NA columns when determining the result dtypes. To retain the old behavior, exclude the relevant entries before the concat operation.\n",
      "  return cls(df=pd.concat(dfs, axis=0, sort=True))\n",
      "[WARNING 10-29 16:37:06] ax.service.utils.report_utils: Column reason missing for all trials. Not appending column.\n",
      "/Users/thomasdodd/miniconda3/envs/BO4ACST_env/lib/python3.11/site-packages/ax/core/data.py:288: FutureWarning: The behavior of DataFrame concatenation with empty or all-NA entries is deprecated. In a future version, this will no longer exclude empty or all-NA columns when determining the result dtypes. To retain the old behavior, exclude the relevant entries before the concat operation.\n",
      "  return cls(df=pd.concat(dfs, axis=0, sort=True))\n",
      "[WARNING 10-29 16:37:06] ax.service.utils.report_utils: Column reason missing for all trials. Not appending column.\n",
      "[INFO 10-29 16:37:06] ax.service.ax_client: Completed trial 13 with data: {'t1': (4.883725, None)}.\n",
      "[INFO 10-29 16:37:06] ax.service.ax_client: Saved JSON-serialized state of optimization to `/Users/thomasdodd/Library/CloudStorage/OneDrive-MillfieldEnterprisesLimited/Cambridge/GitHub/BO4ACST/Notebooks/Optimisation/Method20241028Dim2_qLogNoisyExpectedImprovement/AxExperiment.json`.\n",
      "[WARNING 10-29 16:37:06] ax.service.utils.report_utils: Column reason missing for all trials. Not appending column.\n",
      "[WARNING 10-29 16:37:06] ax.service.utils.report_utils: Column reason missing for all trials. Not appending column.\n"
     ]
    },
    {
     "name": "stdout",
     "output_type": "stream",
     "text": [
      "There are no trials currently running - initialising Bayesian iteration trials.\n"
     ]
    },
    {
     "name": "stderr",
     "output_type": "stream",
     "text": [
      "[INFO 10-29 16:37:11] ax.service.ax_client: Generated new trial 14 with parameters {'x1': 2.75511, 'x2': 0.821274} using model BoTorch.\n",
      "[INFO 10-29 16:37:11] ax.service.ax_client: Saved JSON-serialized state of optimization to `/Users/thomasdodd/Library/CloudStorage/OneDrive-MillfieldEnterprisesLimited/Cambridge/GitHub/BO4ACST/Notebooks/Optimisation/Method20241028Dim2_qLogNoisyExpectedImprovement/AxExperiment.json`.\n",
      "/Users/thomasdodd/miniconda3/envs/BO4ACST_env/lib/python3.11/site-packages/ax/core/data.py:288: FutureWarning: The behavior of DataFrame concatenation with empty or all-NA entries is deprecated. In a future version, this will no longer exclude empty or all-NA columns when determining the result dtypes. To retain the old behavior, exclude the relevant entries before the concat operation.\n",
      "  return cls(df=pd.concat(dfs, axis=0, sort=True))\n",
      "[WARNING 10-29 16:37:11] ax.service.utils.report_utils: Column reason missing for all trials. Not appending column.\n",
      "/Users/thomasdodd/miniconda3/envs/BO4ACST_env/lib/python3.11/site-packages/ax/core/data.py:288: FutureWarning: The behavior of DataFrame concatenation with empty or all-NA entries is deprecated. In a future version, this will no longer exclude empty or all-NA columns when determining the result dtypes. To retain the old behavior, exclude the relevant entries before the concat operation.\n",
      "  return cls(df=pd.concat(dfs, axis=0, sort=True))\n",
      "[WARNING 10-29 16:37:11] ax.service.utils.report_utils: Column reason missing for all trials. Not appending column.\n",
      "[INFO 10-29 16:37:11] ax.service.ax_client: Completed trial 14 with data: {'t1': (8.545059, None)}.\n",
      "[INFO 10-29 16:37:11] ax.service.ax_client: Saved JSON-serialized state of optimization to `/Users/thomasdodd/Library/CloudStorage/OneDrive-MillfieldEnterprisesLimited/Cambridge/GitHub/BO4ACST/Notebooks/Optimisation/Method20241028Dim2_qLogNoisyExpectedImprovement/AxExperiment.json`.\n",
      "[WARNING 10-29 16:37:11] ax.service.utils.report_utils: Column reason missing for all trials. Not appending column.\n",
      "[WARNING 10-29 16:37:11] ax.service.utils.report_utils: Column reason missing for all trials. Not appending column.\n"
     ]
    },
    {
     "name": "stdout",
     "output_type": "stream",
     "text": [
      "There are no trials currently running - initialising Bayesian iteration trials.\n"
     ]
    },
    {
     "name": "stderr",
     "output_type": "stream",
     "text": [
      "[INFO 10-29 16:37:16] ax.service.ax_client: Generated new trial 15 with parameters {'x1': 0.664364, 'x2': 2.219043} using model BoTorch.\n",
      "[INFO 10-29 16:37:16] ax.service.ax_client: Saved JSON-serialized state of optimization to `/Users/thomasdodd/Library/CloudStorage/OneDrive-MillfieldEnterprisesLimited/Cambridge/GitHub/BO4ACST/Notebooks/Optimisation/Method20241028Dim2_qLogNoisyExpectedImprovement/AxExperiment.json`.\n",
      "/Users/thomasdodd/miniconda3/envs/BO4ACST_env/lib/python3.11/site-packages/ax/core/data.py:288: FutureWarning: The behavior of DataFrame concatenation with empty or all-NA entries is deprecated. In a future version, this will no longer exclude empty or all-NA columns when determining the result dtypes. To retain the old behavior, exclude the relevant entries before the concat operation.\n",
      "  return cls(df=pd.concat(dfs, axis=0, sort=True))\n",
      "[WARNING 10-29 16:37:16] ax.service.utils.report_utils: Column reason missing for all trials. Not appending column.\n",
      "/Users/thomasdodd/miniconda3/envs/BO4ACST_env/lib/python3.11/site-packages/ax/core/data.py:288: FutureWarning: The behavior of DataFrame concatenation with empty or all-NA entries is deprecated. In a future version, this will no longer exclude empty or all-NA columns when determining the result dtypes. To retain the old behavior, exclude the relevant entries before the concat operation.\n",
      "  return cls(df=pd.concat(dfs, axis=0, sort=True))\n",
      "[WARNING 10-29 16:37:16] ax.service.utils.report_utils: Column reason missing for all trials. Not appending column.\n",
      "[INFO 10-29 16:37:16] ax.service.ax_client: Completed trial 15 with data: {'t1': (5.709667, None)}.\n",
      "[INFO 10-29 16:37:16] ax.service.ax_client: Saved JSON-serialized state of optimization to `/Users/thomasdodd/Library/CloudStorage/OneDrive-MillfieldEnterprisesLimited/Cambridge/GitHub/BO4ACST/Notebooks/Optimisation/Method20241028Dim2_qLogNoisyExpectedImprovement/AxExperiment.json`.\n",
      "[WARNING 10-29 16:37:16] ax.service.utils.report_utils: Column reason missing for all trials. Not appending column.\n",
      "[WARNING 10-29 16:37:16] ax.service.utils.report_utils: Column reason missing for all trials. Not appending column.\n"
     ]
    },
    {
     "name": "stdout",
     "output_type": "stream",
     "text": [
      "There are no trials currently running - initialising Bayesian iteration trials.\n"
     ]
    },
    {
     "name": "stderr",
     "output_type": "stream",
     "text": [
      "[INFO 10-29 16:37:25] ax.service.ax_client: Generated new trial 16 with parameters {'x1': 0.87193, 'x2': 2.702272} using model BoTorch.\n",
      "[INFO 10-29 16:37:25] ax.service.ax_client: Saved JSON-serialized state of optimization to `/Users/thomasdodd/Library/CloudStorage/OneDrive-MillfieldEnterprisesLimited/Cambridge/GitHub/BO4ACST/Notebooks/Optimisation/Method20241028Dim2_qLogNoisyExpectedImprovement/AxExperiment.json`.\n",
      "/Users/thomasdodd/miniconda3/envs/BO4ACST_env/lib/python3.11/site-packages/ax/core/data.py:288: FutureWarning: The behavior of DataFrame concatenation with empty or all-NA entries is deprecated. In a future version, this will no longer exclude empty or all-NA columns when determining the result dtypes. To retain the old behavior, exclude the relevant entries before the concat operation.\n",
      "  return cls(df=pd.concat(dfs, axis=0, sort=True))\n",
      "[WARNING 10-29 16:37:25] ax.service.utils.report_utils: Column reason missing for all trials. Not appending column.\n",
      "/Users/thomasdodd/miniconda3/envs/BO4ACST_env/lib/python3.11/site-packages/ax/core/data.py:288: FutureWarning: The behavior of DataFrame concatenation with empty or all-NA entries is deprecated. In a future version, this will no longer exclude empty or all-NA columns when determining the result dtypes. To retain the old behavior, exclude the relevant entries before the concat operation.\n",
      "  return cls(df=pd.concat(dfs, axis=0, sort=True))\n",
      "[WARNING 10-29 16:37:25] ax.service.utils.report_utils: Column reason missing for all trials. Not appending column.\n",
      "[INFO 10-29 16:37:25] ax.service.ax_client: Completed trial 16 with data: {'t1': (0.830258, None)}.\n",
      "[INFO 10-29 16:37:25] ax.service.ax_client: Saved JSON-serialized state of optimization to `/Users/thomasdodd/Library/CloudStorage/OneDrive-MillfieldEnterprisesLimited/Cambridge/GitHub/BO4ACST/Notebooks/Optimisation/Method20241028Dim2_qLogNoisyExpectedImprovement/AxExperiment.json`.\n",
      "[WARNING 10-29 16:37:25] ax.service.utils.report_utils: Column reason missing for all trials. Not appending column.\n",
      "[WARNING 10-29 16:37:25] ax.service.utils.report_utils: Column reason missing for all trials. Not appending column.\n"
     ]
    },
    {
     "name": "stdout",
     "output_type": "stream",
     "text": [
      "There are no trials currently running - initialising Bayesian iteration trials.\n"
     ]
    },
    {
     "name": "stderr",
     "output_type": "stream",
     "text": [
      "[INFO 10-29 16:37:32] ax.service.ax_client: Generated new trial 17 with parameters {'x1': -0.02321, 'x2': 4.017728} using model BoTorch.\n",
      "[INFO 10-29 16:37:32] ax.service.ax_client: Saved JSON-serialized state of optimization to `/Users/thomasdodd/Library/CloudStorage/OneDrive-MillfieldEnterprisesLimited/Cambridge/GitHub/BO4ACST/Notebooks/Optimisation/Method20241028Dim2_qLogNoisyExpectedImprovement/AxExperiment.json`.\n",
      "/Users/thomasdodd/miniconda3/envs/BO4ACST_env/lib/python3.11/site-packages/ax/core/data.py:288: FutureWarning: The behavior of DataFrame concatenation with empty or all-NA entries is deprecated. In a future version, this will no longer exclude empty or all-NA columns when determining the result dtypes. To retain the old behavior, exclude the relevant entries before the concat operation.\n",
      "  return cls(df=pd.concat(dfs, axis=0, sort=True))\n",
      "[WARNING 10-29 16:37:32] ax.service.utils.report_utils: Column reason missing for all trials. Not appending column.\n",
      "/Users/thomasdodd/miniconda3/envs/BO4ACST_env/lib/python3.11/site-packages/ax/core/data.py:288: FutureWarning: The behavior of DataFrame concatenation with empty or all-NA entries is deprecated. In a future version, this will no longer exclude empty or all-NA columns when determining the result dtypes. To retain the old behavior, exclude the relevant entries before the concat operation.\n",
      "  return cls(df=pd.concat(dfs, axis=0, sort=True))\n",
      "[WARNING 10-29 16:37:32] ax.service.utils.report_utils: Column reason missing for all trials. Not appending column.\n",
      "[INFO 10-29 16:37:32] ax.service.ax_client: Completed trial 17 with data: {'t1': (2.082848, None)}.\n",
      "[INFO 10-29 16:37:32] ax.service.ax_client: Saved JSON-serialized state of optimization to `/Users/thomasdodd/Library/CloudStorage/OneDrive-MillfieldEnterprisesLimited/Cambridge/GitHub/BO4ACST/Notebooks/Optimisation/Method20241028Dim2_qLogNoisyExpectedImprovement/AxExperiment.json`.\n",
      "[WARNING 10-29 16:37:32] ax.service.utils.report_utils: Column reason missing for all trials. Not appending column.\n",
      "[WARNING 10-29 16:37:32] ax.service.utils.report_utils: Column reason missing for all trials. Not appending column.\n"
     ]
    },
    {
     "name": "stdout",
     "output_type": "stream",
     "text": [
      "There are no trials currently running - initialising Bayesian iteration trials.\n"
     ]
    },
    {
     "name": "stderr",
     "output_type": "stream",
     "text": [
      "[INFO 10-29 16:37:39] ax.service.ax_client: Generated new trial 18 with parameters {'x1': 1.889593, 'x2': 1.794304} using model BoTorch.\n",
      "[INFO 10-29 16:37:39] ax.service.ax_client: Saved JSON-serialized state of optimization to `/Users/thomasdodd/Library/CloudStorage/OneDrive-MillfieldEnterprisesLimited/Cambridge/GitHub/BO4ACST/Notebooks/Optimisation/Method20241028Dim2_qLogNoisyExpectedImprovement/AxExperiment.json`.\n",
      "/Users/thomasdodd/miniconda3/envs/BO4ACST_env/lib/python3.11/site-packages/ax/core/data.py:288: FutureWarning: The behavior of DataFrame concatenation with empty or all-NA entries is deprecated. In a future version, this will no longer exclude empty or all-NA columns when determining the result dtypes. To retain the old behavior, exclude the relevant entries before the concat operation.\n",
      "  return cls(df=pd.concat(dfs, axis=0, sort=True))\n",
      "[WARNING 10-29 16:37:39] ax.service.utils.report_utils: Column reason missing for all trials. Not appending column.\n",
      "/Users/thomasdodd/miniconda3/envs/BO4ACST_env/lib/python3.11/site-packages/ax/core/data.py:288: FutureWarning: The behavior of DataFrame concatenation with empty or all-NA entries is deprecated. In a future version, this will no longer exclude empty or all-NA columns when determining the result dtypes. To retain the old behavior, exclude the relevant entries before the concat operation.\n",
      "  return cls(df=pd.concat(dfs, axis=0, sort=True))\n",
      "[WARNING 10-29 16:37:39] ax.service.utils.report_utils: Column reason missing for all trials. Not appending column.\n",
      "[INFO 10-29 16:37:39] ax.service.ax_client: Completed trial 18 with data: {'t1': (2.644761, None)}.\n",
      "[INFO 10-29 16:37:39] ax.service.ax_client: Saved JSON-serialized state of optimization to `/Users/thomasdodd/Library/CloudStorage/OneDrive-MillfieldEnterprisesLimited/Cambridge/GitHub/BO4ACST/Notebooks/Optimisation/Method20241028Dim2_qLogNoisyExpectedImprovement/AxExperiment.json`.\n",
      "[WARNING 10-29 16:37:39] ax.service.utils.report_utils: Column reason missing for all trials. Not appending column.\n",
      "[WARNING 10-29 16:37:39] ax.service.utils.report_utils: Column reason missing for all trials. Not appending column.\n"
     ]
    },
    {
     "name": "stdout",
     "output_type": "stream",
     "text": [
      "There are no trials currently running - initialising Bayesian iteration trials.\n"
     ]
    },
    {
     "name": "stderr",
     "output_type": "stream",
     "text": [
      "[INFO 10-29 16:37:46] ax.service.ax_client: Generated new trial 19 with parameters {'x1': 0.016703, 'x2': 3.277005} using model BoTorch.\n",
      "[INFO 10-29 16:37:46] ax.service.ax_client: Saved JSON-serialized state of optimization to `/Users/thomasdodd/Library/CloudStorage/OneDrive-MillfieldEnterprisesLimited/Cambridge/GitHub/BO4ACST/Notebooks/Optimisation/Method20241028Dim2_qLogNoisyExpectedImprovement/AxExperiment.json`.\n",
      "/Users/thomasdodd/miniconda3/envs/BO4ACST_env/lib/python3.11/site-packages/ax/core/data.py:288: FutureWarning: The behavior of DataFrame concatenation with empty or all-NA entries is deprecated. In a future version, this will no longer exclude empty or all-NA columns when determining the result dtypes. To retain the old behavior, exclude the relevant entries before the concat operation.\n",
      "  return cls(df=pd.concat(dfs, axis=0, sort=True))\n",
      "[WARNING 10-29 16:37:46] ax.service.utils.report_utils: Column reason missing for all trials. Not appending column.\n",
      "/Users/thomasdodd/miniconda3/envs/BO4ACST_env/lib/python3.11/site-packages/ax/core/data.py:288: FutureWarning: The behavior of DataFrame concatenation with empty or all-NA entries is deprecated. In a future version, this will no longer exclude empty or all-NA columns when determining the result dtypes. To retain the old behavior, exclude the relevant entries before the concat operation.\n",
      "  return cls(df=pd.concat(dfs, axis=0, sort=True))\n",
      "[WARNING 10-29 16:37:46] ax.service.utils.report_utils: Column reason missing for all trials. Not appending column.\n",
      "[INFO 10-29 16:37:46] ax.service.ax_client: Completed trial 19 with data: {'t1': (3.039, None)}.\n",
      "[INFO 10-29 16:37:46] ax.service.ax_client: Saved JSON-serialized state of optimization to `/Users/thomasdodd/Library/CloudStorage/OneDrive-MillfieldEnterprisesLimited/Cambridge/GitHub/BO4ACST/Notebooks/Optimisation/Method20241028Dim2_qLogNoisyExpectedImprovement/AxExperiment.json`.\n",
      "[WARNING 10-29 16:37:46] ax.service.utils.report_utils: Column reason missing for all trials. Not appending column.\n",
      "[WARNING 10-29 16:37:46] ax.service.utils.report_utils: Column reason missing for all trials. Not appending column.\n"
     ]
    },
    {
     "name": "stdout",
     "output_type": "stream",
     "text": [
      "There are no trials currently running - initialising Bayesian iteration trials.\n"
     ]
    },
    {
     "name": "stderr",
     "output_type": "stream",
     "text": [
      "[INFO 10-29 16:37:53] ax.service.ax_client: Generated new trial 20 with parameters {'x1': 1.224825, 'x2': 2.12967} using model BoTorch.\n",
      "[INFO 10-29 16:37:53] ax.service.ax_client: Saved JSON-serialized state of optimization to `/Users/thomasdodd/Library/CloudStorage/OneDrive-MillfieldEnterprisesLimited/Cambridge/GitHub/BO4ACST/Notebooks/Optimisation/Method20241028Dim2_qLogNoisyExpectedImprovement/AxExperiment.json`.\n",
      "/Users/thomasdodd/miniconda3/envs/BO4ACST_env/lib/python3.11/site-packages/ax/core/data.py:288: FutureWarning: The behavior of DataFrame concatenation with empty or all-NA entries is deprecated. In a future version, this will no longer exclude empty or all-NA columns when determining the result dtypes. To retain the old behavior, exclude the relevant entries before the concat operation.\n",
      "  return cls(df=pd.concat(dfs, axis=0, sort=True))\n",
      "[WARNING 10-29 16:37:53] ax.service.utils.report_utils: Column reason missing for all trials. Not appending column.\n",
      "/Users/thomasdodd/miniconda3/envs/BO4ACST_env/lib/python3.11/site-packages/ax/core/data.py:288: FutureWarning: The behavior of DataFrame concatenation with empty or all-NA entries is deprecated. In a future version, this will no longer exclude empty or all-NA columns when determining the result dtypes. To retain the old behavior, exclude the relevant entries before the concat operation.\n",
      "  return cls(df=pd.concat(dfs, axis=0, sort=True))\n",
      "[WARNING 10-29 16:37:53] ax.service.utils.report_utils: Column reason missing for all trials. Not appending column.\n",
      "[INFO 10-29 16:37:53] ax.service.ax_client: Completed trial 20 with data: {'t1': (2.474728, None)}.\n",
      "[INFO 10-29 16:37:53] ax.service.ax_client: Saved JSON-serialized state of optimization to `/Users/thomasdodd/Library/CloudStorage/OneDrive-MillfieldEnterprisesLimited/Cambridge/GitHub/BO4ACST/Notebooks/Optimisation/Method20241028Dim2_qLogNoisyExpectedImprovement/AxExperiment.json`.\n",
      "[WARNING 10-29 16:37:53] ax.service.utils.report_utils: Column reason missing for all trials. Not appending column.\n",
      "[WARNING 10-29 16:37:53] ax.service.utils.report_utils: Column reason missing for all trials. Not appending column.\n"
     ]
    },
    {
     "name": "stdout",
     "output_type": "stream",
     "text": [
      "There are no trials currently running - initialising Bayesian iteration trials.\n"
     ]
    },
    {
     "name": "stderr",
     "output_type": "stream",
     "text": [
      "[INFO 10-29 16:38:01] ax.service.ax_client: Generated new trial 21 with parameters {'x1': 0.413631, 'x2': 3.224505} using model BoTorch.\n",
      "[INFO 10-29 16:38:01] ax.service.ax_client: Saved JSON-serialized state of optimization to `/Users/thomasdodd/Library/CloudStorage/OneDrive-MillfieldEnterprisesLimited/Cambridge/GitHub/BO4ACST/Notebooks/Optimisation/Method20241028Dim2_qLogNoisyExpectedImprovement/AxExperiment.json`.\n",
      "/Users/thomasdodd/miniconda3/envs/BO4ACST_env/lib/python3.11/site-packages/ax/core/data.py:288: FutureWarning: The behavior of DataFrame concatenation with empty or all-NA entries is deprecated. In a future version, this will no longer exclude empty or all-NA columns when determining the result dtypes. To retain the old behavior, exclude the relevant entries before the concat operation.\n",
      "  return cls(df=pd.concat(dfs, axis=0, sort=True))\n",
      "[WARNING 10-29 16:38:01] ax.service.utils.report_utils: Column reason missing for all trials. Not appending column.\n",
      "/Users/thomasdodd/miniconda3/envs/BO4ACST_env/lib/python3.11/site-packages/ax/core/data.py:288: FutureWarning: The behavior of DataFrame concatenation with empty or all-NA entries is deprecated. In a future version, this will no longer exclude empty or all-NA columns when determining the result dtypes. To retain the old behavior, exclude the relevant entries before the concat operation.\n",
      "  return cls(df=pd.concat(dfs, axis=0, sort=True))\n",
      "[WARNING 10-29 16:38:01] ax.service.utils.report_utils: Column reason missing for all trials. Not appending column.\n",
      "[INFO 10-29 16:38:01] ax.service.ax_client: Completed trial 21 with data: {'t1': (0.918014, None)}.\n",
      "[INFO 10-29 16:38:01] ax.service.ax_client: Saved JSON-serialized state of optimization to `/Users/thomasdodd/Library/CloudStorage/OneDrive-MillfieldEnterprisesLimited/Cambridge/GitHub/BO4ACST/Notebooks/Optimisation/Method20241028Dim2_qLogNoisyExpectedImprovement/AxExperiment.json`.\n",
      "[WARNING 10-29 16:38:01] ax.service.utils.report_utils: Column reason missing for all trials. Not appending column.\n",
      "[WARNING 10-29 16:38:01] ax.service.utils.report_utils: Column reason missing for all trials. Not appending column.\n"
     ]
    },
    {
     "name": "stdout",
     "output_type": "stream",
     "text": [
      "There are no trials currently running - initialising Bayesian iteration trials.\n"
     ]
    },
    {
     "name": "stderr",
     "output_type": "stream",
     "text": [
      "[INFO 10-29 16:38:12] ax.service.ax_client: Generated new trial 22 with parameters {'x1': 0.568174, 'x2': 2.762425} using model BoTorch.\n",
      "[INFO 10-29 16:38:12] ax.service.ax_client: Saved JSON-serialized state of optimization to `/Users/thomasdodd/Library/CloudStorage/OneDrive-MillfieldEnterprisesLimited/Cambridge/GitHub/BO4ACST/Notebooks/Optimisation/Method20241028Dim2_qLogNoisyExpectedImprovement/AxExperiment.json`.\n",
      "/Users/thomasdodd/miniconda3/envs/BO4ACST_env/lib/python3.11/site-packages/ax/core/data.py:288: FutureWarning: The behavior of DataFrame concatenation with empty or all-NA entries is deprecated. In a future version, this will no longer exclude empty or all-NA columns when determining the result dtypes. To retain the old behavior, exclude the relevant entries before the concat operation.\n",
      "  return cls(df=pd.concat(dfs, axis=0, sort=True))\n",
      "[WARNING 10-29 16:38:12] ax.service.utils.report_utils: Column reason missing for all trials. Not appending column.\n",
      "/Users/thomasdodd/miniconda3/envs/BO4ACST_env/lib/python3.11/site-packages/ax/core/data.py:288: FutureWarning: The behavior of DataFrame concatenation with empty or all-NA entries is deprecated. In a future version, this will no longer exclude empty or all-NA columns when determining the result dtypes. To retain the old behavior, exclude the relevant entries before the concat operation.\n",
      "  return cls(df=pd.concat(dfs, axis=0, sort=True))\n",
      "[WARNING 10-29 16:38:12] ax.service.utils.report_utils: Column reason missing for all trials. Not appending column.\n",
      "[INFO 10-29 16:38:12] ax.service.ax_client: Completed trial 22 with data: {'t1': (2.035307, None)}.\n",
      "[INFO 10-29 16:38:12] ax.service.ax_client: Saved JSON-serialized state of optimization to `/Users/thomasdodd/Library/CloudStorage/OneDrive-MillfieldEnterprisesLimited/Cambridge/GitHub/BO4ACST/Notebooks/Optimisation/Method20241028Dim2_qLogNoisyExpectedImprovement/AxExperiment.json`.\n",
      "[WARNING 10-29 16:38:12] ax.service.utils.report_utils: Column reason missing for all trials. Not appending column.\n",
      "[WARNING 10-29 16:38:12] ax.service.utils.report_utils: Column reason missing for all trials. Not appending column.\n"
     ]
    },
    {
     "name": "stdout",
     "output_type": "stream",
     "text": [
      "There are no trials currently running - initialising Bayesian iteration trials.\n"
     ]
    },
    {
     "name": "stderr",
     "output_type": "stream",
     "text": [
      "[INFO 10-29 16:38:23] ax.service.ax_client: Generated new trial 23 with parameters {'x1': 1.299561, 'x2': 2.422248} using model BoTorch.\n",
      "[INFO 10-29 16:38:23] ax.service.ax_client: Saved JSON-serialized state of optimization to `/Users/thomasdodd/Library/CloudStorage/OneDrive-MillfieldEnterprisesLimited/Cambridge/GitHub/BO4ACST/Notebooks/Optimisation/Method20241028Dim2_qLogNoisyExpectedImprovement/AxExperiment.json`.\n",
      "/Users/thomasdodd/miniconda3/envs/BO4ACST_env/lib/python3.11/site-packages/ax/core/data.py:288: FutureWarning: The behavior of DataFrame concatenation with empty or all-NA entries is deprecated. In a future version, this will no longer exclude empty or all-NA columns when determining the result dtypes. To retain the old behavior, exclude the relevant entries before the concat operation.\n",
      "  return cls(df=pd.concat(dfs, axis=0, sort=True))\n",
      "[WARNING 10-29 16:38:23] ax.service.utils.report_utils: Column reason missing for all trials. Not appending column.\n",
      "/Users/thomasdodd/miniconda3/envs/BO4ACST_env/lib/python3.11/site-packages/ax/core/data.py:288: FutureWarning: The behavior of DataFrame concatenation with empty or all-NA entries is deprecated. In a future version, this will no longer exclude empty or all-NA columns when determining the result dtypes. To retain the old behavior, exclude the relevant entries before the concat operation.\n",
      "  return cls(df=pd.concat(dfs, axis=0, sort=True))\n",
      "[WARNING 10-29 16:38:23] ax.service.utils.report_utils: Column reason missing for all trials. Not appending column.\n",
      "[INFO 10-29 16:38:23] ax.service.ax_client: Completed trial 23 with data: {'t1': (0.733095, None)}.\n",
      "[INFO 10-29 16:38:23] ax.service.ax_client: Saved JSON-serialized state of optimization to `/Users/thomasdodd/Library/CloudStorage/OneDrive-MillfieldEnterprisesLimited/Cambridge/GitHub/BO4ACST/Notebooks/Optimisation/Method20241028Dim2_qLogNoisyExpectedImprovement/AxExperiment.json`.\n",
      "[WARNING 10-29 16:38:23] ax.service.utils.report_utils: Column reason missing for all trials. Not appending column.\n",
      "[INFO 10-29 16:38:23] ax.service.ax_client: Starting optimization with verbose logging. To disable logging, set the `verbose_logging` argument to `False`. Note that float values in the logs are rounded to 6 decimal points.\n",
      "[INFO 10-29 16:38:23] ax.service.utils.instantiation: Created search space: SearchSpace(parameters=[RangeParameter(name='x1', parameter_type=FLOAT, range=[-10.0, 10.0]), RangeParameter(name='x2', parameter_type=FLOAT, range=[-10.0, 10.0])], parameter_constraints=[]).\n",
      "[INFO 10-29 16:38:23] ax.service.ax_client: Saved JSON-serialized state of optimization to `/Users/thomasdodd/Library/CloudStorage/OneDrive-MillfieldEnterprisesLimited/Cambridge/GitHub/BO4ACST/Notebooks/Optimisation/Method20241028Dim2_qLogNoisyExpectedImprovement/AxExperiment.json`.\n",
      "[INFO 10-29 16:38:23] ax.core.experiment: Attached custom parameterizations [{'x1': -10.0, 'x2': -10.0}] as trial 0.\n",
      "[INFO 10-29 16:38:23] ax.core.experiment: Attached custom parameterizations [{'x1': 0.0, 'x2': -10.0}] as trial 1.\n",
      "[INFO 10-29 16:38:23] ax.core.experiment: Attached custom parameterizations [{'x1': 10.0, 'x2': -10.0}] as trial 2.\n",
      "[INFO 10-29 16:38:23] ax.core.experiment: Attached custom parameterizations [{'x1': -10.0, 'x2': 0.0}] as trial 3.\n",
      "[INFO 10-29 16:38:23] ax.core.experiment: Attached custom parameterizations [{'x1': 0.0, 'x2': 0.0}] as trial 4.\n",
      "[INFO 10-29 16:38:23] ax.core.experiment: Attached custom parameterizations [{'x1': 10.0, 'x2': 0.0}] as trial 5.\n",
      "[INFO 10-29 16:38:23] ax.core.experiment: Attached custom parameterizations [{'x1': -10.0, 'x2': 10.0}] as trial 6.\n",
      "[INFO 10-29 16:38:23] ax.core.experiment: Attached custom parameterizations [{'x1': 0.0, 'x2': 10.0}] as trial 7.\n",
      "[INFO 10-29 16:38:23] ax.core.experiment: Attached custom parameterizations [{'x1': 10.0, 'x2': 10.0}] as trial 8.\n",
      "[INFO 10-29 16:38:23] ax.service.ax_client: Saved JSON-serialized state of optimization to `/Users/thomasdodd/Library/CloudStorage/OneDrive-MillfieldEnterprisesLimited/Cambridge/GitHub/BO4ACST/Notebooks/Optimisation/Method20241028Dim2_qLogNoisyExpectedImprovement/AxExperiment.json`.\n",
      "[WARNING 10-29 16:38:23] ax.service.utils.report_utils: Column reason missing for all trials. Not appending column.\n",
      "[INFO 10-29 16:38:23] ax.service.utils.report_utils: No results present for the specified metrics `[Metric('t1')]`. Returning arm parameters and metadata only.\n",
      "[WARNING 10-29 16:38:23] ax.service.utils.report_utils: Column reason missing for all trials. Not appending column.\n",
      "[INFO 10-29 16:38:23] ax.service.utils.report_utils: No results present for the specified metrics `[Metric('t1')]`. Returning arm parameters and metadata only.\n",
      "[INFO 10-29 16:38:23] ax.service.ax_client: Completed trial 0 with data: {'t1': (2594.0, None)}.\n",
      "[INFO 10-29 16:38:23] ax.service.ax_client: Saved JSON-serialized state of optimization to `/Users/thomasdodd/Library/CloudStorage/OneDrive-MillfieldEnterprisesLimited/Cambridge/GitHub/BO4ACST/Notebooks/Optimisation/Method20241028Dim2_qLogNoisyExpectedImprovement/AxExperiment.json`.\n",
      "[INFO 10-29 16:38:23] ax.service.ax_client: Completed trial 1 with data: {'t1': (954.0, None)}.\n",
      "[INFO 10-29 16:38:23] ax.service.ax_client: Saved JSON-serialized state of optimization to `/Users/thomasdodd/Library/CloudStorage/OneDrive-MillfieldEnterprisesLimited/Cambridge/GitHub/BO4ACST/Notebooks/Optimisation/Method20241028Dim2_qLogNoisyExpectedImprovement/AxExperiment.json`.\n",
      "[INFO 10-29 16:38:23] ax.service.ax_client: Completed trial 2 with data: {'t1': (314.0, None)}.\n",
      "[INFO 10-29 16:38:23] ax.service.ax_client: Saved JSON-serialized state of optimization to `/Users/thomasdodd/Library/CloudStorage/OneDrive-MillfieldEnterprisesLimited/Cambridge/GitHub/BO4ACST/Notebooks/Optimisation/Method20241028Dim2_qLogNoisyExpectedImprovement/AxExperiment.json`.\n",
      "[INFO 10-29 16:38:23] ax.service.ax_client: Completed trial 3 with data: {'t1': (914.0, None)}.\n",
      "[INFO 10-29 16:38:23] ax.service.ax_client: Saved JSON-serialized state of optimization to `/Users/thomasdodd/Library/CloudStorage/OneDrive-MillfieldEnterprisesLimited/Cambridge/GitHub/BO4ACST/Notebooks/Optimisation/Method20241028Dim2_qLogNoisyExpectedImprovement/AxExperiment.json`.\n",
      "[INFO 10-29 16:38:23] ax.service.ax_client: Completed trial 4 with data: {'t1': (74.0, None)}.\n",
      "[INFO 10-29 16:38:23] ax.service.ax_client: Saved JSON-serialized state of optimization to `/Users/thomasdodd/Library/CloudStorage/OneDrive-MillfieldEnterprisesLimited/Cambridge/GitHub/BO4ACST/Notebooks/Optimisation/Method20241028Dim2_qLogNoisyExpectedImprovement/AxExperiment.json`.\n",
      "[INFO 10-29 16:38:23] ax.service.ax_client: Completed trial 5 with data: {'t1': (234.0, None)}.\n",
      "[INFO 10-29 16:38:23] ax.service.ax_client: Saved JSON-serialized state of optimization to `/Users/thomasdodd/Library/CloudStorage/OneDrive-MillfieldEnterprisesLimited/Cambridge/GitHub/BO4ACST/Notebooks/Optimisation/Method20241028Dim2_qLogNoisyExpectedImprovement/AxExperiment.json`.\n",
      "[INFO 10-29 16:38:23] ax.service.ax_client: Completed trial 6 with data: {'t1': (234.0, None)}.\n",
      "[INFO 10-29 16:38:23] ax.service.ax_client: Saved JSON-serialized state of optimization to `/Users/thomasdodd/Library/CloudStorage/OneDrive-MillfieldEnterprisesLimited/Cambridge/GitHub/BO4ACST/Notebooks/Optimisation/Method20241028Dim2_qLogNoisyExpectedImprovement/AxExperiment.json`.\n",
      "[INFO 10-29 16:38:23] ax.service.ax_client: Completed trial 7 with data: {'t1': (194.0, None)}.\n",
      "[INFO 10-29 16:38:23] ax.service.ax_client: Saved JSON-serialized state of optimization to `/Users/thomasdodd/Library/CloudStorage/OneDrive-MillfieldEnterprisesLimited/Cambridge/GitHub/BO4ACST/Notebooks/Optimisation/Method20241028Dim2_qLogNoisyExpectedImprovement/AxExperiment.json`.\n",
      "[INFO 10-29 16:38:23] ax.service.ax_client: Completed trial 8 with data: {'t1': (1154.0, None)}.\n",
      "[INFO 10-29 16:38:23] ax.service.ax_client: Saved JSON-serialized state of optimization to `/Users/thomasdodd/Library/CloudStorage/OneDrive-MillfieldEnterprisesLimited/Cambridge/GitHub/BO4ACST/Notebooks/Optimisation/Method20241028Dim2_qLogNoisyExpectedImprovement/AxExperiment.json`.\n",
      "[WARNING 10-29 16:38:23] ax.service.utils.report_utils: Column reason missing for all trials. Not appending column.\n",
      "[WARNING 10-29 16:38:23] ax.service.utils.report_utils: Column reason missing for all trials. Not appending column.\n"
     ]
    },
    {
     "name": "stdout",
     "output_type": "stream",
     "text": [
      "[74.         24.80034903 24.80034903  0.28512985  0.28512985  0.28512985\n",
      "  0.28512985  0.28512985  0.28512985  0.28512985  0.28512985  0.28512985\n",
      "  0.28512985  0.28512985  0.28512985  0.28512985]\n",
      "A new experiment has been created and initialised.\n",
      "No previous or current trials detected - initialising prior-forming trials.\n",
      "Samples gridded = 9\n",
      "There are no trials currently running - initialising Bayesian iteration trials.\n"
     ]
    },
    {
     "name": "stderr",
     "output_type": "stream",
     "text": [
      "[INFO 10-29 16:38:28] ax.service.ax_client: Generated new trial 9 with parameters {'x1': -2.671135, 'x2': 5.827392} using model BoTorch.\n",
      "[INFO 10-29 16:38:28] ax.service.ax_client: Saved JSON-serialized state of optimization to `/Users/thomasdodd/Library/CloudStorage/OneDrive-MillfieldEnterprisesLimited/Cambridge/GitHub/BO4ACST/Notebooks/Optimisation/Method20241028Dim2_qLogNoisyExpectedImprovement/AxExperiment.json`.\n",
      "/Users/thomasdodd/miniconda3/envs/BO4ACST_env/lib/python3.11/site-packages/ax/core/data.py:288: FutureWarning: The behavior of DataFrame concatenation with empty or all-NA entries is deprecated. In a future version, this will no longer exclude empty or all-NA columns when determining the result dtypes. To retain the old behavior, exclude the relevant entries before the concat operation.\n",
      "  return cls(df=pd.concat(dfs, axis=0, sort=True))\n",
      "[WARNING 10-29 16:38:28] ax.service.utils.report_utils: Column reason missing for all trials. Not appending column.\n",
      "/Users/thomasdodd/miniconda3/envs/BO4ACST_env/lib/python3.11/site-packages/ax/core/data.py:288: FutureWarning: The behavior of DataFrame concatenation with empty or all-NA entries is deprecated. In a future version, this will no longer exclude empty or all-NA columns when determining the result dtypes. To retain the old behavior, exclude the relevant entries before the concat operation.\n",
      "  return cls(df=pd.concat(dfs, axis=0, sort=True))\n",
      "[WARNING 10-29 16:38:28] ax.service.utils.report_utils: Column reason missing for all trials. Not appending column.\n",
      "[INFO 10-29 16:38:28] ax.service.ax_client: Completed trial 9 with data: {'t1': (24.318993, None)}.\n",
      "[INFO 10-29 16:38:28] ax.service.ax_client: Saved JSON-serialized state of optimization to `/Users/thomasdodd/Library/CloudStorage/OneDrive-MillfieldEnterprisesLimited/Cambridge/GitHub/BO4ACST/Notebooks/Optimisation/Method20241028Dim2_qLogNoisyExpectedImprovement/AxExperiment.json`.\n",
      "[WARNING 10-29 16:38:28] ax.service.utils.report_utils: Column reason missing for all trials. Not appending column.\n",
      "[WARNING 10-29 16:38:28] ax.service.utils.report_utils: Column reason missing for all trials. Not appending column.\n"
     ]
    },
    {
     "name": "stdout",
     "output_type": "stream",
     "text": [
      "There are no trials currently running - initialising Bayesian iteration trials.\n"
     ]
    },
    {
     "name": "stderr",
     "output_type": "stream",
     "text": [
      "[INFO 10-29 16:38:31] ax.service.ax_client: Generated new trial 10 with parameters {'x1': 4.973333, 'x2': -1.715151} using model BoTorch.\n",
      "[INFO 10-29 16:38:32] ax.service.ax_client: Saved JSON-serialized state of optimization to `/Users/thomasdodd/Library/CloudStorage/OneDrive-MillfieldEnterprisesLimited/Cambridge/GitHub/BO4ACST/Notebooks/Optimisation/Method20241028Dim2_qLogNoisyExpectedImprovement/AxExperiment.json`.\n",
      "/Users/thomasdodd/miniconda3/envs/BO4ACST_env/lib/python3.11/site-packages/ax/core/data.py:288: FutureWarning: The behavior of DataFrame concatenation with empty or all-NA entries is deprecated. In a future version, this will no longer exclude empty or all-NA columns when determining the result dtypes. To retain the old behavior, exclude the relevant entries before the concat operation.\n",
      "  return cls(df=pd.concat(dfs, axis=0, sort=True))\n",
      "[WARNING 10-29 16:38:32] ax.service.utils.report_utils: Column reason missing for all trials. Not appending column.\n",
      "/Users/thomasdodd/miniconda3/envs/BO4ACST_env/lib/python3.11/site-packages/ax/core/data.py:288: FutureWarning: The behavior of DataFrame concatenation with empty or all-NA entries is deprecated. In a future version, this will no longer exclude empty or all-NA columns when determining the result dtypes. To retain the old behavior, exclude the relevant entries before the concat operation.\n",
      "  return cls(df=pd.concat(dfs, axis=0, sort=True))\n",
      "[WARNING 10-29 16:38:32] ax.service.utils.report_utils: Column reason missing for all trials. Not appending column.\n",
      "[INFO 10-29 16:38:32] ax.service.ax_client: Completed trial 10 with data: {'t1': (40.221206, None)}.\n",
      "[INFO 10-29 16:38:32] ax.service.ax_client: Saved JSON-serialized state of optimization to `/Users/thomasdodd/Library/CloudStorage/OneDrive-MillfieldEnterprisesLimited/Cambridge/GitHub/BO4ACST/Notebooks/Optimisation/Method20241028Dim2_qLogNoisyExpectedImprovement/AxExperiment.json`.\n",
      "[WARNING 10-29 16:38:32] ax.service.utils.report_utils: Column reason missing for all trials. Not appending column.\n",
      "[WARNING 10-29 16:38:32] ax.service.utils.report_utils: Column reason missing for all trials. Not appending column.\n"
     ]
    },
    {
     "name": "stdout",
     "output_type": "stream",
     "text": [
      "There are no trials currently running - initialising Bayesian iteration trials.\n"
     ]
    },
    {
     "name": "stderr",
     "output_type": "stream",
     "text": [
      "[INFO 10-29 16:38:36] ax.service.ax_client: Generated new trial 11 with parameters {'x1': 1.328353, 'x2': 2.798306} using model BoTorch.\n",
      "[INFO 10-29 16:38:36] ax.service.ax_client: Saved JSON-serialized state of optimization to `/Users/thomasdodd/Library/CloudStorage/OneDrive-MillfieldEnterprisesLimited/Cambridge/GitHub/BO4ACST/Notebooks/Optimisation/Method20241028Dim2_qLogNoisyExpectedImprovement/AxExperiment.json`.\n",
      "/Users/thomasdodd/miniconda3/envs/BO4ACST_env/lib/python3.11/site-packages/ax/core/data.py:288: FutureWarning: The behavior of DataFrame concatenation with empty or all-NA entries is deprecated. In a future version, this will no longer exclude empty or all-NA columns when determining the result dtypes. To retain the old behavior, exclude the relevant entries before the concat operation.\n",
      "  return cls(df=pd.concat(dfs, axis=0, sort=True))\n",
      "[WARNING 10-29 16:38:36] ax.service.utils.report_utils: Column reason missing for all trials. Not appending column.\n",
      "/Users/thomasdodd/miniconda3/envs/BO4ACST_env/lib/python3.11/site-packages/ax/core/data.py:288: FutureWarning: The behavior of DataFrame concatenation with empty or all-NA entries is deprecated. In a future version, this will no longer exclude empty or all-NA columns when determining the result dtypes. To retain the old behavior, exclude the relevant entries before the concat operation.\n",
      "  return cls(df=pd.concat(dfs, axis=0, sort=True))\n",
      "[WARNING 10-29 16:38:36] ax.service.utils.report_utils: Column reason missing for all trials. Not appending column.\n",
      "[INFO 10-29 16:38:36] ax.service.ax_client: Completed trial 11 with data: {'t1': (0.212665, None)}.\n",
      "[INFO 10-29 16:38:36] ax.service.ax_client: Saved JSON-serialized state of optimization to `/Users/thomasdodd/Library/CloudStorage/OneDrive-MillfieldEnterprisesLimited/Cambridge/GitHub/BO4ACST/Notebooks/Optimisation/Method20241028Dim2_qLogNoisyExpectedImprovement/AxExperiment.json`.\n",
      "[WARNING 10-29 16:38:36] ax.service.utils.report_utils: Column reason missing for all trials. Not appending column.\n",
      "[WARNING 10-29 16:38:36] ax.service.utils.report_utils: Column reason missing for all trials. Not appending column.\n"
     ]
    },
    {
     "name": "stdout",
     "output_type": "stream",
     "text": [
      "There are no trials currently running - initialising Bayesian iteration trials.\n"
     ]
    },
    {
     "name": "stderr",
     "output_type": "stream",
     "text": [
      "[INFO 10-29 16:38:41] ax.service.ax_client: Generated new trial 12 with parameters {'x1': -4.279317, 'x2': 8.175419} using model BoTorch.\n",
      "[INFO 10-29 16:38:41] ax.service.ax_client: Saved JSON-serialized state of optimization to `/Users/thomasdodd/Library/CloudStorage/OneDrive-MillfieldEnterprisesLimited/Cambridge/GitHub/BO4ACST/Notebooks/Optimisation/Method20241028Dim2_qLogNoisyExpectedImprovement/AxExperiment.json`.\n",
      "/Users/thomasdodd/miniconda3/envs/BO4ACST_env/lib/python3.11/site-packages/ax/core/data.py:288: FutureWarning: The behavior of DataFrame concatenation with empty or all-NA entries is deprecated. In a future version, this will no longer exclude empty or all-NA columns when determining the result dtypes. To retain the old behavior, exclude the relevant entries before the concat operation.\n",
      "  return cls(df=pd.concat(dfs, axis=0, sort=True))\n",
      "[WARNING 10-29 16:38:41] ax.service.utils.report_utils: Column reason missing for all trials. Not appending column.\n",
      "/Users/thomasdodd/miniconda3/envs/BO4ACST_env/lib/python3.11/site-packages/ax/core/data.py:288: FutureWarning: The behavior of DataFrame concatenation with empty or all-NA entries is deprecated. In a future version, this will no longer exclude empty or all-NA columns when determining the result dtypes. To retain the old behavior, exclude the relevant entries before the concat operation.\n",
      "  return cls(df=pd.concat(dfs, axis=0, sort=True))\n",
      "[WARNING 10-29 16:38:41] ax.service.utils.report_utils: Column reason missing for all trials. Not appending column.\n",
      "[INFO 10-29 16:38:41] ax.service.ax_client: Completed trial 12 with data: {'t1': (54.699337, None)}.\n",
      "[INFO 10-29 16:38:41] ax.service.ax_client: Saved JSON-serialized state of optimization to `/Users/thomasdodd/Library/CloudStorage/OneDrive-MillfieldEnterprisesLimited/Cambridge/GitHub/BO4ACST/Notebooks/Optimisation/Method20241028Dim2_qLogNoisyExpectedImprovement/AxExperiment.json`.\n",
      "[WARNING 10-29 16:38:41] ax.service.utils.report_utils: Column reason missing for all trials. Not appending column.\n",
      "[WARNING 10-29 16:38:41] ax.service.utils.report_utils: Column reason missing for all trials. Not appending column.\n"
     ]
    },
    {
     "name": "stdout",
     "output_type": "stream",
     "text": [
      "There are no trials currently running - initialising Bayesian iteration trials.\n"
     ]
    },
    {
     "name": "stderr",
     "output_type": "stream",
     "text": [
      "[INFO 10-29 16:38:46] ax.service.ax_client: Generated new trial 13 with parameters {'x1': -0.792659, 'x2': 4.098065} using model BoTorch.\n",
      "[INFO 10-29 16:38:46] ax.service.ax_client: Saved JSON-serialized state of optimization to `/Users/thomasdodd/Library/CloudStorage/OneDrive-MillfieldEnterprisesLimited/Cambridge/GitHub/BO4ACST/Notebooks/Optimisation/Method20241028Dim2_qLogNoisyExpectedImprovement/AxExperiment.json`.\n",
      "/Users/thomasdodd/miniconda3/envs/BO4ACST_env/lib/python3.11/site-packages/ax/core/data.py:288: FutureWarning: The behavior of DataFrame concatenation with empty or all-NA entries is deprecated. In a future version, this will no longer exclude empty or all-NA columns when determining the result dtypes. To retain the old behavior, exclude the relevant entries before the concat operation.\n",
      "  return cls(df=pd.concat(dfs, axis=0, sort=True))\n",
      "[WARNING 10-29 16:38:46] ax.service.utils.report_utils: Column reason missing for all trials. Not appending column.\n",
      "/Users/thomasdodd/miniconda3/envs/BO4ACST_env/lib/python3.11/site-packages/ax/core/data.py:288: FutureWarning: The behavior of DataFrame concatenation with empty or all-NA entries is deprecated. In a future version, this will no longer exclude empty or all-NA columns when determining the result dtypes. To retain the old behavior, exclude the relevant entries before the concat operation.\n",
      "  return cls(df=pd.concat(dfs, axis=0, sort=True))\n",
      "[WARNING 10-29 16:38:46] ax.service.utils.report_utils: Column reason missing for all trials. Not appending column.\n",
      "[INFO 10-29 16:38:46] ax.service.ax_client: Completed trial 13 with data: {'t1': (6.349213, None)}.\n",
      "[INFO 10-29 16:38:46] ax.service.ax_client: Saved JSON-serialized state of optimization to `/Users/thomasdodd/Library/CloudStorage/OneDrive-MillfieldEnterprisesLimited/Cambridge/GitHub/BO4ACST/Notebooks/Optimisation/Method20241028Dim2_qLogNoisyExpectedImprovement/AxExperiment.json`.\n",
      "[WARNING 10-29 16:38:46] ax.service.utils.report_utils: Column reason missing for all trials. Not appending column.\n",
      "[WARNING 10-29 16:38:47] ax.service.utils.report_utils: Column reason missing for all trials. Not appending column.\n"
     ]
    },
    {
     "name": "stdout",
     "output_type": "stream",
     "text": [
      "There are no trials currently running - initialising Bayesian iteration trials.\n"
     ]
    },
    {
     "name": "stderr",
     "output_type": "stream",
     "text": [
      "[INFO 10-29 16:38:53] ax.service.ax_client: Generated new trial 14 with parameters {'x1': 2.775693, 'x2': 0.73621} using model BoTorch.\n",
      "[INFO 10-29 16:38:53] ax.service.ax_client: Saved JSON-serialized state of optimization to `/Users/thomasdodd/Library/CloudStorage/OneDrive-MillfieldEnterprisesLimited/Cambridge/GitHub/BO4ACST/Notebooks/Optimisation/Method20241028Dim2_qLogNoisyExpectedImprovement/AxExperiment.json`.\n",
      "/Users/thomasdodd/miniconda3/envs/BO4ACST_env/lib/python3.11/site-packages/ax/core/data.py:288: FutureWarning: The behavior of DataFrame concatenation with empty or all-NA entries is deprecated. In a future version, this will no longer exclude empty or all-NA columns when determining the result dtypes. To retain the old behavior, exclude the relevant entries before the concat operation.\n",
      "  return cls(df=pd.concat(dfs, axis=0, sort=True))\n",
      "[WARNING 10-29 16:38:53] ax.service.utils.report_utils: Column reason missing for all trials. Not appending column.\n",
      "/Users/thomasdodd/miniconda3/envs/BO4ACST_env/lib/python3.11/site-packages/ax/core/data.py:288: FutureWarning: The behavior of DataFrame concatenation with empty or all-NA entries is deprecated. In a future version, this will no longer exclude empty or all-NA columns when determining the result dtypes. To retain the old behavior, exclude the relevant entries before the concat operation.\n",
      "  return cls(df=pd.concat(dfs, axis=0, sort=True))\n",
      "[WARNING 10-29 16:38:53] ax.service.utils.report_utils: Column reason missing for all trials. Not appending column.\n",
      "[INFO 10-29 16:38:53] ax.service.ax_client: Completed trial 14 with data: {'t1': (9.230785, None)}.\n",
      "[INFO 10-29 16:38:53] ax.service.ax_client: Saved JSON-serialized state of optimization to `/Users/thomasdodd/Library/CloudStorage/OneDrive-MillfieldEnterprisesLimited/Cambridge/GitHub/BO4ACST/Notebooks/Optimisation/Method20241028Dim2_qLogNoisyExpectedImprovement/AxExperiment.json`.\n",
      "[WARNING 10-29 16:38:53] ax.service.utils.report_utils: Column reason missing for all trials. Not appending column.\n",
      "[WARNING 10-29 16:38:53] ax.service.utils.report_utils: Column reason missing for all trials. Not appending column.\n"
     ]
    },
    {
     "name": "stdout",
     "output_type": "stream",
     "text": [
      "There are no trials currently running - initialising Bayesian iteration trials.\n"
     ]
    },
    {
     "name": "stderr",
     "output_type": "stream",
     "text": [
      "[INFO 10-29 16:39:02] ax.service.ax_client: Generated new trial 15 with parameters {'x1': 0.79817, 'x2': 2.345564} using model BoTorch.\n",
      "[INFO 10-29 16:39:02] ax.service.ax_client: Saved JSON-serialized state of optimization to `/Users/thomasdodd/Library/CloudStorage/OneDrive-MillfieldEnterprisesLimited/Cambridge/GitHub/BO4ACST/Notebooks/Optimisation/Method20241028Dim2_qLogNoisyExpectedImprovement/AxExperiment.json`.\n",
      "/Users/thomasdodd/miniconda3/envs/BO4ACST_env/lib/python3.11/site-packages/ax/core/data.py:288: FutureWarning: The behavior of DataFrame concatenation with empty or all-NA entries is deprecated. In a future version, this will no longer exclude empty or all-NA columns when determining the result dtypes. To retain the old behavior, exclude the relevant entries before the concat operation.\n",
      "  return cls(df=pd.concat(dfs, axis=0, sort=True))\n",
      "[WARNING 10-29 16:39:02] ax.service.utils.report_utils: Column reason missing for all trials. Not appending column.\n",
      "/Users/thomasdodd/miniconda3/envs/BO4ACST_env/lib/python3.11/site-packages/ax/core/data.py:288: FutureWarning: The behavior of DataFrame concatenation with empty or all-NA entries is deprecated. In a future version, this will no longer exclude empty or all-NA columns when determining the result dtypes. To retain the old behavior, exclude the relevant entries before the concat operation.\n",
      "  return cls(df=pd.concat(dfs, axis=0, sort=True))\n",
      "[WARNING 10-29 16:39:02] ax.service.utils.report_utils: Column reason missing for all trials. Not appending column.\n",
      "[INFO 10-29 16:39:02] ax.service.ax_client: Completed trial 15 with data: {'t1': (3.401786, None)}.\n",
      "[INFO 10-29 16:39:02] ax.service.ax_client: Saved JSON-serialized state of optimization to `/Users/thomasdodd/Library/CloudStorage/OneDrive-MillfieldEnterprisesLimited/Cambridge/GitHub/BO4ACST/Notebooks/Optimisation/Method20241028Dim2_qLogNoisyExpectedImprovement/AxExperiment.json`.\n",
      "[WARNING 10-29 16:39:02] ax.service.utils.report_utils: Column reason missing for all trials. Not appending column.\n",
      "[WARNING 10-29 16:39:02] ax.service.utils.report_utils: Column reason missing for all trials. Not appending column.\n"
     ]
    },
    {
     "name": "stdout",
     "output_type": "stream",
     "text": [
      "There are no trials currently running - initialising Bayesian iteration trials.\n"
     ]
    },
    {
     "name": "stderr",
     "output_type": "stream",
     "text": [
      "[INFO 10-29 16:39:10] ax.service.ax_client: Generated new trial 16 with parameters {'x1': 0.015664, 'x2': 3.945435} using model BoTorch.\n",
      "[INFO 10-29 16:39:10] ax.service.ax_client: Saved JSON-serialized state of optimization to `/Users/thomasdodd/Library/CloudStorage/OneDrive-MillfieldEnterprisesLimited/Cambridge/GitHub/BO4ACST/Notebooks/Optimisation/Method20241028Dim2_qLogNoisyExpectedImprovement/AxExperiment.json`.\n",
      "/Users/thomasdodd/miniconda3/envs/BO4ACST_env/lib/python3.11/site-packages/ax/core/data.py:288: FutureWarning: The behavior of DataFrame concatenation with empty or all-NA entries is deprecated. In a future version, this will no longer exclude empty or all-NA columns when determining the result dtypes. To retain the old behavior, exclude the relevant entries before the concat operation.\n",
      "  return cls(df=pd.concat(dfs, axis=0, sort=True))\n",
      "[WARNING 10-29 16:39:10] ax.service.utils.report_utils: Column reason missing for all trials. Not appending column.\n",
      "/Users/thomasdodd/miniconda3/envs/BO4ACST_env/lib/python3.11/site-packages/ax/core/data.py:288: FutureWarning: The behavior of DataFrame concatenation with empty or all-NA entries is deprecated. In a future version, this will no longer exclude empty or all-NA columns when determining the result dtypes. To retain the old behavior, exclude the relevant entries before the concat operation.\n",
      "  return cls(df=pd.concat(dfs, axis=0, sort=True))\n",
      "[WARNING 10-29 16:39:10] ax.service.utils.report_utils: Column reason missing for all trials. Not appending column.\n",
      "[INFO 10-29 16:39:10] ax.service.ax_client: Completed trial 16 with data: {'t1': (1.868818, None)}.\n",
      "[INFO 10-29 16:39:10] ax.service.ax_client: Saved JSON-serialized state of optimization to `/Users/thomasdodd/Library/CloudStorage/OneDrive-MillfieldEnterprisesLimited/Cambridge/GitHub/BO4ACST/Notebooks/Optimisation/Method20241028Dim2_qLogNoisyExpectedImprovement/AxExperiment.json`.\n",
      "[WARNING 10-29 16:39:10] ax.service.utils.report_utils: Column reason missing for all trials. Not appending column.\n",
      "[WARNING 10-29 16:39:10] ax.service.utils.report_utils: Column reason missing for all trials. Not appending column.\n"
     ]
    },
    {
     "name": "stdout",
     "output_type": "stream",
     "text": [
      "There are no trials currently running - initialising Bayesian iteration trials.\n"
     ]
    },
    {
     "name": "stderr",
     "output_type": "stream",
     "text": [
      "[INFO 10-29 16:39:20] ax.service.ax_client: Generated new trial 17 with parameters {'x1': 1.986473, 'x2': 1.724017} using model BoTorch.\n",
      "[INFO 10-29 16:39:20] ax.service.ax_client: Saved JSON-serialized state of optimization to `/Users/thomasdodd/Library/CloudStorage/OneDrive-MillfieldEnterprisesLimited/Cambridge/GitHub/BO4ACST/Notebooks/Optimisation/Method20241028Dim2_qLogNoisyExpectedImprovement/AxExperiment.json`.\n",
      "/Users/thomasdodd/miniconda3/envs/BO4ACST_env/lib/python3.11/site-packages/ax/core/data.py:288: FutureWarning: The behavior of DataFrame concatenation with empty or all-NA entries is deprecated. In a future version, this will no longer exclude empty or all-NA columns when determining the result dtypes. To retain the old behavior, exclude the relevant entries before the concat operation.\n",
      "  return cls(df=pd.concat(dfs, axis=0, sort=True))\n",
      "[WARNING 10-29 16:39:20] ax.service.utils.report_utils: Column reason missing for all trials. Not appending column.\n",
      "/Users/thomasdodd/miniconda3/envs/BO4ACST_env/lib/python3.11/site-packages/ax/core/data.py:288: FutureWarning: The behavior of DataFrame concatenation with empty or all-NA entries is deprecated. In a future version, this will no longer exclude empty or all-NA columns when determining the result dtypes. To retain the old behavior, exclude the relevant entries before the concat operation.\n",
      "  return cls(df=pd.concat(dfs, axis=0, sort=True))\n",
      "[WARNING 10-29 16:39:20] ax.service.utils.report_utils: Column reason missing for all trials. Not appending column.\n",
      "[INFO 10-29 16:39:20] ax.service.ax_client: Completed trial 17 with data: {'t1': (2.936527, None)}.\n",
      "[INFO 10-29 16:39:20] ax.service.ax_client: Saved JSON-serialized state of optimization to `/Users/thomasdodd/Library/CloudStorage/OneDrive-MillfieldEnterprisesLimited/Cambridge/GitHub/BO4ACST/Notebooks/Optimisation/Method20241028Dim2_qLogNoisyExpectedImprovement/AxExperiment.json`.\n",
      "[WARNING 10-29 16:39:20] ax.service.utils.report_utils: Column reason missing for all trials. Not appending column.\n",
      "[WARNING 10-29 16:39:20] ax.service.utils.report_utils: Column reason missing for all trials. Not appending column.\n"
     ]
    },
    {
     "name": "stdout",
     "output_type": "stream",
     "text": [
      "There are no trials currently running - initialising Bayesian iteration trials.\n"
     ]
    },
    {
     "name": "stderr",
     "output_type": "stream",
     "text": [
      "[INFO 10-29 16:39:29] ax.service.ax_client: Generated new trial 18 with parameters {'x1': 0.232559, 'x2': 3.197465} using model BoTorch.\n",
      "[INFO 10-29 16:39:29] ax.service.ax_client: Saved JSON-serialized state of optimization to `/Users/thomasdodd/Library/CloudStorage/OneDrive-MillfieldEnterprisesLimited/Cambridge/GitHub/BO4ACST/Notebooks/Optimisation/Method20241028Dim2_qLogNoisyExpectedImprovement/AxExperiment.json`.\n",
      "/Users/thomasdodd/miniconda3/envs/BO4ACST_env/lib/python3.11/site-packages/ax/core/data.py:288: FutureWarning: The behavior of DataFrame concatenation with empty or all-NA entries is deprecated. In a future version, this will no longer exclude empty or all-NA columns when determining the result dtypes. To retain the old behavior, exclude the relevant entries before the concat operation.\n",
      "  return cls(df=pd.concat(dfs, axis=0, sort=True))\n",
      "[WARNING 10-29 16:39:29] ax.service.utils.report_utils: Column reason missing for all trials. Not appending column.\n",
      "/Users/thomasdodd/miniconda3/envs/BO4ACST_env/lib/python3.11/site-packages/ax/core/data.py:288: FutureWarning: The behavior of DataFrame concatenation with empty or all-NA entries is deprecated. In a future version, this will no longer exclude empty or all-NA columns when determining the result dtypes. To retain the old behavior, exclude the relevant entries before the concat operation.\n",
      "  return cls(df=pd.concat(dfs, axis=0, sort=True))\n",
      "[WARNING 10-29 16:39:29] ax.service.utils.report_utils: Column reason missing for all trials. Not appending column.\n",
      "[INFO 10-29 16:39:29] ax.service.ax_client: Completed trial 18 with data: {'t1': (1.927449, None)}.\n",
      "[INFO 10-29 16:39:29] ax.service.ax_client: Saved JSON-serialized state of optimization to `/Users/thomasdodd/Library/CloudStorage/OneDrive-MillfieldEnterprisesLimited/Cambridge/GitHub/BO4ACST/Notebooks/Optimisation/Method20241028Dim2_qLogNoisyExpectedImprovement/AxExperiment.json`.\n",
      "[WARNING 10-29 16:39:29] ax.service.utils.report_utils: Column reason missing for all trials. Not appending column.\n",
      "[WARNING 10-29 16:39:29] ax.service.utils.report_utils: Column reason missing for all trials. Not appending column.\n"
     ]
    },
    {
     "name": "stdout",
     "output_type": "stream",
     "text": [
      "There are no trials currently running - initialising Bayesian iteration trials.\n"
     ]
    },
    {
     "name": "stderr",
     "output_type": "stream",
     "text": [
      "[INFO 10-29 16:39:39] ax.service.ax_client: Generated new trial 19 with parameters {'x1': 1.078125, 'x2': 2.488348} using model BoTorch.\n",
      "[INFO 10-29 16:39:39] ax.service.ax_client: Saved JSON-serialized state of optimization to `/Users/thomasdodd/Library/CloudStorage/OneDrive-MillfieldEnterprisesLimited/Cambridge/GitHub/BO4ACST/Notebooks/Optimisation/Method20241028Dim2_qLogNoisyExpectedImprovement/AxExperiment.json`.\n",
      "/Users/thomasdodd/miniconda3/envs/BO4ACST_env/lib/python3.11/site-packages/ax/core/data.py:288: FutureWarning: The behavior of DataFrame concatenation with empty or all-NA entries is deprecated. In a future version, this will no longer exclude empty or all-NA columns when determining the result dtypes. To retain the old behavior, exclude the relevant entries before the concat operation.\n",
      "  return cls(df=pd.concat(dfs, axis=0, sort=True))\n",
      "[WARNING 10-29 16:39:39] ax.service.utils.report_utils: Column reason missing for all trials. Not appending column.\n",
      "/Users/thomasdodd/miniconda3/envs/BO4ACST_env/lib/python3.11/site-packages/ax/core/data.py:288: FutureWarning: The behavior of DataFrame concatenation with empty or all-NA entries is deprecated. In a future version, this will no longer exclude empty or all-NA columns when determining the result dtypes. To retain the old behavior, exclude the relevant entries before the concat operation.\n",
      "  return cls(df=pd.concat(dfs, axis=0, sort=True))\n",
      "[WARNING 10-29 16:39:39] ax.service.utils.report_utils: Column reason missing for all trials. Not appending column.\n",
      "[INFO 10-29 16:39:39] ax.service.ax_client: Completed trial 19 with data: {'t1': (1.019674, None)}.\n",
      "[INFO 10-29 16:39:39] ax.service.ax_client: Saved JSON-serialized state of optimization to `/Users/thomasdodd/Library/CloudStorage/OneDrive-MillfieldEnterprisesLimited/Cambridge/GitHub/BO4ACST/Notebooks/Optimisation/Method20241028Dim2_qLogNoisyExpectedImprovement/AxExperiment.json`.\n",
      "[WARNING 10-29 16:39:39] ax.service.utils.report_utils: Column reason missing for all trials. Not appending column.\n",
      "[WARNING 10-29 16:39:39] ax.service.utils.report_utils: Column reason missing for all trials. Not appending column.\n"
     ]
    },
    {
     "name": "stdout",
     "output_type": "stream",
     "text": [
      "There are no trials currently running - initialising Bayesian iteration trials.\n"
     ]
    },
    {
     "name": "stderr",
     "output_type": "stream",
     "text": [
      "[INFO 10-29 16:39:50] ax.service.ax_client: Generated new trial 20 with parameters {'x1': 1.597822, 'x2': 1.75232} using model BoTorch.\n",
      "[INFO 10-29 16:39:50] ax.service.ax_client: Saved JSON-serialized state of optimization to `/Users/thomasdodd/Library/CloudStorage/OneDrive-MillfieldEnterprisesLimited/Cambridge/GitHub/BO4ACST/Notebooks/Optimisation/Method20241028Dim2_qLogNoisyExpectedImprovement/AxExperiment.json`.\n",
      "/Users/thomasdodd/miniconda3/envs/BO4ACST_env/lib/python3.11/site-packages/ax/core/data.py:288: FutureWarning: The behavior of DataFrame concatenation with empty or all-NA entries is deprecated. In a future version, this will no longer exclude empty or all-NA columns when determining the result dtypes. To retain the old behavior, exclude the relevant entries before the concat operation.\n",
      "  return cls(df=pd.concat(dfs, axis=0, sort=True))\n",
      "[WARNING 10-29 16:39:50] ax.service.utils.report_utils: Column reason missing for all trials. Not appending column.\n",
      "/Users/thomasdodd/miniconda3/envs/BO4ACST_env/lib/python3.11/site-packages/ax/core/data.py:288: FutureWarning: The behavior of DataFrame concatenation with empty or all-NA entries is deprecated. In a future version, this will no longer exclude empty or all-NA columns when determining the result dtypes. To retain the old behavior, exclude the relevant entries before the concat operation.\n",
      "  return cls(df=pd.concat(dfs, axis=0, sort=True))\n",
      "[WARNING 10-29 16:39:50] ax.service.utils.report_utils: Column reason missing for all trials. Not appending column.\n",
      "[INFO 10-29 16:39:50] ax.service.ax_client: Completed trial 20 with data: {'t1': (3.603362, None)}.\n",
      "[INFO 10-29 16:39:50] ax.service.ax_client: Saved JSON-serialized state of optimization to `/Users/thomasdodd/Library/CloudStorage/OneDrive-MillfieldEnterprisesLimited/Cambridge/GitHub/BO4ACST/Notebooks/Optimisation/Method20241028Dim2_qLogNoisyExpectedImprovement/AxExperiment.json`.\n",
      "[WARNING 10-29 16:39:50] ax.service.utils.report_utils: Column reason missing for all trials. Not appending column.\n",
      "[WARNING 10-29 16:39:50] ax.service.utils.report_utils: Column reason missing for all trials. Not appending column.\n"
     ]
    },
    {
     "name": "stdout",
     "output_type": "stream",
     "text": [
      "There are no trials currently running - initialising Bayesian iteration trials.\n"
     ]
    },
    {
     "name": "stderr",
     "output_type": "stream",
     "text": [
      "[INFO 10-29 16:39:57] ax.service.ax_client: Generated new trial 21 with parameters {'x1': 0.66871, 'x2': 3.047397} using model BoTorch.\n",
      "[INFO 10-29 16:39:57] ax.service.ax_client: Saved JSON-serialized state of optimization to `/Users/thomasdodd/Library/CloudStorage/OneDrive-MillfieldEnterprisesLimited/Cambridge/GitHub/BO4ACST/Notebooks/Optimisation/Method20241028Dim2_qLogNoisyExpectedImprovement/AxExperiment.json`.\n",
      "/Users/thomasdodd/miniconda3/envs/BO4ACST_env/lib/python3.11/site-packages/ax/core/data.py:288: FutureWarning: The behavior of DataFrame concatenation with empty or all-NA entries is deprecated. In a future version, this will no longer exclude empty or all-NA columns when determining the result dtypes. To retain the old behavior, exclude the relevant entries before the concat operation.\n",
      "  return cls(df=pd.concat(dfs, axis=0, sort=True))\n",
      "[WARNING 10-29 16:39:57] ax.service.utils.report_utils: Column reason missing for all trials. Not appending column.\n",
      "/Users/thomasdodd/miniconda3/envs/BO4ACST_env/lib/python3.11/site-packages/ax/core/data.py:288: FutureWarning: The behavior of DataFrame concatenation with empty or all-NA entries is deprecated. In a future version, this will no longer exclude empty or all-NA columns when determining the result dtypes. To retain the old behavior, exclude the relevant entries before the concat operation.\n",
      "  return cls(df=pd.concat(dfs, axis=0, sort=True))\n",
      "[WARNING 10-29 16:39:57] ax.service.utils.report_utils: Column reason missing for all trials. Not appending column.\n",
      "[INFO 10-29 16:39:57] ax.service.ax_client: Completed trial 21 with data: {'t1': (0.434381, None)}.\n",
      "[INFO 10-29 16:39:57] ax.service.ax_client: Saved JSON-serialized state of optimization to `/Users/thomasdodd/Library/CloudStorage/OneDrive-MillfieldEnterprisesLimited/Cambridge/GitHub/BO4ACST/Notebooks/Optimisation/Method20241028Dim2_qLogNoisyExpectedImprovement/AxExperiment.json`.\n",
      "[WARNING 10-29 16:39:57] ax.service.utils.report_utils: Column reason missing for all trials. Not appending column.\n",
      "[WARNING 10-29 16:39:57] ax.service.utils.report_utils: Column reason missing for all trials. Not appending column.\n"
     ]
    },
    {
     "name": "stdout",
     "output_type": "stream",
     "text": [
      "There are no trials currently running - initialising Bayesian iteration trials.\n"
     ]
    },
    {
     "name": "stderr",
     "output_type": "stream",
     "text": [
      "/Users/thomasdodd/miniconda3/envs/BO4ACST_env/lib/python3.11/site-packages/botorch/optim/optimize.py:568: RuntimeWarning: Optimization failed in `gen_candidates_scipy` with the following warning(s):\n",
      "[OptimizationWarning('Optimization failed within `scipy.optimize.minimize` with status 2 and message ABNORMAL_TERMINATION_IN_LNSRCH.'), OptimizationWarning('Optimization failed within `scipy.optimize.minimize` with status 2 and message ABNORMAL_TERMINATION_IN_LNSRCH.')]\n",
      "Trying again with a new set of initial conditions.\n",
      "  return _optimize_acqf_batch(opt_inputs=opt_inputs)\n",
      "[INFO 10-29 16:40:15] ax.service.ax_client: Generated new trial 22 with parameters {'x1': 0.630745, 'x2': 2.731673} using model BoTorch.\n",
      "[INFO 10-29 16:40:15] ax.service.ax_client: Saved JSON-serialized state of optimization to `/Users/thomasdodd/Library/CloudStorage/OneDrive-MillfieldEnterprisesLimited/Cambridge/GitHub/BO4ACST/Notebooks/Optimisation/Method20241028Dim2_qLogNoisyExpectedImprovement/AxExperiment.json`.\n",
      "/Users/thomasdodd/miniconda3/envs/BO4ACST_env/lib/python3.11/site-packages/ax/core/data.py:288: FutureWarning: The behavior of DataFrame concatenation with empty or all-NA entries is deprecated. In a future version, this will no longer exclude empty or all-NA columns when determining the result dtypes. To retain the old behavior, exclude the relevant entries before the concat operation.\n",
      "  return cls(df=pd.concat(dfs, axis=0, sort=True))\n",
      "[WARNING 10-29 16:40:15] ax.service.utils.report_utils: Column reason missing for all trials. Not appending column.\n",
      "/Users/thomasdodd/miniconda3/envs/BO4ACST_env/lib/python3.11/site-packages/ax/core/data.py:288: FutureWarning: The behavior of DataFrame concatenation with empty or all-NA entries is deprecated. In a future version, this will no longer exclude empty or all-NA columns when determining the result dtypes. To retain the old behavior, exclude the relevant entries before the concat operation.\n",
      "  return cls(df=pd.concat(dfs, axis=0, sort=True))\n",
      "[WARNING 10-29 16:40:15] ax.service.utils.report_utils: Column reason missing for all trials. Not appending column.\n",
      "[INFO 10-29 16:40:15] ax.service.ax_client: Completed trial 22 with data: {'t1': (1.834388, None)}.\n",
      "[INFO 10-29 16:40:15] ax.service.ax_client: Saved JSON-serialized state of optimization to `/Users/thomasdodd/Library/CloudStorage/OneDrive-MillfieldEnterprisesLimited/Cambridge/GitHub/BO4ACST/Notebooks/Optimisation/Method20241028Dim2_qLogNoisyExpectedImprovement/AxExperiment.json`.\n",
      "[WARNING 10-29 16:40:15] ax.service.utils.report_utils: Column reason missing for all trials. Not appending column.\n",
      "[WARNING 10-29 16:40:15] ax.service.utils.report_utils: Column reason missing for all trials. Not appending column.\n"
     ]
    },
    {
     "name": "stdout",
     "output_type": "stream",
     "text": [
      "There are no trials currently running - initialising Bayesian iteration trials.\n"
     ]
    },
    {
     "name": "stderr",
     "output_type": "stream",
     "text": [
      "[INFO 10-29 16:40:28] ax.service.ax_client: Generated new trial 23 with parameters {'x1': 0.147717, 'x2': 3.0457} using model BoTorch.\n",
      "[INFO 10-29 16:40:28] ax.service.ax_client: Saved JSON-serialized state of optimization to `/Users/thomasdodd/Library/CloudStorage/OneDrive-MillfieldEnterprisesLimited/Cambridge/GitHub/BO4ACST/Notebooks/Optimisation/Method20241028Dim2_qLogNoisyExpectedImprovement/AxExperiment.json`.\n",
      "/Users/thomasdodd/miniconda3/envs/BO4ACST_env/lib/python3.11/site-packages/ax/core/data.py:288: FutureWarning: The behavior of DataFrame concatenation with empty or all-NA entries is deprecated. In a future version, this will no longer exclude empty or all-NA columns when determining the result dtypes. To retain the old behavior, exclude the relevant entries before the concat operation.\n",
      "  return cls(df=pd.concat(dfs, axis=0, sort=True))\n",
      "[WARNING 10-29 16:40:28] ax.service.utils.report_utils: Column reason missing for all trials. Not appending column.\n",
      "/Users/thomasdodd/miniconda3/envs/BO4ACST_env/lib/python3.11/site-packages/ax/core/data.py:288: FutureWarning: The behavior of DataFrame concatenation with empty or all-NA entries is deprecated. In a future version, this will no longer exclude empty or all-NA columns when determining the result dtypes. To retain the old behavior, exclude the relevant entries before the concat operation.\n",
      "  return cls(df=pd.concat(dfs, axis=0, sort=True))\n",
      "[WARNING 10-29 16:40:28] ax.service.utils.report_utils: Column reason missing for all trials. Not appending column.\n",
      "[INFO 10-29 16:40:28] ax.service.ax_client: Completed trial 23 with data: {'t1': (3.33078, None)}.\n",
      "[INFO 10-29 16:40:28] ax.service.ax_client: Saved JSON-serialized state of optimization to `/Users/thomasdodd/Library/CloudStorage/OneDrive-MillfieldEnterprisesLimited/Cambridge/GitHub/BO4ACST/Notebooks/Optimisation/Method20241028Dim2_qLogNoisyExpectedImprovement/AxExperiment.json`.\n",
      "[WARNING 10-29 16:40:28] ax.service.utils.report_utils: Column reason missing for all trials. Not appending column.\n",
      "[INFO 10-29 16:40:28] ax.service.ax_client: Starting optimization with verbose logging. To disable logging, set the `verbose_logging` argument to `False`. Note that float values in the logs are rounded to 6 decimal points.\n",
      "[INFO 10-29 16:40:28] ax.service.utils.instantiation: Created search space: SearchSpace(parameters=[RangeParameter(name='x1', parameter_type=FLOAT, range=[-10.0, 10.0]), RangeParameter(name='x2', parameter_type=FLOAT, range=[-10.0, 10.0])], parameter_constraints=[]).\n",
      "[INFO 10-29 16:40:28] ax.service.ax_client: Saved JSON-serialized state of optimization to `/Users/thomasdodd/Library/CloudStorage/OneDrive-MillfieldEnterprisesLimited/Cambridge/GitHub/BO4ACST/Notebooks/Optimisation/Method20241028Dim2_qLogNoisyExpectedImprovement/AxExperiment.json`.\n",
      "[INFO 10-29 16:40:28] ax.core.experiment: Attached custom parameterizations [{'x1': -10.0, 'x2': -10.0}] as trial 0.\n",
      "[INFO 10-29 16:40:28] ax.core.experiment: Attached custom parameterizations [{'x1': 0.0, 'x2': -10.0}] as trial 1.\n",
      "[INFO 10-29 16:40:28] ax.core.experiment: Attached custom parameterizations [{'x1': 10.0, 'x2': -10.0}] as trial 2.\n",
      "[INFO 10-29 16:40:28] ax.core.experiment: Attached custom parameterizations [{'x1': -10.0, 'x2': 0.0}] as trial 3.\n",
      "[INFO 10-29 16:40:28] ax.core.experiment: Attached custom parameterizations [{'x1': 0.0, 'x2': 0.0}] as trial 4.\n",
      "[INFO 10-29 16:40:28] ax.core.experiment: Attached custom parameterizations [{'x1': 10.0, 'x2': 0.0}] as trial 5.\n",
      "[INFO 10-29 16:40:28] ax.core.experiment: Attached custom parameterizations [{'x1': -10.0, 'x2': 10.0}] as trial 6.\n",
      "[INFO 10-29 16:40:28] ax.core.experiment: Attached custom parameterizations [{'x1': 0.0, 'x2': 10.0}] as trial 7.\n",
      "[INFO 10-29 16:40:28] ax.core.experiment: Attached custom parameterizations [{'x1': 10.0, 'x2': 10.0}] as trial 8.\n",
      "[INFO 10-29 16:40:28] ax.service.ax_client: Saved JSON-serialized state of optimization to `/Users/thomasdodd/Library/CloudStorage/OneDrive-MillfieldEnterprisesLimited/Cambridge/GitHub/BO4ACST/Notebooks/Optimisation/Method20241028Dim2_qLogNoisyExpectedImprovement/AxExperiment.json`.\n",
      "[WARNING 10-29 16:40:28] ax.service.utils.report_utils: Column reason missing for all trials. Not appending column.\n",
      "[INFO 10-29 16:40:28] ax.service.utils.report_utils: No results present for the specified metrics `[Metric('t1')]`. Returning arm parameters and metadata only.\n",
      "[WARNING 10-29 16:40:28] ax.service.utils.report_utils: Column reason missing for all trials. Not appending column.\n",
      "[INFO 10-29 16:40:28] ax.service.utils.report_utils: No results present for the specified metrics `[Metric('t1')]`. Returning arm parameters and metadata only.\n",
      "[INFO 10-29 16:40:28] ax.service.ax_client: Completed trial 0 with data: {'t1': (2594.0, None)}.\n",
      "[INFO 10-29 16:40:28] ax.service.ax_client: Saved JSON-serialized state of optimization to `/Users/thomasdodd/Library/CloudStorage/OneDrive-MillfieldEnterprisesLimited/Cambridge/GitHub/BO4ACST/Notebooks/Optimisation/Method20241028Dim2_qLogNoisyExpectedImprovement/AxExperiment.json`.\n",
      "[INFO 10-29 16:40:28] ax.service.ax_client: Completed trial 1 with data: {'t1': (954.0, None)}.\n",
      "[INFO 10-29 16:40:28] ax.service.ax_client: Saved JSON-serialized state of optimization to `/Users/thomasdodd/Library/CloudStorage/OneDrive-MillfieldEnterprisesLimited/Cambridge/GitHub/BO4ACST/Notebooks/Optimisation/Method20241028Dim2_qLogNoisyExpectedImprovement/AxExperiment.json`.\n",
      "[INFO 10-29 16:40:28] ax.service.ax_client: Completed trial 2 with data: {'t1': (314.0, None)}.\n",
      "[INFO 10-29 16:40:28] ax.service.ax_client: Saved JSON-serialized state of optimization to `/Users/thomasdodd/Library/CloudStorage/OneDrive-MillfieldEnterprisesLimited/Cambridge/GitHub/BO4ACST/Notebooks/Optimisation/Method20241028Dim2_qLogNoisyExpectedImprovement/AxExperiment.json`.\n",
      "[INFO 10-29 16:40:28] ax.service.ax_client: Completed trial 3 with data: {'t1': (914.0, None)}.\n",
      "[INFO 10-29 16:40:28] ax.service.ax_client: Saved JSON-serialized state of optimization to `/Users/thomasdodd/Library/CloudStorage/OneDrive-MillfieldEnterprisesLimited/Cambridge/GitHub/BO4ACST/Notebooks/Optimisation/Method20241028Dim2_qLogNoisyExpectedImprovement/AxExperiment.json`.\n",
      "[INFO 10-29 16:40:28] ax.service.ax_client: Completed trial 4 with data: {'t1': (74.0, None)}.\n",
      "[INFO 10-29 16:40:28] ax.service.ax_client: Saved JSON-serialized state of optimization to `/Users/thomasdodd/Library/CloudStorage/OneDrive-MillfieldEnterprisesLimited/Cambridge/GitHub/BO4ACST/Notebooks/Optimisation/Method20241028Dim2_qLogNoisyExpectedImprovement/AxExperiment.json`.\n",
      "[INFO 10-29 16:40:28] ax.service.ax_client: Completed trial 5 with data: {'t1': (234.0, None)}.\n",
      "[INFO 10-29 16:40:28] ax.service.ax_client: Saved JSON-serialized state of optimization to `/Users/thomasdodd/Library/CloudStorage/OneDrive-MillfieldEnterprisesLimited/Cambridge/GitHub/BO4ACST/Notebooks/Optimisation/Method20241028Dim2_qLogNoisyExpectedImprovement/AxExperiment.json`.\n",
      "[INFO 10-29 16:40:28] ax.service.ax_client: Completed trial 6 with data: {'t1': (234.0, None)}.\n",
      "[INFO 10-29 16:40:28] ax.service.ax_client: Saved JSON-serialized state of optimization to `/Users/thomasdodd/Library/CloudStorage/OneDrive-MillfieldEnterprisesLimited/Cambridge/GitHub/BO4ACST/Notebooks/Optimisation/Method20241028Dim2_qLogNoisyExpectedImprovement/AxExperiment.json`.\n",
      "[INFO 10-29 16:40:28] ax.service.ax_client: Completed trial 7 with data: {'t1': (194.0, None)}.\n",
      "[INFO 10-29 16:40:28] ax.service.ax_client: Saved JSON-serialized state of optimization to `/Users/thomasdodd/Library/CloudStorage/OneDrive-MillfieldEnterprisesLimited/Cambridge/GitHub/BO4ACST/Notebooks/Optimisation/Method20241028Dim2_qLogNoisyExpectedImprovement/AxExperiment.json`.\n",
      "[INFO 10-29 16:40:28] ax.service.ax_client: Completed trial 8 with data: {'t1': (1154.0, None)}.\n",
      "[INFO 10-29 16:40:28] ax.service.ax_client: Saved JSON-serialized state of optimization to `/Users/thomasdodd/Library/CloudStorage/OneDrive-MillfieldEnterprisesLimited/Cambridge/GitHub/BO4ACST/Notebooks/Optimisation/Method20241028Dim2_qLogNoisyExpectedImprovement/AxExperiment.json`.\n",
      "[WARNING 10-29 16:40:28] ax.service.utils.report_utils: Column reason missing for all trials. Not appending column.\n",
      "[WARNING 10-29 16:40:28] ax.service.utils.report_utils: Column reason missing for all trials. Not appending column.\n"
     ]
    },
    {
     "name": "stdout",
     "output_type": "stream",
     "text": [
      "[74.         24.31899265 24.31899265  0.21266544  0.21266544  0.21266544\n",
      "  0.21266544  0.21266544  0.21266544  0.21266544  0.21266544  0.21266544\n",
      "  0.21266544  0.21266544  0.21266544  0.21266544]\n",
      "A new experiment has been created and initialised.\n",
      "No previous or current trials detected - initialising prior-forming trials.\n",
      "Samples gridded = 9\n",
      "There are no trials currently running - initialising Bayesian iteration trials.\n"
     ]
    },
    {
     "name": "stderr",
     "output_type": "stream",
     "text": [
      "[INFO 10-29 16:40:33] ax.service.ax_client: Generated new trial 9 with parameters {'x1': -2.659628, 'x2': 5.817172} using model BoTorch.\n",
      "[INFO 10-29 16:40:33] ax.service.ax_client: Saved JSON-serialized state of optimization to `/Users/thomasdodd/Library/CloudStorage/OneDrive-MillfieldEnterprisesLimited/Cambridge/GitHub/BO4ACST/Notebooks/Optimisation/Method20241028Dim2_qLogNoisyExpectedImprovement/AxExperiment.json`.\n",
      "/Users/thomasdodd/miniconda3/envs/BO4ACST_env/lib/python3.11/site-packages/ax/core/data.py:288: FutureWarning: The behavior of DataFrame concatenation with empty or all-NA entries is deprecated. In a future version, this will no longer exclude empty or all-NA columns when determining the result dtypes. To retain the old behavior, exclude the relevant entries before the concat operation.\n",
      "  return cls(df=pd.concat(dfs, axis=0, sort=True))\n",
      "[WARNING 10-29 16:40:33] ax.service.utils.report_utils: Column reason missing for all trials. Not appending column.\n",
      "/Users/thomasdodd/miniconda3/envs/BO4ACST_env/lib/python3.11/site-packages/ax/core/data.py:288: FutureWarning: The behavior of DataFrame concatenation with empty or all-NA entries is deprecated. In a future version, this will no longer exclude empty or all-NA columns when determining the result dtypes. To retain the old behavior, exclude the relevant entries before the concat operation.\n",
      "  return cls(df=pd.concat(dfs, axis=0, sort=True))\n",
      "[WARNING 10-29 16:40:33] ax.service.utils.report_utils: Column reason missing for all trials. Not appending column.\n",
      "[INFO 10-29 16:40:33] ax.service.ax_client: Completed trial 9 with data: {'t1': (24.16827, None)}.\n",
      "[INFO 10-29 16:40:33] ax.service.ax_client: Saved JSON-serialized state of optimization to `/Users/thomasdodd/Library/CloudStorage/OneDrive-MillfieldEnterprisesLimited/Cambridge/GitHub/BO4ACST/Notebooks/Optimisation/Method20241028Dim2_qLogNoisyExpectedImprovement/AxExperiment.json`.\n",
      "[WARNING 10-29 16:40:33] ax.service.utils.report_utils: Column reason missing for all trials. Not appending column.\n",
      "[WARNING 10-29 16:40:33] ax.service.utils.report_utils: Column reason missing for all trials. Not appending column.\n"
     ]
    },
    {
     "name": "stdout",
     "output_type": "stream",
     "text": [
      "There are no trials currently running - initialising Bayesian iteration trials.\n"
     ]
    },
    {
     "name": "stderr",
     "output_type": "stream",
     "text": [
      "[INFO 10-29 16:40:37] ax.service.ax_client: Generated new trial 10 with parameters {'x1': 4.926893, 'x2': -1.65713} using model BoTorch.\n",
      "[INFO 10-29 16:40:37] ax.service.ax_client: Saved JSON-serialized state of optimization to `/Users/thomasdodd/Library/CloudStorage/OneDrive-MillfieldEnterprisesLimited/Cambridge/GitHub/BO4ACST/Notebooks/Optimisation/Method20241028Dim2_qLogNoisyExpectedImprovement/AxExperiment.json`.\n",
      "/Users/thomasdodd/miniconda3/envs/BO4ACST_env/lib/python3.11/site-packages/ax/core/data.py:288: FutureWarning: The behavior of DataFrame concatenation with empty or all-NA entries is deprecated. In a future version, this will no longer exclude empty or all-NA columns when determining the result dtypes. To retain the old behavior, exclude the relevant entries before the concat operation.\n",
      "  return cls(df=pd.concat(dfs, axis=0, sort=True))\n",
      "[WARNING 10-29 16:40:37] ax.service.utils.report_utils: Column reason missing for all trials. Not appending column.\n",
      "/Users/thomasdodd/miniconda3/envs/BO4ACST_env/lib/python3.11/site-packages/ax/core/data.py:288: FutureWarning: The behavior of DataFrame concatenation with empty or all-NA entries is deprecated. In a future version, this will no longer exclude empty or all-NA columns when determining the result dtypes. To retain the old behavior, exclude the relevant entries before the concat operation.\n",
      "  return cls(df=pd.concat(dfs, axis=0, sort=True))\n",
      "[WARNING 10-29 16:40:37] ax.service.utils.report_utils: Column reason missing for all trials. Not appending column.\n",
      "[INFO 10-29 16:40:37] ax.service.ax_client: Completed trial 10 with data: {'t1': (39.242333, None)}.\n",
      "[INFO 10-29 16:40:37] ax.service.ax_client: Saved JSON-serialized state of optimization to `/Users/thomasdodd/Library/CloudStorage/OneDrive-MillfieldEnterprisesLimited/Cambridge/GitHub/BO4ACST/Notebooks/Optimisation/Method20241028Dim2_qLogNoisyExpectedImprovement/AxExperiment.json`.\n",
      "[WARNING 10-29 16:40:37] ax.service.utils.report_utils: Column reason missing for all trials. Not appending column.\n",
      "[WARNING 10-29 16:40:37] ax.service.utils.report_utils: Column reason missing for all trials. Not appending column.\n"
     ]
    },
    {
     "name": "stdout",
     "output_type": "stream",
     "text": [
      "There are no trials currently running - initialising Bayesian iteration trials.\n"
     ]
    },
    {
     "name": "stderr",
     "output_type": "stream",
     "text": [
      "[INFO 10-29 16:40:41] ax.service.ax_client: Generated new trial 11 with parameters {'x1': 1.47605, 'x2': 2.726995} using model BoTorch.\n",
      "[INFO 10-29 16:40:41] ax.service.ax_client: Saved JSON-serialized state of optimization to `/Users/thomasdodd/Library/CloudStorage/OneDrive-MillfieldEnterprisesLimited/Cambridge/GitHub/BO4ACST/Notebooks/Optimisation/Method20241028Dim2_qLogNoisyExpectedImprovement/AxExperiment.json`.\n",
      "/Users/thomasdodd/miniconda3/envs/BO4ACST_env/lib/python3.11/site-packages/ax/core/data.py:288: FutureWarning: The behavior of DataFrame concatenation with empty or all-NA entries is deprecated. In a future version, this will no longer exclude empty or all-NA columns when determining the result dtypes. To retain the old behavior, exclude the relevant entries before the concat operation.\n",
      "  return cls(df=pd.concat(dfs, axis=0, sort=True))\n",
      "[WARNING 10-29 16:40:41] ax.service.utils.report_utils: Column reason missing for all trials. Not appending column.\n",
      "/Users/thomasdodd/miniconda3/envs/BO4ACST_env/lib/python3.11/site-packages/ax/core/data.py:288: FutureWarning: The behavior of DataFrame concatenation with empty or all-NA entries is deprecated. In a future version, this will no longer exclude empty or all-NA columns when determining the result dtypes. To retain the old behavior, exclude the relevant entries before the concat operation.\n",
      "  return cls(df=pd.concat(dfs, axis=0, sort=True))\n",
      "[WARNING 10-29 16:40:41] ax.service.utils.report_utils: Column reason missing for all trials. Not appending column.\n",
      "[INFO 10-29 16:40:41] ax.service.ax_client: Completed trial 11 with data: {'t1': (0.466065, None)}.\n",
      "[INFO 10-29 16:40:41] ax.service.ax_client: Saved JSON-serialized state of optimization to `/Users/thomasdodd/Library/CloudStorage/OneDrive-MillfieldEnterprisesLimited/Cambridge/GitHub/BO4ACST/Notebooks/Optimisation/Method20241028Dim2_qLogNoisyExpectedImprovement/AxExperiment.json`.\n",
      "[WARNING 10-29 16:40:41] ax.service.utils.report_utils: Column reason missing for all trials. Not appending column.\n",
      "[WARNING 10-29 16:40:41] ax.service.utils.report_utils: Column reason missing for all trials. Not appending column.\n"
     ]
    },
    {
     "name": "stdout",
     "output_type": "stream",
     "text": [
      "There are no trials currently running - initialising Bayesian iteration trials.\n"
     ]
    },
    {
     "name": "stderr",
     "output_type": "stream",
     "text": [
      "[INFO 10-29 16:40:46] ax.service.ax_client: Generated new trial 12 with parameters {'x1': -4.167311, 'x2': 7.836591} using model BoTorch.\n",
      "[INFO 10-29 16:40:46] ax.service.ax_client: Saved JSON-serialized state of optimization to `/Users/thomasdodd/Library/CloudStorage/OneDrive-MillfieldEnterprisesLimited/Cambridge/GitHub/BO4ACST/Notebooks/Optimisation/Method20241028Dim2_qLogNoisyExpectedImprovement/AxExperiment.json`.\n",
      "/Users/thomasdodd/miniconda3/envs/BO4ACST_env/lib/python3.11/site-packages/ax/core/data.py:288: FutureWarning: The behavior of DataFrame concatenation with empty or all-NA entries is deprecated. In a future version, this will no longer exclude empty or all-NA columns when determining the result dtypes. To retain the old behavior, exclude the relevant entries before the concat operation.\n",
      "  return cls(df=pd.concat(dfs, axis=0, sort=True))\n",
      "[WARNING 10-29 16:40:46] ax.service.utils.report_utils: Column reason missing for all trials. Not appending column.\n",
      "/Users/thomasdodd/miniconda3/envs/BO4ACST_env/lib/python3.11/site-packages/ax/core/data.py:288: FutureWarning: The behavior of DataFrame concatenation with empty or all-NA entries is deprecated. In a future version, this will no longer exclude empty or all-NA columns when determining the result dtypes. To retain the old behavior, exclude the relevant entries before the concat operation.\n",
      "  return cls(df=pd.concat(dfs, axis=0, sort=True))\n",
      "[WARNING 10-29 16:40:46] ax.service.utils.report_utils: Column reason missing for all trials. Not appending column.\n",
      "[INFO 10-29 16:40:46] ax.service.ax_client: Completed trial 12 with data: {'t1': (50.531209, None)}.\n",
      "[INFO 10-29 16:40:46] ax.service.ax_client: Saved JSON-serialized state of optimization to `/Users/thomasdodd/Library/CloudStorage/OneDrive-MillfieldEnterprisesLimited/Cambridge/GitHub/BO4ACST/Notebooks/Optimisation/Method20241028Dim2_qLogNoisyExpectedImprovement/AxExperiment.json`.\n",
      "[WARNING 10-29 16:40:46] ax.service.utils.report_utils: Column reason missing for all trials. Not appending column.\n",
      "[WARNING 10-29 16:40:46] ax.service.utils.report_utils: Column reason missing for all trials. Not appending column.\n"
     ]
    },
    {
     "name": "stdout",
     "output_type": "stream",
     "text": [
      "There are no trials currently running - initialising Bayesian iteration trials.\n"
     ]
    },
    {
     "name": "stderr",
     "output_type": "stream",
     "text": [
      "[INFO 10-29 16:40:52] ax.service.ax_client: Generated new trial 13 with parameters {'x1': -0.448739, 'x2': 3.946681} using model BoTorch.\n",
      "[INFO 10-29 16:40:52] ax.service.ax_client: Saved JSON-serialized state of optimization to `/Users/thomasdodd/Library/CloudStorage/OneDrive-MillfieldEnterprisesLimited/Cambridge/GitHub/BO4ACST/Notebooks/Optimisation/Method20241028Dim2_qLogNoisyExpectedImprovement/AxExperiment.json`.\n",
      "/Users/thomasdodd/miniconda3/envs/BO4ACST_env/lib/python3.11/site-packages/ax/core/data.py:288: FutureWarning: The behavior of DataFrame concatenation with empty or all-NA entries is deprecated. In a future version, this will no longer exclude empty or all-NA columns when determining the result dtypes. To retain the old behavior, exclude the relevant entries before the concat operation.\n",
      "  return cls(df=pd.concat(dfs, axis=0, sort=True))\n",
      "[WARNING 10-29 16:40:52] ax.service.utils.report_utils: Column reason missing for all trials. Not appending column.\n",
      "/Users/thomasdodd/miniconda3/envs/BO4ACST_env/lib/python3.11/site-packages/ax/core/data.py:288: FutureWarning: The behavior of DataFrame concatenation with empty or all-NA entries is deprecated. In a future version, this will no longer exclude empty or all-NA columns when determining the result dtypes. To retain the old behavior, exclude the relevant entries before the concat operation.\n",
      "  return cls(df=pd.concat(dfs, axis=0, sort=True))\n",
      "[WARNING 10-29 16:40:52] ax.service.utils.report_utils: Column reason missing for all trials. Not appending column.\n",
      "[INFO 10-29 16:40:52] ax.service.ax_client: Completed trial 13 with data: {'t1': (4.003296, None)}.\n",
      "[INFO 10-29 16:40:52] ax.service.ax_client: Saved JSON-serialized state of optimization to `/Users/thomasdodd/Library/CloudStorage/OneDrive-MillfieldEnterprisesLimited/Cambridge/GitHub/BO4ACST/Notebooks/Optimisation/Method20241028Dim2_qLogNoisyExpectedImprovement/AxExperiment.json`.\n",
      "[WARNING 10-29 16:40:52] ax.service.utils.report_utils: Column reason missing for all trials. Not appending column.\n",
      "[WARNING 10-29 16:40:52] ax.service.utils.report_utils: Column reason missing for all trials. Not appending column.\n"
     ]
    },
    {
     "name": "stdout",
     "output_type": "stream",
     "text": [
      "There are no trials currently running - initialising Bayesian iteration trials.\n"
     ]
    },
    {
     "name": "stderr",
     "output_type": "stream",
     "text": [
      "[INFO 10-29 16:40:59] ax.service.ax_client: Generated new trial 14 with parameters {'x1': 2.912654, 'x2': 0.646782} using model BoTorch.\n",
      "[INFO 10-29 16:40:59] ax.service.ax_client: Saved JSON-serialized state of optimization to `/Users/thomasdodd/Library/CloudStorage/OneDrive-MillfieldEnterprisesLimited/Cambridge/GitHub/BO4ACST/Notebooks/Optimisation/Method20241028Dim2_qLogNoisyExpectedImprovement/AxExperiment.json`.\n",
      "/Users/thomasdodd/miniconda3/envs/BO4ACST_env/lib/python3.11/site-packages/ax/core/data.py:288: FutureWarning: The behavior of DataFrame concatenation with empty or all-NA entries is deprecated. In a future version, this will no longer exclude empty or all-NA columns when determining the result dtypes. To retain the old behavior, exclude the relevant entries before the concat operation.\n",
      "  return cls(df=pd.concat(dfs, axis=0, sort=True))\n",
      "[WARNING 10-29 16:40:59] ax.service.utils.report_utils: Column reason missing for all trials. Not appending column.\n",
      "/Users/thomasdodd/miniconda3/envs/BO4ACST_env/lib/python3.11/site-packages/ax/core/data.py:288: FutureWarning: The behavior of DataFrame concatenation with empty or all-NA entries is deprecated. In a future version, this will no longer exclude empty or all-NA columns when determining the result dtypes. To retain the old behavior, exclude the relevant entries before the concat operation.\n",
      "  return cls(df=pd.concat(dfs, axis=0, sort=True))\n",
      "[WARNING 10-29 16:40:59] ax.service.utils.report_utils: Column reason missing for all trials. Not appending column.\n",
      "[INFO 10-29 16:40:59] ax.service.ax_client: Completed trial 14 with data: {'t1': (9.972268, None)}.\n",
      "[INFO 10-29 16:40:59] ax.service.ax_client: Saved JSON-serialized state of optimization to `/Users/thomasdodd/Library/CloudStorage/OneDrive-MillfieldEnterprisesLimited/Cambridge/GitHub/BO4ACST/Notebooks/Optimisation/Method20241028Dim2_qLogNoisyExpectedImprovement/AxExperiment.json`.\n",
      "[WARNING 10-29 16:40:59] ax.service.utils.report_utils: Column reason missing for all trials. Not appending column.\n",
      "[WARNING 10-29 16:40:59] ax.service.utils.report_utils: Column reason missing for all trials. Not appending column.\n"
     ]
    },
    {
     "name": "stdout",
     "output_type": "stream",
     "text": [
      "There are no trials currently running - initialising Bayesian iteration trials.\n"
     ]
    },
    {
     "name": "stderr",
     "output_type": "stream",
     "text": [
      "[INFO 10-29 16:41:06] ax.service.ax_client: Generated new trial 15 with parameters {'x1': 0.786757, 'x2': 2.315696} using model BoTorch.\n",
      "[INFO 10-29 16:41:06] ax.service.ax_client: Saved JSON-serialized state of optimization to `/Users/thomasdodd/Library/CloudStorage/OneDrive-MillfieldEnterprisesLimited/Cambridge/GitHub/BO4ACST/Notebooks/Optimisation/Method20241028Dim2_qLogNoisyExpectedImprovement/AxExperiment.json`.\n",
      "/Users/thomasdodd/miniconda3/envs/BO4ACST_env/lib/python3.11/site-packages/ax/core/data.py:288: FutureWarning: The behavior of DataFrame concatenation with empty or all-NA entries is deprecated. In a future version, this will no longer exclude empty or all-NA columns when determining the result dtypes. To retain the old behavior, exclude the relevant entries before the concat operation.\n",
      "  return cls(df=pd.concat(dfs, axis=0, sort=True))\n",
      "[WARNING 10-29 16:41:06] ax.service.utils.report_utils: Column reason missing for all trials. Not appending column.\n",
      "/Users/thomasdodd/miniconda3/envs/BO4ACST_env/lib/python3.11/site-packages/ax/core/data.py:288: FutureWarning: The behavior of DataFrame concatenation with empty or all-NA entries is deprecated. In a future version, this will no longer exclude empty or all-NA columns when determining the result dtypes. To retain the old behavior, exclude the relevant entries before the concat operation.\n",
      "  return cls(df=pd.concat(dfs, axis=0, sort=True))\n",
      "[WARNING 10-29 16:41:06] ax.service.utils.report_utils: Column reason missing for all trials. Not appending column.\n",
      "[INFO 10-29 16:41:06] ax.service.ax_client: Completed trial 15 with data: {'t1': (3.736108, None)}.\n",
      "[INFO 10-29 16:41:06] ax.service.ax_client: Saved JSON-serialized state of optimization to `/Users/thomasdodd/Library/CloudStorage/OneDrive-MillfieldEnterprisesLimited/Cambridge/GitHub/BO4ACST/Notebooks/Optimisation/Method20241028Dim2_qLogNoisyExpectedImprovement/AxExperiment.json`.\n",
      "[WARNING 10-29 16:41:06] ax.service.utils.report_utils: Column reason missing for all trials. Not appending column.\n",
      "[WARNING 10-29 16:41:06] ax.service.utils.report_utils: Column reason missing for all trials. Not appending column.\n"
     ]
    },
    {
     "name": "stdout",
     "output_type": "stream",
     "text": [
      "There are no trials currently running - initialising Bayesian iteration trials.\n"
     ]
    },
    {
     "name": "stderr",
     "output_type": "stream",
     "text": [
      "[INFO 10-29 16:41:14] ax.service.ax_client: Generated new trial 16 with parameters {'x1': 0.084688, 'x2': 4.123181} using model BoTorch.\n",
      "[INFO 10-29 16:41:14] ax.service.ax_client: Saved JSON-serialized state of optimization to `/Users/thomasdodd/Library/CloudStorage/OneDrive-MillfieldEnterprisesLimited/Cambridge/GitHub/BO4ACST/Notebooks/Optimisation/Method20241028Dim2_qLogNoisyExpectedImprovement/AxExperiment.json`.\n",
      "/Users/thomasdodd/miniconda3/envs/BO4ACST_env/lib/python3.11/site-packages/ax/core/data.py:288: FutureWarning: The behavior of DataFrame concatenation with empty or all-NA entries is deprecated. In a future version, this will no longer exclude empty or all-NA columns when determining the result dtypes. To retain the old behavior, exclude the relevant entries before the concat operation.\n",
      "  return cls(df=pd.concat(dfs, axis=0, sort=True))\n",
      "[WARNING 10-29 16:41:14] ax.service.utils.report_utils: Column reason missing for all trials. Not appending column.\n",
      "/Users/thomasdodd/miniconda3/envs/BO4ACST_env/lib/python3.11/site-packages/ax/core/data.py:288: FutureWarning: The behavior of DataFrame concatenation with empty or all-NA entries is deprecated. In a future version, this will no longer exclude empty or all-NA columns when determining the result dtypes. To retain the old behavior, exclude the relevant entries before the concat operation.\n",
      "  return cls(df=pd.concat(dfs, axis=0, sort=True))\n",
      "[WARNING 10-29 16:41:14] ax.service.utils.report_utils: Column reason missing for all trials. Not appending column.\n",
      "[INFO 10-29 16:41:14] ax.service.ax_client: Completed trial 16 with data: {'t1': (2.27217, None)}.\n",
      "[INFO 10-29 16:41:14] ax.service.ax_client: Saved JSON-serialized state of optimization to `/Users/thomasdodd/Library/CloudStorage/OneDrive-MillfieldEnterprisesLimited/Cambridge/GitHub/BO4ACST/Notebooks/Optimisation/Method20241028Dim2_qLogNoisyExpectedImprovement/AxExperiment.json`.\n",
      "[WARNING 10-29 16:41:14] ax.service.utils.report_utils: Column reason missing for all trials. Not appending column.\n",
      "[WARNING 10-29 16:41:14] ax.service.utils.report_utils: Column reason missing for all trials. Not appending column.\n"
     ]
    },
    {
     "name": "stdout",
     "output_type": "stream",
     "text": [
      "There are no trials currently running - initialising Bayesian iteration trials.\n"
     ]
    },
    {
     "name": "stderr",
     "output_type": "stream",
     "text": [
      "[INFO 10-29 16:41:23] ax.service.ax_client: Generated new trial 17 with parameters {'x1': 0.772533, 'x2': 2.836595} using model BoTorch.\n",
      "[INFO 10-29 16:41:23] ax.service.ax_client: Saved JSON-serialized state of optimization to `/Users/thomasdodd/Library/CloudStorage/OneDrive-MillfieldEnterprisesLimited/Cambridge/GitHub/BO4ACST/Notebooks/Optimisation/Method20241028Dim2_qLogNoisyExpectedImprovement/AxExperiment.json`.\n",
      "/Users/thomasdodd/miniconda3/envs/BO4ACST_env/lib/python3.11/site-packages/ax/core/data.py:288: FutureWarning: The behavior of DataFrame concatenation with empty or all-NA entries is deprecated. In a future version, this will no longer exclude empty or all-NA columns when determining the result dtypes. To retain the old behavior, exclude the relevant entries before the concat operation.\n",
      "  return cls(df=pd.concat(dfs, axis=0, sort=True))\n",
      "[WARNING 10-29 16:41:23] ax.service.utils.report_utils: Column reason missing for all trials. Not appending column.\n",
      "/Users/thomasdodd/miniconda3/envs/BO4ACST_env/lib/python3.11/site-packages/ax/core/data.py:288: FutureWarning: The behavior of DataFrame concatenation with empty or all-NA entries is deprecated. In a future version, this will no longer exclude empty or all-NA columns when determining the result dtypes. To retain the old behavior, exclude the relevant entries before the concat operation.\n",
      "  return cls(df=pd.concat(dfs, axis=0, sort=True))\n",
      "[WARNING 10-29 16:41:23] ax.service.utils.report_utils: Column reason missing for all trials. Not appending column.\n",
      "[INFO 10-29 16:41:23] ax.service.ax_client: Completed trial 17 with data: {'t1': (0.689567, None)}.\n",
      "[INFO 10-29 16:41:23] ax.service.ax_client: Saved JSON-serialized state of optimization to `/Users/thomasdodd/Library/CloudStorage/OneDrive-MillfieldEnterprisesLimited/Cambridge/GitHub/BO4ACST/Notebooks/Optimisation/Method20241028Dim2_qLogNoisyExpectedImprovement/AxExperiment.json`.\n",
      "[WARNING 10-29 16:41:23] ax.service.utils.report_utils: Column reason missing for all trials. Not appending column.\n",
      "[WARNING 10-29 16:41:23] ax.service.utils.report_utils: Column reason missing for all trials. Not appending column.\n"
     ]
    },
    {
     "name": "stdout",
     "output_type": "stream",
     "text": [
      "There are no trials currently running - initialising Bayesian iteration trials.\n"
     ]
    },
    {
     "name": "stderr",
     "output_type": "stream",
     "text": [
      "[INFO 10-29 16:41:30] ax.service.ax_client: Generated new trial 18 with parameters {'x1': 1.84711, 'x2': 1.718808} using model BoTorch.\n",
      "[INFO 10-29 16:41:30] ax.service.ax_client: Saved JSON-serialized state of optimization to `/Users/thomasdodd/Library/CloudStorage/OneDrive-MillfieldEnterprisesLimited/Cambridge/GitHub/BO4ACST/Notebooks/Optimisation/Method20241028Dim2_qLogNoisyExpectedImprovement/AxExperiment.json`.\n",
      "/Users/thomasdodd/miniconda3/envs/BO4ACST_env/lib/python3.11/site-packages/ax/core/data.py:288: FutureWarning: The behavior of DataFrame concatenation with empty or all-NA entries is deprecated. In a future version, this will no longer exclude empty or all-NA columns when determining the result dtypes. To retain the old behavior, exclude the relevant entries before the concat operation.\n",
      "  return cls(df=pd.concat(dfs, axis=0, sort=True))\n",
      "[WARNING 10-29 16:41:30] ax.service.utils.report_utils: Column reason missing for all trials. Not appending column.\n",
      "/Users/thomasdodd/miniconda3/envs/BO4ACST_env/lib/python3.11/site-packages/ax/core/data.py:288: FutureWarning: The behavior of DataFrame concatenation with empty or all-NA entries is deprecated. In a future version, this will no longer exclude empty or all-NA columns when determining the result dtypes. To retain the old behavior, exclude the relevant entries before the concat operation.\n",
      "  return cls(df=pd.concat(dfs, axis=0, sort=True))\n",
      "[WARNING 10-29 16:41:30] ax.service.utils.report_utils: Column reason missing for all trials. Not appending column.\n",
      "[INFO 10-29 16:41:30] ax.service.ax_client: Completed trial 18 with data: {'t1': (3.112755, None)}.\n",
      "[INFO 10-29 16:41:30] ax.service.ax_client: Saved JSON-serialized state of optimization to `/Users/thomasdodd/Library/CloudStorage/OneDrive-MillfieldEnterprisesLimited/Cambridge/GitHub/BO4ACST/Notebooks/Optimisation/Method20241028Dim2_qLogNoisyExpectedImprovement/AxExperiment.json`.\n",
      "[WARNING 10-29 16:41:30] ax.service.utils.report_utils: Column reason missing for all trials. Not appending column.\n",
      "[WARNING 10-29 16:41:30] ax.service.utils.report_utils: Column reason missing for all trials. Not appending column.\n"
     ]
    },
    {
     "name": "stdout",
     "output_type": "stream",
     "text": [
      "There are no trials currently running - initialising Bayesian iteration trials.\n"
     ]
    },
    {
     "name": "stderr",
     "output_type": "stream",
     "text": [
      "[INFO 10-29 16:41:38] ax.service.ax_client: Generated new trial 19 with parameters {'x1': 0.017116, 'x2': 3.233676} using model BoTorch.\n",
      "[INFO 10-29 16:41:38] ax.service.ax_client: Saved JSON-serialized state of optimization to `/Users/thomasdodd/Library/CloudStorage/OneDrive-MillfieldEnterprisesLimited/Cambridge/GitHub/BO4ACST/Notebooks/Optimisation/Method20241028Dim2_qLogNoisyExpectedImprovement/AxExperiment.json`.\n",
      "/Users/thomasdodd/miniconda3/envs/BO4ACST_env/lib/python3.11/site-packages/ax/core/data.py:288: FutureWarning: The behavior of DataFrame concatenation with empty or all-NA entries is deprecated. In a future version, this will no longer exclude empty or all-NA columns when determining the result dtypes. To retain the old behavior, exclude the relevant entries before the concat operation.\n",
      "  return cls(df=pd.concat(dfs, axis=0, sort=True))\n",
      "[WARNING 10-29 16:41:38] ax.service.utils.report_utils: Column reason missing for all trials. Not appending column.\n",
      "/Users/thomasdodd/miniconda3/envs/BO4ACST_env/lib/python3.11/site-packages/ax/core/data.py:288: FutureWarning: The behavior of DataFrame concatenation with empty or all-NA entries is deprecated. In a future version, this will no longer exclude empty or all-NA columns when determining the result dtypes. To retain the old behavior, exclude the relevant entries before the concat operation.\n",
      "  return cls(df=pd.concat(dfs, axis=0, sort=True))\n",
      "[WARNING 10-29 16:41:38] ax.service.utils.report_utils: Column reason missing for all trials. Not appending column.\n",
      "[INFO 10-29 16:41:38] ax.service.ax_client: Completed trial 19 with data: {'t1': (3.265917, None)}.\n",
      "[INFO 10-29 16:41:38] ax.service.ax_client: Saved JSON-serialized state of optimization to `/Users/thomasdodd/Library/CloudStorage/OneDrive-MillfieldEnterprisesLimited/Cambridge/GitHub/BO4ACST/Notebooks/Optimisation/Method20241028Dim2_qLogNoisyExpectedImprovement/AxExperiment.json`.\n",
      "[WARNING 10-29 16:41:38] ax.service.utils.report_utils: Column reason missing for all trials. Not appending column.\n",
      "[WARNING 10-29 16:41:38] ax.service.utils.report_utils: Column reason missing for all trials. Not appending column.\n"
     ]
    },
    {
     "name": "stdout",
     "output_type": "stream",
     "text": [
      "There are no trials currently running - initialising Bayesian iteration trials.\n"
     ]
    },
    {
     "name": "stderr",
     "output_type": "stream",
     "text": [
      "[INFO 10-29 16:41:45] ax.service.ax_client: Generated new trial 20 with parameters {'x1': 0.185712, 'x2': 3.477904} using model BoTorch.\n",
      "[INFO 10-29 16:41:45] ax.service.ax_client: Saved JSON-serialized state of optimization to `/Users/thomasdodd/Library/CloudStorage/OneDrive-MillfieldEnterprisesLimited/Cambridge/GitHub/BO4ACST/Notebooks/Optimisation/Method20241028Dim2_qLogNoisyExpectedImprovement/AxExperiment.json`.\n",
      "/Users/thomasdodd/miniconda3/envs/BO4ACST_env/lib/python3.11/site-packages/ax/core/data.py:288: FutureWarning: The behavior of DataFrame concatenation with empty or all-NA entries is deprecated. In a future version, this will no longer exclude empty or all-NA columns when determining the result dtypes. To retain the old behavior, exclude the relevant entries before the concat operation.\n",
      "  return cls(df=pd.concat(dfs, axis=0, sort=True))\n",
      "[WARNING 10-29 16:41:45] ax.service.utils.report_utils: Column reason missing for all trials. Not appending column.\n",
      "/Users/thomasdodd/miniconda3/envs/BO4ACST_env/lib/python3.11/site-packages/ax/core/data.py:288: FutureWarning: The behavior of DataFrame concatenation with empty or all-NA entries is deprecated. In a future version, this will no longer exclude empty or all-NA columns when determining the result dtypes. To retain the old behavior, exclude the relevant entries before the concat operation.\n",
      "  return cls(df=pd.concat(dfs, axis=0, sort=True))\n",
      "[WARNING 10-29 16:41:45] ax.service.utils.report_utils: Column reason missing for all trials. Not appending column.\n",
      "[INFO 10-29 16:41:45] ax.service.ax_client: Completed trial 20 with data: {'t1': (1.344074, None)}.\n",
      "[INFO 10-29 16:41:45] ax.service.ax_client: Saved JSON-serialized state of optimization to `/Users/thomasdodd/Library/CloudStorage/OneDrive-MillfieldEnterprisesLimited/Cambridge/GitHub/BO4ACST/Notebooks/Optimisation/Method20241028Dim2_qLogNoisyExpectedImprovement/AxExperiment.json`.\n",
      "[WARNING 10-29 16:41:45] ax.service.utils.report_utils: Column reason missing for all trials. Not appending column.\n",
      "[WARNING 10-29 16:41:45] ax.service.utils.report_utils: Column reason missing for all trials. Not appending column.\n"
     ]
    },
    {
     "name": "stdout",
     "output_type": "stream",
     "text": [
      "There are no trials currently running - initialising Bayesian iteration trials.\n"
     ]
    },
    {
     "name": "stderr",
     "output_type": "stream",
     "text": [
      "[INFO 10-29 16:41:55] ax.service.ax_client: Generated new trial 21 with parameters {'x1': 1.309776, 'x2': 2.229343} using model BoTorch.\n",
      "[INFO 10-29 16:41:55] ax.service.ax_client: Saved JSON-serialized state of optimization to `/Users/thomasdodd/Library/CloudStorage/OneDrive-MillfieldEnterprisesLimited/Cambridge/GitHub/BO4ACST/Notebooks/Optimisation/Method20241028Dim2_qLogNoisyExpectedImprovement/AxExperiment.json`.\n",
      "/Users/thomasdodd/miniconda3/envs/BO4ACST_env/lib/python3.11/site-packages/ax/core/data.py:288: FutureWarning: The behavior of DataFrame concatenation with empty or all-NA entries is deprecated. In a future version, this will no longer exclude empty or all-NA columns when determining the result dtypes. To retain the old behavior, exclude the relevant entries before the concat operation.\n",
      "  return cls(df=pd.concat(dfs, axis=0, sort=True))\n",
      "[WARNING 10-29 16:41:55] ax.service.utils.report_utils: Column reason missing for all trials. Not appending column.\n",
      "/Users/thomasdodd/miniconda3/envs/BO4ACST_env/lib/python3.11/site-packages/ax/core/data.py:288: FutureWarning: The behavior of DataFrame concatenation with empty or all-NA entries is deprecated. In a future version, this will no longer exclude empty or all-NA columns when determining the result dtypes. To retain the old behavior, exclude the relevant entries before the concat operation.\n",
      "  return cls(df=pd.concat(dfs, axis=0, sort=True))\n",
      "[WARNING 10-29 16:41:55] ax.service.utils.report_utils: Column reason missing for all trials. Not appending column.\n",
      "[INFO 10-29 16:41:55] ax.service.ax_client: Completed trial 21 with data: {'t1': (1.539517, None)}.\n",
      "[INFO 10-29 16:41:55] ax.service.ax_client: Saved JSON-serialized state of optimization to `/Users/thomasdodd/Library/CloudStorage/OneDrive-MillfieldEnterprisesLimited/Cambridge/GitHub/BO4ACST/Notebooks/Optimisation/Method20241028Dim2_qLogNoisyExpectedImprovement/AxExperiment.json`.\n",
      "[WARNING 10-29 16:41:55] ax.service.utils.report_utils: Column reason missing for all trials. Not appending column.\n",
      "[WARNING 10-29 16:41:55] ax.service.utils.report_utils: Column reason missing for all trials. Not appending column.\n"
     ]
    },
    {
     "name": "stdout",
     "output_type": "stream",
     "text": [
      "There are no trials currently running - initialising Bayesian iteration trials.\n"
     ]
    },
    {
     "name": "stderr",
     "output_type": "stream",
     "text": [
      "[INFO 10-29 16:42:07] ax.service.ax_client: Generated new trial 22 with parameters {'x1': 0.593686, 'x2': 2.776129} using model BoTorch.\n",
      "[INFO 10-29 16:42:07] ax.service.ax_client: Saved JSON-serialized state of optimization to `/Users/thomasdodd/Library/CloudStorage/OneDrive-MillfieldEnterprisesLimited/Cambridge/GitHub/BO4ACST/Notebooks/Optimisation/Method20241028Dim2_qLogNoisyExpectedImprovement/AxExperiment.json`.\n",
      "/Users/thomasdodd/miniconda3/envs/BO4ACST_env/lib/python3.11/site-packages/ax/core/data.py:288: FutureWarning: The behavior of DataFrame concatenation with empty or all-NA entries is deprecated. In a future version, this will no longer exclude empty or all-NA columns when determining the result dtypes. To retain the old behavior, exclude the relevant entries before the concat operation.\n",
      "  return cls(df=pd.concat(dfs, axis=0, sort=True))\n",
      "[WARNING 10-29 16:42:07] ax.service.utils.report_utils: Column reason missing for all trials. Not appending column.\n",
      "/Users/thomasdodd/miniconda3/envs/BO4ACST_env/lib/python3.11/site-packages/ax/core/data.py:288: FutureWarning: The behavior of DataFrame concatenation with empty or all-NA entries is deprecated. In a future version, this will no longer exclude empty or all-NA columns when determining the result dtypes. To retain the old behavior, exclude the relevant entries before the concat operation.\n",
      "  return cls(df=pd.concat(dfs, axis=0, sort=True))\n",
      "[WARNING 10-29 16:42:07] ax.service.utils.report_utils: Column reason missing for all trials. Not appending column.\n",
      "[INFO 10-29 16:42:07] ax.service.ax_client: Completed trial 22 with data: {'t1': (1.803743, None)}.\n",
      "[INFO 10-29 16:42:07] ax.service.ax_client: Saved JSON-serialized state of optimization to `/Users/thomasdodd/Library/CloudStorage/OneDrive-MillfieldEnterprisesLimited/Cambridge/GitHub/BO4ACST/Notebooks/Optimisation/Method20241028Dim2_qLogNoisyExpectedImprovement/AxExperiment.json`.\n",
      "[WARNING 10-29 16:42:07] ax.service.utils.report_utils: Column reason missing for all trials. Not appending column.\n",
      "[WARNING 10-29 16:42:07] ax.service.utils.report_utils: Column reason missing for all trials. Not appending column.\n"
     ]
    },
    {
     "name": "stdout",
     "output_type": "stream",
     "text": [
      "There are no trials currently running - initialising Bayesian iteration trials.\n"
     ]
    },
    {
     "name": "stderr",
     "output_type": "stream",
     "text": [
      "/Users/thomasdodd/miniconda3/envs/BO4ACST_env/lib/python3.11/site-packages/botorch/optim/optimize.py:568: RuntimeWarning: Optimization failed in `gen_candidates_scipy` with the following warning(s):\n",
      "[OptimizationWarning('Optimization failed within `scipy.optimize.minimize` with status 2 and message ABNORMAL_TERMINATION_IN_LNSRCH.'), OptimizationWarning('Optimization failed within `scipy.optimize.minimize` with status 2 and message ABNORMAL_TERMINATION_IN_LNSRCH.')]\n",
      "Trying again with a new set of initial conditions.\n",
      "  return _optimize_acqf_batch(opt_inputs=opt_inputs)\n",
      "/Users/thomasdodd/miniconda3/envs/BO4ACST_env/lib/python3.11/site-packages/botorch/optim/optimize.py:568: RuntimeWarning: Optimization failed on the second try, after generating a new set of initial conditions.\n",
      "  return _optimize_acqf_batch(opt_inputs=opt_inputs)\n",
      "[INFO 10-29 16:42:28] ax.service.ax_client: Generated new trial 23 with parameters {'x1': 0.890483, 'x2': 2.917374} using model BoTorch.\n",
      "[INFO 10-29 16:42:28] ax.service.ax_client: Saved JSON-serialized state of optimization to `/Users/thomasdodd/Library/CloudStorage/OneDrive-MillfieldEnterprisesLimited/Cambridge/GitHub/BO4ACST/Notebooks/Optimisation/Method20241028Dim2_qLogNoisyExpectedImprovement/AxExperiment.json`.\n",
      "/Users/thomasdodd/miniconda3/envs/BO4ACST_env/lib/python3.11/site-packages/ax/core/data.py:288: FutureWarning: The behavior of DataFrame concatenation with empty or all-NA entries is deprecated. In a future version, this will no longer exclude empty or all-NA columns when determining the result dtypes. To retain the old behavior, exclude the relevant entries before the concat operation.\n",
      "  return cls(df=pd.concat(dfs, axis=0, sort=True))\n",
      "[WARNING 10-29 16:42:28] ax.service.utils.report_utils: Column reason missing for all trials. Not appending column.\n",
      "/Users/thomasdodd/miniconda3/envs/BO4ACST_env/lib/python3.11/site-packages/ax/core/data.py:288: FutureWarning: The behavior of DataFrame concatenation with empty or all-NA entries is deprecated. In a future version, this will no longer exclude empty or all-NA columns when determining the result dtypes. To retain the old behavior, exclude the relevant entries before the concat operation.\n",
      "  return cls(df=pd.concat(dfs, axis=0, sort=True))\n",
      "[WARNING 10-29 16:42:28] ax.service.utils.report_utils: Column reason missing for all trials. Not appending column.\n",
      "[INFO 10-29 16:42:28] ax.service.ax_client: Completed trial 23 with data: {'t1': (0.166497, None)}.\n",
      "[INFO 10-29 16:42:28] ax.service.ax_client: Saved JSON-serialized state of optimization to `/Users/thomasdodd/Library/CloudStorage/OneDrive-MillfieldEnterprisesLimited/Cambridge/GitHub/BO4ACST/Notebooks/Optimisation/Method20241028Dim2_qLogNoisyExpectedImprovement/AxExperiment.json`.\n",
      "[WARNING 10-29 16:42:28] ax.service.utils.report_utils: Column reason missing for all trials. Not appending column.\n",
      "[INFO 10-29 16:42:28] ax.service.ax_client: Starting optimization with verbose logging. To disable logging, set the `verbose_logging` argument to `False`. Note that float values in the logs are rounded to 6 decimal points.\n",
      "[INFO 10-29 16:42:28] ax.service.utils.instantiation: Created search space: SearchSpace(parameters=[RangeParameter(name='x1', parameter_type=FLOAT, range=[-10.0, 10.0]), RangeParameter(name='x2', parameter_type=FLOAT, range=[-10.0, 10.0])], parameter_constraints=[]).\n",
      "[INFO 10-29 16:42:28] ax.service.ax_client: Saved JSON-serialized state of optimization to `/Users/thomasdodd/Library/CloudStorage/OneDrive-MillfieldEnterprisesLimited/Cambridge/GitHub/BO4ACST/Notebooks/Optimisation/Method20241028Dim2_qLogNoisyExpectedImprovement/AxExperiment.json`.\n",
      "[INFO 10-29 16:42:28] ax.core.experiment: Attached custom parameterizations [{'x1': -10.0, 'x2': -10.0}] as trial 0.\n",
      "[INFO 10-29 16:42:28] ax.core.experiment: Attached custom parameterizations [{'x1': 0.0, 'x2': -10.0}] as trial 1.\n",
      "[INFO 10-29 16:42:28] ax.core.experiment: Attached custom parameterizations [{'x1': 10.0, 'x2': -10.0}] as trial 2.\n",
      "[INFO 10-29 16:42:28] ax.core.experiment: Attached custom parameterizations [{'x1': -10.0, 'x2': 0.0}] as trial 3.\n",
      "[INFO 10-29 16:42:28] ax.core.experiment: Attached custom parameterizations [{'x1': 0.0, 'x2': 0.0}] as trial 4.\n",
      "[INFO 10-29 16:42:28] ax.core.experiment: Attached custom parameterizations [{'x1': 10.0, 'x2': 0.0}] as trial 5.\n",
      "[INFO 10-29 16:42:28] ax.core.experiment: Attached custom parameterizations [{'x1': -10.0, 'x2': 10.0}] as trial 6.\n",
      "[INFO 10-29 16:42:28] ax.core.experiment: Attached custom parameterizations [{'x1': 0.0, 'x2': 10.0}] as trial 7.\n",
      "[INFO 10-29 16:42:28] ax.core.experiment: Attached custom parameterizations [{'x1': 10.0, 'x2': 10.0}] as trial 8.\n",
      "[INFO 10-29 16:42:28] ax.service.ax_client: Saved JSON-serialized state of optimization to `/Users/thomasdodd/Library/CloudStorage/OneDrive-MillfieldEnterprisesLimited/Cambridge/GitHub/BO4ACST/Notebooks/Optimisation/Method20241028Dim2_qLogNoisyExpectedImprovement/AxExperiment.json`.\n",
      "[WARNING 10-29 16:42:28] ax.service.utils.report_utils: Column reason missing for all trials. Not appending column.\n",
      "[INFO 10-29 16:42:28] ax.service.utils.report_utils: No results present for the specified metrics `[Metric('t1')]`. Returning arm parameters and metadata only.\n",
      "[WARNING 10-29 16:42:28] ax.service.utils.report_utils: Column reason missing for all trials. Not appending column.\n",
      "[INFO 10-29 16:42:28] ax.service.utils.report_utils: No results present for the specified metrics `[Metric('t1')]`. Returning arm parameters and metadata only.\n",
      "[INFO 10-29 16:42:28] ax.service.ax_client: Completed trial 0 with data: {'t1': (2594.0, None)}.\n",
      "[INFO 10-29 16:42:28] ax.service.ax_client: Saved JSON-serialized state of optimization to `/Users/thomasdodd/Library/CloudStorage/OneDrive-MillfieldEnterprisesLimited/Cambridge/GitHub/BO4ACST/Notebooks/Optimisation/Method20241028Dim2_qLogNoisyExpectedImprovement/AxExperiment.json`.\n",
      "[INFO 10-29 16:42:28] ax.service.ax_client: Completed trial 1 with data: {'t1': (954.0, None)}.\n",
      "[INFO 10-29 16:42:28] ax.service.ax_client: Saved JSON-serialized state of optimization to `/Users/thomasdodd/Library/CloudStorage/OneDrive-MillfieldEnterprisesLimited/Cambridge/GitHub/BO4ACST/Notebooks/Optimisation/Method20241028Dim2_qLogNoisyExpectedImprovement/AxExperiment.json`.\n",
      "[INFO 10-29 16:42:28] ax.service.ax_client: Completed trial 2 with data: {'t1': (314.0, None)}.\n",
      "[INFO 10-29 16:42:28] ax.service.ax_client: Saved JSON-serialized state of optimization to `/Users/thomasdodd/Library/CloudStorage/OneDrive-MillfieldEnterprisesLimited/Cambridge/GitHub/BO4ACST/Notebooks/Optimisation/Method20241028Dim2_qLogNoisyExpectedImprovement/AxExperiment.json`.\n",
      "[INFO 10-29 16:42:28] ax.service.ax_client: Completed trial 3 with data: {'t1': (914.0, None)}.\n",
      "[INFO 10-29 16:42:28] ax.service.ax_client: Saved JSON-serialized state of optimization to `/Users/thomasdodd/Library/CloudStorage/OneDrive-MillfieldEnterprisesLimited/Cambridge/GitHub/BO4ACST/Notebooks/Optimisation/Method20241028Dim2_qLogNoisyExpectedImprovement/AxExperiment.json`.\n",
      "[INFO 10-29 16:42:28] ax.service.ax_client: Completed trial 4 with data: {'t1': (74.0, None)}.\n",
      "[INFO 10-29 16:42:28] ax.service.ax_client: Saved JSON-serialized state of optimization to `/Users/thomasdodd/Library/CloudStorage/OneDrive-MillfieldEnterprisesLimited/Cambridge/GitHub/BO4ACST/Notebooks/Optimisation/Method20241028Dim2_qLogNoisyExpectedImprovement/AxExperiment.json`.\n",
      "[INFO 10-29 16:42:28] ax.service.ax_client: Completed trial 5 with data: {'t1': (234.0, None)}.\n",
      "[INFO 10-29 16:42:28] ax.service.ax_client: Saved JSON-serialized state of optimization to `/Users/thomasdodd/Library/CloudStorage/OneDrive-MillfieldEnterprisesLimited/Cambridge/GitHub/BO4ACST/Notebooks/Optimisation/Method20241028Dim2_qLogNoisyExpectedImprovement/AxExperiment.json`.\n",
      "[INFO 10-29 16:42:28] ax.service.ax_client: Completed trial 6 with data: {'t1': (234.0, None)}.\n",
      "[INFO 10-29 16:42:28] ax.service.ax_client: Saved JSON-serialized state of optimization to `/Users/thomasdodd/Library/CloudStorage/OneDrive-MillfieldEnterprisesLimited/Cambridge/GitHub/BO4ACST/Notebooks/Optimisation/Method20241028Dim2_qLogNoisyExpectedImprovement/AxExperiment.json`.\n",
      "[INFO 10-29 16:42:28] ax.service.ax_client: Completed trial 7 with data: {'t1': (194.0, None)}.\n",
      "[INFO 10-29 16:42:28] ax.service.ax_client: Saved JSON-serialized state of optimization to `/Users/thomasdodd/Library/CloudStorage/OneDrive-MillfieldEnterprisesLimited/Cambridge/GitHub/BO4ACST/Notebooks/Optimisation/Method20241028Dim2_qLogNoisyExpectedImprovement/AxExperiment.json`.\n",
      "[INFO 10-29 16:42:28] ax.service.ax_client: Completed trial 8 with data: {'t1': (1154.0, None)}.\n",
      "[INFO 10-29 16:42:28] ax.service.ax_client: Saved JSON-serialized state of optimization to `/Users/thomasdodd/Library/CloudStorage/OneDrive-MillfieldEnterprisesLimited/Cambridge/GitHub/BO4ACST/Notebooks/Optimisation/Method20241028Dim2_qLogNoisyExpectedImprovement/AxExperiment.json`.\n",
      "[WARNING 10-29 16:42:28] ax.service.utils.report_utils: Column reason missing for all trials. Not appending column.\n",
      "[WARNING 10-29 16:42:28] ax.service.utils.report_utils: Column reason missing for all trials. Not appending column.\n"
     ]
    },
    {
     "name": "stdout",
     "output_type": "stream",
     "text": [
      "[74.         24.16826971 24.16826971  0.46606463  0.46606463  0.46606463\n",
      "  0.46606463  0.46606463  0.46606463  0.46606463  0.46606463  0.46606463\n",
      "  0.46606463  0.46606463  0.46606463  0.16649663]\n",
      "A new experiment has been created and initialised.\n",
      "No previous or current trials detected - initialising prior-forming trials.\n",
      "Samples gridded = 9\n",
      "There are no trials currently running - initialising Bayesian iteration trials.\n"
     ]
    },
    {
     "name": "stderr",
     "output_type": "stream",
     "text": [
      "[INFO 10-29 16:42:31] ax.service.ax_client: Generated new trial 9 with parameters {'x1': -2.671737, 'x2': 5.831} using model BoTorch.\n",
      "[INFO 10-29 16:42:31] ax.service.ax_client: Saved JSON-serialized state of optimization to `/Users/thomasdodd/Library/CloudStorage/OneDrive-MillfieldEnterprisesLimited/Cambridge/GitHub/BO4ACST/Notebooks/Optimisation/Method20241028Dim2_qLogNoisyExpectedImprovement/AxExperiment.json`.\n",
      "/Users/thomasdodd/miniconda3/envs/BO4ACST_env/lib/python3.11/site-packages/ax/core/data.py:288: FutureWarning: The behavior of DataFrame concatenation with empty or all-NA entries is deprecated. In a future version, this will no longer exclude empty or all-NA columns when determining the result dtypes. To retain the old behavior, exclude the relevant entries before the concat operation.\n",
      "  return cls(df=pd.concat(dfs, axis=0, sort=True))\n",
      "[WARNING 10-29 16:42:31] ax.service.utils.report_utils: Column reason missing for all trials. Not appending column.\n",
      "/Users/thomasdodd/miniconda3/envs/BO4ACST_env/lib/python3.11/site-packages/ax/core/data.py:288: FutureWarning: The behavior of DataFrame concatenation with empty or all-NA entries is deprecated. In a future version, this will no longer exclude empty or all-NA columns when determining the result dtypes. To retain the old behavior, exclude the relevant entries before the concat operation.\n",
      "  return cls(df=pd.concat(dfs, axis=0, sort=True))\n",
      "[WARNING 10-29 16:42:31] ax.service.utils.report_utils: Column reason missing for all trials. Not appending column.\n",
      "[INFO 10-29 16:42:31] ax.service.ax_client: Completed trial 9 with data: {'t1': (24.32357, None)}.\n",
      "[INFO 10-29 16:42:31] ax.service.ax_client: Saved JSON-serialized state of optimization to `/Users/thomasdodd/Library/CloudStorage/OneDrive-MillfieldEnterprisesLimited/Cambridge/GitHub/BO4ACST/Notebooks/Optimisation/Method20241028Dim2_qLogNoisyExpectedImprovement/AxExperiment.json`.\n",
      "[WARNING 10-29 16:42:31] ax.service.utils.report_utils: Column reason missing for all trials. Not appending column.\n",
      "[WARNING 10-29 16:42:31] ax.service.utils.report_utils: Column reason missing for all trials. Not appending column.\n"
     ]
    },
    {
     "name": "stdout",
     "output_type": "stream",
     "text": [
      "There are no trials currently running - initialising Bayesian iteration trials.\n"
     ]
    },
    {
     "name": "stderr",
     "output_type": "stream",
     "text": [
      "[INFO 10-29 16:42:34] ax.service.ax_client: Generated new trial 10 with parameters {'x1': 4.957722, 'x2': -1.690727} using model BoTorch.\n",
      "[INFO 10-29 16:42:34] ax.service.ax_client: Saved JSON-serialized state of optimization to `/Users/thomasdodd/Library/CloudStorage/OneDrive-MillfieldEnterprisesLimited/Cambridge/GitHub/BO4ACST/Notebooks/Optimisation/Method20241028Dim2_qLogNoisyExpectedImprovement/AxExperiment.json`.\n",
      "/Users/thomasdodd/miniconda3/envs/BO4ACST_env/lib/python3.11/site-packages/ax/core/data.py:288: FutureWarning: The behavior of DataFrame concatenation with empty or all-NA entries is deprecated. In a future version, this will no longer exclude empty or all-NA columns when determining the result dtypes. To retain the old behavior, exclude the relevant entries before the concat operation.\n",
      "  return cls(df=pd.concat(dfs, axis=0, sort=True))\n",
      "[WARNING 10-29 16:42:34] ax.service.utils.report_utils: Column reason missing for all trials. Not appending column.\n",
      "/Users/thomasdodd/miniconda3/envs/BO4ACST_env/lib/python3.11/site-packages/ax/core/data.py:288: FutureWarning: The behavior of DataFrame concatenation with empty or all-NA entries is deprecated. In a future version, this will no longer exclude empty or all-NA columns when determining the result dtypes. To retain the old behavior, exclude the relevant entries before the concat operation.\n",
      "  return cls(df=pd.concat(dfs, axis=0, sort=True))\n",
      "[WARNING 10-29 16:42:34] ax.service.utils.report_utils: Column reason missing for all trials. Not appending column.\n",
      "[INFO 10-29 16:42:34] ax.service.ax_client: Completed trial 10 with data: {'t1': (39.815662, None)}.\n",
      "[INFO 10-29 16:42:34] ax.service.ax_client: Saved JSON-serialized state of optimization to `/Users/thomasdodd/Library/CloudStorage/OneDrive-MillfieldEnterprisesLimited/Cambridge/GitHub/BO4ACST/Notebooks/Optimisation/Method20241028Dim2_qLogNoisyExpectedImprovement/AxExperiment.json`.\n",
      "[WARNING 10-29 16:42:34] ax.service.utils.report_utils: Column reason missing for all trials. Not appending column.\n",
      "[WARNING 10-29 16:42:34] ax.service.utils.report_utils: Column reason missing for all trials. Not appending column.\n"
     ]
    },
    {
     "name": "stdout",
     "output_type": "stream",
     "text": [
      "There are no trials currently running - initialising Bayesian iteration trials.\n"
     ]
    },
    {
     "name": "stderr",
     "output_type": "stream",
     "text": [
      "[INFO 10-29 16:42:38] ax.service.ax_client: Generated new trial 11 with parameters {'x1': 1.37342, 'x2': 2.844521} using model BoTorch.\n",
      "[INFO 10-29 16:42:38] ax.service.ax_client: Saved JSON-serialized state of optimization to `/Users/thomasdodd/Library/CloudStorage/OneDrive-MillfieldEnterprisesLimited/Cambridge/GitHub/BO4ACST/Notebooks/Optimisation/Method20241028Dim2_qLogNoisyExpectedImprovement/AxExperiment.json`.\n",
      "/Users/thomasdodd/miniconda3/envs/BO4ACST_env/lib/python3.11/site-packages/ax/core/data.py:288: FutureWarning: The behavior of DataFrame concatenation with empty or all-NA entries is deprecated. In a future version, this will no longer exclude empty or all-NA columns when determining the result dtypes. To retain the old behavior, exclude the relevant entries before the concat operation.\n",
      "  return cls(df=pd.concat(dfs, axis=0, sort=True))\n",
      "[WARNING 10-29 16:42:38] ax.service.utils.report_utils: Column reason missing for all trials. Not appending column.\n",
      "/Users/thomasdodd/miniconda3/envs/BO4ACST_env/lib/python3.11/site-packages/ax/core/data.py:288: FutureWarning: The behavior of DataFrame concatenation with empty or all-NA entries is deprecated. In a future version, this will no longer exclude empty or all-NA columns when determining the result dtypes. To retain the old behavior, exclude the relevant entries before the concat operation.\n",
      "  return cls(df=pd.concat(dfs, axis=0, sort=True))\n",
      "[WARNING 10-29 16:42:38] ax.service.utils.report_utils: Column reason missing for all trials. Not appending column.\n",
      "[INFO 10-29 16:42:38] ax.service.ax_client: Completed trial 11 with data: {'t1': (0.353609, None)}.\n",
      "[INFO 10-29 16:42:38] ax.service.ax_client: Saved JSON-serialized state of optimization to `/Users/thomasdodd/Library/CloudStorage/OneDrive-MillfieldEnterprisesLimited/Cambridge/GitHub/BO4ACST/Notebooks/Optimisation/Method20241028Dim2_qLogNoisyExpectedImprovement/AxExperiment.json`.\n",
      "[WARNING 10-29 16:42:38] ax.service.utils.report_utils: Column reason missing for all trials. Not appending column.\n",
      "[WARNING 10-29 16:42:38] ax.service.utils.report_utils: Column reason missing for all trials. Not appending column.\n"
     ]
    },
    {
     "name": "stdout",
     "output_type": "stream",
     "text": [
      "There are no trials currently running - initialising Bayesian iteration trials.\n"
     ]
    },
    {
     "name": "stderr",
     "output_type": "stream",
     "text": [
      "[INFO 10-29 16:42:44] ax.service.ax_client: Generated new trial 12 with parameters {'x1': -4.340909, 'x2': 8.337136} using model BoTorch.\n",
      "[INFO 10-29 16:42:44] ax.service.ax_client: Saved JSON-serialized state of optimization to `/Users/thomasdodd/Library/CloudStorage/OneDrive-MillfieldEnterprisesLimited/Cambridge/GitHub/BO4ACST/Notebooks/Optimisation/Method20241028Dim2_qLogNoisyExpectedImprovement/AxExperiment.json`.\n",
      "/Users/thomasdodd/miniconda3/envs/BO4ACST_env/lib/python3.11/site-packages/ax/core/data.py:288: FutureWarning: The behavior of DataFrame concatenation with empty or all-NA entries is deprecated. In a future version, this will no longer exclude empty or all-NA columns when determining the result dtypes. To retain the old behavior, exclude the relevant entries before the concat operation.\n",
      "  return cls(df=pd.concat(dfs, axis=0, sort=True))\n",
      "[WARNING 10-29 16:42:44] ax.service.utils.report_utils: Column reason missing for all trials. Not appending column.\n",
      "/Users/thomasdodd/miniconda3/envs/BO4ACST_env/lib/python3.11/site-packages/ax/core/data.py:288: FutureWarning: The behavior of DataFrame concatenation with empty or all-NA entries is deprecated. In a future version, this will no longer exclude empty or all-NA columns when determining the result dtypes. To retain the old behavior, exclude the relevant entries before the concat operation.\n",
      "  return cls(df=pd.concat(dfs, axis=0, sort=True))\n",
      "[WARNING 10-29 16:42:44] ax.service.utils.report_utils: Column reason missing for all trials. Not appending column.\n",
      "[INFO 10-29 16:42:44] ax.service.ax_client: Completed trial 12 with data: {'t1': (57.010388, None)}.\n",
      "[INFO 10-29 16:42:44] ax.service.ax_client: Saved JSON-serialized state of optimization to `/Users/thomasdodd/Library/CloudStorage/OneDrive-MillfieldEnterprisesLimited/Cambridge/GitHub/BO4ACST/Notebooks/Optimisation/Method20241028Dim2_qLogNoisyExpectedImprovement/AxExperiment.json`.\n",
      "[WARNING 10-29 16:42:44] ax.service.utils.report_utils: Column reason missing for all trials. Not appending column.\n",
      "[WARNING 10-29 16:42:44] ax.service.utils.report_utils: Column reason missing for all trials. Not appending column.\n"
     ]
    },
    {
     "name": "stdout",
     "output_type": "stream",
     "text": [
      "There are no trials currently running - initialising Bayesian iteration trials.\n"
     ]
    },
    {
     "name": "stderr",
     "output_type": "stream",
     "text": [
      "[INFO 10-29 16:42:50] ax.service.ax_client: Generated new trial 13 with parameters {'x1': -0.564885, 'x2': 3.997344} using model BoTorch.\n",
      "[INFO 10-29 16:42:50] ax.service.ax_client: Saved JSON-serialized state of optimization to `/Users/thomasdodd/Library/CloudStorage/OneDrive-MillfieldEnterprisesLimited/Cambridge/GitHub/BO4ACST/Notebooks/Optimisation/Method20241028Dim2_qLogNoisyExpectedImprovement/AxExperiment.json`.\n",
      "/Users/thomasdodd/miniconda3/envs/BO4ACST_env/lib/python3.11/site-packages/ax/core/data.py:288: FutureWarning: The behavior of DataFrame concatenation with empty or all-NA entries is deprecated. In a future version, this will no longer exclude empty or all-NA columns when determining the result dtypes. To retain the old behavior, exclude the relevant entries before the concat operation.\n",
      "  return cls(df=pd.concat(dfs, axis=0, sort=True))\n",
      "[WARNING 10-29 16:42:50] ax.service.utils.report_utils: Column reason missing for all trials. Not appending column.\n",
      "/Users/thomasdodd/miniconda3/envs/BO4ACST_env/lib/python3.11/site-packages/ax/core/data.py:288: FutureWarning: The behavior of DataFrame concatenation with empty or all-NA entries is deprecated. In a future version, this will no longer exclude empty or all-NA columns when determining the result dtypes. To retain the old behavior, exclude the relevant entries before the concat operation.\n",
      "  return cls(df=pd.concat(dfs, axis=0, sort=True))\n",
      "[WARNING 10-29 16:42:50] ax.service.utils.report_utils: Column reason missing for all trials. Not appending column.\n",
      "[INFO 10-29 16:42:50] ax.service.ax_client: Completed trial 13 with data: {'t1': (4.73197, None)}.\n",
      "[INFO 10-29 16:42:50] ax.service.ax_client: Saved JSON-serialized state of optimization to `/Users/thomasdodd/Library/CloudStorage/OneDrive-MillfieldEnterprisesLimited/Cambridge/GitHub/BO4ACST/Notebooks/Optimisation/Method20241028Dim2_qLogNoisyExpectedImprovement/AxExperiment.json`.\n",
      "[WARNING 10-29 16:42:50] ax.service.utils.report_utils: Column reason missing for all trials. Not appending column.\n",
      "[WARNING 10-29 16:42:50] ax.service.utils.report_utils: Column reason missing for all trials. Not appending column.\n"
     ]
    },
    {
     "name": "stdout",
     "output_type": "stream",
     "text": [
      "There are no trials currently running - initialising Bayesian iteration trials.\n"
     ]
    },
    {
     "name": "stderr",
     "output_type": "stream",
     "text": [
      "[INFO 10-29 16:42:56] ax.service.ax_client: Generated new trial 14 with parameters {'x1': 2.72856, 'x2': 0.905762} using model BoTorch.\n",
      "[INFO 10-29 16:42:56] ax.service.ax_client: Saved JSON-serialized state of optimization to `/Users/thomasdodd/Library/CloudStorage/OneDrive-MillfieldEnterprisesLimited/Cambridge/GitHub/BO4ACST/Notebooks/Optimisation/Method20241028Dim2_qLogNoisyExpectedImprovement/AxExperiment.json`.\n",
      "/Users/thomasdodd/miniconda3/envs/BO4ACST_env/lib/python3.11/site-packages/ax/core/data.py:288: FutureWarning: The behavior of DataFrame concatenation with empty or all-NA entries is deprecated. In a future version, this will no longer exclude empty or all-NA columns when determining the result dtypes. To retain the old behavior, exclude the relevant entries before the concat operation.\n",
      "  return cls(df=pd.concat(dfs, axis=0, sort=True))\n",
      "[WARNING 10-29 16:42:56] ax.service.utils.report_utils: Column reason missing for all trials. Not appending column.\n",
      "/Users/thomasdodd/miniconda3/envs/BO4ACST_env/lib/python3.11/site-packages/ax/core/data.py:288: FutureWarning: The behavior of DataFrame concatenation with empty or all-NA entries is deprecated. In a future version, this will no longer exclude empty or all-NA columns when determining the result dtypes. To retain the old behavior, exclude the relevant entries before the concat operation.\n",
      "  return cls(df=pd.concat(dfs, axis=0, sort=True))\n",
      "[WARNING 10-29 16:42:56] ax.service.utils.report_utils: Column reason missing for all trials. Not appending column.\n",
      "[INFO 10-29 16:42:56] ax.service.ax_client: Completed trial 14 with data: {'t1': (7.908634, None)}.\n",
      "[INFO 10-29 16:42:56] ax.service.ax_client: Saved JSON-serialized state of optimization to `/Users/thomasdodd/Library/CloudStorage/OneDrive-MillfieldEnterprisesLimited/Cambridge/GitHub/BO4ACST/Notebooks/Optimisation/Method20241028Dim2_qLogNoisyExpectedImprovement/AxExperiment.json`.\n",
      "[WARNING 10-29 16:42:56] ax.service.utils.report_utils: Column reason missing for all trials. Not appending column.\n",
      "[WARNING 10-29 16:42:56] ax.service.utils.report_utils: Column reason missing for all trials. Not appending column.\n"
     ]
    },
    {
     "name": "stdout",
     "output_type": "stream",
     "text": [
      "There are no trials currently running - initialising Bayesian iteration trials.\n"
     ]
    },
    {
     "name": "stderr",
     "output_type": "stream",
     "text": [
      "[INFO 10-29 16:43:03] ax.service.ax_client: Generated new trial 15 with parameters {'x1': 1.051721, 'x2': 2.021093} using model BoTorch.\n",
      "[INFO 10-29 16:43:03] ax.service.ax_client: Saved JSON-serialized state of optimization to `/Users/thomasdodd/Library/CloudStorage/OneDrive-MillfieldEnterprisesLimited/Cambridge/GitHub/BO4ACST/Notebooks/Optimisation/Method20241028Dim2_qLogNoisyExpectedImprovement/AxExperiment.json`.\n",
      "/Users/thomasdodd/miniconda3/envs/BO4ACST_env/lib/python3.11/site-packages/ax/core/data.py:288: FutureWarning: The behavior of DataFrame concatenation with empty or all-NA entries is deprecated. In a future version, this will no longer exclude empty or all-NA columns when determining the result dtypes. To retain the old behavior, exclude the relevant entries before the concat operation.\n",
      "  return cls(df=pd.concat(dfs, axis=0, sort=True))\n",
      "[WARNING 10-29 16:43:03] ax.service.utils.report_utils: Column reason missing for all trials. Not appending column.\n",
      "/Users/thomasdodd/miniconda3/envs/BO4ACST_env/lib/python3.11/site-packages/ax/core/data.py:288: FutureWarning: The behavior of DataFrame concatenation with empty or all-NA entries is deprecated. In a future version, this will no longer exclude empty or all-NA columns when determining the result dtypes. To retain the old behavior, exclude the relevant entries before the concat operation.\n",
      "  return cls(df=pd.concat(dfs, axis=0, sort=True))\n",
      "[WARNING 10-29 16:43:03] ax.service.utils.report_utils: Column reason missing for all trials. Not appending column.\n",
      "[INFO 10-29 16:43:03] ax.service.ax_client: Completed trial 15 with data: {'t1': (4.399632, None)}.\n",
      "[INFO 10-29 16:43:03] ax.service.ax_client: Saved JSON-serialized state of optimization to `/Users/thomasdodd/Library/CloudStorage/OneDrive-MillfieldEnterprisesLimited/Cambridge/GitHub/BO4ACST/Notebooks/Optimisation/Method20241028Dim2_qLogNoisyExpectedImprovement/AxExperiment.json`.\n",
      "[WARNING 10-29 16:43:03] ax.service.utils.report_utils: Column reason missing for all trials. Not appending column.\n",
      "[WARNING 10-29 16:43:03] ax.service.utils.report_utils: Column reason missing for all trials. Not appending column.\n"
     ]
    },
    {
     "name": "stdout",
     "output_type": "stream",
     "text": [
      "There are no trials currently running - initialising Bayesian iteration trials.\n"
     ]
    },
    {
     "name": "stderr",
     "output_type": "stream",
     "text": [
      "[INFO 10-29 16:43:12] ax.service.ax_client: Generated new trial 16 with parameters {'x1': -0.226674, 'x2': 4.247925} using model BoTorch.\n",
      "[INFO 10-29 16:43:12] ax.service.ax_client: Saved JSON-serialized state of optimization to `/Users/thomasdodd/Library/CloudStorage/OneDrive-MillfieldEnterprisesLimited/Cambridge/GitHub/BO4ACST/Notebooks/Optimisation/Method20241028Dim2_qLogNoisyExpectedImprovement/AxExperiment.json`.\n",
      "/Users/thomasdodd/miniconda3/envs/BO4ACST_env/lib/python3.11/site-packages/ax/core/data.py:288: FutureWarning: The behavior of DataFrame concatenation with empty or all-NA entries is deprecated. In a future version, this will no longer exclude empty or all-NA columns when determining the result dtypes. To retain the old behavior, exclude the relevant entries before the concat operation.\n",
      "  return cls(df=pd.concat(dfs, axis=0, sort=True))\n",
      "[WARNING 10-29 16:43:12] ax.service.utils.report_utils: Column reason missing for all trials. Not appending column.\n",
      "/Users/thomasdodd/miniconda3/envs/BO4ACST_env/lib/python3.11/site-packages/ax/core/data.py:288: FutureWarning: The behavior of DataFrame concatenation with empty or all-NA entries is deprecated. In a future version, this will no longer exclude empty or all-NA columns when determining the result dtypes. To retain the old behavior, exclude the relevant entries before the concat operation.\n",
      "  return cls(df=pd.concat(dfs, axis=0, sort=True))\n",
      "[WARNING 10-29 16:43:12] ax.service.utils.report_utils: Column reason missing for all trials. Not appending column.\n",
      "[INFO 10-29 16:43:12] ax.service.ax_client: Completed trial 16 with data: {'t1': (3.063852, None)}.\n",
      "[INFO 10-29 16:43:12] ax.service.ax_client: Saved JSON-serialized state of optimization to `/Users/thomasdodd/Library/CloudStorage/OneDrive-MillfieldEnterprisesLimited/Cambridge/GitHub/BO4ACST/Notebooks/Optimisation/Method20241028Dim2_qLogNoisyExpectedImprovement/AxExperiment.json`.\n",
      "[WARNING 10-29 16:43:12] ax.service.utils.report_utils: Column reason missing for all trials. Not appending column.\n",
      "[WARNING 10-29 16:43:12] ax.service.utils.report_utils: Column reason missing for all trials. Not appending column.\n"
     ]
    },
    {
     "name": "stdout",
     "output_type": "stream",
     "text": [
      "There are no trials currently running - initialising Bayesian iteration trials.\n"
     ]
    },
    {
     "name": "stderr",
     "output_type": "stream",
     "text": [
      "[INFO 10-29 16:43:22] ax.service.ax_client: Generated new trial 17 with parameters {'x1': 0.699509, 'x2': 2.83869} using model BoTorch.\n",
      "[INFO 10-29 16:43:22] ax.service.ax_client: Saved JSON-serialized state of optimization to `/Users/thomasdodd/Library/CloudStorage/OneDrive-MillfieldEnterprisesLimited/Cambridge/GitHub/BO4ACST/Notebooks/Optimisation/Method20241028Dim2_qLogNoisyExpectedImprovement/AxExperiment.json`.\n",
      "/Users/thomasdodd/miniconda3/envs/BO4ACST_env/lib/python3.11/site-packages/ax/core/data.py:288: FutureWarning: The behavior of DataFrame concatenation with empty or all-NA entries is deprecated. In a future version, this will no longer exclude empty or all-NA columns when determining the result dtypes. To retain the old behavior, exclude the relevant entries before the concat operation.\n",
      "  return cls(df=pd.concat(dfs, axis=0, sort=True))\n",
      "[WARNING 10-29 16:43:22] ax.service.utils.report_utils: Column reason missing for all trials. Not appending column.\n",
      "/Users/thomasdodd/miniconda3/envs/BO4ACST_env/lib/python3.11/site-packages/ax/core/data.py:288: FutureWarning: The behavior of DataFrame concatenation with empty or all-NA entries is deprecated. In a future version, this will no longer exclude empty or all-NA columns when determining the result dtypes. To retain the old behavior, exclude the relevant entries before the concat operation.\n",
      "  return cls(df=pd.concat(dfs, axis=0, sort=True))\n",
      "[WARNING 10-29 16:43:22] ax.service.utils.report_utils: Column reason missing for all trials. Not appending column.\n",
      "[INFO 10-29 16:43:22] ax.service.ax_client: Completed trial 17 with data: {'t1': (0.969355, None)}.\n",
      "[INFO 10-29 16:43:22] ax.service.ax_client: Saved JSON-serialized state of optimization to `/Users/thomasdodd/Library/CloudStorage/OneDrive-MillfieldEnterprisesLimited/Cambridge/GitHub/BO4ACST/Notebooks/Optimisation/Method20241028Dim2_qLogNoisyExpectedImprovement/AxExperiment.json`.\n",
      "[WARNING 10-29 16:43:22] ax.service.utils.report_utils: Column reason missing for all trials. Not appending column.\n",
      "[WARNING 10-29 16:43:22] ax.service.utils.report_utils: Column reason missing for all trials. Not appending column.\n"
     ]
    },
    {
     "name": "stdout",
     "output_type": "stream",
     "text": [
      "There are no trials currently running - initialising Bayesian iteration trials.\n"
     ]
    },
    {
     "name": "stderr",
     "output_type": "stream",
     "text": [
      "[INFO 10-29 16:43:25] ax.service.ax_client: Generated new trial 18 with parameters {'x1': 1.779861, 'x2': 1.94085} using model BoTorch.\n",
      "[INFO 10-29 16:43:25] ax.service.ax_client: Saved JSON-serialized state of optimization to `/Users/thomasdodd/Library/CloudStorage/OneDrive-MillfieldEnterprisesLimited/Cambridge/GitHub/BO4ACST/Notebooks/Optimisation/Method20241028Dim2_qLogNoisyExpectedImprovement/AxExperiment.json`.\n",
      "/Users/thomasdodd/miniconda3/envs/BO4ACST_env/lib/python3.11/site-packages/ax/core/data.py:288: FutureWarning: The behavior of DataFrame concatenation with empty or all-NA entries is deprecated. In a future version, this will no longer exclude empty or all-NA columns when determining the result dtypes. To retain the old behavior, exclude the relevant entries before the concat operation.\n",
      "  return cls(df=pd.concat(dfs, axis=0, sort=True))\n",
      "[WARNING 10-29 16:43:25] ax.service.utils.report_utils: Column reason missing for all trials. Not appending column.\n",
      "/Users/thomasdodd/miniconda3/envs/BO4ACST_env/lib/python3.11/site-packages/ax/core/data.py:288: FutureWarning: The behavior of DataFrame concatenation with empty or all-NA entries is deprecated. In a future version, this will no longer exclude empty or all-NA columns when determining the result dtypes. To retain the old behavior, exclude the relevant entries before the concat operation.\n",
      "  return cls(df=pd.concat(dfs, axis=0, sort=True))\n",
      "[WARNING 10-29 16:43:25] ax.service.utils.report_utils: Column reason missing for all trials. Not appending column.\n",
      "[INFO 10-29 16:43:25] ax.service.ax_client: Completed trial 18 with data: {'t1': (2.04199, None)}.\n",
      "[INFO 10-29 16:43:25] ax.service.ax_client: Saved JSON-serialized state of optimization to `/Users/thomasdodd/Library/CloudStorage/OneDrive-MillfieldEnterprisesLimited/Cambridge/GitHub/BO4ACST/Notebooks/Optimisation/Method20241028Dim2_qLogNoisyExpectedImprovement/AxExperiment.json`.\n",
      "[WARNING 10-29 16:43:25] ax.service.utils.report_utils: Column reason missing for all trials. Not appending column.\n",
      "[WARNING 10-29 16:43:25] ax.service.utils.report_utils: Column reason missing for all trials. Not appending column.\n"
     ]
    },
    {
     "name": "stdout",
     "output_type": "stream",
     "text": [
      "There are no trials currently running - initialising Bayesian iteration trials.\n"
     ]
    },
    {
     "name": "stderr",
     "output_type": "stream",
     "text": [
      "[INFO 10-29 16:43:33] ax.service.ax_client: Generated new trial 19 with parameters {'x1': 0.023638, 'x2': 3.186584} using model BoTorch.\n",
      "[INFO 10-29 16:43:33] ax.service.ax_client: Saved JSON-serialized state of optimization to `/Users/thomasdodd/Library/CloudStorage/OneDrive-MillfieldEnterprisesLimited/Cambridge/GitHub/BO4ACST/Notebooks/Optimisation/Method20241028Dim2_qLogNoisyExpectedImprovement/AxExperiment.json`.\n",
      "/Users/thomasdodd/miniconda3/envs/BO4ACST_env/lib/python3.11/site-packages/ax/core/data.py:288: FutureWarning: The behavior of DataFrame concatenation with empty or all-NA entries is deprecated. In a future version, this will no longer exclude empty or all-NA columns when determining the result dtypes. To retain the old behavior, exclude the relevant entries before the concat operation.\n",
      "  return cls(df=pd.concat(dfs, axis=0, sort=True))\n",
      "[WARNING 10-29 16:43:33] ax.service.utils.report_utils: Column reason missing for all trials. Not appending column.\n",
      "/Users/thomasdodd/miniconda3/envs/BO4ACST_env/lib/python3.11/site-packages/ax/core/data.py:288: FutureWarning: The behavior of DataFrame concatenation with empty or all-NA entries is deprecated. In a future version, this will no longer exclude empty or all-NA columns when determining the result dtypes. To retain the old behavior, exclude the relevant entries before the concat operation.\n",
      "  return cls(df=pd.concat(dfs, axis=0, sort=True))\n",
      "[WARNING 10-29 16:43:33] ax.service.utils.report_utils: Column reason missing for all trials. Not appending column.\n",
      "[INFO 10-29 16:43:33] ax.service.ax_client: Completed trial 19 with data: {'t1': (3.483094, None)}.\n",
      "[INFO 10-29 16:43:33] ax.service.ax_client: Saved JSON-serialized state of optimization to `/Users/thomasdodd/Library/CloudStorage/OneDrive-MillfieldEnterprisesLimited/Cambridge/GitHub/BO4ACST/Notebooks/Optimisation/Method20241028Dim2_qLogNoisyExpectedImprovement/AxExperiment.json`.\n",
      "[WARNING 10-29 16:43:33] ax.service.utils.report_utils: Column reason missing for all trials. Not appending column.\n",
      "[WARNING 10-29 16:43:33] ax.service.utils.report_utils: Column reason missing for all trials. Not appending column.\n"
     ]
    },
    {
     "name": "stdout",
     "output_type": "stream",
     "text": [
      "There are no trials currently running - initialising Bayesian iteration trials.\n"
     ]
    },
    {
     "name": "stderr",
     "output_type": "stream",
     "text": [
      "[INFO 10-29 16:43:42] ax.service.ax_client: Generated new trial 20 with parameters {'x1': 0.357248, 'x2': 3.393906} using model BoTorch.\n",
      "[INFO 10-29 16:43:42] ax.service.ax_client: Saved JSON-serialized state of optimization to `/Users/thomasdodd/Library/CloudStorage/OneDrive-MillfieldEnterprisesLimited/Cambridge/GitHub/BO4ACST/Notebooks/Optimisation/Method20241028Dim2_qLogNoisyExpectedImprovement/AxExperiment.json`.\n",
      "/Users/thomasdodd/miniconda3/envs/BO4ACST_env/lib/python3.11/site-packages/ax/core/data.py:288: FutureWarning: The behavior of DataFrame concatenation with empty or all-NA entries is deprecated. In a future version, this will no longer exclude empty or all-NA columns when determining the result dtypes. To retain the old behavior, exclude the relevant entries before the concat operation.\n",
      "  return cls(df=pd.concat(dfs, axis=0, sort=True))\n",
      "[WARNING 10-29 16:43:42] ax.service.utils.report_utils: Column reason missing for all trials. Not appending column.\n",
      "/Users/thomasdodd/miniconda3/envs/BO4ACST_env/lib/python3.11/site-packages/ax/core/data.py:288: FutureWarning: The behavior of DataFrame concatenation with empty or all-NA entries is deprecated. In a future version, this will no longer exclude empty or all-NA columns when determining the result dtypes. To retain the old behavior, exclude the relevant entries before the concat operation.\n",
      "  return cls(df=pd.concat(dfs, axis=0, sort=True))\n",
      "[WARNING 10-29 16:43:42] ax.service.utils.report_utils: Column reason missing for all trials. Not appending column.\n",
      "[INFO 10-29 16:43:42] ax.service.ax_client: Completed trial 20 with data: {'t1': (0.815988, None)}.\n",
      "[INFO 10-29 16:43:42] ax.service.ax_client: Saved JSON-serialized state of optimization to `/Users/thomasdodd/Library/CloudStorage/OneDrive-MillfieldEnterprisesLimited/Cambridge/GitHub/BO4ACST/Notebooks/Optimisation/Method20241028Dim2_qLogNoisyExpectedImprovement/AxExperiment.json`.\n",
      "[WARNING 10-29 16:43:42] ax.service.utils.report_utils: Column reason missing for all trials. Not appending column.\n",
      "[WARNING 10-29 16:43:42] ax.service.utils.report_utils: Column reason missing for all trials. Not appending column.\n"
     ]
    },
    {
     "name": "stdout",
     "output_type": "stream",
     "text": [
      "There are no trials currently running - initialising Bayesian iteration trials.\n"
     ]
    },
    {
     "name": "stderr",
     "output_type": "stream",
     "text": [
      "[INFO 10-29 16:43:51] ax.service.ax_client: Generated new trial 21 with parameters {'x1': 1.165936, 'x2': 2.371596} using model BoTorch.\n",
      "[INFO 10-29 16:43:51] ax.service.ax_client: Saved JSON-serialized state of optimization to `/Users/thomasdodd/Library/CloudStorage/OneDrive-MillfieldEnterprisesLimited/Cambridge/GitHub/BO4ACST/Notebooks/Optimisation/Method20241028Dim2_qLogNoisyExpectedImprovement/AxExperiment.json`.\n",
      "/Users/thomasdodd/miniconda3/envs/BO4ACST_env/lib/python3.11/site-packages/ax/core/data.py:288: FutureWarning: The behavior of DataFrame concatenation with empty or all-NA entries is deprecated. In a future version, this will no longer exclude empty or all-NA columns when determining the result dtypes. To retain the old behavior, exclude the relevant entries before the concat operation.\n",
      "  return cls(df=pd.concat(dfs, axis=0, sort=True))\n",
      "[WARNING 10-29 16:43:51] ax.service.utils.report_utils: Column reason missing for all trials. Not appending column.\n",
      "/Users/thomasdodd/miniconda3/envs/BO4ACST_env/lib/python3.11/site-packages/ax/core/data.py:288: FutureWarning: The behavior of DataFrame concatenation with empty or all-NA entries is deprecated. In a future version, this will no longer exclude empty or all-NA columns when determining the result dtypes. To retain the old behavior, exclude the relevant entries before the concat operation.\n",
      "  return cls(df=pd.concat(dfs, axis=0, sort=True))\n",
      "[WARNING 10-29 16:43:51] ax.service.utils.report_utils: Column reason missing for all trials. Not appending column.\n",
      "[INFO 10-29 16:43:51] ax.service.ax_client: Completed trial 21 with data: {'t1': (1.27793, None)}.\n",
      "[INFO 10-29 16:43:51] ax.service.ax_client: Saved JSON-serialized state of optimization to `/Users/thomasdodd/Library/CloudStorage/OneDrive-MillfieldEnterprisesLimited/Cambridge/GitHub/BO4ACST/Notebooks/Optimisation/Method20241028Dim2_qLogNoisyExpectedImprovement/AxExperiment.json`.\n",
      "[WARNING 10-29 16:43:51] ax.service.utils.report_utils: Column reason missing for all trials. Not appending column.\n",
      "[WARNING 10-29 16:43:51] ax.service.utils.report_utils: Column reason missing for all trials. Not appending column.\n"
     ]
    },
    {
     "name": "stdout",
     "output_type": "stream",
     "text": [
      "There are no trials currently running - initialising Bayesian iteration trials.\n"
     ]
    },
    {
     "name": "stderr",
     "output_type": "stream",
     "text": [
      "/Users/thomasdodd/miniconda3/envs/BO4ACST_env/lib/python3.11/site-packages/botorch/optim/optimize.py:568: RuntimeWarning: Optimization failed in `gen_candidates_scipy` with the following warning(s):\n",
      "[OptimizationWarning('Optimization failed within `scipy.optimize.minimize` with status 2 and message ABNORMAL_TERMINATION_IN_LNSRCH.')]\n",
      "Trying again with a new set of initial conditions.\n",
      "  return _optimize_acqf_batch(opt_inputs=opt_inputs)\n",
      "[INFO 10-29 16:44:09] ax.service.ax_client: Generated new trial 22 with parameters {'x1': 0.590463, 'x2': 2.690654} using model BoTorch.\n",
      "[INFO 10-29 16:44:09] ax.service.ax_client: Saved JSON-serialized state of optimization to `/Users/thomasdodd/Library/CloudStorage/OneDrive-MillfieldEnterprisesLimited/Cambridge/GitHub/BO4ACST/Notebooks/Optimisation/Method20241028Dim2_qLogNoisyExpectedImprovement/AxExperiment.json`.\n",
      "/Users/thomasdodd/miniconda3/envs/BO4ACST_env/lib/python3.11/site-packages/ax/core/data.py:288: FutureWarning: The behavior of DataFrame concatenation with empty or all-NA entries is deprecated. In a future version, this will no longer exclude empty or all-NA columns when determining the result dtypes. To retain the old behavior, exclude the relevant entries before the concat operation.\n",
      "  return cls(df=pd.concat(dfs, axis=0, sort=True))\n",
      "[WARNING 10-29 16:44:09] ax.service.utils.report_utils: Column reason missing for all trials. Not appending column.\n",
      "/Users/thomasdodd/miniconda3/envs/BO4ACST_env/lib/python3.11/site-packages/ax/core/data.py:288: FutureWarning: The behavior of DataFrame concatenation with empty or all-NA entries is deprecated. In a future version, this will no longer exclude empty or all-NA columns when determining the result dtypes. To retain the old behavior, exclude the relevant entries before the concat operation.\n",
      "  return cls(df=pd.concat(dfs, axis=0, sort=True))\n",
      "[WARNING 10-29 16:44:09] ax.service.utils.report_utils: Column reason missing for all trials. Not appending column.\n",
      "[INFO 10-29 16:44:09] ax.service.ax_client: Completed trial 22 with data: {'t1': (2.330591, None)}.\n",
      "[INFO 10-29 16:44:09] ax.service.ax_client: Saved JSON-serialized state of optimization to `/Users/thomasdodd/Library/CloudStorage/OneDrive-MillfieldEnterprisesLimited/Cambridge/GitHub/BO4ACST/Notebooks/Optimisation/Method20241028Dim2_qLogNoisyExpectedImprovement/AxExperiment.json`.\n",
      "[WARNING 10-29 16:44:09] ax.service.utils.report_utils: Column reason missing for all trials. Not appending column.\n",
      "[WARNING 10-29 16:44:09] ax.service.utils.report_utils: Column reason missing for all trials. Not appending column.\n"
     ]
    },
    {
     "name": "stdout",
     "output_type": "stream",
     "text": [
      "There are no trials currently running - initialising Bayesian iteration trials.\n"
     ]
    },
    {
     "name": "stderr",
     "output_type": "stream",
     "text": [
      "[INFO 10-29 16:44:20] ax.service.ax_client: Generated new trial 23 with parameters {'x1': 0.934749, 'x2': 2.849845} using model BoTorch.\n",
      "[INFO 10-29 16:44:20] ax.service.ax_client: Saved JSON-serialized state of optimization to `/Users/thomasdodd/Library/CloudStorage/OneDrive-MillfieldEnterprisesLimited/Cambridge/GitHub/BO4ACST/Notebooks/Optimisation/Method20241028Dim2_qLogNoisyExpectedImprovement/AxExperiment.json`.\n",
      "/Users/thomasdodd/miniconda3/envs/BO4ACST_env/lib/python3.11/site-packages/ax/core/data.py:288: FutureWarning: The behavior of DataFrame concatenation with empty or all-NA entries is deprecated. In a future version, this will no longer exclude empty or all-NA columns when determining the result dtypes. To retain the old behavior, exclude the relevant entries before the concat operation.\n",
      "  return cls(df=pd.concat(dfs, axis=0, sort=True))\n",
      "[WARNING 10-29 16:44:20] ax.service.utils.report_utils: Column reason missing for all trials. Not appending column.\n",
      "/Users/thomasdodd/miniconda3/envs/BO4ACST_env/lib/python3.11/site-packages/ax/core/data.py:288: FutureWarning: The behavior of DataFrame concatenation with empty or all-NA entries is deprecated. In a future version, this will no longer exclude empty or all-NA columns when determining the result dtypes. To retain the old behavior, exclude the relevant entries before the concat operation.\n",
      "  return cls(df=pd.concat(dfs, axis=0, sort=True))\n",
      "[WARNING 10-29 16:44:20] ax.service.utils.report_utils: Column reason missing for all trials. Not appending column.\n",
      "[INFO 10-29 16:44:20] ax.service.ax_client: Completed trial 23 with data: {'t1': (0.212404, None)}.\n",
      "[INFO 10-29 16:44:20] ax.service.ax_client: Saved JSON-serialized state of optimization to `/Users/thomasdodd/Library/CloudStorage/OneDrive-MillfieldEnterprisesLimited/Cambridge/GitHub/BO4ACST/Notebooks/Optimisation/Method20241028Dim2_qLogNoisyExpectedImprovement/AxExperiment.json`.\n",
      "[WARNING 10-29 16:44:20] ax.service.utils.report_utils: Column reason missing for all trials. Not appending column.\n"
     ]
    },
    {
     "name": "stdout",
     "output_type": "stream",
     "text": [
      "[74.         24.32356964 24.32356964  0.35360926  0.35360926  0.35360926\n",
      "  0.35360926  0.35360926  0.35360926  0.35360926  0.35360926  0.35360926\n",
      "  0.35360926  0.35360926  0.35360926  0.2124039 ]\n"
     ]
    }
   ],
   "source": [
    "# Using the qlognoisyexpectedimprovement\n",
    "attempts = 10\n",
    "t1Best_arr = np.empty(0)\n",
    "for attempt in range(attempts):\n",
    "    t1Min_arr = np.empty(0)\n",
    "    AxClient_obj = ExperimentalMethods_obj.ExperimentInitialiser_func(OptimisationSetup_obj)\n",
    "    for round in range(OptimisationSetup_obj.NoOfIterations_int):\n",
    "        ExperimentalMethods_obj.TrialsStartor_func(AxClient_obj,OptimisationSetup_obj)\n",
    "        ExperimentalMethods_obj.TrialsCompletor_func(AxClient_obj,OptimisationSetup_obj)\n",
    "        df = AxClient_obj.get_trials_data_frame()\n",
    "        t1_arr = np.array(df[\"t1\"])\n",
    "        t1Min_flt = np.min(t1_arr)\n",
    "        t1Min_arr = np.append(arr=t1Min_arr,values=t1Min_flt)\n",
    "    print(t1Min_arr)\n",
    "    os.remove(OptimisationSetup_obj.ExperimentFilePath_str)\n",
    "    Bestt1_flt = t1Min_arr[-1]\n",
    "    t1Best_arr = np.append(arr=t1Best_arr,values=Bestt1_flt)"
   ]
  },
  {
   "cell_type": "code",
   "execution_count": 3,
   "metadata": {},
   "outputs": [
    {
     "data": {
      "text/plain": [
       "array([0.29171598, 0.31272841, 0.34270099, 0.30476476, 0.29317755,\n",
       "       0.34933149, 0.28512985, 0.21266544, 0.16649663, 0.2124039 ])"
      ]
     },
     "execution_count": 3,
     "metadata": {},
     "output_type": "execute_result"
    }
   ],
   "source": [
    "t1Best_arr"
   ]
  },
  {
   "cell_type": "code",
   "execution_count": 4,
   "metadata": {},
   "outputs": [
    {
     "data": {
      "text/plain": [
       "0.2771114996511988"
      ]
     },
     "execution_count": 4,
     "metadata": {},
     "output_type": "execute_result"
    }
   ],
   "source": [
    "np.average(t1Best_arr)"
   ]
  },
  {
   "cell_type": "code",
   "execution_count": 5,
   "metadata": {},
   "outputs": [
    {
     "data": {
      "text/plain": [
       "0.1664966250511029"
      ]
     },
     "execution_count": 5,
     "metadata": {},
     "output_type": "execute_result"
    }
   ],
   "source": [
    "np.min(t1Best_arr)"
   ]
  },
  {
   "cell_type": "code",
   "execution_count": null,
   "metadata": {},
   "outputs": [],
   "source": []
  }
 ],
 "metadata": {
  "kernelspec": {
   "display_name": "BO4ACST_env",
   "language": "python",
   "name": "python3"
  },
  "language_info": {
   "codemirror_mode": {
    "name": "ipython",
    "version": 3
   },
   "file_extension": ".py",
   "mimetype": "text/x-python",
   "name": "python",
   "nbconvert_exporter": "python",
   "pygments_lexer": "ipython3",
   "version": "3.11.10"
  }
 },
 "nbformat": 4,
 "nbformat_minor": 2
}
