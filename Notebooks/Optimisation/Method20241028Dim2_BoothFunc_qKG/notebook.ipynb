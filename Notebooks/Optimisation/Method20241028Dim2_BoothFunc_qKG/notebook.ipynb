{
 "cells": [
  {
   "cell_type": "markdown",
   "metadata": {},
   "source": [
    "# Optimising Booth Test Function: 'Method20241028Dim2'\n",
    "\n",
    "Settings:\n",
    "* Space-Filling Technique: Grid (1 * 8)\n",
    "* Sequential Technique: Ax (16 * 1)\n",
    "* Acquisition Function: qKG"
   ]
  },
  {
   "cell_type": "code",
   "execution_count": 1,
   "metadata": {},
   "outputs": [],
   "source": [
    "import os\n",
    "import numpy as np\n",
    "from ConfigFile import OptimisationSetup_class\n",
    "from ExperimentalMethods import ExperimentalMethods_class\n",
    "# Instantiate the optimisation configuration class object.\n",
    "OptimisationSetup_obj = OptimisationSetup_class()\n",
    "# Instantiate the experimental methods class object.\n",
    "ExperimentalMethods_obj = ExperimentalMethods_class()4"
   ]
  },
  {
   "cell_type": "code",
   "execution_count": 2,
   "metadata": {},
   "outputs": [
    {
     "name": "stderr",
     "output_type": "stream",
     "text": [
      "[INFO 10-29 16:24:17] ax.service.ax_client: Starting optimization with verbose logging. To disable logging, set the `verbose_logging` argument to `False`. Note that float values in the logs are rounded to 6 decimal points.\n",
      "[INFO 10-29 16:24:17] ax.service.utils.instantiation: Created search space: SearchSpace(parameters=[RangeParameter(name='x1', parameter_type=FLOAT, range=[-10.0, 10.0]), RangeParameter(name='x2', parameter_type=FLOAT, range=[-10.0, 10.0])], parameter_constraints=[]).\n",
      "[INFO 10-29 16:24:17] ax.service.ax_client: Saved JSON-serialized state of optimization to `/Users/thomasdodd/Library/CloudStorage/OneDrive-MillfieldEnterprisesLimited/Cambridge/GitHub/BO4ACST/Notebooks/Optimisation/Method20241028Dim2_qKnowledgeGradient/AxExperiment.json`.\n",
      "[INFO 10-29 16:24:17] ax.core.experiment: Attached custom parameterizations [{'x1': -10.0, 'x2': -10.0}] as trial 0.\n",
      "[INFO 10-29 16:24:17] ax.core.experiment: Attached custom parameterizations [{'x1': 0.0, 'x2': -10.0}] as trial 1.\n",
      "[INFO 10-29 16:24:17] ax.core.experiment: Attached custom parameterizations [{'x1': 10.0, 'x2': -10.0}] as trial 2.\n",
      "[INFO 10-29 16:24:17] ax.core.experiment: Attached custom parameterizations [{'x1': -10.0, 'x2': 0.0}] as trial 3.\n",
      "[INFO 10-29 16:24:17] ax.core.experiment: Attached custom parameterizations [{'x1': 0.0, 'x2': 0.0}] as trial 4.\n",
      "[INFO 10-29 16:24:17] ax.core.experiment: Attached custom parameterizations [{'x1': 10.0, 'x2': 0.0}] as trial 5.\n",
      "[INFO 10-29 16:24:17] ax.core.experiment: Attached custom parameterizations [{'x1': -10.0, 'x2': 10.0}] as trial 6.\n",
      "[INFO 10-29 16:24:17] ax.core.experiment: Attached custom parameterizations [{'x1': 0.0, 'x2': 10.0}] as trial 7.\n",
      "[INFO 10-29 16:24:17] ax.core.experiment: Attached custom parameterizations [{'x1': 10.0, 'x2': 10.0}] as trial 8.\n",
      "[INFO 10-29 16:24:17] ax.service.ax_client: Saved JSON-serialized state of optimization to `/Users/thomasdodd/Library/CloudStorage/OneDrive-MillfieldEnterprisesLimited/Cambridge/GitHub/BO4ACST/Notebooks/Optimisation/Method20241028Dim2_qKnowledgeGradient/AxExperiment.json`.\n",
      "[WARNING 10-29 16:24:17] ax.service.utils.report_utils: Column reason missing for all trials. Not appending column.\n",
      "[INFO 10-29 16:24:17] ax.service.utils.report_utils: No results present for the specified metrics `[Metric('t1')]`. Returning arm parameters and metadata only.\n",
      "[WARNING 10-29 16:24:17] ax.service.utils.report_utils: Column reason missing for all trials. Not appending column.\n",
      "[INFO 10-29 16:24:17] ax.service.utils.report_utils: No results present for the specified metrics `[Metric('t1')]`. Returning arm parameters and metadata only.\n",
      "[INFO 10-29 16:24:17] ax.service.ax_client: Completed trial 0 with data: {'t1': (2594.0, None)}.\n",
      "[INFO 10-29 16:24:17] ax.service.ax_client: Saved JSON-serialized state of optimization to `/Users/thomasdodd/Library/CloudStorage/OneDrive-MillfieldEnterprisesLimited/Cambridge/GitHub/BO4ACST/Notebooks/Optimisation/Method20241028Dim2_qKnowledgeGradient/AxExperiment.json`.\n",
      "[INFO 10-29 16:24:17] ax.service.ax_client: Completed trial 1 with data: {'t1': (954.0, None)}.\n",
      "[INFO 10-29 16:24:17] ax.service.ax_client: Saved JSON-serialized state of optimization to `/Users/thomasdodd/Library/CloudStorage/OneDrive-MillfieldEnterprisesLimited/Cambridge/GitHub/BO4ACST/Notebooks/Optimisation/Method20241028Dim2_qKnowledgeGradient/AxExperiment.json`.\n",
      "[INFO 10-29 16:24:17] ax.service.ax_client: Completed trial 2 with data: {'t1': (314.0, None)}.\n",
      "[INFO 10-29 16:24:17] ax.service.ax_client: Saved JSON-serialized state of optimization to `/Users/thomasdodd/Library/CloudStorage/OneDrive-MillfieldEnterprisesLimited/Cambridge/GitHub/BO4ACST/Notebooks/Optimisation/Method20241028Dim2_qKnowledgeGradient/AxExperiment.json`.\n",
      "[INFO 10-29 16:24:17] ax.service.ax_client: Completed trial 3 with data: {'t1': (914.0, None)}.\n",
      "[INFO 10-29 16:24:17] ax.service.ax_client: Saved JSON-serialized state of optimization to `/Users/thomasdodd/Library/CloudStorage/OneDrive-MillfieldEnterprisesLimited/Cambridge/GitHub/BO4ACST/Notebooks/Optimisation/Method20241028Dim2_qKnowledgeGradient/AxExperiment.json`.\n",
      "[INFO 10-29 16:24:17] ax.service.ax_client: Completed trial 4 with data: {'t1': (74.0, None)}.\n",
      "[INFO 10-29 16:24:17] ax.service.ax_client: Saved JSON-serialized state of optimization to `/Users/thomasdodd/Library/CloudStorage/OneDrive-MillfieldEnterprisesLimited/Cambridge/GitHub/BO4ACST/Notebooks/Optimisation/Method20241028Dim2_qKnowledgeGradient/AxExperiment.json`.\n",
      "[INFO 10-29 16:24:17] ax.service.ax_client: Completed trial 5 with data: {'t1': (234.0, None)}.\n",
      "[INFO 10-29 16:24:17] ax.service.ax_client: Saved JSON-serialized state of optimization to `/Users/thomasdodd/Library/CloudStorage/OneDrive-MillfieldEnterprisesLimited/Cambridge/GitHub/BO4ACST/Notebooks/Optimisation/Method20241028Dim2_qKnowledgeGradient/AxExperiment.json`.\n",
      "[INFO 10-29 16:24:17] ax.service.ax_client: Completed trial 6 with data: {'t1': (234.0, None)}.\n",
      "[INFO 10-29 16:24:17] ax.service.ax_client: Saved JSON-serialized state of optimization to `/Users/thomasdodd/Library/CloudStorage/OneDrive-MillfieldEnterprisesLimited/Cambridge/GitHub/BO4ACST/Notebooks/Optimisation/Method20241028Dim2_qKnowledgeGradient/AxExperiment.json`.\n",
      "[INFO 10-29 16:24:17] ax.service.ax_client: Completed trial 7 with data: {'t1': (194.0, None)}.\n",
      "[INFO 10-29 16:24:17] ax.service.ax_client: Saved JSON-serialized state of optimization to `/Users/thomasdodd/Library/CloudStorage/OneDrive-MillfieldEnterprisesLimited/Cambridge/GitHub/BO4ACST/Notebooks/Optimisation/Method20241028Dim2_qKnowledgeGradient/AxExperiment.json`.\n",
      "[INFO 10-29 16:24:17] ax.service.ax_client: Completed trial 8 with data: {'t1': (1154.0, None)}.\n",
      "[INFO 10-29 16:24:17] ax.service.ax_client: Saved JSON-serialized state of optimization to `/Users/thomasdodd/Library/CloudStorage/OneDrive-MillfieldEnterprisesLimited/Cambridge/GitHub/BO4ACST/Notebooks/Optimisation/Method20241028Dim2_qKnowledgeGradient/AxExperiment.json`.\n",
      "[WARNING 10-29 16:24:17] ax.service.utils.report_utils: Column reason missing for all trials. Not appending column.\n",
      "[WARNING 10-29 16:24:17] ax.service.utils.report_utils: Column reason missing for all trials. Not appending column.\n"
     ]
    },
    {
     "name": "stdout",
     "output_type": "stream",
     "text": [
      "A new experiment has been created and initialised.\n",
      "No previous or current trials detected - initialising prior-forming trials.\n",
      "Samples gridded = 9\n",
      "There are no trials currently running - initialising Bayesian iteration trials.\n"
     ]
    },
    {
     "name": "stderr",
     "output_type": "stream",
     "text": [
      "[INFO 10-29 16:24:21] ax.service.ax_client: Generated new trial 9 with parameters {'x1': -4.36937, 'x2': 4.822609} using model BoTorch.\n",
      "[INFO 10-29 16:24:21] ax.service.ax_client: Saved JSON-serialized state of optimization to `/Users/thomasdodd/Library/CloudStorage/OneDrive-MillfieldEnterprisesLimited/Cambridge/GitHub/BO4ACST/Notebooks/Optimisation/Method20241028Dim2_qKnowledgeGradient/AxExperiment.json`.\n",
      "/Users/thomasdodd/miniconda3/envs/BO4ACST_env/lib/python3.11/site-packages/ax/core/data.py:288: FutureWarning: The behavior of DataFrame concatenation with empty or all-NA entries is deprecated. In a future version, this will no longer exclude empty or all-NA columns when determining the result dtypes. To retain the old behavior, exclude the relevant entries before the concat operation.\n",
      "  return cls(df=pd.concat(dfs, axis=0, sort=True))\n",
      "[WARNING 10-29 16:24:21] ax.service.utils.report_utils: Column reason missing for all trials. Not appending column.\n",
      "/Users/thomasdodd/miniconda3/envs/BO4ACST_env/lib/python3.11/site-packages/ax/core/data.py:288: FutureWarning: The behavior of DataFrame concatenation with empty or all-NA entries is deprecated. In a future version, this will no longer exclude empty or all-NA columns when determining the result dtypes. To retain the old behavior, exclude the relevant entries before the concat operation.\n",
      "  return cls(df=pd.concat(dfs, axis=0, sort=True))\n",
      "[WARNING 10-29 16:24:21] ax.service.utils.report_utils: Column reason missing for all trials. Not appending column.\n",
      "[INFO 10-29 16:24:21] ax.service.ax_client: Completed trial 9 with data: {'t1': (82.470074, None)}.\n",
      "[INFO 10-29 16:24:21] ax.service.ax_client: Saved JSON-serialized state of optimization to `/Users/thomasdodd/Library/CloudStorage/OneDrive-MillfieldEnterprisesLimited/Cambridge/GitHub/BO4ACST/Notebooks/Optimisation/Method20241028Dim2_qKnowledgeGradient/AxExperiment.json`.\n",
      "[WARNING 10-29 16:24:21] ax.service.utils.report_utils: Column reason missing for all trials. Not appending column.\n",
      "[WARNING 10-29 16:24:21] ax.service.utils.report_utils: Column reason missing for all trials. Not appending column.\n"
     ]
    },
    {
     "name": "stdout",
     "output_type": "stream",
     "text": [
      "There are no trials currently running - initialising Bayesian iteration trials.\n"
     ]
    },
    {
     "name": "stderr",
     "output_type": "stream",
     "text": [
      "[INFO 10-29 16:24:24] ax.service.ax_client: Generated new trial 10 with parameters {'x1': 5.96619, 'x2': -5.084362} using model BoTorch.\n",
      "[INFO 10-29 16:24:24] ax.service.ax_client: Saved JSON-serialized state of optimization to `/Users/thomasdodd/Library/CloudStorage/OneDrive-MillfieldEnterprisesLimited/Cambridge/GitHub/BO4ACST/Notebooks/Optimisation/Method20241028Dim2_qKnowledgeGradient/AxExperiment.json`.\n",
      "/Users/thomasdodd/miniconda3/envs/BO4ACST_env/lib/python3.11/site-packages/ax/core/data.py:288: FutureWarning: The behavior of DataFrame concatenation with empty or all-NA entries is deprecated. In a future version, this will no longer exclude empty or all-NA columns when determining the result dtypes. To retain the old behavior, exclude the relevant entries before the concat operation.\n",
      "  return cls(df=pd.concat(dfs, axis=0, sort=True))\n",
      "[WARNING 10-29 16:24:24] ax.service.utils.report_utils: Column reason missing for all trials. Not appending column.\n",
      "/Users/thomasdodd/miniconda3/envs/BO4ACST_env/lib/python3.11/site-packages/ax/core/data.py:288: FutureWarning: The behavior of DataFrame concatenation with empty or all-NA entries is deprecated. In a future version, this will no longer exclude empty or all-NA columns when determining the result dtypes. To retain the old behavior, exclude the relevant entries before the concat operation.\n",
      "  return cls(df=pd.concat(dfs, axis=0, sort=True))\n",
      "[WARNING 10-29 16:24:24] ax.service.utils.report_utils: Column reason missing for all trials. Not appending column.\n",
      "[INFO 10-29 16:24:24] ax.service.ax_client: Completed trial 10 with data: {'t1': (128.911943, None)}.\n",
      "[INFO 10-29 16:24:24] ax.service.ax_client: Saved JSON-serialized state of optimization to `/Users/thomasdodd/Library/CloudStorage/OneDrive-MillfieldEnterprisesLimited/Cambridge/GitHub/BO4ACST/Notebooks/Optimisation/Method20241028Dim2_qKnowledgeGradient/AxExperiment.json`.\n",
      "[WARNING 10-29 16:24:24] ax.service.utils.report_utils: Column reason missing for all trials. Not appending column.\n",
      "[WARNING 10-29 16:24:24] ax.service.utils.report_utils: Column reason missing for all trials. Not appending column.\n"
     ]
    },
    {
     "name": "stdout",
     "output_type": "stream",
     "text": [
      "There are no trials currently running - initialising Bayesian iteration trials.\n"
     ]
    },
    {
     "name": "stderr",
     "output_type": "stream",
     "text": [
      "[INFO 10-29 16:24:27] ax.service.ax_client: Generated new trial 11 with parameters {'x1': 4.53239, 'x2': 2.880899} using model BoTorch.\n",
      "[INFO 10-29 16:24:27] ax.service.ax_client: Saved JSON-serialized state of optimization to `/Users/thomasdodd/Library/CloudStorage/OneDrive-MillfieldEnterprisesLimited/Cambridge/GitHub/BO4ACST/Notebooks/Optimisation/Method20241028Dim2_qKnowledgeGradient/AxExperiment.json`.\n",
      "/Users/thomasdodd/miniconda3/envs/BO4ACST_env/lib/python3.11/site-packages/ax/core/data.py:288: FutureWarning: The behavior of DataFrame concatenation with empty or all-NA entries is deprecated. In a future version, this will no longer exclude empty or all-NA columns when determining the result dtypes. To retain the old behavior, exclude the relevant entries before the concat operation.\n",
      "  return cls(df=pd.concat(dfs, axis=0, sort=True))\n",
      "[WARNING 10-29 16:24:27] ax.service.utils.report_utils: Column reason missing for all trials. Not appending column.\n",
      "/Users/thomasdodd/miniconda3/envs/BO4ACST_env/lib/python3.11/site-packages/ax/core/data.py:288: FutureWarning: The behavior of DataFrame concatenation with empty or all-NA entries is deprecated. In a future version, this will no longer exclude empty or all-NA columns when determining the result dtypes. To retain the old behavior, exclude the relevant entries before the concat operation.\n",
      "  return cls(df=pd.concat(dfs, axis=0, sort=True))\n",
      "[WARNING 10-29 16:24:27] ax.service.utils.report_utils: Column reason missing for all trials. Not appending column.\n",
      "[INFO 10-29 16:24:27] ax.service.ax_client: Completed trial 11 with data: {'t1': (59.094117, None)}.\n",
      "[INFO 10-29 16:24:27] ax.service.ax_client: Saved JSON-serialized state of optimization to `/Users/thomasdodd/Library/CloudStorage/OneDrive-MillfieldEnterprisesLimited/Cambridge/GitHub/BO4ACST/Notebooks/Optimisation/Method20241028Dim2_qKnowledgeGradient/AxExperiment.json`.\n",
      "[WARNING 10-29 16:24:27] ax.service.utils.report_utils: Column reason missing for all trials. Not appending column.\n",
      "[WARNING 10-29 16:24:27] ax.service.utils.report_utils: Column reason missing for all trials. Not appending column.\n"
     ]
    },
    {
     "name": "stdout",
     "output_type": "stream",
     "text": [
      "There are no trials currently running - initialising Bayesian iteration trials.\n"
     ]
    },
    {
     "name": "stderr",
     "output_type": "stream",
     "text": [
      "[INFO 10-29 16:24:30] ax.service.ax_client: Generated new trial 12 with parameters {'x1': -4.476646, 'x2': 6.926671} using model BoTorch.\n",
      "[INFO 10-29 16:24:30] ax.service.ax_client: Saved JSON-serialized state of optimization to `/Users/thomasdodd/Library/CloudStorage/OneDrive-MillfieldEnterprisesLimited/Cambridge/GitHub/BO4ACST/Notebooks/Optimisation/Method20241028Dim2_qKnowledgeGradient/AxExperiment.json`.\n",
      "/Users/thomasdodd/miniconda3/envs/BO4ACST_env/lib/python3.11/site-packages/ax/core/data.py:288: FutureWarning: The behavior of DataFrame concatenation with empty or all-NA entries is deprecated. In a future version, this will no longer exclude empty or all-NA columns when determining the result dtypes. To retain the old behavior, exclude the relevant entries before the concat operation.\n",
      "  return cls(df=pd.concat(dfs, axis=0, sort=True))\n",
      "[WARNING 10-29 16:24:30] ax.service.utils.report_utils: Column reason missing for all trials. Not appending column.\n",
      "/Users/thomasdodd/miniconda3/envs/BO4ACST_env/lib/python3.11/site-packages/ax/core/data.py:288: FutureWarning: The behavior of DataFrame concatenation with empty or all-NA entries is deprecated. In a future version, this will no longer exclude empty or all-NA columns when determining the result dtypes. To retain the old behavior, exclude the relevant entries before the concat operation.\n",
      "  return cls(df=pd.concat(dfs, axis=0, sort=True))\n",
      "[WARNING 10-29 16:24:30] ax.service.utils.report_utils: Column reason missing for all trials. Not appending column.\n",
      "[INFO 10-29 16:24:30] ax.service.ax_client: Completed trial 12 with data: {'t1': (55.022081, None)}.\n",
      "[INFO 10-29 16:24:30] ax.service.ax_client: Saved JSON-serialized state of optimization to `/Users/thomasdodd/Library/CloudStorage/OneDrive-MillfieldEnterprisesLimited/Cambridge/GitHub/BO4ACST/Notebooks/Optimisation/Method20241028Dim2_qKnowledgeGradient/AxExperiment.json`.\n",
      "[WARNING 10-29 16:24:30] ax.service.utils.report_utils: Column reason missing for all trials. Not appending column.\n",
      "[WARNING 10-29 16:24:30] ax.service.utils.report_utils: Column reason missing for all trials. Not appending column.\n"
     ]
    },
    {
     "name": "stdout",
     "output_type": "stream",
     "text": [
      "There are no trials currently running - initialising Bayesian iteration trials.\n"
     ]
    },
    {
     "name": "stderr",
     "output_type": "stream",
     "text": [
      "[INFO 10-29 16:24:32] ax.service.ax_client: Generated new trial 13 with parameters {'x1': 4.455649, 'x2': -2.572149} using model BoTorch.\n",
      "[INFO 10-29 16:24:32] ax.service.ax_client: Saved JSON-serialized state of optimization to `/Users/thomasdodd/Library/CloudStorage/OneDrive-MillfieldEnterprisesLimited/Cambridge/GitHub/BO4ACST/Notebooks/Optimisation/Method20241028Dim2_qKnowledgeGradient/AxExperiment.json`.\n",
      "/Users/thomasdodd/miniconda3/envs/BO4ACST_env/lib/python3.11/site-packages/ax/core/data.py:288: FutureWarning: The behavior of DataFrame concatenation with empty or all-NA entries is deprecated. In a future version, this will no longer exclude empty or all-NA columns when determining the result dtypes. To retain the old behavior, exclude the relevant entries before the concat operation.\n",
      "  return cls(df=pd.concat(dfs, axis=0, sort=True))\n",
      "[WARNING 10-29 16:24:32] ax.service.utils.report_utils: Column reason missing for all trials. Not appending column.\n",
      "/Users/thomasdodd/miniconda3/envs/BO4ACST_env/lib/python3.11/site-packages/ax/core/data.py:288: FutureWarning: The behavior of DataFrame concatenation with empty or all-NA entries is deprecated. In a future version, this will no longer exclude empty or all-NA columns when determining the result dtypes. To retain the old behavior, exclude the relevant entries before the concat operation.\n",
      "  return cls(df=pd.concat(dfs, axis=0, sort=True))\n",
      "[WARNING 10-29 16:24:32] ax.service.utils.report_utils: Column reason missing for all trials. Not appending column.\n",
      "[INFO 10-29 16:24:32] ax.service.ax_client: Completed trial 13 with data: {'t1': (60.908648, None)}.\n",
      "[INFO 10-29 16:24:32] ax.service.ax_client: Saved JSON-serialized state of optimization to `/Users/thomasdodd/Library/CloudStorage/OneDrive-MillfieldEnterprisesLimited/Cambridge/GitHub/BO4ACST/Notebooks/Optimisation/Method20241028Dim2_qKnowledgeGradient/AxExperiment.json`.\n",
      "[WARNING 10-29 16:24:32] ax.service.utils.report_utils: Column reason missing for all trials. Not appending column.\n",
      "[WARNING 10-29 16:24:32] ax.service.utils.report_utils: Column reason missing for all trials. Not appending column.\n"
     ]
    },
    {
     "name": "stdout",
     "output_type": "stream",
     "text": [
      "There are no trials currently running - initialising Bayesian iteration trials.\n"
     ]
    },
    {
     "name": "stderr",
     "output_type": "stream",
     "text": [
      "[INFO 10-29 16:24:35] ax.service.ax_client: Generated new trial 14 with parameters {'x1': -0.474872, 'x2': 6.563133} using model BoTorch.\n",
      "[INFO 10-29 16:24:35] ax.service.ax_client: Saved JSON-serialized state of optimization to `/Users/thomasdodd/Library/CloudStorage/OneDrive-MillfieldEnterprisesLimited/Cambridge/GitHub/BO4ACST/Notebooks/Optimisation/Method20241028Dim2_qKnowledgeGradient/AxExperiment.json`.\n",
      "/Users/thomasdodd/miniconda3/envs/BO4ACST_env/lib/python3.11/site-packages/ax/core/data.py:288: FutureWarning: The behavior of DataFrame concatenation with empty or all-NA entries is deprecated. In a future version, this will no longer exclude empty or all-NA columns when determining the result dtypes. To retain the old behavior, exclude the relevant entries before the concat operation.\n",
      "  return cls(df=pd.concat(dfs, axis=0, sort=True))\n",
      "[WARNING 10-29 16:24:35] ax.service.utils.report_utils: Column reason missing for all trials. Not appending column.\n",
      "/Users/thomasdodd/miniconda3/envs/BO4ACST_env/lib/python3.11/site-packages/ax/core/data.py:288: FutureWarning: The behavior of DataFrame concatenation with empty or all-NA entries is deprecated. In a future version, this will no longer exclude empty or all-NA columns when determining the result dtypes. To retain the old behavior, exclude the relevant entries before the concat operation.\n",
      "  return cls(df=pd.concat(dfs, axis=0, sort=True))\n",
      "[WARNING 10-29 16:24:35] ax.service.utils.report_utils: Column reason missing for all trials. Not appending column.\n",
      "[INFO 10-29 16:24:35] ax.service.ax_client: Completed trial 14 with data: {'t1': (32.3145, None)}.\n",
      "[INFO 10-29 16:24:35] ax.service.ax_client: Saved JSON-serialized state of optimization to `/Users/thomasdodd/Library/CloudStorage/OneDrive-MillfieldEnterprisesLimited/Cambridge/GitHub/BO4ACST/Notebooks/Optimisation/Method20241028Dim2_qKnowledgeGradient/AxExperiment.json`.\n",
      "[WARNING 10-29 16:24:35] ax.service.utils.report_utils: Column reason missing for all trials. Not appending column.\n",
      "[WARNING 10-29 16:24:35] ax.service.utils.report_utils: Column reason missing for all trials. Not appending column.\n"
     ]
    },
    {
     "name": "stdout",
     "output_type": "stream",
     "text": [
      "There are no trials currently running - initialising Bayesian iteration trials.\n"
     ]
    },
    {
     "name": "stderr",
     "output_type": "stream",
     "text": [
      "[INFO 10-29 16:24:38] ax.service.ax_client: Generated new trial 15 with parameters {'x1': 5.551322, 'x2': 0.325929} using model BoTorch.\n",
      "[INFO 10-29 16:24:38] ax.service.ax_client: Saved JSON-serialized state of optimization to `/Users/thomasdodd/Library/CloudStorage/OneDrive-MillfieldEnterprisesLimited/Cambridge/GitHub/BO4ACST/Notebooks/Optimisation/Method20241028Dim2_qKnowledgeGradient/AxExperiment.json`.\n",
      "/Users/thomasdodd/miniconda3/envs/BO4ACST_env/lib/python3.11/site-packages/ax/core/data.py:288: FutureWarning: The behavior of DataFrame concatenation with empty or all-NA entries is deprecated. In a future version, this will no longer exclude empty or all-NA columns when determining the result dtypes. To retain the old behavior, exclude the relevant entries before the concat operation.\n",
      "  return cls(df=pd.concat(dfs, axis=0, sort=True))\n",
      "[WARNING 10-29 16:24:38] ax.service.utils.report_utils: Column reason missing for all trials. Not appending column.\n",
      "/Users/thomasdodd/miniconda3/envs/BO4ACST_env/lib/python3.11/site-packages/ax/core/data.py:288: FutureWarning: The behavior of DataFrame concatenation with empty or all-NA entries is deprecated. In a future version, this will no longer exclude empty or all-NA columns when determining the result dtypes. To retain the old behavior, exclude the relevant entries before the concat operation.\n",
      "  return cls(df=pd.concat(dfs, axis=0, sort=True))\n",
      "[WARNING 10-29 16:24:38] ax.service.utils.report_utils: Column reason missing for all trials. Not appending column.\n",
      "[INFO 10-29 16:24:38] ax.service.ax_client: Completed trial 15 with data: {'t1': (41.961486, None)}.\n",
      "[INFO 10-29 16:24:38] ax.service.ax_client: Saved JSON-serialized state of optimization to `/Users/thomasdodd/Library/CloudStorage/OneDrive-MillfieldEnterprisesLimited/Cambridge/GitHub/BO4ACST/Notebooks/Optimisation/Method20241028Dim2_qKnowledgeGradient/AxExperiment.json`.\n",
      "[WARNING 10-29 16:24:38] ax.service.utils.report_utils: Column reason missing for all trials. Not appending column.\n",
      "[WARNING 10-29 16:24:38] ax.service.utils.report_utils: Column reason missing for all trials. Not appending column.\n"
     ]
    },
    {
     "name": "stdout",
     "output_type": "stream",
     "text": [
      "There are no trials currently running - initialising Bayesian iteration trials.\n"
     ]
    },
    {
     "name": "stderr",
     "output_type": "stream",
     "text": [
      "[INFO 10-29 16:25:15] ax.service.ax_client: Generated new trial 16 with parameters {'x1': 0.514431, 'x2': 6.468787} using model BoTorch.\n",
      "[INFO 10-29 16:25:15] ax.service.ax_client: Saved JSON-serialized state of optimization to `/Users/thomasdodd/Library/CloudStorage/OneDrive-MillfieldEnterprisesLimited/Cambridge/GitHub/BO4ACST/Notebooks/Optimisation/Method20241028Dim2_qKnowledgeGradient/AxExperiment.json`.\n",
      "/Users/thomasdodd/miniconda3/envs/BO4ACST_env/lib/python3.11/site-packages/ax/core/data.py:288: FutureWarning: The behavior of DataFrame concatenation with empty or all-NA entries is deprecated. In a future version, this will no longer exclude empty or all-NA columns when determining the result dtypes. To retain the old behavior, exclude the relevant entries before the concat operation.\n",
      "  return cls(df=pd.concat(dfs, axis=0, sort=True))\n",
      "[WARNING 10-29 16:25:15] ax.service.utils.report_utils: Column reason missing for all trials. Not appending column.\n",
      "/Users/thomasdodd/miniconda3/envs/BO4ACST_env/lib/python3.11/site-packages/ax/core/data.py:288: FutureWarning: The behavior of DataFrame concatenation with empty or all-NA entries is deprecated. In a future version, this will no longer exclude empty or all-NA columns when determining the result dtypes. To retain the old behavior, exclude the relevant entries before the concat operation.\n",
      "  return cls(df=pd.concat(dfs, axis=0, sort=True))\n",
      "[WARNING 10-29 16:25:15] ax.service.utils.report_utils: Column reason missing for all trials. Not appending column.\n",
      "[INFO 10-29 16:25:15] ax.service.ax_client: Completed trial 16 with data: {'t1': (47.866613, None)}.\n",
      "[INFO 10-29 16:25:15] ax.service.ax_client: Saved JSON-serialized state of optimization to `/Users/thomasdodd/Library/CloudStorage/OneDrive-MillfieldEnterprisesLimited/Cambridge/GitHub/BO4ACST/Notebooks/Optimisation/Method20241028Dim2_qKnowledgeGradient/AxExperiment.json`.\n",
      "[WARNING 10-29 16:25:15] ax.service.utils.report_utils: Column reason missing for all trials. Not appending column.\n",
      "[WARNING 10-29 16:25:15] ax.service.utils.report_utils: Column reason missing for all trials. Not appending column.\n"
     ]
    },
    {
     "name": "stdout",
     "output_type": "stream",
     "text": [
      "There are no trials currently running - initialising Bayesian iteration trials.\n"
     ]
    },
    {
     "name": "stderr",
     "output_type": "stream",
     "text": [
      "[INFO 10-29 16:26:29] ax.service.ax_client: Generated new trial 17 with parameters {'x1': 3.276838, 'x2': -0.96466} using model BoTorch.\n",
      "[INFO 10-29 16:26:29] ax.service.ax_client: Saved JSON-serialized state of optimization to `/Users/thomasdodd/Library/CloudStorage/OneDrive-MillfieldEnterprisesLimited/Cambridge/GitHub/BO4ACST/Notebooks/Optimisation/Method20241028Dim2_qKnowledgeGradient/AxExperiment.json`.\n",
      "/Users/thomasdodd/miniconda3/envs/BO4ACST_env/lib/python3.11/site-packages/ax/core/data.py:288: FutureWarning: The behavior of DataFrame concatenation with empty or all-NA entries is deprecated. In a future version, this will no longer exclude empty or all-NA columns when determining the result dtypes. To retain the old behavior, exclude the relevant entries before the concat operation.\n",
      "  return cls(df=pd.concat(dfs, axis=0, sort=True))\n",
      "[WARNING 10-29 16:26:29] ax.service.utils.report_utils: Column reason missing for all trials. Not appending column.\n",
      "/Users/thomasdodd/miniconda3/envs/BO4ACST_env/lib/python3.11/site-packages/ax/core/data.py:288: FutureWarning: The behavior of DataFrame concatenation with empty or all-NA entries is deprecated. In a future version, this will no longer exclude empty or all-NA columns when determining the result dtypes. To retain the old behavior, exclude the relevant entries before the concat operation.\n",
      "  return cls(df=pd.concat(dfs, axis=0, sort=True))\n",
      "[WARNING 10-29 16:26:29] ax.service.utils.report_utils: Column reason missing for all trials. Not appending column.\n",
      "[INFO 10-29 16:26:29] ax.service.ax_client: Completed trial 17 with data: {'t1': (32.297502, None)}.\n",
      "[INFO 10-29 16:26:29] ax.service.ax_client: Saved JSON-serialized state of optimization to `/Users/thomasdodd/Library/CloudStorage/OneDrive-MillfieldEnterprisesLimited/Cambridge/GitHub/BO4ACST/Notebooks/Optimisation/Method20241028Dim2_qKnowledgeGradient/AxExperiment.json`.\n",
      "[WARNING 10-29 16:26:29] ax.service.utils.report_utils: Column reason missing for all trials. Not appending column.\n",
      "[WARNING 10-29 16:26:29] ax.service.utils.report_utils: Column reason missing for all trials. Not appending column.\n"
     ]
    },
    {
     "name": "stdout",
     "output_type": "stream",
     "text": [
      "There are no trials currently running - initialising Bayesian iteration trials.\n"
     ]
    },
    {
     "name": "stderr",
     "output_type": "stream",
     "text": [
      "[INFO 10-29 16:27:44] ax.service.ax_client: Generated new trial 18 with parameters {'x1': -2.476985, 'x2': 3.899834} using model BoTorch.\n",
      "[INFO 10-29 16:27:44] ax.service.ax_client: Saved JSON-serialized state of optimization to `/Users/thomasdodd/Library/CloudStorage/OneDrive-MillfieldEnterprisesLimited/Cambridge/GitHub/BO4ACST/Notebooks/Optimisation/Method20241028Dim2_qKnowledgeGradient/AxExperiment.json`.\n",
      "/Users/thomasdodd/miniconda3/envs/BO4ACST_env/lib/python3.11/site-packages/ax/core/data.py:288: FutureWarning: The behavior of DataFrame concatenation with empty or all-NA entries is deprecated. In a future version, this will no longer exclude empty or all-NA columns when determining the result dtypes. To retain the old behavior, exclude the relevant entries before the concat operation.\n",
      "  return cls(df=pd.concat(dfs, axis=0, sort=True))\n",
      "[WARNING 10-29 16:27:44] ax.service.utils.report_utils: Column reason missing for all trials. Not appending column.\n",
      "/Users/thomasdodd/miniconda3/envs/BO4ACST_env/lib/python3.11/site-packages/ax/core/data.py:288: FutureWarning: The behavior of DataFrame concatenation with empty or all-NA entries is deprecated. In a future version, this will no longer exclude empty or all-NA columns when determining the result dtypes. To retain the old behavior, exclude the relevant entries before the concat operation.\n",
      "  return cls(df=pd.concat(dfs, axis=0, sort=True))\n",
      "[WARNING 10-29 16:27:44] ax.service.utils.report_utils: Column reason missing for all trials. Not appending column.\n",
      "[INFO 10-29 16:27:44] ax.service.ax_client: Completed trial 18 with data: {'t1': (39.465963, None)}.\n",
      "[INFO 10-29 16:27:44] ax.service.ax_client: Saved JSON-serialized state of optimization to `/Users/thomasdodd/Library/CloudStorage/OneDrive-MillfieldEnterprisesLimited/Cambridge/GitHub/BO4ACST/Notebooks/Optimisation/Method20241028Dim2_qKnowledgeGradient/AxExperiment.json`.\n",
      "[WARNING 10-29 16:27:44] ax.service.utils.report_utils: Column reason missing for all trials. Not appending column.\n",
      "[WARNING 10-29 16:27:44] ax.service.utils.report_utils: Column reason missing for all trials. Not appending column.\n"
     ]
    },
    {
     "name": "stdout",
     "output_type": "stream",
     "text": [
      "There are no trials currently running - initialising Bayesian iteration trials.\n"
     ]
    },
    {
     "name": "stderr",
     "output_type": "stream",
     "text": [
      "[INFO 10-29 16:29:13] ax.service.ax_client: Generated new trial 19 with parameters {'x1': 4.705083, 'x2': 1.052862} using model BoTorch.\n",
      "[INFO 10-29 16:29:13] ax.service.ax_client: Saved JSON-serialized state of optimization to `/Users/thomasdodd/Library/CloudStorage/OneDrive-MillfieldEnterprisesLimited/Cambridge/GitHub/BO4ACST/Notebooks/Optimisation/Method20241028Dim2_qKnowledgeGradient/AxExperiment.json`.\n",
      "/Users/thomasdodd/miniconda3/envs/BO4ACST_env/lib/python3.11/site-packages/ax/core/data.py:288: FutureWarning: The behavior of DataFrame concatenation with empty or all-NA entries is deprecated. In a future version, this will no longer exclude empty or all-NA columns when determining the result dtypes. To retain the old behavior, exclude the relevant entries before the concat operation.\n",
      "  return cls(df=pd.concat(dfs, axis=0, sort=True))\n",
      "[WARNING 10-29 16:29:13] ax.service.utils.report_utils: Column reason missing for all trials. Not appending column.\n",
      "/Users/thomasdodd/miniconda3/envs/BO4ACST_env/lib/python3.11/site-packages/ax/core/data.py:288: FutureWarning: The behavior of DataFrame concatenation with empty or all-NA entries is deprecated. In a future version, this will no longer exclude empty or all-NA columns when determining the result dtypes. To retain the old behavior, exclude the relevant entries before the concat operation.\n",
      "  return cls(df=pd.concat(dfs, axis=0, sort=True))\n",
      "[WARNING 10-29 16:29:13] ax.service.utils.report_utils: Column reason missing for all trials. Not appending column.\n",
      "[INFO 10-29 16:29:13] ax.service.ax_client: Completed trial 19 with data: {'t1': (29.880465, None)}.\n",
      "[INFO 10-29 16:29:13] ax.service.ax_client: Saved JSON-serialized state of optimization to `/Users/thomasdodd/Library/CloudStorage/OneDrive-MillfieldEnterprisesLimited/Cambridge/GitHub/BO4ACST/Notebooks/Optimisation/Method20241028Dim2_qKnowledgeGradient/AxExperiment.json`.\n",
      "[WARNING 10-29 16:29:13] ax.service.utils.report_utils: Column reason missing for all trials. Not appending column.\n",
      "[WARNING 10-29 16:29:13] ax.service.utils.report_utils: Column reason missing for all trials. Not appending column.\n"
     ]
    },
    {
     "name": "stdout",
     "output_type": "stream",
     "text": [
      "There are no trials currently running - initialising Bayesian iteration trials.\n"
     ]
    },
    {
     "name": "stderr",
     "output_type": "stream",
     "text": [
      "[INFO 10-29 16:31:21] ax.service.ax_client: Generated new trial 20 with parameters {'x1': 1.008597, 'x2': 6.671836} using model BoTorch.\n",
      "[INFO 10-29 16:31:21] ax.service.ax_client: Saved JSON-serialized state of optimization to `/Users/thomasdodd/Library/CloudStorage/OneDrive-MillfieldEnterprisesLimited/Cambridge/GitHub/BO4ACST/Notebooks/Optimisation/Method20241028Dim2_qKnowledgeGradient/AxExperiment.json`.\n",
      "/Users/thomasdodd/miniconda3/envs/BO4ACST_env/lib/python3.11/site-packages/ax/core/data.py:288: FutureWarning: The behavior of DataFrame concatenation with empty or all-NA entries is deprecated. In a future version, this will no longer exclude empty or all-NA columns when determining the result dtypes. To retain the old behavior, exclude the relevant entries before the concat operation.\n",
      "  return cls(df=pd.concat(dfs, axis=0, sort=True))\n",
      "[WARNING 10-29 16:31:21] ax.service.utils.report_utils: Column reason missing for all trials. Not appending column.\n",
      "/Users/thomasdodd/miniconda3/envs/BO4ACST_env/lib/python3.11/site-packages/ax/core/data.py:288: FutureWarning: The behavior of DataFrame concatenation with empty or all-NA entries is deprecated. In a future version, this will no longer exclude empty or all-NA columns when determining the result dtypes. To retain the old behavior, exclude the relevant entries before the concat operation.\n",
      "  return cls(df=pd.concat(dfs, axis=0, sort=True))\n",
      "[WARNING 10-29 16:31:21] ax.service.utils.report_utils: Column reason missing for all trials. Not appending column.\n",
      "[INFO 10-29 16:31:21] ax.service.ax_client: Completed trial 20 with data: {'t1': (67.664798, None)}.\n",
      "[INFO 10-29 16:31:21] ax.service.ax_client: Saved JSON-serialized state of optimization to `/Users/thomasdodd/Library/CloudStorage/OneDrive-MillfieldEnterprisesLimited/Cambridge/GitHub/BO4ACST/Notebooks/Optimisation/Method20241028Dim2_qKnowledgeGradient/AxExperiment.json`.\n",
      "[WARNING 10-29 16:31:21] ax.service.utils.report_utils: Column reason missing for all trials. Not appending column.\n",
      "[WARNING 10-29 16:31:21] ax.service.utils.report_utils: Column reason missing for all trials. Not appending column.\n"
     ]
    },
    {
     "name": "stdout",
     "output_type": "stream",
     "text": [
      "There are no trials currently running - initialising Bayesian iteration trials.\n"
     ]
    },
    {
     "name": "stderr",
     "output_type": "stream",
     "text": [
      "[INFO 10-29 16:32:30] ax.service.ax_client: Generated new trial 21 with parameters {'x1': 2.092756, 'x2': -1.205089} using model BoTorch.\n",
      "[INFO 10-29 16:32:30] ax.service.ax_client: Saved JSON-serialized state of optimization to `/Users/thomasdodd/Library/CloudStorage/OneDrive-MillfieldEnterprisesLimited/Cambridge/GitHub/BO4ACST/Notebooks/Optimisation/Method20241028Dim2_qKnowledgeGradient/AxExperiment.json`.\n",
      "/Users/thomasdodd/miniconda3/envs/BO4ACST_env/lib/python3.11/site-packages/ax/core/data.py:288: FutureWarning: The behavior of DataFrame concatenation with empty or all-NA entries is deprecated. In a future version, this will no longer exclude empty or all-NA columns when determining the result dtypes. To retain the old behavior, exclude the relevant entries before the concat operation.\n",
      "  return cls(df=pd.concat(dfs, axis=0, sort=True))\n",
      "[WARNING 10-29 16:32:30] ax.service.utils.report_utils: Column reason missing for all trials. Not appending column.\n",
      "/Users/thomasdodd/miniconda3/envs/BO4ACST_env/lib/python3.11/site-packages/ax/core/data.py:288: FutureWarning: The behavior of DataFrame concatenation with empty or all-NA entries is deprecated. In a future version, this will no longer exclude empty or all-NA columns when determining the result dtypes. To retain the old behavior, exclude the relevant entries before the concat operation.\n",
      "  return cls(df=pd.concat(dfs, axis=0, sort=True))\n",
      "[WARNING 10-29 16:32:30] ax.service.utils.report_utils: Column reason missing for all trials. Not appending column.\n",
      "[INFO 10-29 16:32:30] ax.service.ax_client: Completed trial 21 with data: {'t1': (57.623372, None)}.\n",
      "[INFO 10-29 16:32:30] ax.service.ax_client: Saved JSON-serialized state of optimization to `/Users/thomasdodd/Library/CloudStorage/OneDrive-MillfieldEnterprisesLimited/Cambridge/GitHub/BO4ACST/Notebooks/Optimisation/Method20241028Dim2_qKnowledgeGradient/AxExperiment.json`.\n",
      "[WARNING 10-29 16:32:30] ax.service.utils.report_utils: Column reason missing for all trials. Not appending column.\n",
      "[WARNING 10-29 16:32:30] ax.service.utils.report_utils: Column reason missing for all trials. Not appending column.\n"
     ]
    },
    {
     "name": "stdout",
     "output_type": "stream",
     "text": [
      "There are no trials currently running - initialising Bayesian iteration trials.\n"
     ]
    },
    {
     "name": "stderr",
     "output_type": "stream",
     "text": [
      "[INFO 10-29 16:34:16] ax.service.ax_client: Generated new trial 22 with parameters {'x1': -2.311905, 'x2': 4.106463} using model BoTorch.\n",
      "[INFO 10-29 16:34:16] ax.service.ax_client: Saved JSON-serialized state of optimization to `/Users/thomasdodd/Library/CloudStorage/OneDrive-MillfieldEnterprisesLimited/Cambridge/GitHub/BO4ACST/Notebooks/Optimisation/Method20241028Dim2_qKnowledgeGradient/AxExperiment.json`.\n",
      "/Users/thomasdodd/miniconda3/envs/BO4ACST_env/lib/python3.11/site-packages/ax/core/data.py:288: FutureWarning: The behavior of DataFrame concatenation with empty or all-NA entries is deprecated. In a future version, this will no longer exclude empty or all-NA columns when determining the result dtypes. To retain the old behavior, exclude the relevant entries before the concat operation.\n",
      "  return cls(df=pd.concat(dfs, axis=0, sort=True))\n",
      "[WARNING 10-29 16:34:16] ax.service.utils.report_utils: Column reason missing for all trials. Not appending column.\n",
      "/Users/thomasdodd/miniconda3/envs/BO4ACST_env/lib/python3.11/site-packages/ax/core/data.py:288: FutureWarning: The behavior of DataFrame concatenation with empty or all-NA entries is deprecated. In a future version, this will no longer exclude empty or all-NA columns when determining the result dtypes. To retain the old behavior, exclude the relevant entries before the concat operation.\n",
      "  return cls(df=pd.concat(dfs, axis=0, sort=True))\n",
      "[WARNING 10-29 16:34:16] ax.service.utils.report_utils: Column reason missing for all trials. Not appending column.\n",
      "[INFO 10-29 16:34:16] ax.service.ax_client: Completed trial 22 with data: {'t1': (31.64887, None)}.\n",
      "[INFO 10-29 16:34:16] ax.service.ax_client: Saved JSON-serialized state of optimization to `/Users/thomasdodd/Library/CloudStorage/OneDrive-MillfieldEnterprisesLimited/Cambridge/GitHub/BO4ACST/Notebooks/Optimisation/Method20241028Dim2_qKnowledgeGradient/AxExperiment.json`.\n",
      "[WARNING 10-29 16:34:16] ax.service.utils.report_utils: Column reason missing for all trials. Not appending column.\n",
      "[WARNING 10-29 16:34:16] ax.service.utils.report_utils: Column reason missing for all trials. Not appending column.\n"
     ]
    },
    {
     "name": "stdout",
     "output_type": "stream",
     "text": [
      "There are no trials currently running - initialising Bayesian iteration trials.\n"
     ]
    },
    {
     "name": "stderr",
     "output_type": "stream",
     "text": [
      "[INFO 10-29 16:35:31] ax.service.ax_client: Generated new trial 23 with parameters {'x1': -7.806791, 'x2': 8.502821} using model BoTorch.\n",
      "[INFO 10-29 16:35:31] ax.service.ax_client: Saved JSON-serialized state of optimization to `/Users/thomasdodd/Library/CloudStorage/OneDrive-MillfieldEnterprisesLimited/Cambridge/GitHub/BO4ACST/Notebooks/Optimisation/Method20241028Dim2_qKnowledgeGradient/AxExperiment.json`.\n",
      "/Users/thomasdodd/miniconda3/envs/BO4ACST_env/lib/python3.11/site-packages/ax/core/data.py:288: FutureWarning: The behavior of DataFrame concatenation with empty or all-NA entries is deprecated. In a future version, this will no longer exclude empty or all-NA columns when determining the result dtypes. To retain the old behavior, exclude the relevant entries before the concat operation.\n",
      "  return cls(df=pd.concat(dfs, axis=0, sort=True))\n",
      "[WARNING 10-29 16:35:31] ax.service.utils.report_utils: Column reason missing for all trials. Not appending column.\n",
      "/Users/thomasdodd/miniconda3/envs/BO4ACST_env/lib/python3.11/site-packages/ax/core/data.py:288: FutureWarning: The behavior of DataFrame concatenation with empty or all-NA entries is deprecated. In a future version, this will no longer exclude empty or all-NA columns when determining the result dtypes. To retain the old behavior, exclude the relevant entries before the concat operation.\n",
      "  return cls(df=pd.concat(dfs, axis=0, sort=True))\n",
      "[WARNING 10-29 16:35:31] ax.service.utils.report_utils: Column reason missing for all trials. Not appending column.\n",
      "[INFO 10-29 16:35:31] ax.service.ax_client: Completed trial 23 with data: {'t1': (151.50547, None)}.\n",
      "[INFO 10-29 16:35:31] ax.service.ax_client: Saved JSON-serialized state of optimization to `/Users/thomasdodd/Library/CloudStorage/OneDrive-MillfieldEnterprisesLimited/Cambridge/GitHub/BO4ACST/Notebooks/Optimisation/Method20241028Dim2_qKnowledgeGradient/AxExperiment.json`.\n",
      "[WARNING 10-29 16:35:31] ax.service.utils.report_utils: Column reason missing for all trials. Not appending column.\n",
      "[INFO 10-29 16:35:31] ax.service.ax_client: Starting optimization with verbose logging. To disable logging, set the `verbose_logging` argument to `False`. Note that float values in the logs are rounded to 6 decimal points.\n",
      "[INFO 10-29 16:35:31] ax.service.utils.instantiation: Created search space: SearchSpace(parameters=[RangeParameter(name='x1', parameter_type=FLOAT, range=[-10.0, 10.0]), RangeParameter(name='x2', parameter_type=FLOAT, range=[-10.0, 10.0])], parameter_constraints=[]).\n",
      "[INFO 10-29 16:35:31] ax.service.ax_client: Saved JSON-serialized state of optimization to `/Users/thomasdodd/Library/CloudStorage/OneDrive-MillfieldEnterprisesLimited/Cambridge/GitHub/BO4ACST/Notebooks/Optimisation/Method20241028Dim2_qKnowledgeGradient/AxExperiment.json`.\n",
      "[INFO 10-29 16:35:31] ax.core.experiment: Attached custom parameterizations [{'x1': -10.0, 'x2': -10.0}] as trial 0.\n",
      "[INFO 10-29 16:35:31] ax.core.experiment: Attached custom parameterizations [{'x1': 0.0, 'x2': -10.0}] as trial 1.\n",
      "[INFO 10-29 16:35:31] ax.core.experiment: Attached custom parameterizations [{'x1': 10.0, 'x2': -10.0}] as trial 2.\n",
      "[INFO 10-29 16:35:31] ax.core.experiment: Attached custom parameterizations [{'x1': -10.0, 'x2': 0.0}] as trial 3.\n",
      "[INFO 10-29 16:35:31] ax.core.experiment: Attached custom parameterizations [{'x1': 0.0, 'x2': 0.0}] as trial 4.\n",
      "[INFO 10-29 16:35:31] ax.core.experiment: Attached custom parameterizations [{'x1': 10.0, 'x2': 0.0}] as trial 5.\n",
      "[INFO 10-29 16:35:31] ax.core.experiment: Attached custom parameterizations [{'x1': -10.0, 'x2': 10.0}] as trial 6.\n",
      "[INFO 10-29 16:35:31] ax.core.experiment: Attached custom parameterizations [{'x1': 0.0, 'x2': 10.0}] as trial 7.\n",
      "[INFO 10-29 16:35:31] ax.core.experiment: Attached custom parameterizations [{'x1': 10.0, 'x2': 10.0}] as trial 8.\n",
      "[INFO 10-29 16:35:31] ax.service.ax_client: Saved JSON-serialized state of optimization to `/Users/thomasdodd/Library/CloudStorage/OneDrive-MillfieldEnterprisesLimited/Cambridge/GitHub/BO4ACST/Notebooks/Optimisation/Method20241028Dim2_qKnowledgeGradient/AxExperiment.json`.\n",
      "[WARNING 10-29 16:35:31] ax.service.utils.report_utils: Column reason missing for all trials. Not appending column.\n",
      "[INFO 10-29 16:35:31] ax.service.utils.report_utils: No results present for the specified metrics `[Metric('t1')]`. Returning arm parameters and metadata only.\n",
      "[WARNING 10-29 16:35:31] ax.service.utils.report_utils: Column reason missing for all trials. Not appending column.\n",
      "[INFO 10-29 16:35:31] ax.service.utils.report_utils: No results present for the specified metrics `[Metric('t1')]`. Returning arm parameters and metadata only.\n",
      "[INFO 10-29 16:35:31] ax.service.ax_client: Completed trial 0 with data: {'t1': (2594.0, None)}.\n",
      "[INFO 10-29 16:35:31] ax.service.ax_client: Saved JSON-serialized state of optimization to `/Users/thomasdodd/Library/CloudStorage/OneDrive-MillfieldEnterprisesLimited/Cambridge/GitHub/BO4ACST/Notebooks/Optimisation/Method20241028Dim2_qKnowledgeGradient/AxExperiment.json`.\n",
      "[INFO 10-29 16:35:31] ax.service.ax_client: Completed trial 1 with data: {'t1': (954.0, None)}.\n",
      "[INFO 10-29 16:35:31] ax.service.ax_client: Saved JSON-serialized state of optimization to `/Users/thomasdodd/Library/CloudStorage/OneDrive-MillfieldEnterprisesLimited/Cambridge/GitHub/BO4ACST/Notebooks/Optimisation/Method20241028Dim2_qKnowledgeGradient/AxExperiment.json`.\n",
      "[INFO 10-29 16:35:31] ax.service.ax_client: Completed trial 2 with data: {'t1': (314.0, None)}.\n",
      "[INFO 10-29 16:35:31] ax.service.ax_client: Saved JSON-serialized state of optimization to `/Users/thomasdodd/Library/CloudStorage/OneDrive-MillfieldEnterprisesLimited/Cambridge/GitHub/BO4ACST/Notebooks/Optimisation/Method20241028Dim2_qKnowledgeGradient/AxExperiment.json`.\n",
      "[INFO 10-29 16:35:31] ax.service.ax_client: Completed trial 3 with data: {'t1': (914.0, None)}.\n",
      "[INFO 10-29 16:35:31] ax.service.ax_client: Saved JSON-serialized state of optimization to `/Users/thomasdodd/Library/CloudStorage/OneDrive-MillfieldEnterprisesLimited/Cambridge/GitHub/BO4ACST/Notebooks/Optimisation/Method20241028Dim2_qKnowledgeGradient/AxExperiment.json`.\n",
      "[INFO 10-29 16:35:31] ax.service.ax_client: Completed trial 4 with data: {'t1': (74.0, None)}.\n",
      "[INFO 10-29 16:35:31] ax.service.ax_client: Saved JSON-serialized state of optimization to `/Users/thomasdodd/Library/CloudStorage/OneDrive-MillfieldEnterprisesLimited/Cambridge/GitHub/BO4ACST/Notebooks/Optimisation/Method20241028Dim2_qKnowledgeGradient/AxExperiment.json`.\n",
      "[INFO 10-29 16:35:31] ax.service.ax_client: Completed trial 5 with data: {'t1': (234.0, None)}.\n",
      "[INFO 10-29 16:35:31] ax.service.ax_client: Saved JSON-serialized state of optimization to `/Users/thomasdodd/Library/CloudStorage/OneDrive-MillfieldEnterprisesLimited/Cambridge/GitHub/BO4ACST/Notebooks/Optimisation/Method20241028Dim2_qKnowledgeGradient/AxExperiment.json`.\n",
      "[INFO 10-29 16:35:31] ax.service.ax_client: Completed trial 6 with data: {'t1': (234.0, None)}.\n",
      "[INFO 10-29 16:35:31] ax.service.ax_client: Saved JSON-serialized state of optimization to `/Users/thomasdodd/Library/CloudStorage/OneDrive-MillfieldEnterprisesLimited/Cambridge/GitHub/BO4ACST/Notebooks/Optimisation/Method20241028Dim2_qKnowledgeGradient/AxExperiment.json`.\n",
      "[INFO 10-29 16:35:31] ax.service.ax_client: Completed trial 7 with data: {'t1': (194.0, None)}.\n",
      "[INFO 10-29 16:35:31] ax.service.ax_client: Saved JSON-serialized state of optimization to `/Users/thomasdodd/Library/CloudStorage/OneDrive-MillfieldEnterprisesLimited/Cambridge/GitHub/BO4ACST/Notebooks/Optimisation/Method20241028Dim2_qKnowledgeGradient/AxExperiment.json`.\n",
      "[INFO 10-29 16:35:31] ax.service.ax_client: Completed trial 8 with data: {'t1': (1154.0, None)}.\n",
      "[INFO 10-29 16:35:31] ax.service.ax_client: Saved JSON-serialized state of optimization to `/Users/thomasdodd/Library/CloudStorage/OneDrive-MillfieldEnterprisesLimited/Cambridge/GitHub/BO4ACST/Notebooks/Optimisation/Method20241028Dim2_qKnowledgeGradient/AxExperiment.json`.\n",
      "[WARNING 10-29 16:35:31] ax.service.utils.report_utils: Column reason missing for all trials. Not appending column.\n",
      "[WARNING 10-29 16:35:31] ax.service.utils.report_utils: Column reason missing for all trials. Not appending column.\n"
     ]
    },
    {
     "name": "stdout",
     "output_type": "stream",
     "text": [
      "[74.         74.         74.         59.09411704 55.02208081 55.02208081\n",
      " 32.31449988 32.31449988 32.31449988 32.29750216 32.29750216 29.88046534\n",
      " 29.88046534 29.88046534 29.88046534 29.88046534]\n",
      "A new experiment has been created and initialised.\n",
      "No previous or current trials detected - initialising prior-forming trials.\n",
      "Samples gridded = 9\n",
      "There are no trials currently running - initialising Bayesian iteration trials.\n"
     ]
    },
    {
     "name": "stderr",
     "output_type": "stream",
     "text": [
      "[INFO 10-29 16:35:35] ax.service.ax_client: Generated new trial 9 with parameters {'x1': -4.369341, 'x2': 4.819509} using model BoTorch.\n",
      "[INFO 10-29 16:35:35] ax.service.ax_client: Saved JSON-serialized state of optimization to `/Users/thomasdodd/Library/CloudStorage/OneDrive-MillfieldEnterprisesLimited/Cambridge/GitHub/BO4ACST/Notebooks/Optimisation/Method20241028Dim2_qKnowledgeGradient/AxExperiment.json`.\n",
      "/Users/thomasdodd/miniconda3/envs/BO4ACST_env/lib/python3.11/site-packages/ax/core/data.py:288: FutureWarning: The behavior of DataFrame concatenation with empty or all-NA entries is deprecated. In a future version, this will no longer exclude empty or all-NA columns when determining the result dtypes. To retain the old behavior, exclude the relevant entries before the concat operation.\n",
      "  return cls(df=pd.concat(dfs, axis=0, sort=True))\n",
      "[WARNING 10-29 16:35:35] ax.service.utils.report_utils: Column reason missing for all trials. Not appending column.\n",
      "/Users/thomasdodd/miniconda3/envs/BO4ACST_env/lib/python3.11/site-packages/ax/core/data.py:288: FutureWarning: The behavior of DataFrame concatenation with empty or all-NA entries is deprecated. In a future version, this will no longer exclude empty or all-NA columns when determining the result dtypes. To retain the old behavior, exclude the relevant entries before the concat operation.\n",
      "  return cls(df=pd.concat(dfs, axis=0, sort=True))\n",
      "[WARNING 10-29 16:35:35] ax.service.utils.report_utils: Column reason missing for all trials. Not appending column.\n",
      "[INFO 10-29 16:35:35] ax.service.ax_client: Completed trial 9 with data: {'t1': (82.545685, None)}.\n",
      "[INFO 10-29 16:35:35] ax.service.ax_client: Saved JSON-serialized state of optimization to `/Users/thomasdodd/Library/CloudStorage/OneDrive-MillfieldEnterprisesLimited/Cambridge/GitHub/BO4ACST/Notebooks/Optimisation/Method20241028Dim2_qKnowledgeGradient/AxExperiment.json`.\n",
      "[WARNING 10-29 16:35:35] ax.service.utils.report_utils: Column reason missing for all trials. Not appending column.\n",
      "[WARNING 10-29 16:35:35] ax.service.utils.report_utils: Column reason missing for all trials. Not appending column.\n"
     ]
    },
    {
     "name": "stdout",
     "output_type": "stream",
     "text": [
      "There are no trials currently running - initialising Bayesian iteration trials.\n"
     ]
    },
    {
     "name": "stderr",
     "output_type": "stream",
     "text": [
      "[INFO 10-29 16:35:38] ax.service.ax_client: Generated new trial 10 with parameters {'x1': 5.964267, 'x2': -5.067321} using model BoTorch.\n",
      "[INFO 10-29 16:35:38] ax.service.ax_client: Saved JSON-serialized state of optimization to `/Users/thomasdodd/Library/CloudStorage/OneDrive-MillfieldEnterprisesLimited/Cambridge/GitHub/BO4ACST/Notebooks/Optimisation/Method20241028Dim2_qKnowledgeGradient/AxExperiment.json`.\n",
      "/Users/thomasdodd/miniconda3/envs/BO4ACST_env/lib/python3.11/site-packages/ax/core/data.py:288: FutureWarning: The behavior of DataFrame concatenation with empty or all-NA entries is deprecated. In a future version, this will no longer exclude empty or all-NA columns when determining the result dtypes. To retain the old behavior, exclude the relevant entries before the concat operation.\n",
      "  return cls(df=pd.concat(dfs, axis=0, sort=True))\n",
      "[WARNING 10-29 16:35:38] ax.service.utils.report_utils: Column reason missing for all trials. Not appending column.\n",
      "/Users/thomasdodd/miniconda3/envs/BO4ACST_env/lib/python3.11/site-packages/ax/core/data.py:288: FutureWarning: The behavior of DataFrame concatenation with empty or all-NA entries is deprecated. In a future version, this will no longer exclude empty or all-NA columns when determining the result dtypes. To retain the old behavior, exclude the relevant entries before the concat operation.\n",
      "  return cls(df=pd.concat(dfs, axis=0, sort=True))\n",
      "[WARNING 10-29 16:35:38] ax.service.utils.report_utils: Column reason missing for all trials. Not appending column.\n",
      "[INFO 10-29 16:35:38] ax.service.ax_client: Completed trial 10 with data: {'t1': (128.241387, None)}.\n",
      "[INFO 10-29 16:35:38] ax.service.ax_client: Saved JSON-serialized state of optimization to `/Users/thomasdodd/Library/CloudStorage/OneDrive-MillfieldEnterprisesLimited/Cambridge/GitHub/BO4ACST/Notebooks/Optimisation/Method20241028Dim2_qKnowledgeGradient/AxExperiment.json`.\n",
      "[WARNING 10-29 16:35:38] ax.service.utils.report_utils: Column reason missing for all trials. Not appending column.\n",
      "[WARNING 10-29 16:35:38] ax.service.utils.report_utils: Column reason missing for all trials. Not appending column.\n"
     ]
    },
    {
     "name": "stdout",
     "output_type": "stream",
     "text": [
      "There are no trials currently running - initialising Bayesian iteration trials.\n"
     ]
    },
    {
     "name": "stderr",
     "output_type": "stream",
     "text": [
      "[INFO 10-29 16:35:40] ax.service.ax_client: Generated new trial 11 with parameters {'x1': 4.54112, 'x2': 2.897638} using model BoTorch.\n",
      "[INFO 10-29 16:35:40] ax.service.ax_client: Saved JSON-serialized state of optimization to `/Users/thomasdodd/Library/CloudStorage/OneDrive-MillfieldEnterprisesLimited/Cambridge/GitHub/BO4ACST/Notebooks/Optimisation/Method20241028Dim2_qKnowledgeGradient/AxExperiment.json`.\n",
      "/Users/thomasdodd/miniconda3/envs/BO4ACST_env/lib/python3.11/site-packages/ax/core/data.py:288: FutureWarning: The behavior of DataFrame concatenation with empty or all-NA entries is deprecated. In a future version, this will no longer exclude empty or all-NA columns when determining the result dtypes. To retain the old behavior, exclude the relevant entries before the concat operation.\n",
      "  return cls(df=pd.concat(dfs, axis=0, sort=True))\n",
      "[WARNING 10-29 16:35:40] ax.service.utils.report_utils: Column reason missing for all trials. Not appending column.\n",
      "/Users/thomasdodd/miniconda3/envs/BO4ACST_env/lib/python3.11/site-packages/ax/core/data.py:288: FutureWarning: The behavior of DataFrame concatenation with empty or all-NA entries is deprecated. In a future version, this will no longer exclude empty or all-NA columns when determining the result dtypes. To retain the old behavior, exclude the relevant entries before the concat operation.\n",
      "  return cls(df=pd.concat(dfs, axis=0, sort=True))\n",
      "[WARNING 10-29 16:35:40] ax.service.utils.report_utils: Column reason missing for all trials. Not appending column.\n",
      "[INFO 10-29 16:35:40] ax.service.ax_client: Completed trial 11 with data: {'t1': (59.850239, None)}.\n",
      "[INFO 10-29 16:35:40] ax.service.ax_client: Saved JSON-serialized state of optimization to `/Users/thomasdodd/Library/CloudStorage/OneDrive-MillfieldEnterprisesLimited/Cambridge/GitHub/BO4ACST/Notebooks/Optimisation/Method20241028Dim2_qKnowledgeGradient/AxExperiment.json`.\n",
      "[WARNING 10-29 16:35:40] ax.service.utils.report_utils: Column reason missing for all trials. Not appending column.\n",
      "[WARNING 10-29 16:35:40] ax.service.utils.report_utils: Column reason missing for all trials. Not appending column.\n"
     ]
    },
    {
     "name": "stdout",
     "output_type": "stream",
     "text": [
      "There are no trials currently running - initialising Bayesian iteration trials.\n"
     ]
    },
    {
     "name": "stderr",
     "output_type": "stream",
     "text": [
      "[INFO 10-29 16:35:42] ax.service.ax_client: Generated new trial 12 with parameters {'x1': -4.493734, 'x2': 6.933626} using model BoTorch.\n",
      "[INFO 10-29 16:35:42] ax.service.ax_client: Saved JSON-serialized state of optimization to `/Users/thomasdodd/Library/CloudStorage/OneDrive-MillfieldEnterprisesLimited/Cambridge/GitHub/BO4ACST/Notebooks/Optimisation/Method20241028Dim2_qKnowledgeGradient/AxExperiment.json`.\n",
      "/Users/thomasdodd/miniconda3/envs/BO4ACST_env/lib/python3.11/site-packages/ax/core/data.py:288: FutureWarning: The behavior of DataFrame concatenation with empty or all-NA entries is deprecated. In a future version, this will no longer exclude empty or all-NA columns when determining the result dtypes. To retain the old behavior, exclude the relevant entries before the concat operation.\n",
      "  return cls(df=pd.concat(dfs, axis=0, sort=True))\n",
      "[WARNING 10-29 16:35:42] ax.service.utils.report_utils: Column reason missing for all trials. Not appending column.\n",
      "/Users/thomasdodd/miniconda3/envs/BO4ACST_env/lib/python3.11/site-packages/ax/core/data.py:288: FutureWarning: The behavior of DataFrame concatenation with empty or all-NA entries is deprecated. In a future version, this will no longer exclude empty or all-NA columns when determining the result dtypes. To retain the old behavior, exclude the relevant entries before the concat operation.\n",
      "  return cls(df=pd.concat(dfs, axis=0, sort=True))\n",
      "[WARNING 10-29 16:35:42] ax.service.utils.report_utils: Column reason missing for all trials. Not appending column.\n",
      "[INFO 10-29 16:35:42] ax.service.ax_client: Completed trial 12 with data: {'t1': (55.390279, None)}.\n",
      "[INFO 10-29 16:35:42] ax.service.ax_client: Saved JSON-serialized state of optimization to `/Users/thomasdodd/Library/CloudStorage/OneDrive-MillfieldEnterprisesLimited/Cambridge/GitHub/BO4ACST/Notebooks/Optimisation/Method20241028Dim2_qKnowledgeGradient/AxExperiment.json`.\n",
      "[WARNING 10-29 16:35:42] ax.service.utils.report_utils: Column reason missing for all trials. Not appending column.\n",
      "[WARNING 10-29 16:35:42] ax.service.utils.report_utils: Column reason missing for all trials. Not appending column.\n"
     ]
    },
    {
     "name": "stdout",
     "output_type": "stream",
     "text": [
      "There are no trials currently running - initialising Bayesian iteration trials.\n"
     ]
    },
    {
     "name": "stderr",
     "output_type": "stream",
     "text": [
      "[INFO 10-29 16:35:44] ax.service.ax_client: Generated new trial 13 with parameters {'x1': 4.464692, 'x2': -2.465746} using model BoTorch.\n",
      "[INFO 10-29 16:35:44] ax.service.ax_client: Saved JSON-serialized state of optimization to `/Users/thomasdodd/Library/CloudStorage/OneDrive-MillfieldEnterprisesLimited/Cambridge/GitHub/BO4ACST/Notebooks/Optimisation/Method20241028Dim2_qKnowledgeGradient/AxExperiment.json`.\n",
      "/Users/thomasdodd/miniconda3/envs/BO4ACST_env/lib/python3.11/site-packages/ax/core/data.py:288: FutureWarning: The behavior of DataFrame concatenation with empty or all-NA entries is deprecated. In a future version, this will no longer exclude empty or all-NA columns when determining the result dtypes. To retain the old behavior, exclude the relevant entries before the concat operation.\n",
      "  return cls(df=pd.concat(dfs, axis=0, sort=True))\n",
      "[WARNING 10-29 16:35:44] ax.service.utils.report_utils: Column reason missing for all trials. Not appending column.\n",
      "/Users/thomasdodd/miniconda3/envs/BO4ACST_env/lib/python3.11/site-packages/ax/core/data.py:288: FutureWarning: The behavior of DataFrame concatenation with empty or all-NA entries is deprecated. In a future version, this will no longer exclude empty or all-NA columns when determining the result dtypes. To retain the old behavior, exclude the relevant entries before the concat operation.\n",
      "  return cls(df=pd.concat(dfs, axis=0, sort=True))\n",
      "[WARNING 10-29 16:35:44] ax.service.utils.report_utils: Column reason missing for all trials. Not appending column.\n",
      "[INFO 10-29 16:35:44] ax.service.ax_client: Completed trial 13 with data: {'t1': (57.89534, None)}.\n",
      "[INFO 10-29 16:35:44] ax.service.ax_client: Saved JSON-serialized state of optimization to `/Users/thomasdodd/Library/CloudStorage/OneDrive-MillfieldEnterprisesLimited/Cambridge/GitHub/BO4ACST/Notebooks/Optimisation/Method20241028Dim2_qKnowledgeGradient/AxExperiment.json`.\n",
      "[WARNING 10-29 16:35:44] ax.service.utils.report_utils: Column reason missing for all trials. Not appending column.\n",
      "[WARNING 10-29 16:35:44] ax.service.utils.report_utils: Column reason missing for all trials. Not appending column.\n"
     ]
    },
    {
     "name": "stdout",
     "output_type": "stream",
     "text": [
      "There are no trials currently running - initialising Bayesian iteration trials.\n"
     ]
    },
    {
     "name": "stderr",
     "output_type": "stream",
     "text": [
      "[INFO 10-29 16:35:47] ax.service.ax_client: Generated new trial 14 with parameters {'x1': -0.430419, 'x2': 6.544394} using model BoTorch.\n",
      "[INFO 10-29 16:35:47] ax.service.ax_client: Saved JSON-serialized state of optimization to `/Users/thomasdodd/Library/CloudStorage/OneDrive-MillfieldEnterprisesLimited/Cambridge/GitHub/BO4ACST/Notebooks/Optimisation/Method20241028Dim2_qKnowledgeGradient/AxExperiment.json`.\n",
      "/Users/thomasdodd/miniconda3/envs/BO4ACST_env/lib/python3.11/site-packages/ax/core/data.py:288: FutureWarning: The behavior of DataFrame concatenation with empty or all-NA entries is deprecated. In a future version, this will no longer exclude empty or all-NA columns when determining the result dtypes. To retain the old behavior, exclude the relevant entries before the concat operation.\n",
      "  return cls(df=pd.concat(dfs, axis=0, sort=True))\n",
      "[WARNING 10-29 16:35:47] ax.service.utils.report_utils: Column reason missing for all trials. Not appending column.\n",
      "/Users/thomasdodd/miniconda3/envs/BO4ACST_env/lib/python3.11/site-packages/ax/core/data.py:288: FutureWarning: The behavior of DataFrame concatenation with empty or all-NA entries is deprecated. In a future version, this will no longer exclude empty or all-NA columns when determining the result dtypes. To retain the old behavior, exclude the relevant entries before the concat operation.\n",
      "  return cls(df=pd.concat(dfs, axis=0, sort=True))\n",
      "[WARNING 10-29 16:35:47] ax.service.utils.report_utils: Column reason missing for all trials. Not appending column.\n",
      "[INFO 10-29 16:35:47] ax.service.ax_client: Completed trial 14 with data: {'t1': (32.484399, None)}.\n",
      "[INFO 10-29 16:35:47] ax.service.ax_client: Saved JSON-serialized state of optimization to `/Users/thomasdodd/Library/CloudStorage/OneDrive-MillfieldEnterprisesLimited/Cambridge/GitHub/BO4ACST/Notebooks/Optimisation/Method20241028Dim2_qKnowledgeGradient/AxExperiment.json`.\n",
      "[WARNING 10-29 16:35:47] ax.service.utils.report_utils: Column reason missing for all trials. Not appending column.\n",
      "[WARNING 10-29 16:35:47] ax.service.utils.report_utils: Column reason missing for all trials. Not appending column.\n"
     ]
    },
    {
     "name": "stdout",
     "output_type": "stream",
     "text": [
      "There are no trials currently running - initialising Bayesian iteration trials.\n"
     ]
    },
    {
     "name": "stderr",
     "output_type": "stream",
     "text": [
      "[INFO 10-29 16:35:50] ax.service.ax_client: Generated new trial 15 with parameters {'x1': 5.580912, 'x2': 0.307163} using model BoTorch.\n",
      "[INFO 10-29 16:35:50] ax.service.ax_client: Saved JSON-serialized state of optimization to `/Users/thomasdodd/Library/CloudStorage/OneDrive-MillfieldEnterprisesLimited/Cambridge/GitHub/BO4ACST/Notebooks/Optimisation/Method20241028Dim2_qKnowledgeGradient/AxExperiment.json`.\n",
      "/Users/thomasdodd/miniconda3/envs/BO4ACST_env/lib/python3.11/site-packages/ax/core/data.py:288: FutureWarning: The behavior of DataFrame concatenation with empty or all-NA entries is deprecated. In a future version, this will no longer exclude empty or all-NA columns when determining the result dtypes. To retain the old behavior, exclude the relevant entries before the concat operation.\n",
      "  return cls(df=pd.concat(dfs, axis=0, sort=True))\n",
      "[WARNING 10-29 16:35:50] ax.service.utils.report_utils: Column reason missing for all trials. Not appending column.\n",
      "/Users/thomasdodd/miniconda3/envs/BO4ACST_env/lib/python3.11/site-packages/ax/core/data.py:288: FutureWarning: The behavior of DataFrame concatenation with empty or all-NA entries is deprecated. In a future version, this will no longer exclude empty or all-NA columns when determining the result dtypes. To retain the old behavior, exclude the relevant entries before the concat operation.\n",
      "  return cls(df=pd.concat(dfs, axis=0, sort=True))\n",
      "[WARNING 10-29 16:35:50] ax.service.utils.report_utils: Column reason missing for all trials. Not appending column.\n",
      "[INFO 10-29 16:35:50] ax.service.ax_client: Completed trial 15 with data: {'t1': (42.49544, None)}.\n",
      "[INFO 10-29 16:35:50] ax.service.ax_client: Saved JSON-serialized state of optimization to `/Users/thomasdodd/Library/CloudStorage/OneDrive-MillfieldEnterprisesLimited/Cambridge/GitHub/BO4ACST/Notebooks/Optimisation/Method20241028Dim2_qKnowledgeGradient/AxExperiment.json`.\n",
      "[WARNING 10-29 16:35:50] ax.service.utils.report_utils: Column reason missing for all trials. Not appending column.\n",
      "[WARNING 10-29 16:35:50] ax.service.utils.report_utils: Column reason missing for all trials. Not appending column.\n"
     ]
    },
    {
     "name": "stdout",
     "output_type": "stream",
     "text": [
      "There are no trials currently running - initialising Bayesian iteration trials.\n"
     ]
    },
    {
     "name": "stderr",
     "output_type": "stream",
     "text": [
      "[INFO 10-29 16:36:17] ax.service.ax_client: Generated new trial 16 with parameters {'x1': 0.459508, 'x2': 6.54895} using model BoTorch.\n",
      "[INFO 10-29 16:36:17] ax.service.ax_client: Saved JSON-serialized state of optimization to `/Users/thomasdodd/Library/CloudStorage/OneDrive-MillfieldEnterprisesLimited/Cambridge/GitHub/BO4ACST/Notebooks/Optimisation/Method20241028Dim2_qKnowledgeGradient/AxExperiment.json`.\n",
      "/Users/thomasdodd/miniconda3/envs/BO4ACST_env/lib/python3.11/site-packages/ax/core/data.py:288: FutureWarning: The behavior of DataFrame concatenation with empty or all-NA entries is deprecated. In a future version, this will no longer exclude empty or all-NA columns when determining the result dtypes. To retain the old behavior, exclude the relevant entries before the concat operation.\n",
      "  return cls(df=pd.concat(dfs, axis=0, sort=True))\n",
      "[WARNING 10-29 16:36:17] ax.service.utils.report_utils: Column reason missing for all trials. Not appending column.\n",
      "/Users/thomasdodd/miniconda3/envs/BO4ACST_env/lib/python3.11/site-packages/ax/core/data.py:288: FutureWarning: The behavior of DataFrame concatenation with empty or all-NA entries is deprecated. In a future version, this will no longer exclude empty or all-NA columns when determining the result dtypes. To retain the old behavior, exclude the relevant entries before the concat operation.\n",
      "  return cls(df=pd.concat(dfs, axis=0, sort=True))\n",
      "[WARNING 10-29 16:36:17] ax.service.utils.report_utils: Column reason missing for all trials. Not appending column.\n",
      "[INFO 10-29 16:36:17] ax.service.ax_client: Completed trial 16 with data: {'t1': (49.090463, None)}.\n",
      "[INFO 10-29 16:36:17] ax.service.ax_client: Saved JSON-serialized state of optimization to `/Users/thomasdodd/Library/CloudStorage/OneDrive-MillfieldEnterprisesLimited/Cambridge/GitHub/BO4ACST/Notebooks/Optimisation/Method20241028Dim2_qKnowledgeGradient/AxExperiment.json`.\n",
      "[WARNING 10-29 16:36:17] ax.service.utils.report_utils: Column reason missing for all trials. Not appending column.\n",
      "[WARNING 10-29 16:36:17] ax.service.utils.report_utils: Column reason missing for all trials. Not appending column.\n"
     ]
    },
    {
     "name": "stdout",
     "output_type": "stream",
     "text": [
      "There are no trials currently running - initialising Bayesian iteration trials.\n"
     ]
    },
    {
     "name": "stderr",
     "output_type": "stream",
     "text": [
      "[INFO 10-29 16:37:14] ax.service.ax_client: Generated new trial 17 with parameters {'x1': 3.242158, 'x2': -1.153968} using model BoTorch.\n",
      "[INFO 10-29 16:37:14] ax.service.ax_client: Saved JSON-serialized state of optimization to `/Users/thomasdodd/Library/CloudStorage/OneDrive-MillfieldEnterprisesLimited/Cambridge/GitHub/BO4ACST/Notebooks/Optimisation/Method20241028Dim2_qKnowledgeGradient/AxExperiment.json`.\n",
      "/Users/thomasdodd/miniconda3/envs/BO4ACST_env/lib/python3.11/site-packages/ax/core/data.py:288: FutureWarning: The behavior of DataFrame concatenation with empty or all-NA entries is deprecated. In a future version, this will no longer exclude empty or all-NA columns when determining the result dtypes. To retain the old behavior, exclude the relevant entries before the concat operation.\n",
      "  return cls(df=pd.concat(dfs, axis=0, sort=True))\n",
      "[WARNING 10-29 16:37:14] ax.service.utils.report_utils: Column reason missing for all trials. Not appending column.\n",
      "/Users/thomasdodd/miniconda3/envs/BO4ACST_env/lib/python3.11/site-packages/ax/core/data.py:288: FutureWarning: The behavior of DataFrame concatenation with empty or all-NA entries is deprecated. In a future version, this will no longer exclude empty or all-NA columns when determining the result dtypes. To retain the old behavior, exclude the relevant entries before the concat operation.\n",
      "  return cls(df=pd.concat(dfs, axis=0, sort=True))\n",
      "[WARNING 10-29 16:37:14] ax.service.utils.report_utils: Column reason missing for all trials. Not appending column.\n",
      "[INFO 10-29 16:37:14] ax.service.ax_client: Completed trial 17 with data: {'t1': (36.902785, None)}.\n",
      "[INFO 10-29 16:37:14] ax.service.ax_client: Saved JSON-serialized state of optimization to `/Users/thomasdodd/Library/CloudStorage/OneDrive-MillfieldEnterprisesLimited/Cambridge/GitHub/BO4ACST/Notebooks/Optimisation/Method20241028Dim2_qKnowledgeGradient/AxExperiment.json`.\n",
      "[WARNING 10-29 16:37:14] ax.service.utils.report_utils: Column reason missing for all trials. Not appending column.\n",
      "[WARNING 10-29 16:37:14] ax.service.utils.report_utils: Column reason missing for all trials. Not appending column.\n"
     ]
    },
    {
     "name": "stdout",
     "output_type": "stream",
     "text": [
      "There are no trials currently running - initialising Bayesian iteration trials.\n"
     ]
    },
    {
     "name": "stderr",
     "output_type": "stream",
     "text": [
      "[INFO 10-29 16:38:00] ax.service.ax_client: Generated new trial 18 with parameters {'x1': -3.114018, 'x2': 3.691312} using model BoTorch.\n",
      "[INFO 10-29 16:38:00] ax.service.ax_client: Saved JSON-serialized state of optimization to `/Users/thomasdodd/Library/CloudStorage/OneDrive-MillfieldEnterprisesLimited/Cambridge/GitHub/BO4ACST/Notebooks/Optimisation/Method20241028Dim2_qKnowledgeGradient/AxExperiment.json`.\n",
      "/Users/thomasdodd/miniconda3/envs/BO4ACST_env/lib/python3.11/site-packages/ax/core/data.py:288: FutureWarning: The behavior of DataFrame concatenation with empty or all-NA entries is deprecated. In a future version, this will no longer exclude empty or all-NA columns when determining the result dtypes. To retain the old behavior, exclude the relevant entries before the concat operation.\n",
      "  return cls(df=pd.concat(dfs, axis=0, sort=True))\n",
      "[WARNING 10-29 16:38:00] ax.service.utils.report_utils: Column reason missing for all trials. Not appending column.\n",
      "/Users/thomasdodd/miniconda3/envs/BO4ACST_env/lib/python3.11/site-packages/ax/core/data.py:288: FutureWarning: The behavior of DataFrame concatenation with empty or all-NA entries is deprecated. In a future version, this will no longer exclude empty or all-NA columns when determining the result dtypes. To retain the old behavior, exclude the relevant entries before the concat operation.\n",
      "  return cls(df=pd.concat(dfs, axis=0, sort=True))\n",
      "[WARNING 10-29 16:38:00] ax.service.utils.report_utils: Column reason missing for all trials. Not appending column.\n",
      "[INFO 10-29 16:38:00] ax.service.ax_client: Completed trial 18 with data: {'t1': (64.262712, None)}.\n",
      "[INFO 10-29 16:38:00] ax.service.ax_client: Saved JSON-serialized state of optimization to `/Users/thomasdodd/Library/CloudStorage/OneDrive-MillfieldEnterprisesLimited/Cambridge/GitHub/BO4ACST/Notebooks/Optimisation/Method20241028Dim2_qKnowledgeGradient/AxExperiment.json`.\n",
      "[WARNING 10-29 16:38:00] ax.service.utils.report_utils: Column reason missing for all trials. Not appending column.\n",
      "[WARNING 10-29 16:38:00] ax.service.utils.report_utils: Column reason missing for all trials. Not appending column.\n"
     ]
    },
    {
     "name": "stdout",
     "output_type": "stream",
     "text": [
      "There are no trials currently running - initialising Bayesian iteration trials.\n"
     ]
    },
    {
     "name": "stderr",
     "output_type": "stream",
     "text": [
      "[INFO 10-29 16:39:50] ax.service.ax_client: Generated new trial 19 with parameters {'x1': 5.585063, 'x2': 1.596579} using model BoTorch.\n",
      "[INFO 10-29 16:39:50] ax.service.ax_client: Saved JSON-serialized state of optimization to `/Users/thomasdodd/Library/CloudStorage/OneDrive-MillfieldEnterprisesLimited/Cambridge/GitHub/BO4ACST/Notebooks/Optimisation/Method20241028Dim2_qKnowledgeGradient/AxExperiment.json`.\n",
      "/Users/thomasdodd/miniconda3/envs/BO4ACST_env/lib/python3.11/site-packages/ax/core/data.py:288: FutureWarning: The behavior of DataFrame concatenation with empty or all-NA entries is deprecated. In a future version, this will no longer exclude empty or all-NA columns when determining the result dtypes. To retain the old behavior, exclude the relevant entries before the concat operation.\n",
      "  return cls(df=pd.concat(dfs, axis=0, sort=True))\n",
      "[WARNING 10-29 16:39:50] ax.service.utils.report_utils: Column reason missing for all trials. Not appending column.\n",
      "/Users/thomasdodd/miniconda3/envs/BO4ACST_env/lib/python3.11/site-packages/ax/core/data.py:288: FutureWarning: The behavior of DataFrame concatenation with empty or all-NA entries is deprecated. In a future version, this will no longer exclude empty or all-NA columns when determining the result dtypes. To retain the old behavior, exclude the relevant entries before the concat operation.\n",
      "  return cls(df=pd.concat(dfs, axis=0, sort=True))\n",
      "[WARNING 10-29 16:39:50] ax.service.utils.report_utils: Column reason missing for all trials. Not appending column.\n",
      "[INFO 10-29 16:39:50] ax.service.ax_client: Completed trial 19 with data: {'t1': (63.483766, None)}.\n",
      "[INFO 10-29 16:39:50] ax.service.ax_client: Saved JSON-serialized state of optimization to `/Users/thomasdodd/Library/CloudStorage/OneDrive-MillfieldEnterprisesLimited/Cambridge/GitHub/BO4ACST/Notebooks/Optimisation/Method20241028Dim2_qKnowledgeGradient/AxExperiment.json`.\n",
      "[WARNING 10-29 16:39:50] ax.service.utils.report_utils: Column reason missing for all trials. Not appending column.\n",
      "[WARNING 10-29 16:39:50] ax.service.utils.report_utils: Column reason missing for all trials. Not appending column.\n"
     ]
    },
    {
     "name": "stdout",
     "output_type": "stream",
     "text": [
      "There are no trials currently running - initialising Bayesian iteration trials.\n"
     ]
    },
    {
     "name": "stderr",
     "output_type": "stream",
     "text": [
      "[INFO 10-29 16:41:23] ax.service.ax_client: Generated new trial 20 with parameters {'x1': -7.665596, 'x2': 9.159842} using model BoTorch.\n",
      "[INFO 10-29 16:41:23] ax.service.ax_client: Saved JSON-serialized state of optimization to `/Users/thomasdodd/Library/CloudStorage/OneDrive-MillfieldEnterprisesLimited/Cambridge/GitHub/BO4ACST/Notebooks/Optimisation/Method20241028Dim2_qKnowledgeGradient/AxExperiment.json`.\n",
      "/Users/thomasdodd/miniconda3/envs/BO4ACST_env/lib/python3.11/site-packages/ax/core/data.py:288: FutureWarning: The behavior of DataFrame concatenation with empty or all-NA entries is deprecated. In a future version, this will no longer exclude empty or all-NA columns when determining the result dtypes. To retain the old behavior, exclude the relevant entries before the concat operation.\n",
      "  return cls(df=pd.concat(dfs, axis=0, sort=True))\n",
      "[WARNING 10-29 16:41:23] ax.service.utils.report_utils: Column reason missing for all trials. Not appending column.\n",
      "/Users/thomasdodd/miniconda3/envs/BO4ACST_env/lib/python3.11/site-packages/ax/core/data.py:288: FutureWarning: The behavior of DataFrame concatenation with empty or all-NA entries is deprecated. In a future version, this will no longer exclude empty or all-NA columns when determining the result dtypes. To retain the old behavior, exclude the relevant entries before the concat operation.\n",
      "  return cls(df=pd.concat(dfs, axis=0, sort=True))\n",
      "[WARNING 10-29 16:41:23] ax.service.utils.report_utils: Column reason missing for all trials. Not appending column.\n",
      "[INFO 10-29 16:41:23] ax.service.ax_client: Completed trial 20 with data: {'t1': (138.151417, None)}.\n",
      "[INFO 10-29 16:41:23] ax.service.ax_client: Saved JSON-serialized state of optimization to `/Users/thomasdodd/Library/CloudStorage/OneDrive-MillfieldEnterprisesLimited/Cambridge/GitHub/BO4ACST/Notebooks/Optimisation/Method20241028Dim2_qKnowledgeGradient/AxExperiment.json`.\n",
      "[WARNING 10-29 16:41:23] ax.service.utils.report_utils: Column reason missing for all trials. Not appending column.\n",
      "[WARNING 10-29 16:41:23] ax.service.utils.report_utils: Column reason missing for all trials. Not appending column.\n"
     ]
    },
    {
     "name": "stdout",
     "output_type": "stream",
     "text": [
      "There are no trials currently running - initialising Bayesian iteration trials.\n"
     ]
    },
    {
     "name": "stderr",
     "output_type": "stream",
     "text": [
      "[INFO 10-29 16:42:22] ax.service.ax_client: Generated new trial 21 with parameters {'x1': 4.016523, 'x2': 6.729392} using model BoTorch.\n",
      "[INFO 10-29 16:42:22] ax.service.ax_client: Saved JSON-serialized state of optimization to `/Users/thomasdodd/Library/CloudStorage/OneDrive-MillfieldEnterprisesLimited/Cambridge/GitHub/BO4ACST/Notebooks/Optimisation/Method20241028Dim2_qKnowledgeGradient/AxExperiment.json`.\n",
      "/Users/thomasdodd/miniconda3/envs/BO4ACST_env/lib/python3.11/site-packages/ax/core/data.py:288: FutureWarning: The behavior of DataFrame concatenation with empty or all-NA entries is deprecated. In a future version, this will no longer exclude empty or all-NA columns when determining the result dtypes. To retain the old behavior, exclude the relevant entries before the concat operation.\n",
      "  return cls(df=pd.concat(dfs, axis=0, sort=True))\n",
      "[WARNING 10-29 16:42:22] ax.service.utils.report_utils: Column reason missing for all trials. Not appending column.\n",
      "/Users/thomasdodd/miniconda3/envs/BO4ACST_env/lib/python3.11/site-packages/ax/core/data.py:288: FutureWarning: The behavior of DataFrame concatenation with empty or all-NA entries is deprecated. In a future version, this will no longer exclude empty or all-NA columns when determining the result dtypes. To retain the old behavior, exclude the relevant entries before the concat operation.\n",
      "  return cls(df=pd.concat(dfs, axis=0, sort=True))\n",
      "[WARNING 10-29 16:42:22] ax.service.utils.report_utils: Column reason missing for all trials. Not appending column.\n",
      "[INFO 10-29 16:42:22] ax.service.ax_client: Completed trial 21 with data: {'t1': (205.037272, None)}.\n",
      "[INFO 10-29 16:42:22] ax.service.ax_client: Saved JSON-serialized state of optimization to `/Users/thomasdodd/Library/CloudStorage/OneDrive-MillfieldEnterprisesLimited/Cambridge/GitHub/BO4ACST/Notebooks/Optimisation/Method20241028Dim2_qKnowledgeGradient/AxExperiment.json`.\n",
      "[WARNING 10-29 16:42:22] ax.service.utils.report_utils: Column reason missing for all trials. Not appending column.\n",
      "[WARNING 10-29 16:42:22] ax.service.utils.report_utils: Column reason missing for all trials. Not appending column.\n"
     ]
    },
    {
     "name": "stdout",
     "output_type": "stream",
     "text": [
      "There are no trials currently running - initialising Bayesian iteration trials.\n"
     ]
    },
    {
     "name": "stderr",
     "output_type": "stream",
     "text": [
      "[INFO 10-29 16:43:22] ax.service.ax_client: Generated new trial 22 with parameters {'x1': -1.441004, 'x2': 6.151064} using model BoTorch.\n",
      "[INFO 10-29 16:43:22] ax.service.ax_client: Saved JSON-serialized state of optimization to `/Users/thomasdodd/Library/CloudStorage/OneDrive-MillfieldEnterprisesLimited/Cambridge/GitHub/BO4ACST/Notebooks/Optimisation/Method20241028Dim2_qKnowledgeGradient/AxExperiment.json`.\n",
      "/Users/thomasdodd/miniconda3/envs/BO4ACST_env/lib/python3.11/site-packages/ax/core/data.py:288: FutureWarning: The behavior of DataFrame concatenation with empty or all-NA entries is deprecated. In a future version, this will no longer exclude empty or all-NA columns when determining the result dtypes. To retain the old behavior, exclude the relevant entries before the concat operation.\n",
      "  return cls(df=pd.concat(dfs, axis=0, sort=True))\n",
      "[WARNING 10-29 16:43:22] ax.service.utils.report_utils: Column reason missing for all trials. Not appending column.\n",
      "/Users/thomasdodd/miniconda3/envs/BO4ACST_env/lib/python3.11/site-packages/ax/core/data.py:288: FutureWarning: The behavior of DataFrame concatenation with empty or all-NA entries is deprecated. In a future version, this will no longer exclude empty or all-NA columns when determining the result dtypes. To retain the old behavior, exclude the relevant entries before the concat operation.\n",
      "  return cls(df=pd.concat(dfs, axis=0, sort=True))\n",
      "[WARNING 10-29 16:43:22] ax.service.utils.report_utils: Column reason missing for all trials. Not appending column.\n",
      "[INFO 10-29 16:43:22] ax.service.ax_client: Completed trial 22 with data: {'t1': (17.904443, None)}.\n",
      "[INFO 10-29 16:43:22] ax.service.ax_client: Saved JSON-serialized state of optimization to `/Users/thomasdodd/Library/CloudStorage/OneDrive-MillfieldEnterprisesLimited/Cambridge/GitHub/BO4ACST/Notebooks/Optimisation/Method20241028Dim2_qKnowledgeGradient/AxExperiment.json`.\n",
      "[WARNING 10-29 16:43:22] ax.service.utils.report_utils: Column reason missing for all trials. Not appending column.\n",
      "[WARNING 10-29 16:43:22] ax.service.utils.report_utils: Column reason missing for all trials. Not appending column.\n"
     ]
    },
    {
     "name": "stdout",
     "output_type": "stream",
     "text": [
      "There are no trials currently running - initialising Bayesian iteration trials.\n"
     ]
    },
    {
     "name": "stderr",
     "output_type": "stream",
     "text": [
      "[INFO 10-29 16:44:37] ax.service.ax_client: Generated new trial 23 with parameters {'x1': 3.139535, 'x2': -0.737525} using model BoTorch.\n",
      "[INFO 10-29 16:44:37] ax.service.ax_client: Saved JSON-serialized state of optimization to `/Users/thomasdodd/Library/CloudStorage/OneDrive-MillfieldEnterprisesLimited/Cambridge/GitHub/BO4ACST/Notebooks/Optimisation/Method20241028Dim2_qKnowledgeGradient/AxExperiment.json`.\n",
      "/Users/thomasdodd/miniconda3/envs/BO4ACST_env/lib/python3.11/site-packages/ax/core/data.py:288: FutureWarning: The behavior of DataFrame concatenation with empty or all-NA entries is deprecated. In a future version, this will no longer exclude empty or all-NA columns when determining the result dtypes. To retain the old behavior, exclude the relevant entries before the concat operation.\n",
      "  return cls(df=pd.concat(dfs, axis=0, sort=True))\n",
      "[WARNING 10-29 16:44:37] ax.service.utils.report_utils: Column reason missing for all trials. Not appending column.\n",
      "/Users/thomasdodd/miniconda3/envs/BO4ACST_env/lib/python3.11/site-packages/ax/core/data.py:288: FutureWarning: The behavior of DataFrame concatenation with empty or all-NA entries is deprecated. In a future version, this will no longer exclude empty or all-NA columns when determining the result dtypes. To retain the old behavior, exclude the relevant entries before the concat operation.\n",
      "  return cls(df=pd.concat(dfs, axis=0, sort=True))\n",
      "[WARNING 10-29 16:44:37] ax.service.utils.report_utils: Column reason missing for all trials. Not appending column.\n",
      "[INFO 10-29 16:44:37] ax.service.ax_client: Completed trial 23 with data: {'t1': (28.761003, None)}.\n",
      "[INFO 10-29 16:44:37] ax.service.ax_client: Saved JSON-serialized state of optimization to `/Users/thomasdodd/Library/CloudStorage/OneDrive-MillfieldEnterprisesLimited/Cambridge/GitHub/BO4ACST/Notebooks/Optimisation/Method20241028Dim2_qKnowledgeGradient/AxExperiment.json`.\n",
      "[WARNING 10-29 16:44:37] ax.service.utils.report_utils: Column reason missing for all trials. Not appending column.\n",
      "[INFO 10-29 16:44:37] ax.service.ax_client: Starting optimization with verbose logging. To disable logging, set the `verbose_logging` argument to `False`. Note that float values in the logs are rounded to 6 decimal points.\n",
      "[INFO 10-29 16:44:37] ax.service.utils.instantiation: Created search space: SearchSpace(parameters=[RangeParameter(name='x1', parameter_type=FLOAT, range=[-10.0, 10.0]), RangeParameter(name='x2', parameter_type=FLOAT, range=[-10.0, 10.0])], parameter_constraints=[]).\n",
      "[INFO 10-29 16:44:37] ax.service.ax_client: Saved JSON-serialized state of optimization to `/Users/thomasdodd/Library/CloudStorage/OneDrive-MillfieldEnterprisesLimited/Cambridge/GitHub/BO4ACST/Notebooks/Optimisation/Method20241028Dim2_qKnowledgeGradient/AxExperiment.json`.\n",
      "[INFO 10-29 16:44:37] ax.core.experiment: Attached custom parameterizations [{'x1': -10.0, 'x2': -10.0}] as trial 0.\n",
      "[INFO 10-29 16:44:37] ax.core.experiment: Attached custom parameterizations [{'x1': 0.0, 'x2': -10.0}] as trial 1.\n",
      "[INFO 10-29 16:44:37] ax.core.experiment: Attached custom parameterizations [{'x1': 10.0, 'x2': -10.0}] as trial 2.\n",
      "[INFO 10-29 16:44:37] ax.core.experiment: Attached custom parameterizations [{'x1': -10.0, 'x2': 0.0}] as trial 3.\n",
      "[INFO 10-29 16:44:37] ax.core.experiment: Attached custom parameterizations [{'x1': 0.0, 'x2': 0.0}] as trial 4.\n",
      "[INFO 10-29 16:44:37] ax.core.experiment: Attached custom parameterizations [{'x1': 10.0, 'x2': 0.0}] as trial 5.\n",
      "[INFO 10-29 16:44:37] ax.core.experiment: Attached custom parameterizations [{'x1': -10.0, 'x2': 10.0}] as trial 6.\n",
      "[INFO 10-29 16:44:37] ax.core.experiment: Attached custom parameterizations [{'x1': 0.0, 'x2': 10.0}] as trial 7.\n",
      "[INFO 10-29 16:44:37] ax.core.experiment: Attached custom parameterizations [{'x1': 10.0, 'x2': 10.0}] as trial 8.\n",
      "[INFO 10-29 16:44:37] ax.service.ax_client: Saved JSON-serialized state of optimization to `/Users/thomasdodd/Library/CloudStorage/OneDrive-MillfieldEnterprisesLimited/Cambridge/GitHub/BO4ACST/Notebooks/Optimisation/Method20241028Dim2_qKnowledgeGradient/AxExperiment.json`.\n",
      "[WARNING 10-29 16:44:37] ax.service.utils.report_utils: Column reason missing for all trials. Not appending column.\n",
      "[INFO 10-29 16:44:37] ax.service.utils.report_utils: No results present for the specified metrics `[Metric('t1')]`. Returning arm parameters and metadata only.\n",
      "[WARNING 10-29 16:44:37] ax.service.utils.report_utils: Column reason missing for all trials. Not appending column.\n",
      "[INFO 10-29 16:44:37] ax.service.utils.report_utils: No results present for the specified metrics `[Metric('t1')]`. Returning arm parameters and metadata only.\n",
      "[INFO 10-29 16:44:37] ax.service.ax_client: Completed trial 0 with data: {'t1': (2594.0, None)}.\n",
      "[INFO 10-29 16:44:37] ax.service.ax_client: Saved JSON-serialized state of optimization to `/Users/thomasdodd/Library/CloudStorage/OneDrive-MillfieldEnterprisesLimited/Cambridge/GitHub/BO4ACST/Notebooks/Optimisation/Method20241028Dim2_qKnowledgeGradient/AxExperiment.json`.\n",
      "[INFO 10-29 16:44:37] ax.service.ax_client: Completed trial 1 with data: {'t1': (954.0, None)}.\n",
      "[INFO 10-29 16:44:37] ax.service.ax_client: Saved JSON-serialized state of optimization to `/Users/thomasdodd/Library/CloudStorage/OneDrive-MillfieldEnterprisesLimited/Cambridge/GitHub/BO4ACST/Notebooks/Optimisation/Method20241028Dim2_qKnowledgeGradient/AxExperiment.json`.\n",
      "[INFO 10-29 16:44:37] ax.service.ax_client: Completed trial 2 with data: {'t1': (314.0, None)}.\n",
      "[INFO 10-29 16:44:37] ax.service.ax_client: Saved JSON-serialized state of optimization to `/Users/thomasdodd/Library/CloudStorage/OneDrive-MillfieldEnterprisesLimited/Cambridge/GitHub/BO4ACST/Notebooks/Optimisation/Method20241028Dim2_qKnowledgeGradient/AxExperiment.json`.\n",
      "[INFO 10-29 16:44:37] ax.service.ax_client: Completed trial 3 with data: {'t1': (914.0, None)}.\n",
      "[INFO 10-29 16:44:37] ax.service.ax_client: Saved JSON-serialized state of optimization to `/Users/thomasdodd/Library/CloudStorage/OneDrive-MillfieldEnterprisesLimited/Cambridge/GitHub/BO4ACST/Notebooks/Optimisation/Method20241028Dim2_qKnowledgeGradient/AxExperiment.json`.\n",
      "[INFO 10-29 16:44:37] ax.service.ax_client: Completed trial 4 with data: {'t1': (74.0, None)}.\n",
      "[INFO 10-29 16:44:37] ax.service.ax_client: Saved JSON-serialized state of optimization to `/Users/thomasdodd/Library/CloudStorage/OneDrive-MillfieldEnterprisesLimited/Cambridge/GitHub/BO4ACST/Notebooks/Optimisation/Method20241028Dim2_qKnowledgeGradient/AxExperiment.json`.\n",
      "[INFO 10-29 16:44:37] ax.service.ax_client: Completed trial 5 with data: {'t1': (234.0, None)}.\n",
      "[INFO 10-29 16:44:37] ax.service.ax_client: Saved JSON-serialized state of optimization to `/Users/thomasdodd/Library/CloudStorage/OneDrive-MillfieldEnterprisesLimited/Cambridge/GitHub/BO4ACST/Notebooks/Optimisation/Method20241028Dim2_qKnowledgeGradient/AxExperiment.json`.\n",
      "[INFO 10-29 16:44:38] ax.service.ax_client: Completed trial 6 with data: {'t1': (234.0, None)}.\n",
      "[INFO 10-29 16:44:38] ax.service.ax_client: Saved JSON-serialized state of optimization to `/Users/thomasdodd/Library/CloudStorage/OneDrive-MillfieldEnterprisesLimited/Cambridge/GitHub/BO4ACST/Notebooks/Optimisation/Method20241028Dim2_qKnowledgeGradient/AxExperiment.json`.\n",
      "[INFO 10-29 16:44:38] ax.service.ax_client: Completed trial 7 with data: {'t1': (194.0, None)}.\n",
      "[INFO 10-29 16:44:38] ax.service.ax_client: Saved JSON-serialized state of optimization to `/Users/thomasdodd/Library/CloudStorage/OneDrive-MillfieldEnterprisesLimited/Cambridge/GitHub/BO4ACST/Notebooks/Optimisation/Method20241028Dim2_qKnowledgeGradient/AxExperiment.json`.\n",
      "[INFO 10-29 16:44:38] ax.service.ax_client: Completed trial 8 with data: {'t1': (1154.0, None)}.\n",
      "[INFO 10-29 16:44:38] ax.service.ax_client: Saved JSON-serialized state of optimization to `/Users/thomasdodd/Library/CloudStorage/OneDrive-MillfieldEnterprisesLimited/Cambridge/GitHub/BO4ACST/Notebooks/Optimisation/Method20241028Dim2_qKnowledgeGradient/AxExperiment.json`.\n",
      "[WARNING 10-29 16:44:38] ax.service.utils.report_utils: Column reason missing for all trials. Not appending column.\n",
      "[WARNING 10-29 16:44:38] ax.service.utils.report_utils: Column reason missing for all trials. Not appending column.\n"
     ]
    },
    {
     "name": "stdout",
     "output_type": "stream",
     "text": [
      "[74.         74.         74.         59.85023886 55.39027897 55.39027897\n",
      " 32.48439863 32.48439863 32.48439863 32.48439863 32.48439863 32.48439863\n",
      " 32.48439863 32.48439863 17.90444295 17.90444295]\n",
      "A new experiment has been created and initialised.\n",
      "No previous or current trials detected - initialising prior-forming trials.\n",
      "Samples gridded = 9\n",
      "There are no trials currently running - initialising Bayesian iteration trials.\n"
     ]
    },
    {
     "name": "stderr",
     "output_type": "stream",
     "text": [
      "[INFO 10-29 16:44:40] ax.service.ax_client: Generated new trial 9 with parameters {'x1': -4.381073, 'x2': 4.830486} using model BoTorch.\n",
      "[INFO 10-29 16:44:40] ax.service.ax_client: Saved JSON-serialized state of optimization to `/Users/thomasdodd/Library/CloudStorage/OneDrive-MillfieldEnterprisesLimited/Cambridge/GitHub/BO4ACST/Notebooks/Optimisation/Method20241028Dim2_qKnowledgeGradient/AxExperiment.json`.\n",
      "/Users/thomasdodd/miniconda3/envs/BO4ACST_env/lib/python3.11/site-packages/ax/core/data.py:288: FutureWarning: The behavior of DataFrame concatenation with empty or all-NA entries is deprecated. In a future version, this will no longer exclude empty or all-NA columns when determining the result dtypes. To retain the old behavior, exclude the relevant entries before the concat operation.\n",
      "  return cls(df=pd.concat(dfs, axis=0, sort=True))\n",
      "[WARNING 10-29 16:44:40] ax.service.utils.report_utils: Column reason missing for all trials. Not appending column.\n",
      "/Users/thomasdodd/miniconda3/envs/BO4ACST_env/lib/python3.11/site-packages/ax/core/data.py:288: FutureWarning: The behavior of DataFrame concatenation with empty or all-NA entries is deprecated. In a future version, this will no longer exclude empty or all-NA columns when determining the result dtypes. To retain the old behavior, exclude the relevant entries before the concat operation.\n",
      "  return cls(df=pd.concat(dfs, axis=0, sort=True))\n",
      "[WARNING 10-29 16:44:40] ax.service.utils.report_utils: Column reason missing for all trials. Not appending column.\n",
      "[INFO 10-29 16:44:40] ax.service.ax_client: Completed trial 9 with data: {'t1': (82.733277, None)}.\n",
      "[INFO 10-29 16:44:40] ax.service.ax_client: Saved JSON-serialized state of optimization to `/Users/thomasdodd/Library/CloudStorage/OneDrive-MillfieldEnterprisesLimited/Cambridge/GitHub/BO4ACST/Notebooks/Optimisation/Method20241028Dim2_qKnowledgeGradient/AxExperiment.json`.\n",
      "[WARNING 10-29 16:44:40] ax.service.utils.report_utils: Column reason missing for all trials. Not appending column.\n",
      "[WARNING 10-29 16:44:40] ax.service.utils.report_utils: Column reason missing for all trials. Not appending column.\n"
     ]
    },
    {
     "name": "stdout",
     "output_type": "stream",
     "text": [
      "There are no trials currently running - initialising Bayesian iteration trials.\n"
     ]
    },
    {
     "name": "stderr",
     "output_type": "stream",
     "text": [
      "[INFO 10-29 16:44:43] ax.service.ax_client: Generated new trial 10 with parameters {'x1': 5.958542, 'x2': -5.059582} using model BoTorch.\n",
      "[INFO 10-29 16:44:43] ax.service.ax_client: Saved JSON-serialized state of optimization to `/Users/thomasdodd/Library/CloudStorage/OneDrive-MillfieldEnterprisesLimited/Cambridge/GitHub/BO4ACST/Notebooks/Optimisation/Method20241028Dim2_qKnowledgeGradient/AxExperiment.json`.\n",
      "/Users/thomasdodd/miniconda3/envs/BO4ACST_env/lib/python3.11/site-packages/ax/core/data.py:288: FutureWarning: The behavior of DataFrame concatenation with empty or all-NA entries is deprecated. In a future version, this will no longer exclude empty or all-NA columns when determining the result dtypes. To retain the old behavior, exclude the relevant entries before the concat operation.\n",
      "  return cls(df=pd.concat(dfs, axis=0, sort=True))\n",
      "[WARNING 10-29 16:44:43] ax.service.utils.report_utils: Column reason missing for all trials. Not appending column.\n",
      "/Users/thomasdodd/miniconda3/envs/BO4ACST_env/lib/python3.11/site-packages/ax/core/data.py:288: FutureWarning: The behavior of DataFrame concatenation with empty or all-NA entries is deprecated. In a future version, this will no longer exclude empty or all-NA columns when determining the result dtypes. To retain the old behavior, exclude the relevant entries before the concat operation.\n",
      "  return cls(df=pd.concat(dfs, axis=0, sort=True))\n",
      "[WARNING 10-29 16:44:43] ax.service.utils.report_utils: Column reason missing for all trials. Not appending column.\n",
      "[INFO 10-29 16:44:43] ax.service.ax_client: Completed trial 10 with data: {'t1': (128.009803, None)}.\n",
      "[INFO 10-29 16:44:43] ax.service.ax_client: Saved JSON-serialized state of optimization to `/Users/thomasdodd/Library/CloudStorage/OneDrive-MillfieldEnterprisesLimited/Cambridge/GitHub/BO4ACST/Notebooks/Optimisation/Method20241028Dim2_qKnowledgeGradient/AxExperiment.json`.\n",
      "[WARNING 10-29 16:44:43] ax.service.utils.report_utils: Column reason missing for all trials. Not appending column.\n",
      "[WARNING 10-29 16:44:43] ax.service.utils.report_utils: Column reason missing for all trials. Not appending column.\n"
     ]
    },
    {
     "name": "stdout",
     "output_type": "stream",
     "text": [
      "There are no trials currently running - initialising Bayesian iteration trials.\n"
     ]
    },
    {
     "name": "stderr",
     "output_type": "stream",
     "text": [
      "[INFO 10-29 16:44:45] ax.service.ax_client: Generated new trial 11 with parameters {'x1': 4.531151, 'x2': 2.936973} using model BoTorch.\n",
      "[INFO 10-29 16:44:45] ax.service.ax_client: Saved JSON-serialized state of optimization to `/Users/thomasdodd/Library/CloudStorage/OneDrive-MillfieldEnterprisesLimited/Cambridge/GitHub/BO4ACST/Notebooks/Optimisation/Method20241028Dim2_qKnowledgeGradient/AxExperiment.json`.\n",
      "/Users/thomasdodd/miniconda3/envs/BO4ACST_env/lib/python3.11/site-packages/ax/core/data.py:288: FutureWarning: The behavior of DataFrame concatenation with empty or all-NA entries is deprecated. In a future version, this will no longer exclude empty or all-NA columns when determining the result dtypes. To retain the old behavior, exclude the relevant entries before the concat operation.\n",
      "  return cls(df=pd.concat(dfs, axis=0, sort=True))\n",
      "[WARNING 10-29 16:44:45] ax.service.utils.report_utils: Column reason missing for all trials. Not appending column.\n",
      "/Users/thomasdodd/miniconda3/envs/BO4ACST_env/lib/python3.11/site-packages/ax/core/data.py:288: FutureWarning: The behavior of DataFrame concatenation with empty or all-NA entries is deprecated. In a future version, this will no longer exclude empty or all-NA columns when determining the result dtypes. To retain the old behavior, exclude the relevant entries before the concat operation.\n",
      "  return cls(df=pd.concat(dfs, axis=0, sort=True))\n",
      "[WARNING 10-29 16:44:45] ax.service.utils.report_utils: Column reason missing for all trials. Not appending column.\n",
      "[INFO 10-29 16:44:45] ax.service.ax_client: Completed trial 11 with data: {'t1': (60.584544, None)}.\n",
      "[INFO 10-29 16:44:45] ax.service.ax_client: Saved JSON-serialized state of optimization to `/Users/thomasdodd/Library/CloudStorage/OneDrive-MillfieldEnterprisesLimited/Cambridge/GitHub/BO4ACST/Notebooks/Optimisation/Method20241028Dim2_qKnowledgeGradient/AxExperiment.json`.\n",
      "[WARNING 10-29 16:44:45] ax.service.utils.report_utils: Column reason missing for all trials. Not appending column.\n",
      "[WARNING 10-29 16:44:45] ax.service.utils.report_utils: Column reason missing for all trials. Not appending column.\n"
     ]
    },
    {
     "name": "stdout",
     "output_type": "stream",
     "text": [
      "There are no trials currently running - initialising Bayesian iteration trials.\n"
     ]
    },
    {
     "name": "stderr",
     "output_type": "stream",
     "text": [
      "[INFO 10-29 16:44:46] ax.service.ax_client: Generated new trial 12 with parameters {'x1': -4.482756, 'x2': 6.929201} using model BoTorch.\n",
      "[INFO 10-29 16:44:46] ax.service.ax_client: Saved JSON-serialized state of optimization to `/Users/thomasdodd/Library/CloudStorage/OneDrive-MillfieldEnterprisesLimited/Cambridge/GitHub/BO4ACST/Notebooks/Optimisation/Method20241028Dim2_qKnowledgeGradient/AxExperiment.json`.\n",
      "/Users/thomasdodd/miniconda3/envs/BO4ACST_env/lib/python3.11/site-packages/ax/core/data.py:288: FutureWarning: The behavior of DataFrame concatenation with empty or all-NA entries is deprecated. In a future version, this will no longer exclude empty or all-NA columns when determining the result dtypes. To retain the old behavior, exclude the relevant entries before the concat operation.\n",
      "  return cls(df=pd.concat(dfs, axis=0, sort=True))\n",
      "[WARNING 10-29 16:44:46] ax.service.utils.report_utils: Column reason missing for all trials. Not appending column.\n",
      "/Users/thomasdodd/miniconda3/envs/BO4ACST_env/lib/python3.11/site-packages/ax/core/data.py:288: FutureWarning: The behavior of DataFrame concatenation with empty or all-NA entries is deprecated. In a future version, this will no longer exclude empty or all-NA columns when determining the result dtypes. To retain the old behavior, exclude the relevant entries before the concat operation.\n",
      "  return cls(df=pd.concat(dfs, axis=0, sort=True))\n",
      "[WARNING 10-29 16:44:46] ax.service.utils.report_utils: Column reason missing for all trials. Not appending column.\n",
      "[INFO 10-29 16:44:46] ax.service.ax_client: Completed trial 12 with data: {'t1': (55.153375, None)}.\n",
      "[INFO 10-29 16:44:46] ax.service.ax_client: Saved JSON-serialized state of optimization to `/Users/thomasdodd/Library/CloudStorage/OneDrive-MillfieldEnterprisesLimited/Cambridge/GitHub/BO4ACST/Notebooks/Optimisation/Method20241028Dim2_qKnowledgeGradient/AxExperiment.json`.\n",
      "[WARNING 10-29 16:44:46] ax.service.utils.report_utils: Column reason missing for all trials. Not appending column.\n",
      "[WARNING 10-29 16:44:46] ax.service.utils.report_utils: Column reason missing for all trials. Not appending column.\n"
     ]
    },
    {
     "name": "stdout",
     "output_type": "stream",
     "text": [
      "There are no trials currently running - initialising Bayesian iteration trials.\n"
     ]
    },
    {
     "name": "stderr",
     "output_type": "stream",
     "text": [
      "[INFO 10-29 16:44:48] ax.service.ax_client: Generated new trial 13 with parameters {'x1': 4.485802, 'x2': -2.358529} using model BoTorch.\n",
      "[INFO 10-29 16:44:48] ax.service.ax_client: Saved JSON-serialized state of optimization to `/Users/thomasdodd/Library/CloudStorage/OneDrive-MillfieldEnterprisesLimited/Cambridge/GitHub/BO4ACST/Notebooks/Optimisation/Method20241028Dim2_qKnowledgeGradient/AxExperiment.json`.\n",
      "/Users/thomasdodd/miniconda3/envs/BO4ACST_env/lib/python3.11/site-packages/ax/core/data.py:288: FutureWarning: The behavior of DataFrame concatenation with empty or all-NA entries is deprecated. In a future version, this will no longer exclude empty or all-NA columns when determining the result dtypes. To retain the old behavior, exclude the relevant entries before the concat operation.\n",
      "  return cls(df=pd.concat(dfs, axis=0, sort=True))\n",
      "[WARNING 10-29 16:44:48] ax.service.utils.report_utils: Column reason missing for all trials. Not appending column.\n",
      "/Users/thomasdodd/miniconda3/envs/BO4ACST_env/lib/python3.11/site-packages/ax/core/data.py:288: FutureWarning: The behavior of DataFrame concatenation with empty or all-NA entries is deprecated. In a future version, this will no longer exclude empty or all-NA columns when determining the result dtypes. To retain the old behavior, exclude the relevant entries before the concat operation.\n",
      "  return cls(df=pd.concat(dfs, axis=0, sort=True))\n",
      "[WARNING 10-29 16:44:48] ax.service.utils.report_utils: Column reason missing for all trials. Not appending column.\n",
      "[INFO 10-29 16:44:48] ax.service.ax_client: Completed trial 13 with data: {'t1': (54.893075, None)}.\n",
      "[INFO 10-29 16:44:48] ax.service.ax_client: Saved JSON-serialized state of optimization to `/Users/thomasdodd/Library/CloudStorage/OneDrive-MillfieldEnterprisesLimited/Cambridge/GitHub/BO4ACST/Notebooks/Optimisation/Method20241028Dim2_qKnowledgeGradient/AxExperiment.json`.\n",
      "[WARNING 10-29 16:44:48] ax.service.utils.report_utils: Column reason missing for all trials. Not appending column.\n",
      "[WARNING 10-29 16:44:48] ax.service.utils.report_utils: Column reason missing for all trials. Not appending column.\n"
     ]
    },
    {
     "name": "stdout",
     "output_type": "stream",
     "text": [
      "There are no trials currently running - initialising Bayesian iteration trials.\n"
     ]
    },
    {
     "name": "stderr",
     "output_type": "stream",
     "text": [
      "[INFO 10-29 16:44:50] ax.service.ax_client: Generated new trial 14 with parameters {'x1': -0.385725, 'x2': 6.521306} using model BoTorch.\n",
      "[INFO 10-29 16:44:50] ax.service.ax_client: Saved JSON-serialized state of optimization to `/Users/thomasdodd/Library/CloudStorage/OneDrive-MillfieldEnterprisesLimited/Cambridge/GitHub/BO4ACST/Notebooks/Optimisation/Method20241028Dim2_qKnowledgeGradient/AxExperiment.json`.\n",
      "/Users/thomasdodd/miniconda3/envs/BO4ACST_env/lib/python3.11/site-packages/ax/core/data.py:288: FutureWarning: The behavior of DataFrame concatenation with empty or all-NA entries is deprecated. In a future version, this will no longer exclude empty or all-NA columns when determining the result dtypes. To retain the old behavior, exclude the relevant entries before the concat operation.\n",
      "  return cls(df=pd.concat(dfs, axis=0, sort=True))\n",
      "[WARNING 10-29 16:44:50] ax.service.utils.report_utils: Column reason missing for all trials. Not appending column.\n",
      "/Users/thomasdodd/miniconda3/envs/BO4ACST_env/lib/python3.11/site-packages/ax/core/data.py:288: FutureWarning: The behavior of DataFrame concatenation with empty or all-NA entries is deprecated. In a future version, this will no longer exclude empty or all-NA columns when determining the result dtypes. To retain the old behavior, exclude the relevant entries before the concat operation.\n",
      "  return cls(df=pd.concat(dfs, axis=0, sort=True))\n",
      "[WARNING 10-29 16:44:50] ax.service.utils.report_utils: Column reason missing for all trials. Not appending column.\n",
      "[INFO 10-29 16:44:50] ax.service.ax_client: Completed trial 14 with data: {'t1': (32.562663, None)}.\n",
      "[INFO 10-29 16:44:50] ax.service.ax_client: Saved JSON-serialized state of optimization to `/Users/thomasdodd/Library/CloudStorage/OneDrive-MillfieldEnterprisesLimited/Cambridge/GitHub/BO4ACST/Notebooks/Optimisation/Method20241028Dim2_qKnowledgeGradient/AxExperiment.json`.\n",
      "[WARNING 10-29 16:44:50] ax.service.utils.report_utils: Column reason missing for all trials. Not appending column.\n",
      "[WARNING 10-29 16:44:50] ax.service.utils.report_utils: Column reason missing for all trials. Not appending column.\n"
     ]
    },
    {
     "name": "stdout",
     "output_type": "stream",
     "text": [
      "There are no trials currently running - initialising Bayesian iteration trials.\n"
     ]
    },
    {
     "name": "stderr",
     "output_type": "stream",
     "text": [
      "[INFO 10-29 16:44:52] ax.service.ax_client: Generated new trial 15 with parameters {'x1': 5.622514, 'x2': 0.262694} using model BoTorch.\n",
      "[INFO 10-29 16:44:52] ax.service.ax_client: Saved JSON-serialized state of optimization to `/Users/thomasdodd/Library/CloudStorage/OneDrive-MillfieldEnterprisesLimited/Cambridge/GitHub/BO4ACST/Notebooks/Optimisation/Method20241028Dim2_qKnowledgeGradient/AxExperiment.json`.\n",
      "/Users/thomasdodd/miniconda3/envs/BO4ACST_env/lib/python3.11/site-packages/ax/core/data.py:288: FutureWarning: The behavior of DataFrame concatenation with empty or all-NA entries is deprecated. In a future version, this will no longer exclude empty or all-NA columns when determining the result dtypes. To retain the old behavior, exclude the relevant entries before the concat operation.\n",
      "  return cls(df=pd.concat(dfs, axis=0, sort=True))\n",
      "[WARNING 10-29 16:44:52] ax.service.utils.report_utils: Column reason missing for all trials. Not appending column.\n",
      "/Users/thomasdodd/miniconda3/envs/BO4ACST_env/lib/python3.11/site-packages/ax/core/data.py:288: FutureWarning: The behavior of DataFrame concatenation with empty or all-NA entries is deprecated. In a future version, this will no longer exclude empty or all-NA columns when determining the result dtypes. To retain the old behavior, exclude the relevant entries before the concat operation.\n",
      "  return cls(df=pd.concat(dfs, axis=0, sort=True))\n",
      "[WARNING 10-29 16:44:52] ax.service.utils.report_utils: Column reason missing for all trials. Not appending column.\n",
      "[INFO 10-29 16:44:52] ax.service.ax_client: Completed trial 15 with data: {'t1': (43.076524, None)}.\n",
      "[INFO 10-29 16:44:52] ax.service.ax_client: Saved JSON-serialized state of optimization to `/Users/thomasdodd/Library/CloudStorage/OneDrive-MillfieldEnterprisesLimited/Cambridge/GitHub/BO4ACST/Notebooks/Optimisation/Method20241028Dim2_qKnowledgeGradient/AxExperiment.json`.\n",
      "[WARNING 10-29 16:44:52] ax.service.utils.report_utils: Column reason missing for all trials. Not appending column.\n",
      "[WARNING 10-29 16:44:52] ax.service.utils.report_utils: Column reason missing for all trials. Not appending column.\n"
     ]
    },
    {
     "name": "stdout",
     "output_type": "stream",
     "text": [
      "There are no trials currently running - initialising Bayesian iteration trials.\n"
     ]
    },
    {
     "name": "stderr",
     "output_type": "stream",
     "text": [
      "[INFO 10-29 16:45:32] ax.service.ax_client: Generated new trial 16 with parameters {'x1': 0.534122, 'x2': 6.85991} using model BoTorch.\n",
      "[INFO 10-29 16:45:32] ax.service.ax_client: Saved JSON-serialized state of optimization to `/Users/thomasdodd/Library/CloudStorage/OneDrive-MillfieldEnterprisesLimited/Cambridge/GitHub/BO4ACST/Notebooks/Optimisation/Method20241028Dim2_qKnowledgeGradient/AxExperiment.json`.\n",
      "/Users/thomasdodd/miniconda3/envs/BO4ACST_env/lib/python3.11/site-packages/ax/core/data.py:288: FutureWarning: The behavior of DataFrame concatenation with empty or all-NA entries is deprecated. In a future version, this will no longer exclude empty or all-NA columns when determining the result dtypes. To retain the old behavior, exclude the relevant entries before the concat operation.\n",
      "  return cls(df=pd.concat(dfs, axis=0, sort=True))\n",
      "[WARNING 10-29 16:45:32] ax.service.utils.report_utils: Column reason missing for all trials. Not appending column.\n",
      "/Users/thomasdodd/miniconda3/envs/BO4ACST_env/lib/python3.11/site-packages/ax/core/data.py:288: FutureWarning: The behavior of DataFrame concatenation with empty or all-NA entries is deprecated. In a future version, this will no longer exclude empty or all-NA columns when determining the result dtypes. To retain the old behavior, exclude the relevant entries before the concat operation.\n",
      "  return cls(df=pd.concat(dfs, axis=0, sort=True))\n",
      "[WARNING 10-29 16:45:32] ax.service.utils.report_utils: Column reason missing for all trials. Not appending column.\n",
      "[INFO 10-29 16:45:32] ax.service.ax_client: Completed trial 16 with data: {'t1': (61.193747, None)}.\n",
      "[INFO 10-29 16:45:32] ax.service.ax_client: Saved JSON-serialized state of optimization to `/Users/thomasdodd/Library/CloudStorage/OneDrive-MillfieldEnterprisesLimited/Cambridge/GitHub/BO4ACST/Notebooks/Optimisation/Method20241028Dim2_qKnowledgeGradient/AxExperiment.json`.\n",
      "[WARNING 10-29 16:45:32] ax.service.utils.report_utils: Column reason missing for all trials. Not appending column.\n",
      "[WARNING 10-29 16:45:32] ax.service.utils.report_utils: Column reason missing for all trials. Not appending column.\n"
     ]
    },
    {
     "name": "stdout",
     "output_type": "stream",
     "text": [
      "There are no trials currently running - initialising Bayesian iteration trials.\n"
     ]
    },
    {
     "name": "stderr",
     "output_type": "stream",
     "text": [
      "[INFO 10-29 16:46:24] ax.service.ax_client: Generated new trial 17 with parameters {'x1': 2.913527, 'x2': -1.719874} using model BoTorch.\n",
      "[INFO 10-29 16:46:24] ax.service.ax_client: Saved JSON-serialized state of optimization to `/Users/thomasdodd/Library/CloudStorage/OneDrive-MillfieldEnterprisesLimited/Cambridge/GitHub/BO4ACST/Notebooks/Optimisation/Method20241028Dim2_qKnowledgeGradient/AxExperiment.json`.\n",
      "/Users/thomasdodd/miniconda3/envs/BO4ACST_env/lib/python3.11/site-packages/ax/core/data.py:288: FutureWarning: The behavior of DataFrame concatenation with empty or all-NA entries is deprecated. In a future version, this will no longer exclude empty or all-NA columns when determining the result dtypes. To retain the old behavior, exclude the relevant entries before the concat operation.\n",
      "  return cls(df=pd.concat(dfs, axis=0, sort=True))\n",
      "[WARNING 10-29 16:46:24] ax.service.utils.report_utils: Column reason missing for all trials. Not appending column.\n",
      "/Users/thomasdodd/miniconda3/envs/BO4ACST_env/lib/python3.11/site-packages/ax/core/data.py:288: FutureWarning: The behavior of DataFrame concatenation with empty or all-NA entries is deprecated. In a future version, this will no longer exclude empty or all-NA columns when determining the result dtypes. To retain the old behavior, exclude the relevant entries before the concat operation.\n",
      "  return cls(df=pd.concat(dfs, axis=0, sort=True))\n",
      "[WARNING 10-29 16:46:24] ax.service.utils.report_utils: Column reason missing for all trials. Not appending column.\n",
      "[INFO 10-29 16:46:24] ax.service.ax_client: Completed trial 17 with data: {'t1': (57.441124, None)}.\n",
      "[INFO 10-29 16:46:24] ax.service.ax_client: Saved JSON-serialized state of optimization to `/Users/thomasdodd/Library/CloudStorage/OneDrive-MillfieldEnterprisesLimited/Cambridge/GitHub/BO4ACST/Notebooks/Optimisation/Method20241028Dim2_qKnowledgeGradient/AxExperiment.json`.\n",
      "[WARNING 10-29 16:46:24] ax.service.utils.report_utils: Column reason missing for all trials. Not appending column.\n",
      "[WARNING 10-29 16:46:24] ax.service.utils.report_utils: Column reason missing for all trials. Not appending column.\n"
     ]
    },
    {
     "name": "stdout",
     "output_type": "stream",
     "text": [
      "There are no trials currently running - initialising Bayesian iteration trials.\n"
     ]
    },
    {
     "name": "stderr",
     "output_type": "stream",
     "text": [
      "[INFO 10-29 16:47:35] ax.service.ax_client: Generated new trial 18 with parameters {'x1': 6.245656, 'x2': 2.035689} using model BoTorch.\n",
      "[INFO 10-29 16:47:35] ax.service.ax_client: Saved JSON-serialized state of optimization to `/Users/thomasdodd/Library/CloudStorage/OneDrive-MillfieldEnterprisesLimited/Cambridge/GitHub/BO4ACST/Notebooks/Optimisation/Method20241028Dim2_qKnowledgeGradient/AxExperiment.json`.\n",
      "/Users/thomasdodd/miniconda3/envs/BO4ACST_env/lib/python3.11/site-packages/ax/core/data.py:288: FutureWarning: The behavior of DataFrame concatenation with empty or all-NA entries is deprecated. In a future version, this will no longer exclude empty or all-NA columns when determining the result dtypes. To retain the old behavior, exclude the relevant entries before the concat operation.\n",
      "  return cls(df=pd.concat(dfs, axis=0, sort=True))\n",
      "[WARNING 10-29 16:47:35] ax.service.utils.report_utils: Column reason missing for all trials. Not appending column.\n",
      "/Users/thomasdodd/miniconda3/envs/BO4ACST_env/lib/python3.11/site-packages/ax/core/data.py:288: FutureWarning: The behavior of DataFrame concatenation with empty or all-NA entries is deprecated. In a future version, this will no longer exclude empty or all-NA columns when determining the result dtypes. To retain the old behavior, exclude the relevant entries before the concat operation.\n",
      "  return cls(df=pd.concat(dfs, axis=0, sort=True))\n",
      "[WARNING 10-29 16:47:35] ax.service.utils.report_utils: Column reason missing for all trials. Not appending column.\n",
      "[INFO 10-29 16:47:35] ax.service.ax_client: Completed trial 18 with data: {'t1': (101.766474, None)}.\n",
      "[INFO 10-29 16:47:35] ax.service.ax_client: Saved JSON-serialized state of optimization to `/Users/thomasdodd/Library/CloudStorage/OneDrive-MillfieldEnterprisesLimited/Cambridge/GitHub/BO4ACST/Notebooks/Optimisation/Method20241028Dim2_qKnowledgeGradient/AxExperiment.json`.\n",
      "[WARNING 10-29 16:47:35] ax.service.utils.report_utils: Column reason missing for all trials. Not appending column.\n",
      "[WARNING 10-29 16:47:35] ax.service.utils.report_utils: Column reason missing for all trials. Not appending column.\n"
     ]
    },
    {
     "name": "stdout",
     "output_type": "stream",
     "text": [
      "There are no trials currently running - initialising Bayesian iteration trials.\n"
     ]
    },
    {
     "name": "stderr",
     "output_type": "stream",
     "text": [
      "[INFO 10-29 16:47:54] ax.service.ax_client: Generated new trial 19 with parameters {'x1': -2.453304, 'x2': 3.753482} using model BoTorch.\n",
      "[INFO 10-29 16:47:54] ax.service.ax_client: Saved JSON-serialized state of optimization to `/Users/thomasdodd/Library/CloudStorage/OneDrive-MillfieldEnterprisesLimited/Cambridge/GitHub/BO4ACST/Notebooks/Optimisation/Method20241028Dim2_qKnowledgeGradient/AxExperiment.json`.\n",
      "/Users/thomasdodd/miniconda3/envs/BO4ACST_env/lib/python3.11/site-packages/ax/core/data.py:288: FutureWarning: The behavior of DataFrame concatenation with empty or all-NA entries is deprecated. In a future version, this will no longer exclude empty or all-NA columns when determining the result dtypes. To retain the old behavior, exclude the relevant entries before the concat operation.\n",
      "  return cls(df=pd.concat(dfs, axis=0, sort=True))\n",
      "[WARNING 10-29 16:47:54] ax.service.utils.report_utils: Column reason missing for all trials. Not appending column.\n",
      "/Users/thomasdodd/miniconda3/envs/BO4ACST_env/lib/python3.11/site-packages/ax/core/data.py:288: FutureWarning: The behavior of DataFrame concatenation with empty or all-NA entries is deprecated. In a future version, this will no longer exclude empty or all-NA columns when determining the result dtypes. To retain the old behavior, exclude the relevant entries before the concat operation.\n",
      "  return cls(df=pd.concat(dfs, axis=0, sort=True))\n",
      "[WARNING 10-29 16:47:54] ax.service.utils.report_utils: Column reason missing for all trials. Not appending column.\n",
      "[INFO 10-29 16:47:54] ax.service.ax_client: Completed trial 19 with data: {'t1': (41.649208, None)}.\n",
      "[INFO 10-29 16:47:54] ax.service.ax_client: Saved JSON-serialized state of optimization to `/Users/thomasdodd/Library/CloudStorage/OneDrive-MillfieldEnterprisesLimited/Cambridge/GitHub/BO4ACST/Notebooks/Optimisation/Method20241028Dim2_qKnowledgeGradient/AxExperiment.json`.\n",
      "[WARNING 10-29 16:47:54] ax.service.utils.report_utils: Column reason missing for all trials. Not appending column.\n",
      "[WARNING 10-29 16:47:54] ax.service.utils.report_utils: Column reason missing for all trials. Not appending column.\n"
     ]
    },
    {
     "name": "stdout",
     "output_type": "stream",
     "text": [
      "There are no trials currently running - initialising Bayesian iteration trials.\n"
     ]
    },
    {
     "name": "stderr",
     "output_type": "stream",
     "text": [
      "[INFO 10-29 16:48:31] ax.service.ax_client: Generated new trial 20 with parameters {'x1': 1.478882, 'x2': 6.913746} using model BoTorch.\n",
      "[INFO 10-29 16:48:31] ax.service.ax_client: Saved JSON-serialized state of optimization to `/Users/thomasdodd/Library/CloudStorage/OneDrive-MillfieldEnterprisesLimited/Cambridge/GitHub/BO4ACST/Notebooks/Optimisation/Method20241028Dim2_qKnowledgeGradient/AxExperiment.json`.\n",
      "/Users/thomasdodd/miniconda3/envs/BO4ACST_env/lib/python3.11/site-packages/ax/core/data.py:288: FutureWarning: The behavior of DataFrame concatenation with empty or all-NA entries is deprecated. In a future version, this will no longer exclude empty or all-NA columns when determining the result dtypes. To retain the old behavior, exclude the relevant entries before the concat operation.\n",
      "  return cls(df=pd.concat(dfs, axis=0, sort=True))\n",
      "[WARNING 10-29 16:48:31] ax.service.utils.report_utils: Column reason missing for all trials. Not appending column.\n",
      "/Users/thomasdodd/miniconda3/envs/BO4ACST_env/lib/python3.11/site-packages/ax/core/data.py:288: FutureWarning: The behavior of DataFrame concatenation with empty or all-NA entries is deprecated. In a future version, this will no longer exclude empty or all-NA columns when determining the result dtypes. To retain the old behavior, exclude the relevant entries before the concat operation.\n",
      "  return cls(df=pd.concat(dfs, axis=0, sort=True))\n",
      "[WARNING 10-29 16:48:31] ax.service.utils.report_utils: Column reason missing for all trials. Not appending column.\n",
      "[INFO 10-29 16:48:31] ax.service.ax_client: Completed trial 20 with data: {'t1': (92.727469, None)}.\n",
      "[INFO 10-29 16:48:31] ax.service.ax_client: Saved JSON-serialized state of optimization to `/Users/thomasdodd/Library/CloudStorage/OneDrive-MillfieldEnterprisesLimited/Cambridge/GitHub/BO4ACST/Notebooks/Optimisation/Method20241028Dim2_qKnowledgeGradient/AxExperiment.json`.\n",
      "[WARNING 10-29 16:48:31] ax.service.utils.report_utils: Column reason missing for all trials. Not appending column.\n",
      "[WARNING 10-29 16:48:31] ax.service.utils.report_utils: Column reason missing for all trials. Not appending column.\n"
     ]
    },
    {
     "name": "stdout",
     "output_type": "stream",
     "text": [
      "There are no trials currently running - initialising Bayesian iteration trials.\n"
     ]
    },
    {
     "name": "stderr",
     "output_type": "stream",
     "text": [
      "[INFO 10-29 16:49:13] ax.service.ax_client: Generated new trial 21 with parameters {'x1': 3.696823, 'x2': -0.795998} using model BoTorch.\n",
      "[INFO 10-29 16:49:13] ax.service.ax_client: Saved JSON-serialized state of optimization to `/Users/thomasdodd/Library/CloudStorage/OneDrive-MillfieldEnterprisesLimited/Cambridge/GitHub/BO4ACST/Notebooks/Optimisation/Method20241028Dim2_qKnowledgeGradient/AxExperiment.json`.\n",
      "/Users/thomasdodd/miniconda3/envs/BO4ACST_env/lib/python3.11/site-packages/ax/core/data.py:288: FutureWarning: The behavior of DataFrame concatenation with empty or all-NA entries is deprecated. In a future version, this will no longer exclude empty or all-NA columns when determining the result dtypes. To retain the old behavior, exclude the relevant entries before the concat operation.\n",
      "  return cls(df=pd.concat(dfs, axis=0, sort=True))\n",
      "[WARNING 10-29 16:49:13] ax.service.utils.report_utils: Column reason missing for all trials. Not appending column.\n",
      "/Users/thomasdodd/miniconda3/envs/BO4ACST_env/lib/python3.11/site-packages/ax/core/data.py:288: FutureWarning: The behavior of DataFrame concatenation with empty or all-NA entries is deprecated. In a future version, this will no longer exclude empty or all-NA columns when determining the result dtypes. To retain the old behavior, exclude the relevant entries before the concat operation.\n",
      "  return cls(df=pd.concat(dfs, axis=0, sort=True))\n",
      "[WARNING 10-29 16:49:13] ax.service.utils.report_utils: Column reason missing for all trials. Not appending column.\n",
      "[INFO 10-29 16:49:13] ax.service.ax_client: Completed trial 21 with data: {'t1': (26.515197, None)}.\n",
      "[INFO 10-29 16:49:13] ax.service.ax_client: Saved JSON-serialized state of optimization to `/Users/thomasdodd/Library/CloudStorage/OneDrive-MillfieldEnterprisesLimited/Cambridge/GitHub/BO4ACST/Notebooks/Optimisation/Method20241028Dim2_qKnowledgeGradient/AxExperiment.json`.\n",
      "[WARNING 10-29 16:49:13] ax.service.utils.report_utils: Column reason missing for all trials. Not appending column.\n",
      "[WARNING 10-29 16:49:13] ax.service.utils.report_utils: Column reason missing for all trials. Not appending column.\n"
     ]
    },
    {
     "name": "stdout",
     "output_type": "stream",
     "text": [
      "There are no trials currently running - initialising Bayesian iteration trials.\n"
     ]
    },
    {
     "name": "stderr",
     "output_type": "stream",
     "text": [
      "[INFO 10-29 16:49:52] ax.service.ax_client: Generated new trial 22 with parameters {'x1': -7.94492, 'x2': 8.553084} using model BoTorch.\n",
      "[INFO 10-29 16:49:52] ax.service.ax_client: Saved JSON-serialized state of optimization to `/Users/thomasdodd/Library/CloudStorage/OneDrive-MillfieldEnterprisesLimited/Cambridge/GitHub/BO4ACST/Notebooks/Optimisation/Method20241028Dim2_qKnowledgeGradient/AxExperiment.json`.\n",
      "/Users/thomasdodd/miniconda3/envs/BO4ACST_env/lib/python3.11/site-packages/ax/core/data.py:288: FutureWarning: The behavior of DataFrame concatenation with empty or all-NA entries is deprecated. In a future version, this will no longer exclude empty or all-NA columns when determining the result dtypes. To retain the old behavior, exclude the relevant entries before the concat operation.\n",
      "  return cls(df=pd.concat(dfs, axis=0, sort=True))\n",
      "[WARNING 10-29 16:49:52] ax.service.utils.report_utils: Column reason missing for all trials. Not appending column.\n",
      "/Users/thomasdodd/miniconda3/envs/BO4ACST_env/lib/python3.11/site-packages/ax/core/data.py:288: FutureWarning: The behavior of DataFrame concatenation with empty or all-NA entries is deprecated. In a future version, this will no longer exclude empty or all-NA columns when determining the result dtypes. To retain the old behavior, exclude the relevant entries before the concat operation.\n",
      "  return cls(df=pd.concat(dfs, axis=0, sort=True))\n",
      "[WARNING 10-29 16:49:52] ax.service.utils.report_utils: Column reason missing for all trials. Not appending column.\n",
      "[INFO 10-29 16:49:52] ax.service.ax_client: Completed trial 22 with data: {'t1': (156.866517, None)}.\n",
      "[INFO 10-29 16:49:52] ax.service.ax_client: Saved JSON-serialized state of optimization to `/Users/thomasdodd/Library/CloudStorage/OneDrive-MillfieldEnterprisesLimited/Cambridge/GitHub/BO4ACST/Notebooks/Optimisation/Method20241028Dim2_qKnowledgeGradient/AxExperiment.json`.\n",
      "[WARNING 10-29 16:49:52] ax.service.utils.report_utils: Column reason missing for all trials. Not appending column.\n",
      "[WARNING 10-29 16:49:52] ax.service.utils.report_utils: Column reason missing for all trials. Not appending column.\n"
     ]
    },
    {
     "name": "stdout",
     "output_type": "stream",
     "text": [
      "There are no trials currently running - initialising Bayesian iteration trials.\n"
     ]
    },
    {
     "name": "stderr",
     "output_type": "stream",
     "text": [
      "[INFO 10-29 16:50:32] ax.service.ax_client: Generated new trial 23 with parameters {'x1': -3.312227, 'x2': 0.209923} using model BoTorch.\n",
      "[INFO 10-29 16:50:32] ax.service.ax_client: Saved JSON-serialized state of optimization to `/Users/thomasdodd/Library/CloudStorage/OneDrive-MillfieldEnterprisesLimited/Cambridge/GitHub/BO4ACST/Notebooks/Optimisation/Method20241028Dim2_qKnowledgeGradient/AxExperiment.json`.\n",
      "/Users/thomasdodd/miniconda3/envs/BO4ACST_env/lib/python3.11/site-packages/ax/core/data.py:288: FutureWarning: The behavior of DataFrame concatenation with empty or all-NA entries is deprecated. In a future version, this will no longer exclude empty or all-NA columns when determining the result dtypes. To retain the old behavior, exclude the relevant entries before the concat operation.\n",
      "  return cls(df=pd.concat(dfs, axis=0, sort=True))\n",
      "[WARNING 10-29 16:50:32] ax.service.utils.report_utils: Column reason missing for all trials. Not appending column.\n",
      "/Users/thomasdodd/miniconda3/envs/BO4ACST_env/lib/python3.11/site-packages/ax/core/data.py:288: FutureWarning: The behavior of DataFrame concatenation with empty or all-NA entries is deprecated. In a future version, this will no longer exclude empty or all-NA columns when determining the result dtypes. To retain the old behavior, exclude the relevant entries before the concat operation.\n",
      "  return cls(df=pd.concat(dfs, axis=0, sort=True))\n",
      "[WARNING 10-29 16:50:32] ax.service.utils.report_utils: Column reason missing for all trials. Not appending column.\n",
      "[INFO 10-29 16:50:32] ax.service.ax_client: Completed trial 23 with data: {'t1': (228.15067, None)}.\n",
      "[INFO 10-29 16:50:32] ax.service.ax_client: Saved JSON-serialized state of optimization to `/Users/thomasdodd/Library/CloudStorage/OneDrive-MillfieldEnterprisesLimited/Cambridge/GitHub/BO4ACST/Notebooks/Optimisation/Method20241028Dim2_qKnowledgeGradient/AxExperiment.json`.\n",
      "[WARNING 10-29 16:50:32] ax.service.utils.report_utils: Column reason missing for all trials. Not appending column.\n",
      "[INFO 10-29 16:50:32] ax.service.ax_client: Starting optimization with verbose logging. To disable logging, set the `verbose_logging` argument to `False`. Note that float values in the logs are rounded to 6 decimal points.\n",
      "[INFO 10-29 16:50:32] ax.service.utils.instantiation: Created search space: SearchSpace(parameters=[RangeParameter(name='x1', parameter_type=FLOAT, range=[-10.0, 10.0]), RangeParameter(name='x2', parameter_type=FLOAT, range=[-10.0, 10.0])], parameter_constraints=[]).\n",
      "[INFO 10-29 16:50:32] ax.service.ax_client: Saved JSON-serialized state of optimization to `/Users/thomasdodd/Library/CloudStorage/OneDrive-MillfieldEnterprisesLimited/Cambridge/GitHub/BO4ACST/Notebooks/Optimisation/Method20241028Dim2_qKnowledgeGradient/AxExperiment.json`.\n",
      "[INFO 10-29 16:50:32] ax.core.experiment: Attached custom parameterizations [{'x1': -10.0, 'x2': -10.0}] as trial 0.\n",
      "[INFO 10-29 16:50:32] ax.core.experiment: Attached custom parameterizations [{'x1': 0.0, 'x2': -10.0}] as trial 1.\n",
      "[INFO 10-29 16:50:32] ax.core.experiment: Attached custom parameterizations [{'x1': 10.0, 'x2': -10.0}] as trial 2.\n",
      "[INFO 10-29 16:50:32] ax.core.experiment: Attached custom parameterizations [{'x1': -10.0, 'x2': 0.0}] as trial 3.\n",
      "[INFO 10-29 16:50:32] ax.core.experiment: Attached custom parameterizations [{'x1': 0.0, 'x2': 0.0}] as trial 4.\n",
      "[INFO 10-29 16:50:32] ax.core.experiment: Attached custom parameterizations [{'x1': 10.0, 'x2': 0.0}] as trial 5.\n",
      "[INFO 10-29 16:50:32] ax.core.experiment: Attached custom parameterizations [{'x1': -10.0, 'x2': 10.0}] as trial 6.\n",
      "[INFO 10-29 16:50:32] ax.core.experiment: Attached custom parameterizations [{'x1': 0.0, 'x2': 10.0}] as trial 7.\n",
      "[INFO 10-29 16:50:32] ax.core.experiment: Attached custom parameterizations [{'x1': 10.0, 'x2': 10.0}] as trial 8.\n",
      "[INFO 10-29 16:50:32] ax.service.ax_client: Saved JSON-serialized state of optimization to `/Users/thomasdodd/Library/CloudStorage/OneDrive-MillfieldEnterprisesLimited/Cambridge/GitHub/BO4ACST/Notebooks/Optimisation/Method20241028Dim2_qKnowledgeGradient/AxExperiment.json`.\n",
      "[WARNING 10-29 16:50:32] ax.service.utils.report_utils: Column reason missing for all trials. Not appending column.\n",
      "[INFO 10-29 16:50:32] ax.service.utils.report_utils: No results present for the specified metrics `[Metric('t1')]`. Returning arm parameters and metadata only.\n",
      "[WARNING 10-29 16:50:32] ax.service.utils.report_utils: Column reason missing for all trials. Not appending column.\n",
      "[INFO 10-29 16:50:32] ax.service.utils.report_utils: No results present for the specified metrics `[Metric('t1')]`. Returning arm parameters and metadata only.\n",
      "[INFO 10-29 16:50:32] ax.service.ax_client: Completed trial 0 with data: {'t1': (2594.0, None)}.\n",
      "[INFO 10-29 16:50:32] ax.service.ax_client: Saved JSON-serialized state of optimization to `/Users/thomasdodd/Library/CloudStorage/OneDrive-MillfieldEnterprisesLimited/Cambridge/GitHub/BO4ACST/Notebooks/Optimisation/Method20241028Dim2_qKnowledgeGradient/AxExperiment.json`.\n",
      "[INFO 10-29 16:50:32] ax.service.ax_client: Completed trial 1 with data: {'t1': (954.0, None)}.\n",
      "[INFO 10-29 16:50:32] ax.service.ax_client: Saved JSON-serialized state of optimization to `/Users/thomasdodd/Library/CloudStorage/OneDrive-MillfieldEnterprisesLimited/Cambridge/GitHub/BO4ACST/Notebooks/Optimisation/Method20241028Dim2_qKnowledgeGradient/AxExperiment.json`.\n",
      "[INFO 10-29 16:50:32] ax.service.ax_client: Completed trial 2 with data: {'t1': (314.0, None)}.\n",
      "[INFO 10-29 16:50:32] ax.service.ax_client: Saved JSON-serialized state of optimization to `/Users/thomasdodd/Library/CloudStorage/OneDrive-MillfieldEnterprisesLimited/Cambridge/GitHub/BO4ACST/Notebooks/Optimisation/Method20241028Dim2_qKnowledgeGradient/AxExperiment.json`.\n",
      "[INFO 10-29 16:50:32] ax.service.ax_client: Completed trial 3 with data: {'t1': (914.0, None)}.\n",
      "[INFO 10-29 16:50:32] ax.service.ax_client: Saved JSON-serialized state of optimization to `/Users/thomasdodd/Library/CloudStorage/OneDrive-MillfieldEnterprisesLimited/Cambridge/GitHub/BO4ACST/Notebooks/Optimisation/Method20241028Dim2_qKnowledgeGradient/AxExperiment.json`.\n",
      "[INFO 10-29 16:50:32] ax.service.ax_client: Completed trial 4 with data: {'t1': (74.0, None)}.\n",
      "[INFO 10-29 16:50:32] ax.service.ax_client: Saved JSON-serialized state of optimization to `/Users/thomasdodd/Library/CloudStorage/OneDrive-MillfieldEnterprisesLimited/Cambridge/GitHub/BO4ACST/Notebooks/Optimisation/Method20241028Dim2_qKnowledgeGradient/AxExperiment.json`.\n",
      "[INFO 10-29 16:50:32] ax.service.ax_client: Completed trial 5 with data: {'t1': (234.0, None)}.\n",
      "[INFO 10-29 16:50:32] ax.service.ax_client: Saved JSON-serialized state of optimization to `/Users/thomasdodd/Library/CloudStorage/OneDrive-MillfieldEnterprisesLimited/Cambridge/GitHub/BO4ACST/Notebooks/Optimisation/Method20241028Dim2_qKnowledgeGradient/AxExperiment.json`.\n",
      "[INFO 10-29 16:50:32] ax.service.ax_client: Completed trial 6 with data: {'t1': (234.0, None)}.\n",
      "[INFO 10-29 16:50:32] ax.service.ax_client: Saved JSON-serialized state of optimization to `/Users/thomasdodd/Library/CloudStorage/OneDrive-MillfieldEnterprisesLimited/Cambridge/GitHub/BO4ACST/Notebooks/Optimisation/Method20241028Dim2_qKnowledgeGradient/AxExperiment.json`.\n",
      "[INFO 10-29 16:50:32] ax.service.ax_client: Completed trial 7 with data: {'t1': (194.0, None)}.\n",
      "[INFO 10-29 16:50:32] ax.service.ax_client: Saved JSON-serialized state of optimization to `/Users/thomasdodd/Library/CloudStorage/OneDrive-MillfieldEnterprisesLimited/Cambridge/GitHub/BO4ACST/Notebooks/Optimisation/Method20241028Dim2_qKnowledgeGradient/AxExperiment.json`.\n",
      "[INFO 10-29 16:50:32] ax.service.ax_client: Completed trial 8 with data: {'t1': (1154.0, None)}.\n",
      "[INFO 10-29 16:50:32] ax.service.ax_client: Saved JSON-serialized state of optimization to `/Users/thomasdodd/Library/CloudStorage/OneDrive-MillfieldEnterprisesLimited/Cambridge/GitHub/BO4ACST/Notebooks/Optimisation/Method20241028Dim2_qKnowledgeGradient/AxExperiment.json`.\n",
      "[WARNING 10-29 16:50:32] ax.service.utils.report_utils: Column reason missing for all trials. Not appending column.\n",
      "[WARNING 10-29 16:50:32] ax.service.utils.report_utils: Column reason missing for all trials. Not appending column.\n"
     ]
    },
    {
     "name": "stdout",
     "output_type": "stream",
     "text": [
      "[74.         74.         74.         60.5845444  55.15337473 54.89307533\n",
      " 32.56266342 32.56266342 32.56266342 32.56266342 32.56266342 32.56266342\n",
      " 32.56266342 26.51519663 26.51519663 26.51519663]\n",
      "A new experiment has been created and initialised.\n",
      "No previous or current trials detected - initialising prior-forming trials.\n",
      "Samples gridded = 9\n",
      "There are no trials currently running - initialising Bayesian iteration trials.\n"
     ]
    },
    {
     "name": "stderr",
     "output_type": "stream",
     "text": [
      "[INFO 10-29 16:50:35] ax.service.ax_client: Generated new trial 9 with parameters {'x1': -4.370184, 'x2': 4.816587} using model BoTorch.\n",
      "[INFO 10-29 16:50:35] ax.service.ax_client: Saved JSON-serialized state of optimization to `/Users/thomasdodd/Library/CloudStorage/OneDrive-MillfieldEnterprisesLimited/Cambridge/GitHub/BO4ACST/Notebooks/Optimisation/Method20241028Dim2_qKnowledgeGradient/AxExperiment.json`.\n",
      "/Users/thomasdodd/miniconda3/envs/BO4ACST_env/lib/python3.11/site-packages/ax/core/data.py:288: FutureWarning: The behavior of DataFrame concatenation with empty or all-NA entries is deprecated. In a future version, this will no longer exclude empty or all-NA columns when determining the result dtypes. To retain the old behavior, exclude the relevant entries before the concat operation.\n",
      "  return cls(df=pd.concat(dfs, axis=0, sort=True))\n",
      "[WARNING 10-29 16:50:35] ax.service.utils.report_utils: Column reason missing for all trials. Not appending column.\n",
      "/Users/thomasdodd/miniconda3/envs/BO4ACST_env/lib/python3.11/site-packages/ax/core/data.py:288: FutureWarning: The behavior of DataFrame concatenation with empty or all-NA entries is deprecated. In a future version, this will no longer exclude empty or all-NA columns when determining the result dtypes. To retain the old behavior, exclude the relevant entries before the concat operation.\n",
      "  return cls(df=pd.concat(dfs, axis=0, sort=True))\n",
      "[WARNING 10-29 16:50:35] ax.service.utils.report_utils: Column reason missing for all trials. Not appending column.\n",
      "[INFO 10-29 16:50:35] ax.service.ax_client: Completed trial 9 with data: {'t1': (82.651064, None)}.\n",
      "[INFO 10-29 16:50:35] ax.service.ax_client: Saved JSON-serialized state of optimization to `/Users/thomasdodd/Library/CloudStorage/OneDrive-MillfieldEnterprisesLimited/Cambridge/GitHub/BO4ACST/Notebooks/Optimisation/Method20241028Dim2_qKnowledgeGradient/AxExperiment.json`.\n",
      "[WARNING 10-29 16:50:35] ax.service.utils.report_utils: Column reason missing for all trials. Not appending column.\n",
      "[WARNING 10-29 16:50:35] ax.service.utils.report_utils: Column reason missing for all trials. Not appending column.\n"
     ]
    },
    {
     "name": "stdout",
     "output_type": "stream",
     "text": [
      "There are no trials currently running - initialising Bayesian iteration trials.\n"
     ]
    },
    {
     "name": "stderr",
     "output_type": "stream",
     "text": [
      "[INFO 10-29 16:50:37] ax.service.ax_client: Generated new trial 10 with parameters {'x1': 5.961453, 'x2': -5.069516} using model BoTorch.\n",
      "[INFO 10-29 16:50:37] ax.service.ax_client: Saved JSON-serialized state of optimization to `/Users/thomasdodd/Library/CloudStorage/OneDrive-MillfieldEnterprisesLimited/Cambridge/GitHub/BO4ACST/Notebooks/Optimisation/Method20241028Dim2_qKnowledgeGradient/AxExperiment.json`.\n",
      "/Users/thomasdodd/miniconda3/envs/BO4ACST_env/lib/python3.11/site-packages/ax/core/data.py:288: FutureWarning: The behavior of DataFrame concatenation with empty or all-NA entries is deprecated. In a future version, this will no longer exclude empty or all-NA columns when determining the result dtypes. To retain the old behavior, exclude the relevant entries before the concat operation.\n",
      "  return cls(df=pd.concat(dfs, axis=0, sort=True))\n",
      "[WARNING 10-29 16:50:37] ax.service.utils.report_utils: Column reason missing for all trials. Not appending column.\n",
      "/Users/thomasdodd/miniconda3/envs/BO4ACST_env/lib/python3.11/site-packages/ax/core/data.py:288: FutureWarning: The behavior of DataFrame concatenation with empty or all-NA entries is deprecated. In a future version, this will no longer exclude empty or all-NA columns when determining the result dtypes. To retain the old behavior, exclude the relevant entries before the concat operation.\n",
      "  return cls(df=pd.concat(dfs, axis=0, sort=True))\n",
      "[WARNING 10-29 16:50:37] ax.service.utils.report_utils: Column reason missing for all trials. Not appending column.\n",
      "[INFO 10-29 16:50:37] ax.service.ax_client: Completed trial 10 with data: {'t1': (128.37334, None)}.\n",
      "[INFO 10-29 16:50:37] ax.service.ax_client: Saved JSON-serialized state of optimization to `/Users/thomasdodd/Library/CloudStorage/OneDrive-MillfieldEnterprisesLimited/Cambridge/GitHub/BO4ACST/Notebooks/Optimisation/Method20241028Dim2_qKnowledgeGradient/AxExperiment.json`.\n",
      "[WARNING 10-29 16:50:37] ax.service.utils.report_utils: Column reason missing for all trials. Not appending column.\n",
      "[WARNING 10-29 16:50:37] ax.service.utils.report_utils: Column reason missing for all trials. Not appending column.\n"
     ]
    },
    {
     "name": "stdout",
     "output_type": "stream",
     "text": [
      "There are no trials currently running - initialising Bayesian iteration trials.\n"
     ]
    },
    {
     "name": "stderr",
     "output_type": "stream",
     "text": [
      "[INFO 10-29 16:50:39] ax.service.ax_client: Generated new trial 11 with parameters {'x1': 4.525142, 'x2': 3.011424} using model BoTorch.\n",
      "[INFO 10-29 16:50:39] ax.service.ax_client: Saved JSON-serialized state of optimization to `/Users/thomasdodd/Library/CloudStorage/OneDrive-MillfieldEnterprisesLimited/Cambridge/GitHub/BO4ACST/Notebooks/Optimisation/Method20241028Dim2_qKnowledgeGradient/AxExperiment.json`.\n",
      "/Users/thomasdodd/miniconda3/envs/BO4ACST_env/lib/python3.11/site-packages/ax/core/data.py:288: FutureWarning: The behavior of DataFrame concatenation with empty or all-NA entries is deprecated. In a future version, this will no longer exclude empty or all-NA columns when determining the result dtypes. To retain the old behavior, exclude the relevant entries before the concat operation.\n",
      "  return cls(df=pd.concat(dfs, axis=0, sort=True))\n",
      "[WARNING 10-29 16:50:39] ax.service.utils.report_utils: Column reason missing for all trials. Not appending column.\n",
      "/Users/thomasdodd/miniconda3/envs/BO4ACST_env/lib/python3.11/site-packages/ax/core/data.py:288: FutureWarning: The behavior of DataFrame concatenation with empty or all-NA entries is deprecated. In a future version, this will no longer exclude empty or all-NA columns when determining the result dtypes. To retain the old behavior, exclude the relevant entries before the concat operation.\n",
      "  return cls(df=pd.concat(dfs, axis=0, sort=True))\n",
      "[WARNING 10-29 16:50:39] ax.service.utils.report_utils: Column reason missing for all trials. Not appending column.\n",
      "[INFO 10-29 16:50:39] ax.service.ax_client: Completed trial 11 with data: {'t1': (62.455954, None)}.\n",
      "[INFO 10-29 16:50:39] ax.service.ax_client: Saved JSON-serialized state of optimization to `/Users/thomasdodd/Library/CloudStorage/OneDrive-MillfieldEnterprisesLimited/Cambridge/GitHub/BO4ACST/Notebooks/Optimisation/Method20241028Dim2_qKnowledgeGradient/AxExperiment.json`.\n",
      "[WARNING 10-29 16:50:39] ax.service.utils.report_utils: Column reason missing for all trials. Not appending column.\n",
      "[WARNING 10-29 16:50:39] ax.service.utils.report_utils: Column reason missing for all trials. Not appending column.\n"
     ]
    },
    {
     "name": "stdout",
     "output_type": "stream",
     "text": [
      "There are no trials currently running - initialising Bayesian iteration trials.\n"
     ]
    },
    {
     "name": "stderr",
     "output_type": "stream",
     "text": [
      "[INFO 10-29 16:50:41] ax.service.ax_client: Generated new trial 12 with parameters {'x1': -4.472164, 'x2': 6.925805} using model BoTorch.\n",
      "[INFO 10-29 16:50:41] ax.service.ax_client: Saved JSON-serialized state of optimization to `/Users/thomasdodd/Library/CloudStorage/OneDrive-MillfieldEnterprisesLimited/Cambridge/GitHub/BO4ACST/Notebooks/Optimisation/Method20241028Dim2_qKnowledgeGradient/AxExperiment.json`.\n",
      "/Users/thomasdodd/miniconda3/envs/BO4ACST_env/lib/python3.11/site-packages/ax/core/data.py:288: FutureWarning: The behavior of DataFrame concatenation with empty or all-NA entries is deprecated. In a future version, this will no longer exclude empty or all-NA columns when determining the result dtypes. To retain the old behavior, exclude the relevant entries before the concat operation.\n",
      "  return cls(df=pd.concat(dfs, axis=0, sort=True))\n",
      "[WARNING 10-29 16:50:41] ax.service.utils.report_utils: Column reason missing for all trials. Not appending column.\n",
      "/Users/thomasdodd/miniconda3/envs/BO4ACST_env/lib/python3.11/site-packages/ax/core/data.py:288: FutureWarning: The behavior of DataFrame concatenation with empty or all-NA entries is deprecated. In a future version, this will no longer exclude empty or all-NA columns when determining the result dtypes. To retain the old behavior, exclude the relevant entries before the concat operation.\n",
      "  return cls(df=pd.concat(dfs, axis=0, sort=True))\n",
      "[WARNING 10-29 16:50:41] ax.service.utils.report_utils: Column reason missing for all trials. Not appending column.\n",
      "[INFO 10-29 16:50:41] ax.service.ax_client: Completed trial 12 with data: {'t1': (54.921438, None)}.\n",
      "[INFO 10-29 16:50:41] ax.service.ax_client: Saved JSON-serialized state of optimization to `/Users/thomasdodd/Library/CloudStorage/OneDrive-MillfieldEnterprisesLimited/Cambridge/GitHub/BO4ACST/Notebooks/Optimisation/Method20241028Dim2_qKnowledgeGradient/AxExperiment.json`.\n",
      "[WARNING 10-29 16:50:41] ax.service.utils.report_utils: Column reason missing for all trials. Not appending column.\n",
      "[WARNING 10-29 16:50:41] ax.service.utils.report_utils: Column reason missing for all trials. Not appending column.\n"
     ]
    },
    {
     "name": "stdout",
     "output_type": "stream",
     "text": [
      "There are no trials currently running - initialising Bayesian iteration trials.\n"
     ]
    },
    {
     "name": "stderr",
     "output_type": "stream",
     "text": [
      "[INFO 10-29 16:50:42] ax.service.ax_client: Generated new trial 13 with parameters {'x1': 4.487631, 'x2': -2.38764} using model BoTorch.\n",
      "[INFO 10-29 16:50:42] ax.service.ax_client: Saved JSON-serialized state of optimization to `/Users/thomasdodd/Library/CloudStorage/OneDrive-MillfieldEnterprisesLimited/Cambridge/GitHub/BO4ACST/Notebooks/Optimisation/Method20241028Dim2_qKnowledgeGradient/AxExperiment.json`.\n",
      "/Users/thomasdodd/miniconda3/envs/BO4ACST_env/lib/python3.11/site-packages/ax/core/data.py:288: FutureWarning: The behavior of DataFrame concatenation with empty or all-NA entries is deprecated. In a future version, this will no longer exclude empty or all-NA columns when determining the result dtypes. To retain the old behavior, exclude the relevant entries before the concat operation.\n",
      "  return cls(df=pd.concat(dfs, axis=0, sort=True))\n",
      "[WARNING 10-29 16:50:42] ax.service.utils.report_utils: Column reason missing for all trials. Not appending column.\n",
      "/Users/thomasdodd/miniconda3/envs/BO4ACST_env/lib/python3.11/site-packages/ax/core/data.py:288: FutureWarning: The behavior of DataFrame concatenation with empty or all-NA entries is deprecated. In a future version, this will no longer exclude empty or all-NA columns when determining the result dtypes. To retain the old behavior, exclude the relevant entries before the concat operation.\n",
      "  return cls(df=pd.concat(dfs, axis=0, sort=True))\n",
      "[WARNING 10-29 16:50:42] ax.service.utils.report_utils: Column reason missing for all trials. Not appending column.\n",
      "[INFO 10-29 16:50:42] ax.service.ax_client: Completed trial 13 with data: {'t1': (55.630379, None)}.\n",
      "[INFO 10-29 16:50:42] ax.service.ax_client: Saved JSON-serialized state of optimization to `/Users/thomasdodd/Library/CloudStorage/OneDrive-MillfieldEnterprisesLimited/Cambridge/GitHub/BO4ACST/Notebooks/Optimisation/Method20241028Dim2_qKnowledgeGradient/AxExperiment.json`.\n",
      "[WARNING 10-29 16:50:42] ax.service.utils.report_utils: Column reason missing for all trials. Not appending column.\n",
      "[WARNING 10-29 16:50:42] ax.service.utils.report_utils: Column reason missing for all trials. Not appending column.\n"
     ]
    },
    {
     "name": "stdout",
     "output_type": "stream",
     "text": [
      "There are no trials currently running - initialising Bayesian iteration trials.\n"
     ]
    },
    {
     "name": "stderr",
     "output_type": "stream",
     "text": [
      "[INFO 10-29 16:50:44] ax.service.ax_client: Generated new trial 14 with parameters {'x1': -0.435593, 'x2': 6.52259} using model BoTorch.\n",
      "[INFO 10-29 16:50:44] ax.service.ax_client: Saved JSON-serialized state of optimization to `/Users/thomasdodd/Library/CloudStorage/OneDrive-MillfieldEnterprisesLimited/Cambridge/GitHub/BO4ACST/Notebooks/Optimisation/Method20241028Dim2_qKnowledgeGradient/AxExperiment.json`.\n",
      "/Users/thomasdodd/miniconda3/envs/BO4ACST_env/lib/python3.11/site-packages/ax/core/data.py:288: FutureWarning: The behavior of DataFrame concatenation with empty or all-NA entries is deprecated. In a future version, this will no longer exclude empty or all-NA columns when determining the result dtypes. To retain the old behavior, exclude the relevant entries before the concat operation.\n",
      "  return cls(df=pd.concat(dfs, axis=0, sort=True))\n",
      "[WARNING 10-29 16:50:44] ax.service.utils.report_utils: Column reason missing for all trials. Not appending column.\n",
      "/Users/thomasdodd/miniconda3/envs/BO4ACST_env/lib/python3.11/site-packages/ax/core/data.py:288: FutureWarning: The behavior of DataFrame concatenation with empty or all-NA entries is deprecated. In a future version, this will no longer exclude empty or all-NA columns when determining the result dtypes. To retain the old behavior, exclude the relevant entries before the concat operation.\n",
      "  return cls(df=pd.concat(dfs, axis=0, sort=True))\n",
      "[WARNING 10-29 16:50:44] ax.service.utils.report_utils: Column reason missing for all trials. Not appending column.\n",
      "[INFO 10-29 16:50:44] ax.service.ax_client: Completed trial 14 with data: {'t1': (31.891795, None)}.\n",
      "[INFO 10-29 16:50:44] ax.service.ax_client: Saved JSON-serialized state of optimization to `/Users/thomasdodd/Library/CloudStorage/OneDrive-MillfieldEnterprisesLimited/Cambridge/GitHub/BO4ACST/Notebooks/Optimisation/Method20241028Dim2_qKnowledgeGradient/AxExperiment.json`.\n",
      "[WARNING 10-29 16:50:44] ax.service.utils.report_utils: Column reason missing for all trials. Not appending column.\n",
      "[WARNING 10-29 16:50:44] ax.service.utils.report_utils: Column reason missing for all trials. Not appending column.\n"
     ]
    },
    {
     "name": "stdout",
     "output_type": "stream",
     "text": [
      "There are no trials currently running - initialising Bayesian iteration trials.\n"
     ]
    },
    {
     "name": "stderr",
     "output_type": "stream",
     "text": [
      "[INFO 10-29 16:50:46] ax.service.ax_client: Generated new trial 15 with parameters {'x1': 5.563987, 'x2': 0.263457} using model BoTorch.\n",
      "[INFO 10-29 16:50:46] ax.service.ax_client: Saved JSON-serialized state of optimization to `/Users/thomasdodd/Library/CloudStorage/OneDrive-MillfieldEnterprisesLimited/Cambridge/GitHub/BO4ACST/Notebooks/Optimisation/Method20241028Dim2_qKnowledgeGradient/AxExperiment.json`.\n",
      "/Users/thomasdodd/miniconda3/envs/BO4ACST_env/lib/python3.11/site-packages/ax/core/data.py:288: FutureWarning: The behavior of DataFrame concatenation with empty or all-NA entries is deprecated. In a future version, this will no longer exclude empty or all-NA columns when determining the result dtypes. To retain the old behavior, exclude the relevant entries before the concat operation.\n",
      "  return cls(df=pd.concat(dfs, axis=0, sort=True))\n",
      "[WARNING 10-29 16:50:46] ax.service.utils.report_utils: Column reason missing for all trials. Not appending column.\n",
      "/Users/thomasdodd/miniconda3/envs/BO4ACST_env/lib/python3.11/site-packages/ax/core/data.py:288: FutureWarning: The behavior of DataFrame concatenation with empty or all-NA entries is deprecated. In a future version, this will no longer exclude empty or all-NA columns when determining the result dtypes. To retain the old behavior, exclude the relevant entries before the concat operation.\n",
      "  return cls(df=pd.concat(dfs, axis=0, sort=True))\n",
      "[WARNING 10-29 16:50:46] ax.service.utils.report_utils: Column reason missing for all trials. Not appending column.\n",
      "[INFO 10-29 16:50:46] ax.service.ax_client: Completed trial 15 with data: {'t1': (41.676849, None)}.\n",
      "[INFO 10-29 16:50:46] ax.service.ax_client: Saved JSON-serialized state of optimization to `/Users/thomasdodd/Library/CloudStorage/OneDrive-MillfieldEnterprisesLimited/Cambridge/GitHub/BO4ACST/Notebooks/Optimisation/Method20241028Dim2_qKnowledgeGradient/AxExperiment.json`.\n",
      "[WARNING 10-29 16:50:46] ax.service.utils.report_utils: Column reason missing for all trials. Not appending column.\n",
      "[WARNING 10-29 16:50:46] ax.service.utils.report_utils: Column reason missing for all trials. Not appending column.\n"
     ]
    },
    {
     "name": "stdout",
     "output_type": "stream",
     "text": [
      "There are no trials currently running - initialising Bayesian iteration trials.\n"
     ]
    },
    {
     "name": "stderr",
     "output_type": "stream",
     "text": [
      "[INFO 10-29 16:51:40] ax.service.ax_client: Generated new trial 16 with parameters {'x1': 0.42334, 'x2': 6.583271} using model BoTorch.\n",
      "[INFO 10-29 16:51:40] ax.service.ax_client: Saved JSON-serialized state of optimization to `/Users/thomasdodd/Library/CloudStorage/OneDrive-MillfieldEnterprisesLimited/Cambridge/GitHub/BO4ACST/Notebooks/Optimisation/Method20241028Dim2_qKnowledgeGradient/AxExperiment.json`.\n",
      "/Users/thomasdodd/miniconda3/envs/BO4ACST_env/lib/python3.11/site-packages/ax/core/data.py:288: FutureWarning: The behavior of DataFrame concatenation with empty or all-NA entries is deprecated. In a future version, this will no longer exclude empty or all-NA columns when determining the result dtypes. To retain the old behavior, exclude the relevant entries before the concat operation.\n",
      "  return cls(df=pd.concat(dfs, axis=0, sort=True))\n",
      "[WARNING 10-29 16:51:40] ax.service.utils.report_utils: Column reason missing for all trials. Not appending column.\n",
      "/Users/thomasdodd/miniconda3/envs/BO4ACST_env/lib/python3.11/site-packages/ax/core/data.py:288: FutureWarning: The behavior of DataFrame concatenation with empty or all-NA entries is deprecated. In a future version, this will no longer exclude empty or all-NA columns when determining the result dtypes. To retain the old behavior, exclude the relevant entries before the concat operation.\n",
      "  return cls(df=pd.concat(dfs, axis=0, sort=True))\n",
      "[WARNING 10-29 16:51:40] ax.service.utils.report_utils: Column reason missing for all trials. Not appending column.\n",
      "[INFO 10-29 16:51:40] ax.service.ax_client: Completed trial 16 with data: {'t1': (49.331223, None)}.\n",
      "[INFO 10-29 16:51:40] ax.service.ax_client: Saved JSON-serialized state of optimization to `/Users/thomasdodd/Library/CloudStorage/OneDrive-MillfieldEnterprisesLimited/Cambridge/GitHub/BO4ACST/Notebooks/Optimisation/Method20241028Dim2_qKnowledgeGradient/AxExperiment.json`.\n",
      "[WARNING 10-29 16:51:40] ax.service.utils.report_utils: Column reason missing for all trials. Not appending column.\n",
      "[WARNING 10-29 16:51:40] ax.service.utils.report_utils: Column reason missing for all trials. Not appending column.\n"
     ]
    },
    {
     "name": "stdout",
     "output_type": "stream",
     "text": [
      "There are no trials currently running - initialising Bayesian iteration trials.\n"
     ]
    },
    {
     "name": "stderr",
     "output_type": "stream",
     "text": [
      "[INFO 10-29 16:53:43] ax.service.ax_client: Generated new trial 17 with parameters {'x1': 3.309971, 'x2': -1.403518} using model BoTorch.\n",
      "[INFO 10-29 16:53:43] ax.service.ax_client: Saved JSON-serialized state of optimization to `/Users/thomasdodd/Library/CloudStorage/OneDrive-MillfieldEnterprisesLimited/Cambridge/GitHub/BO4ACST/Notebooks/Optimisation/Method20241028Dim2_qKnowledgeGradient/AxExperiment.json`.\n",
      "/Users/thomasdodd/miniconda3/envs/BO4ACST_env/lib/python3.11/site-packages/ax/core/data.py:288: FutureWarning: The behavior of DataFrame concatenation with empty or all-NA entries is deprecated. In a future version, this will no longer exclude empty or all-NA columns when determining the result dtypes. To retain the old behavior, exclude the relevant entries before the concat operation.\n",
      "  return cls(df=pd.concat(dfs, axis=0, sort=True))\n",
      "[WARNING 10-29 16:53:43] ax.service.utils.report_utils: Column reason missing for all trials. Not appending column.\n",
      "/Users/thomasdodd/miniconda3/envs/BO4ACST_env/lib/python3.11/site-packages/ax/core/data.py:288: FutureWarning: The behavior of DataFrame concatenation with empty or all-NA entries is deprecated. In a future version, this will no longer exclude empty or all-NA columns when determining the result dtypes. To retain the old behavior, exclude the relevant entries before the concat operation.\n",
      "  return cls(df=pd.concat(dfs, axis=0, sort=True))\n",
      "[WARNING 10-29 16:53:43] ax.service.utils.report_utils: Column reason missing for all trials. Not appending column.\n",
      "[INFO 10-29 16:53:43] ax.service.ax_client: Completed trial 17 with data: {'t1': (42.258692, None)}.\n",
      "[INFO 10-29 16:53:43] ax.service.ax_client: Saved JSON-serialized state of optimization to `/Users/thomasdodd/Library/CloudStorage/OneDrive-MillfieldEnterprisesLimited/Cambridge/GitHub/BO4ACST/Notebooks/Optimisation/Method20241028Dim2_qKnowledgeGradient/AxExperiment.json`.\n",
      "[WARNING 10-29 16:53:43] ax.service.utils.report_utils: Column reason missing for all trials. Not appending column.\n",
      "[WARNING 10-29 16:53:43] ax.service.utils.report_utils: Column reason missing for all trials. Not appending column.\n"
     ]
    },
    {
     "name": "stdout",
     "output_type": "stream",
     "text": [
      "There are no trials currently running - initialising Bayesian iteration trials.\n"
     ]
    },
    {
     "name": "stderr",
     "output_type": "stream",
     "text": [
      "[INFO 10-29 16:55:06] ax.service.ax_client: Generated new trial 18 with parameters {'x1': 6.14308, 'x2': 2.1175} using model BoTorch.\n",
      "[INFO 10-29 16:55:06] ax.service.ax_client: Saved JSON-serialized state of optimization to `/Users/thomasdodd/Library/CloudStorage/OneDrive-MillfieldEnterprisesLimited/Cambridge/GitHub/BO4ACST/Notebooks/Optimisation/Method20241028Dim2_qKnowledgeGradient/AxExperiment.json`.\n",
      "/Users/thomasdodd/miniconda3/envs/BO4ACST_env/lib/python3.11/site-packages/ax/core/data.py:288: FutureWarning: The behavior of DataFrame concatenation with empty or all-NA entries is deprecated. In a future version, this will no longer exclude empty or all-NA columns when determining the result dtypes. To retain the old behavior, exclude the relevant entries before the concat operation.\n",
      "  return cls(df=pd.concat(dfs, axis=0, sort=True))\n",
      "[WARNING 10-29 16:55:06] ax.service.utils.report_utils: Column reason missing for all trials. Not appending column.\n",
      "/Users/thomasdodd/miniconda3/envs/BO4ACST_env/lib/python3.11/site-packages/ax/core/data.py:288: FutureWarning: The behavior of DataFrame concatenation with empty or all-NA entries is deprecated. In a future version, this will no longer exclude empty or all-NA columns when determining the result dtypes. To retain the old behavior, exclude the relevant entries before the concat operation.\n",
      "  return cls(df=pd.concat(dfs, axis=0, sort=True))\n",
      "[WARNING 10-29 16:55:06] ax.service.utils.report_utils: Column reason missing for all trials. Not appending column.\n",
      "[INFO 10-29 16:55:06] ax.service.ax_client: Completed trial 18 with data: {'t1': (99.840255, None)}.\n",
      "[INFO 10-29 16:55:06] ax.service.ax_client: Saved JSON-serialized state of optimization to `/Users/thomasdodd/Library/CloudStorage/OneDrive-MillfieldEnterprisesLimited/Cambridge/GitHub/BO4ACST/Notebooks/Optimisation/Method20241028Dim2_qKnowledgeGradient/AxExperiment.json`.\n",
      "[WARNING 10-29 16:55:06] ax.service.utils.report_utils: Column reason missing for all trials. Not appending column.\n",
      "[WARNING 10-29 16:55:06] ax.service.utils.report_utils: Column reason missing for all trials. Not appending column.\n"
     ]
    },
    {
     "name": "stdout",
     "output_type": "stream",
     "text": [
      "There are no trials currently running - initialising Bayesian iteration trials.\n"
     ]
    },
    {
     "name": "stderr",
     "output_type": "stream",
     "text": [
      "[INFO 10-29 16:55:54] ax.service.ax_client: Generated new trial 19 with parameters {'x1': -2.508622, 'x2': 3.693511} using model BoTorch.\n",
      "[INFO 10-29 16:55:54] ax.service.ax_client: Saved JSON-serialized state of optimization to `/Users/thomasdodd/Library/CloudStorage/OneDrive-MillfieldEnterprisesLimited/Cambridge/GitHub/BO4ACST/Notebooks/Optimisation/Method20241028Dim2_qKnowledgeGradient/AxExperiment.json`.\n",
      "/Users/thomasdodd/miniconda3/envs/BO4ACST_env/lib/python3.11/site-packages/ax/core/data.py:288: FutureWarning: The behavior of DataFrame concatenation with empty or all-NA entries is deprecated. In a future version, this will no longer exclude empty or all-NA columns when determining the result dtypes. To retain the old behavior, exclude the relevant entries before the concat operation.\n",
      "  return cls(df=pd.concat(dfs, axis=0, sort=True))\n",
      "[WARNING 10-29 16:55:54] ax.service.utils.report_utils: Column reason missing for all trials. Not appending column.\n",
      "/Users/thomasdodd/miniconda3/envs/BO4ACST_env/lib/python3.11/site-packages/ax/core/data.py:288: FutureWarning: The behavior of DataFrame concatenation with empty or all-NA entries is deprecated. In a future version, this will no longer exclude empty or all-NA columns when determining the result dtypes. To retain the old behavior, exclude the relevant entries before the concat operation.\n",
      "  return cls(df=pd.concat(dfs, axis=0, sort=True))\n",
      "[WARNING 10-29 16:55:54] ax.service.utils.report_utils: Column reason missing for all trials. Not appending column.\n",
      "[INFO 10-29 16:55:54] ax.service.ax_client: Completed trial 19 with data: {'t1': (44.490772, None)}.\n",
      "[INFO 10-29 16:55:54] ax.service.ax_client: Saved JSON-serialized state of optimization to `/Users/thomasdodd/Library/CloudStorage/OneDrive-MillfieldEnterprisesLimited/Cambridge/GitHub/BO4ACST/Notebooks/Optimisation/Method20241028Dim2_qKnowledgeGradient/AxExperiment.json`.\n",
      "[WARNING 10-29 16:55:54] ax.service.utils.report_utils: Column reason missing for all trials. Not appending column.\n",
      "[WARNING 10-29 16:55:54] ax.service.utils.report_utils: Column reason missing for all trials. Not appending column.\n"
     ]
    },
    {
     "name": "stdout",
     "output_type": "stream",
     "text": [
      "There are no trials currently running - initialising Bayesian iteration trials.\n"
     ]
    },
    {
     "name": "stderr",
     "output_type": "stream",
     "text": [
      "[INFO 10-29 16:56:55] ax.service.ax_client: Generated new trial 20 with parameters {'x1': 1.021603, 'x2': 6.487896} using model BoTorch.\n",
      "[INFO 10-29 16:56:55] ax.service.ax_client: Saved JSON-serialized state of optimization to `/Users/thomasdodd/Library/CloudStorage/OneDrive-MillfieldEnterprisesLimited/Cambridge/GitHub/BO4ACST/Notebooks/Optimisation/Method20241028Dim2_qKnowledgeGradient/AxExperiment.json`.\n",
      "/Users/thomasdodd/miniconda3/envs/BO4ACST_env/lib/python3.11/site-packages/ax/core/data.py:288: FutureWarning: The behavior of DataFrame concatenation with empty or all-NA entries is deprecated. In a future version, this will no longer exclude empty or all-NA columns when determining the result dtypes. To retain the old behavior, exclude the relevant entries before the concat operation.\n",
      "  return cls(df=pd.concat(dfs, axis=0, sort=True))\n",
      "[WARNING 10-29 16:56:55] ax.service.utils.report_utils: Column reason missing for all trials. Not appending column.\n",
      "/Users/thomasdodd/miniconda3/envs/BO4ACST_env/lib/python3.11/site-packages/ax/core/data.py:288: FutureWarning: The behavior of DataFrame concatenation with empty or all-NA entries is deprecated. In a future version, this will no longer exclude empty or all-NA columns when determining the result dtypes. To retain the old behavior, exclude the relevant entries before the concat operation.\n",
      "  return cls(df=pd.concat(dfs, axis=0, sort=True))\n",
      "[WARNING 10-29 16:56:55] ax.service.utils.report_utils: Column reason missing for all trials. Not appending column.\n",
      "[INFO 10-29 16:56:55] ax.service.ax_client: Completed trial 20 with data: {'t1': (61.43222, None)}.\n",
      "[INFO 10-29 16:56:55] ax.service.ax_client: Saved JSON-serialized state of optimization to `/Users/thomasdodd/Library/CloudStorage/OneDrive-MillfieldEnterprisesLimited/Cambridge/GitHub/BO4ACST/Notebooks/Optimisation/Method20241028Dim2_qKnowledgeGradient/AxExperiment.json`.\n",
      "[WARNING 10-29 16:56:55] ax.service.utils.report_utils: Column reason missing for all trials. Not appending column.\n",
      "[WARNING 10-29 16:56:55] ax.service.utils.report_utils: Column reason missing for all trials. Not appending column.\n"
     ]
    },
    {
     "name": "stdout",
     "output_type": "stream",
     "text": [
      "There are no trials currently running - initialising Bayesian iteration trials.\n"
     ]
    },
    {
     "name": "stderr",
     "output_type": "stream",
     "text": [
      "[INFO 10-29 16:57:47] ax.service.ax_client: Generated new trial 21 with parameters {'x1': -4.277971, 'x2': -4.580534} using model BoTorch.\n",
      "[INFO 10-29 16:57:47] ax.service.ax_client: Saved JSON-serialized state of optimization to `/Users/thomasdodd/Library/CloudStorage/OneDrive-MillfieldEnterprisesLimited/Cambridge/GitHub/BO4ACST/Notebooks/Optimisation/Method20241028Dim2_qKnowledgeGradient/AxExperiment.json`.\n",
      "/Users/thomasdodd/miniconda3/envs/BO4ACST_env/lib/python3.11/site-packages/ax/core/data.py:288: FutureWarning: The behavior of DataFrame concatenation with empty or all-NA entries is deprecated. In a future version, this will no longer exclude empty or all-NA columns when determining the result dtypes. To retain the old behavior, exclude the relevant entries before the concat operation.\n",
      "  return cls(df=pd.concat(dfs, axis=0, sort=True))\n",
      "[WARNING 10-29 16:57:47] ax.service.utils.report_utils: Column reason missing for all trials. Not appending column.\n",
      "/Users/thomasdodd/miniconda3/envs/BO4ACST_env/lib/python3.11/site-packages/ax/core/data.py:288: FutureWarning: The behavior of DataFrame concatenation with empty or all-NA entries is deprecated. In a future version, this will no longer exclude empty or all-NA columns when determining the result dtypes. To retain the old behavior, exclude the relevant entries before the concat operation.\n",
      "  return cls(df=pd.concat(dfs, axis=0, sort=True))\n",
      "[WARNING 10-29 16:57:47] ax.service.utils.report_utils: Column reason missing for all trials. Not appending column.\n",
      "[INFO 10-29 16:57:47] ax.service.ax_client: Completed trial 21 with data: {'t1': (746.686071, None)}.\n",
      "[INFO 10-29 16:57:47] ax.service.ax_client: Saved JSON-serialized state of optimization to `/Users/thomasdodd/Library/CloudStorage/OneDrive-MillfieldEnterprisesLimited/Cambridge/GitHub/BO4ACST/Notebooks/Optimisation/Method20241028Dim2_qKnowledgeGradient/AxExperiment.json`.\n",
      "[WARNING 10-29 16:57:47] ax.service.utils.report_utils: Column reason missing for all trials. Not appending column.\n",
      "[WARNING 10-29 16:57:47] ax.service.utils.report_utils: Column reason missing for all trials. Not appending column.\n"
     ]
    },
    {
     "name": "stdout",
     "output_type": "stream",
     "text": [
      "There are no trials currently running - initialising Bayesian iteration trials.\n"
     ]
    },
    {
     "name": "stderr",
     "output_type": "stream",
     "text": [
      "[INFO 10-29 16:58:44] ax.service.ax_client: Generated new trial 22 with parameters {'x1': 2.778499, 'x2': 0.402276} using model BoTorch.\n",
      "[INFO 10-29 16:58:44] ax.service.ax_client: Saved JSON-serialized state of optimization to `/Users/thomasdodd/Library/CloudStorage/OneDrive-MillfieldEnterprisesLimited/Cambridge/GitHub/BO4ACST/Notebooks/Optimisation/Method20241028Dim2_qKnowledgeGradient/AxExperiment.json`.\n",
      "/Users/thomasdodd/miniconda3/envs/BO4ACST_env/lib/python3.11/site-packages/ax/core/data.py:288: FutureWarning: The behavior of DataFrame concatenation with empty or all-NA entries is deprecated. In a future version, this will no longer exclude empty or all-NA columns when determining the result dtypes. To retain the old behavior, exclude the relevant entries before the concat operation.\n",
      "  return cls(df=pd.concat(dfs, axis=0, sort=True))\n",
      "[WARNING 10-29 16:58:44] ax.service.utils.report_utils: Column reason missing for all trials. Not appending column.\n",
      "/Users/thomasdodd/miniconda3/envs/BO4ACST_env/lib/python3.11/site-packages/ax/core/data.py:288: FutureWarning: The behavior of DataFrame concatenation with empty or all-NA entries is deprecated. In a future version, this will no longer exclude empty or all-NA columns when determining the result dtypes. To retain the old behavior, exclude the relevant entries before the concat operation.\n",
      "  return cls(df=pd.concat(dfs, axis=0, sort=True))\n",
      "[WARNING 10-29 16:58:44] ax.service.utils.report_utils: Column reason missing for all trials. Not appending column.\n",
      "[INFO 10-29 16:58:44] ax.service.ax_client: Completed trial 22 with data: {'t1': (12.595746, None)}.\n",
      "[INFO 10-29 16:58:44] ax.service.ax_client: Saved JSON-serialized state of optimization to `/Users/thomasdodd/Library/CloudStorage/OneDrive-MillfieldEnterprisesLimited/Cambridge/GitHub/BO4ACST/Notebooks/Optimisation/Method20241028Dim2_qKnowledgeGradient/AxExperiment.json`.\n",
      "[WARNING 10-29 16:58:44] ax.service.utils.report_utils: Column reason missing for all trials. Not appending column.\n",
      "[WARNING 10-29 16:58:44] ax.service.utils.report_utils: Column reason missing for all trials. Not appending column.\n"
     ]
    },
    {
     "name": "stdout",
     "output_type": "stream",
     "text": [
      "There are no trials currently running - initialising Bayesian iteration trials.\n"
     ]
    },
    {
     "name": "stderr",
     "output_type": "stream",
     "text": [
      "[INFO 10-29 16:59:32] ax.service.ax_client: Generated new trial 23 with parameters {'x1': -7.894192, 'x2': 8.397135} using model BoTorch.\n",
      "[INFO 10-29 16:59:32] ax.service.ax_client: Saved JSON-serialized state of optimization to `/Users/thomasdodd/Library/CloudStorage/OneDrive-MillfieldEnterprisesLimited/Cambridge/GitHub/BO4ACST/Notebooks/Optimisation/Method20241028Dim2_qKnowledgeGradient/AxExperiment.json`.\n",
      "/Users/thomasdodd/miniconda3/envs/BO4ACST_env/lib/python3.11/site-packages/ax/core/data.py:288: FutureWarning: The behavior of DataFrame concatenation with empty or all-NA entries is deprecated. In a future version, this will no longer exclude empty or all-NA columns when determining the result dtypes. To retain the old behavior, exclude the relevant entries before the concat operation.\n",
      "  return cls(df=pd.concat(dfs, axis=0, sort=True))\n",
      "[WARNING 10-29 16:59:32] ax.service.utils.report_utils: Column reason missing for all trials. Not appending column.\n",
      "/Users/thomasdodd/miniconda3/envs/BO4ACST_env/lib/python3.11/site-packages/ax/core/data.py:288: FutureWarning: The behavior of DataFrame concatenation with empty or all-NA entries is deprecated. In a future version, this will no longer exclude empty or all-NA columns when determining the result dtypes. To retain the old behavior, exclude the relevant entries before the concat operation.\n",
      "  return cls(df=pd.concat(dfs, axis=0, sort=True))\n",
      "[WARNING 10-29 16:59:32] ax.service.utils.report_utils: Column reason missing for all trials. Not appending column.\n",
      "[INFO 10-29 16:59:32] ax.service.ax_client: Completed trial 23 with data: {'t1': (157.153331, None)}.\n",
      "[INFO 10-29 16:59:32] ax.service.ax_client: Saved JSON-serialized state of optimization to `/Users/thomasdodd/Library/CloudStorage/OneDrive-MillfieldEnterprisesLimited/Cambridge/GitHub/BO4ACST/Notebooks/Optimisation/Method20241028Dim2_qKnowledgeGradient/AxExperiment.json`.\n",
      "[WARNING 10-29 16:59:32] ax.service.utils.report_utils: Column reason missing for all trials. Not appending column.\n",
      "[INFO 10-29 16:59:32] ax.service.ax_client: Starting optimization with verbose logging. To disable logging, set the `verbose_logging` argument to `False`. Note that float values in the logs are rounded to 6 decimal points.\n",
      "[INFO 10-29 16:59:32] ax.service.utils.instantiation: Created search space: SearchSpace(parameters=[RangeParameter(name='x1', parameter_type=FLOAT, range=[-10.0, 10.0]), RangeParameter(name='x2', parameter_type=FLOAT, range=[-10.0, 10.0])], parameter_constraints=[]).\n",
      "[INFO 10-29 16:59:32] ax.service.ax_client: Saved JSON-serialized state of optimization to `/Users/thomasdodd/Library/CloudStorage/OneDrive-MillfieldEnterprisesLimited/Cambridge/GitHub/BO4ACST/Notebooks/Optimisation/Method20241028Dim2_qKnowledgeGradient/AxExperiment.json`.\n",
      "[INFO 10-29 16:59:32] ax.core.experiment: Attached custom parameterizations [{'x1': -10.0, 'x2': -10.0}] as trial 0.\n",
      "[INFO 10-29 16:59:32] ax.core.experiment: Attached custom parameterizations [{'x1': 0.0, 'x2': -10.0}] as trial 1.\n",
      "[INFO 10-29 16:59:32] ax.core.experiment: Attached custom parameterizations [{'x1': 10.0, 'x2': -10.0}] as trial 2.\n",
      "[INFO 10-29 16:59:32] ax.core.experiment: Attached custom parameterizations [{'x1': -10.0, 'x2': 0.0}] as trial 3.\n",
      "[INFO 10-29 16:59:32] ax.core.experiment: Attached custom parameterizations [{'x1': 0.0, 'x2': 0.0}] as trial 4.\n",
      "[INFO 10-29 16:59:32] ax.core.experiment: Attached custom parameterizations [{'x1': 10.0, 'x2': 0.0}] as trial 5.\n",
      "[INFO 10-29 16:59:32] ax.core.experiment: Attached custom parameterizations [{'x1': -10.0, 'x2': 10.0}] as trial 6.\n",
      "[INFO 10-29 16:59:32] ax.core.experiment: Attached custom parameterizations [{'x1': 0.0, 'x2': 10.0}] as trial 7.\n",
      "[INFO 10-29 16:59:32] ax.core.experiment: Attached custom parameterizations [{'x1': 10.0, 'x2': 10.0}] as trial 8.\n",
      "[INFO 10-29 16:59:32] ax.service.ax_client: Saved JSON-serialized state of optimization to `/Users/thomasdodd/Library/CloudStorage/OneDrive-MillfieldEnterprisesLimited/Cambridge/GitHub/BO4ACST/Notebooks/Optimisation/Method20241028Dim2_qKnowledgeGradient/AxExperiment.json`.\n",
      "[WARNING 10-29 16:59:32] ax.service.utils.report_utils: Column reason missing for all trials. Not appending column.\n",
      "[INFO 10-29 16:59:32] ax.service.utils.report_utils: No results present for the specified metrics `[Metric('t1')]`. Returning arm parameters and metadata only.\n",
      "[WARNING 10-29 16:59:32] ax.service.utils.report_utils: Column reason missing for all trials. Not appending column.\n",
      "[INFO 10-29 16:59:32] ax.service.utils.report_utils: No results present for the specified metrics `[Metric('t1')]`. Returning arm parameters and metadata only.\n",
      "[INFO 10-29 16:59:32] ax.service.ax_client: Completed trial 0 with data: {'t1': (2594.0, None)}.\n",
      "[INFO 10-29 16:59:32] ax.service.ax_client: Saved JSON-serialized state of optimization to `/Users/thomasdodd/Library/CloudStorage/OneDrive-MillfieldEnterprisesLimited/Cambridge/GitHub/BO4ACST/Notebooks/Optimisation/Method20241028Dim2_qKnowledgeGradient/AxExperiment.json`.\n",
      "[INFO 10-29 16:59:32] ax.service.ax_client: Completed trial 1 with data: {'t1': (954.0, None)}.\n",
      "[INFO 10-29 16:59:32] ax.service.ax_client: Saved JSON-serialized state of optimization to `/Users/thomasdodd/Library/CloudStorage/OneDrive-MillfieldEnterprisesLimited/Cambridge/GitHub/BO4ACST/Notebooks/Optimisation/Method20241028Dim2_qKnowledgeGradient/AxExperiment.json`.\n",
      "[INFO 10-29 16:59:32] ax.service.ax_client: Completed trial 2 with data: {'t1': (314.0, None)}.\n",
      "[INFO 10-29 16:59:32] ax.service.ax_client: Saved JSON-serialized state of optimization to `/Users/thomasdodd/Library/CloudStorage/OneDrive-MillfieldEnterprisesLimited/Cambridge/GitHub/BO4ACST/Notebooks/Optimisation/Method20241028Dim2_qKnowledgeGradient/AxExperiment.json`.\n",
      "[INFO 10-29 16:59:32] ax.service.ax_client: Completed trial 3 with data: {'t1': (914.0, None)}.\n",
      "[INFO 10-29 16:59:32] ax.service.ax_client: Saved JSON-serialized state of optimization to `/Users/thomasdodd/Library/CloudStorage/OneDrive-MillfieldEnterprisesLimited/Cambridge/GitHub/BO4ACST/Notebooks/Optimisation/Method20241028Dim2_qKnowledgeGradient/AxExperiment.json`.\n",
      "[INFO 10-29 16:59:32] ax.service.ax_client: Completed trial 4 with data: {'t1': (74.0, None)}.\n",
      "[INFO 10-29 16:59:32] ax.service.ax_client: Saved JSON-serialized state of optimization to `/Users/thomasdodd/Library/CloudStorage/OneDrive-MillfieldEnterprisesLimited/Cambridge/GitHub/BO4ACST/Notebooks/Optimisation/Method20241028Dim2_qKnowledgeGradient/AxExperiment.json`.\n",
      "[INFO 10-29 16:59:32] ax.service.ax_client: Completed trial 5 with data: {'t1': (234.0, None)}.\n",
      "[INFO 10-29 16:59:32] ax.service.ax_client: Saved JSON-serialized state of optimization to `/Users/thomasdodd/Library/CloudStorage/OneDrive-MillfieldEnterprisesLimited/Cambridge/GitHub/BO4ACST/Notebooks/Optimisation/Method20241028Dim2_qKnowledgeGradient/AxExperiment.json`.\n",
      "[INFO 10-29 16:59:32] ax.service.ax_client: Completed trial 6 with data: {'t1': (234.0, None)}.\n",
      "[INFO 10-29 16:59:32] ax.service.ax_client: Saved JSON-serialized state of optimization to `/Users/thomasdodd/Library/CloudStorage/OneDrive-MillfieldEnterprisesLimited/Cambridge/GitHub/BO4ACST/Notebooks/Optimisation/Method20241028Dim2_qKnowledgeGradient/AxExperiment.json`.\n",
      "[INFO 10-29 16:59:32] ax.service.ax_client: Completed trial 7 with data: {'t1': (194.0, None)}.\n",
      "[INFO 10-29 16:59:32] ax.service.ax_client: Saved JSON-serialized state of optimization to `/Users/thomasdodd/Library/CloudStorage/OneDrive-MillfieldEnterprisesLimited/Cambridge/GitHub/BO4ACST/Notebooks/Optimisation/Method20241028Dim2_qKnowledgeGradient/AxExperiment.json`.\n",
      "[INFO 10-29 16:59:32] ax.service.ax_client: Completed trial 8 with data: {'t1': (1154.0, None)}.\n",
      "[INFO 10-29 16:59:32] ax.service.ax_client: Saved JSON-serialized state of optimization to `/Users/thomasdodd/Library/CloudStorage/OneDrive-MillfieldEnterprisesLimited/Cambridge/GitHub/BO4ACST/Notebooks/Optimisation/Method20241028Dim2_qKnowledgeGradient/AxExperiment.json`.\n",
      "[WARNING 10-29 16:59:32] ax.service.utils.report_utils: Column reason missing for all trials. Not appending column.\n",
      "[WARNING 10-29 16:59:32] ax.service.utils.report_utils: Column reason missing for all trials. Not appending column.\n"
     ]
    },
    {
     "name": "stdout",
     "output_type": "stream",
     "text": [
      "[74.         74.         74.         62.45595369 54.92143819 54.92143819\n",
      " 31.89179498 31.89179498 31.89179498 31.89179498 31.89179498 31.89179498\n",
      " 31.89179498 31.89179498 12.5957456  12.5957456 ]\n",
      "A new experiment has been created and initialised.\n",
      "No previous or current trials detected - initialising prior-forming trials.\n",
      "Samples gridded = 9\n",
      "There are no trials currently running - initialising Bayesian iteration trials.\n"
     ]
    },
    {
     "name": "stderr",
     "output_type": "stream",
     "text": [
      "[INFO 10-29 16:59:35] ax.service.ax_client: Generated new trial 9 with parameters {'x1': -4.365481, 'x2': 4.794228} using model BoTorch.\n",
      "[INFO 10-29 16:59:35] ax.service.ax_client: Saved JSON-serialized state of optimization to `/Users/thomasdodd/Library/CloudStorage/OneDrive-MillfieldEnterprisesLimited/Cambridge/GitHub/BO4ACST/Notebooks/Optimisation/Method20241028Dim2_qKnowledgeGradient/AxExperiment.json`.\n",
      "/Users/thomasdodd/miniconda3/envs/BO4ACST_env/lib/python3.11/site-packages/ax/core/data.py:288: FutureWarning: The behavior of DataFrame concatenation with empty or all-NA entries is deprecated. In a future version, this will no longer exclude empty or all-NA columns when determining the result dtypes. To retain the old behavior, exclude the relevant entries before the concat operation.\n",
      "  return cls(df=pd.concat(dfs, axis=0, sort=True))\n",
      "[WARNING 10-29 16:59:35] ax.service.utils.report_utils: Column reason missing for all trials. Not appending column.\n",
      "/Users/thomasdodd/miniconda3/envs/BO4ACST_env/lib/python3.11/site-packages/ax/core/data.py:288: FutureWarning: The behavior of DataFrame concatenation with empty or all-NA entries is deprecated. In a future version, this will no longer exclude empty or all-NA columns when determining the result dtypes. To retain the old behavior, exclude the relevant entries before the concat operation.\n",
      "  return cls(df=pd.concat(dfs, axis=0, sort=True))\n",
      "[WARNING 10-29 16:59:35] ax.service.utils.report_utils: Column reason missing for all trials. Not appending column.\n",
      "[INFO 10-29 16:59:35] ax.service.ax_client: Completed trial 9 with data: {'t1': (83.023037, None)}.\n",
      "[INFO 10-29 16:59:35] ax.service.ax_client: Saved JSON-serialized state of optimization to `/Users/thomasdodd/Library/CloudStorage/OneDrive-MillfieldEnterprisesLimited/Cambridge/GitHub/BO4ACST/Notebooks/Optimisation/Method20241028Dim2_qKnowledgeGradient/AxExperiment.json`.\n",
      "[WARNING 10-29 16:59:35] ax.service.utils.report_utils: Column reason missing for all trials. Not appending column.\n",
      "[WARNING 10-29 16:59:35] ax.service.utils.report_utils: Column reason missing for all trials. Not appending column.\n"
     ]
    },
    {
     "name": "stdout",
     "output_type": "stream",
     "text": [
      "There are no trials currently running - initialising Bayesian iteration trials.\n"
     ]
    },
    {
     "name": "stderr",
     "output_type": "stream",
     "text": [
      "[INFO 10-29 16:59:38] ax.service.ax_client: Generated new trial 10 with parameters {'x1': 5.954648, 'x2': -5.059148} using model BoTorch.\n",
      "[INFO 10-29 16:59:38] ax.service.ax_client: Saved JSON-serialized state of optimization to `/Users/thomasdodd/Library/CloudStorage/OneDrive-MillfieldEnterprisesLimited/Cambridge/GitHub/BO4ACST/Notebooks/Optimisation/Method20241028Dim2_qKnowledgeGradient/AxExperiment.json`.\n",
      "/Users/thomasdodd/miniconda3/envs/BO4ACST_env/lib/python3.11/site-packages/ax/core/data.py:288: FutureWarning: The behavior of DataFrame concatenation with empty or all-NA entries is deprecated. In a future version, this will no longer exclude empty or all-NA columns when determining the result dtypes. To retain the old behavior, exclude the relevant entries before the concat operation.\n",
      "  return cls(df=pd.concat(dfs, axis=0, sort=True))\n",
      "[WARNING 10-29 16:59:38] ax.service.utils.report_utils: Column reason missing for all trials. Not appending column.\n",
      "/Users/thomasdodd/miniconda3/envs/BO4ACST_env/lib/python3.11/site-packages/ax/core/data.py:288: FutureWarning: The behavior of DataFrame concatenation with empty or all-NA entries is deprecated. In a future version, this will no longer exclude empty or all-NA columns when determining the result dtypes. To retain the old behavior, exclude the relevant entries before the concat operation.\n",
      "  return cls(df=pd.concat(dfs, axis=0, sort=True))\n",
      "[WARNING 10-29 16:59:38] ax.service.utils.report_utils: Column reason missing for all trials. Not appending column.\n",
      "[INFO 10-29 16:59:38] ax.service.ax_client: Completed trial 10 with data: {'t1': (128.050084, None)}.\n",
      "[INFO 10-29 16:59:38] ax.service.ax_client: Saved JSON-serialized state of optimization to `/Users/thomasdodd/Library/CloudStorage/OneDrive-MillfieldEnterprisesLimited/Cambridge/GitHub/BO4ACST/Notebooks/Optimisation/Method20241028Dim2_qKnowledgeGradient/AxExperiment.json`.\n",
      "[WARNING 10-29 16:59:38] ax.service.utils.report_utils: Column reason missing for all trials. Not appending column.\n",
      "[WARNING 10-29 16:59:38] ax.service.utils.report_utils: Column reason missing for all trials. Not appending column.\n"
     ]
    },
    {
     "name": "stdout",
     "output_type": "stream",
     "text": [
      "There are no trials currently running - initialising Bayesian iteration trials.\n"
     ]
    },
    {
     "name": "stderr",
     "output_type": "stream",
     "text": [
      "[INFO 10-29 16:59:40] ax.service.ax_client: Generated new trial 11 with parameters {'x1': 4.522843, 'x2': 3.001875} using model BoTorch.\n",
      "[INFO 10-29 16:59:40] ax.service.ax_client: Saved JSON-serialized state of optimization to `/Users/thomasdodd/Library/CloudStorage/OneDrive-MillfieldEnterprisesLimited/Cambridge/GitHub/BO4ACST/Notebooks/Optimisation/Method20241028Dim2_qKnowledgeGradient/AxExperiment.json`.\n",
      "/Users/thomasdodd/miniconda3/envs/BO4ACST_env/lib/python3.11/site-packages/ax/core/data.py:288: FutureWarning: The behavior of DataFrame concatenation with empty or all-NA entries is deprecated. In a future version, this will no longer exclude empty or all-NA columns when determining the result dtypes. To retain the old behavior, exclude the relevant entries before the concat operation.\n",
      "  return cls(df=pd.concat(dfs, axis=0, sort=True))\n",
      "[WARNING 10-29 16:59:40] ax.service.utils.report_utils: Column reason missing for all trials. Not appending column.\n",
      "/Users/thomasdodd/miniconda3/envs/BO4ACST_env/lib/python3.11/site-packages/ax/core/data.py:288: FutureWarning: The behavior of DataFrame concatenation with empty or all-NA entries is deprecated. In a future version, this will no longer exclude empty or all-NA columns when determining the result dtypes. To retain the old behavior, exclude the relevant entries before the concat operation.\n",
      "  return cls(df=pd.concat(dfs, axis=0, sort=True))\n",
      "[WARNING 10-29 16:59:40] ax.service.utils.report_utils: Column reason missing for all trials. Not appending column.\n",
      "[INFO 10-29 16:59:40] ax.service.ax_client: Completed trial 11 with data: {'t1': (62.104982, None)}.\n",
      "[INFO 10-29 16:59:40] ax.service.ax_client: Saved JSON-serialized state of optimization to `/Users/thomasdodd/Library/CloudStorage/OneDrive-MillfieldEnterprisesLimited/Cambridge/GitHub/BO4ACST/Notebooks/Optimisation/Method20241028Dim2_qKnowledgeGradient/AxExperiment.json`.\n",
      "[WARNING 10-29 16:59:40] ax.service.utils.report_utils: Column reason missing for all trials. Not appending column.\n",
      "[WARNING 10-29 16:59:40] ax.service.utils.report_utils: Column reason missing for all trials. Not appending column.\n"
     ]
    },
    {
     "name": "stdout",
     "output_type": "stream",
     "text": [
      "There are no trials currently running - initialising Bayesian iteration trials.\n"
     ]
    },
    {
     "name": "stderr",
     "output_type": "stream",
     "text": [
      "[INFO 10-29 16:59:42] ax.service.ax_client: Generated new trial 12 with parameters {'x1': -4.496853, 'x2': 6.956991} using model BoTorch.\n",
      "[INFO 10-29 16:59:42] ax.service.ax_client: Saved JSON-serialized state of optimization to `/Users/thomasdodd/Library/CloudStorage/OneDrive-MillfieldEnterprisesLimited/Cambridge/GitHub/BO4ACST/Notebooks/Optimisation/Method20241028Dim2_qKnowledgeGradient/AxExperiment.json`.\n",
      "/Users/thomasdodd/miniconda3/envs/BO4ACST_env/lib/python3.11/site-packages/ax/core/data.py:288: FutureWarning: The behavior of DataFrame concatenation with empty or all-NA entries is deprecated. In a future version, this will no longer exclude empty or all-NA columns when determining the result dtypes. To retain the old behavior, exclude the relevant entries before the concat operation.\n",
      "  return cls(df=pd.concat(dfs, axis=0, sort=True))\n",
      "[WARNING 10-29 16:59:42] ax.service.utils.report_utils: Column reason missing for all trials. Not appending column.\n",
      "/Users/thomasdodd/miniconda3/envs/BO4ACST_env/lib/python3.11/site-packages/ax/core/data.py:288: FutureWarning: The behavior of DataFrame concatenation with empty or all-NA entries is deprecated. In a future version, this will no longer exclude empty or all-NA columns when determining the result dtypes. To retain the old behavior, exclude the relevant entries before the concat operation.\n",
      "  return cls(df=pd.concat(dfs, axis=0, sort=True))\n",
      "[WARNING 10-29 16:59:42] ax.service.utils.report_utils: Column reason missing for all trials. Not appending column.\n",
      "[INFO 10-29 16:59:42] ax.service.ax_client: Completed trial 12 with data: {'t1': (55.357878, None)}.\n",
      "[INFO 10-29 16:59:42] ax.service.ax_client: Saved JSON-serialized state of optimization to `/Users/thomasdodd/Library/CloudStorage/OneDrive-MillfieldEnterprisesLimited/Cambridge/GitHub/BO4ACST/Notebooks/Optimisation/Method20241028Dim2_qKnowledgeGradient/AxExperiment.json`.\n",
      "[WARNING 10-29 16:59:42] ax.service.utils.report_utils: Column reason missing for all trials. Not appending column.\n",
      "[WARNING 10-29 16:59:42] ax.service.utils.report_utils: Column reason missing for all trials. Not appending column.\n"
     ]
    },
    {
     "name": "stdout",
     "output_type": "stream",
     "text": [
      "There are no trials currently running - initialising Bayesian iteration trials.\n"
     ]
    },
    {
     "name": "stderr",
     "output_type": "stream",
     "text": [
      "[INFO 10-29 16:59:44] ax.service.ax_client: Generated new trial 13 with parameters {'x1': 4.482622, 'x2': -2.405263} using model BoTorch.\n",
      "[INFO 10-29 16:59:44] ax.service.ax_client: Saved JSON-serialized state of optimization to `/Users/thomasdodd/Library/CloudStorage/OneDrive-MillfieldEnterprisesLimited/Cambridge/GitHub/BO4ACST/Notebooks/Optimisation/Method20241028Dim2_qKnowledgeGradient/AxExperiment.json`.\n",
      "/Users/thomasdodd/miniconda3/envs/BO4ACST_env/lib/python3.11/site-packages/ax/core/data.py:288: FutureWarning: The behavior of DataFrame concatenation with empty or all-NA entries is deprecated. In a future version, this will no longer exclude empty or all-NA columns when determining the result dtypes. To retain the old behavior, exclude the relevant entries before the concat operation.\n",
      "  return cls(df=pd.concat(dfs, axis=0, sort=True))\n",
      "[WARNING 10-29 16:59:44] ax.service.utils.report_utils: Column reason missing for all trials. Not appending column.\n",
      "/Users/thomasdodd/miniconda3/envs/BO4ACST_env/lib/python3.11/site-packages/ax/core/data.py:288: FutureWarning: The behavior of DataFrame concatenation with empty or all-NA entries is deprecated. In a future version, this will no longer exclude empty or all-NA columns when determining the result dtypes. To retain the old behavior, exclude the relevant entries before the concat operation.\n",
      "  return cls(df=pd.concat(dfs, axis=0, sort=True))\n",
      "[WARNING 10-29 16:59:44] ax.service.utils.report_utils: Column reason missing for all trials. Not appending column.\n",
      "[INFO 10-29 16:59:44] ax.service.ax_client: Completed trial 13 with data: {'t1': (56.131727, None)}.\n",
      "[INFO 10-29 16:59:44] ax.service.ax_client: Saved JSON-serialized state of optimization to `/Users/thomasdodd/Library/CloudStorage/OneDrive-MillfieldEnterprisesLimited/Cambridge/GitHub/BO4ACST/Notebooks/Optimisation/Method20241028Dim2_qKnowledgeGradient/AxExperiment.json`.\n",
      "[WARNING 10-29 16:59:44] ax.service.utils.report_utils: Column reason missing for all trials. Not appending column.\n",
      "[WARNING 10-29 16:59:44] ax.service.utils.report_utils: Column reason missing for all trials. Not appending column.\n"
     ]
    },
    {
     "name": "stdout",
     "output_type": "stream",
     "text": [
      "There are no trials currently running - initialising Bayesian iteration trials.\n"
     ]
    },
    {
     "name": "stderr",
     "output_type": "stream",
     "text": [
      "[INFO 10-29 16:59:45] ax.service.ax_client: Generated new trial 14 with parameters {'x1': -0.621328, 'x2': 6.559798} using model BoTorch.\n",
      "[INFO 10-29 16:59:45] ax.service.ax_client: Saved JSON-serialized state of optimization to `/Users/thomasdodd/Library/CloudStorage/OneDrive-MillfieldEnterprisesLimited/Cambridge/GitHub/BO4ACST/Notebooks/Optimisation/Method20241028Dim2_qKnowledgeGradient/AxExperiment.json`.\n",
      "/Users/thomasdodd/miniconda3/envs/BO4ACST_env/lib/python3.11/site-packages/ax/core/data.py:288: FutureWarning: The behavior of DataFrame concatenation with empty or all-NA entries is deprecated. In a future version, this will no longer exclude empty or all-NA columns when determining the result dtypes. To retain the old behavior, exclude the relevant entries before the concat operation.\n",
      "  return cls(df=pd.concat(dfs, axis=0, sort=True))\n",
      "[WARNING 10-29 16:59:45] ax.service.utils.report_utils: Column reason missing for all trials. Not appending column.\n",
      "/Users/thomasdodd/miniconda3/envs/BO4ACST_env/lib/python3.11/site-packages/ax/core/data.py:288: FutureWarning: The behavior of DataFrame concatenation with empty or all-NA entries is deprecated. In a future version, this will no longer exclude empty or all-NA columns when determining the result dtypes. To retain the old behavior, exclude the relevant entries before the concat operation.\n",
      "  return cls(df=pd.concat(dfs, axis=0, sort=True))\n",
      "[WARNING 10-29 16:59:45] ax.service.utils.report_utils: Column reason missing for all trials. Not appending column.\n",
      "[INFO 10-29 16:59:45] ax.service.ax_client: Completed trial 14 with data: {'t1': (30.331528, None)}.\n",
      "[INFO 10-29 16:59:45] ax.service.ax_client: Saved JSON-serialized state of optimization to `/Users/thomasdodd/Library/CloudStorage/OneDrive-MillfieldEnterprisesLimited/Cambridge/GitHub/BO4ACST/Notebooks/Optimisation/Method20241028Dim2_qKnowledgeGradient/AxExperiment.json`.\n",
      "[WARNING 10-29 16:59:45] ax.service.utils.report_utils: Column reason missing for all trials. Not appending column.\n",
      "[WARNING 10-29 16:59:45] ax.service.utils.report_utils: Column reason missing for all trials. Not appending column.\n"
     ]
    },
    {
     "name": "stdout",
     "output_type": "stream",
     "text": [
      "There are no trials currently running - initialising Bayesian iteration trials.\n"
     ]
    },
    {
     "name": "stderr",
     "output_type": "stream",
     "text": [
      "[INFO 10-29 16:59:48] ax.service.ax_client: Generated new trial 15 with parameters {'x1': 5.521555, 'x2': 0.270568} using model BoTorch.\n",
      "[INFO 10-29 16:59:48] ax.service.ax_client: Saved JSON-serialized state of optimization to `/Users/thomasdodd/Library/CloudStorage/OneDrive-MillfieldEnterprisesLimited/Cambridge/GitHub/BO4ACST/Notebooks/Optimisation/Method20241028Dim2_qKnowledgeGradient/AxExperiment.json`.\n",
      "/Users/thomasdodd/miniconda3/envs/BO4ACST_env/lib/python3.11/site-packages/ax/core/data.py:288: FutureWarning: The behavior of DataFrame concatenation with empty or all-NA entries is deprecated. In a future version, this will no longer exclude empty or all-NA columns when determining the result dtypes. To retain the old behavior, exclude the relevant entries before the concat operation.\n",
      "  return cls(df=pd.concat(dfs, axis=0, sort=True))\n",
      "[WARNING 10-29 16:59:48] ax.service.utils.report_utils: Column reason missing for all trials. Not appending column.\n",
      "/Users/thomasdodd/miniconda3/envs/BO4ACST_env/lib/python3.11/site-packages/ax/core/data.py:288: FutureWarning: The behavior of DataFrame concatenation with empty or all-NA entries is deprecated. In a future version, this will no longer exclude empty or all-NA columns when determining the result dtypes. To retain the old behavior, exclude the relevant entries before the concat operation.\n",
      "  return cls(df=pd.concat(dfs, axis=0, sort=True))\n",
      "[WARNING 10-29 16:59:48] ax.service.utils.report_utils: Column reason missing for all trials. Not appending column.\n",
      "[INFO 10-29 16:59:48] ax.service.ax_client: Completed trial 15 with data: {'t1': (40.741075, None)}.\n",
      "[INFO 10-29 16:59:48] ax.service.ax_client: Saved JSON-serialized state of optimization to `/Users/thomasdodd/Library/CloudStorage/OneDrive-MillfieldEnterprisesLimited/Cambridge/GitHub/BO4ACST/Notebooks/Optimisation/Method20241028Dim2_qKnowledgeGradient/AxExperiment.json`.\n",
      "[WARNING 10-29 16:59:48] ax.service.utils.report_utils: Column reason missing for all trials. Not appending column.\n",
      "[WARNING 10-29 16:59:48] ax.service.utils.report_utils: Column reason missing for all trials. Not appending column.\n"
     ]
    },
    {
     "name": "stdout",
     "output_type": "stream",
     "text": [
      "There are no trials currently running - initialising Bayesian iteration trials.\n"
     ]
    },
    {
     "name": "stderr",
     "output_type": "stream",
     "text": [
      "[INFO 10-29 17:00:06] ax.service.ax_client: Generated new trial 16 with parameters {'x1': 0.551589, 'x2': 6.379798} using model BoTorch.\n",
      "[INFO 10-29 17:00:06] ax.service.ax_client: Saved JSON-serialized state of optimization to `/Users/thomasdodd/Library/CloudStorage/OneDrive-MillfieldEnterprisesLimited/Cambridge/GitHub/BO4ACST/Notebooks/Optimisation/Method20241028Dim2_qKnowledgeGradient/AxExperiment.json`.\n",
      "/Users/thomasdodd/miniconda3/envs/BO4ACST_env/lib/python3.11/site-packages/ax/core/data.py:288: FutureWarning: The behavior of DataFrame concatenation with empty or all-NA entries is deprecated. In a future version, this will no longer exclude empty or all-NA columns when determining the result dtypes. To retain the old behavior, exclude the relevant entries before the concat operation.\n",
      "  return cls(df=pd.concat(dfs, axis=0, sort=True))\n",
      "[WARNING 10-29 17:00:06] ax.service.utils.report_utils: Column reason missing for all trials. Not appending column.\n",
      "/Users/thomasdodd/miniconda3/envs/BO4ACST_env/lib/python3.11/site-packages/ax/core/data.py:288: FutureWarning: The behavior of DataFrame concatenation with empty or all-NA entries is deprecated. In a future version, this will no longer exclude empty or all-NA columns when determining the result dtypes. To retain the old behavior, exclude the relevant entries before the concat operation.\n",
      "  return cls(df=pd.concat(dfs, axis=0, sort=True))\n",
      "[WARNING 10-29 17:00:06] ax.service.utils.report_utils: Column reason missing for all trials. Not appending column.\n",
      "[INFO 10-29 17:00:06] ax.service.ax_client: Completed trial 16 with data: {'t1': (45.996231, None)}.\n",
      "[INFO 10-29 17:00:06] ax.service.ax_client: Saved JSON-serialized state of optimization to `/Users/thomasdodd/Library/CloudStorage/OneDrive-MillfieldEnterprisesLimited/Cambridge/GitHub/BO4ACST/Notebooks/Optimisation/Method20241028Dim2_qKnowledgeGradient/AxExperiment.json`.\n",
      "[WARNING 10-29 17:00:06] ax.service.utils.report_utils: Column reason missing for all trials. Not appending column.\n",
      "[WARNING 10-29 17:00:06] ax.service.utils.report_utils: Column reason missing for all trials. Not appending column.\n"
     ]
    },
    {
     "name": "stdout",
     "output_type": "stream",
     "text": [
      "There are no trials currently running - initialising Bayesian iteration trials.\n"
     ]
    },
    {
     "name": "stderr",
     "output_type": "stream",
     "text": [
      "[INFO 10-29 17:01:08] ax.service.ax_client: Generated new trial 17 with parameters {'x1': 3.365151, 'x2': -1.173538} using model BoTorch.\n",
      "[INFO 10-29 17:01:08] ax.service.ax_client: Saved JSON-serialized state of optimization to `/Users/thomasdodd/Library/CloudStorage/OneDrive-MillfieldEnterprisesLimited/Cambridge/GitHub/BO4ACST/Notebooks/Optimisation/Method20241028Dim2_qKnowledgeGradient/AxExperiment.json`.\n",
      "/Users/thomasdodd/miniconda3/envs/BO4ACST_env/lib/python3.11/site-packages/ax/core/data.py:288: FutureWarning: The behavior of DataFrame concatenation with empty or all-NA entries is deprecated. In a future version, this will no longer exclude empty or all-NA columns when determining the result dtypes. To retain the old behavior, exclude the relevant entries before the concat operation.\n",
      "  return cls(df=pd.concat(dfs, axis=0, sort=True))\n",
      "[WARNING 10-29 17:01:08] ax.service.utils.report_utils: Column reason missing for all trials. Not appending column.\n",
      "/Users/thomasdodd/miniconda3/envs/BO4ACST_env/lib/python3.11/site-packages/ax/core/data.py:288: FutureWarning: The behavior of DataFrame concatenation with empty or all-NA entries is deprecated. In a future version, this will no longer exclude empty or all-NA columns when determining the result dtypes. To retain the old behavior, exclude the relevant entries before the concat operation.\n",
      "  return cls(df=pd.concat(dfs, axis=0, sort=True))\n",
      "[WARNING 10-29 17:01:08] ax.service.utils.report_utils: Column reason missing for all trials. Not appending column.\n",
      "[INFO 10-29 17:01:08] ax.service.ax_client: Completed trial 17 with data: {'t1': (36.093399, None)}.\n",
      "[INFO 10-29 17:01:08] ax.service.ax_client: Saved JSON-serialized state of optimization to `/Users/thomasdodd/Library/CloudStorage/OneDrive-MillfieldEnterprisesLimited/Cambridge/GitHub/BO4ACST/Notebooks/Optimisation/Method20241028Dim2_qKnowledgeGradient/AxExperiment.json`.\n",
      "[WARNING 10-29 17:01:08] ax.service.utils.report_utils: Column reason missing for all trials. Not appending column.\n",
      "[WARNING 10-29 17:01:08] ax.service.utils.report_utils: Column reason missing for all trials. Not appending column.\n"
     ]
    },
    {
     "name": "stdout",
     "output_type": "stream",
     "text": [
      "There are no trials currently running - initialising Bayesian iteration trials.\n"
     ]
    },
    {
     "name": "stderr",
     "output_type": "stream",
     "text": [
      "[INFO 10-29 17:02:00] ax.service.ax_client: Generated new trial 18 with parameters {'x1': -2.931407, 'x2': 3.734268} using model BoTorch.\n",
      "[INFO 10-29 17:02:00] ax.service.ax_client: Saved JSON-serialized state of optimization to `/Users/thomasdodd/Library/CloudStorage/OneDrive-MillfieldEnterprisesLimited/Cambridge/GitHub/BO4ACST/Notebooks/Optimisation/Method20241028Dim2_qKnowledgeGradient/AxExperiment.json`.\n",
      "/Users/thomasdodd/miniconda3/envs/BO4ACST_env/lib/python3.11/site-packages/ax/core/data.py:288: FutureWarning: The behavior of DataFrame concatenation with empty or all-NA entries is deprecated. In a future version, this will no longer exclude empty or all-NA columns when determining the result dtypes. To retain the old behavior, exclude the relevant entries before the concat operation.\n",
      "  return cls(df=pd.concat(dfs, axis=0, sort=True))\n",
      "[WARNING 10-29 17:02:00] ax.service.utils.report_utils: Column reason missing for all trials. Not appending column.\n",
      "/Users/thomasdodd/miniconda3/envs/BO4ACST_env/lib/python3.11/site-packages/ax/core/data.py:288: FutureWarning: The behavior of DataFrame concatenation with empty or all-NA entries is deprecated. In a future version, this will no longer exclude empty or all-NA columns when determining the result dtypes. To retain the old behavior, exclude the relevant entries before the concat operation.\n",
      "  return cls(df=pd.concat(dfs, axis=0, sort=True))\n",
      "[WARNING 10-29 17:02:00] ax.service.utils.report_utils: Column reason missing for all trials. Not appending column.\n",
      "[INFO 10-29 17:02:00] ax.service.ax_client: Completed trial 18 with data: {'t1': (56.88189, None)}.\n",
      "[INFO 10-29 17:02:00] ax.service.ax_client: Saved JSON-serialized state of optimization to `/Users/thomasdodd/Library/CloudStorage/OneDrive-MillfieldEnterprisesLimited/Cambridge/GitHub/BO4ACST/Notebooks/Optimisation/Method20241028Dim2_qKnowledgeGradient/AxExperiment.json`.\n",
      "[WARNING 10-29 17:02:00] ax.service.utils.report_utils: Column reason missing for all trials. Not appending column.\n",
      "[WARNING 10-29 17:02:00] ax.service.utils.report_utils: Column reason missing for all trials. Not appending column.\n"
     ]
    },
    {
     "name": "stdout",
     "output_type": "stream",
     "text": [
      "There are no trials currently running - initialising Bayesian iteration trials.\n"
     ]
    },
    {
     "name": "stderr",
     "output_type": "stream",
     "text": [
      "[INFO 10-29 17:02:32] ax.service.ax_client: Generated new trial 19 with parameters {'x1': 6.127587, 'x2': 1.848656} using model BoTorch.\n",
      "[INFO 10-29 17:02:32] ax.service.ax_client: Saved JSON-serialized state of optimization to `/Users/thomasdodd/Library/CloudStorage/OneDrive-MillfieldEnterprisesLimited/Cambridge/GitHub/BO4ACST/Notebooks/Optimisation/Method20241028Dim2_qKnowledgeGradient/AxExperiment.json`.\n",
      "/Users/thomasdodd/miniconda3/envs/BO4ACST_env/lib/python3.11/site-packages/ax/core/data.py:288: FutureWarning: The behavior of DataFrame concatenation with empty or all-NA entries is deprecated. In a future version, this will no longer exclude empty or all-NA columns when determining the result dtypes. To retain the old behavior, exclude the relevant entries before the concat operation.\n",
      "  return cls(df=pd.concat(dfs, axis=0, sort=True))\n",
      "[WARNING 10-29 17:02:32] ax.service.utils.report_utils: Column reason missing for all trials. Not appending column.\n",
      "/Users/thomasdodd/miniconda3/envs/BO4ACST_env/lib/python3.11/site-packages/ax/core/data.py:288: FutureWarning: The behavior of DataFrame concatenation with empty or all-NA entries is deprecated. In a future version, this will no longer exclude empty or all-NA columns when determining the result dtypes. To retain the old behavior, exclude the relevant entries before the concat operation.\n",
      "  return cls(df=pd.concat(dfs, axis=0, sort=True))\n",
      "[WARNING 10-29 17:02:32] ax.service.utils.report_utils: Column reason missing for all trials. Not appending column.\n",
      "[INFO 10-29 17:02:32] ax.service.ax_client: Completed trial 19 with data: {'t1': (90.859746, None)}.\n",
      "[INFO 10-29 17:02:32] ax.service.ax_client: Saved JSON-serialized state of optimization to `/Users/thomasdodd/Library/CloudStorage/OneDrive-MillfieldEnterprisesLimited/Cambridge/GitHub/BO4ACST/Notebooks/Optimisation/Method20241028Dim2_qKnowledgeGradient/AxExperiment.json`.\n",
      "[WARNING 10-29 17:02:32] ax.service.utils.report_utils: Column reason missing for all trials. Not appending column.\n",
      "[WARNING 10-29 17:02:32] ax.service.utils.report_utils: Column reason missing for all trials. Not appending column.\n"
     ]
    },
    {
     "name": "stdout",
     "output_type": "stream",
     "text": [
      "There are no trials currently running - initialising Bayesian iteration trials.\n"
     ]
    },
    {
     "name": "stderr",
     "output_type": "stream",
     "text": [
      "[INFO 10-29 17:03:07] ax.service.ax_client: Generated new trial 20 with parameters {'x1': 0.519235, 'x2': 6.029543} using model BoTorch.\n",
      "[INFO 10-29 17:03:07] ax.service.ax_client: Saved JSON-serialized state of optimization to `/Users/thomasdodd/Library/CloudStorage/OneDrive-MillfieldEnterprisesLimited/Cambridge/GitHub/BO4ACST/Notebooks/Optimisation/Method20241028Dim2_qKnowledgeGradient/AxExperiment.json`.\n",
      "/Users/thomasdodd/miniconda3/envs/BO4ACST_env/lib/python3.11/site-packages/ax/core/data.py:288: FutureWarning: The behavior of DataFrame concatenation with empty or all-NA entries is deprecated. In a future version, this will no longer exclude empty or all-NA columns when determining the result dtypes. To retain the old behavior, exclude the relevant entries before the concat operation.\n",
      "  return cls(df=pd.concat(dfs, axis=0, sort=True))\n",
      "[WARNING 10-29 17:03:07] ax.service.utils.report_utils: Column reason missing for all trials. Not appending column.\n",
      "/Users/thomasdodd/miniconda3/envs/BO4ACST_env/lib/python3.11/site-packages/ax/core/data.py:288: FutureWarning: The behavior of DataFrame concatenation with empty or all-NA entries is deprecated. In a future version, this will no longer exclude empty or all-NA columns when determining the result dtypes. To retain the old behavior, exclude the relevant entries before the concat operation.\n",
      "  return cls(df=pd.concat(dfs, axis=0, sort=True))\n",
      "[WARNING 10-29 17:03:07] ax.service.utils.report_utils: Column reason missing for all trials. Not appending column.\n",
      "[INFO 10-29 17:03:07] ax.service.ax_client: Completed trial 20 with data: {'t1': (35.394327, None)}.\n",
      "[INFO 10-29 17:03:07] ax.service.ax_client: Saved JSON-serialized state of optimization to `/Users/thomasdodd/Library/CloudStorage/OneDrive-MillfieldEnterprisesLimited/Cambridge/GitHub/BO4ACST/Notebooks/Optimisation/Method20241028Dim2_qKnowledgeGradient/AxExperiment.json`.\n",
      "[WARNING 10-29 17:03:07] ax.service.utils.report_utils: Column reason missing for all trials. Not appending column.\n",
      "[WARNING 10-29 17:03:07] ax.service.utils.report_utils: Column reason missing for all trials. Not appending column.\n"
     ]
    },
    {
     "name": "stdout",
     "output_type": "stream",
     "text": [
      "There are no trials currently running - initialising Bayesian iteration trials.\n"
     ]
    },
    {
     "name": "stderr",
     "output_type": "stream",
     "text": [
      "[INFO 10-29 17:03:34] ax.service.ax_client: Generated new trial 21 with parameters {'x1': 3.029993, 'x2': -0.845661} using model BoTorch.\n",
      "[INFO 10-29 17:03:34] ax.service.ax_client: Saved JSON-serialized state of optimization to `/Users/thomasdodd/Library/CloudStorage/OneDrive-MillfieldEnterprisesLimited/Cambridge/GitHub/BO4ACST/Notebooks/Optimisation/Method20241028Dim2_qKnowledgeGradient/AxExperiment.json`.\n",
      "/Users/thomasdodd/miniconda3/envs/BO4ACST_env/lib/python3.11/site-packages/ax/core/data.py:288: FutureWarning: The behavior of DataFrame concatenation with empty or all-NA entries is deprecated. In a future version, this will no longer exclude empty or all-NA columns when determining the result dtypes. To retain the old behavior, exclude the relevant entries before the concat operation.\n",
      "  return cls(df=pd.concat(dfs, axis=0, sort=True))\n",
      "[WARNING 10-29 17:03:34] ax.service.utils.report_utils: Column reason missing for all trials. Not appending column.\n",
      "/Users/thomasdodd/miniconda3/envs/BO4ACST_env/lib/python3.11/site-packages/ax/core/data.py:288: FutureWarning: The behavior of DataFrame concatenation with empty or all-NA entries is deprecated. In a future version, this will no longer exclude empty or all-NA columns when determining the result dtypes. To retain the old behavior, exclude the relevant entries before the concat operation.\n",
      "  return cls(df=pd.concat(dfs, axis=0, sort=True))\n",
      "[WARNING 10-29 17:03:34] ax.service.utils.report_utils: Column reason missing for all trials. Not appending column.\n",
      "[INFO 10-29 17:03:34] ax.service.ax_client: Completed trial 21 with data: {'t1': (32.096566, None)}.\n",
      "[INFO 10-29 17:03:34] ax.service.ax_client: Saved JSON-serialized state of optimization to `/Users/thomasdodd/Library/CloudStorage/OneDrive-MillfieldEnterprisesLimited/Cambridge/GitHub/BO4ACST/Notebooks/Optimisation/Method20241028Dim2_qKnowledgeGradient/AxExperiment.json`.\n",
      "[WARNING 10-29 17:03:34] ax.service.utils.report_utils: Column reason missing for all trials. Not appending column.\n",
      "[WARNING 10-29 17:03:34] ax.service.utils.report_utils: Column reason missing for all trials. Not appending column.\n"
     ]
    },
    {
     "name": "stdout",
     "output_type": "stream",
     "text": [
      "There are no trials currently running - initialising Bayesian iteration trials.\n"
     ]
    },
    {
     "name": "stderr",
     "output_type": "stream",
     "text": [
      "[INFO 10-29 17:04:13] ax.service.ax_client: Generated new trial 22 with parameters {'x1': -8.04747, 'x2': 8.515238} using model BoTorch.\n",
      "[INFO 10-29 17:04:14] ax.service.ax_client: Saved JSON-serialized state of optimization to `/Users/thomasdodd/Library/CloudStorage/OneDrive-MillfieldEnterprisesLimited/Cambridge/GitHub/BO4ACST/Notebooks/Optimisation/Method20241028Dim2_qKnowledgeGradient/AxExperiment.json`.\n",
      "/Users/thomasdodd/miniconda3/envs/BO4ACST_env/lib/python3.11/site-packages/ax/core/data.py:288: FutureWarning: The behavior of DataFrame concatenation with empty or all-NA entries is deprecated. In a future version, this will no longer exclude empty or all-NA columns when determining the result dtypes. To retain the old behavior, exclude the relevant entries before the concat operation.\n",
      "  return cls(df=pd.concat(dfs, axis=0, sort=True))\n",
      "[WARNING 10-29 17:04:14] ax.service.utils.report_utils: Column reason missing for all trials. Not appending column.\n",
      "/Users/thomasdodd/miniconda3/envs/BO4ACST_env/lib/python3.11/site-packages/ax/core/data.py:288: FutureWarning: The behavior of DataFrame concatenation with empty or all-NA entries is deprecated. In a future version, this will no longer exclude empty or all-NA columns when determining the result dtypes. To retain the old behavior, exclude the relevant entries before the concat operation.\n",
      "  return cls(df=pd.concat(dfs, axis=0, sort=True))\n",
      "[WARNING 10-29 17:04:14] ax.service.utils.report_utils: Column reason missing for all trials. Not appending column.\n",
      "[INFO 10-29 17:04:14] ax.service.ax_client: Completed trial 22 with data: {'t1': (162.181229, None)}.\n",
      "[INFO 10-29 17:04:14] ax.service.ax_client: Saved JSON-serialized state of optimization to `/Users/thomasdodd/Library/CloudStorage/OneDrive-MillfieldEnterprisesLimited/Cambridge/GitHub/BO4ACST/Notebooks/Optimisation/Method20241028Dim2_qKnowledgeGradient/AxExperiment.json`.\n",
      "[WARNING 10-29 17:04:14] ax.service.utils.report_utils: Column reason missing for all trials. Not appending column.\n",
      "[WARNING 10-29 17:04:14] ax.service.utils.report_utils: Column reason missing for all trials. Not appending column.\n"
     ]
    },
    {
     "name": "stdout",
     "output_type": "stream",
     "text": [
      "There are no trials currently running - initialising Bayesian iteration trials.\n"
     ]
    },
    {
     "name": "stderr",
     "output_type": "stream",
     "text": [
      "[INFO 10-29 17:04:40] ax.service.ax_client: Generated new trial 23 with parameters {'x1': -3.296631, 'x2': -4.65331} using model BoTorch.\n",
      "[INFO 10-29 17:04:40] ax.service.ax_client: Saved JSON-serialized state of optimization to `/Users/thomasdodd/Library/CloudStorage/OneDrive-MillfieldEnterprisesLimited/Cambridge/GitHub/BO4ACST/Notebooks/Optimisation/Method20241028Dim2_qKnowledgeGradient/AxExperiment.json`.\n",
      "/Users/thomasdodd/miniconda3/envs/BO4ACST_env/lib/python3.11/site-packages/ax/core/data.py:288: FutureWarning: The behavior of DataFrame concatenation with empty or all-NA entries is deprecated. In a future version, this will no longer exclude empty or all-NA columns when determining the result dtypes. To retain the old behavior, exclude the relevant entries before the concat operation.\n",
      "  return cls(df=pd.concat(dfs, axis=0, sort=True))\n",
      "[WARNING 10-29 17:04:40] ax.service.utils.report_utils: Column reason missing for all trials. Not appending column.\n",
      "/Users/thomasdodd/miniconda3/envs/BO4ACST_env/lib/python3.11/site-packages/ax/core/data.py:288: FutureWarning: The behavior of DataFrame concatenation with empty or all-NA entries is deprecated. In a future version, this will no longer exclude empty or all-NA columns when determining the result dtypes. To retain the old behavior, exclude the relevant entries before the concat operation.\n",
      "  return cls(df=pd.concat(dfs, axis=0, sort=True))\n",
      "[WARNING 10-29 17:04:40] ax.service.utils.report_utils: Column reason missing for all trials. Not appending column.\n",
      "[INFO 10-29 17:04:40] ax.service.ax_client: Completed trial 23 with data: {'t1': (648.23858, None)}.\n",
      "[INFO 10-29 17:04:40] ax.service.ax_client: Saved JSON-serialized state of optimization to `/Users/thomasdodd/Library/CloudStorage/OneDrive-MillfieldEnterprisesLimited/Cambridge/GitHub/BO4ACST/Notebooks/Optimisation/Method20241028Dim2_qKnowledgeGradient/AxExperiment.json`.\n",
      "[WARNING 10-29 17:04:40] ax.service.utils.report_utils: Column reason missing for all trials. Not appending column.\n",
      "[INFO 10-29 17:04:40] ax.service.ax_client: Starting optimization with verbose logging. To disable logging, set the `verbose_logging` argument to `False`. Note that float values in the logs are rounded to 6 decimal points.\n",
      "[INFO 10-29 17:04:40] ax.service.utils.instantiation: Created search space: SearchSpace(parameters=[RangeParameter(name='x1', parameter_type=FLOAT, range=[-10.0, 10.0]), RangeParameter(name='x2', parameter_type=FLOAT, range=[-10.0, 10.0])], parameter_constraints=[]).\n",
      "[INFO 10-29 17:04:40] ax.service.ax_client: Saved JSON-serialized state of optimization to `/Users/thomasdodd/Library/CloudStorage/OneDrive-MillfieldEnterprisesLimited/Cambridge/GitHub/BO4ACST/Notebooks/Optimisation/Method20241028Dim2_qKnowledgeGradient/AxExperiment.json`.\n",
      "[INFO 10-29 17:04:40] ax.core.experiment: Attached custom parameterizations [{'x1': -10.0, 'x2': -10.0}] as trial 0.\n",
      "[INFO 10-29 17:04:40] ax.core.experiment: Attached custom parameterizations [{'x1': 0.0, 'x2': -10.0}] as trial 1.\n",
      "[INFO 10-29 17:04:40] ax.core.experiment: Attached custom parameterizations [{'x1': 10.0, 'x2': -10.0}] as trial 2.\n",
      "[INFO 10-29 17:04:40] ax.core.experiment: Attached custom parameterizations [{'x1': -10.0, 'x2': 0.0}] as trial 3.\n",
      "[INFO 10-29 17:04:40] ax.core.experiment: Attached custom parameterizations [{'x1': 0.0, 'x2': 0.0}] as trial 4.\n",
      "[INFO 10-29 17:04:40] ax.core.experiment: Attached custom parameterizations [{'x1': 10.0, 'x2': 0.0}] as trial 5.\n",
      "[INFO 10-29 17:04:40] ax.core.experiment: Attached custom parameterizations [{'x1': -10.0, 'x2': 10.0}] as trial 6.\n",
      "[INFO 10-29 17:04:40] ax.core.experiment: Attached custom parameterizations [{'x1': 0.0, 'x2': 10.0}] as trial 7.\n",
      "[INFO 10-29 17:04:40] ax.core.experiment: Attached custom parameterizations [{'x1': 10.0, 'x2': 10.0}] as trial 8.\n",
      "[INFO 10-29 17:04:40] ax.service.ax_client: Saved JSON-serialized state of optimization to `/Users/thomasdodd/Library/CloudStorage/OneDrive-MillfieldEnterprisesLimited/Cambridge/GitHub/BO4ACST/Notebooks/Optimisation/Method20241028Dim2_qKnowledgeGradient/AxExperiment.json`.\n",
      "[WARNING 10-29 17:04:40] ax.service.utils.report_utils: Column reason missing for all trials. Not appending column.\n",
      "[INFO 10-29 17:04:40] ax.service.utils.report_utils: No results present for the specified metrics `[Metric('t1')]`. Returning arm parameters and metadata only.\n",
      "[WARNING 10-29 17:04:40] ax.service.utils.report_utils: Column reason missing for all trials. Not appending column.\n",
      "[INFO 10-29 17:04:40] ax.service.utils.report_utils: No results present for the specified metrics `[Metric('t1')]`. Returning arm parameters and metadata only.\n",
      "[INFO 10-29 17:04:40] ax.service.ax_client: Completed trial 0 with data: {'t1': (2594.0, None)}.\n",
      "[INFO 10-29 17:04:40] ax.service.ax_client: Saved JSON-serialized state of optimization to `/Users/thomasdodd/Library/CloudStorage/OneDrive-MillfieldEnterprisesLimited/Cambridge/GitHub/BO4ACST/Notebooks/Optimisation/Method20241028Dim2_qKnowledgeGradient/AxExperiment.json`.\n",
      "[INFO 10-29 17:04:40] ax.service.ax_client: Completed trial 1 with data: {'t1': (954.0, None)}.\n",
      "[INFO 10-29 17:04:40] ax.service.ax_client: Saved JSON-serialized state of optimization to `/Users/thomasdodd/Library/CloudStorage/OneDrive-MillfieldEnterprisesLimited/Cambridge/GitHub/BO4ACST/Notebooks/Optimisation/Method20241028Dim2_qKnowledgeGradient/AxExperiment.json`.\n",
      "[INFO 10-29 17:04:40] ax.service.ax_client: Completed trial 2 with data: {'t1': (314.0, None)}.\n",
      "[INFO 10-29 17:04:40] ax.service.ax_client: Saved JSON-serialized state of optimization to `/Users/thomasdodd/Library/CloudStorage/OneDrive-MillfieldEnterprisesLimited/Cambridge/GitHub/BO4ACST/Notebooks/Optimisation/Method20241028Dim2_qKnowledgeGradient/AxExperiment.json`.\n",
      "[INFO 10-29 17:04:40] ax.service.ax_client: Completed trial 3 with data: {'t1': (914.0, None)}.\n",
      "[INFO 10-29 17:04:40] ax.service.ax_client: Saved JSON-serialized state of optimization to `/Users/thomasdodd/Library/CloudStorage/OneDrive-MillfieldEnterprisesLimited/Cambridge/GitHub/BO4ACST/Notebooks/Optimisation/Method20241028Dim2_qKnowledgeGradient/AxExperiment.json`.\n",
      "[INFO 10-29 17:04:40] ax.service.ax_client: Completed trial 4 with data: {'t1': (74.0, None)}.\n",
      "[INFO 10-29 17:04:40] ax.service.ax_client: Saved JSON-serialized state of optimization to `/Users/thomasdodd/Library/CloudStorage/OneDrive-MillfieldEnterprisesLimited/Cambridge/GitHub/BO4ACST/Notebooks/Optimisation/Method20241028Dim2_qKnowledgeGradient/AxExperiment.json`.\n",
      "[INFO 10-29 17:04:40] ax.service.ax_client: Completed trial 5 with data: {'t1': (234.0, None)}.\n",
      "[INFO 10-29 17:04:40] ax.service.ax_client: Saved JSON-serialized state of optimization to `/Users/thomasdodd/Library/CloudStorage/OneDrive-MillfieldEnterprisesLimited/Cambridge/GitHub/BO4ACST/Notebooks/Optimisation/Method20241028Dim2_qKnowledgeGradient/AxExperiment.json`.\n",
      "[INFO 10-29 17:04:40] ax.service.ax_client: Completed trial 6 with data: {'t1': (234.0, None)}.\n",
      "[INFO 10-29 17:04:40] ax.service.ax_client: Saved JSON-serialized state of optimization to `/Users/thomasdodd/Library/CloudStorage/OneDrive-MillfieldEnterprisesLimited/Cambridge/GitHub/BO4ACST/Notebooks/Optimisation/Method20241028Dim2_qKnowledgeGradient/AxExperiment.json`.\n",
      "[INFO 10-29 17:04:40] ax.service.ax_client: Completed trial 7 with data: {'t1': (194.0, None)}.\n",
      "[INFO 10-29 17:04:40] ax.service.ax_client: Saved JSON-serialized state of optimization to `/Users/thomasdodd/Library/CloudStorage/OneDrive-MillfieldEnterprisesLimited/Cambridge/GitHub/BO4ACST/Notebooks/Optimisation/Method20241028Dim2_qKnowledgeGradient/AxExperiment.json`.\n",
      "[INFO 10-29 17:04:40] ax.service.ax_client: Completed trial 8 with data: {'t1': (1154.0, None)}.\n",
      "[INFO 10-29 17:04:40] ax.service.ax_client: Saved JSON-serialized state of optimization to `/Users/thomasdodd/Library/CloudStorage/OneDrive-MillfieldEnterprisesLimited/Cambridge/GitHub/BO4ACST/Notebooks/Optimisation/Method20241028Dim2_qKnowledgeGradient/AxExperiment.json`.\n",
      "[WARNING 10-29 17:04:40] ax.service.utils.report_utils: Column reason missing for all trials. Not appending column.\n",
      "[WARNING 10-29 17:04:40] ax.service.utils.report_utils: Column reason missing for all trials. Not appending column.\n"
     ]
    },
    {
     "name": "stdout",
     "output_type": "stream",
     "text": [
      "[74.         74.         74.         62.10498178 55.35787812 55.35787812\n",
      " 30.33152817 30.33152817 30.33152817 30.33152817 30.33152817 30.33152817\n",
      " 30.33152817 30.33152817 30.33152817 30.33152817]\n",
      "A new experiment has been created and initialised.\n",
      "No previous or current trials detected - initialising prior-forming trials.\n",
      "Samples gridded = 9\n",
      "There are no trials currently running - initialising Bayesian iteration trials.\n"
     ]
    },
    {
     "name": "stderr",
     "output_type": "stream",
     "text": [
      "[INFO 10-29 17:04:43] ax.service.ax_client: Generated new trial 9 with parameters {'x1': -4.365128, 'x2': 4.812561} using model BoTorch.\n",
      "[INFO 10-29 17:04:43] ax.service.ax_client: Saved JSON-serialized state of optimization to `/Users/thomasdodd/Library/CloudStorage/OneDrive-MillfieldEnterprisesLimited/Cambridge/GitHub/BO4ACST/Notebooks/Optimisation/Method20241028Dim2_qKnowledgeGradient/AxExperiment.json`.\n",
      "/Users/thomasdodd/miniconda3/envs/BO4ACST_env/lib/python3.11/site-packages/ax/core/data.py:288: FutureWarning: The behavior of DataFrame concatenation with empty or all-NA entries is deprecated. In a future version, this will no longer exclude empty or all-NA columns when determining the result dtypes. To retain the old behavior, exclude the relevant entries before the concat operation.\n",
      "  return cls(df=pd.concat(dfs, axis=0, sort=True))\n",
      "[WARNING 10-29 17:04:43] ax.service.utils.report_utils: Column reason missing for all trials. Not appending column.\n",
      "/Users/thomasdodd/miniconda3/envs/BO4ACST_env/lib/python3.11/site-packages/ax/core/data.py:288: FutureWarning: The behavior of DataFrame concatenation with empty or all-NA entries is deprecated. In a future version, this will no longer exclude empty or all-NA columns when determining the result dtypes. To retain the old behavior, exclude the relevant entries before the concat operation.\n",
      "  return cls(df=pd.concat(dfs, axis=0, sort=True))\n",
      "[WARNING 10-29 17:04:43] ax.service.utils.report_utils: Column reason missing for all trials. Not appending column.\n",
      "[INFO 10-29 17:04:43] ax.service.ax_client: Completed trial 9 with data: {'t1': (82.55293, None)}.\n",
      "[INFO 10-29 17:04:43] ax.service.ax_client: Saved JSON-serialized state of optimization to `/Users/thomasdodd/Library/CloudStorage/OneDrive-MillfieldEnterprisesLimited/Cambridge/GitHub/BO4ACST/Notebooks/Optimisation/Method20241028Dim2_qKnowledgeGradient/AxExperiment.json`.\n",
      "[WARNING 10-29 17:04:43] ax.service.utils.report_utils: Column reason missing for all trials. Not appending column.\n",
      "[WARNING 10-29 17:04:43] ax.service.utils.report_utils: Column reason missing for all trials. Not appending column.\n"
     ]
    },
    {
     "name": "stdout",
     "output_type": "stream",
     "text": [
      "There are no trials currently running - initialising Bayesian iteration trials.\n"
     ]
    },
    {
     "name": "stderr",
     "output_type": "stream",
     "text": [
      "[INFO 10-29 17:04:45] ax.service.ax_client: Generated new trial 10 with parameters {'x1': 5.965184, 'x2': -5.074104} using model BoTorch.\n",
      "[INFO 10-29 17:04:45] ax.service.ax_client: Saved JSON-serialized state of optimization to `/Users/thomasdodd/Library/CloudStorage/OneDrive-MillfieldEnterprisesLimited/Cambridge/GitHub/BO4ACST/Notebooks/Optimisation/Method20241028Dim2_qKnowledgeGradient/AxExperiment.json`.\n",
      "/Users/thomasdodd/miniconda3/envs/BO4ACST_env/lib/python3.11/site-packages/ax/core/data.py:288: FutureWarning: The behavior of DataFrame concatenation with empty or all-NA entries is deprecated. In a future version, this will no longer exclude empty or all-NA columns when determining the result dtypes. To retain the old behavior, exclude the relevant entries before the concat operation.\n",
      "  return cls(df=pd.concat(dfs, axis=0, sort=True))\n",
      "[WARNING 10-29 17:04:45] ax.service.utils.report_utils: Column reason missing for all trials. Not appending column.\n",
      "/Users/thomasdodd/miniconda3/envs/BO4ACST_env/lib/python3.11/site-packages/ax/core/data.py:288: FutureWarning: The behavior of DataFrame concatenation with empty or all-NA entries is deprecated. In a future version, this will no longer exclude empty or all-NA columns when determining the result dtypes. To retain the old behavior, exclude the relevant entries before the concat operation.\n",
      "  return cls(df=pd.concat(dfs, axis=0, sort=True))\n",
      "[WARNING 10-29 17:04:45] ax.service.utils.report_utils: Column reason missing for all trials. Not appending column.\n",
      "[INFO 10-29 17:04:45] ax.service.ax_client: Completed trial 10 with data: {'t1': (128.505728, None)}.\n",
      "[INFO 10-29 17:04:45] ax.service.ax_client: Saved JSON-serialized state of optimization to `/Users/thomasdodd/Library/CloudStorage/OneDrive-MillfieldEnterprisesLimited/Cambridge/GitHub/BO4ACST/Notebooks/Optimisation/Method20241028Dim2_qKnowledgeGradient/AxExperiment.json`.\n",
      "[WARNING 10-29 17:04:45] ax.service.utils.report_utils: Column reason missing for all trials. Not appending column.\n",
      "[WARNING 10-29 17:04:45] ax.service.utils.report_utils: Column reason missing for all trials. Not appending column.\n"
     ]
    },
    {
     "name": "stdout",
     "output_type": "stream",
     "text": [
      "There are no trials currently running - initialising Bayesian iteration trials.\n"
     ]
    },
    {
     "name": "stderr",
     "output_type": "stream",
     "text": [
      "[INFO 10-29 17:04:47] ax.service.ax_client: Generated new trial 11 with parameters {'x1': 4.532193, 'x2': 2.882865} using model BoTorch.\n",
      "[INFO 10-29 17:04:47] ax.service.ax_client: Saved JSON-serialized state of optimization to `/Users/thomasdodd/Library/CloudStorage/OneDrive-MillfieldEnterprisesLimited/Cambridge/GitHub/BO4ACST/Notebooks/Optimisation/Method20241028Dim2_qKnowledgeGradient/AxExperiment.json`.\n",
      "/Users/thomasdodd/miniconda3/envs/BO4ACST_env/lib/python3.11/site-packages/ax/core/data.py:288: FutureWarning: The behavior of DataFrame concatenation with empty or all-NA entries is deprecated. In a future version, this will no longer exclude empty or all-NA columns when determining the result dtypes. To retain the old behavior, exclude the relevant entries before the concat operation.\n",
      "  return cls(df=pd.concat(dfs, axis=0, sort=True))\n",
      "[WARNING 10-29 17:04:47] ax.service.utils.report_utils: Column reason missing for all trials. Not appending column.\n",
      "/Users/thomasdodd/miniconda3/envs/BO4ACST_env/lib/python3.11/site-packages/ax/core/data.py:288: FutureWarning: The behavior of DataFrame concatenation with empty or all-NA entries is deprecated. In a future version, this will no longer exclude empty or all-NA columns when determining the result dtypes. To retain the old behavior, exclude the relevant entries before the concat operation.\n",
      "  return cls(df=pd.concat(dfs, axis=0, sort=True))\n",
      "[WARNING 10-29 17:04:47] ax.service.utils.report_utils: Column reason missing for all trials. Not appending column.\n",
      "[INFO 10-29 17:04:47] ax.service.ax_client: Completed trial 11 with data: {'t1': (59.140595, None)}.\n",
      "[INFO 10-29 17:04:47] ax.service.ax_client: Saved JSON-serialized state of optimization to `/Users/thomasdodd/Library/CloudStorage/OneDrive-MillfieldEnterprisesLimited/Cambridge/GitHub/BO4ACST/Notebooks/Optimisation/Method20241028Dim2_qKnowledgeGradient/AxExperiment.json`.\n",
      "[WARNING 10-29 17:04:47] ax.service.utils.report_utils: Column reason missing for all trials. Not appending column.\n",
      "[WARNING 10-29 17:04:47] ax.service.utils.report_utils: Column reason missing for all trials. Not appending column.\n"
     ]
    },
    {
     "name": "stdout",
     "output_type": "stream",
     "text": [
      "There are no trials currently running - initialising Bayesian iteration trials.\n"
     ]
    },
    {
     "name": "stderr",
     "output_type": "stream",
     "text": [
      "[INFO 10-29 17:04:49] ax.service.ax_client: Generated new trial 12 with parameters {'x1': -4.53202, 'x2': 6.974337} using model BoTorch.\n",
      "[INFO 10-29 17:04:49] ax.service.ax_client: Saved JSON-serialized state of optimization to `/Users/thomasdodd/Library/CloudStorage/OneDrive-MillfieldEnterprisesLimited/Cambridge/GitHub/BO4ACST/Notebooks/Optimisation/Method20241028Dim2_qKnowledgeGradient/AxExperiment.json`.\n",
      "/Users/thomasdodd/miniconda3/envs/BO4ACST_env/lib/python3.11/site-packages/ax/core/data.py:288: FutureWarning: The behavior of DataFrame concatenation with empty or all-NA entries is deprecated. In a future version, this will no longer exclude empty or all-NA columns when determining the result dtypes. To retain the old behavior, exclude the relevant entries before the concat operation.\n",
      "  return cls(df=pd.concat(dfs, axis=0, sort=True))\n",
      "[WARNING 10-29 17:04:49] ax.service.utils.report_utils: Column reason missing for all trials. Not appending column.\n",
      "/Users/thomasdodd/miniconda3/envs/BO4ACST_env/lib/python3.11/site-packages/ax/core/data.py:288: FutureWarning: The behavior of DataFrame concatenation with empty or all-NA entries is deprecated. In a future version, this will no longer exclude empty or all-NA columns when determining the result dtypes. To retain the old behavior, exclude the relevant entries before the concat operation.\n",
      "  return cls(df=pd.concat(dfs, axis=0, sort=True))\n",
      "[WARNING 10-29 17:04:49] ax.service.utils.report_utils: Column reason missing for all trials. Not appending column.\n",
      "[INFO 10-29 17:04:49] ax.service.ax_client: Completed trial 12 with data: {'t1': (56.104107, None)}.\n",
      "[INFO 10-29 17:04:49] ax.service.ax_client: Saved JSON-serialized state of optimization to `/Users/thomasdodd/Library/CloudStorage/OneDrive-MillfieldEnterprisesLimited/Cambridge/GitHub/BO4ACST/Notebooks/Optimisation/Method20241028Dim2_qKnowledgeGradient/AxExperiment.json`.\n",
      "[WARNING 10-29 17:04:49] ax.service.utils.report_utils: Column reason missing for all trials. Not appending column.\n",
      "[WARNING 10-29 17:04:49] ax.service.utils.report_utils: Column reason missing for all trials. Not appending column.\n"
     ]
    },
    {
     "name": "stdout",
     "output_type": "stream",
     "text": [
      "There are no trials currently running - initialising Bayesian iteration trials.\n"
     ]
    },
    {
     "name": "stderr",
     "output_type": "stream",
     "text": [
      "[INFO 10-29 17:04:50] ax.service.ax_client: Generated new trial 13 with parameters {'x1': 4.43796, 'x2': -2.47182} using model BoTorch.\n",
      "[INFO 10-29 17:04:50] ax.service.ax_client: Saved JSON-serialized state of optimization to `/Users/thomasdodd/Library/CloudStorage/OneDrive-MillfieldEnterprisesLimited/Cambridge/GitHub/BO4ACST/Notebooks/Optimisation/Method20241028Dim2_qKnowledgeGradient/AxExperiment.json`.\n",
      "/Users/thomasdodd/miniconda3/envs/BO4ACST_env/lib/python3.11/site-packages/ax/core/data.py:288: FutureWarning: The behavior of DataFrame concatenation with empty or all-NA entries is deprecated. In a future version, this will no longer exclude empty or all-NA columns when determining the result dtypes. To retain the old behavior, exclude the relevant entries before the concat operation.\n",
      "  return cls(df=pd.concat(dfs, axis=0, sort=True))\n",
      "[WARNING 10-29 17:04:50] ax.service.utils.report_utils: Column reason missing for all trials. Not appending column.\n",
      "/Users/thomasdodd/miniconda3/envs/BO4ACST_env/lib/python3.11/site-packages/ax/core/data.py:288: FutureWarning: The behavior of DataFrame concatenation with empty or all-NA entries is deprecated. In a future version, this will no longer exclude empty or all-NA columns when determining the result dtypes. To retain the old behavior, exclude the relevant entries before the concat operation.\n",
      "  return cls(df=pd.concat(dfs, axis=0, sort=True))\n",
      "[WARNING 10-29 17:04:50] ax.service.utils.report_utils: Column reason missing for all trials. Not appending column.\n",
      "[INFO 10-29 17:04:50] ax.service.ax_client: Completed trial 13 with data: {'t1': (58.306732, None)}.\n",
      "[INFO 10-29 17:04:50] ax.service.ax_client: Saved JSON-serialized state of optimization to `/Users/thomasdodd/Library/CloudStorage/OneDrive-MillfieldEnterprisesLimited/Cambridge/GitHub/BO4ACST/Notebooks/Optimisation/Method20241028Dim2_qKnowledgeGradient/AxExperiment.json`.\n",
      "[WARNING 10-29 17:04:50] ax.service.utils.report_utils: Column reason missing for all trials. Not appending column.\n",
      "[WARNING 10-29 17:04:50] ax.service.utils.report_utils: Column reason missing for all trials. Not appending column.\n"
     ]
    },
    {
     "name": "stdout",
     "output_type": "stream",
     "text": [
      "There are no trials currently running - initialising Bayesian iteration trials.\n"
     ]
    },
    {
     "name": "stderr",
     "output_type": "stream",
     "text": [
      "[INFO 10-29 17:04:52] ax.service.ax_client: Generated new trial 14 with parameters {'x1': -0.51707, 'x2': 6.549658} using model BoTorch.\n",
      "[INFO 10-29 17:04:52] ax.service.ax_client: Saved JSON-serialized state of optimization to `/Users/thomasdodd/Library/CloudStorage/OneDrive-MillfieldEnterprisesLimited/Cambridge/GitHub/BO4ACST/Notebooks/Optimisation/Method20241028Dim2_qKnowledgeGradient/AxExperiment.json`.\n",
      "/Users/thomasdodd/miniconda3/envs/BO4ACST_env/lib/python3.11/site-packages/ax/core/data.py:288: FutureWarning: The behavior of DataFrame concatenation with empty or all-NA entries is deprecated. In a future version, this will no longer exclude empty or all-NA columns when determining the result dtypes. To retain the old behavior, exclude the relevant entries before the concat operation.\n",
      "  return cls(df=pd.concat(dfs, axis=0, sort=True))\n",
      "[WARNING 10-29 17:04:52] ax.service.utils.report_utils: Column reason missing for all trials. Not appending column.\n",
      "/Users/thomasdodd/miniconda3/envs/BO4ACST_env/lib/python3.11/site-packages/ax/core/data.py:288: FutureWarning: The behavior of DataFrame concatenation with empty or all-NA entries is deprecated. In a future version, this will no longer exclude empty or all-NA columns when determining the result dtypes. To retain the old behavior, exclude the relevant entries before the concat operation.\n",
      "  return cls(df=pd.concat(dfs, axis=0, sort=True))\n",
      "[WARNING 10-29 17:04:52] ax.service.utils.report_utils: Column reason missing for all trials. Not appending column.\n",
      "[INFO 10-29 17:04:52] ax.service.ax_client: Completed trial 14 with data: {'t1': (31.427228, None)}.\n",
      "[INFO 10-29 17:04:52] ax.service.ax_client: Saved JSON-serialized state of optimization to `/Users/thomasdodd/Library/CloudStorage/OneDrive-MillfieldEnterprisesLimited/Cambridge/GitHub/BO4ACST/Notebooks/Optimisation/Method20241028Dim2_qKnowledgeGradient/AxExperiment.json`.\n",
      "[WARNING 10-29 17:04:52] ax.service.utils.report_utils: Column reason missing for all trials. Not appending column.\n",
      "[WARNING 10-29 17:04:52] ax.service.utils.report_utils: Column reason missing for all trials. Not appending column.\n"
     ]
    },
    {
     "name": "stdout",
     "output_type": "stream",
     "text": [
      "There are no trials currently running - initialising Bayesian iteration trials.\n"
     ]
    },
    {
     "name": "stderr",
     "output_type": "stream",
     "text": [
      "[INFO 10-29 17:04:54] ax.service.ax_client: Generated new trial 15 with parameters {'x1': 5.572517, 'x2': 0.290434} using model BoTorch.\n",
      "[INFO 10-29 17:04:54] ax.service.ax_client: Saved JSON-serialized state of optimization to `/Users/thomasdodd/Library/CloudStorage/OneDrive-MillfieldEnterprisesLimited/Cambridge/GitHub/BO4ACST/Notebooks/Optimisation/Method20241028Dim2_qKnowledgeGradient/AxExperiment.json`.\n",
      "/Users/thomasdodd/miniconda3/envs/BO4ACST_env/lib/python3.11/site-packages/ax/core/data.py:288: FutureWarning: The behavior of DataFrame concatenation with empty or all-NA entries is deprecated. In a future version, this will no longer exclude empty or all-NA columns when determining the result dtypes. To retain the old behavior, exclude the relevant entries before the concat operation.\n",
      "  return cls(df=pd.concat(dfs, axis=0, sort=True))\n",
      "[WARNING 10-29 17:04:54] ax.service.utils.report_utils: Column reason missing for all trials. Not appending column.\n",
      "/Users/thomasdodd/miniconda3/envs/BO4ACST_env/lib/python3.11/site-packages/ax/core/data.py:288: FutureWarning: The behavior of DataFrame concatenation with empty or all-NA entries is deprecated. In a future version, this will no longer exclude empty or all-NA columns when determining the result dtypes. To retain the old behavior, exclude the relevant entries before the concat operation.\n",
      "  return cls(df=pd.concat(dfs, axis=0, sort=True))\n",
      "[WARNING 10-29 17:04:54] ax.service.utils.report_utils: Column reason missing for all trials. Not appending column.\n",
      "[INFO 10-29 17:04:54] ax.service.ax_client: Completed trial 15 with data: {'t1': (42.132006, None)}.\n",
      "[INFO 10-29 17:04:54] ax.service.ax_client: Saved JSON-serialized state of optimization to `/Users/thomasdodd/Library/CloudStorage/OneDrive-MillfieldEnterprisesLimited/Cambridge/GitHub/BO4ACST/Notebooks/Optimisation/Method20241028Dim2_qKnowledgeGradient/AxExperiment.json`.\n",
      "[WARNING 10-29 17:04:54] ax.service.utils.report_utils: Column reason missing for all trials. Not appending column.\n",
      "[WARNING 10-29 17:04:54] ax.service.utils.report_utils: Column reason missing for all trials. Not appending column.\n"
     ]
    },
    {
     "name": "stdout",
     "output_type": "stream",
     "text": [
      "There are no trials currently running - initialising Bayesian iteration trials.\n"
     ]
    },
    {
     "name": "stderr",
     "output_type": "stream",
     "text": [
      "[INFO 10-29 17:05:24] ax.service.ax_client: Generated new trial 16 with parameters {'x1': 0.623915, 'x2': 6.7231} using model BoTorch.\n",
      "[INFO 10-29 17:05:24] ax.service.ax_client: Saved JSON-serialized state of optimization to `/Users/thomasdodd/Library/CloudStorage/OneDrive-MillfieldEnterprisesLimited/Cambridge/GitHub/BO4ACST/Notebooks/Optimisation/Method20241028Dim2_qKnowledgeGradient/AxExperiment.json`.\n",
      "/Users/thomasdodd/miniconda3/envs/BO4ACST_env/lib/python3.11/site-packages/ax/core/data.py:288: FutureWarning: The behavior of DataFrame concatenation with empty or all-NA entries is deprecated. In a future version, this will no longer exclude empty or all-NA columns when determining the result dtypes. To retain the old behavior, exclude the relevant entries before the concat operation.\n",
      "  return cls(df=pd.concat(dfs, axis=0, sort=True))\n",
      "[WARNING 10-29 17:05:24] ax.service.utils.report_utils: Column reason missing for all trials. Not appending column.\n",
      "/Users/thomasdodd/miniconda3/envs/BO4ACST_env/lib/python3.11/site-packages/ax/core/data.py:288: FutureWarning: The behavior of DataFrame concatenation with empty or all-NA entries is deprecated. In a future version, this will no longer exclude empty or all-NA columns when determining the result dtypes. To retain the old behavior, exclude the relevant entries before the concat operation.\n",
      "  return cls(df=pd.concat(dfs, axis=0, sort=True))\n",
      "[WARNING 10-29 17:05:24] ax.service.utils.report_utils: Column reason missing for all trials. Not appending column.\n",
      "[INFO 10-29 17:05:24] ax.service.ax_client: Completed trial 16 with data: {'t1': (58.81297, None)}.\n",
      "[INFO 10-29 17:05:24] ax.service.ax_client: Saved JSON-serialized state of optimization to `/Users/thomasdodd/Library/CloudStorage/OneDrive-MillfieldEnterprisesLimited/Cambridge/GitHub/BO4ACST/Notebooks/Optimisation/Method20241028Dim2_qKnowledgeGradient/AxExperiment.json`.\n",
      "[WARNING 10-29 17:05:24] ax.service.utils.report_utils: Column reason missing for all trials. Not appending column.\n",
      "[WARNING 10-29 17:05:24] ax.service.utils.report_utils: Column reason missing for all trials. Not appending column.\n"
     ]
    },
    {
     "name": "stdout",
     "output_type": "stream",
     "text": [
      "There are no trials currently running - initialising Bayesian iteration trials.\n"
     ]
    },
    {
     "name": "stderr",
     "output_type": "stream",
     "text": [
      "[INFO 10-29 17:06:21] ax.service.ax_client: Generated new trial 17 with parameters {'x1': 3.108648, 'x2': -1.711935} using model BoTorch.\n",
      "[INFO 10-29 17:06:21] ax.service.ax_client: Saved JSON-serialized state of optimization to `/Users/thomasdodd/Library/CloudStorage/OneDrive-MillfieldEnterprisesLimited/Cambridge/GitHub/BO4ACST/Notebooks/Optimisation/Method20241028Dim2_qKnowledgeGradient/AxExperiment.json`.\n",
      "/Users/thomasdodd/miniconda3/envs/BO4ACST_env/lib/python3.11/site-packages/ax/core/data.py:288: FutureWarning: The behavior of DataFrame concatenation with empty or all-NA entries is deprecated. In a future version, this will no longer exclude empty or all-NA columns when determining the result dtypes. To retain the old behavior, exclude the relevant entries before the concat operation.\n",
      "  return cls(df=pd.concat(dfs, axis=0, sort=True))\n",
      "[WARNING 10-29 17:06:21] ax.service.utils.report_utils: Column reason missing for all trials. Not appending column.\n",
      "/Users/thomasdodd/miniconda3/envs/BO4ACST_env/lib/python3.11/site-packages/ax/core/data.py:288: FutureWarning: The behavior of DataFrame concatenation with empty or all-NA entries is deprecated. In a future version, this will no longer exclude empty or all-NA columns when determining the result dtypes. To retain the old behavior, exclude the relevant entries before the concat operation.\n",
      "  return cls(df=pd.concat(dfs, axis=0, sort=True))\n",
      "[WARNING 10-29 17:06:21] ax.service.utils.report_utils: Column reason missing for all trials. Not appending column.\n",
      "[INFO 10-29 17:06:21] ax.service.ax_client: Completed trial 17 with data: {'t1': (53.757138, None)}.\n",
      "[INFO 10-29 17:06:21] ax.service.ax_client: Saved JSON-serialized state of optimization to `/Users/thomasdodd/Library/CloudStorage/OneDrive-MillfieldEnterprisesLimited/Cambridge/GitHub/BO4ACST/Notebooks/Optimisation/Method20241028Dim2_qKnowledgeGradient/AxExperiment.json`.\n",
      "[WARNING 10-29 17:06:21] ax.service.utils.report_utils: Column reason missing for all trials. Not appending column.\n",
      "[WARNING 10-29 17:06:21] ax.service.utils.report_utils: Column reason missing for all trials. Not appending column.\n"
     ]
    },
    {
     "name": "stdout",
     "output_type": "stream",
     "text": [
      "There are no trials currently running - initialising Bayesian iteration trials.\n"
     ]
    },
    {
     "name": "stderr",
     "output_type": "stream",
     "text": [
      "[INFO 10-29 17:07:11] ax.service.ax_client: Generated new trial 18 with parameters {'x1': 6.418861, 'x2': 2.196659} using model BoTorch.\n",
      "[INFO 10-29 17:07:11] ax.service.ax_client: Saved JSON-serialized state of optimization to `/Users/thomasdodd/Library/CloudStorage/OneDrive-MillfieldEnterprisesLimited/Cambridge/GitHub/BO4ACST/Notebooks/Optimisation/Method20241028Dim2_qKnowledgeGradient/AxExperiment.json`.\n",
      "/Users/thomasdodd/miniconda3/envs/BO4ACST_env/lib/python3.11/site-packages/ax/core/data.py:288: FutureWarning: The behavior of DataFrame concatenation with empty or all-NA entries is deprecated. In a future version, this will no longer exclude empty or all-NA columns when determining the result dtypes. To retain the old behavior, exclude the relevant entries before the concat operation.\n",
      "  return cls(df=pd.concat(dfs, axis=0, sort=True))\n",
      "[WARNING 10-29 17:07:11] ax.service.utils.report_utils: Column reason missing for all trials. Not appending column.\n",
      "/Users/thomasdodd/miniconda3/envs/BO4ACST_env/lib/python3.11/site-packages/ax/core/data.py:288: FutureWarning: The behavior of DataFrame concatenation with empty or all-NA entries is deprecated. In a future version, this will no longer exclude empty or all-NA columns when determining the result dtypes. To retain the old behavior, exclude the relevant entries before the concat operation.\n",
      "  return cls(df=pd.concat(dfs, axis=0, sort=True))\n",
      "[WARNING 10-29 17:07:11] ax.service.utils.report_utils: Column reason missing for all trials. Not appending column.\n",
      "[INFO 10-29 17:07:11] ax.service.ax_client: Completed trial 18 with data: {'t1': (115.22152, None)}.\n",
      "[INFO 10-29 17:07:11] ax.service.ax_client: Saved JSON-serialized state of optimization to `/Users/thomasdodd/Library/CloudStorage/OneDrive-MillfieldEnterprisesLimited/Cambridge/GitHub/BO4ACST/Notebooks/Optimisation/Method20241028Dim2_qKnowledgeGradient/AxExperiment.json`.\n",
      "[WARNING 10-29 17:07:11] ax.service.utils.report_utils: Column reason missing for all trials. Not appending column.\n",
      "[WARNING 10-29 17:07:11] ax.service.utils.report_utils: Column reason missing for all trials. Not appending column.\n"
     ]
    },
    {
     "name": "stdout",
     "output_type": "stream",
     "text": [
      "There are no trials currently running - initialising Bayesian iteration trials.\n"
     ]
    },
    {
     "name": "stderr",
     "output_type": "stream",
     "text": [
      "[INFO 10-29 17:07:53] ax.service.ax_client: Generated new trial 19 with parameters {'x1': -3.006303, 'x2': 3.370966} using model BoTorch.\n",
      "[INFO 10-29 17:07:53] ax.service.ax_client: Saved JSON-serialized state of optimization to `/Users/thomasdodd/Library/CloudStorage/OneDrive-MillfieldEnterprisesLimited/Cambridge/GitHub/BO4ACST/Notebooks/Optimisation/Method20241028Dim2_qKnowledgeGradient/AxExperiment.json`.\n",
      "/Users/thomasdodd/miniconda3/envs/BO4ACST_env/lib/python3.11/site-packages/ax/core/data.py:288: FutureWarning: The behavior of DataFrame concatenation with empty or all-NA entries is deprecated. In a future version, this will no longer exclude empty or all-NA columns when determining the result dtypes. To retain the old behavior, exclude the relevant entries before the concat operation.\n",
      "  return cls(df=pd.concat(dfs, axis=0, sort=True))\n",
      "[WARNING 10-29 17:07:53] ax.service.utils.report_utils: Column reason missing for all trials. Not appending column.\n",
      "/Users/thomasdodd/miniconda3/envs/BO4ACST_env/lib/python3.11/site-packages/ax/core/data.py:288: FutureWarning: The behavior of DataFrame concatenation with empty or all-NA entries is deprecated. In a future version, this will no longer exclude empty or all-NA columns when determining the result dtypes. To retain the old behavior, exclude the relevant entries before the concat operation.\n",
      "  return cls(df=pd.concat(dfs, axis=0, sort=True))\n",
      "[WARNING 10-29 17:07:53] ax.service.utils.report_utils: Column reason missing for all trials. Not appending column.\n",
      "[INFO 10-29 17:07:53] ax.service.ax_client: Completed trial 19 with data: {'t1': (69.05079, None)}.\n",
      "[INFO 10-29 17:07:53] ax.service.ax_client: Saved JSON-serialized state of optimization to `/Users/thomasdodd/Library/CloudStorage/OneDrive-MillfieldEnterprisesLimited/Cambridge/GitHub/BO4ACST/Notebooks/Optimisation/Method20241028Dim2_qKnowledgeGradient/AxExperiment.json`.\n",
      "[WARNING 10-29 17:07:53] ax.service.utils.report_utils: Column reason missing for all trials. Not appending column.\n",
      "[WARNING 10-29 17:07:53] ax.service.utils.report_utils: Column reason missing for all trials. Not appending column.\n"
     ]
    },
    {
     "name": "stdout",
     "output_type": "stream",
     "text": [
      "There are no trials currently running - initialising Bayesian iteration trials.\n"
     ]
    },
    {
     "name": "stderr",
     "output_type": "stream",
     "text": [
      "[INFO 10-29 17:08:39] ax.service.ax_client: Generated new trial 20 with parameters {'x1': 0.637548, 'x2': 6.444206} using model BoTorch.\n",
      "[INFO 10-29 17:08:39] ax.service.ax_client: Saved JSON-serialized state of optimization to `/Users/thomasdodd/Library/CloudStorage/OneDrive-MillfieldEnterprisesLimited/Cambridge/GitHub/BO4ACST/Notebooks/Optimisation/Method20241028Dim2_qKnowledgeGradient/AxExperiment.json`.\n",
      "/Users/thomasdodd/miniconda3/envs/BO4ACST_env/lib/python3.11/site-packages/ax/core/data.py:288: FutureWarning: The behavior of DataFrame concatenation with empty or all-NA entries is deprecated. In a future version, this will no longer exclude empty or all-NA columns when determining the result dtypes. To retain the old behavior, exclude the relevant entries before the concat operation.\n",
      "  return cls(df=pd.concat(dfs, axis=0, sort=True))\n",
      "[WARNING 10-29 17:08:39] ax.service.utils.report_utils: Column reason missing for all trials. Not appending column.\n",
      "/Users/thomasdodd/miniconda3/envs/BO4ACST_env/lib/python3.11/site-packages/ax/core/data.py:288: FutureWarning: The behavior of DataFrame concatenation with empty or all-NA entries is deprecated. In a future version, this will no longer exclude empty or all-NA columns when determining the result dtypes. To retain the old behavior, exclude the relevant entries before the concat operation.\n",
      "  return cls(df=pd.concat(dfs, axis=0, sort=True))\n",
      "[WARNING 10-29 17:08:39] ax.service.utils.report_utils: Column reason missing for all trials. Not appending column.\n",
      "[INFO 10-29 17:08:39] ax.service.ax_client: Completed trial 20 with data: {'t1': (49.982766, None)}.\n",
      "[INFO 10-29 17:08:39] ax.service.ax_client: Saved JSON-serialized state of optimization to `/Users/thomasdodd/Library/CloudStorage/OneDrive-MillfieldEnterprisesLimited/Cambridge/GitHub/BO4ACST/Notebooks/Optimisation/Method20241028Dim2_qKnowledgeGradient/AxExperiment.json`.\n",
      "[WARNING 10-29 17:08:39] ax.service.utils.report_utils: Column reason missing for all trials. Not appending column.\n",
      "[WARNING 10-29 17:08:39] ax.service.utils.report_utils: Column reason missing for all trials. Not appending column.\n"
     ]
    },
    {
     "name": "stdout",
     "output_type": "stream",
     "text": [
      "There are no trials currently running - initialising Bayesian iteration trials.\n"
     ]
    },
    {
     "name": "stderr",
     "output_type": "stream",
     "text": [
      "[INFO 10-29 17:09:39] ax.service.ax_client: Generated new trial 21 with parameters {'x1': 3.587878, 'x2': -0.813927} using model BoTorch.\n",
      "[INFO 10-29 17:09:39] ax.service.ax_client: Saved JSON-serialized state of optimization to `/Users/thomasdodd/Library/CloudStorage/OneDrive-MillfieldEnterprisesLimited/Cambridge/GitHub/BO4ACST/Notebooks/Optimisation/Method20241028Dim2_qKnowledgeGradient/AxExperiment.json`.\n",
      "/Users/thomasdodd/miniconda3/envs/BO4ACST_env/lib/python3.11/site-packages/ax/core/data.py:288: FutureWarning: The behavior of DataFrame concatenation with empty or all-NA entries is deprecated. In a future version, this will no longer exclude empty or all-NA columns when determining the result dtypes. To retain the old behavior, exclude the relevant entries before the concat operation.\n",
      "  return cls(df=pd.concat(dfs, axis=0, sort=True))\n",
      "[WARNING 10-29 17:09:39] ax.service.utils.report_utils: Column reason missing for all trials. Not appending column.\n",
      "/Users/thomasdodd/miniconda3/envs/BO4ACST_env/lib/python3.11/site-packages/ax/core/data.py:288: FutureWarning: The behavior of DataFrame concatenation with empty or all-NA entries is deprecated. In a future version, this will no longer exclude empty or all-NA columns when determining the result dtypes. To retain the old behavior, exclude the relevant entries before the concat operation.\n",
      "  return cls(df=pd.concat(dfs, axis=0, sort=True))\n",
      "[WARNING 10-29 17:09:39] ax.service.utils.report_utils: Column reason missing for all trials. Not appending column.\n",
      "[INFO 10-29 17:09:39] ax.service.ax_client: Completed trial 21 with data: {'t1': (27.255937, None)}.\n",
      "[INFO 10-29 17:09:39] ax.service.ax_client: Saved JSON-serialized state of optimization to `/Users/thomasdodd/Library/CloudStorage/OneDrive-MillfieldEnterprisesLimited/Cambridge/GitHub/BO4ACST/Notebooks/Optimisation/Method20241028Dim2_qKnowledgeGradient/AxExperiment.json`.\n",
      "[WARNING 10-29 17:09:39] ax.service.utils.report_utils: Column reason missing for all trials. Not appending column.\n",
      "[WARNING 10-29 17:09:39] ax.service.utils.report_utils: Column reason missing for all trials. Not appending column.\n"
     ]
    },
    {
     "name": "stdout",
     "output_type": "stream",
     "text": [
      "There are no trials currently running - initialising Bayesian iteration trials.\n"
     ]
    },
    {
     "name": "stderr",
     "output_type": "stream",
     "text": [
      "[INFO 10-29 17:10:35] ax.service.ax_client: Generated new trial 22 with parameters {'x1': -1.943176, 'x2': 4.945463} using model BoTorch.\n",
      "[INFO 10-29 17:10:35] ax.service.ax_client: Saved JSON-serialized state of optimization to `/Users/thomasdodd/Library/CloudStorage/OneDrive-MillfieldEnterprisesLimited/Cambridge/GitHub/BO4ACST/Notebooks/Optimisation/Method20241028Dim2_qKnowledgeGradient/AxExperiment.json`.\n",
      "/Users/thomasdodd/miniconda3/envs/BO4ACST_env/lib/python3.11/site-packages/ax/core/data.py:288: FutureWarning: The behavior of DataFrame concatenation with empty or all-NA entries is deprecated. In a future version, this will no longer exclude empty or all-NA columns when determining the result dtypes. To retain the old behavior, exclude the relevant entries before the concat operation.\n",
      "  return cls(df=pd.concat(dfs, axis=0, sort=True))\n",
      "[WARNING 10-29 17:10:35] ax.service.utils.report_utils: Column reason missing for all trials. Not appending column.\n",
      "/Users/thomasdodd/miniconda3/envs/BO4ACST_env/lib/python3.11/site-packages/ax/core/data.py:288: FutureWarning: The behavior of DataFrame concatenation with empty or all-NA entries is deprecated. In a future version, this will no longer exclude empty or all-NA columns when determining the result dtypes. To retain the old behavior, exclude the relevant entries before the concat operation.\n",
      "  return cls(df=pd.concat(dfs, axis=0, sort=True))\n",
      "[WARNING 10-29 17:10:35] ax.service.utils.report_utils: Column reason missing for all trials. Not appending column.\n",
      "[INFO 10-29 17:10:35] ax.service.ax_client: Completed trial 22 with data: {'t1': (16.428841, None)}.\n",
      "[INFO 10-29 17:10:35] ax.service.ax_client: Saved JSON-serialized state of optimization to `/Users/thomasdodd/Library/CloudStorage/OneDrive-MillfieldEnterprisesLimited/Cambridge/GitHub/BO4ACST/Notebooks/Optimisation/Method20241028Dim2_qKnowledgeGradient/AxExperiment.json`.\n",
      "[WARNING 10-29 17:10:35] ax.service.utils.report_utils: Column reason missing for all trials. Not appending column.\n",
      "[WARNING 10-29 17:10:35] ax.service.utils.report_utils: Column reason missing for all trials. Not appending column.\n"
     ]
    },
    {
     "name": "stdout",
     "output_type": "stream",
     "text": [
      "There are no trials currently running - initialising Bayesian iteration trials.\n"
     ]
    },
    {
     "name": "stderr",
     "output_type": "stream",
     "text": [
      "[INFO 10-29 17:11:34] ax.service.ax_client: Generated new trial 23 with parameters {'x1': -3.914034, 'x2': -3.71128} using model BoTorch.\n",
      "[INFO 10-29 17:11:34] ax.service.ax_client: Saved JSON-serialized state of optimization to `/Users/thomasdodd/Library/CloudStorage/OneDrive-MillfieldEnterprisesLimited/Cambridge/GitHub/BO4ACST/Notebooks/Optimisation/Method20241028Dim2_qKnowledgeGradient/AxExperiment.json`.\n",
      "/Users/thomasdodd/miniconda3/envs/BO4ACST_env/lib/python3.11/site-packages/ax/core/data.py:288: FutureWarning: The behavior of DataFrame concatenation with empty or all-NA entries is deprecated. In a future version, this will no longer exclude empty or all-NA columns when determining the result dtypes. To retain the old behavior, exclude the relevant entries before the concat operation.\n",
      "  return cls(df=pd.concat(dfs, axis=0, sort=True))\n",
      "[WARNING 10-29 17:11:34] ax.service.utils.report_utils: Column reason missing for all trials. Not appending column.\n",
      "/Users/thomasdodd/miniconda3/envs/BO4ACST_env/lib/python3.11/site-packages/ax/core/data.py:288: FutureWarning: The behavior of DataFrame concatenation with empty or all-NA entries is deprecated. In a future version, this will no longer exclude empty or all-NA columns when determining the result dtypes. To retain the old behavior, exclude the relevant entries before the concat operation.\n",
      "  return cls(df=pd.concat(dfs, axis=0, sort=True))\n",
      "[WARNING 10-29 17:11:34] ax.service.utils.report_utils: Column reason missing for all trials. Not appending column.\n",
      "[INFO 10-29 17:11:34] ax.service.ax_client: Completed trial 23 with data: {'t1': (609.780753, None)}.\n",
      "[INFO 10-29 17:11:34] ax.service.ax_client: Saved JSON-serialized state of optimization to `/Users/thomasdodd/Library/CloudStorage/OneDrive-MillfieldEnterprisesLimited/Cambridge/GitHub/BO4ACST/Notebooks/Optimisation/Method20241028Dim2_qKnowledgeGradient/AxExperiment.json`.\n",
      "[WARNING 10-29 17:11:34] ax.service.utils.report_utils: Column reason missing for all trials. Not appending column.\n",
      "[INFO 10-29 17:11:34] ax.service.ax_client: Starting optimization with verbose logging. To disable logging, set the `verbose_logging` argument to `False`. Note that float values in the logs are rounded to 6 decimal points.\n",
      "[INFO 10-29 17:11:34] ax.service.utils.instantiation: Created search space: SearchSpace(parameters=[RangeParameter(name='x1', parameter_type=FLOAT, range=[-10.0, 10.0]), RangeParameter(name='x2', parameter_type=FLOAT, range=[-10.0, 10.0])], parameter_constraints=[]).\n",
      "[INFO 10-29 17:11:34] ax.service.ax_client: Saved JSON-serialized state of optimization to `/Users/thomasdodd/Library/CloudStorage/OneDrive-MillfieldEnterprisesLimited/Cambridge/GitHub/BO4ACST/Notebooks/Optimisation/Method20241028Dim2_qKnowledgeGradient/AxExperiment.json`.\n",
      "[INFO 10-29 17:11:34] ax.core.experiment: Attached custom parameterizations [{'x1': -10.0, 'x2': -10.0}] as trial 0.\n",
      "[INFO 10-29 17:11:34] ax.core.experiment: Attached custom parameterizations [{'x1': 0.0, 'x2': -10.0}] as trial 1.\n",
      "[INFO 10-29 17:11:34] ax.core.experiment: Attached custom parameterizations [{'x1': 10.0, 'x2': -10.0}] as trial 2.\n",
      "[INFO 10-29 17:11:34] ax.core.experiment: Attached custom parameterizations [{'x1': -10.0, 'x2': 0.0}] as trial 3.\n",
      "[INFO 10-29 17:11:34] ax.core.experiment: Attached custom parameterizations [{'x1': 0.0, 'x2': 0.0}] as trial 4.\n",
      "[INFO 10-29 17:11:34] ax.core.experiment: Attached custom parameterizations [{'x1': 10.0, 'x2': 0.0}] as trial 5.\n",
      "[INFO 10-29 17:11:34] ax.core.experiment: Attached custom parameterizations [{'x1': -10.0, 'x2': 10.0}] as trial 6.\n",
      "[INFO 10-29 17:11:34] ax.core.experiment: Attached custom parameterizations [{'x1': 0.0, 'x2': 10.0}] as trial 7.\n",
      "[INFO 10-29 17:11:34] ax.core.experiment: Attached custom parameterizations [{'x1': 10.0, 'x2': 10.0}] as trial 8.\n",
      "[INFO 10-29 17:11:34] ax.service.ax_client: Saved JSON-serialized state of optimization to `/Users/thomasdodd/Library/CloudStorage/OneDrive-MillfieldEnterprisesLimited/Cambridge/GitHub/BO4ACST/Notebooks/Optimisation/Method20241028Dim2_qKnowledgeGradient/AxExperiment.json`.\n",
      "[WARNING 10-29 17:11:34] ax.service.utils.report_utils: Column reason missing for all trials. Not appending column.\n",
      "[INFO 10-29 17:11:34] ax.service.utils.report_utils: No results present for the specified metrics `[Metric('t1')]`. Returning arm parameters and metadata only.\n",
      "[WARNING 10-29 17:11:34] ax.service.utils.report_utils: Column reason missing for all trials. Not appending column.\n",
      "[INFO 10-29 17:11:34] ax.service.utils.report_utils: No results present for the specified metrics `[Metric('t1')]`. Returning arm parameters and metadata only.\n",
      "[INFO 10-29 17:11:34] ax.service.ax_client: Completed trial 0 with data: {'t1': (2594.0, None)}.\n",
      "[INFO 10-29 17:11:34] ax.service.ax_client: Saved JSON-serialized state of optimization to `/Users/thomasdodd/Library/CloudStorage/OneDrive-MillfieldEnterprisesLimited/Cambridge/GitHub/BO4ACST/Notebooks/Optimisation/Method20241028Dim2_qKnowledgeGradient/AxExperiment.json`.\n",
      "[INFO 10-29 17:11:34] ax.service.ax_client: Completed trial 1 with data: {'t1': (954.0, None)}.\n",
      "[INFO 10-29 17:11:34] ax.service.ax_client: Saved JSON-serialized state of optimization to `/Users/thomasdodd/Library/CloudStorage/OneDrive-MillfieldEnterprisesLimited/Cambridge/GitHub/BO4ACST/Notebooks/Optimisation/Method20241028Dim2_qKnowledgeGradient/AxExperiment.json`.\n",
      "[INFO 10-29 17:11:34] ax.service.ax_client: Completed trial 2 with data: {'t1': (314.0, None)}.\n",
      "[INFO 10-29 17:11:34] ax.service.ax_client: Saved JSON-serialized state of optimization to `/Users/thomasdodd/Library/CloudStorage/OneDrive-MillfieldEnterprisesLimited/Cambridge/GitHub/BO4ACST/Notebooks/Optimisation/Method20241028Dim2_qKnowledgeGradient/AxExperiment.json`.\n",
      "[INFO 10-29 17:11:34] ax.service.ax_client: Completed trial 3 with data: {'t1': (914.0, None)}.\n",
      "[INFO 10-29 17:11:34] ax.service.ax_client: Saved JSON-serialized state of optimization to `/Users/thomasdodd/Library/CloudStorage/OneDrive-MillfieldEnterprisesLimited/Cambridge/GitHub/BO4ACST/Notebooks/Optimisation/Method20241028Dim2_qKnowledgeGradient/AxExperiment.json`.\n",
      "[INFO 10-29 17:11:34] ax.service.ax_client: Completed trial 4 with data: {'t1': (74.0, None)}.\n",
      "[INFO 10-29 17:11:34] ax.service.ax_client: Saved JSON-serialized state of optimization to `/Users/thomasdodd/Library/CloudStorage/OneDrive-MillfieldEnterprisesLimited/Cambridge/GitHub/BO4ACST/Notebooks/Optimisation/Method20241028Dim2_qKnowledgeGradient/AxExperiment.json`.\n",
      "[INFO 10-29 17:11:34] ax.service.ax_client: Completed trial 5 with data: {'t1': (234.0, None)}.\n",
      "[INFO 10-29 17:11:34] ax.service.ax_client: Saved JSON-serialized state of optimization to `/Users/thomasdodd/Library/CloudStorage/OneDrive-MillfieldEnterprisesLimited/Cambridge/GitHub/BO4ACST/Notebooks/Optimisation/Method20241028Dim2_qKnowledgeGradient/AxExperiment.json`.\n",
      "[INFO 10-29 17:11:34] ax.service.ax_client: Completed trial 6 with data: {'t1': (234.0, None)}.\n",
      "[INFO 10-29 17:11:34] ax.service.ax_client: Saved JSON-serialized state of optimization to `/Users/thomasdodd/Library/CloudStorage/OneDrive-MillfieldEnterprisesLimited/Cambridge/GitHub/BO4ACST/Notebooks/Optimisation/Method20241028Dim2_qKnowledgeGradient/AxExperiment.json`.\n",
      "[INFO 10-29 17:11:34] ax.service.ax_client: Completed trial 7 with data: {'t1': (194.0, None)}.\n",
      "[INFO 10-29 17:11:34] ax.service.ax_client: Saved JSON-serialized state of optimization to `/Users/thomasdodd/Library/CloudStorage/OneDrive-MillfieldEnterprisesLimited/Cambridge/GitHub/BO4ACST/Notebooks/Optimisation/Method20241028Dim2_qKnowledgeGradient/AxExperiment.json`.\n",
      "[INFO 10-29 17:11:34] ax.service.ax_client: Completed trial 8 with data: {'t1': (1154.0, None)}.\n",
      "[INFO 10-29 17:11:34] ax.service.ax_client: Saved JSON-serialized state of optimization to `/Users/thomasdodd/Library/CloudStorage/OneDrive-MillfieldEnterprisesLimited/Cambridge/GitHub/BO4ACST/Notebooks/Optimisation/Method20241028Dim2_qKnowledgeGradient/AxExperiment.json`.\n",
      "[WARNING 10-29 17:11:34] ax.service.utils.report_utils: Column reason missing for all trials. Not appending column.\n",
      "[WARNING 10-29 17:11:34] ax.service.utils.report_utils: Column reason missing for all trials. Not appending column.\n"
     ]
    },
    {
     "name": "stdout",
     "output_type": "stream",
     "text": [
      "[74.         74.         74.         59.14059499 56.10410743 56.10410743\n",
      " 31.42722811 31.42722811 31.42722811 31.42722811 31.42722811 31.42722811\n",
      " 31.42722811 27.25593708 16.42884076 16.42884076]\n",
      "A new experiment has been created and initialised.\n",
      "No previous or current trials detected - initialising prior-forming trials.\n",
      "Samples gridded = 9\n",
      "There are no trials currently running - initialising Bayesian iteration trials.\n"
     ]
    },
    {
     "name": "stderr",
     "output_type": "stream",
     "text": [
      "[INFO 10-29 17:11:38] ax.service.ax_client: Generated new trial 9 with parameters {'x1': -4.380057, 'x2': 4.838444} using model BoTorch.\n",
      "[INFO 10-29 17:11:38] ax.service.ax_client: Saved JSON-serialized state of optimization to `/Users/thomasdodd/Library/CloudStorage/OneDrive-MillfieldEnterprisesLimited/Cambridge/GitHub/BO4ACST/Notebooks/Optimisation/Method20241028Dim2_qKnowledgeGradient/AxExperiment.json`.\n",
      "/Users/thomasdodd/miniconda3/envs/BO4ACST_env/lib/python3.11/site-packages/ax/core/data.py:288: FutureWarning: The behavior of DataFrame concatenation with empty or all-NA entries is deprecated. In a future version, this will no longer exclude empty or all-NA columns when determining the result dtypes. To retain the old behavior, exclude the relevant entries before the concat operation.\n",
      "  return cls(df=pd.concat(dfs, axis=0, sort=True))\n",
      "[WARNING 10-29 17:11:38] ax.service.utils.report_utils: Column reason missing for all trials. Not appending column.\n",
      "/Users/thomasdodd/miniconda3/envs/BO4ACST_env/lib/python3.11/site-packages/ax/core/data.py:288: FutureWarning: The behavior of DataFrame concatenation with empty or all-NA entries is deprecated. In a future version, this will no longer exclude empty or all-NA columns when determining the result dtypes. To retain the old behavior, exclude the relevant entries before the concat operation.\n",
      "  return cls(df=pd.concat(dfs, axis=0, sort=True))\n",
      "[WARNING 10-29 17:11:38] ax.service.utils.report_utils: Column reason missing for all trials. Not appending column.\n",
      "[INFO 10-29 17:11:38] ax.service.ax_client: Completed trial 9 with data: {'t1': (82.496992, None)}.\n",
      "[INFO 10-29 17:11:38] ax.service.ax_client: Saved JSON-serialized state of optimization to `/Users/thomasdodd/Library/CloudStorage/OneDrive-MillfieldEnterprisesLimited/Cambridge/GitHub/BO4ACST/Notebooks/Optimisation/Method20241028Dim2_qKnowledgeGradient/AxExperiment.json`.\n",
      "[WARNING 10-29 17:11:38] ax.service.utils.report_utils: Column reason missing for all trials. Not appending column.\n",
      "[WARNING 10-29 17:11:38] ax.service.utils.report_utils: Column reason missing for all trials. Not appending column.\n"
     ]
    },
    {
     "name": "stdout",
     "output_type": "stream",
     "text": [
      "There are no trials currently running - initialising Bayesian iteration trials.\n"
     ]
    },
    {
     "name": "stderr",
     "output_type": "stream",
     "text": [
      "[INFO 10-29 17:11:39] ax.service.ax_client: Generated new trial 10 with parameters {'x1': 5.974799, 'x2': -5.086866} using model BoTorch.\n",
      "[INFO 10-29 17:11:39] ax.service.ax_client: Saved JSON-serialized state of optimization to `/Users/thomasdodd/Library/CloudStorage/OneDrive-MillfieldEnterprisesLimited/Cambridge/GitHub/BO4ACST/Notebooks/Optimisation/Method20241028Dim2_qKnowledgeGradient/AxExperiment.json`.\n",
      "/Users/thomasdodd/miniconda3/envs/BO4ACST_env/lib/python3.11/site-packages/ax/core/data.py:288: FutureWarning: The behavior of DataFrame concatenation with empty or all-NA entries is deprecated. In a future version, this will no longer exclude empty or all-NA columns when determining the result dtypes. To retain the old behavior, exclude the relevant entries before the concat operation.\n",
      "  return cls(df=pd.concat(dfs, axis=0, sort=True))\n",
      "[WARNING 10-29 17:11:39] ax.service.utils.report_utils: Column reason missing for all trials. Not appending column.\n",
      "/Users/thomasdodd/miniconda3/envs/BO4ACST_env/lib/python3.11/site-packages/ax/core/data.py:288: FutureWarning: The behavior of DataFrame concatenation with empty or all-NA entries is deprecated. In a future version, this will no longer exclude empty or all-NA columns when determining the result dtypes. To retain the old behavior, exclude the relevant entries before the concat operation.\n",
      "  return cls(df=pd.concat(dfs, axis=0, sort=True))\n",
      "[WARNING 10-29 17:11:39] ax.service.utils.report_utils: Column reason missing for all trials. Not appending column.\n",
      "[INFO 10-29 17:11:39] ax.service.ax_client: Completed trial 10 with data: {'t1': (128.88587, None)}.\n",
      "[INFO 10-29 17:11:39] ax.service.ax_client: Saved JSON-serialized state of optimization to `/Users/thomasdodd/Library/CloudStorage/OneDrive-MillfieldEnterprisesLimited/Cambridge/GitHub/BO4ACST/Notebooks/Optimisation/Method20241028Dim2_qKnowledgeGradient/AxExperiment.json`.\n",
      "[WARNING 10-29 17:11:39] ax.service.utils.report_utils: Column reason missing for all trials. Not appending column.\n",
      "[WARNING 10-29 17:11:39] ax.service.utils.report_utils: Column reason missing for all trials. Not appending column.\n"
     ]
    },
    {
     "name": "stdout",
     "output_type": "stream",
     "text": [
      "There are no trials currently running - initialising Bayesian iteration trials.\n"
     ]
    },
    {
     "name": "stderr",
     "output_type": "stream",
     "text": [
      "[INFO 10-29 17:11:41] ax.service.ax_client: Generated new trial 11 with parameters {'x1': 4.536591, 'x2': 2.863432} using model BoTorch.\n",
      "[INFO 10-29 17:11:41] ax.service.ax_client: Saved JSON-serialized state of optimization to `/Users/thomasdodd/Library/CloudStorage/OneDrive-MillfieldEnterprisesLimited/Cambridge/GitHub/BO4ACST/Notebooks/Optimisation/Method20241028Dim2_qKnowledgeGradient/AxExperiment.json`.\n",
      "/Users/thomasdodd/miniconda3/envs/BO4ACST_env/lib/python3.11/site-packages/ax/core/data.py:288: FutureWarning: The behavior of DataFrame concatenation with empty or all-NA entries is deprecated. In a future version, this will no longer exclude empty or all-NA columns when determining the result dtypes. To retain the old behavior, exclude the relevant entries before the concat operation.\n",
      "  return cls(df=pd.concat(dfs, axis=0, sort=True))\n",
      "[WARNING 10-29 17:11:41] ax.service.utils.report_utils: Column reason missing for all trials. Not appending column.\n",
      "/Users/thomasdodd/miniconda3/envs/BO4ACST_env/lib/python3.11/site-packages/ax/core/data.py:288: FutureWarning: The behavior of DataFrame concatenation with empty or all-NA entries is deprecated. In a future version, this will no longer exclude empty or all-NA columns when determining the result dtypes. To retain the old behavior, exclude the relevant entries before the concat operation.\n",
      "  return cls(df=pd.concat(dfs, axis=0, sort=True))\n",
      "[WARNING 10-29 17:11:41] ax.service.utils.report_utils: Column reason missing for all trials. Not appending column.\n",
      "[INFO 10-29 17:11:41] ax.service.ax_client: Completed trial 11 with data: {'t1': (58.766743, None)}.\n",
      "[INFO 10-29 17:11:41] ax.service.ax_client: Saved JSON-serialized state of optimization to `/Users/thomasdodd/Library/CloudStorage/OneDrive-MillfieldEnterprisesLimited/Cambridge/GitHub/BO4ACST/Notebooks/Optimisation/Method20241028Dim2_qKnowledgeGradient/AxExperiment.json`.\n",
      "[WARNING 10-29 17:11:41] ax.service.utils.report_utils: Column reason missing for all trials. Not appending column.\n",
      "[WARNING 10-29 17:11:41] ax.service.utils.report_utils: Column reason missing for all trials. Not appending column.\n"
     ]
    },
    {
     "name": "stdout",
     "output_type": "stream",
     "text": [
      "There are no trials currently running - initialising Bayesian iteration trials.\n"
     ]
    },
    {
     "name": "stderr",
     "output_type": "stream",
     "text": [
      "[INFO 10-29 17:11:42] ax.service.ax_client: Generated new trial 12 with parameters {'x1': -4.472492, 'x2': 6.91752} using model BoTorch.\n",
      "[INFO 10-29 17:11:42] ax.service.ax_client: Saved JSON-serialized state of optimization to `/Users/thomasdodd/Library/CloudStorage/OneDrive-MillfieldEnterprisesLimited/Cambridge/GitHub/BO4ACST/Notebooks/Optimisation/Method20241028Dim2_qKnowledgeGradient/AxExperiment.json`.\n",
      "/Users/thomasdodd/miniconda3/envs/BO4ACST_env/lib/python3.11/site-packages/ax/core/data.py:288: FutureWarning: The behavior of DataFrame concatenation with empty or all-NA entries is deprecated. In a future version, this will no longer exclude empty or all-NA columns when determining the result dtypes. To retain the old behavior, exclude the relevant entries before the concat operation.\n",
      "  return cls(df=pd.concat(dfs, axis=0, sort=True))\n",
      "[WARNING 10-29 17:11:42] ax.service.utils.report_utils: Column reason missing for all trials. Not appending column.\n",
      "/Users/thomasdodd/miniconda3/envs/BO4ACST_env/lib/python3.11/site-packages/ax/core/data.py:288: FutureWarning: The behavior of DataFrame concatenation with empty or all-NA entries is deprecated. In a future version, this will no longer exclude empty or all-NA columns when determining the result dtypes. To retain the old behavior, exclude the relevant entries before the concat operation.\n",
      "  return cls(df=pd.concat(dfs, axis=0, sort=True))\n",
      "[WARNING 10-29 17:11:42] ax.service.utils.report_utils: Column reason missing for all trials. Not appending column.\n",
      "[INFO 10-29 17:11:42] ax.service.ax_client: Completed trial 12 with data: {'t1': (54.966878, None)}.\n",
      "[INFO 10-29 17:11:42] ax.service.ax_client: Saved JSON-serialized state of optimization to `/Users/thomasdodd/Library/CloudStorage/OneDrive-MillfieldEnterprisesLimited/Cambridge/GitHub/BO4ACST/Notebooks/Optimisation/Method20241028Dim2_qKnowledgeGradient/AxExperiment.json`.\n",
      "[WARNING 10-29 17:11:42] ax.service.utils.report_utils: Column reason missing for all trials. Not appending column.\n",
      "[WARNING 10-29 17:11:42] ax.service.utils.report_utils: Column reason missing for all trials. Not appending column.\n"
     ]
    },
    {
     "name": "stdout",
     "output_type": "stream",
     "text": [
      "There are no trials currently running - initialising Bayesian iteration trials.\n"
     ]
    },
    {
     "name": "stderr",
     "output_type": "stream",
     "text": [
      "[INFO 10-29 17:11:44] ax.service.ax_client: Generated new trial 13 with parameters {'x1': 4.448307, 'x2': -2.531531} using model BoTorch.\n",
      "[INFO 10-29 17:11:44] ax.service.ax_client: Saved JSON-serialized state of optimization to `/Users/thomasdodd/Library/CloudStorage/OneDrive-MillfieldEnterprisesLimited/Cambridge/GitHub/BO4ACST/Notebooks/Optimisation/Method20241028Dim2_qKnowledgeGradient/AxExperiment.json`.\n",
      "/Users/thomasdodd/miniconda3/envs/BO4ACST_env/lib/python3.11/site-packages/ax/core/data.py:288: FutureWarning: The behavior of DataFrame concatenation with empty or all-NA entries is deprecated. In a future version, this will no longer exclude empty or all-NA columns when determining the result dtypes. To retain the old behavior, exclude the relevant entries before the concat operation.\n",
      "  return cls(df=pd.concat(dfs, axis=0, sort=True))\n",
      "[WARNING 10-29 17:11:44] ax.service.utils.report_utils: Column reason missing for all trials. Not appending column.\n",
      "/Users/thomasdodd/miniconda3/envs/BO4ACST_env/lib/python3.11/site-packages/ax/core/data.py:288: FutureWarning: The behavior of DataFrame concatenation with empty or all-NA entries is deprecated. In a future version, this will no longer exclude empty or all-NA columns when determining the result dtypes. To retain the old behavior, exclude the relevant entries before the concat operation.\n",
      "  return cls(df=pd.concat(dfs, axis=0, sort=True))\n",
      "[WARNING 10-29 17:11:44] ax.service.utils.report_utils: Column reason missing for all trials. Not appending column.\n",
      "[INFO 10-29 17:11:44] ax.service.ax_client: Completed trial 13 with data: {'t1': (59.847937, None)}.\n",
      "[INFO 10-29 17:11:44] ax.service.ax_client: Saved JSON-serialized state of optimization to `/Users/thomasdodd/Library/CloudStorage/OneDrive-MillfieldEnterprisesLimited/Cambridge/GitHub/BO4ACST/Notebooks/Optimisation/Method20241028Dim2_qKnowledgeGradient/AxExperiment.json`.\n",
      "[WARNING 10-29 17:11:44] ax.service.utils.report_utils: Column reason missing for all trials. Not appending column.\n",
      "[WARNING 10-29 17:11:44] ax.service.utils.report_utils: Column reason missing for all trials. Not appending column.\n"
     ]
    },
    {
     "name": "stdout",
     "output_type": "stream",
     "text": [
      "There are no trials currently running - initialising Bayesian iteration trials.\n"
     ]
    },
    {
     "name": "stderr",
     "output_type": "stream",
     "text": [
      "[INFO 10-29 17:11:45] ax.service.ax_client: Generated new trial 14 with parameters {'x1': -0.81784, 'x2': 6.681859} using model BoTorch.\n",
      "[INFO 10-29 17:11:45] ax.service.ax_client: Saved JSON-serialized state of optimization to `/Users/thomasdodd/Library/CloudStorage/OneDrive-MillfieldEnterprisesLimited/Cambridge/GitHub/BO4ACST/Notebooks/Optimisation/Method20241028Dim2_qKnowledgeGradient/AxExperiment.json`.\n",
      "/Users/thomasdodd/miniconda3/envs/BO4ACST_env/lib/python3.11/site-packages/ax/core/data.py:288: FutureWarning: The behavior of DataFrame concatenation with empty or all-NA entries is deprecated. In a future version, this will no longer exclude empty or all-NA columns when determining the result dtypes. To retain the old behavior, exclude the relevant entries before the concat operation.\n",
      "  return cls(df=pd.concat(dfs, axis=0, sort=True))\n",
      "[WARNING 10-29 17:11:45] ax.service.utils.report_utils: Column reason missing for all trials. Not appending column.\n",
      "/Users/thomasdodd/miniconda3/envs/BO4ACST_env/lib/python3.11/site-packages/ax/core/data.py:288: FutureWarning: The behavior of DataFrame concatenation with empty or all-NA entries is deprecated. In a future version, this will no longer exclude empty or all-NA columns when determining the result dtypes. To retain the old behavior, exclude the relevant entries before the concat operation.\n",
      "  return cls(df=pd.concat(dfs, axis=0, sort=True))\n",
      "[WARNING 10-29 17:11:45] ax.service.utils.report_utils: Column reason missing for all trials. Not appending column.\n",
      "[INFO 10-29 17:11:45] ax.service.ax_client: Completed trial 14 with data: {'t1': (30.758898, None)}.\n",
      "[INFO 10-29 17:11:45] ax.service.ax_client: Saved JSON-serialized state of optimization to `/Users/thomasdodd/Library/CloudStorage/OneDrive-MillfieldEnterprisesLimited/Cambridge/GitHub/BO4ACST/Notebooks/Optimisation/Method20241028Dim2_qKnowledgeGradient/AxExperiment.json`.\n",
      "[WARNING 10-29 17:11:45] ax.service.utils.report_utils: Column reason missing for all trials. Not appending column.\n",
      "[WARNING 10-29 17:11:45] ax.service.utils.report_utils: Column reason missing for all trials. Not appending column.\n"
     ]
    },
    {
     "name": "stdout",
     "output_type": "stream",
     "text": [
      "There are no trials currently running - initialising Bayesian iteration trials.\n"
     ]
    },
    {
     "name": "stderr",
     "output_type": "stream",
     "text": [
      "[INFO 10-29 17:11:47] ax.service.ax_client: Generated new trial 15 with parameters {'x1': 5.570388, 'x2': 0.244946} using model BoTorch.\n",
      "[INFO 10-29 17:11:47] ax.service.ax_client: Saved JSON-serialized state of optimization to `/Users/thomasdodd/Library/CloudStorage/OneDrive-MillfieldEnterprisesLimited/Cambridge/GitHub/BO4ACST/Notebooks/Optimisation/Method20241028Dim2_qKnowledgeGradient/AxExperiment.json`.\n",
      "/Users/thomasdodd/miniconda3/envs/BO4ACST_env/lib/python3.11/site-packages/ax/core/data.py:288: FutureWarning: The behavior of DataFrame concatenation with empty or all-NA entries is deprecated. In a future version, this will no longer exclude empty or all-NA columns when determining the result dtypes. To retain the old behavior, exclude the relevant entries before the concat operation.\n",
      "  return cls(df=pd.concat(dfs, axis=0, sort=True))\n",
      "[WARNING 10-29 17:11:47] ax.service.utils.report_utils: Column reason missing for all trials. Not appending column.\n",
      "/Users/thomasdodd/miniconda3/envs/BO4ACST_env/lib/python3.11/site-packages/ax/core/data.py:288: FutureWarning: The behavior of DataFrame concatenation with empty or all-NA entries is deprecated. In a future version, this will no longer exclude empty or all-NA columns when determining the result dtypes. To retain the old behavior, exclude the relevant entries before the concat operation.\n",
      "  return cls(df=pd.concat(dfs, axis=0, sort=True))\n",
      "[WARNING 10-29 17:11:47] ax.service.utils.report_utils: Column reason missing for all trials. Not appending column.\n",
      "[INFO 10-29 17:11:47] ax.service.ax_client: Completed trial 15 with data: {'t1': (41.660512, None)}.\n",
      "[INFO 10-29 17:11:47] ax.service.ax_client: Saved JSON-serialized state of optimization to `/Users/thomasdodd/Library/CloudStorage/OneDrive-MillfieldEnterprisesLimited/Cambridge/GitHub/BO4ACST/Notebooks/Optimisation/Method20241028Dim2_qKnowledgeGradient/AxExperiment.json`.\n",
      "[WARNING 10-29 17:11:47] ax.service.utils.report_utils: Column reason missing for all trials. Not appending column.\n",
      "[WARNING 10-29 17:11:47] ax.service.utils.report_utils: Column reason missing for all trials. Not appending column.\n"
     ]
    },
    {
     "name": "stdout",
     "output_type": "stream",
     "text": [
      "There are no trials currently running - initialising Bayesian iteration trials.\n"
     ]
    },
    {
     "name": "stderr",
     "output_type": "stream",
     "text": [
      "[INFO 10-29 17:12:51] ax.service.ax_client: Generated new trial 16 with parameters {'x1': 0.925815, 'x2': 6.707321} using model BoTorch.\n",
      "[INFO 10-29 17:12:51] ax.service.ax_client: Saved JSON-serialized state of optimization to `/Users/thomasdodd/Library/CloudStorage/OneDrive-MillfieldEnterprisesLimited/Cambridge/GitHub/BO4ACST/Notebooks/Optimisation/Method20241028Dim2_qKnowledgeGradient/AxExperiment.json`.\n",
      "/Users/thomasdodd/miniconda3/envs/BO4ACST_env/lib/python3.11/site-packages/ax/core/data.py:288: FutureWarning: The behavior of DataFrame concatenation with empty or all-NA entries is deprecated. In a future version, this will no longer exclude empty or all-NA columns when determining the result dtypes. To retain the old behavior, exclude the relevant entries before the concat operation.\n",
      "  return cls(df=pd.concat(dfs, axis=0, sort=True))\n",
      "[WARNING 10-29 17:12:51] ax.service.utils.report_utils: Column reason missing for all trials. Not appending column.\n",
      "/Users/thomasdodd/miniconda3/envs/BO4ACST_env/lib/python3.11/site-packages/ax/core/data.py:288: FutureWarning: The behavior of DataFrame concatenation with empty or all-NA entries is deprecated. In a future version, this will no longer exclude empty or all-NA columns when determining the result dtypes. To retain the old behavior, exclude the relevant entries before the concat operation.\n",
      "  return cls(df=pd.concat(dfs, axis=0, sort=True))\n",
      "[WARNING 10-29 17:12:51] ax.service.utils.report_utils: Column reason missing for all trials. Not appending column.\n",
      "[INFO 10-29 17:12:51] ax.service.ax_client: Completed trial 16 with data: {'t1': (66.548451, None)}.\n",
      "[INFO 10-29 17:12:51] ax.service.ax_client: Saved JSON-serialized state of optimization to `/Users/thomasdodd/Library/CloudStorage/OneDrive-MillfieldEnterprisesLimited/Cambridge/GitHub/BO4ACST/Notebooks/Optimisation/Method20241028Dim2_qKnowledgeGradient/AxExperiment.json`.\n",
      "[WARNING 10-29 17:12:51] ax.service.utils.report_utils: Column reason missing for all trials. Not appending column.\n",
      "[WARNING 10-29 17:12:51] ax.service.utils.report_utils: Column reason missing for all trials. Not appending column.\n"
     ]
    },
    {
     "name": "stdout",
     "output_type": "stream",
     "text": [
      "There are no trials currently running - initialising Bayesian iteration trials.\n"
     ]
    },
    {
     "name": "stderr",
     "output_type": "stream",
     "text": [
      "[INFO 10-29 17:14:10] ax.service.ax_client: Generated new trial 17 with parameters {'x1': 3.183377, 'x2': -1.105881} using model BoTorch.\n",
      "[INFO 10-29 17:14:10] ax.service.ax_client: Saved JSON-serialized state of optimization to `/Users/thomasdodd/Library/CloudStorage/OneDrive-MillfieldEnterprisesLimited/Cambridge/GitHub/BO4ACST/Notebooks/Optimisation/Method20241028Dim2_qKnowledgeGradient/AxExperiment.json`.\n",
      "/Users/thomasdodd/miniconda3/envs/BO4ACST_env/lib/python3.11/site-packages/ax/core/data.py:288: FutureWarning: The behavior of DataFrame concatenation with empty or all-NA entries is deprecated. In a future version, this will no longer exclude empty or all-NA columns when determining the result dtypes. To retain the old behavior, exclude the relevant entries before the concat operation.\n",
      "  return cls(df=pd.concat(dfs, axis=0, sort=True))\n",
      "[WARNING 10-29 17:14:10] ax.service.utils.report_utils: Column reason missing for all trials. Not appending column.\n",
      "/Users/thomasdodd/miniconda3/envs/BO4ACST_env/lib/python3.11/site-packages/ax/core/data.py:288: FutureWarning: The behavior of DataFrame concatenation with empty or all-NA entries is deprecated. In a future version, this will no longer exclude empty or all-NA columns when determining the result dtypes. To retain the old behavior, exclude the relevant entries before the concat operation.\n",
      "  return cls(df=pd.concat(dfs, axis=0, sort=True))\n",
      "[WARNING 10-29 17:14:10] ax.service.utils.report_utils: Column reason missing for all trials. Not appending column.\n",
      "[INFO 10-29 17:14:10] ax.service.ax_client: Completed trial 17 with data: {'t1': (36.409491, None)}.\n",
      "[INFO 10-29 17:14:10] ax.service.ax_client: Saved JSON-serialized state of optimization to `/Users/thomasdodd/Library/CloudStorage/OneDrive-MillfieldEnterprisesLimited/Cambridge/GitHub/BO4ACST/Notebooks/Optimisation/Method20241028Dim2_qKnowledgeGradient/AxExperiment.json`.\n",
      "[WARNING 10-29 17:14:10] ax.service.utils.report_utils: Column reason missing for all trials. Not appending column.\n",
      "[WARNING 10-29 17:14:10] ax.service.utils.report_utils: Column reason missing for all trials. Not appending column.\n"
     ]
    },
    {
     "name": "stdout",
     "output_type": "stream",
     "text": [
      "There are no trials currently running - initialising Bayesian iteration trials.\n"
     ]
    },
    {
     "name": "stderr",
     "output_type": "stream",
     "text": [
      "[INFO 10-29 17:15:22] ax.service.ax_client: Generated new trial 18 with parameters {'x1': -2.621557, 'x2': 4.140242} using model BoTorch.\n",
      "[INFO 10-29 17:15:22] ax.service.ax_client: Saved JSON-serialized state of optimization to `/Users/thomasdodd/Library/CloudStorage/OneDrive-MillfieldEnterprisesLimited/Cambridge/GitHub/BO4ACST/Notebooks/Optimisation/Method20241028Dim2_qKnowledgeGradient/AxExperiment.json`.\n",
      "/Users/thomasdodd/miniconda3/envs/BO4ACST_env/lib/python3.11/site-packages/ax/core/data.py:288: FutureWarning: The behavior of DataFrame concatenation with empty or all-NA entries is deprecated. In a future version, this will no longer exclude empty or all-NA columns when determining the result dtypes. To retain the old behavior, exclude the relevant entries before the concat operation.\n",
      "  return cls(df=pd.concat(dfs, axis=0, sort=True))\n",
      "[WARNING 10-29 17:15:22] ax.service.utils.report_utils: Column reason missing for all trials. Not appending column.\n",
      "/Users/thomasdodd/miniconda3/envs/BO4ACST_env/lib/python3.11/site-packages/ax/core/data.py:288: FutureWarning: The behavior of DataFrame concatenation with empty or all-NA entries is deprecated. In a future version, this will no longer exclude empty or all-NA columns when determining the result dtypes. To retain the old behavior, exclude the relevant entries before the concat operation.\n",
      "  return cls(df=pd.concat(dfs, axis=0, sort=True))\n",
      "[WARNING 10-29 17:15:22] ax.service.utils.report_utils: Column reason missing for all trials. Not appending column.\n",
      "[INFO 10-29 17:15:22] ax.service.ax_client: Completed trial 18 with data: {'t1': (39.043542, None)}.\n",
      "[INFO 10-29 17:15:22] ax.service.ax_client: Saved JSON-serialized state of optimization to `/Users/thomasdodd/Library/CloudStorage/OneDrive-MillfieldEnterprisesLimited/Cambridge/GitHub/BO4ACST/Notebooks/Optimisation/Method20241028Dim2_qKnowledgeGradient/AxExperiment.json`.\n",
      "[WARNING 10-29 17:15:22] ax.service.utils.report_utils: Column reason missing for all trials. Not appending column.\n",
      "[WARNING 10-29 17:15:22] ax.service.utils.report_utils: Column reason missing for all trials. Not appending column.\n"
     ]
    },
    {
     "name": "stdout",
     "output_type": "stream",
     "text": [
      "There are no trials currently running - initialising Bayesian iteration trials.\n"
     ]
    },
    {
     "name": "stderr",
     "output_type": "stream",
     "text": [
      "[INFO 10-29 17:15:58] ax.service.ax_client: Generated new trial 19 with parameters {'x1': 5.200568, 'x2': 1.411336} using model BoTorch.\n",
      "[INFO 10-29 17:15:58] ax.service.ax_client: Saved JSON-serialized state of optimization to `/Users/thomasdodd/Library/CloudStorage/OneDrive-MillfieldEnterprisesLimited/Cambridge/GitHub/BO4ACST/Notebooks/Optimisation/Method20241028Dim2_qKnowledgeGradient/AxExperiment.json`.\n",
      "/Users/thomasdodd/miniconda3/envs/BO4ACST_env/lib/python3.11/site-packages/ax/core/data.py:288: FutureWarning: The behavior of DataFrame concatenation with empty or all-NA entries is deprecated. In a future version, this will no longer exclude empty or all-NA columns when determining the result dtypes. To retain the old behavior, exclude the relevant entries before the concat operation.\n",
      "  return cls(df=pd.concat(dfs, axis=0, sort=True))\n",
      "[WARNING 10-29 17:15:58] ax.service.utils.report_utils: Column reason missing for all trials. Not appending column.\n",
      "/Users/thomasdodd/miniconda3/envs/BO4ACST_env/lib/python3.11/site-packages/ax/core/data.py:288: FutureWarning: The behavior of DataFrame concatenation with empty or all-NA entries is deprecated. In a future version, this will no longer exclude empty or all-NA columns when determining the result dtypes. To retain the old behavior, exclude the relevant entries before the concat operation.\n",
      "  return cls(df=pd.concat(dfs, axis=0, sort=True))\n",
      "[WARNING 10-29 17:15:58] ax.service.utils.report_utils: Column reason missing for all trials. Not appending column.\n",
      "[INFO 10-29 17:15:58] ax.service.ax_client: Completed trial 19 with data: {'t1': (47.456802, None)}.\n",
      "[INFO 10-29 17:15:58] ax.service.ax_client: Saved JSON-serialized state of optimization to `/Users/thomasdodd/Library/CloudStorage/OneDrive-MillfieldEnterprisesLimited/Cambridge/GitHub/BO4ACST/Notebooks/Optimisation/Method20241028Dim2_qKnowledgeGradient/AxExperiment.json`.\n",
      "[WARNING 10-29 17:15:58] ax.service.utils.report_utils: Column reason missing for all trials. Not appending column.\n",
      "[WARNING 10-29 17:15:58] ax.service.utils.report_utils: Column reason missing for all trials. Not appending column.\n"
     ]
    },
    {
     "name": "stdout",
     "output_type": "stream",
     "text": [
      "There are no trials currently running - initialising Bayesian iteration trials.\n"
     ]
    },
    {
     "name": "stderr",
     "output_type": "stream",
     "text": [
      "[INFO 10-29 17:16:28] ax.service.ax_client: Generated new trial 20 with parameters {'x1': -0.039417, 'x2': 5.695047} using model BoTorch.\n",
      "[INFO 10-29 17:16:28] ax.service.ax_client: Saved JSON-serialized state of optimization to `/Users/thomasdodd/Library/CloudStorage/OneDrive-MillfieldEnterprisesLimited/Cambridge/GitHub/BO4ACST/Notebooks/Optimisation/Method20241028Dim2_qKnowledgeGradient/AxExperiment.json`.\n",
      "/Users/thomasdodd/miniconda3/envs/BO4ACST_env/lib/python3.11/site-packages/ax/core/data.py:288: FutureWarning: The behavior of DataFrame concatenation with empty or all-NA entries is deprecated. In a future version, this will no longer exclude empty or all-NA columns when determining the result dtypes. To retain the old behavior, exclude the relevant entries before the concat operation.\n",
      "  return cls(df=pd.concat(dfs, axis=0, sort=True))\n",
      "[WARNING 10-29 17:16:28] ax.service.utils.report_utils: Column reason missing for all trials. Not appending column.\n",
      "/Users/thomasdodd/miniconda3/envs/BO4ACST_env/lib/python3.11/site-packages/ax/core/data.py:288: FutureWarning: The behavior of DataFrame concatenation with empty or all-NA entries is deprecated. In a future version, this will no longer exclude empty or all-NA columns when determining the result dtypes. To retain the old behavior, exclude the relevant entries before the concat operation.\n",
      "  return cls(df=pd.concat(dfs, axis=0, sort=True))\n",
      "[WARNING 10-29 17:16:28] ax.service.utils.report_utils: Column reason missing for all trials. Not appending column.\n",
      "[INFO 10-29 17:16:28] ax.service.ax_client: Completed trial 20 with data: {'t1': (19.308105, None)}.\n",
      "[INFO 10-29 17:16:28] ax.service.ax_client: Saved JSON-serialized state of optimization to `/Users/thomasdodd/Library/CloudStorage/OneDrive-MillfieldEnterprisesLimited/Cambridge/GitHub/BO4ACST/Notebooks/Optimisation/Method20241028Dim2_qKnowledgeGradient/AxExperiment.json`.\n",
      "[WARNING 10-29 17:16:28] ax.service.utils.report_utils: Column reason missing for all trials. Not appending column.\n",
      "[WARNING 10-29 17:16:28] ax.service.utils.report_utils: Column reason missing for all trials. Not appending column.\n"
     ]
    },
    {
     "name": "stdout",
     "output_type": "stream",
     "text": [
      "There are no trials currently running - initialising Bayesian iteration trials.\n"
     ]
    },
    {
     "name": "stderr",
     "output_type": "stream",
     "text": [
      "[INFO 10-29 17:16:50] ax.service.ax_client: Generated new trial 21 with parameters {'x1': 2.750509, 'x2': -0.856095} using model BoTorch.\n",
      "[INFO 10-29 17:16:50] ax.service.ax_client: Saved JSON-serialized state of optimization to `/Users/thomasdodd/Library/CloudStorage/OneDrive-MillfieldEnterprisesLimited/Cambridge/GitHub/BO4ACST/Notebooks/Optimisation/Method20241028Dim2_qKnowledgeGradient/AxExperiment.json`.\n",
      "/Users/thomasdodd/miniconda3/envs/BO4ACST_env/lib/python3.11/site-packages/ax/core/data.py:288: FutureWarning: The behavior of DataFrame concatenation with empty or all-NA entries is deprecated. In a future version, this will no longer exclude empty or all-NA columns when determining the result dtypes. To retain the old behavior, exclude the relevant entries before the concat operation.\n",
      "  return cls(df=pd.concat(dfs, axis=0, sort=True))\n",
      "[WARNING 10-29 17:16:50] ax.service.utils.report_utils: Column reason missing for all trials. Not appending column.\n",
      "/Users/thomasdodd/miniconda3/envs/BO4ACST_env/lib/python3.11/site-packages/ax/core/data.py:288: FutureWarning: The behavior of DataFrame concatenation with empty or all-NA entries is deprecated. In a future version, this will no longer exclude empty or all-NA columns when determining the result dtypes. To retain the old behavior, exclude the relevant entries before the concat operation.\n",
      "  return cls(df=pd.concat(dfs, axis=0, sort=True))\n",
      "[WARNING 10-29 17:16:50] ax.service.utils.report_utils: Column reason missing for all trials. Not appending column.\n",
      "[INFO 10-29 17:16:50] ax.service.ax_client: Completed trial 21 with data: {'t1': (35.667716, None)}.\n",
      "[INFO 10-29 17:16:50] ax.service.ax_client: Saved JSON-serialized state of optimization to `/Users/thomasdodd/Library/CloudStorage/OneDrive-MillfieldEnterprisesLimited/Cambridge/GitHub/BO4ACST/Notebooks/Optimisation/Method20241028Dim2_qKnowledgeGradient/AxExperiment.json`.\n",
      "[WARNING 10-29 17:16:50] ax.service.utils.report_utils: Column reason missing for all trials. Not appending column.\n",
      "[WARNING 10-29 17:16:50] ax.service.utils.report_utils: Column reason missing for all trials. Not appending column.\n"
     ]
    },
    {
     "name": "stdout",
     "output_type": "stream",
     "text": [
      "There are no trials currently running - initialising Bayesian iteration trials.\n"
     ]
    },
    {
     "name": "stderr",
     "output_type": "stream",
     "text": [
      "[INFO 10-29 17:17:08] ax.service.ax_client: Generated new trial 22 with parameters {'x1': -1.986188, 'x2': 3.405359} using model BoTorch.\n",
      "[INFO 10-29 17:17:08] ax.service.ax_client: Saved JSON-serialized state of optimization to `/Users/thomasdodd/Library/CloudStorage/OneDrive-MillfieldEnterprisesLimited/Cambridge/GitHub/BO4ACST/Notebooks/Optimisation/Method20241028Dim2_qKnowledgeGradient/AxExperiment.json`.\n",
      "/Users/thomasdodd/miniconda3/envs/BO4ACST_env/lib/python3.11/site-packages/ax/core/data.py:288: FutureWarning: The behavior of DataFrame concatenation with empty or all-NA entries is deprecated. In a future version, this will no longer exclude empty or all-NA columns when determining the result dtypes. To retain the old behavior, exclude the relevant entries before the concat operation.\n",
      "  return cls(df=pd.concat(dfs, axis=0, sort=True))\n",
      "[WARNING 10-29 17:17:08] ax.service.utils.report_utils: Column reason missing for all trials. Not appending column.\n",
      "/Users/thomasdodd/miniconda3/envs/BO4ACST_env/lib/python3.11/site-packages/ax/core/data.py:288: FutureWarning: The behavior of DataFrame concatenation with empty or all-NA entries is deprecated. In a future version, this will no longer exclude empty or all-NA columns when determining the result dtypes. To retain the old behavior, exclude the relevant entries before the concat operation.\n",
      "  return cls(df=pd.concat(dfs, axis=0, sort=True))\n",
      "[WARNING 10-29 17:17:08] ax.service.utils.report_utils: Column reason missing for all trials. Not appending column.\n",
      "[INFO 10-29 17:17:08] ax.service.ax_client: Completed trial 22 with data: {'t1': (35.724352, None)}.\n",
      "[INFO 10-29 17:17:08] ax.service.ax_client: Saved JSON-serialized state of optimization to `/Users/thomasdodd/Library/CloudStorage/OneDrive-MillfieldEnterprisesLimited/Cambridge/GitHub/BO4ACST/Notebooks/Optimisation/Method20241028Dim2_qKnowledgeGradient/AxExperiment.json`.\n",
      "[WARNING 10-29 17:17:08] ax.service.utils.report_utils: Column reason missing for all trials. Not appending column.\n",
      "[WARNING 10-29 17:17:08] ax.service.utils.report_utils: Column reason missing for all trials. Not appending column.\n"
     ]
    },
    {
     "name": "stdout",
     "output_type": "stream",
     "text": [
      "There are no trials currently running - initialising Bayesian iteration trials.\n"
     ]
    },
    {
     "name": "stderr",
     "output_type": "stream",
     "text": [
      "[INFO 10-29 17:18:39] ax.service.ax_client: Generated new trial 23 with parameters {'x1': -7.807432, 'x2': 8.71015} using model BoTorch.\n",
      "[INFO 10-29 17:18:39] ax.service.ax_client: Saved JSON-serialized state of optimization to `/Users/thomasdodd/Library/CloudStorage/OneDrive-MillfieldEnterprisesLimited/Cambridge/GitHub/BO4ACST/Notebooks/Optimisation/Method20241028Dim2_qKnowledgeGradient/AxExperiment.json`.\n",
      "/Users/thomasdodd/miniconda3/envs/BO4ACST_env/lib/python3.11/site-packages/ax/core/data.py:288: FutureWarning: The behavior of DataFrame concatenation with empty or all-NA entries is deprecated. In a future version, this will no longer exclude empty or all-NA columns when determining the result dtypes. To retain the old behavior, exclude the relevant entries before the concat operation.\n",
      "  return cls(df=pd.concat(dfs, axis=0, sort=True))\n",
      "[WARNING 10-29 17:18:39] ax.service.utils.report_utils: Column reason missing for all trials. Not appending column.\n",
      "/Users/thomasdodd/miniconda3/envs/BO4ACST_env/lib/python3.11/site-packages/ax/core/data.py:288: FutureWarning: The behavior of DataFrame concatenation with empty or all-NA entries is deprecated. In a future version, this will no longer exclude empty or all-NA columns when determining the result dtypes. To retain the old behavior, exclude the relevant entries before the concat operation.\n",
      "  return cls(df=pd.concat(dfs, axis=0, sort=True))\n",
      "[WARNING 10-29 17:18:39] ax.service.utils.report_utils: Column reason missing for all trials. Not appending column.\n",
      "[INFO 10-29 17:18:39] ax.service.ax_client: Completed trial 23 with data: {'t1': (148.549278, None)}.\n",
      "[INFO 10-29 17:18:39] ax.service.ax_client: Saved JSON-serialized state of optimization to `/Users/thomasdodd/Library/CloudStorage/OneDrive-MillfieldEnterprisesLimited/Cambridge/GitHub/BO4ACST/Notebooks/Optimisation/Method20241028Dim2_qKnowledgeGradient/AxExperiment.json`.\n",
      "[WARNING 10-29 17:18:39] ax.service.utils.report_utils: Column reason missing for all trials. Not appending column.\n",
      "[INFO 10-29 17:18:39] ax.service.ax_client: Starting optimization with verbose logging. To disable logging, set the `verbose_logging` argument to `False`. Note that float values in the logs are rounded to 6 decimal points.\n",
      "[INFO 10-29 17:18:39] ax.service.utils.instantiation: Created search space: SearchSpace(parameters=[RangeParameter(name='x1', parameter_type=FLOAT, range=[-10.0, 10.0]), RangeParameter(name='x2', parameter_type=FLOAT, range=[-10.0, 10.0])], parameter_constraints=[]).\n",
      "[INFO 10-29 17:18:39] ax.service.ax_client: Saved JSON-serialized state of optimization to `/Users/thomasdodd/Library/CloudStorage/OneDrive-MillfieldEnterprisesLimited/Cambridge/GitHub/BO4ACST/Notebooks/Optimisation/Method20241028Dim2_qKnowledgeGradient/AxExperiment.json`.\n",
      "[INFO 10-29 17:18:39] ax.core.experiment: Attached custom parameterizations [{'x1': -10.0, 'x2': -10.0}] as trial 0.\n",
      "[INFO 10-29 17:18:39] ax.core.experiment: Attached custom parameterizations [{'x1': 0.0, 'x2': -10.0}] as trial 1.\n",
      "[INFO 10-29 17:18:39] ax.core.experiment: Attached custom parameterizations [{'x1': 10.0, 'x2': -10.0}] as trial 2.\n",
      "[INFO 10-29 17:18:39] ax.core.experiment: Attached custom parameterizations [{'x1': -10.0, 'x2': 0.0}] as trial 3.\n",
      "[INFO 10-29 17:18:39] ax.core.experiment: Attached custom parameterizations [{'x1': 0.0, 'x2': 0.0}] as trial 4.\n",
      "[INFO 10-29 17:18:39] ax.core.experiment: Attached custom parameterizations [{'x1': 10.0, 'x2': 0.0}] as trial 5.\n",
      "[INFO 10-29 17:18:39] ax.core.experiment: Attached custom parameterizations [{'x1': -10.0, 'x2': 10.0}] as trial 6.\n",
      "[INFO 10-29 17:18:39] ax.core.experiment: Attached custom parameterizations [{'x1': 0.0, 'x2': 10.0}] as trial 7.\n",
      "[INFO 10-29 17:18:39] ax.core.experiment: Attached custom parameterizations [{'x1': 10.0, 'x2': 10.0}] as trial 8.\n",
      "[INFO 10-29 17:18:39] ax.service.ax_client: Saved JSON-serialized state of optimization to `/Users/thomasdodd/Library/CloudStorage/OneDrive-MillfieldEnterprisesLimited/Cambridge/GitHub/BO4ACST/Notebooks/Optimisation/Method20241028Dim2_qKnowledgeGradient/AxExperiment.json`.\n",
      "[WARNING 10-29 17:18:39] ax.service.utils.report_utils: Column reason missing for all trials. Not appending column.\n",
      "[INFO 10-29 17:18:39] ax.service.utils.report_utils: No results present for the specified metrics `[Metric('t1')]`. Returning arm parameters and metadata only.\n",
      "[WARNING 10-29 17:18:39] ax.service.utils.report_utils: Column reason missing for all trials. Not appending column.\n",
      "[INFO 10-29 17:18:39] ax.service.utils.report_utils: No results present for the specified metrics `[Metric('t1')]`. Returning arm parameters and metadata only.\n",
      "[INFO 10-29 17:18:39] ax.service.ax_client: Completed trial 0 with data: {'t1': (2594.0, None)}.\n",
      "[INFO 10-29 17:18:39] ax.service.ax_client: Saved JSON-serialized state of optimization to `/Users/thomasdodd/Library/CloudStorage/OneDrive-MillfieldEnterprisesLimited/Cambridge/GitHub/BO4ACST/Notebooks/Optimisation/Method20241028Dim2_qKnowledgeGradient/AxExperiment.json`.\n",
      "[INFO 10-29 17:18:39] ax.service.ax_client: Completed trial 1 with data: {'t1': (954.0, None)}.\n",
      "[INFO 10-29 17:18:39] ax.service.ax_client: Saved JSON-serialized state of optimization to `/Users/thomasdodd/Library/CloudStorage/OneDrive-MillfieldEnterprisesLimited/Cambridge/GitHub/BO4ACST/Notebooks/Optimisation/Method20241028Dim2_qKnowledgeGradient/AxExperiment.json`.\n",
      "[INFO 10-29 17:18:39] ax.service.ax_client: Completed trial 2 with data: {'t1': (314.0, None)}.\n",
      "[INFO 10-29 17:18:39] ax.service.ax_client: Saved JSON-serialized state of optimization to `/Users/thomasdodd/Library/CloudStorage/OneDrive-MillfieldEnterprisesLimited/Cambridge/GitHub/BO4ACST/Notebooks/Optimisation/Method20241028Dim2_qKnowledgeGradient/AxExperiment.json`.\n",
      "[INFO 10-29 17:18:39] ax.service.ax_client: Completed trial 3 with data: {'t1': (914.0, None)}.\n",
      "[INFO 10-29 17:18:39] ax.service.ax_client: Saved JSON-serialized state of optimization to `/Users/thomasdodd/Library/CloudStorage/OneDrive-MillfieldEnterprisesLimited/Cambridge/GitHub/BO4ACST/Notebooks/Optimisation/Method20241028Dim2_qKnowledgeGradient/AxExperiment.json`.\n",
      "[INFO 10-29 17:18:39] ax.service.ax_client: Completed trial 4 with data: {'t1': (74.0, None)}.\n",
      "[INFO 10-29 17:18:39] ax.service.ax_client: Saved JSON-serialized state of optimization to `/Users/thomasdodd/Library/CloudStorage/OneDrive-MillfieldEnterprisesLimited/Cambridge/GitHub/BO4ACST/Notebooks/Optimisation/Method20241028Dim2_qKnowledgeGradient/AxExperiment.json`.\n",
      "[INFO 10-29 17:18:39] ax.service.ax_client: Completed trial 5 with data: {'t1': (234.0, None)}.\n",
      "[INFO 10-29 17:18:39] ax.service.ax_client: Saved JSON-serialized state of optimization to `/Users/thomasdodd/Library/CloudStorage/OneDrive-MillfieldEnterprisesLimited/Cambridge/GitHub/BO4ACST/Notebooks/Optimisation/Method20241028Dim2_qKnowledgeGradient/AxExperiment.json`.\n",
      "[INFO 10-29 17:18:39] ax.service.ax_client: Completed trial 6 with data: {'t1': (234.0, None)}.\n",
      "[INFO 10-29 17:18:39] ax.service.ax_client: Saved JSON-serialized state of optimization to `/Users/thomasdodd/Library/CloudStorage/OneDrive-MillfieldEnterprisesLimited/Cambridge/GitHub/BO4ACST/Notebooks/Optimisation/Method20241028Dim2_qKnowledgeGradient/AxExperiment.json`.\n",
      "[INFO 10-29 17:18:39] ax.service.ax_client: Completed trial 7 with data: {'t1': (194.0, None)}.\n",
      "[INFO 10-29 17:18:39] ax.service.ax_client: Saved JSON-serialized state of optimization to `/Users/thomasdodd/Library/CloudStorage/OneDrive-MillfieldEnterprisesLimited/Cambridge/GitHub/BO4ACST/Notebooks/Optimisation/Method20241028Dim2_qKnowledgeGradient/AxExperiment.json`.\n",
      "[INFO 10-29 17:18:39] ax.service.ax_client: Completed trial 8 with data: {'t1': (1154.0, None)}.\n",
      "[INFO 10-29 17:18:39] ax.service.ax_client: Saved JSON-serialized state of optimization to `/Users/thomasdodd/Library/CloudStorage/OneDrive-MillfieldEnterprisesLimited/Cambridge/GitHub/BO4ACST/Notebooks/Optimisation/Method20241028Dim2_qKnowledgeGradient/AxExperiment.json`.\n",
      "[WARNING 10-29 17:18:39] ax.service.utils.report_utils: Column reason missing for all trials. Not appending column.\n",
      "[WARNING 10-29 17:18:39] ax.service.utils.report_utils: Column reason missing for all trials. Not appending column.\n"
     ]
    },
    {
     "name": "stdout",
     "output_type": "stream",
     "text": [
      "[74.         74.         74.         58.7667431  54.96687821 54.96687821\n",
      " 30.75889806 30.75889806 30.75889806 30.75889806 30.75889806 30.75889806\n",
      " 19.30810466 19.30810466 19.30810466 19.30810466]\n",
      "A new experiment has been created and initialised.\n",
      "No previous or current trials detected - initialising prior-forming trials.\n",
      "Samples gridded = 9\n",
      "There are no trials currently running - initialising Bayesian iteration trials.\n"
     ]
    },
    {
     "name": "stderr",
     "output_type": "stream",
     "text": [
      "[INFO 10-29 17:18:42] ax.service.ax_client: Generated new trial 9 with parameters {'x1': -4.37883, 'x2': 4.825385} using model BoTorch.\n",
      "[INFO 10-29 17:18:42] ax.service.ax_client: Saved JSON-serialized state of optimization to `/Users/thomasdodd/Library/CloudStorage/OneDrive-MillfieldEnterprisesLimited/Cambridge/GitHub/BO4ACST/Notebooks/Optimisation/Method20241028Dim2_qKnowledgeGradient/AxExperiment.json`.\n",
      "/Users/thomasdodd/miniconda3/envs/BO4ACST_env/lib/python3.11/site-packages/ax/core/data.py:288: FutureWarning: The behavior of DataFrame concatenation with empty or all-NA entries is deprecated. In a future version, this will no longer exclude empty or all-NA columns when determining the result dtypes. To retain the old behavior, exclude the relevant entries before the concat operation.\n",
      "  return cls(df=pd.concat(dfs, axis=0, sort=True))\n",
      "[WARNING 10-29 17:18:42] ax.service.utils.report_utils: Column reason missing for all trials. Not appending column.\n",
      "/Users/thomasdodd/miniconda3/envs/BO4ACST_env/lib/python3.11/site-packages/ax/core/data.py:288: FutureWarning: The behavior of DataFrame concatenation with empty or all-NA entries is deprecated. In a future version, this will no longer exclude empty or all-NA columns when determining the result dtypes. To retain the old behavior, exclude the relevant entries before the concat operation.\n",
      "  return cls(df=pd.concat(dfs, axis=0, sort=True))\n",
      "[WARNING 10-29 17:18:42] ax.service.utils.report_utils: Column reason missing for all trials. Not appending column.\n",
      "[INFO 10-29 17:18:42] ax.service.ax_client: Completed trial 9 with data: {'t1': (82.771706, None)}.\n",
      "[INFO 10-29 17:18:42] ax.service.ax_client: Saved JSON-serialized state of optimization to `/Users/thomasdodd/Library/CloudStorage/OneDrive-MillfieldEnterprisesLimited/Cambridge/GitHub/BO4ACST/Notebooks/Optimisation/Method20241028Dim2_qKnowledgeGradient/AxExperiment.json`.\n",
      "[WARNING 10-29 17:18:42] ax.service.utils.report_utils: Column reason missing for all trials. Not appending column.\n",
      "[WARNING 10-29 17:18:42] ax.service.utils.report_utils: Column reason missing for all trials. Not appending column.\n"
     ]
    },
    {
     "name": "stdout",
     "output_type": "stream",
     "text": [
      "There are no trials currently running - initialising Bayesian iteration trials.\n"
     ]
    },
    {
     "name": "stderr",
     "output_type": "stream",
     "text": [
      "[INFO 10-29 17:18:44] ax.service.ax_client: Generated new trial 10 with parameters {'x1': 5.968497, 'x2': -5.071526} using model BoTorch.\n",
      "[INFO 10-29 17:18:44] ax.service.ax_client: Saved JSON-serialized state of optimization to `/Users/thomasdodd/Library/CloudStorage/OneDrive-MillfieldEnterprisesLimited/Cambridge/GitHub/BO4ACST/Notebooks/Optimisation/Method20241028Dim2_qKnowledgeGradient/AxExperiment.json`.\n",
      "/Users/thomasdodd/miniconda3/envs/BO4ACST_env/lib/python3.11/site-packages/ax/core/data.py:288: FutureWarning: The behavior of DataFrame concatenation with empty or all-NA entries is deprecated. In a future version, this will no longer exclude empty or all-NA columns when determining the result dtypes. To retain the old behavior, exclude the relevant entries before the concat operation.\n",
      "  return cls(df=pd.concat(dfs, axis=0, sort=True))\n",
      "[WARNING 10-29 17:18:44] ax.service.utils.report_utils: Column reason missing for all trials. Not appending column.\n",
      "/Users/thomasdodd/miniconda3/envs/BO4ACST_env/lib/python3.11/site-packages/ax/core/data.py:288: FutureWarning: The behavior of DataFrame concatenation with empty or all-NA entries is deprecated. In a future version, this will no longer exclude empty or all-NA columns when determining the result dtypes. To retain the old behavior, exclude the relevant entries before the concat operation.\n",
      "  return cls(df=pd.concat(dfs, axis=0, sort=True))\n",
      "[WARNING 10-29 17:18:44] ax.service.utils.report_utils: Column reason missing for all trials. Not appending column.\n",
      "[INFO 10-29 17:18:44] ax.service.ax_client: Completed trial 10 with data: {'t1': (128.350667, None)}.\n",
      "[INFO 10-29 17:18:44] ax.service.ax_client: Saved JSON-serialized state of optimization to `/Users/thomasdodd/Library/CloudStorage/OneDrive-MillfieldEnterprisesLimited/Cambridge/GitHub/BO4ACST/Notebooks/Optimisation/Method20241028Dim2_qKnowledgeGradient/AxExperiment.json`.\n",
      "[WARNING 10-29 17:18:44] ax.service.utils.report_utils: Column reason missing for all trials. Not appending column.\n",
      "[WARNING 10-29 17:18:44] ax.service.utils.report_utils: Column reason missing for all trials. Not appending column.\n"
     ]
    },
    {
     "name": "stdout",
     "output_type": "stream",
     "text": [
      "There are no trials currently running - initialising Bayesian iteration trials.\n"
     ]
    },
    {
     "name": "stderr",
     "output_type": "stream",
     "text": [
      "[INFO 10-29 17:18:46] ax.service.ax_client: Generated new trial 11 with parameters {'x1': 4.524796, 'x2': 2.892136} using model BoTorch.\n",
      "[INFO 10-29 17:18:46] ax.service.ax_client: Saved JSON-serialized state of optimization to `/Users/thomasdodd/Library/CloudStorage/OneDrive-MillfieldEnterprisesLimited/Cambridge/GitHub/BO4ACST/Notebooks/Optimisation/Method20241028Dim2_qKnowledgeGradient/AxExperiment.json`.\n",
      "/Users/thomasdodd/miniconda3/envs/BO4ACST_env/lib/python3.11/site-packages/ax/core/data.py:288: FutureWarning: The behavior of DataFrame concatenation with empty or all-NA entries is deprecated. In a future version, this will no longer exclude empty or all-NA columns when determining the result dtypes. To retain the old behavior, exclude the relevant entries before the concat operation.\n",
      "  return cls(df=pd.concat(dfs, axis=0, sort=True))\n",
      "[WARNING 10-29 17:18:46] ax.service.utils.report_utils: Column reason missing for all trials. Not appending column.\n",
      "/Users/thomasdodd/miniconda3/envs/BO4ACST_env/lib/python3.11/site-packages/ax/core/data.py:288: FutureWarning: The behavior of DataFrame concatenation with empty or all-NA entries is deprecated. In a future version, this will no longer exclude empty or all-NA columns when determining the result dtypes. To retain the old behavior, exclude the relevant entries before the concat operation.\n",
      "  return cls(df=pd.concat(dfs, axis=0, sort=True))\n",
      "[WARNING 10-29 17:18:46] ax.service.utils.report_utils: Column reason missing for all trials. Not appending column.\n",
      "[INFO 10-29 17:18:46] ax.service.ax_client: Completed trial 11 with data: {'t1': (59.137523, None)}.\n",
      "[INFO 10-29 17:18:46] ax.service.ax_client: Saved JSON-serialized state of optimization to `/Users/thomasdodd/Library/CloudStorage/OneDrive-MillfieldEnterprisesLimited/Cambridge/GitHub/BO4ACST/Notebooks/Optimisation/Method20241028Dim2_qKnowledgeGradient/AxExperiment.json`.\n",
      "[WARNING 10-29 17:18:46] ax.service.utils.report_utils: Column reason missing for all trials. Not appending column.\n",
      "[WARNING 10-29 17:18:46] ax.service.utils.report_utils: Column reason missing for all trials. Not appending column.\n"
     ]
    },
    {
     "name": "stdout",
     "output_type": "stream",
     "text": [
      "There are no trials currently running - initialising Bayesian iteration trials.\n"
     ]
    },
    {
     "name": "stderr",
     "output_type": "stream",
     "text": [
      "[INFO 10-29 17:18:48] ax.service.ax_client: Generated new trial 12 with parameters {'x1': -4.480188, 'x2': 6.926848} using model BoTorch.\n",
      "[INFO 10-29 17:18:48] ax.service.ax_client: Saved JSON-serialized state of optimization to `/Users/thomasdodd/Library/CloudStorage/OneDrive-MillfieldEnterprisesLimited/Cambridge/GitHub/BO4ACST/Notebooks/Optimisation/Method20241028Dim2_qKnowledgeGradient/AxExperiment.json`.\n",
      "/Users/thomasdodd/miniconda3/envs/BO4ACST_env/lib/python3.11/site-packages/ax/core/data.py:288: FutureWarning: The behavior of DataFrame concatenation with empty or all-NA entries is deprecated. In a future version, this will no longer exclude empty or all-NA columns when determining the result dtypes. To retain the old behavior, exclude the relevant entries before the concat operation.\n",
      "  return cls(df=pd.concat(dfs, axis=0, sort=True))\n",
      "[WARNING 10-29 17:18:48] ax.service.utils.report_utils: Column reason missing for all trials. Not appending column.\n",
      "/Users/thomasdodd/miniconda3/envs/BO4ACST_env/lib/python3.11/site-packages/ax/core/data.py:288: FutureWarning: The behavior of DataFrame concatenation with empty or all-NA entries is deprecated. In a future version, this will no longer exclude empty or all-NA columns when determining the result dtypes. To retain the old behavior, exclude the relevant entries before the concat operation.\n",
      "  return cls(df=pd.concat(dfs, axis=0, sort=True))\n",
      "[WARNING 10-29 17:18:48] ax.service.utils.report_utils: Column reason missing for all trials. Not appending column.\n",
      "[INFO 10-29 17:18:48] ax.service.ax_client: Completed trial 12 with data: {'t1': (55.104053, None)}.\n",
      "[INFO 10-29 17:18:48] ax.service.ax_client: Saved JSON-serialized state of optimization to `/Users/thomasdodd/Library/CloudStorage/OneDrive-MillfieldEnterprisesLimited/Cambridge/GitHub/BO4ACST/Notebooks/Optimisation/Method20241028Dim2_qKnowledgeGradient/AxExperiment.json`.\n",
      "[WARNING 10-29 17:18:48] ax.service.utils.report_utils: Column reason missing for all trials. Not appending column.\n",
      "[WARNING 10-29 17:18:48] ax.service.utils.report_utils: Column reason missing for all trials. Not appending column.\n"
     ]
    },
    {
     "name": "stdout",
     "output_type": "stream",
     "text": [
      "There are no trials currently running - initialising Bayesian iteration trials.\n"
     ]
    },
    {
     "name": "stderr",
     "output_type": "stream",
     "text": [
      "[INFO 10-29 17:18:50] ax.service.ax_client: Generated new trial 13 with parameters {'x1': 4.461721, 'x2': -2.587227} using model BoTorch.\n",
      "[INFO 10-29 17:18:50] ax.service.ax_client: Saved JSON-serialized state of optimization to `/Users/thomasdodd/Library/CloudStorage/OneDrive-MillfieldEnterprisesLimited/Cambridge/GitHub/BO4ACST/Notebooks/Optimisation/Method20241028Dim2_qKnowledgeGradient/AxExperiment.json`.\n",
      "/Users/thomasdodd/miniconda3/envs/BO4ACST_env/lib/python3.11/site-packages/ax/core/data.py:288: FutureWarning: The behavior of DataFrame concatenation with empty or all-NA entries is deprecated. In a future version, this will no longer exclude empty or all-NA columns when determining the result dtypes. To retain the old behavior, exclude the relevant entries before the concat operation.\n",
      "  return cls(df=pd.concat(dfs, axis=0, sort=True))\n",
      "[WARNING 10-29 17:18:50] ax.service.utils.report_utils: Column reason missing for all trials. Not appending column.\n",
      "/Users/thomasdodd/miniconda3/envs/BO4ACST_env/lib/python3.11/site-packages/ax/core/data.py:288: FutureWarning: The behavior of DataFrame concatenation with empty or all-NA entries is deprecated. In a future version, this will no longer exclude empty or all-NA columns when determining the result dtypes. To retain the old behavior, exclude the relevant entries before the concat operation.\n",
      "  return cls(df=pd.concat(dfs, axis=0, sort=True))\n",
      "[WARNING 10-29 17:18:50] ax.service.utils.report_utils: Column reason missing for all trials. Not appending column.\n",
      "[INFO 10-29 17:18:50] ax.service.ax_client: Completed trial 13 with data: {'t1': (61.271718, None)}.\n",
      "[INFO 10-29 17:18:50] ax.service.ax_client: Saved JSON-serialized state of optimization to `/Users/thomasdodd/Library/CloudStorage/OneDrive-MillfieldEnterprisesLimited/Cambridge/GitHub/BO4ACST/Notebooks/Optimisation/Method20241028Dim2_qKnowledgeGradient/AxExperiment.json`.\n",
      "[WARNING 10-29 17:18:50] ax.service.utils.report_utils: Column reason missing for all trials. Not appending column.\n",
      "[WARNING 10-29 17:18:50] ax.service.utils.report_utils: Column reason missing for all trials. Not appending column.\n"
     ]
    },
    {
     "name": "stdout",
     "output_type": "stream",
     "text": [
      "There are no trials currently running - initialising Bayesian iteration trials.\n"
     ]
    },
    {
     "name": "stderr",
     "output_type": "stream",
     "text": [
      "[INFO 10-29 17:18:51] ax.service.ax_client: Generated new trial 14 with parameters {'x1': -0.460901, 'x2': 6.555764} using model BoTorch.\n",
      "[INFO 10-29 17:18:51] ax.service.ax_client: Saved JSON-serialized state of optimization to `/Users/thomasdodd/Library/CloudStorage/OneDrive-MillfieldEnterprisesLimited/Cambridge/GitHub/BO4ACST/Notebooks/Optimisation/Method20241028Dim2_qKnowledgeGradient/AxExperiment.json`.\n",
      "/Users/thomasdodd/miniconda3/envs/BO4ACST_env/lib/python3.11/site-packages/ax/core/data.py:288: FutureWarning: The behavior of DataFrame concatenation with empty or all-NA entries is deprecated. In a future version, this will no longer exclude empty or all-NA columns when determining the result dtypes. To retain the old behavior, exclude the relevant entries before the concat operation.\n",
      "  return cls(df=pd.concat(dfs, axis=0, sort=True))\n",
      "[WARNING 10-29 17:18:51] ax.service.utils.report_utils: Column reason missing for all trials. Not appending column.\n",
      "/Users/thomasdodd/miniconda3/envs/BO4ACST_env/lib/python3.11/site-packages/ax/core/data.py:288: FutureWarning: The behavior of DataFrame concatenation with empty or all-NA entries is deprecated. In a future version, this will no longer exclude empty or all-NA columns when determining the result dtypes. To retain the old behavior, exclude the relevant entries before the concat operation.\n",
      "  return cls(df=pd.concat(dfs, axis=0, sort=True))\n",
      "[WARNING 10-29 17:18:51] ax.service.utils.report_utils: Column reason missing for all trials. Not appending column.\n",
      "[INFO 10-29 17:18:51] ax.service.ax_client: Completed trial 14 with data: {'t1': (32.331486, None)}.\n",
      "[INFO 10-29 17:18:51] ax.service.ax_client: Saved JSON-serialized state of optimization to `/Users/thomasdodd/Library/CloudStorage/OneDrive-MillfieldEnterprisesLimited/Cambridge/GitHub/BO4ACST/Notebooks/Optimisation/Method20241028Dim2_qKnowledgeGradient/AxExperiment.json`.\n",
      "[WARNING 10-29 17:18:51] ax.service.utils.report_utils: Column reason missing for all trials. Not appending column.\n",
      "[WARNING 10-29 17:18:51] ax.service.utils.report_utils: Column reason missing for all trials. Not appending column.\n"
     ]
    },
    {
     "name": "stdout",
     "output_type": "stream",
     "text": [
      "There are no trials currently running - initialising Bayesian iteration trials.\n"
     ]
    },
    {
     "name": "stderr",
     "output_type": "stream",
     "text": [
      "[INFO 10-29 17:18:53] ax.service.ax_client: Generated new trial 15 with parameters {'x1': 5.557033, 'x2': 0.321502} using model BoTorch.\n",
      "[INFO 10-29 17:18:53] ax.service.ax_client: Saved JSON-serialized state of optimization to `/Users/thomasdodd/Library/CloudStorage/OneDrive-MillfieldEnterprisesLimited/Cambridge/GitHub/BO4ACST/Notebooks/Optimisation/Method20241028Dim2_qKnowledgeGradient/AxExperiment.json`.\n",
      "/Users/thomasdodd/miniconda3/envs/BO4ACST_env/lib/python3.11/site-packages/ax/core/data.py:288: FutureWarning: The behavior of DataFrame concatenation with empty or all-NA entries is deprecated. In a future version, this will no longer exclude empty or all-NA columns when determining the result dtypes. To retain the old behavior, exclude the relevant entries before the concat operation.\n",
      "  return cls(df=pd.concat(dfs, axis=0, sort=True))\n",
      "[WARNING 10-29 17:18:53] ax.service.utils.report_utils: Column reason missing for all trials. Not appending column.\n",
      "/Users/thomasdodd/miniconda3/envs/BO4ACST_env/lib/python3.11/site-packages/ax/core/data.py:288: FutureWarning: The behavior of DataFrame concatenation with empty or all-NA entries is deprecated. In a future version, this will no longer exclude empty or all-NA columns when determining the result dtypes. To retain the old behavior, exclude the relevant entries before the concat operation.\n",
      "  return cls(df=pd.concat(dfs, axis=0, sort=True))\n",
      "[WARNING 10-29 17:18:53] ax.service.utils.report_utils: Column reason missing for all trials. Not appending column.\n",
      "[INFO 10-29 17:18:53] ax.service.ax_client: Completed trial 15 with data: {'t1': (42.056484, None)}.\n",
      "[INFO 10-29 17:18:53] ax.service.ax_client: Saved JSON-serialized state of optimization to `/Users/thomasdodd/Library/CloudStorage/OneDrive-MillfieldEnterprisesLimited/Cambridge/GitHub/BO4ACST/Notebooks/Optimisation/Method20241028Dim2_qKnowledgeGradient/AxExperiment.json`.\n",
      "[WARNING 10-29 17:18:53] ax.service.utils.report_utils: Column reason missing for all trials. Not appending column.\n",
      "[WARNING 10-29 17:18:53] ax.service.utils.report_utils: Column reason missing for all trials. Not appending column.\n"
     ]
    },
    {
     "name": "stdout",
     "output_type": "stream",
     "text": [
      "There are no trials currently running - initialising Bayesian iteration trials.\n"
     ]
    },
    {
     "name": "stderr",
     "output_type": "stream",
     "text": [
      "[INFO 10-29 17:19:53] ax.service.ax_client: Generated new trial 16 with parameters {'x1': 0.490862, 'x2': 6.505239} using model BoTorch.\n",
      "[INFO 10-29 17:19:53] ax.service.ax_client: Saved JSON-serialized state of optimization to `/Users/thomasdodd/Library/CloudStorage/OneDrive-MillfieldEnterprisesLimited/Cambridge/GitHub/BO4ACST/Notebooks/Optimisation/Method20241028Dim2_qKnowledgeGradient/AxExperiment.json`.\n",
      "/Users/thomasdodd/miniconda3/envs/BO4ACST_env/lib/python3.11/site-packages/ax/core/data.py:288: FutureWarning: The behavior of DataFrame concatenation with empty or all-NA entries is deprecated. In a future version, this will no longer exclude empty or all-NA columns when determining the result dtypes. To retain the old behavior, exclude the relevant entries before the concat operation.\n",
      "  return cls(df=pd.concat(dfs, axis=0, sort=True))\n",
      "[WARNING 10-29 17:19:53] ax.service.utils.report_utils: Column reason missing for all trials. Not appending column.\n",
      "/Users/thomasdodd/miniconda3/envs/BO4ACST_env/lib/python3.11/site-packages/ax/core/data.py:288: FutureWarning: The behavior of DataFrame concatenation with empty or all-NA entries is deprecated. In a future version, this will no longer exclude empty or all-NA columns when determining the result dtypes. To retain the old behavior, exclude the relevant entries before the concat operation.\n",
      "  return cls(df=pd.concat(dfs, axis=0, sort=True))\n",
      "[WARNING 10-29 17:19:53] ax.service.utils.report_utils: Column reason missing for all trials. Not appending column.\n",
      "[INFO 10-29 17:19:53] ax.service.ax_client: Completed trial 16 with data: {'t1': (48.452403, None)}.\n",
      "[INFO 10-29 17:19:53] ax.service.ax_client: Saved JSON-serialized state of optimization to `/Users/thomasdodd/Library/CloudStorage/OneDrive-MillfieldEnterprisesLimited/Cambridge/GitHub/BO4ACST/Notebooks/Optimisation/Method20241028Dim2_qKnowledgeGradient/AxExperiment.json`.\n",
      "[WARNING 10-29 17:19:53] ax.service.utils.report_utils: Column reason missing for all trials. Not appending column.\n",
      "[WARNING 10-29 17:19:53] ax.service.utils.report_utils: Column reason missing for all trials. Not appending column.\n"
     ]
    },
    {
     "name": "stdout",
     "output_type": "stream",
     "text": [
      "There are no trials currently running - initialising Bayesian iteration trials.\n"
     ]
    },
    {
     "name": "stderr",
     "output_type": "stream",
     "text": [
      "[INFO 10-29 17:21:01] ax.service.ax_client: Generated new trial 17 with parameters {'x1': 3.438627, 'x2': -1.144791} using model BoTorch.\n",
      "[INFO 10-29 17:21:01] ax.service.ax_client: Saved JSON-serialized state of optimization to `/Users/thomasdodd/Library/CloudStorage/OneDrive-MillfieldEnterprisesLimited/Cambridge/GitHub/BO4ACST/Notebooks/Optimisation/Method20241028Dim2_qKnowledgeGradient/AxExperiment.json`.\n",
      "/Users/thomasdodd/miniconda3/envs/BO4ACST_env/lib/python3.11/site-packages/ax/core/data.py:288: FutureWarning: The behavior of DataFrame concatenation with empty or all-NA entries is deprecated. In a future version, this will no longer exclude empty or all-NA columns when determining the result dtypes. To retain the old behavior, exclude the relevant entries before the concat operation.\n",
      "  return cls(df=pd.concat(dfs, axis=0, sort=True))\n",
      "[WARNING 10-29 17:21:01] ax.service.utils.report_utils: Column reason missing for all trials. Not appending column.\n",
      "/Users/thomasdodd/miniconda3/envs/BO4ACST_env/lib/python3.11/site-packages/ax/core/data.py:288: FutureWarning: The behavior of DataFrame concatenation with empty or all-NA entries is deprecated. In a future version, this will no longer exclude empty or all-NA columns when determining the result dtypes. To retain the old behavior, exclude the relevant entries before the concat operation.\n",
      "  return cls(df=pd.concat(dfs, axis=0, sort=True))\n",
      "[WARNING 10-29 17:21:01] ax.service.utils.report_utils: Column reason missing for all trials. Not appending column.\n",
      "[INFO 10-29 17:21:01] ax.service.ax_client: Completed trial 17 with data: {'t1': (34.770181, None)}.\n",
      "[INFO 10-29 17:21:01] ax.service.ax_client: Saved JSON-serialized state of optimization to `/Users/thomasdodd/Library/CloudStorage/OneDrive-MillfieldEnterprisesLimited/Cambridge/GitHub/BO4ACST/Notebooks/Optimisation/Method20241028Dim2_qKnowledgeGradient/AxExperiment.json`.\n",
      "[WARNING 10-29 17:21:01] ax.service.utils.report_utils: Column reason missing for all trials. Not appending column.\n",
      "[WARNING 10-29 17:21:01] ax.service.utils.report_utils: Column reason missing for all trials. Not appending column.\n"
     ]
    },
    {
     "name": "stdout",
     "output_type": "stream",
     "text": [
      "There are no trials currently running - initialising Bayesian iteration trials.\n"
     ]
    },
    {
     "name": "stderr",
     "output_type": "stream",
     "text": [
      "[INFO 10-29 17:22:15] ax.service.ax_client: Generated new trial 18 with parameters {'x1': -2.522209, 'x2': 3.852718} using model BoTorch.\n",
      "[INFO 10-29 17:22:15] ax.service.ax_client: Saved JSON-serialized state of optimization to `/Users/thomasdodd/Library/CloudStorage/OneDrive-MillfieldEnterprisesLimited/Cambridge/GitHub/BO4ACST/Notebooks/Optimisation/Method20241028Dim2_qKnowledgeGradient/AxExperiment.json`.\n",
      "/Users/thomasdodd/miniconda3/envs/BO4ACST_env/lib/python3.11/site-packages/ax/core/data.py:288: FutureWarning: The behavior of DataFrame concatenation with empty or all-NA entries is deprecated. In a future version, this will no longer exclude empty or all-NA columns when determining the result dtypes. To retain the old behavior, exclude the relevant entries before the concat operation.\n",
      "  return cls(df=pd.concat(dfs, axis=0, sort=True))\n",
      "[WARNING 10-29 17:22:15] ax.service.utils.report_utils: Column reason missing for all trials. Not appending column.\n",
      "/Users/thomasdodd/miniconda3/envs/BO4ACST_env/lib/python3.11/site-packages/ax/core/data.py:288: FutureWarning: The behavior of DataFrame concatenation with empty or all-NA entries is deprecated. In a future version, this will no longer exclude empty or all-NA columns when determining the result dtypes. To retain the old behavior, exclude the relevant entries before the concat operation.\n",
      "  return cls(df=pd.concat(dfs, axis=0, sort=True))\n",
      "[WARNING 10-29 17:22:15] ax.service.utils.report_utils: Column reason missing for all trials. Not appending column.\n",
      "[INFO 10-29 17:22:15] ax.service.ax_client: Completed trial 18 with data: {'t1': (41.637818, None)}.\n",
      "[INFO 10-29 17:22:15] ax.service.ax_client: Saved JSON-serialized state of optimization to `/Users/thomasdodd/Library/CloudStorage/OneDrive-MillfieldEnterprisesLimited/Cambridge/GitHub/BO4ACST/Notebooks/Optimisation/Method20241028Dim2_qKnowledgeGradient/AxExperiment.json`.\n",
      "[WARNING 10-29 17:22:15] ax.service.utils.report_utils: Column reason missing for all trials. Not appending column.\n",
      "[WARNING 10-29 17:22:15] ax.service.utils.report_utils: Column reason missing for all trials. Not appending column.\n"
     ]
    },
    {
     "name": "stdout",
     "output_type": "stream",
     "text": [
      "There are no trials currently running - initialising Bayesian iteration trials.\n"
     ]
    },
    {
     "name": "stderr",
     "output_type": "stream",
     "text": [
      "[INFO 10-29 17:24:07] ax.service.ax_client: Generated new trial 19 with parameters {'x1': 5.806213, 'x2': 1.673371} using model BoTorch.\n",
      "[INFO 10-29 17:24:07] ax.service.ax_client: Saved JSON-serialized state of optimization to `/Users/thomasdodd/Library/CloudStorage/OneDrive-MillfieldEnterprisesLimited/Cambridge/GitHub/BO4ACST/Notebooks/Optimisation/Method20241028Dim2_qKnowledgeGradient/AxExperiment.json`.\n",
      "/Users/thomasdodd/miniconda3/envs/BO4ACST_env/lib/python3.11/site-packages/ax/core/data.py:288: FutureWarning: The behavior of DataFrame concatenation with empty or all-NA entries is deprecated. In a future version, this will no longer exclude empty or all-NA columns when determining the result dtypes. To retain the old behavior, exclude the relevant entries before the concat operation.\n",
      "  return cls(df=pd.concat(dfs, axis=0, sort=True))\n",
      "[WARNING 10-29 17:24:07] ax.service.utils.report_utils: Column reason missing for all trials. Not appending column.\n",
      "/Users/thomasdodd/miniconda3/envs/BO4ACST_env/lib/python3.11/site-packages/ax/core/data.py:288: FutureWarning: The behavior of DataFrame concatenation with empty or all-NA entries is deprecated. In a future version, this will no longer exclude empty or all-NA columns when determining the result dtypes. To retain the old behavior, exclude the relevant entries before the concat operation.\n",
      "  return cls(df=pd.concat(dfs, axis=0, sort=True))\n",
      "[WARNING 10-29 17:24:07] ax.service.utils.report_utils: Column reason missing for all trials. Not appending column.\n",
      "[INFO 10-29 17:24:07] ax.service.ax_client: Completed trial 19 with data: {'t1': (73.289629, None)}.\n",
      "[INFO 10-29 17:24:07] ax.service.ax_client: Saved JSON-serialized state of optimization to `/Users/thomasdodd/Library/CloudStorage/OneDrive-MillfieldEnterprisesLimited/Cambridge/GitHub/BO4ACST/Notebooks/Optimisation/Method20241028Dim2_qKnowledgeGradient/AxExperiment.json`.\n",
      "[WARNING 10-29 17:24:07] ax.service.utils.report_utils: Column reason missing for all trials. Not appending column.\n",
      "[WARNING 10-29 17:24:07] ax.service.utils.report_utils: Column reason missing for all trials. Not appending column.\n"
     ]
    },
    {
     "name": "stdout",
     "output_type": "stream",
     "text": [
      "There are no trials currently running - initialising Bayesian iteration trials.\n"
     ]
    },
    {
     "name": "stderr",
     "output_type": "stream",
     "text": [
      "[INFO 10-29 17:24:32] ax.service.ax_client: Generated new trial 20 with parameters {'x1': 0.70746, 'x2': 6.180111} using model BoTorch.\n",
      "[INFO 10-29 17:24:32] ax.service.ax_client: Saved JSON-serialized state of optimization to `/Users/thomasdodd/Library/CloudStorage/OneDrive-MillfieldEnterprisesLimited/Cambridge/GitHub/BO4ACST/Notebooks/Optimisation/Method20241028Dim2_qKnowledgeGradient/AxExperiment.json`.\n",
      "/Users/thomasdodd/miniconda3/envs/BO4ACST_env/lib/python3.11/site-packages/ax/core/data.py:288: FutureWarning: The behavior of DataFrame concatenation with empty or all-NA entries is deprecated. In a future version, this will no longer exclude empty or all-NA columns when determining the result dtypes. To retain the old behavior, exclude the relevant entries before the concat operation.\n",
      "  return cls(df=pd.concat(dfs, axis=0, sort=True))\n",
      "[WARNING 10-29 17:24:32] ax.service.utils.report_utils: Column reason missing for all trials. Not appending column.\n",
      "/Users/thomasdodd/miniconda3/envs/BO4ACST_env/lib/python3.11/site-packages/ax/core/data.py:288: FutureWarning: The behavior of DataFrame concatenation with empty or all-NA entries is deprecated. In a future version, this will no longer exclude empty or all-NA columns when determining the result dtypes. To retain the old behavior, exclude the relevant entries before the concat operation.\n",
      "  return cls(df=pd.concat(dfs, axis=0, sort=True))\n",
      "[WARNING 10-29 17:24:32] ax.service.utils.report_utils: Column reason missing for all trials. Not appending column.\n",
      "[INFO 10-29 17:24:32] ax.service.ax_client: Completed trial 20 with data: {'t1': (43.550955, None)}.\n",
      "[INFO 10-29 17:24:32] ax.service.ax_client: Saved JSON-serialized state of optimization to `/Users/thomasdodd/Library/CloudStorage/OneDrive-MillfieldEnterprisesLimited/Cambridge/GitHub/BO4ACST/Notebooks/Optimisation/Method20241028Dim2_qKnowledgeGradient/AxExperiment.json`.\n",
      "[WARNING 10-29 17:24:32] ax.service.utils.report_utils: Column reason missing for all trials. Not appending column.\n",
      "[WARNING 10-29 17:24:32] ax.service.utils.report_utils: Column reason missing for all trials. Not appending column.\n"
     ]
    },
    {
     "name": "stdout",
     "output_type": "stream",
     "text": [
      "There are no trials currently running - initialising Bayesian iteration trials.\n"
     ]
    },
    {
     "name": "stderr",
     "output_type": "stream",
     "text": [
      "[INFO 10-29 17:24:56] ax.service.ax_client: Generated new trial 21 with parameters {'x1': 2.820819, 'x2': -0.516938} using model BoTorch.\n",
      "[INFO 10-29 17:24:56] ax.service.ax_client: Saved JSON-serialized state of optimization to `/Users/thomasdodd/Library/CloudStorage/OneDrive-MillfieldEnterprisesLimited/Cambridge/GitHub/BO4ACST/Notebooks/Optimisation/Method20241028Dim2_qKnowledgeGradient/AxExperiment.json`.\n",
      "/Users/thomasdodd/miniconda3/envs/BO4ACST_env/lib/python3.11/site-packages/ax/core/data.py:288: FutureWarning: The behavior of DataFrame concatenation with empty or all-NA entries is deprecated. In a future version, this will no longer exclude empty or all-NA columns when determining the result dtypes. To retain the old behavior, exclude the relevant entries before the concat operation.\n",
      "  return cls(df=pd.concat(dfs, axis=0, sort=True))\n",
      "[WARNING 10-29 17:24:56] ax.service.utils.report_utils: Column reason missing for all trials. Not appending column.\n",
      "/Users/thomasdodd/miniconda3/envs/BO4ACST_env/lib/python3.11/site-packages/ax/core/data.py:288: FutureWarning: The behavior of DataFrame concatenation with empty or all-NA entries is deprecated. In a future version, this will no longer exclude empty or all-NA columns when determining the result dtypes. To retain the old behavior, exclude the relevant entries before the concat operation.\n",
      "  return cls(df=pd.concat(dfs, axis=0, sort=True))\n",
      "[WARNING 10-29 17:24:56] ax.service.utils.report_utils: Column reason missing for all trials. Not appending column.\n",
      "[INFO 10-29 17:24:56] ax.service.ax_client: Completed trial 21 with data: {'t1': (27.191515, None)}.\n",
      "[INFO 10-29 17:24:56] ax.service.ax_client: Saved JSON-serialized state of optimization to `/Users/thomasdodd/Library/CloudStorage/OneDrive-MillfieldEnterprisesLimited/Cambridge/GitHub/BO4ACST/Notebooks/Optimisation/Method20241028Dim2_qKnowledgeGradient/AxExperiment.json`.\n",
      "[WARNING 10-29 17:24:56] ax.service.utils.report_utils: Column reason missing for all trials. Not appending column.\n",
      "[WARNING 10-29 17:24:56] ax.service.utils.report_utils: Column reason missing for all trials. Not appending column.\n"
     ]
    },
    {
     "name": "stdout",
     "output_type": "stream",
     "text": [
      "There are no trials currently running - initialising Bayesian iteration trials.\n"
     ]
    },
    {
     "name": "stderr",
     "output_type": "stream",
     "text": [
      "[INFO 10-29 17:25:30] ax.service.ax_client: Generated new trial 22 with parameters {'x1': -2.045872, 'x2': 3.828498} using model BoTorch.\n",
      "[INFO 10-29 17:25:30] ax.service.ax_client: Saved JSON-serialized state of optimization to `/Users/thomasdodd/Library/CloudStorage/OneDrive-MillfieldEnterprisesLimited/Cambridge/GitHub/BO4ACST/Notebooks/Optimisation/Method20241028Dim2_qKnowledgeGradient/AxExperiment.json`.\n",
      "/Users/thomasdodd/miniconda3/envs/BO4ACST_env/lib/python3.11/site-packages/ax/core/data.py:288: FutureWarning: The behavior of DataFrame concatenation with empty or all-NA entries is deprecated. In a future version, this will no longer exclude empty or all-NA columns when determining the result dtypes. To retain the old behavior, exclude the relevant entries before the concat operation.\n",
      "  return cls(df=pd.concat(dfs, axis=0, sort=True))\n",
      "[WARNING 10-29 17:25:30] ax.service.utils.report_utils: Column reason missing for all trials. Not appending column.\n",
      "/Users/thomasdodd/miniconda3/envs/BO4ACST_env/lib/python3.11/site-packages/ax/core/data.py:288: FutureWarning: The behavior of DataFrame concatenation with empty or all-NA entries is deprecated. In a future version, this will no longer exclude empty or all-NA columns when determining the result dtypes. To retain the old behavior, exclude the relevant entries before the concat operation.\n",
      "  return cls(df=pd.concat(dfs, axis=0, sort=True))\n",
      "[WARNING 10-29 17:25:30] ax.service.utils.report_utils: Column reason missing for all trials. Not appending column.\n",
      "[INFO 10-29 17:25:30] ax.service.ax_client: Completed trial 22 with data: {'t1': (29.630742, None)}.\n",
      "[INFO 10-29 17:25:30] ax.service.ax_client: Saved JSON-serialized state of optimization to `/Users/thomasdodd/Library/CloudStorage/OneDrive-MillfieldEnterprisesLimited/Cambridge/GitHub/BO4ACST/Notebooks/Optimisation/Method20241028Dim2_qKnowledgeGradient/AxExperiment.json`.\n",
      "[WARNING 10-29 17:25:30] ax.service.utils.report_utils: Column reason missing for all trials. Not appending column.\n",
      "[WARNING 10-29 17:25:30] ax.service.utils.report_utils: Column reason missing for all trials. Not appending column.\n"
     ]
    },
    {
     "name": "stdout",
     "output_type": "stream",
     "text": [
      "There are no trials currently running - initialising Bayesian iteration trials.\n"
     ]
    },
    {
     "name": "stderr",
     "output_type": "stream",
     "text": [
      "[INFO 10-29 17:26:16] ax.service.ax_client: Generated new trial 23 with parameters {'x1': -7.93902, 'x2': 8.538502} using model BoTorch.\n",
      "[INFO 10-29 17:26:16] ax.service.ax_client: Saved JSON-serialized state of optimization to `/Users/thomasdodd/Library/CloudStorage/OneDrive-MillfieldEnterprisesLimited/Cambridge/GitHub/BO4ACST/Notebooks/Optimisation/Method20241028Dim2_qKnowledgeGradient/AxExperiment.json`.\n",
      "/Users/thomasdodd/miniconda3/envs/BO4ACST_env/lib/python3.11/site-packages/ax/core/data.py:288: FutureWarning: The behavior of DataFrame concatenation with empty or all-NA entries is deprecated. In a future version, this will no longer exclude empty or all-NA columns when determining the result dtypes. To retain the old behavior, exclude the relevant entries before the concat operation.\n",
      "  return cls(df=pd.concat(dfs, axis=0, sort=True))\n",
      "[WARNING 10-29 17:26:16] ax.service.utils.report_utils: Column reason missing for all trials. Not appending column.\n",
      "/Users/thomasdodd/miniconda3/envs/BO4ACST_env/lib/python3.11/site-packages/ax/core/data.py:288: FutureWarning: The behavior of DataFrame concatenation with empty or all-NA entries is deprecated. In a future version, this will no longer exclude empty or all-NA columns when determining the result dtypes. To retain the old behavior, exclude the relevant entries before the concat operation.\n",
      "  return cls(df=pd.concat(dfs, axis=0, sort=True))\n",
      "[WARNING 10-29 17:26:16] ax.service.utils.report_utils: Column reason missing for all trials. Not appending column.\n",
      "[INFO 10-29 17:26:16] ax.service.ax_client: Completed trial 23 with data: {'t1': (156.835163, None)}.\n",
      "[INFO 10-29 17:26:16] ax.service.ax_client: Saved JSON-serialized state of optimization to `/Users/thomasdodd/Library/CloudStorage/OneDrive-MillfieldEnterprisesLimited/Cambridge/GitHub/BO4ACST/Notebooks/Optimisation/Method20241028Dim2_qKnowledgeGradient/AxExperiment.json`.\n",
      "[WARNING 10-29 17:26:16] ax.service.utils.report_utils: Column reason missing for all trials. Not appending column.\n",
      "[INFO 10-29 17:26:16] ax.service.ax_client: Starting optimization with verbose logging. To disable logging, set the `verbose_logging` argument to `False`. Note that float values in the logs are rounded to 6 decimal points.\n",
      "[INFO 10-29 17:26:16] ax.service.utils.instantiation: Created search space: SearchSpace(parameters=[RangeParameter(name='x1', parameter_type=FLOAT, range=[-10.0, 10.0]), RangeParameter(name='x2', parameter_type=FLOAT, range=[-10.0, 10.0])], parameter_constraints=[]).\n",
      "[INFO 10-29 17:26:16] ax.service.ax_client: Saved JSON-serialized state of optimization to `/Users/thomasdodd/Library/CloudStorage/OneDrive-MillfieldEnterprisesLimited/Cambridge/GitHub/BO4ACST/Notebooks/Optimisation/Method20241028Dim2_qKnowledgeGradient/AxExperiment.json`.\n",
      "[INFO 10-29 17:26:16] ax.core.experiment: Attached custom parameterizations [{'x1': -10.0, 'x2': -10.0}] as trial 0.\n",
      "[INFO 10-29 17:26:16] ax.core.experiment: Attached custom parameterizations [{'x1': 0.0, 'x2': -10.0}] as trial 1.\n",
      "[INFO 10-29 17:26:16] ax.core.experiment: Attached custom parameterizations [{'x1': 10.0, 'x2': -10.0}] as trial 2.\n",
      "[INFO 10-29 17:26:16] ax.core.experiment: Attached custom parameterizations [{'x1': -10.0, 'x2': 0.0}] as trial 3.\n",
      "[INFO 10-29 17:26:16] ax.core.experiment: Attached custom parameterizations [{'x1': 0.0, 'x2': 0.0}] as trial 4.\n",
      "[INFO 10-29 17:26:16] ax.core.experiment: Attached custom parameterizations [{'x1': 10.0, 'x2': 0.0}] as trial 5.\n",
      "[INFO 10-29 17:26:16] ax.core.experiment: Attached custom parameterizations [{'x1': -10.0, 'x2': 10.0}] as trial 6.\n",
      "[INFO 10-29 17:26:16] ax.core.experiment: Attached custom parameterizations [{'x1': 0.0, 'x2': 10.0}] as trial 7.\n",
      "[INFO 10-29 17:26:16] ax.core.experiment: Attached custom parameterizations [{'x1': 10.0, 'x2': 10.0}] as trial 8.\n",
      "[INFO 10-29 17:26:16] ax.service.ax_client: Saved JSON-serialized state of optimization to `/Users/thomasdodd/Library/CloudStorage/OneDrive-MillfieldEnterprisesLimited/Cambridge/GitHub/BO4ACST/Notebooks/Optimisation/Method20241028Dim2_qKnowledgeGradient/AxExperiment.json`.\n",
      "[WARNING 10-29 17:26:16] ax.service.utils.report_utils: Column reason missing for all trials. Not appending column.\n",
      "[INFO 10-29 17:26:16] ax.service.utils.report_utils: No results present for the specified metrics `[Metric('t1')]`. Returning arm parameters and metadata only.\n",
      "[WARNING 10-29 17:26:16] ax.service.utils.report_utils: Column reason missing for all trials. Not appending column.\n",
      "[INFO 10-29 17:26:16] ax.service.utils.report_utils: No results present for the specified metrics `[Metric('t1')]`. Returning arm parameters and metadata only.\n",
      "[INFO 10-29 17:26:16] ax.service.ax_client: Completed trial 0 with data: {'t1': (2594.0, None)}.\n",
      "[INFO 10-29 17:26:16] ax.service.ax_client: Saved JSON-serialized state of optimization to `/Users/thomasdodd/Library/CloudStorage/OneDrive-MillfieldEnterprisesLimited/Cambridge/GitHub/BO4ACST/Notebooks/Optimisation/Method20241028Dim2_qKnowledgeGradient/AxExperiment.json`.\n",
      "[INFO 10-29 17:26:16] ax.service.ax_client: Completed trial 1 with data: {'t1': (954.0, None)}.\n",
      "[INFO 10-29 17:26:16] ax.service.ax_client: Saved JSON-serialized state of optimization to `/Users/thomasdodd/Library/CloudStorage/OneDrive-MillfieldEnterprisesLimited/Cambridge/GitHub/BO4ACST/Notebooks/Optimisation/Method20241028Dim2_qKnowledgeGradient/AxExperiment.json`.\n",
      "[INFO 10-29 17:26:16] ax.service.ax_client: Completed trial 2 with data: {'t1': (314.0, None)}.\n",
      "[INFO 10-29 17:26:16] ax.service.ax_client: Saved JSON-serialized state of optimization to `/Users/thomasdodd/Library/CloudStorage/OneDrive-MillfieldEnterprisesLimited/Cambridge/GitHub/BO4ACST/Notebooks/Optimisation/Method20241028Dim2_qKnowledgeGradient/AxExperiment.json`.\n",
      "[INFO 10-29 17:26:16] ax.service.ax_client: Completed trial 3 with data: {'t1': (914.0, None)}.\n",
      "[INFO 10-29 17:26:16] ax.service.ax_client: Saved JSON-serialized state of optimization to `/Users/thomasdodd/Library/CloudStorage/OneDrive-MillfieldEnterprisesLimited/Cambridge/GitHub/BO4ACST/Notebooks/Optimisation/Method20241028Dim2_qKnowledgeGradient/AxExperiment.json`.\n",
      "[INFO 10-29 17:26:16] ax.service.ax_client: Completed trial 4 with data: {'t1': (74.0, None)}.\n",
      "[INFO 10-29 17:26:16] ax.service.ax_client: Saved JSON-serialized state of optimization to `/Users/thomasdodd/Library/CloudStorage/OneDrive-MillfieldEnterprisesLimited/Cambridge/GitHub/BO4ACST/Notebooks/Optimisation/Method20241028Dim2_qKnowledgeGradient/AxExperiment.json`.\n",
      "[INFO 10-29 17:26:16] ax.service.ax_client: Completed trial 5 with data: {'t1': (234.0, None)}.\n",
      "[INFO 10-29 17:26:16] ax.service.ax_client: Saved JSON-serialized state of optimization to `/Users/thomasdodd/Library/CloudStorage/OneDrive-MillfieldEnterprisesLimited/Cambridge/GitHub/BO4ACST/Notebooks/Optimisation/Method20241028Dim2_qKnowledgeGradient/AxExperiment.json`.\n",
      "[INFO 10-29 17:26:16] ax.service.ax_client: Completed trial 6 with data: {'t1': (234.0, None)}.\n",
      "[INFO 10-29 17:26:16] ax.service.ax_client: Saved JSON-serialized state of optimization to `/Users/thomasdodd/Library/CloudStorage/OneDrive-MillfieldEnterprisesLimited/Cambridge/GitHub/BO4ACST/Notebooks/Optimisation/Method20241028Dim2_qKnowledgeGradient/AxExperiment.json`.\n",
      "[INFO 10-29 17:26:16] ax.service.ax_client: Completed trial 7 with data: {'t1': (194.0, None)}.\n",
      "[INFO 10-29 17:26:16] ax.service.ax_client: Saved JSON-serialized state of optimization to `/Users/thomasdodd/Library/CloudStorage/OneDrive-MillfieldEnterprisesLimited/Cambridge/GitHub/BO4ACST/Notebooks/Optimisation/Method20241028Dim2_qKnowledgeGradient/AxExperiment.json`.\n",
      "[INFO 10-29 17:26:16] ax.service.ax_client: Completed trial 8 with data: {'t1': (1154.0, None)}.\n",
      "[INFO 10-29 17:26:16] ax.service.ax_client: Saved JSON-serialized state of optimization to `/Users/thomasdodd/Library/CloudStorage/OneDrive-MillfieldEnterprisesLimited/Cambridge/GitHub/BO4ACST/Notebooks/Optimisation/Method20241028Dim2_qKnowledgeGradient/AxExperiment.json`.\n",
      "[WARNING 10-29 17:26:16] ax.service.utils.report_utils: Column reason missing for all trials. Not appending column.\n",
      "[WARNING 10-29 17:26:16] ax.service.utils.report_utils: Column reason missing for all trials. Not appending column.\n"
     ]
    },
    {
     "name": "stdout",
     "output_type": "stream",
     "text": [
      "[74.         74.         74.         59.13752253 55.10405301 55.10405301\n",
      " 32.3314857  32.3314857  32.3314857  32.3314857  32.3314857  32.3314857\n",
      " 32.3314857  27.19151531 27.19151531 27.19151531]\n",
      "A new experiment has been created and initialised.\n",
      "No previous or current trials detected - initialising prior-forming trials.\n",
      "Samples gridded = 9\n",
      "There are no trials currently running - initialising Bayesian iteration trials.\n"
     ]
    },
    {
     "name": "stderr",
     "output_type": "stream",
     "text": [
      "[INFO 10-29 17:26:19] ax.service.ax_client: Generated new trial 9 with parameters {'x1': -4.377003, 'x2': 4.821442} using model BoTorch.\n",
      "[INFO 10-29 17:26:19] ax.service.ax_client: Saved JSON-serialized state of optimization to `/Users/thomasdodd/Library/CloudStorage/OneDrive-MillfieldEnterprisesLimited/Cambridge/GitHub/BO4ACST/Notebooks/Optimisation/Method20241028Dim2_qKnowledgeGradient/AxExperiment.json`.\n",
      "/Users/thomasdodd/miniconda3/envs/BO4ACST_env/lib/python3.11/site-packages/ax/core/data.py:288: FutureWarning: The behavior of DataFrame concatenation with empty or all-NA entries is deprecated. In a future version, this will no longer exclude empty or all-NA columns when determining the result dtypes. To retain the old behavior, exclude the relevant entries before the concat operation.\n",
      "  return cls(df=pd.concat(dfs, axis=0, sort=True))\n",
      "[WARNING 10-29 17:26:19] ax.service.utils.report_utils: Column reason missing for all trials. Not appending column.\n",
      "/Users/thomasdodd/miniconda3/envs/BO4ACST_env/lib/python3.11/site-packages/ax/core/data.py:288: FutureWarning: The behavior of DataFrame concatenation with empty or all-NA entries is deprecated. In a future version, this will no longer exclude empty or all-NA columns when determining the result dtypes. To retain the old behavior, exclude the relevant entries before the concat operation.\n",
      "  return cls(df=pd.concat(dfs, axis=0, sort=True))\n",
      "[WARNING 10-29 17:26:19] ax.service.utils.report_utils: Column reason missing for all trials. Not appending column.\n",
      "[INFO 10-29 17:26:19] ax.service.ax_client: Completed trial 9 with data: {'t1': (82.79788, None)}.\n",
      "[INFO 10-29 17:26:19] ax.service.ax_client: Saved JSON-serialized state of optimization to `/Users/thomasdodd/Library/CloudStorage/OneDrive-MillfieldEnterprisesLimited/Cambridge/GitHub/BO4ACST/Notebooks/Optimisation/Method20241028Dim2_qKnowledgeGradient/AxExperiment.json`.\n",
      "[WARNING 10-29 17:26:19] ax.service.utils.report_utils: Column reason missing for all trials. Not appending column.\n",
      "[WARNING 10-29 17:26:19] ax.service.utils.report_utils: Column reason missing for all trials. Not appending column.\n"
     ]
    },
    {
     "name": "stdout",
     "output_type": "stream",
     "text": [
      "There are no trials currently running - initialising Bayesian iteration trials.\n"
     ]
    },
    {
     "name": "stderr",
     "output_type": "stream",
     "text": [
      "[INFO 10-29 17:26:21] ax.service.ax_client: Generated new trial 10 with parameters {'x1': 5.959438, 'x2': -5.063334} using model BoTorch.\n",
      "[INFO 10-29 17:26:21] ax.service.ax_client: Saved JSON-serialized state of optimization to `/Users/thomasdodd/Library/CloudStorage/OneDrive-MillfieldEnterprisesLimited/Cambridge/GitHub/BO4ACST/Notebooks/Optimisation/Method20241028Dim2_qKnowledgeGradient/AxExperiment.json`.\n",
      "/Users/thomasdodd/miniconda3/envs/BO4ACST_env/lib/python3.11/site-packages/ax/core/data.py:288: FutureWarning: The behavior of DataFrame concatenation with empty or all-NA entries is deprecated. In a future version, this will no longer exclude empty or all-NA columns when determining the result dtypes. To retain the old behavior, exclude the relevant entries before the concat operation.\n",
      "  return cls(df=pd.concat(dfs, axis=0, sort=True))\n",
      "[WARNING 10-29 17:26:21] ax.service.utils.report_utils: Column reason missing for all trials. Not appending column.\n",
      "/Users/thomasdodd/miniconda3/envs/BO4ACST_env/lib/python3.11/site-packages/ax/core/data.py:288: FutureWarning: The behavior of DataFrame concatenation with empty or all-NA entries is deprecated. In a future version, this will no longer exclude empty or all-NA columns when determining the result dtypes. To retain the old behavior, exclude the relevant entries before the concat operation.\n",
      "  return cls(df=pd.concat(dfs, axis=0, sort=True))\n",
      "[WARNING 10-29 17:26:21] ax.service.utils.report_utils: Column reason missing for all trials. Not appending column.\n",
      "[INFO 10-29 17:26:21] ax.service.ax_client: Completed trial 10 with data: {'t1': (128.150054, None)}.\n",
      "[INFO 10-29 17:26:21] ax.service.ax_client: Saved JSON-serialized state of optimization to `/Users/thomasdodd/Library/CloudStorage/OneDrive-MillfieldEnterprisesLimited/Cambridge/GitHub/BO4ACST/Notebooks/Optimisation/Method20241028Dim2_qKnowledgeGradient/AxExperiment.json`.\n",
      "[WARNING 10-29 17:26:21] ax.service.utils.report_utils: Column reason missing for all trials. Not appending column.\n",
      "[WARNING 10-29 17:26:21] ax.service.utils.report_utils: Column reason missing for all trials. Not appending column.\n"
     ]
    },
    {
     "name": "stdout",
     "output_type": "stream",
     "text": [
      "There are no trials currently running - initialising Bayesian iteration trials.\n"
     ]
    },
    {
     "name": "stderr",
     "output_type": "stream",
     "text": [
      "[INFO 10-29 17:26:22] ax.service.ax_client: Generated new trial 11 with parameters {'x1': 4.536725, 'x2': 2.88168} using model BoTorch.\n",
      "[INFO 10-29 17:26:22] ax.service.ax_client: Saved JSON-serialized state of optimization to `/Users/thomasdodd/Library/CloudStorage/OneDrive-MillfieldEnterprisesLimited/Cambridge/GitHub/BO4ACST/Notebooks/Optimisation/Method20241028Dim2_qKnowledgeGradient/AxExperiment.json`.\n",
      "/Users/thomasdodd/miniconda3/envs/BO4ACST_env/lib/python3.11/site-packages/ax/core/data.py:288: FutureWarning: The behavior of DataFrame concatenation with empty or all-NA entries is deprecated. In a future version, this will no longer exclude empty or all-NA columns when determining the result dtypes. To retain the old behavior, exclude the relevant entries before the concat operation.\n",
      "  return cls(df=pd.concat(dfs, axis=0, sort=True))\n",
      "[WARNING 10-29 17:26:22] ax.service.utils.report_utils: Column reason missing for all trials. Not appending column.\n",
      "/Users/thomasdodd/miniconda3/envs/BO4ACST_env/lib/python3.11/site-packages/ax/core/data.py:288: FutureWarning: The behavior of DataFrame concatenation with empty or all-NA entries is deprecated. In a future version, this will no longer exclude empty or all-NA columns when determining the result dtypes. To retain the old behavior, exclude the relevant entries before the concat operation.\n",
      "  return cls(df=pd.concat(dfs, axis=0, sort=True))\n",
      "[WARNING 10-29 17:26:22] ax.service.utils.report_utils: Column reason missing for all trials. Not appending column.\n",
      "[INFO 10-29 17:26:22] ax.service.ax_client: Completed trial 11 with data: {'t1': (59.264374, None)}.\n",
      "[INFO 10-29 17:26:22] ax.service.ax_client: Saved JSON-serialized state of optimization to `/Users/thomasdodd/Library/CloudStorage/OneDrive-MillfieldEnterprisesLimited/Cambridge/GitHub/BO4ACST/Notebooks/Optimisation/Method20241028Dim2_qKnowledgeGradient/AxExperiment.json`.\n",
      "[WARNING 10-29 17:26:22] ax.service.utils.report_utils: Column reason missing for all trials. Not appending column.\n",
      "[WARNING 10-29 17:26:22] ax.service.utils.report_utils: Column reason missing for all trials. Not appending column.\n"
     ]
    },
    {
     "name": "stdout",
     "output_type": "stream",
     "text": [
      "There are no trials currently running - initialising Bayesian iteration trials.\n"
     ]
    },
    {
     "name": "stderr",
     "output_type": "stream",
     "text": [
      "[INFO 10-29 17:26:24] ax.service.ax_client: Generated new trial 12 with parameters {'x1': -4.509939, 'x2': 6.93971} using model BoTorch.\n",
      "[INFO 10-29 17:26:24] ax.service.ax_client: Saved JSON-serialized state of optimization to `/Users/thomasdodd/Library/CloudStorage/OneDrive-MillfieldEnterprisesLimited/Cambridge/GitHub/BO4ACST/Notebooks/Optimisation/Method20241028Dim2_qKnowledgeGradient/AxExperiment.json`.\n",
      "/Users/thomasdodd/miniconda3/envs/BO4ACST_env/lib/python3.11/site-packages/ax/core/data.py:288: FutureWarning: The behavior of DataFrame concatenation with empty or all-NA entries is deprecated. In a future version, this will no longer exclude empty or all-NA columns when determining the result dtypes. To retain the old behavior, exclude the relevant entries before the concat operation.\n",
      "  return cls(df=pd.concat(dfs, axis=0, sort=True))\n",
      "[WARNING 10-29 17:26:24] ax.service.utils.report_utils: Column reason missing for all trials. Not appending column.\n",
      "/Users/thomasdodd/miniconda3/envs/BO4ACST_env/lib/python3.11/site-packages/ax/core/data.py:288: FutureWarning: The behavior of DataFrame concatenation with empty or all-NA entries is deprecated. In a future version, this will no longer exclude empty or all-NA columns when determining the result dtypes. To retain the old behavior, exclude the relevant entries before the concat operation.\n",
      "  return cls(df=pd.concat(dfs, axis=0, sort=True))\n",
      "[WARNING 10-29 17:26:24] ax.service.utils.report_utils: Column reason missing for all trials. Not appending column.\n",
      "[INFO 10-29 17:26:24] ax.service.ax_client: Completed trial 12 with data: {'t1': (55.743211, None)}.\n",
      "[INFO 10-29 17:26:24] ax.service.ax_client: Saved JSON-serialized state of optimization to `/Users/thomasdodd/Library/CloudStorage/OneDrive-MillfieldEnterprisesLimited/Cambridge/GitHub/BO4ACST/Notebooks/Optimisation/Method20241028Dim2_qKnowledgeGradient/AxExperiment.json`.\n",
      "[WARNING 10-29 17:26:24] ax.service.utils.report_utils: Column reason missing for all trials. Not appending column.\n",
      "[WARNING 10-29 17:26:24] ax.service.utils.report_utils: Column reason missing for all trials. Not appending column.\n"
     ]
    },
    {
     "name": "stdout",
     "output_type": "stream",
     "text": [
      "There are no trials currently running - initialising Bayesian iteration trials.\n"
     ]
    },
    {
     "name": "stderr",
     "output_type": "stream",
     "text": [
      "[INFO 10-29 17:26:25] ax.service.ax_client: Generated new trial 13 with parameters {'x1': 4.452734, 'x2': -2.480285} using model BoTorch.\n",
      "[INFO 10-29 17:26:25] ax.service.ax_client: Saved JSON-serialized state of optimization to `/Users/thomasdodd/Library/CloudStorage/OneDrive-MillfieldEnterprisesLimited/Cambridge/GitHub/BO4ACST/Notebooks/Optimisation/Method20241028Dim2_qKnowledgeGradient/AxExperiment.json`.\n",
      "/Users/thomasdodd/miniconda3/envs/BO4ACST_env/lib/python3.11/site-packages/ax/core/data.py:288: FutureWarning: The behavior of DataFrame concatenation with empty or all-NA entries is deprecated. In a future version, this will no longer exclude empty or all-NA columns when determining the result dtypes. To retain the old behavior, exclude the relevant entries before the concat operation.\n",
      "  return cls(df=pd.concat(dfs, axis=0, sort=True))\n",
      "[WARNING 10-29 17:26:25] ax.service.utils.report_utils: Column reason missing for all trials. Not appending column.\n",
      "/Users/thomasdodd/miniconda3/envs/BO4ACST_env/lib/python3.11/site-packages/ax/core/data.py:288: FutureWarning: The behavior of DataFrame concatenation with empty or all-NA entries is deprecated. In a future version, this will no longer exclude empty or all-NA columns when determining the result dtypes. To retain the old behavior, exclude the relevant entries before the concat operation.\n",
      "  return cls(df=pd.concat(dfs, axis=0, sort=True))\n",
      "[WARNING 10-29 17:26:25] ax.service.utils.report_utils: Column reason missing for all trials. Not appending column.\n",
      "[INFO 10-29 17:26:25] ax.service.ax_client: Completed trial 13 with data: {'t1': (58.398746, None)}.\n",
      "[INFO 10-29 17:26:25] ax.service.ax_client: Saved JSON-serialized state of optimization to `/Users/thomasdodd/Library/CloudStorage/OneDrive-MillfieldEnterprisesLimited/Cambridge/GitHub/BO4ACST/Notebooks/Optimisation/Method20241028Dim2_qKnowledgeGradient/AxExperiment.json`.\n",
      "[WARNING 10-29 17:26:25] ax.service.utils.report_utils: Column reason missing for all trials. Not appending column.\n",
      "[WARNING 10-29 17:26:25] ax.service.utils.report_utils: Column reason missing for all trials. Not appending column.\n"
     ]
    },
    {
     "name": "stdout",
     "output_type": "stream",
     "text": [
      "There are no trials currently running - initialising Bayesian iteration trials.\n"
     ]
    },
    {
     "name": "stderr",
     "output_type": "stream",
     "text": [
      "[INFO 10-29 17:26:27] ax.service.ax_client: Generated new trial 14 with parameters {'x1': -0.4614, 'x2': 6.550637} using model BoTorch.\n",
      "[INFO 10-29 17:26:27] ax.service.ax_client: Saved JSON-serialized state of optimization to `/Users/thomasdodd/Library/CloudStorage/OneDrive-MillfieldEnterprisesLimited/Cambridge/GitHub/BO4ACST/Notebooks/Optimisation/Method20241028Dim2_qKnowledgeGradient/AxExperiment.json`.\n",
      "/Users/thomasdodd/miniconda3/envs/BO4ACST_env/lib/python3.11/site-packages/ax/core/data.py:288: FutureWarning: The behavior of DataFrame concatenation with empty or all-NA entries is deprecated. In a future version, this will no longer exclude empty or all-NA columns when determining the result dtypes. To retain the old behavior, exclude the relevant entries before the concat operation.\n",
      "  return cls(df=pd.concat(dfs, axis=0, sort=True))\n",
      "[WARNING 10-29 17:26:27] ax.service.utils.report_utils: Column reason missing for all trials. Not appending column.\n",
      "/Users/thomasdodd/miniconda3/envs/BO4ACST_env/lib/python3.11/site-packages/ax/core/data.py:288: FutureWarning: The behavior of DataFrame concatenation with empty or all-NA entries is deprecated. In a future version, this will no longer exclude empty or all-NA columns when determining the result dtypes. To retain the old behavior, exclude the relevant entries before the concat operation.\n",
      "  return cls(df=pd.concat(dfs, axis=0, sort=True))\n",
      "[WARNING 10-29 17:26:27] ax.service.utils.report_utils: Column reason missing for all trials. Not appending column.\n",
      "[INFO 10-29 17:26:27] ax.service.ax_client: Completed trial 14 with data: {'t1': (32.202361, None)}.\n",
      "[INFO 10-29 17:26:27] ax.service.ax_client: Saved JSON-serialized state of optimization to `/Users/thomasdodd/Library/CloudStorage/OneDrive-MillfieldEnterprisesLimited/Cambridge/GitHub/BO4ACST/Notebooks/Optimisation/Method20241028Dim2_qKnowledgeGradient/AxExperiment.json`.\n",
      "[WARNING 10-29 17:26:27] ax.service.utils.report_utils: Column reason missing for all trials. Not appending column.\n",
      "[WARNING 10-29 17:26:27] ax.service.utils.report_utils: Column reason missing for all trials. Not appending column.\n"
     ]
    },
    {
     "name": "stdout",
     "output_type": "stream",
     "text": [
      "There are no trials currently running - initialising Bayesian iteration trials.\n"
     ]
    },
    {
     "name": "stderr",
     "output_type": "stream",
     "text": [
      "[INFO 10-29 17:26:29] ax.service.ax_client: Generated new trial 15 with parameters {'x1': 5.497142, 'x2': 0.387109} using model BoTorch.\n",
      "[INFO 10-29 17:26:29] ax.service.ax_client: Saved JSON-serialized state of optimization to `/Users/thomasdodd/Library/CloudStorage/OneDrive-MillfieldEnterprisesLimited/Cambridge/GitHub/BO4ACST/Notebooks/Optimisation/Method20241028Dim2_qKnowledgeGradient/AxExperiment.json`.\n",
      "/Users/thomasdodd/miniconda3/envs/BO4ACST_env/lib/python3.11/site-packages/ax/core/data.py:288: FutureWarning: The behavior of DataFrame concatenation with empty or all-NA entries is deprecated. In a future version, this will no longer exclude empty or all-NA columns when determining the result dtypes. To retain the old behavior, exclude the relevant entries before the concat operation.\n",
      "  return cls(df=pd.concat(dfs, axis=0, sort=True))\n",
      "[WARNING 10-29 17:26:29] ax.service.utils.report_utils: Column reason missing for all trials. Not appending column.\n",
      "/Users/thomasdodd/miniconda3/envs/BO4ACST_env/lib/python3.11/site-packages/ax/core/data.py:288: FutureWarning: The behavior of DataFrame concatenation with empty or all-NA entries is deprecated. In a future version, this will no longer exclude empty or all-NA columns when determining the result dtypes. To retain the old behavior, exclude the relevant entries before the concat operation.\n",
      "  return cls(df=pd.concat(dfs, axis=0, sort=True))\n",
      "[WARNING 10-29 17:26:29] ax.service.utils.report_utils: Column reason missing for all trials. Not appending column.\n",
      "[INFO 10-29 17:26:29] ax.service.ax_client: Completed trial 15 with data: {'t1': (41.253082, None)}.\n",
      "[INFO 10-29 17:26:29] ax.service.ax_client: Saved JSON-serialized state of optimization to `/Users/thomasdodd/Library/CloudStorage/OneDrive-MillfieldEnterprisesLimited/Cambridge/GitHub/BO4ACST/Notebooks/Optimisation/Method20241028Dim2_qKnowledgeGradient/AxExperiment.json`.\n",
      "[WARNING 10-29 17:26:29] ax.service.utils.report_utils: Column reason missing for all trials. Not appending column.\n",
      "[WARNING 10-29 17:26:29] ax.service.utils.report_utils: Column reason missing for all trials. Not appending column.\n"
     ]
    },
    {
     "name": "stdout",
     "output_type": "stream",
     "text": [
      "There are no trials currently running - initialising Bayesian iteration trials.\n"
     ]
    },
    {
     "name": "stderr",
     "output_type": "stream",
     "text": [
      "[INFO 10-29 17:27:21] ax.service.ax_client: Generated new trial 16 with parameters {'x1': 0.584779, 'x2': 6.765663} using model BoTorch.\n",
      "[INFO 10-29 17:27:21] ax.service.ax_client: Saved JSON-serialized state of optimization to `/Users/thomasdodd/Library/CloudStorage/OneDrive-MillfieldEnterprisesLimited/Cambridge/GitHub/BO4ACST/Notebooks/Optimisation/Method20241028Dim2_qKnowledgeGradient/AxExperiment.json`.\n",
      "/Users/thomasdodd/miniconda3/envs/BO4ACST_env/lib/python3.11/site-packages/ax/core/data.py:288: FutureWarning: The behavior of DataFrame concatenation with empty or all-NA entries is deprecated. In a future version, this will no longer exclude empty or all-NA columns when determining the result dtypes. To retain the old behavior, exclude the relevant entries before the concat operation.\n",
      "  return cls(df=pd.concat(dfs, axis=0, sort=True))\n",
      "[WARNING 10-29 17:27:21] ax.service.utils.report_utils: Column reason missing for all trials. Not appending column.\n",
      "/Users/thomasdodd/miniconda3/envs/BO4ACST_env/lib/python3.11/site-packages/ax/core/data.py:288: FutureWarning: The behavior of DataFrame concatenation with empty or all-NA entries is deprecated. In a future version, this will no longer exclude empty or all-NA columns when determining the result dtypes. To retain the old behavior, exclude the relevant entries before the concat operation.\n",
      "  return cls(df=pd.concat(dfs, axis=0, sort=True))\n",
      "[WARNING 10-29 17:27:21] ax.service.utils.report_utils: Column reason missing for all trials. Not appending column.\n",
      "[INFO 10-29 17:27:21] ax.service.ax_client: Completed trial 16 with data: {'t1': (59.254459, None)}.\n",
      "[INFO 10-29 17:27:21] ax.service.ax_client: Saved JSON-serialized state of optimization to `/Users/thomasdodd/Library/CloudStorage/OneDrive-MillfieldEnterprisesLimited/Cambridge/GitHub/BO4ACST/Notebooks/Optimisation/Method20241028Dim2_qKnowledgeGradient/AxExperiment.json`.\n",
      "[WARNING 10-29 17:27:21] ax.service.utils.report_utils: Column reason missing for all trials. Not appending column.\n",
      "[WARNING 10-29 17:27:21] ax.service.utils.report_utils: Column reason missing for all trials. Not appending column.\n"
     ]
    },
    {
     "name": "stdout",
     "output_type": "stream",
     "text": [
      "There are no trials currently running - initialising Bayesian iteration trials.\n"
     ]
    },
    {
     "name": "stderr",
     "output_type": "stream",
     "text": [
      "[INFO 10-29 17:28:41] ax.service.ax_client: Generated new trial 17 with parameters {'x1': 3.115025, 'x2': -1.694381} using model BoTorch.\n",
      "[INFO 10-29 17:28:41] ax.service.ax_client: Saved JSON-serialized state of optimization to `/Users/thomasdodd/Library/CloudStorage/OneDrive-MillfieldEnterprisesLimited/Cambridge/GitHub/BO4ACST/Notebooks/Optimisation/Method20241028Dim2_qKnowledgeGradient/AxExperiment.json`.\n",
      "/Users/thomasdodd/miniconda3/envs/BO4ACST_env/lib/python3.11/site-packages/ax/core/data.py:288: FutureWarning: The behavior of DataFrame concatenation with empty or all-NA entries is deprecated. In a future version, this will no longer exclude empty or all-NA columns when determining the result dtypes. To retain the old behavior, exclude the relevant entries before the concat operation.\n",
      "  return cls(df=pd.concat(dfs, axis=0, sort=True))\n",
      "[WARNING 10-29 17:28:41] ax.service.utils.report_utils: Column reason missing for all trials. Not appending column.\n",
      "/Users/thomasdodd/miniconda3/envs/BO4ACST_env/lib/python3.11/site-packages/ax/core/data.py:288: FutureWarning: The behavior of DataFrame concatenation with empty or all-NA entries is deprecated. In a future version, this will no longer exclude empty or all-NA columns when determining the result dtypes. To retain the old behavior, exclude the relevant entries before the concat operation.\n",
      "  return cls(df=pd.concat(dfs, axis=0, sort=True))\n",
      "[WARNING 10-29 17:28:41] ax.service.utils.report_utils: Column reason missing for all trials. Not appending column.\n",
      "[INFO 10-29 17:28:41] ax.service.ax_client: Completed trial 17 with data: {'t1': (53.122846, None)}.\n",
      "[INFO 10-29 17:28:41] ax.service.ax_client: Saved JSON-serialized state of optimization to `/Users/thomasdodd/Library/CloudStorage/OneDrive-MillfieldEnterprisesLimited/Cambridge/GitHub/BO4ACST/Notebooks/Optimisation/Method20241028Dim2_qKnowledgeGradient/AxExperiment.json`.\n",
      "[WARNING 10-29 17:28:41] ax.service.utils.report_utils: Column reason missing for all trials. Not appending column.\n",
      "[WARNING 10-29 17:28:41] ax.service.utils.report_utils: Column reason missing for all trials. Not appending column.\n"
     ]
    },
    {
     "name": "stdout",
     "output_type": "stream",
     "text": [
      "There are no trials currently running - initialising Bayesian iteration trials.\n"
     ]
    },
    {
     "name": "stderr",
     "output_type": "stream",
     "text": [
      "[INFO 10-29 17:29:49] ax.service.ax_client: Generated new trial 18 with parameters {'x1': 6.693488, 'x2': 2.414673} using model BoTorch.\n",
      "[INFO 10-29 17:29:49] ax.service.ax_client: Saved JSON-serialized state of optimization to `/Users/thomasdodd/Library/CloudStorage/OneDrive-MillfieldEnterprisesLimited/Cambridge/GitHub/BO4ACST/Notebooks/Optimisation/Method20241028Dim2_qKnowledgeGradient/AxExperiment.json`.\n",
      "/Users/thomasdodd/miniconda3/envs/BO4ACST_env/lib/python3.11/site-packages/ax/core/data.py:288: FutureWarning: The behavior of DataFrame concatenation with empty or all-NA entries is deprecated. In a future version, this will no longer exclude empty or all-NA columns when determining the result dtypes. To retain the old behavior, exclude the relevant entries before the concat operation.\n",
      "  return cls(df=pd.concat(dfs, axis=0, sort=True))\n",
      "[WARNING 10-29 17:29:49] ax.service.utils.report_utils: Column reason missing for all trials. Not appending column.\n",
      "/Users/thomasdodd/miniconda3/envs/BO4ACST_env/lib/python3.11/site-packages/ax/core/data.py:288: FutureWarning: The behavior of DataFrame concatenation with empty or all-NA entries is deprecated. In a future version, this will no longer exclude empty or all-NA columns when determining the result dtypes. To retain the old behavior, exclude the relevant entries before the concat operation.\n",
      "  return cls(df=pd.concat(dfs, axis=0, sort=True))\n",
      "[WARNING 10-29 17:29:49] ax.service.utils.report_utils: Column reason missing for all trials. Not appending column.\n",
      "[INFO 10-29 17:29:49] ax.service.ax_client: Completed trial 18 with data: {'t1': (137.131626, None)}.\n",
      "[INFO 10-29 17:29:49] ax.service.ax_client: Saved JSON-serialized state of optimization to `/Users/thomasdodd/Library/CloudStorage/OneDrive-MillfieldEnterprisesLimited/Cambridge/GitHub/BO4ACST/Notebooks/Optimisation/Method20241028Dim2_qKnowledgeGradient/AxExperiment.json`.\n",
      "[WARNING 10-29 17:29:49] ax.service.utils.report_utils: Column reason missing for all trials. Not appending column.\n",
      "[WARNING 10-29 17:29:49] ax.service.utils.report_utils: Column reason missing for all trials. Not appending column.\n"
     ]
    },
    {
     "name": "stdout",
     "output_type": "stream",
     "text": [
      "There are no trials currently running - initialising Bayesian iteration trials.\n"
     ]
    },
    {
     "name": "stderr",
     "output_type": "stream",
     "text": [
      "[INFO 10-29 17:30:30] ax.service.ax_client: Generated new trial 19 with parameters {'x1': -1.797668, 'x2': 3.926265} using model BoTorch.\n",
      "[INFO 10-29 17:30:30] ax.service.ax_client: Saved JSON-serialized state of optimization to `/Users/thomasdodd/Library/CloudStorage/OneDrive-MillfieldEnterprisesLimited/Cambridge/GitHub/BO4ACST/Notebooks/Optimisation/Method20241028Dim2_qKnowledgeGradient/AxExperiment.json`.\n",
      "/Users/thomasdodd/miniconda3/envs/BO4ACST_env/lib/python3.11/site-packages/ax/core/data.py:288: FutureWarning: The behavior of DataFrame concatenation with empty or all-NA entries is deprecated. In a future version, this will no longer exclude empty or all-NA columns when determining the result dtypes. To retain the old behavior, exclude the relevant entries before the concat operation.\n",
      "  return cls(df=pd.concat(dfs, axis=0, sort=True))\n",
      "[WARNING 10-29 17:30:30] ax.service.utils.report_utils: Column reason missing for all trials. Not appending column.\n",
      "/Users/thomasdodd/miniconda3/envs/BO4ACST_env/lib/python3.11/site-packages/ax/core/data.py:288: FutureWarning: The behavior of DataFrame concatenation with empty or all-NA entries is deprecated. In a future version, this will no longer exclude empty or all-NA columns when determining the result dtypes. To retain the old behavior, exclude the relevant entries before the concat operation.\n",
      "  return cls(df=pd.concat(dfs, axis=0, sort=True))\n",
      "[WARNING 10-29 17:30:30] ax.service.utils.report_utils: Column reason missing for all trials. Not appending column.\n",
      "[INFO 10-29 17:30:30] ax.service.ax_client: Completed trial 19 with data: {'t1': (22.693502, None)}.\n",
      "[INFO 10-29 17:30:30] ax.service.ax_client: Saved JSON-serialized state of optimization to `/Users/thomasdodd/Library/CloudStorage/OneDrive-MillfieldEnterprisesLimited/Cambridge/GitHub/BO4ACST/Notebooks/Optimisation/Method20241028Dim2_qKnowledgeGradient/AxExperiment.json`.\n",
      "[WARNING 10-29 17:30:30] ax.service.utils.report_utils: Column reason missing for all trials. Not appending column.\n",
      "[WARNING 10-29 17:30:30] ax.service.utils.report_utils: Column reason missing for all trials. Not appending column.\n"
     ]
    },
    {
     "name": "stdout",
     "output_type": "stream",
     "text": [
      "There are no trials currently running - initialising Bayesian iteration trials.\n"
     ]
    },
    {
     "name": "stderr",
     "output_type": "stream",
     "text": [
      "[INFO 10-29 17:30:50] ax.service.ax_client: Generated new trial 20 with parameters {'x1': 0.308959, 'x2': 5.264195} using model BoTorch.\n",
      "[INFO 10-29 17:30:50] ax.service.ax_client: Saved JSON-serialized state of optimization to `/Users/thomasdodd/Library/CloudStorage/OneDrive-MillfieldEnterprisesLimited/Cambridge/GitHub/BO4ACST/Notebooks/Optimisation/Method20241028Dim2_qKnowledgeGradient/AxExperiment.json`.\n",
      "/Users/thomasdodd/miniconda3/envs/BO4ACST_env/lib/python3.11/site-packages/ax/core/data.py:288: FutureWarning: The behavior of DataFrame concatenation with empty or all-NA entries is deprecated. In a future version, this will no longer exclude empty or all-NA columns when determining the result dtypes. To retain the old behavior, exclude the relevant entries before the concat operation.\n",
      "  return cls(df=pd.concat(dfs, axis=0, sort=True))\n",
      "[WARNING 10-29 17:30:50] ax.service.utils.report_utils: Column reason missing for all trials. Not appending column.\n",
      "/Users/thomasdodd/miniconda3/envs/BO4ACST_env/lib/python3.11/site-packages/ax/core/data.py:288: FutureWarning: The behavior of DataFrame concatenation with empty or all-NA entries is deprecated. In a future version, this will no longer exclude empty or all-NA columns when determining the result dtypes. To retain the old behavior, exclude the relevant entries before the concat operation.\n",
      "  return cls(df=pd.concat(dfs, axis=0, sort=True))\n",
      "[WARNING 10-29 17:30:50] ax.service.utils.report_utils: Column reason missing for all trials. Not appending column.\n",
      "[INFO 10-29 17:30:50] ax.service.ax_client: Completed trial 20 with data: {'t1': (15.503373, None)}.\n",
      "[INFO 10-29 17:30:50] ax.service.ax_client: Saved JSON-serialized state of optimization to `/Users/thomasdodd/Library/CloudStorage/OneDrive-MillfieldEnterprisesLimited/Cambridge/GitHub/BO4ACST/Notebooks/Optimisation/Method20241028Dim2_qKnowledgeGradient/AxExperiment.json`.\n",
      "[WARNING 10-29 17:30:50] ax.service.utils.report_utils: Column reason missing for all trials. Not appending column.\n",
      "[WARNING 10-29 17:30:50] ax.service.utils.report_utils: Column reason missing for all trials. Not appending column.\n"
     ]
    },
    {
     "name": "stdout",
     "output_type": "stream",
     "text": [
      "There are no trials currently running - initialising Bayesian iteration trials.\n"
     ]
    },
    {
     "name": "stderr",
     "output_type": "stream",
     "text": [
      "[INFO 10-29 17:31:17] ax.service.ax_client: Generated new trial 21 with parameters {'x1': 3.763817, 'x2': -0.047133} using model BoTorch.\n",
      "[INFO 10-29 17:31:17] ax.service.ax_client: Saved JSON-serialized state of optimization to `/Users/thomasdodd/Library/CloudStorage/OneDrive-MillfieldEnterprisesLimited/Cambridge/GitHub/BO4ACST/Notebooks/Optimisation/Method20241028Dim2_qKnowledgeGradient/AxExperiment.json`.\n",
      "/Users/thomasdodd/miniconda3/envs/BO4ACST_env/lib/python3.11/site-packages/ax/core/data.py:288: FutureWarning: The behavior of DataFrame concatenation with empty or all-NA entries is deprecated. In a future version, this will no longer exclude empty or all-NA columns when determining the result dtypes. To retain the old behavior, exclude the relevant entries before the concat operation.\n",
      "  return cls(df=pd.concat(dfs, axis=0, sort=True))\n",
      "[WARNING 10-29 17:31:17] ax.service.utils.report_utils: Column reason missing for all trials. Not appending column.\n",
      "/Users/thomasdodd/miniconda3/envs/BO4ACST_env/lib/python3.11/site-packages/ax/core/data.py:288: FutureWarning: The behavior of DataFrame concatenation with empty or all-NA entries is deprecated. In a future version, this will no longer exclude empty or all-NA columns when determining the result dtypes. To retain the old behavior, exclude the relevant entries before the concat operation.\n",
      "  return cls(df=pd.concat(dfs, axis=0, sort=True))\n",
      "[WARNING 10-29 17:31:17] ax.service.utils.report_utils: Column reason missing for all trials. Not appending column.\n",
      "[INFO 10-29 17:31:17] ax.service.ax_client: Completed trial 21 with data: {'t1': (17.244777, None)}.\n",
      "[INFO 10-29 17:31:17] ax.service.ax_client: Saved JSON-serialized state of optimization to `/Users/thomasdodd/Library/CloudStorage/OneDrive-MillfieldEnterprisesLimited/Cambridge/GitHub/BO4ACST/Notebooks/Optimisation/Method20241028Dim2_qKnowledgeGradient/AxExperiment.json`.\n",
      "[WARNING 10-29 17:31:17] ax.service.utils.report_utils: Column reason missing for all trials. Not appending column.\n",
      "[WARNING 10-29 17:31:17] ax.service.utils.report_utils: Column reason missing for all trials. Not appending column.\n"
     ]
    },
    {
     "name": "stdout",
     "output_type": "stream",
     "text": [
      "There are no trials currently running - initialising Bayesian iteration trials.\n"
     ]
    },
    {
     "name": "stderr",
     "output_type": "stream",
     "text": [
      "[INFO 10-29 17:31:49] ax.service.ax_client: Generated new trial 22 with parameters {'x1': -7.851994, 'x2': 8.584263} using model BoTorch.\n",
      "[INFO 10-29 17:31:49] ax.service.ax_client: Saved JSON-serialized state of optimization to `/Users/thomasdodd/Library/CloudStorage/OneDrive-MillfieldEnterprisesLimited/Cambridge/GitHub/BO4ACST/Notebooks/Optimisation/Method20241028Dim2_qKnowledgeGradient/AxExperiment.json`.\n",
      "/Users/thomasdodd/miniconda3/envs/BO4ACST_env/lib/python3.11/site-packages/ax/core/data.py:288: FutureWarning: The behavior of DataFrame concatenation with empty or all-NA entries is deprecated. In a future version, this will no longer exclude empty or all-NA columns when determining the result dtypes. To retain the old behavior, exclude the relevant entries before the concat operation.\n",
      "  return cls(df=pd.concat(dfs, axis=0, sort=True))\n",
      "[WARNING 10-29 17:31:49] ax.service.utils.report_utils: Column reason missing for all trials. Not appending column.\n",
      "/Users/thomasdodd/miniconda3/envs/BO4ACST_env/lib/python3.11/site-packages/ax/core/data.py:288: FutureWarning: The behavior of DataFrame concatenation with empty or all-NA entries is deprecated. In a future version, this will no longer exclude empty or all-NA columns when determining the result dtypes. To retain the old behavior, exclude the relevant entries before the concat operation.\n",
      "  return cls(df=pd.concat(dfs, axis=0, sort=True))\n",
      "[WARNING 10-29 17:31:49] ax.service.utils.report_utils: Column reason missing for all trials. Not appending column.\n",
      "[INFO 10-29 17:31:49] ax.service.ax_client: Completed trial 22 with data: {'t1': (152.254067, None)}.\n",
      "[INFO 10-29 17:31:49] ax.service.ax_client: Saved JSON-serialized state of optimization to `/Users/thomasdodd/Library/CloudStorage/OneDrive-MillfieldEnterprisesLimited/Cambridge/GitHub/BO4ACST/Notebooks/Optimisation/Method20241028Dim2_qKnowledgeGradient/AxExperiment.json`.\n",
      "[WARNING 10-29 17:31:49] ax.service.utils.report_utils: Column reason missing for all trials. Not appending column.\n",
      "[WARNING 10-29 17:31:49] ax.service.utils.report_utils: Column reason missing for all trials. Not appending column.\n"
     ]
    },
    {
     "name": "stdout",
     "output_type": "stream",
     "text": [
      "There are no trials currently running - initialising Bayesian iteration trials.\n"
     ]
    },
    {
     "name": "stderr",
     "output_type": "stream",
     "text": [
      "[INFO 10-29 17:32:46] ax.service.ax_client: Generated new trial 23 with parameters {'x1': -3.547134, 'x2': 0.97365} using model BoTorch.\n",
      "[INFO 10-29 17:32:46] ax.service.ax_client: Saved JSON-serialized state of optimization to `/Users/thomasdodd/Library/CloudStorage/OneDrive-MillfieldEnterprisesLimited/Cambridge/GitHub/BO4ACST/Notebooks/Optimisation/Method20241028Dim2_qKnowledgeGradient/AxExperiment.json`.\n",
      "/Users/thomasdodd/miniconda3/envs/BO4ACST_env/lib/python3.11/site-packages/ax/core/data.py:288: FutureWarning: The behavior of DataFrame concatenation with empty or all-NA entries is deprecated. In a future version, this will no longer exclude empty or all-NA columns when determining the result dtypes. To retain the old behavior, exclude the relevant entries before the concat operation.\n",
      "  return cls(df=pd.concat(dfs, axis=0, sort=True))\n",
      "[WARNING 10-29 17:32:46] ax.service.utils.report_utils: Column reason missing for all trials. Not appending column.\n",
      "/Users/thomasdodd/miniconda3/envs/BO4ACST_env/lib/python3.11/site-packages/ax/core/data.py:288: FutureWarning: The behavior of DataFrame concatenation with empty or all-NA entries is deprecated. In a future version, this will no longer exclude empty or all-NA columns when determining the result dtypes. To retain the old behavior, exclude the relevant entries before the concat operation.\n",
      "  return cls(df=pd.concat(dfs, axis=0, sort=True))\n",
      "[WARNING 10-29 17:32:46] ax.service.utils.report_utils: Column reason missing for all trials. Not appending column.\n",
      "[INFO 10-29 17:32:46] ax.service.ax_client: Completed trial 23 with data: {'t1': (197.625283, None)}.\n",
      "[INFO 10-29 17:32:46] ax.service.ax_client: Saved JSON-serialized state of optimization to `/Users/thomasdodd/Library/CloudStorage/OneDrive-MillfieldEnterprisesLimited/Cambridge/GitHub/BO4ACST/Notebooks/Optimisation/Method20241028Dim2_qKnowledgeGradient/AxExperiment.json`.\n",
      "[WARNING 10-29 17:32:46] ax.service.utils.report_utils: Column reason missing for all trials. Not appending column.\n",
      "[INFO 10-29 17:32:46] ax.service.ax_client: Starting optimization with verbose logging. To disable logging, set the `verbose_logging` argument to `False`. Note that float values in the logs are rounded to 6 decimal points.\n",
      "[INFO 10-29 17:32:46] ax.service.utils.instantiation: Created search space: SearchSpace(parameters=[RangeParameter(name='x1', parameter_type=FLOAT, range=[-10.0, 10.0]), RangeParameter(name='x2', parameter_type=FLOAT, range=[-10.0, 10.0])], parameter_constraints=[]).\n",
      "[INFO 10-29 17:32:46] ax.service.ax_client: Saved JSON-serialized state of optimization to `/Users/thomasdodd/Library/CloudStorage/OneDrive-MillfieldEnterprisesLimited/Cambridge/GitHub/BO4ACST/Notebooks/Optimisation/Method20241028Dim2_qKnowledgeGradient/AxExperiment.json`.\n",
      "[INFO 10-29 17:32:46] ax.core.experiment: Attached custom parameterizations [{'x1': -10.0, 'x2': -10.0}] as trial 0.\n",
      "[INFO 10-29 17:32:46] ax.core.experiment: Attached custom parameterizations [{'x1': 0.0, 'x2': -10.0}] as trial 1.\n",
      "[INFO 10-29 17:32:46] ax.core.experiment: Attached custom parameterizations [{'x1': 10.0, 'x2': -10.0}] as trial 2.\n",
      "[INFO 10-29 17:32:46] ax.core.experiment: Attached custom parameterizations [{'x1': -10.0, 'x2': 0.0}] as trial 3.\n",
      "[INFO 10-29 17:32:46] ax.core.experiment: Attached custom parameterizations [{'x1': 0.0, 'x2': 0.0}] as trial 4.\n",
      "[INFO 10-29 17:32:46] ax.core.experiment: Attached custom parameterizations [{'x1': 10.0, 'x2': 0.0}] as trial 5.\n",
      "[INFO 10-29 17:32:46] ax.core.experiment: Attached custom parameterizations [{'x1': -10.0, 'x2': 10.0}] as trial 6.\n",
      "[INFO 10-29 17:32:46] ax.core.experiment: Attached custom parameterizations [{'x1': 0.0, 'x2': 10.0}] as trial 7.\n",
      "[INFO 10-29 17:32:46] ax.core.experiment: Attached custom parameterizations [{'x1': 10.0, 'x2': 10.0}] as trial 8.\n",
      "[INFO 10-29 17:32:46] ax.service.ax_client: Saved JSON-serialized state of optimization to `/Users/thomasdodd/Library/CloudStorage/OneDrive-MillfieldEnterprisesLimited/Cambridge/GitHub/BO4ACST/Notebooks/Optimisation/Method20241028Dim2_qKnowledgeGradient/AxExperiment.json`.\n",
      "[WARNING 10-29 17:32:46] ax.service.utils.report_utils: Column reason missing for all trials. Not appending column.\n",
      "[INFO 10-29 17:32:46] ax.service.utils.report_utils: No results present for the specified metrics `[Metric('t1')]`. Returning arm parameters and metadata only.\n",
      "[WARNING 10-29 17:32:46] ax.service.utils.report_utils: Column reason missing for all trials. Not appending column.\n",
      "[INFO 10-29 17:32:46] ax.service.utils.report_utils: No results present for the specified metrics `[Metric('t1')]`. Returning arm parameters and metadata only.\n",
      "[INFO 10-29 17:32:46] ax.service.ax_client: Completed trial 0 with data: {'t1': (2594.0, None)}.\n",
      "[INFO 10-29 17:32:46] ax.service.ax_client: Saved JSON-serialized state of optimization to `/Users/thomasdodd/Library/CloudStorage/OneDrive-MillfieldEnterprisesLimited/Cambridge/GitHub/BO4ACST/Notebooks/Optimisation/Method20241028Dim2_qKnowledgeGradient/AxExperiment.json`.\n",
      "[INFO 10-29 17:32:46] ax.service.ax_client: Completed trial 1 with data: {'t1': (954.0, None)}.\n",
      "[INFO 10-29 17:32:46] ax.service.ax_client: Saved JSON-serialized state of optimization to `/Users/thomasdodd/Library/CloudStorage/OneDrive-MillfieldEnterprisesLimited/Cambridge/GitHub/BO4ACST/Notebooks/Optimisation/Method20241028Dim2_qKnowledgeGradient/AxExperiment.json`.\n",
      "[INFO 10-29 17:32:46] ax.service.ax_client: Completed trial 2 with data: {'t1': (314.0, None)}.\n",
      "[INFO 10-29 17:32:46] ax.service.ax_client: Saved JSON-serialized state of optimization to `/Users/thomasdodd/Library/CloudStorage/OneDrive-MillfieldEnterprisesLimited/Cambridge/GitHub/BO4ACST/Notebooks/Optimisation/Method20241028Dim2_qKnowledgeGradient/AxExperiment.json`.\n",
      "[INFO 10-29 17:32:46] ax.service.ax_client: Completed trial 3 with data: {'t1': (914.0, None)}.\n",
      "[INFO 10-29 17:32:46] ax.service.ax_client: Saved JSON-serialized state of optimization to `/Users/thomasdodd/Library/CloudStorage/OneDrive-MillfieldEnterprisesLimited/Cambridge/GitHub/BO4ACST/Notebooks/Optimisation/Method20241028Dim2_qKnowledgeGradient/AxExperiment.json`.\n",
      "[INFO 10-29 17:32:46] ax.service.ax_client: Completed trial 4 with data: {'t1': (74.0, None)}.\n",
      "[INFO 10-29 17:32:46] ax.service.ax_client: Saved JSON-serialized state of optimization to `/Users/thomasdodd/Library/CloudStorage/OneDrive-MillfieldEnterprisesLimited/Cambridge/GitHub/BO4ACST/Notebooks/Optimisation/Method20241028Dim2_qKnowledgeGradient/AxExperiment.json`.\n",
      "[INFO 10-29 17:32:46] ax.service.ax_client: Completed trial 5 with data: {'t1': (234.0, None)}.\n",
      "[INFO 10-29 17:32:46] ax.service.ax_client: Saved JSON-serialized state of optimization to `/Users/thomasdodd/Library/CloudStorage/OneDrive-MillfieldEnterprisesLimited/Cambridge/GitHub/BO4ACST/Notebooks/Optimisation/Method20241028Dim2_qKnowledgeGradient/AxExperiment.json`.\n",
      "[INFO 10-29 17:32:46] ax.service.ax_client: Completed trial 6 with data: {'t1': (234.0, None)}.\n",
      "[INFO 10-29 17:32:46] ax.service.ax_client: Saved JSON-serialized state of optimization to `/Users/thomasdodd/Library/CloudStorage/OneDrive-MillfieldEnterprisesLimited/Cambridge/GitHub/BO4ACST/Notebooks/Optimisation/Method20241028Dim2_qKnowledgeGradient/AxExperiment.json`.\n",
      "[INFO 10-29 17:32:46] ax.service.ax_client: Completed trial 7 with data: {'t1': (194.0, None)}.\n",
      "[INFO 10-29 17:32:46] ax.service.ax_client: Saved JSON-serialized state of optimization to `/Users/thomasdodd/Library/CloudStorage/OneDrive-MillfieldEnterprisesLimited/Cambridge/GitHub/BO4ACST/Notebooks/Optimisation/Method20241028Dim2_qKnowledgeGradient/AxExperiment.json`.\n",
      "[INFO 10-29 17:32:46] ax.service.ax_client: Completed trial 8 with data: {'t1': (1154.0, None)}.\n",
      "[INFO 10-29 17:32:46] ax.service.ax_client: Saved JSON-serialized state of optimization to `/Users/thomasdodd/Library/CloudStorage/OneDrive-MillfieldEnterprisesLimited/Cambridge/GitHub/BO4ACST/Notebooks/Optimisation/Method20241028Dim2_qKnowledgeGradient/AxExperiment.json`.\n",
      "[WARNING 10-29 17:32:46] ax.service.utils.report_utils: Column reason missing for all trials. Not appending column.\n",
      "[WARNING 10-29 17:32:46] ax.service.utils.report_utils: Column reason missing for all trials. Not appending column.\n"
     ]
    },
    {
     "name": "stdout",
     "output_type": "stream",
     "text": [
      "[74.         74.         74.         59.264374   55.74321108 55.74321108\n",
      " 32.20236064 32.20236064 32.20236064 32.20236064 32.20236064 22.6935017\n",
      " 15.50337279 15.50337279 15.50337279 15.50337279]\n",
      "A new experiment has been created and initialised.\n",
      "No previous or current trials detected - initialising prior-forming trials.\n",
      "Samples gridded = 9\n",
      "There are no trials currently running - initialising Bayesian iteration trials.\n"
     ]
    },
    {
     "name": "stderr",
     "output_type": "stream",
     "text": [
      "[INFO 10-29 17:32:49] ax.service.ax_client: Generated new trial 9 with parameters {'x1': -4.37528, 'x2': 4.81989} using model BoTorch.\n",
      "[INFO 10-29 17:32:49] ax.service.ax_client: Saved JSON-serialized state of optimization to `/Users/thomasdodd/Library/CloudStorage/OneDrive-MillfieldEnterprisesLimited/Cambridge/GitHub/BO4ACST/Notebooks/Optimisation/Method20241028Dim2_qKnowledgeGradient/AxExperiment.json`.\n",
      "/Users/thomasdodd/miniconda3/envs/BO4ACST_env/lib/python3.11/site-packages/ax/core/data.py:288: FutureWarning: The behavior of DataFrame concatenation with empty or all-NA entries is deprecated. In a future version, this will no longer exclude empty or all-NA columns when determining the result dtypes. To retain the old behavior, exclude the relevant entries before the concat operation.\n",
      "  return cls(df=pd.concat(dfs, axis=0, sort=True))\n",
      "[WARNING 10-29 17:32:49] ax.service.utils.report_utils: Column reason missing for all trials. Not appending column.\n",
      "/Users/thomasdodd/miniconda3/envs/BO4ACST_env/lib/python3.11/site-packages/ax/core/data.py:288: FutureWarning: The behavior of DataFrame concatenation with empty or all-NA entries is deprecated. In a future version, this will no longer exclude empty or all-NA columns when determining the result dtypes. To retain the old behavior, exclude the relevant entries before the concat operation.\n",
      "  return cls(df=pd.concat(dfs, axis=0, sort=True))\n",
      "[WARNING 10-29 17:32:49] ax.service.utils.report_utils: Column reason missing for all trials. Not appending column.\n",
      "[INFO 10-29 17:32:49] ax.service.ax_client: Completed trial 9 with data: {'t1': (82.768812, None)}.\n",
      "[INFO 10-29 17:32:49] ax.service.ax_client: Saved JSON-serialized state of optimization to `/Users/thomasdodd/Library/CloudStorage/OneDrive-MillfieldEnterprisesLimited/Cambridge/GitHub/BO4ACST/Notebooks/Optimisation/Method20241028Dim2_qKnowledgeGradient/AxExperiment.json`.\n",
      "[WARNING 10-29 17:32:49] ax.service.utils.report_utils: Column reason missing for all trials. Not appending column.\n",
      "[WARNING 10-29 17:32:49] ax.service.utils.report_utils: Column reason missing for all trials. Not appending column.\n"
     ]
    },
    {
     "name": "stdout",
     "output_type": "stream",
     "text": [
      "There are no trials currently running - initialising Bayesian iteration trials.\n"
     ]
    },
    {
     "name": "stderr",
     "output_type": "stream",
     "text": [
      "[INFO 10-29 17:32:51] ax.service.ax_client: Generated new trial 10 with parameters {'x1': 5.96659, 'x2': -5.072545} using model BoTorch.\n",
      "[INFO 10-29 17:32:51] ax.service.ax_client: Saved JSON-serialized state of optimization to `/Users/thomasdodd/Library/CloudStorage/OneDrive-MillfieldEnterprisesLimited/Cambridge/GitHub/BO4ACST/Notebooks/Optimisation/Method20241028Dim2_qKnowledgeGradient/AxExperiment.json`.\n",
      "/Users/thomasdodd/miniconda3/envs/BO4ACST_env/lib/python3.11/site-packages/ax/core/data.py:288: FutureWarning: The behavior of DataFrame concatenation with empty or all-NA entries is deprecated. In a future version, this will no longer exclude empty or all-NA columns when determining the result dtypes. To retain the old behavior, exclude the relevant entries before the concat operation.\n",
      "  return cls(df=pd.concat(dfs, axis=0, sort=True))\n",
      "[WARNING 10-29 17:32:51] ax.service.utils.report_utils: Column reason missing for all trials. Not appending column.\n",
      "/Users/thomasdodd/miniconda3/envs/BO4ACST_env/lib/python3.11/site-packages/ax/core/data.py:288: FutureWarning: The behavior of DataFrame concatenation with empty or all-NA entries is deprecated. In a future version, this will no longer exclude empty or all-NA columns when determining the result dtypes. To retain the old behavior, exclude the relevant entries before the concat operation.\n",
      "  return cls(df=pd.concat(dfs, axis=0, sort=True))\n",
      "[WARNING 10-29 17:32:51] ax.service.utils.report_utils: Column reason missing for all trials. Not appending column.\n",
      "[INFO 10-29 17:32:51] ax.service.ax_client: Completed trial 10 with data: {'t1': (128.420832, None)}.\n",
      "[INFO 10-29 17:32:51] ax.service.ax_client: Saved JSON-serialized state of optimization to `/Users/thomasdodd/Library/CloudStorage/OneDrive-MillfieldEnterprisesLimited/Cambridge/GitHub/BO4ACST/Notebooks/Optimisation/Method20241028Dim2_qKnowledgeGradient/AxExperiment.json`.\n",
      "[WARNING 10-29 17:32:51] ax.service.utils.report_utils: Column reason missing for all trials. Not appending column.\n",
      "[WARNING 10-29 17:32:51] ax.service.utils.report_utils: Column reason missing for all trials. Not appending column.\n"
     ]
    },
    {
     "name": "stdout",
     "output_type": "stream",
     "text": [
      "There are no trials currently running - initialising Bayesian iteration trials.\n"
     ]
    },
    {
     "name": "stderr",
     "output_type": "stream",
     "text": [
      "[INFO 10-29 17:32:53] ax.service.ax_client: Generated new trial 11 with parameters {'x1': 4.537999, 'x2': 2.887064} using model BoTorch.\n",
      "[INFO 10-29 17:32:53] ax.service.ax_client: Saved JSON-serialized state of optimization to `/Users/thomasdodd/Library/CloudStorage/OneDrive-MillfieldEnterprisesLimited/Cambridge/GitHub/BO4ACST/Notebooks/Optimisation/Method20241028Dim2_qKnowledgeGradient/AxExperiment.json`.\n",
      "/Users/thomasdodd/miniconda3/envs/BO4ACST_env/lib/python3.11/site-packages/ax/core/data.py:288: FutureWarning: The behavior of DataFrame concatenation with empty or all-NA entries is deprecated. In a future version, this will no longer exclude empty or all-NA columns when determining the result dtypes. To retain the old behavior, exclude the relevant entries before the concat operation.\n",
      "  return cls(df=pd.concat(dfs, axis=0, sort=True))\n",
      "[WARNING 10-29 17:32:53] ax.service.utils.report_utils: Column reason missing for all trials. Not appending column.\n",
      "/Users/thomasdodd/miniconda3/envs/BO4ACST_env/lib/python3.11/site-packages/ax/core/data.py:288: FutureWarning: The behavior of DataFrame concatenation with empty or all-NA entries is deprecated. In a future version, this will no longer exclude empty or all-NA columns when determining the result dtypes. To retain the old behavior, exclude the relevant entries before the concat operation.\n",
      "  return cls(df=pd.concat(dfs, axis=0, sort=True))\n",
      "[WARNING 10-29 17:32:53] ax.service.utils.report_utils: Column reason missing for all trials. Not appending column.\n",
      "[INFO 10-29 17:32:53] ax.service.ax_client: Completed trial 11 with data: {'t1': (59.45444, None)}.\n",
      "[INFO 10-29 17:32:53] ax.service.ax_client: Saved JSON-serialized state of optimization to `/Users/thomasdodd/Library/CloudStorage/OneDrive-MillfieldEnterprisesLimited/Cambridge/GitHub/BO4ACST/Notebooks/Optimisation/Method20241028Dim2_qKnowledgeGradient/AxExperiment.json`.\n",
      "[WARNING 10-29 17:32:53] ax.service.utils.report_utils: Column reason missing for all trials. Not appending column.\n",
      "[WARNING 10-29 17:32:53] ax.service.utils.report_utils: Column reason missing for all trials. Not appending column.\n"
     ]
    },
    {
     "name": "stdout",
     "output_type": "stream",
     "text": [
      "There are no trials currently running - initialising Bayesian iteration trials.\n"
     ]
    },
    {
     "name": "stderr",
     "output_type": "stream",
     "text": [
      "[INFO 10-29 17:32:55] ax.service.ax_client: Generated new trial 12 with parameters {'x1': -4.478699, 'x2': 6.924536} using model BoTorch.\n",
      "[INFO 10-29 17:32:55] ax.service.ax_client: Saved JSON-serialized state of optimization to `/Users/thomasdodd/Library/CloudStorage/OneDrive-MillfieldEnterprisesLimited/Cambridge/GitHub/BO4ACST/Notebooks/Optimisation/Method20241028Dim2_qKnowledgeGradient/AxExperiment.json`.\n",
      "/Users/thomasdodd/miniconda3/envs/BO4ACST_env/lib/python3.11/site-packages/ax/core/data.py:288: FutureWarning: The behavior of DataFrame concatenation with empty or all-NA entries is deprecated. In a future version, this will no longer exclude empty or all-NA columns when determining the result dtypes. To retain the old behavior, exclude the relevant entries before the concat operation.\n",
      "  return cls(df=pd.concat(dfs, axis=0, sort=True))\n",
      "[WARNING 10-29 17:32:55] ax.service.utils.report_utils: Column reason missing for all trials. Not appending column.\n",
      "/Users/thomasdodd/miniconda3/envs/BO4ACST_env/lib/python3.11/site-packages/ax/core/data.py:288: FutureWarning: The behavior of DataFrame concatenation with empty or all-NA entries is deprecated. In a future version, this will no longer exclude empty or all-NA columns when determining the result dtypes. To retain the old behavior, exclude the relevant entries before the concat operation.\n",
      "  return cls(df=pd.concat(dfs, axis=0, sort=True))\n",
      "[WARNING 10-29 17:32:55] ax.service.utils.report_utils: Column reason missing for all trials. Not appending column.\n",
      "[INFO 10-29 17:32:55] ax.service.ax_client: Completed trial 12 with data: {'t1': (55.079828, None)}.\n",
      "[INFO 10-29 17:32:55] ax.service.ax_client: Saved JSON-serialized state of optimization to `/Users/thomasdodd/Library/CloudStorage/OneDrive-MillfieldEnterprisesLimited/Cambridge/GitHub/BO4ACST/Notebooks/Optimisation/Method20241028Dim2_qKnowledgeGradient/AxExperiment.json`.\n",
      "[WARNING 10-29 17:32:55] ax.service.utils.report_utils: Column reason missing for all trials. Not appending column.\n",
      "[WARNING 10-29 17:32:55] ax.service.utils.report_utils: Column reason missing for all trials. Not appending column.\n"
     ]
    },
    {
     "name": "stdout",
     "output_type": "stream",
     "text": [
      "There are no trials currently running - initialising Bayesian iteration trials.\n"
     ]
    },
    {
     "name": "stderr",
     "output_type": "stream",
     "text": [
      "[INFO 10-29 17:32:56] ax.service.ax_client: Generated new trial 13 with parameters {'x1': 4.502717, 'x2': -2.706287} using model BoTorch.\n",
      "[INFO 10-29 17:32:56] ax.service.ax_client: Saved JSON-serialized state of optimization to `/Users/thomasdodd/Library/CloudStorage/OneDrive-MillfieldEnterprisesLimited/Cambridge/GitHub/BO4ACST/Notebooks/Optimisation/Method20241028Dim2_qKnowledgeGradient/AxExperiment.json`.\n",
      "/Users/thomasdodd/miniconda3/envs/BO4ACST_env/lib/python3.11/site-packages/ax/core/data.py:288: FutureWarning: The behavior of DataFrame concatenation with empty or all-NA entries is deprecated. In a future version, this will no longer exclude empty or all-NA columns when determining the result dtypes. To retain the old behavior, exclude the relevant entries before the concat operation.\n",
      "  return cls(df=pd.concat(dfs, axis=0, sort=True))\n",
      "[WARNING 10-29 17:32:57] ax.service.utils.report_utils: Column reason missing for all trials. Not appending column.\n",
      "/Users/thomasdodd/miniconda3/envs/BO4ACST_env/lib/python3.11/site-packages/ax/core/data.py:288: FutureWarning: The behavior of DataFrame concatenation with empty or all-NA entries is deprecated. In a future version, this will no longer exclude empty or all-NA columns when determining the result dtypes. To retain the old behavior, exclude the relevant entries before the concat operation.\n",
      "  return cls(df=pd.concat(dfs, axis=0, sort=True))\n",
      "[WARNING 10-29 17:32:57] ax.service.utils.report_utils: Column reason missing for all trials. Not appending column.\n",
      "[INFO 10-29 17:32:57] ax.service.ax_client: Completed trial 13 with data: {'t1': (64.253616, None)}.\n",
      "[INFO 10-29 17:32:57] ax.service.ax_client: Saved JSON-serialized state of optimization to `/Users/thomasdodd/Library/CloudStorage/OneDrive-MillfieldEnterprisesLimited/Cambridge/GitHub/BO4ACST/Notebooks/Optimisation/Method20241028Dim2_qKnowledgeGradient/AxExperiment.json`.\n",
      "[WARNING 10-29 17:32:57] ax.service.utils.report_utils: Column reason missing for all trials. Not appending column.\n",
      "[WARNING 10-29 17:32:57] ax.service.utils.report_utils: Column reason missing for all trials. Not appending column.\n"
     ]
    },
    {
     "name": "stdout",
     "output_type": "stream",
     "text": [
      "There are no trials currently running - initialising Bayesian iteration trials.\n"
     ]
    },
    {
     "name": "stderr",
     "output_type": "stream",
     "text": [
      "[INFO 10-29 17:32:59] ax.service.ax_client: Generated new trial 14 with parameters {'x1': -0.421425, 'x2': 6.561197} using model BoTorch.\n",
      "[INFO 10-29 17:32:59] ax.service.ax_client: Saved JSON-serialized state of optimization to `/Users/thomasdodd/Library/CloudStorage/OneDrive-MillfieldEnterprisesLimited/Cambridge/GitHub/BO4ACST/Notebooks/Optimisation/Method20241028Dim2_qKnowledgeGradient/AxExperiment.json`.\n",
      "/Users/thomasdodd/miniconda3/envs/BO4ACST_env/lib/python3.11/site-packages/ax/core/data.py:288: FutureWarning: The behavior of DataFrame concatenation with empty or all-NA entries is deprecated. In a future version, this will no longer exclude empty or all-NA columns when determining the result dtypes. To retain the old behavior, exclude the relevant entries before the concat operation.\n",
      "  return cls(df=pd.concat(dfs, axis=0, sort=True))\n",
      "[WARNING 10-29 17:32:59] ax.service.utils.report_utils: Column reason missing for all trials. Not appending column.\n",
      "/Users/thomasdodd/miniconda3/envs/BO4ACST_env/lib/python3.11/site-packages/ax/core/data.py:288: FutureWarning: The behavior of DataFrame concatenation with empty or all-NA entries is deprecated. In a future version, this will no longer exclude empty or all-NA columns when determining the result dtypes. To retain the old behavior, exclude the relevant entries before the concat operation.\n",
      "  return cls(df=pd.concat(dfs, axis=0, sort=True))\n",
      "[WARNING 10-29 17:32:59] ax.service.utils.report_utils: Column reason missing for all trials. Not appending column.\n",
      "[INFO 10-29 17:32:59] ax.service.ax_client: Completed trial 14 with data: {'t1': (33.01707, None)}.\n",
      "[INFO 10-29 17:32:59] ax.service.ax_client: Saved JSON-serialized state of optimization to `/Users/thomasdodd/Library/CloudStorage/OneDrive-MillfieldEnterprisesLimited/Cambridge/GitHub/BO4ACST/Notebooks/Optimisation/Method20241028Dim2_qKnowledgeGradient/AxExperiment.json`.\n",
      "[WARNING 10-29 17:32:59] ax.service.utils.report_utils: Column reason missing for all trials. Not appending column.\n",
      "[WARNING 10-29 17:32:59] ax.service.utils.report_utils: Column reason missing for all trials. Not appending column.\n"
     ]
    },
    {
     "name": "stdout",
     "output_type": "stream",
     "text": [
      "There are no trials currently running - initialising Bayesian iteration trials.\n"
     ]
    },
    {
     "name": "stderr",
     "output_type": "stream",
     "text": [
      "[INFO 10-29 17:33:01] ax.service.ax_client: Generated new trial 15 with parameters {'x1': 5.602529, 'x2': 0.25832} using model BoTorch.\n",
      "[INFO 10-29 17:33:01] ax.service.ax_client: Saved JSON-serialized state of optimization to `/Users/thomasdodd/Library/CloudStorage/OneDrive-MillfieldEnterprisesLimited/Cambridge/GitHub/BO4ACST/Notebooks/Optimisation/Method20241028Dim2_qKnowledgeGradient/AxExperiment.json`.\n",
      "/Users/thomasdodd/miniconda3/envs/BO4ACST_env/lib/python3.11/site-packages/ax/core/data.py:288: FutureWarning: The behavior of DataFrame concatenation with empty or all-NA entries is deprecated. In a future version, this will no longer exclude empty or all-NA columns when determining the result dtypes. To retain the old behavior, exclude the relevant entries before the concat operation.\n",
      "  return cls(df=pd.concat(dfs, axis=0, sort=True))\n",
      "[WARNING 10-29 17:33:01] ax.service.utils.report_utils: Column reason missing for all trials. Not appending column.\n",
      "/Users/thomasdodd/miniconda3/envs/BO4ACST_env/lib/python3.11/site-packages/ax/core/data.py:288: FutureWarning: The behavior of DataFrame concatenation with empty or all-NA entries is deprecated. In a future version, this will no longer exclude empty or all-NA columns when determining the result dtypes. To retain the old behavior, exclude the relevant entries before the concat operation.\n",
      "  return cls(df=pd.concat(dfs, axis=0, sort=True))\n",
      "[WARNING 10-29 17:33:01] ax.service.utils.report_utils: Column reason missing for all trials. Not appending column.\n",
      "[INFO 10-29 17:33:01] ax.service.ax_client: Completed trial 15 with data: {'t1': (42.551108, None)}.\n",
      "[INFO 10-29 17:33:01] ax.service.ax_client: Saved JSON-serialized state of optimization to `/Users/thomasdodd/Library/CloudStorage/OneDrive-MillfieldEnterprisesLimited/Cambridge/GitHub/BO4ACST/Notebooks/Optimisation/Method20241028Dim2_qKnowledgeGradient/AxExperiment.json`.\n",
      "[WARNING 10-29 17:33:01] ax.service.utils.report_utils: Column reason missing for all trials. Not appending column.\n",
      "[WARNING 10-29 17:33:01] ax.service.utils.report_utils: Column reason missing for all trials. Not appending column.\n"
     ]
    },
    {
     "name": "stdout",
     "output_type": "stream",
     "text": [
      "There are no trials currently running - initialising Bayesian iteration trials.\n"
     ]
    },
    {
     "name": "stderr",
     "output_type": "stream",
     "text": [
      "[INFO 10-29 17:33:51] ax.service.ax_client: Generated new trial 16 with parameters {'x1': 0.507832, 'x2': 6.627213} using model BoTorch.\n",
      "[INFO 10-29 17:33:51] ax.service.ax_client: Saved JSON-serialized state of optimization to `/Users/thomasdodd/Library/CloudStorage/OneDrive-MillfieldEnterprisesLimited/Cambridge/GitHub/BO4ACST/Notebooks/Optimisation/Method20241028Dim2_qKnowledgeGradient/AxExperiment.json`.\n",
      "/Users/thomasdodd/miniconda3/envs/BO4ACST_env/lib/python3.11/site-packages/ax/core/data.py:288: FutureWarning: The behavior of DataFrame concatenation with empty or all-NA entries is deprecated. In a future version, this will no longer exclude empty or all-NA columns when determining the result dtypes. To retain the old behavior, exclude the relevant entries before the concat operation.\n",
      "  return cls(df=pd.concat(dfs, axis=0, sort=True))\n",
      "[WARNING 10-29 17:33:51] ax.service.utils.report_utils: Column reason missing for all trials. Not appending column.\n",
      "/Users/thomasdodd/miniconda3/envs/BO4ACST_env/lib/python3.11/site-packages/ax/core/data.py:288: FutureWarning: The behavior of DataFrame concatenation with empty or all-NA entries is deprecated. In a future version, this will no longer exclude empty or all-NA columns when determining the result dtypes. To retain the old behavior, exclude the relevant entries before the concat operation.\n",
      "  return cls(df=pd.concat(dfs, axis=0, sort=True))\n",
      "[WARNING 10-29 17:33:51] ax.service.utils.report_utils: Column reason missing for all trials. Not appending column.\n",
      "[INFO 10-29 17:33:51] ax.service.ax_client: Completed trial 16 with data: {'t1': (52.712919, None)}.\n",
      "[INFO 10-29 17:33:51] ax.service.ax_client: Saved JSON-serialized state of optimization to `/Users/thomasdodd/Library/CloudStorage/OneDrive-MillfieldEnterprisesLimited/Cambridge/GitHub/BO4ACST/Notebooks/Optimisation/Method20241028Dim2_qKnowledgeGradient/AxExperiment.json`.\n",
      "[WARNING 10-29 17:33:51] ax.service.utils.report_utils: Column reason missing for all trials. Not appending column.\n",
      "[WARNING 10-29 17:33:51] ax.service.utils.report_utils: Column reason missing for all trials. Not appending column.\n"
     ]
    },
    {
     "name": "stdout",
     "output_type": "stream",
     "text": [
      "There are no trials currently running - initialising Bayesian iteration trials.\n"
     ]
    },
    {
     "name": "stderr",
     "output_type": "stream",
     "text": [
      "[INFO 10-29 17:34:47] ax.service.ax_client: Generated new trial 17 with parameters {'x1': 3.38476, 'x2': -1.070292} using model BoTorch.\n",
      "[INFO 10-29 17:34:47] ax.service.ax_client: Saved JSON-serialized state of optimization to `/Users/thomasdodd/Library/CloudStorage/OneDrive-MillfieldEnterprisesLimited/Cambridge/GitHub/BO4ACST/Notebooks/Optimisation/Method20241028Dim2_qKnowledgeGradient/AxExperiment.json`.\n",
      "/Users/thomasdodd/miniconda3/envs/BO4ACST_env/lib/python3.11/site-packages/ax/core/data.py:288: FutureWarning: The behavior of DataFrame concatenation with empty or all-NA entries is deprecated. In a future version, this will no longer exclude empty or all-NA columns when determining the result dtypes. To retain the old behavior, exclude the relevant entries before the concat operation.\n",
      "  return cls(df=pd.concat(dfs, axis=0, sort=True))\n",
      "[WARNING 10-29 17:34:47] ax.service.utils.report_utils: Column reason missing for all trials. Not appending column.\n",
      "/Users/thomasdodd/miniconda3/envs/BO4ACST_env/lib/python3.11/site-packages/ax/core/data.py:288: FutureWarning: The behavior of DataFrame concatenation with empty or all-NA entries is deprecated. In a future version, this will no longer exclude empty or all-NA columns when determining the result dtypes. To retain the old behavior, exclude the relevant entries before the concat operation.\n",
      "  return cls(df=pd.concat(dfs, axis=0, sort=True))\n",
      "[WARNING 10-29 17:34:47] ax.service.utils.report_utils: Column reason missing for all trials. Not appending column.\n",
      "[INFO 10-29 17:34:47] ax.service.ax_client: Completed trial 17 with data: {'t1': (33.618426, None)}.\n",
      "[INFO 10-29 17:34:47] ax.service.ax_client: Saved JSON-serialized state of optimization to `/Users/thomasdodd/Library/CloudStorage/OneDrive-MillfieldEnterprisesLimited/Cambridge/GitHub/BO4ACST/Notebooks/Optimisation/Method20241028Dim2_qKnowledgeGradient/AxExperiment.json`.\n",
      "[WARNING 10-29 17:34:47] ax.service.utils.report_utils: Column reason missing for all trials. Not appending column.\n",
      "[WARNING 10-29 17:34:47] ax.service.utils.report_utils: Column reason missing for all trials. Not appending column.\n"
     ]
    },
    {
     "name": "stdout",
     "output_type": "stream",
     "text": [
      "There are no trials currently running - initialising Bayesian iteration trials.\n"
     ]
    },
    {
     "name": "stderr",
     "output_type": "stream",
     "text": [
      "[INFO 10-29 17:35:42] ax.service.ax_client: Generated new trial 18 with parameters {'x1': 6.546478, 'x2': 2.582581} using model BoTorch.\n",
      "[INFO 10-29 17:35:42] ax.service.ax_client: Saved JSON-serialized state of optimization to `/Users/thomasdodd/Library/CloudStorage/OneDrive-MillfieldEnterprisesLimited/Cambridge/GitHub/BO4ACST/Notebooks/Optimisation/Method20241028Dim2_qKnowledgeGradient/AxExperiment.json`.\n",
      "/Users/thomasdodd/miniconda3/envs/BO4ACST_env/lib/python3.11/site-packages/ax/core/data.py:288: FutureWarning: The behavior of DataFrame concatenation with empty or all-NA entries is deprecated. In a future version, this will no longer exclude empty or all-NA columns when determining the result dtypes. To retain the old behavior, exclude the relevant entries before the concat operation.\n",
      "  return cls(df=pd.concat(dfs, axis=0, sort=True))\n",
      "[WARNING 10-29 17:35:42] ax.service.utils.report_utils: Column reason missing for all trials. Not appending column.\n",
      "/Users/thomasdodd/miniconda3/envs/BO4ACST_env/lib/python3.11/site-packages/ax/core/data.py:288: FutureWarning: The behavior of DataFrame concatenation with empty or all-NA entries is deprecated. In a future version, this will no longer exclude empty or all-NA columns when determining the result dtypes. To retain the old behavior, exclude the relevant entries before the concat operation.\n",
      "  return cls(df=pd.concat(dfs, axis=0, sort=True))\n",
      "[WARNING 10-29 17:35:42] ax.service.utils.report_utils: Column reason missing for all trials. Not appending column.\n",
      "[INFO 10-29 17:35:42] ax.service.ax_client: Completed trial 18 with data: {'t1': (136.16667, None)}.\n",
      "[INFO 10-29 17:35:42] ax.service.ax_client: Saved JSON-serialized state of optimization to `/Users/thomasdodd/Library/CloudStorage/OneDrive-MillfieldEnterprisesLimited/Cambridge/GitHub/BO4ACST/Notebooks/Optimisation/Method20241028Dim2_qKnowledgeGradient/AxExperiment.json`.\n",
      "[WARNING 10-29 17:35:42] ax.service.utils.report_utils: Column reason missing for all trials. Not appending column.\n",
      "[WARNING 10-29 17:35:42] ax.service.utils.report_utils: Column reason missing for all trials. Not appending column.\n"
     ]
    },
    {
     "name": "stdout",
     "output_type": "stream",
     "text": [
      "There are no trials currently running - initialising Bayesian iteration trials.\n"
     ]
    },
    {
     "name": "stderr",
     "output_type": "stream",
     "text": [
      "[INFO 10-29 17:36:36] ax.service.ax_client: Generated new trial 19 with parameters {'x1': -2.719203, 'x2': 3.799668} using model BoTorch.\n",
      "[INFO 10-29 17:36:36] ax.service.ax_client: Saved JSON-serialized state of optimization to `/Users/thomasdodd/Library/CloudStorage/OneDrive-MillfieldEnterprisesLimited/Cambridge/GitHub/BO4ACST/Notebooks/Optimisation/Method20241028Dim2_qKnowledgeGradient/AxExperiment.json`.\n",
      "/Users/thomasdodd/miniconda3/envs/BO4ACST_env/lib/python3.11/site-packages/ax/core/data.py:288: FutureWarning: The behavior of DataFrame concatenation with empty or all-NA entries is deprecated. In a future version, this will no longer exclude empty or all-NA columns when determining the result dtypes. To retain the old behavior, exclude the relevant entries before the concat operation.\n",
      "  return cls(df=pd.concat(dfs, axis=0, sort=True))\n",
      "[WARNING 10-29 17:36:36] ax.service.utils.report_utils: Column reason missing for all trials. Not appending column.\n",
      "/Users/thomasdodd/miniconda3/envs/BO4ACST_env/lib/python3.11/site-packages/ax/core/data.py:288: FutureWarning: The behavior of DataFrame concatenation with empty or all-NA entries is deprecated. In a future version, this will no longer exclude empty or all-NA columns when determining the result dtypes. To retain the old behavior, exclude the relevant entries before the concat operation.\n",
      "  return cls(df=pd.concat(dfs, axis=0, sort=True))\n",
      "[WARNING 10-29 17:36:36] ax.service.utils.report_utils: Column reason missing for all trials. Not appending column.\n",
      "[INFO 10-29 17:36:36] ax.service.ax_client: Completed trial 19 with data: {'t1': (48.566693, None)}.\n",
      "[INFO 10-29 17:36:36] ax.service.ax_client: Saved JSON-serialized state of optimization to `/Users/thomasdodd/Library/CloudStorage/OneDrive-MillfieldEnterprisesLimited/Cambridge/GitHub/BO4ACST/Notebooks/Optimisation/Method20241028Dim2_qKnowledgeGradient/AxExperiment.json`.\n",
      "[WARNING 10-29 17:36:36] ax.service.utils.report_utils: Column reason missing for all trials. Not appending column.\n",
      "[WARNING 10-29 17:36:36] ax.service.utils.report_utils: Column reason missing for all trials. Not appending column.\n"
     ]
    },
    {
     "name": "stdout",
     "output_type": "stream",
     "text": [
      "There are no trials currently running - initialising Bayesian iteration trials.\n"
     ]
    },
    {
     "name": "stderr",
     "output_type": "stream",
     "text": [
      "[INFO 10-29 17:37:42] ax.service.ax_client: Generated new trial 20 with parameters {'x1': 1.11331, 'x2': 6.673604} using model BoTorch.\n",
      "[INFO 10-29 17:37:42] ax.service.ax_client: Saved JSON-serialized state of optimization to `/Users/thomasdodd/Library/CloudStorage/OneDrive-MillfieldEnterprisesLimited/Cambridge/GitHub/BO4ACST/Notebooks/Optimisation/Method20241028Dim2_qKnowledgeGradient/AxExperiment.json`.\n",
      "/Users/thomasdodd/miniconda3/envs/BO4ACST_env/lib/python3.11/site-packages/ax/core/data.py:288: FutureWarning: The behavior of DataFrame concatenation with empty or all-NA entries is deprecated. In a future version, this will no longer exclude empty or all-NA columns when determining the result dtypes. To retain the old behavior, exclude the relevant entries before the concat operation.\n",
      "  return cls(df=pd.concat(dfs, axis=0, sort=True))\n",
      "[WARNING 10-29 17:37:42] ax.service.utils.report_utils: Column reason missing for all trials. Not appending column.\n",
      "/Users/thomasdodd/miniconda3/envs/BO4ACST_env/lib/python3.11/site-packages/ax/core/data.py:288: FutureWarning: The behavior of DataFrame concatenation with empty or all-NA entries is deprecated. In a future version, this will no longer exclude empty or all-NA columns when determining the result dtypes. To retain the old behavior, exclude the relevant entries before the concat operation.\n",
      "  return cls(df=pd.concat(dfs, axis=0, sort=True))\n",
      "[WARNING 10-29 17:37:42] ax.service.utils.report_utils: Column reason missing for all trials. Not appending column.\n",
      "[INFO 10-29 17:37:42] ax.service.ax_client: Completed trial 20 with data: {'t1': (70.871077, None)}.\n",
      "[INFO 10-29 17:37:42] ax.service.ax_client: Saved JSON-serialized state of optimization to `/Users/thomasdodd/Library/CloudStorage/OneDrive-MillfieldEnterprisesLimited/Cambridge/GitHub/BO4ACST/Notebooks/Optimisation/Method20241028Dim2_qKnowledgeGradient/AxExperiment.json`.\n",
      "[WARNING 10-29 17:37:42] ax.service.utils.report_utils: Column reason missing for all trials. Not appending column.\n",
      "[WARNING 10-29 17:37:42] ax.service.utils.report_utils: Column reason missing for all trials. Not appending column.\n"
     ]
    },
    {
     "name": "stdout",
     "output_type": "stream",
     "text": [
      "There are no trials currently running - initialising Bayesian iteration trials.\n"
     ]
    },
    {
     "name": "stderr",
     "output_type": "stream",
     "text": [
      "[INFO 10-29 17:38:42] ax.service.ax_client: Generated new trial 21 with parameters {'x1': 3.455348, 'x2': -0.682418} using model BoTorch.\n",
      "[INFO 10-29 17:38:42] ax.service.ax_client: Saved JSON-serialized state of optimization to `/Users/thomasdodd/Library/CloudStorage/OneDrive-MillfieldEnterprisesLimited/Cambridge/GitHub/BO4ACST/Notebooks/Optimisation/Method20241028Dim2_qKnowledgeGradient/AxExperiment.json`.\n",
      "/Users/thomasdodd/miniconda3/envs/BO4ACST_env/lib/python3.11/site-packages/ax/core/data.py:288: FutureWarning: The behavior of DataFrame concatenation with empty or all-NA entries is deprecated. In a future version, this will no longer exclude empty or all-NA columns when determining the result dtypes. To retain the old behavior, exclude the relevant entries before the concat operation.\n",
      "  return cls(df=pd.concat(dfs, axis=0, sort=True))\n",
      "[WARNING 10-29 17:38:42] ax.service.utils.report_utils: Column reason missing for all trials. Not appending column.\n",
      "/Users/thomasdodd/miniconda3/envs/BO4ACST_env/lib/python3.11/site-packages/ax/core/data.py:288: FutureWarning: The behavior of DataFrame concatenation with empty or all-NA entries is deprecated. In a future version, this will no longer exclude empty or all-NA columns when determining the result dtypes. To retain the old behavior, exclude the relevant entries before the concat operation.\n",
      "  return cls(df=pd.concat(dfs, axis=0, sort=True))\n",
      "[WARNING 10-29 17:38:42] ax.service.utils.report_utils: Column reason missing for all trials. Not appending column.\n",
      "[INFO 10-29 17:38:42] ax.service.ax_client: Completed trial 21 with data: {'t1': (25.611739, None)}.\n",
      "[INFO 10-29 17:38:42] ax.service.ax_client: Saved JSON-serialized state of optimization to `/Users/thomasdodd/Library/CloudStorage/OneDrive-MillfieldEnterprisesLimited/Cambridge/GitHub/BO4ACST/Notebooks/Optimisation/Method20241028Dim2_qKnowledgeGradient/AxExperiment.json`.\n",
      "[WARNING 10-29 17:38:42] ax.service.utils.report_utils: Column reason missing for all trials. Not appending column.\n",
      "[WARNING 10-29 17:38:42] ax.service.utils.report_utils: Column reason missing for all trials. Not appending column.\n"
     ]
    },
    {
     "name": "stdout",
     "output_type": "stream",
     "text": [
      "There are no trials currently running - initialising Bayesian iteration trials.\n"
     ]
    },
    {
     "name": "stderr",
     "output_type": "stream",
     "text": [
      "[INFO 10-29 17:39:08] ax.service.ax_client: Generated new trial 22 with parameters {'x1': -7.892795, 'x2': 8.404924} using model BoTorch.\n",
      "[INFO 10-29 17:39:08] ax.service.ax_client: Saved JSON-serialized state of optimization to `/Users/thomasdodd/Library/CloudStorage/OneDrive-MillfieldEnterprisesLimited/Cambridge/GitHub/BO4ACST/Notebooks/Optimisation/Method20241028Dim2_qKnowledgeGradient/AxExperiment.json`.\n",
      "/Users/thomasdodd/miniconda3/envs/BO4ACST_env/lib/python3.11/site-packages/ax/core/data.py:288: FutureWarning: The behavior of DataFrame concatenation with empty or all-NA entries is deprecated. In a future version, this will no longer exclude empty or all-NA columns when determining the result dtypes. To retain the old behavior, exclude the relevant entries before the concat operation.\n",
      "  return cls(df=pd.concat(dfs, axis=0, sort=True))\n",
      "[WARNING 10-29 17:39:08] ax.service.utils.report_utils: Column reason missing for all trials. Not appending column.\n",
      "/Users/thomasdodd/miniconda3/envs/BO4ACST_env/lib/python3.11/site-packages/ax/core/data.py:288: FutureWarning: The behavior of DataFrame concatenation with empty or all-NA entries is deprecated. In a future version, this will no longer exclude empty or all-NA columns when determining the result dtypes. To retain the old behavior, exclude the relevant entries before the concat operation.\n",
      "  return cls(df=pd.concat(dfs, axis=0, sort=True))\n",
      "[WARNING 10-29 17:39:08] ax.service.utils.report_utils: Column reason missing for all trials. Not appending column.\n",
      "[INFO 10-29 17:39:08] ax.service.ax_client: Completed trial 22 with data: {'t1': (156.956002, None)}.\n",
      "[INFO 10-29 17:39:08] ax.service.ax_client: Saved JSON-serialized state of optimization to `/Users/thomasdodd/Library/CloudStorage/OneDrive-MillfieldEnterprisesLimited/Cambridge/GitHub/BO4ACST/Notebooks/Optimisation/Method20241028Dim2_qKnowledgeGradient/AxExperiment.json`.\n",
      "[WARNING 10-29 17:39:08] ax.service.utils.report_utils: Column reason missing for all trials. Not appending column.\n",
      "[WARNING 10-29 17:39:08] ax.service.utils.report_utils: Column reason missing for all trials. Not appending column.\n"
     ]
    },
    {
     "name": "stdout",
     "output_type": "stream",
     "text": [
      "There are no trials currently running - initialising Bayesian iteration trials.\n"
     ]
    },
    {
     "name": "stderr",
     "output_type": "stream",
     "text": [
      "[INFO 10-29 17:40:05] ax.service.ax_client: Generated new trial 23 with parameters {'x1': -2.390398, 'x2': 5.394112} using model BoTorch.\n",
      "[INFO 10-29 17:40:05] ax.service.ax_client: Saved JSON-serialized state of optimization to `/Users/thomasdodd/Library/CloudStorage/OneDrive-MillfieldEnterprisesLimited/Cambridge/GitHub/BO4ACST/Notebooks/Optimisation/Method20241028Dim2_qKnowledgeGradient/AxExperiment.json`.\n",
      "/Users/thomasdodd/miniconda3/envs/BO4ACST_env/lib/python3.11/site-packages/ax/core/data.py:288: FutureWarning: The behavior of DataFrame concatenation with empty or all-NA entries is deprecated. In a future version, this will no longer exclude empty or all-NA columns when determining the result dtypes. To retain the old behavior, exclude the relevant entries before the concat operation.\n",
      "  return cls(df=pd.concat(dfs, axis=0, sort=True))\n",
      "[WARNING 10-29 17:40:05] ax.service.utils.report_utils: Column reason missing for all trials. Not appending column.\n",
      "/Users/thomasdodd/miniconda3/envs/BO4ACST_env/lib/python3.11/site-packages/ax/core/data.py:288: FutureWarning: The behavior of DataFrame concatenation with empty or all-NA entries is deprecated. In a future version, this will no longer exclude empty or all-NA columns when determining the result dtypes. To retain the old behavior, exclude the relevant entries before the concat operation.\n",
      "  return cls(df=pd.concat(dfs, axis=0, sort=True))\n",
      "[WARNING 10-29 17:40:05] ax.service.utils.report_utils: Column reason missing for all trials. Not appending column.\n",
      "[INFO 10-29 17:40:05] ax.service.ax_client: Completed trial 23 with data: {'t1': (21.19691, None)}.\n",
      "[INFO 10-29 17:40:05] ax.service.ax_client: Saved JSON-serialized state of optimization to `/Users/thomasdodd/Library/CloudStorage/OneDrive-MillfieldEnterprisesLimited/Cambridge/GitHub/BO4ACST/Notebooks/Optimisation/Method20241028Dim2_qKnowledgeGradient/AxExperiment.json`.\n",
      "[WARNING 10-29 17:40:05] ax.service.utils.report_utils: Column reason missing for all trials. Not appending column.\n"
     ]
    },
    {
     "name": "stdout",
     "output_type": "stream",
     "text": [
      "[74.         74.         74.         59.45443999 55.07982813 55.07982813\n",
      " 33.01706966 33.01706966 33.01706966 33.01706966 33.01706966 33.01706966\n",
      " 33.01706966 25.61173859 25.61173859 21.19690991]\n"
     ]
    }
   ],
   "source": [
    "# Using the qKnowledgeGradient\n",
    "attempts = 10\n",
    "t1Best_arr = np.empty(0)\n",
    "for attempt in range(attempts):\n",
    "    t1Min_arr = np.empty(0)\n",
    "    AxClient_obj = ExperimentalMethods_obj.ExperimentInitialiser_func(OptimisationSetup_obj)\n",
    "    for round in range(OptimisationSetup_obj.NoOfIterations_int):\n",
    "        ExperimentalMethods_obj.TrialsStartor_func(AxClient_obj,OptimisationSetup_obj)\n",
    "        ExperimentalMethods_obj.TrialsCompletor_func(AxClient_obj,OptimisationSetup_obj)\n",
    "        df = AxClient_obj.get_trials_data_frame()\n",
    "        t1_arr = np.array(df[\"t1\"])\n",
    "        t1Min_flt = np.min(t1_arr)\n",
    "        t1Min_arr = np.append(arr=t1Min_arr,values=t1Min_flt)\n",
    "    print(t1Min_arr)\n",
    "    os.remove(OptimisationSetup_obj.ExperimentFilePath_str)\n",
    "    Bestt1_flt = t1Min_arr[-1]\n",
    "    t1Best_arr = np.append(arr=t1Best_arr,values=Bestt1_flt)"
   ]
  },
  {
   "cell_type": "code",
   "execution_count": 3,
   "metadata": {},
   "outputs": [
    {
     "data": {
      "text/plain": [
       "array([29.88046534, 17.90444295, 26.51519663, 12.5957456 , 30.33152817,\n",
       "       16.42884076, 19.30810466, 27.19151531, 15.50337279, 21.19690991])"
      ]
     },
     "execution_count": 3,
     "metadata": {},
     "output_type": "execute_result"
    }
   ],
   "source": [
    "t1Best_arr"
   ]
  },
  {
   "cell_type": "code",
   "execution_count": 4,
   "metadata": {},
   "outputs": [
    {
     "data": {
      "text/plain": [
       "21.685612212265692"
      ]
     },
     "execution_count": 4,
     "metadata": {},
     "output_type": "execute_result"
    }
   ],
   "source": [
    "np.average(t1Best_arr)"
   ]
  },
  {
   "cell_type": "code",
   "execution_count": 5,
   "metadata": {},
   "outputs": [
    {
     "data": {
      "text/plain": [
       "12.595745599233675"
      ]
     },
     "execution_count": 5,
     "metadata": {},
     "output_type": "execute_result"
    }
   ],
   "source": [
    "np.min(t1Best_arr)"
   ]
  },
  {
   "cell_type": "code",
   "execution_count": null,
   "metadata": {},
   "outputs": [],
   "source": []
  }
 ],
 "metadata": {
  "kernelspec": {
   "display_name": "BO4ACST_env",
   "language": "python",
   "name": "python3"
  },
  "language_info": {
   "codemirror_mode": {
    "name": "ipython",
    "version": 3
   },
   "file_extension": ".py",
   "mimetype": "text/x-python",
   "name": "python",
   "nbconvert_exporter": "python",
   "pygments_lexer": "ipython3",
   "version": "3.11.10"
  }
 },
 "nbformat": 4,
 "nbformat_minor": 2
}
