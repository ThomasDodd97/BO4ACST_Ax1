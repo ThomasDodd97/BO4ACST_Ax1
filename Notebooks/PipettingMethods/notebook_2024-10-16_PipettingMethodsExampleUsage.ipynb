{
 "cells": [
  {
   "cell_type": "code",
   "execution_count": 1,
   "metadata": {},
   "outputs": [],
   "source": [
    "import os\n",
    "from PipettingMethods import PipettingMethods_class\n",
    "from MiscMethods import MiscMethods_class"
   ]
  },
  {
   "cell_type": "code",
   "execution_count": 2,
   "metadata": {},
   "outputs": [
    {
     "name": "stdout",
     "output_type": "stream",
     "text": [
      "The mass to be pipetted: 46.89 g\n",
      "The substance to be pipetted: Diethyl itaconate\n",
      "The substance volume: 45086.53846153846 ul\n",
      "The selected pipette: P10mL\n",
      "The selected tip: D10mL\n",
      "Location of Calibration Data: /Users/thomasdodd/Library/CloudStorage/OneDrive-MillfieldEnterprisesLimited/Cambridge/GitHub/BO4ACST/BO4ACST_Dependencies/PipettingDependencies/raw-data_2024-10-07_PipetteCalibration_2409-52-1_c.csv\n",
      "Pipetting strategy: 5 * 9017.307692307691 ul\n",
      "Pipette Setting: 9.82 ml\n",
      "The final setup: 5 * 9.822 ml = 46.89 g\n"
     ]
    }
   ],
   "source": [
    "# Setting out the package to be used.\n",
    "# PathBO4ACSTPackage_str = \"/Users/thomasdodd/Library/CloudStorage/OneDrive-MillfieldEnterprisesLimited/Cambridge/GitHub/BO4ACST\"\n",
    "\n",
    "# Instantiating objects of utility.\n",
    "MiscM_obj = MiscMethods_class()\n",
    "PipettingM_obj = PipettingMethods_class()\n",
    "\n",
    "# Useful dictionaries opened.\n",
    "PipetteData_dict = MiscM_obj.jsonOpener_func(MiscM_obj.RootPackageLocation_str + PipettingM_obj.DependencyFileLocation_str)\n",
    "ChemicalData_dict = MiscM_obj.jsonOpener_func(MiscM_obj.RootPackageLocation_str + MiscM_obj.ChemicalDependencyFileLocation_str)\n",
    "\n",
    "# A requested mass of the proposed substance.\n",
    "SubstanceMass_g_flt = 46.89 # A normal amount which can be pipetted.\n",
    "# SubstanceMass_g_flt = 0.8 # An awkward amount between two pipettes.\n",
    "# SubstanceMass_g_flt = 0.00000001 # An awkward amount below the capabilities of any of the pipettes.\n",
    "# SubstanceMass_g_flt = 25 # An awkward amount above the capabilities of any of the pipettes.\n",
    "print(f\"The mass to be pipetted: {SubstanceMass_g_flt} g\")\n",
    "\n",
    "# A proposed substance.\n",
    "SubstanceInfo_dict = ChemicalData_dict[\"chemicals\"][\"DeI\"]\n",
    "print(f\"The substance to be pipetted: {SubstanceInfo_dict.get('name_str')}\")\n",
    "\n",
    "# Finding the volume of substance to be pipetted using the VolumeFinder_func function.\n",
    "SubstanceVolume_ul_flt = PipettingM_obj.VolumeFinder_func(SubstanceMass_g_flt,SubstanceInfo_dict)\n",
    "print(f\"The substance volume: {SubstanceVolume_ul_flt} ul\")\n",
    "\n",
    "# Deduced pipette to be used.\n",
    "PipetteName_str = PipettingM_obj.PipetteSelector_func(SubstanceVolume_ul_flt,PipetteData_dict)\n",
    "print(f\"The selected pipette: {PipetteName_str}\")\n",
    "\n",
    "# Deduced tip to be used.\n",
    "TipName_str = PipettingM_obj.TipSelector_func(PipetteName_str,PipetteData_dict)\n",
    "print(f\"The selected tip: {TipName_str}\")\n",
    "\n",
    "# Finding out if there is a calibration dataset for this substance and the equipment in question.\n",
    "CalibrationDataLocation_str = PipettingM_obj.CalibrationDataAvailabilityChecker_func(SubstanceInfo_dict,PipetteData_dict,PipetteName_str,TipName_str,MiscM_obj.RootPackageLocation_str,PipettingM_obj.DependencyFolderLocation_str)\n",
    "print(f\"Location of Calibration Data: {CalibrationDataLocation_str}\")\n",
    "\n",
    "# The calibration curve is fitted in the form of a simple straight line equation.\n",
    "# y = ax + b\n",
    "# y = (CalibrationStraightLineEquationParameters_arr[0] * x) + CalibrationStraightLineEquationParameters_arr[1]\n",
    "CalibrationStraightLineEquationParameters_arr = PipettingM_obj.CalibrationEquationGenerator_func(CalibrationDataLocation_str)\n",
    "\n",
    "# Retrieving a pipetting strategy.\n",
    "NumberOfPipettingRounds_int,VolumePerRound_ul_flt = PipettingM_obj.PipettingStrategyDesigner_func(PipetteName_str,TipName_str,PipetteData_dict,SubstanceVolume_ul_flt)\n",
    "print(f\"Pipetting strategy: {NumberOfPipettingRounds_int} * {VolumePerRound_ul_flt} ul\")\n",
    "\n",
    "# Retrieving a pipetting setting for the strategy.\n",
    "PipetteSetting_flt,PipetteSettingUnits_str = PipettingM_obj.PipetteSettingFinder_func(NumberOfPipettingRounds_int,SubstanceMass_g_flt,PipetteName_str,PipetteData_dict,CalibrationStraightLineEquationParameters_arr)\n",
    "print(f\"Pipette Setting: {round(PipetteSetting_flt,2)} {PipetteSettingUnits_str}\")\n",
    "\n",
    "print(f\"The final setup: {NumberOfPipettingRounds_int} * {round(PipetteSetting_flt,3)} {PipetteSettingUnits_str} = {SubstanceMass_g_flt} g\")"
   ]
  },
  {
   "cell_type": "code",
   "execution_count": 5,
   "metadata": {},
   "outputs": [
    {
     "name": "stdout",
     "output_type": "stream",
     "text": [
      "The final setup: 1 * 10.121 ul = 0.01 g\n"
     ]
    }
   ],
   "source": [
    "PipettingM_obj = PipettingMethods_class()\n",
    "SubstanceMass_g_flt = 0.01\n",
    "SubstanceAcronym_str = \"DeI\"\n",
    "PipettingM_obj.MassToVolumeToSetting_func(SubstanceMass_g_flt,SubstanceAcronym_str)"
   ]
  },
  {
   "cell_type": "markdown",
   "metadata": {},
   "source": []
  }
 ],
 "metadata": {
  "kernelspec": {
   "display_name": "BO4ACST_env",
   "language": "python",
   "name": "python3"
  },
  "language_info": {
   "codemirror_mode": {
    "name": "ipython",
    "version": 3
   },
   "file_extension": ".py",
   "mimetype": "text/x-python",
   "name": "python",
   "nbconvert_exporter": "python",
   "pygments_lexer": "ipython3",
   "version": "3.11.10"
  }
 },
 "nbformat": 4,
 "nbformat_minor": 2
}
