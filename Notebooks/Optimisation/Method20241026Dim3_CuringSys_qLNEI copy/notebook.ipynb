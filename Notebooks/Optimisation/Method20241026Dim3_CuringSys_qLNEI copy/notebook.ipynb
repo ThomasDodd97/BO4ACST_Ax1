{
 "cells": [
  {
   "cell_type": "markdown",
   "metadata": {},
   "source": [
    "# Optimising Unknown Curing System: 'Method20241026Dim3'\n",
    "\n",
    "Settings:\n",
    "* Space-Filling Technique: Quasirandom (1 * 15)\n",
    "* Sequential Technique: Ax (12 * 1)\n",
    "* Acquisition Function: qLNEI"
   ]
  },
  {
   "cell_type": "markdown",
   "metadata": {},
   "source": [
    "# Nødvendig Bestanddel:"
   ]
  },
  {
   "cell_type": "code",
   "execution_count": 1,
   "metadata": {},
   "outputs": [],
   "source": [
    "from ConfigFile import OptimisationSetup_class\n",
    "from ExperimentalMethods import ExperimentalMethods_class"
   ]
  },
  {
   "cell_type": "code",
   "execution_count": 2,
   "metadata": {},
   "outputs": [],
   "source": [
    "# Instantiate the optimisation configuration class object.\n",
    "OptimisationSetup_obj = OptimisationSetup_class()\n",
    "# Instantiate the experimental methods class object.\n",
    "ExperimentalMethods_obj = ExperimentalMethods_class()"
   ]
  },
  {
   "cell_type": "code",
   "execution_count": 3,
   "metadata": {},
   "outputs": [
    {
     "name": "stderr",
     "output_type": "stream",
     "text": [
      "[INFO 11-11 09:59:29] ax.service.ax_client: Starting optimization with verbose logging. To disable logging, set the `verbose_logging` argument to `False`. Note that float values in the logs are rounded to 6 decimal points.\n",
      "[INFO 11-11 09:59:29] ax.service.ax_client: Starting optimization with verbose logging. To disable logging, set the `verbose_logging` argument to `False`. Note that float values in the logs are rounded to 6 decimal points.\n"
     ]
    },
    {
     "name": "stdout",
     "output_type": "stream",
     "text": [
      "The current experiment has been initialised.\n"
     ]
    }
   ],
   "source": [
    "# Use the initialiser function to import the current experiment or begin a new one.\n",
    "AxClient_obj = ExperimentalMethods_obj.ExperimentInitialiser_func(OptimisationSetup_obj)"
   ]
  },
  {
   "cell_type": "markdown",
   "metadata": {},
   "source": [
    "# Stykke 0 - Plot"
   ]
  },
  {
   "cell_type": "code",
   "execution_count": null,
   "metadata": {},
   "outputs": [],
   "source": [
    "# Use the initialiser function to import the current experiment or begin a new one.\n",
    "AxClient_obj = ExperimentalMethods_obj.ExperimentInitialiser_func(OptimisationSetup_obj)"
   ]
  },
  {
   "cell_type": "code",
   "execution_count": null,
   "metadata": {},
   "outputs": [],
   "source": [
    "df = AxClient_obj.get_trials_data_frame()\n",
    "df"
   ]
  },
  {
   "cell_type": "code",
   "execution_count": null,
   "metadata": {},
   "outputs": [],
   "source": [
    "from PlottingMethods import PlottingMethods_class\n",
    "Plotter_obj = PlottingMethods_class()\n",
    "Plotter_obj.InteractiveSamplesOverviewPlot(AxClient_obj,OptimisationSetup_obj)\n",
    "# x1 = 30% UP - 65% UP (UP:DeI)\n",
    "# x2 = 99% - 99.95% UPR1 (UPR1:DMA)\n",
    "# x3 = 50% - 90% AUPR1 (AUPR1:I1)"
   ]
  },
  {
   "cell_type": "code",
   "execution_count": null,
   "metadata": {},
   "outputs": [],
   "source": [
    "TypeOfJob_str = \"mean\"\n",
    "Plotter_obj.InteractiveMeanFunctionPlot(AxClient_obj,OptimisationSetup_obj,TypeOfJob_str)"
   ]
  },
  {
   "cell_type": "code",
   "execution_count": null,
   "metadata": {},
   "outputs": [],
   "source": [
    "TypeOfJob_str = \"covariance\"\n",
    "Plotter_obj.InteractiveMeanFunctionPlot(AxClient_obj,OptimisationSetup_obj,TypeOfJob_str)"
   ]
  },
  {
   "cell_type": "code",
   "execution_count": null,
   "metadata": {},
   "outputs": [],
   "source": [
    "TypeOfJob_str = \"acquisition\"\n",
    "Plotter_obj.InteractiveMeanFunctionPlot(AxClient_obj,OptimisationSetup_obj,TypeOfJob_str)"
   ]
  },
  {
   "cell_type": "markdown",
   "metadata": {},
   "source": [
    "# Stykke 1 - Begyndelsen"
   ]
  },
  {
   "cell_type": "code",
   "execution_count": 4,
   "metadata": {},
   "outputs": [
    {
     "name": "stderr",
     "output_type": "stream",
     "text": [
      "[INFO 11-11 09:59:37] ax.service.ax_client: Starting optimization with verbose logging. To disable logging, set the `verbose_logging` argument to `False`. Note that float values in the logs are rounded to 6 decimal points.\n",
      "[INFO 11-11 09:59:37] ax.service.ax_client: Starting optimization with verbose logging. To disable logging, set the `verbose_logging` argument to `False`. Note that float values in the logs are rounded to 6 decimal points.\n"
     ]
    },
    {
     "name": "stdout",
     "output_type": "stream",
     "text": [
      "The current experiment has been initialised.\n"
     ]
    }
   ],
   "source": [
    "# Use the initialiser function to import the current experiment or begin a new one.\n",
    "AxClient_obj = ExperimentalMethods_obj.ExperimentInitialiser_func(OptimisationSetup_obj)"
   ]
  },
  {
   "cell_type": "code",
   "execution_count": 5,
   "metadata": {},
   "outputs": [
    {
     "name": "stdout",
     "output_type": "stream",
     "text": [
      "There are no trials currently running - initialising Bayesian iteration trials.\n"
     ]
    },
    {
     "ename": "AttributeError",
     "evalue": "type object 'qLogNoisyExpectedImprovement' has no attribute 'copy'",
     "output_type": "error",
     "traceback": [
      "\u001b[0;31m---------------------------------------------------------------------------\u001b[0m",
      "\u001b[0;31mAttributeError\u001b[0m                            Traceback (most recent call last)",
      "Cell \u001b[0;32mIn[5], line 2\u001b[0m\n\u001b[1;32m      1\u001b[0m \u001b[38;5;66;03m# Initiate the current trials.\u001b[39;00m\n\u001b[0;32m----> 2\u001b[0m ExperimentalMethods_obj\u001b[38;5;241m.\u001b[39mTrialsStartor_func(AxClient_obj,OptimisationSetup_obj)\n\u001b[1;32m      3\u001b[0m df \u001b[38;5;241m=\u001b[39m AxClient_obj\u001b[38;5;241m.\u001b[39mget_trials_data_frame()\n\u001b[1;32m      4\u001b[0m df\n",
      "File \u001b[0;32m~/Library/CloudStorage/OneDrive-MillfieldEnterprisesLimited/Cambridge/GitHub/BO4ACST/BO4ACST_Modules/ExperimentalMethods.py:173\u001b[0m, in \u001b[0;36mExperimentalMethods_class.TrialsStartor_func\u001b[0;34m(self, AxClient_obj, OptimisationSetup_obj)\u001b[0m\n\u001b[1;32m    171\u001b[0m \u001b[38;5;28mprint\u001b[39m(\u001b[38;5;124m\"\u001b[39m\u001b[38;5;124mThere are no trials currently running - initialising Bayesian iteration trials.\u001b[39m\u001b[38;5;124m\"\u001b[39m)\n\u001b[1;32m    172\u001b[0m \u001b[38;5;28;01mif\u001b[39;00m OptimisationSetup_obj\u001b[38;5;241m.\u001b[39mSequentialTechnique \u001b[38;5;241m==\u001b[39m \u001b[38;5;124m\"\u001b[39m\u001b[38;5;124mAx\u001b[39m\u001b[38;5;124m\"\u001b[39m:\n\u001b[0;32m--> 173\u001b[0m     AxClient_obj\u001b[38;5;241m.\u001b[39mget_next_trials(max_trials\u001b[38;5;241m=\u001b[39mOptimisationSetup_obj\u001b[38;5;241m.\u001b[39mNoOfTrialsPerIteration_int)\n\u001b[1;32m    174\u001b[0m     AxClient_obj\u001b[38;5;241m.\u001b[39msave_to_json_file(OptimisationSetup_obj\u001b[38;5;241m.\u001b[39mExperimentFilePath_str)\n\u001b[1;32m    175\u001b[0m \u001b[38;5;28;01melif\u001b[39;00m OptimisationSetup_obj\u001b[38;5;241m.\u001b[39mSequentialTechnique \u001b[38;5;241m==\u001b[39m \u001b[38;5;124m\"\u001b[39m\u001b[38;5;124mMcIntersiteProj\u001b[39m\u001b[38;5;124m\"\u001b[39m:\n",
      "File \u001b[0;32m~/miniconda3/envs/BO4ACST-BleedingEdge_env/lib/python3.11/site-packages/ax/service/ax_client.py:672\u001b[0m, in \u001b[0;36mAxClient.get_next_trials\u001b[0;34m(self, max_trials, ttl_seconds, fixed_features)\u001b[0m\n\u001b[1;32m    670\u001b[0m \u001b[38;5;28;01mfor\u001b[39;00m _ \u001b[38;5;129;01min\u001b[39;00m \u001b[38;5;28mrange\u001b[39m(max_trials):\n\u001b[1;32m    671\u001b[0m     \u001b[38;5;28;01mtry\u001b[39;00m:\n\u001b[0;32m--> 672\u001b[0m         params, trial_index \u001b[38;5;241m=\u001b[39m \u001b[38;5;28mself\u001b[39m\u001b[38;5;241m.\u001b[39mget_next_trial(\n\u001b[1;32m    673\u001b[0m             ttl_seconds\u001b[38;5;241m=\u001b[39mttl_seconds, fixed_features\u001b[38;5;241m=\u001b[39mfixed_features\n\u001b[1;32m    674\u001b[0m         )\n\u001b[1;32m    675\u001b[0m         trials_dict[trial_index] \u001b[38;5;241m=\u001b[39m params\n\u001b[1;32m    676\u001b[0m     \u001b[38;5;28;01mexcept\u001b[39;00m OptimizationComplete \u001b[38;5;28;01mas\u001b[39;00m err:\n",
      "File \u001b[0;32m~/miniconda3/envs/BO4ACST-BleedingEdge_env/lib/python3.11/site-packages/ax/utils/common/executils.py:169\u001b[0m, in \u001b[0;36mretry_on_exception.<locals>.func_wrapper.<locals>.actual_wrapper\u001b[0;34m(*args, **kwargs)\u001b[0m\n\u001b[1;32m    165\u001b[0m             wait_interval \u001b[38;5;241m=\u001b[39m \u001b[38;5;28mmin\u001b[39m(\n\u001b[1;32m    166\u001b[0m                 MAX_WAIT_SECONDS, initial_wait_seconds \u001b[38;5;241m*\u001b[39m \u001b[38;5;241m2\u001b[39m \u001b[38;5;241m*\u001b[39m\u001b[38;5;241m*\u001b[39m (i \u001b[38;5;241m-\u001b[39m \u001b[38;5;241m1\u001b[39m)\n\u001b[1;32m    167\u001b[0m             )\n\u001b[1;32m    168\u001b[0m             time\u001b[38;5;241m.\u001b[39msleep(wait_interval)\n\u001b[0;32m--> 169\u001b[0m         \u001b[38;5;28;01mreturn\u001b[39;00m func(\u001b[38;5;241m*\u001b[39margs, \u001b[38;5;241m*\u001b[39m\u001b[38;5;241m*\u001b[39mkwargs)\n\u001b[1;32m    171\u001b[0m \u001b[38;5;66;03m# If we are here, it means the retries were finished but\u001b[39;00m\n\u001b[1;32m    172\u001b[0m \u001b[38;5;66;03m# The error was suppressed. Hence return the default value provided.\u001b[39;00m\n\u001b[1;32m    173\u001b[0m \u001b[38;5;28;01mreturn\u001b[39;00m default_return_on_suppression\n",
      "File \u001b[0;32m~/miniconda3/envs/BO4ACST-BleedingEdge_env/lib/python3.11/site-packages/ax/service/ax_client.py:577\u001b[0m, in \u001b[0;36mAxClient.get_next_trial\u001b[0;34m(self, ttl_seconds, force, fixed_features)\u001b[0m\n\u001b[1;32m    573\u001b[0m         \u001b[38;5;28;01mraise\u001b[39;00m OptimizationShouldStop(message\u001b[38;5;241m=\u001b[39mglobal_stopping_message)\n\u001b[1;32m    575\u001b[0m \u001b[38;5;28;01mtry\u001b[39;00m:\n\u001b[1;32m    576\u001b[0m     trial \u001b[38;5;241m=\u001b[39m \u001b[38;5;28mself\u001b[39m\u001b[38;5;241m.\u001b[39mexperiment\u001b[38;5;241m.\u001b[39mnew_trial(\n\u001b[0;32m--> 577\u001b[0m         generator_run\u001b[38;5;241m=\u001b[39m\u001b[38;5;28mself\u001b[39m\u001b[38;5;241m.\u001b[39m_gen_new_generator_run(\n\u001b[1;32m    578\u001b[0m             fixed_features\u001b[38;5;241m=\u001b[39mfixed_features\n\u001b[1;32m    579\u001b[0m         ),\n\u001b[1;32m    580\u001b[0m         ttl_seconds\u001b[38;5;241m=\u001b[39mttl_seconds,\n\u001b[1;32m    581\u001b[0m     )\n\u001b[1;32m    582\u001b[0m \u001b[38;5;28;01mexcept\u001b[39;00m MaxParallelismReachedException \u001b[38;5;28;01mas\u001b[39;00m e:\n\u001b[1;32m    583\u001b[0m     \u001b[38;5;28;01mif\u001b[39;00m \u001b[38;5;28mself\u001b[39m\u001b[38;5;241m.\u001b[39m_early_stopping_strategy \u001b[38;5;129;01mis\u001b[39;00m \u001b[38;5;129;01mnot\u001b[39;00m \u001b[38;5;28;01mNone\u001b[39;00m:\n",
      "File \u001b[0;32m~/miniconda3/envs/BO4ACST-BleedingEdge_env/lib/python3.11/site-packages/ax/service/ax_client.py:1819\u001b[0m, in \u001b[0;36mAxClient._gen_new_generator_run\u001b[0;34m(self, n, fixed_features)\u001b[0m\n\u001b[1;32m   1811\u001b[0m fixed_feats \u001b[38;5;241m=\u001b[39m (\n\u001b[1;32m   1812\u001b[0m     InstantiationBase\u001b[38;5;241m.\u001b[39mmake_fixed_observation_features(\n\u001b[1;32m   1813\u001b[0m         fixed_features\u001b[38;5;241m=\u001b[39mfixed_features\n\u001b[0;32m   (...)\u001b[0m\n\u001b[1;32m   1816\u001b[0m     \u001b[38;5;28;01melse\u001b[39;00m \u001b[38;5;28;01mNone\u001b[39;00m\n\u001b[1;32m   1817\u001b[0m )\n\u001b[1;32m   1818\u001b[0m \u001b[38;5;28;01mwith\u001b[39;00m with_rng_seed(seed\u001b[38;5;241m=\u001b[39m\u001b[38;5;28mself\u001b[39m\u001b[38;5;241m.\u001b[39m_random_seed):\n\u001b[0;32m-> 1819\u001b[0m     \u001b[38;5;28;01mreturn\u001b[39;00m none_throws(\u001b[38;5;28mself\u001b[39m\u001b[38;5;241m.\u001b[39mgeneration_strategy)\u001b[38;5;241m.\u001b[39mgen(\n\u001b[1;32m   1820\u001b[0m         experiment\u001b[38;5;241m=\u001b[39m\u001b[38;5;28mself\u001b[39m\u001b[38;5;241m.\u001b[39mexperiment,\n\u001b[1;32m   1821\u001b[0m         n\u001b[38;5;241m=\u001b[39mn,\n\u001b[1;32m   1822\u001b[0m         pending_observations\u001b[38;5;241m=\u001b[39m\u001b[38;5;28mself\u001b[39m\u001b[38;5;241m.\u001b[39m_get_pending_observation_features(\n\u001b[1;32m   1823\u001b[0m             experiment\u001b[38;5;241m=\u001b[39m\u001b[38;5;28mself\u001b[39m\u001b[38;5;241m.\u001b[39mexperiment\n\u001b[1;32m   1824\u001b[0m         ),\n\u001b[1;32m   1825\u001b[0m         fixed_features\u001b[38;5;241m=\u001b[39mfixed_feats,\n\u001b[1;32m   1826\u001b[0m     )\n",
      "File \u001b[0;32m~/miniconda3/envs/BO4ACST-BleedingEdge_env/lib/python3.11/site-packages/ax/modelbridge/generation_strategy.py:374\u001b[0m, in \u001b[0;36mGenerationStrategy.gen\u001b[0;34m(self, experiment, data, n, pending_observations, **kwargs)\u001b[0m\n\u001b[1;32m    339\u001b[0m \u001b[38;5;28;01mdef\u001b[39;00m \u001b[38;5;21mgen\u001b[39m(\n\u001b[1;32m    340\u001b[0m     \u001b[38;5;28mself\u001b[39m,\n\u001b[1;32m    341\u001b[0m     experiment: Experiment,\n\u001b[0;32m   (...)\u001b[0m\n\u001b[1;32m    345\u001b[0m     \u001b[38;5;241m*\u001b[39m\u001b[38;5;241m*\u001b[39mkwargs: Any,\n\u001b[1;32m    346\u001b[0m ) \u001b[38;5;241m-\u001b[39m\u001b[38;5;241m>\u001b[39m GeneratorRun:\n\u001b[1;32m    347\u001b[0m \u001b[38;5;250m    \u001b[39m\u001b[38;5;124;03m\"\"\"Produce the next points in the experiment. Additional kwargs passed to\u001b[39;00m\n\u001b[1;32m    348\u001b[0m \u001b[38;5;124;03m    this method are propagated directly to the underlying model's `gen`, along\u001b[39;00m\n\u001b[1;32m    349\u001b[0m \u001b[38;5;124;03m    with the `model_gen_kwargs` set on the current generation node.\u001b[39;00m\n\u001b[0;32m   (...)\u001b[0m\n\u001b[1;32m    372\u001b[0m \u001b[38;5;124;03m            resuggesting points that are currently being evaluated.\u001b[39;00m\n\u001b[1;32m    373\u001b[0m \u001b[38;5;124;03m    \"\"\"\u001b[39;00m\n\u001b[0;32m--> 374\u001b[0m     \u001b[38;5;28;01mreturn\u001b[39;00m \u001b[38;5;28mself\u001b[39m\u001b[38;5;241m.\u001b[39m_gen_multiple(\n\u001b[1;32m    375\u001b[0m         experiment\u001b[38;5;241m=\u001b[39mexperiment,\n\u001b[1;32m    376\u001b[0m         num_generator_runs\u001b[38;5;241m=\u001b[39m\u001b[38;5;241m1\u001b[39m,\n\u001b[1;32m    377\u001b[0m         data\u001b[38;5;241m=\u001b[39mdata,\n\u001b[1;32m    378\u001b[0m         n\u001b[38;5;241m=\u001b[39mn,\n\u001b[1;32m    379\u001b[0m         pending_observations\u001b[38;5;241m=\u001b[39mpending_observations,\n\u001b[1;32m    380\u001b[0m         \u001b[38;5;241m*\u001b[39m\u001b[38;5;241m*\u001b[39mkwargs,\n\u001b[1;32m    381\u001b[0m     )[\u001b[38;5;241m0\u001b[39m]\n",
      "File \u001b[0;32m~/miniconda3/envs/BO4ACST-BleedingEdge_env/lib/python3.11/site-packages/ax/modelbridge/generation_strategy.py:892\u001b[0m, in \u001b[0;36mGenerationStrategy._gen_multiple\u001b[0;34m(self, experiment, num_generator_runs, data, n, pending_observations, status_quo_features, **model_gen_kwargs)\u001b[0m\n\u001b[1;32m    890\u001b[0m \u001b[38;5;28;01mfor\u001b[39;00m _ \u001b[38;5;129;01min\u001b[39;00m \u001b[38;5;28mrange\u001b[39m(num_generator_runs):\n\u001b[1;32m    891\u001b[0m     \u001b[38;5;28;01mtry\u001b[39;00m:\n\u001b[0;32m--> 892\u001b[0m         generator_run \u001b[38;5;241m=\u001b[39m \u001b[38;5;28mself\u001b[39m\u001b[38;5;241m.\u001b[39m_curr\u001b[38;5;241m.\u001b[39mgen(\n\u001b[1;32m    893\u001b[0m             n\u001b[38;5;241m=\u001b[39mn,\n\u001b[1;32m    894\u001b[0m             pending_observations\u001b[38;5;241m=\u001b[39mpending_observations,\n\u001b[1;32m    895\u001b[0m             arms_by_signature_for_deduplication\u001b[38;5;241m=\u001b[39m(\n\u001b[1;32m    896\u001b[0m                 experiment\u001b[38;5;241m.\u001b[39marms_by_signature_for_deduplication\n\u001b[1;32m    897\u001b[0m             ),\n\u001b[1;32m    898\u001b[0m             \u001b[38;5;241m*\u001b[39m\u001b[38;5;241m*\u001b[39mmodel_gen_kwargs,\n\u001b[1;32m    899\u001b[0m         )\n\u001b[1;32m    901\u001b[0m     \u001b[38;5;28;01mexcept\u001b[39;00m DataRequiredError \u001b[38;5;28;01mas\u001b[39;00m err:\n\u001b[1;32m    902\u001b[0m         \u001b[38;5;66;03m# Model needs more data, so we log the error and return\u001b[39;00m\n\u001b[1;32m    903\u001b[0m         \u001b[38;5;66;03m# as many generator runs as we were able to produce, unless\u001b[39;00m\n\u001b[1;32m    904\u001b[0m         \u001b[38;5;66;03m# no trials were produced at all (in which case its safe to raise).\u001b[39;00m\n\u001b[1;32m    905\u001b[0m         \u001b[38;5;28;01mif\u001b[39;00m \u001b[38;5;28mlen\u001b[39m(generator_runs) \u001b[38;5;241m==\u001b[39m \u001b[38;5;241m0\u001b[39m:\n",
      "File \u001b[0;32m~/miniconda3/envs/BO4ACST-BleedingEdge_env/lib/python3.11/site-packages/ax/modelbridge/generation_node.py:902\u001b[0m, in \u001b[0;36mGenerationStep.gen\u001b[0;34m(self, n, pending_observations, max_gen_draws_for_deduplication, arms_by_signature_for_deduplication, **model_gen_kwargs)\u001b[0m\n\u001b[1;32m    894\u001b[0m \u001b[38;5;28;01mdef\u001b[39;00m \u001b[38;5;21mgen\u001b[39m(\n\u001b[1;32m    895\u001b[0m     \u001b[38;5;28mself\u001b[39m,\n\u001b[1;32m    896\u001b[0m     n: \u001b[38;5;28mint\u001b[39m \u001b[38;5;241m|\u001b[39m \u001b[38;5;28;01mNone\u001b[39;00m \u001b[38;5;241m=\u001b[39m \u001b[38;5;28;01mNone\u001b[39;00m,\n\u001b[0;32m   (...)\u001b[0m\n\u001b[1;32m    900\u001b[0m     \u001b[38;5;241m*\u001b[39m\u001b[38;5;241m*\u001b[39mmodel_gen_kwargs: Any,\n\u001b[1;32m    901\u001b[0m ) \u001b[38;5;241m-\u001b[39m\u001b[38;5;241m>\u001b[39m GeneratorRun:\n\u001b[0;32m--> 902\u001b[0m     gr \u001b[38;5;241m=\u001b[39m \u001b[38;5;28msuper\u001b[39m()\u001b[38;5;241m.\u001b[39mgen(\n\u001b[1;32m    903\u001b[0m         n\u001b[38;5;241m=\u001b[39mn,\n\u001b[1;32m    904\u001b[0m         pending_observations\u001b[38;5;241m=\u001b[39mpending_observations,\n\u001b[1;32m    905\u001b[0m         max_gen_draws_for_deduplication\u001b[38;5;241m=\u001b[39mmax_gen_draws_for_deduplication,\n\u001b[1;32m    906\u001b[0m         arms_by_signature_for_deduplication\u001b[38;5;241m=\u001b[39marms_by_signature_for_deduplication,\n\u001b[1;32m    907\u001b[0m         \u001b[38;5;241m*\u001b[39m\u001b[38;5;241m*\u001b[39mmodel_gen_kwargs,\n\u001b[1;32m    908\u001b[0m     )\n\u001b[1;32m    909\u001b[0m     gr\u001b[38;5;241m.\u001b[39m_generation_step_index \u001b[38;5;241m=\u001b[39m \u001b[38;5;28mself\u001b[39m\u001b[38;5;241m.\u001b[39mindex\n\u001b[1;32m    910\u001b[0m     \u001b[38;5;28;01mreturn\u001b[39;00m gr\n",
      "File \u001b[0;32m~/miniconda3/envs/BO4ACST-BleedingEdge_env/lib/python3.11/site-packages/ax/modelbridge/generation_node.py:409\u001b[0m, in \u001b[0;36mGenerationNode.gen\u001b[0;34m(self, n, pending_observations, max_gen_draws_for_deduplication, arms_by_signature_for_deduplication, **model_gen_kwargs)\u001b[0m\n\u001b[1;32m    406\u001b[0m \u001b[38;5;66;03m# Keep generating until each of `generator_run.arms` is not a duplicate\u001b[39;00m\n\u001b[1;32m    407\u001b[0m \u001b[38;5;66;03m# of a previous arm, if `should_deduplicate is True`\u001b[39;00m\n\u001b[1;32m    408\u001b[0m \u001b[38;5;28;01mwhile\u001b[39;00m should_generate_run:\n\u001b[0;32m--> 409\u001b[0m     generator_run \u001b[38;5;241m=\u001b[39m \u001b[38;5;28mself\u001b[39m\u001b[38;5;241m.\u001b[39m_gen(\n\u001b[1;32m    410\u001b[0m         n\u001b[38;5;241m=\u001b[39mn,\n\u001b[1;32m    411\u001b[0m         pending_observations\u001b[38;5;241m=\u001b[39mpending_observations,\n\u001b[1;32m    412\u001b[0m         \u001b[38;5;241m*\u001b[39m\u001b[38;5;241m*\u001b[39mmodel_gen_kwargs,\n\u001b[1;32m    413\u001b[0m     )\n\u001b[1;32m    414\u001b[0m     should_generate_run \u001b[38;5;241m=\u001b[39m (\n\u001b[1;32m    415\u001b[0m         \u001b[38;5;28mself\u001b[39m\u001b[38;5;241m.\u001b[39mshould_deduplicate\n\u001b[1;32m    416\u001b[0m         \u001b[38;5;129;01mand\u001b[39;00m arms_by_signature_for_deduplication\n\u001b[0;32m   (...)\u001b[0m\n\u001b[1;32m    420\u001b[0m         )\n\u001b[1;32m    421\u001b[0m     )\n\u001b[1;32m    422\u001b[0m     n_gen_draws \u001b[38;5;241m+\u001b[39m\u001b[38;5;241m=\u001b[39m \u001b[38;5;241m1\u001b[39m\n",
      "File \u001b[0;32m~/miniconda3/envs/BO4ACST-BleedingEdge_env/lib/python3.11/site-packages/ax/modelbridge/generation_node.py:480\u001b[0m, in \u001b[0;36mGenerationNode._gen\u001b[0;34m(self, n, pending_observations, **model_gen_kwargs)\u001b[0m\n\u001b[1;32m    476\u001b[0m \u001b[38;5;28;01mif\u001b[39;00m n \u001b[38;5;129;01mis\u001b[39;00m \u001b[38;5;28;01mNone\u001b[39;00m \u001b[38;5;129;01mand\u001b[39;00m model_spec\u001b[38;5;241m.\u001b[39mmodel_gen_kwargs:\n\u001b[1;32m    477\u001b[0m     \u001b[38;5;66;03m# If `n` is not specified, ensure that the `None` value does not\u001b[39;00m\n\u001b[1;32m    478\u001b[0m     \u001b[38;5;66;03m# override the one set in `model_spec.model_gen_kwargs`.\u001b[39;00m\n\u001b[1;32m    479\u001b[0m     n \u001b[38;5;241m=\u001b[39m model_spec\u001b[38;5;241m.\u001b[39mmodel_gen_kwargs\u001b[38;5;241m.\u001b[39mget(\u001b[38;5;124m\"\u001b[39m\u001b[38;5;124mn\u001b[39m\u001b[38;5;124m\"\u001b[39m, \u001b[38;5;28;01mNone\u001b[39;00m)\n\u001b[0;32m--> 480\u001b[0m \u001b[38;5;28;01mreturn\u001b[39;00m model_spec\u001b[38;5;241m.\u001b[39mgen(\n\u001b[1;32m    481\u001b[0m     n\u001b[38;5;241m=\u001b[39mn,\n\u001b[1;32m    482\u001b[0m     \u001b[38;5;66;03m# For `pending_observations`, prefer the input to this function, as\u001b[39;00m\n\u001b[1;32m    483\u001b[0m     \u001b[38;5;66;03m# `pending_observations` are dynamic throughout the experiment and thus\u001b[39;00m\n\u001b[1;32m    484\u001b[0m     \u001b[38;5;66;03m# unlikely to be specified in `model_spec.model_gen_kwargs`.\u001b[39;00m\n\u001b[1;32m    485\u001b[0m     pending_observations\u001b[38;5;241m=\u001b[39mpending_observations,\n\u001b[1;32m    486\u001b[0m     \u001b[38;5;241m*\u001b[39m\u001b[38;5;241m*\u001b[39mmodel_gen_kwargs,\n\u001b[1;32m    487\u001b[0m )\n",
      "File \u001b[0;32m~/miniconda3/envs/BO4ACST-BleedingEdge_env/lib/python3.11/site-packages/ax/modelbridge/model_spec.py:238\u001b[0m, in \u001b[0;36mModelSpec.gen\u001b[0;34m(self, **model_gen_kwargs)\u001b[0m\n\u001b[1;32m    236\u001b[0m \u001b[38;5;66;03m# copy to ensure there is no in-place modification\u001b[39;00m\n\u001b[1;32m    237\u001b[0m model_gen_kwargs \u001b[38;5;241m=\u001b[39m deepcopy(model_gen_kwargs)\n\u001b[0;32m--> 238\u001b[0m generator_run \u001b[38;5;241m=\u001b[39m fitted_model\u001b[38;5;241m.\u001b[39mgen(\u001b[38;5;241m*\u001b[39m\u001b[38;5;241m*\u001b[39mmodel_gen_kwargs)\n\u001b[1;32m    239\u001b[0m fit_and_std_quality_and_generalization_dict \u001b[38;5;241m=\u001b[39m (\n\u001b[1;32m    240\u001b[0m     get_fit_and_std_quality_and_generalization_dict(\n\u001b[1;32m    241\u001b[0m         fitted_model_bridge\u001b[38;5;241m=\u001b[39m\u001b[38;5;28mself\u001b[39m\u001b[38;5;241m.\u001b[39mfitted_model,\n\u001b[1;32m    242\u001b[0m     )\n\u001b[1;32m    243\u001b[0m )\n\u001b[1;32m    244\u001b[0m generator_run\u001b[38;5;241m.\u001b[39m_gen_metadata \u001b[38;5;241m=\u001b[39m (\n\u001b[1;32m    245\u001b[0m     {} \u001b[38;5;28;01mif\u001b[39;00m generator_run\u001b[38;5;241m.\u001b[39mgen_metadata \u001b[38;5;129;01mis\u001b[39;00m \u001b[38;5;28;01mNone\u001b[39;00m \u001b[38;5;28;01melse\u001b[39;00m generator_run\u001b[38;5;241m.\u001b[39mgen_metadata\n\u001b[1;32m    246\u001b[0m )\n",
      "File \u001b[0;32m~/miniconda3/envs/BO4ACST-BleedingEdge_env/lib/python3.11/site-packages/ax/modelbridge/base.py:858\u001b[0m, in \u001b[0;36mModelBridge.gen\u001b[0;34m(self, n, search_space, optimization_config, pending_observations, fixed_features, model_gen_options)\u001b[0m\n\u001b[1;32m    851\u001b[0m base_gen_args \u001b[38;5;241m=\u001b[39m \u001b[38;5;28mself\u001b[39m\u001b[38;5;241m.\u001b[39m_get_transformed_gen_args(\n\u001b[1;32m    852\u001b[0m     search_space\u001b[38;5;241m=\u001b[39msearch_space,\n\u001b[1;32m    853\u001b[0m     optimization_config\u001b[38;5;241m=\u001b[39moptimization_config,\n\u001b[1;32m    854\u001b[0m     pending_observations\u001b[38;5;241m=\u001b[39mpending_observations,\n\u001b[1;32m    855\u001b[0m     fixed_features\u001b[38;5;241m=\u001b[39mfixed_features,\n\u001b[1;32m    856\u001b[0m )\n\u001b[1;32m    857\u001b[0m \u001b[38;5;66;03m# Apply terminal transform and gen\u001b[39;00m\n\u001b[0;32m--> 858\u001b[0m gen_results \u001b[38;5;241m=\u001b[39m \u001b[38;5;28mself\u001b[39m\u001b[38;5;241m.\u001b[39m_gen(\n\u001b[1;32m    859\u001b[0m     n\u001b[38;5;241m=\u001b[39mn,\n\u001b[1;32m    860\u001b[0m     search_space\u001b[38;5;241m=\u001b[39mbase_gen_args\u001b[38;5;241m.\u001b[39msearch_space,\n\u001b[1;32m    861\u001b[0m     optimization_config\u001b[38;5;241m=\u001b[39mbase_gen_args\u001b[38;5;241m.\u001b[39moptimization_config,\n\u001b[1;32m    862\u001b[0m     pending_observations\u001b[38;5;241m=\u001b[39mbase_gen_args\u001b[38;5;241m.\u001b[39mpending_observations,\n\u001b[1;32m    863\u001b[0m     fixed_features\u001b[38;5;241m=\u001b[39mbase_gen_args\u001b[38;5;241m.\u001b[39mfixed_features,\n\u001b[1;32m    864\u001b[0m     model_gen_options\u001b[38;5;241m=\u001b[39mmodel_gen_options,\n\u001b[1;32m    865\u001b[0m )\n\u001b[1;32m    867\u001b[0m observation_features \u001b[38;5;241m=\u001b[39m gen_results\u001b[38;5;241m.\u001b[39mobservation_features\n\u001b[1;32m    868\u001b[0m best_obsf \u001b[38;5;241m=\u001b[39m gen_results\u001b[38;5;241m.\u001b[39mbest_observation_features\n",
      "File \u001b[0;32m~/miniconda3/envs/BO4ACST-BleedingEdge_env/lib/python3.11/site-packages/ax/modelbridge/torch.py:694\u001b[0m, in \u001b[0;36mTorchModelBridge._gen\u001b[0;34m(self, n, search_space, pending_observations, fixed_features, model_gen_options, optimization_config)\u001b[0m\n\u001b[1;32m    685\u001b[0m search_space_digest, torch_opt_config \u001b[38;5;241m=\u001b[39m \u001b[38;5;28mself\u001b[39m\u001b[38;5;241m.\u001b[39m_get_transformed_model_gen_args(\n\u001b[1;32m    686\u001b[0m     search_space\u001b[38;5;241m=\u001b[39msearch_space,\n\u001b[1;32m    687\u001b[0m     pending_observations\u001b[38;5;241m=\u001b[39mpending_observations,\n\u001b[0;32m   (...)\u001b[0m\n\u001b[1;32m    690\u001b[0m     optimization_config\u001b[38;5;241m=\u001b[39moptimization_config,\n\u001b[1;32m    691\u001b[0m )\n\u001b[1;32m    693\u001b[0m \u001b[38;5;66;03m# Generate the candidates\u001b[39;00m\n\u001b[0;32m--> 694\u001b[0m gen_results \u001b[38;5;241m=\u001b[39m none_throws(\u001b[38;5;28mself\u001b[39m\u001b[38;5;241m.\u001b[39mmodel)\u001b[38;5;241m.\u001b[39mgen(\n\u001b[1;32m    695\u001b[0m     n\u001b[38;5;241m=\u001b[39mn,\n\u001b[1;32m    696\u001b[0m     search_space_digest\u001b[38;5;241m=\u001b[39msearch_space_digest,\n\u001b[1;32m    697\u001b[0m     torch_opt_config\u001b[38;5;241m=\u001b[39mtorch_opt_config,\n\u001b[1;32m    698\u001b[0m )\n\u001b[1;32m    700\u001b[0m gen_metadata \u001b[38;5;241m=\u001b[39m gen_results\u001b[38;5;241m.\u001b[39mgen_metadata\n\u001b[1;32m    701\u001b[0m \u001b[38;5;28;01mif\u001b[39;00m (\n\u001b[1;32m    702\u001b[0m     \u001b[38;5;28misinstance\u001b[39m(optimization_config, MultiObjectiveOptimizationConfig)\n\u001b[1;32m    703\u001b[0m     \u001b[38;5;129;01mand\u001b[39;00m gen_metadata\u001b[38;5;241m.\u001b[39mget(\u001b[38;5;124m\"\u001b[39m\u001b[38;5;124mobjective_thresholds\u001b[39m\u001b[38;5;124m\"\u001b[39m, \u001b[38;5;28;01mNone\u001b[39;00m) \u001b[38;5;129;01mis\u001b[39;00m \u001b[38;5;129;01mnot\u001b[39;00m \u001b[38;5;28;01mNone\u001b[39;00m\n\u001b[0;32m   (...)\u001b[0m\n\u001b[1;32m    707\u001b[0m     \u001b[38;5;66;03m# if using a hypervolume based acquisition function, then\u001b[39;00m\n\u001b[1;32m    708\u001b[0m     \u001b[38;5;66;03m# the inferred objective thresholds are in gen_metadata.\u001b[39;00m\n",
      "File \u001b[0;32m~/miniconda3/envs/BO4ACST-BleedingEdge_env/lib/python3.11/site-packages/ax/models/torch/botorch_modular/model.py:233\u001b[0m, in \u001b[0;36mBoTorchModel.gen\u001b[0;34m(self, n, search_space_digest, torch_opt_config)\u001b[0m\n\u001b[1;32m    226\u001b[0m \u001b[38;5;129m@copy_doc\u001b[39m(TorchModel\u001b[38;5;241m.\u001b[39mgen)\n\u001b[1;32m    227\u001b[0m \u001b[38;5;28;01mdef\u001b[39;00m \u001b[38;5;21mgen\u001b[39m(\n\u001b[1;32m    228\u001b[0m     \u001b[38;5;28mself\u001b[39m,\n\u001b[0;32m   (...)\u001b[0m\n\u001b[1;32m    231\u001b[0m     torch_opt_config: TorchOptConfig,\n\u001b[1;32m    232\u001b[0m ) \u001b[38;5;241m-\u001b[39m\u001b[38;5;241m>\u001b[39m TorchGenResults:\n\u001b[0;32m--> 233\u001b[0m     acq_options, opt_options \u001b[38;5;241m=\u001b[39m construct_acquisition_and_optimizer_options(\n\u001b[1;32m    234\u001b[0m         acqf_options\u001b[38;5;241m=\u001b[39m\u001b[38;5;28mself\u001b[39m\u001b[38;5;241m.\u001b[39macquisition_options,\n\u001b[1;32m    235\u001b[0m         model_gen_options\u001b[38;5;241m=\u001b[39mtorch_opt_config\u001b[38;5;241m.\u001b[39mmodel_gen_options,\n\u001b[1;32m    236\u001b[0m     )\n\u001b[1;32m    237\u001b[0m     \u001b[38;5;66;03m# update bounds / target values\u001b[39;00m\n\u001b[1;32m    238\u001b[0m     search_space_digest \u001b[38;5;241m=\u001b[39m dataclasses\u001b[38;5;241m.\u001b[39mreplace(\n\u001b[1;32m    239\u001b[0m         \u001b[38;5;28mself\u001b[39m\u001b[38;5;241m.\u001b[39msearch_space_digest,\n\u001b[1;32m    240\u001b[0m         bounds\u001b[38;5;241m=\u001b[39msearch_space_digest\u001b[38;5;241m.\u001b[39mbounds,\n\u001b[1;32m    241\u001b[0m         target_values\u001b[38;5;241m=\u001b[39msearch_space_digest\u001b[38;5;241m.\u001b[39mtarget_values \u001b[38;5;129;01mor\u001b[39;00m {},\n\u001b[1;32m    242\u001b[0m     )\n",
      "File \u001b[0;32m~/miniconda3/envs/BO4ACST-BleedingEdge_env/lib/python3.11/site-packages/ax/models/torch/botorch_modular/utils.py:255\u001b[0m, in \u001b[0;36mconstruct_acquisition_and_optimizer_options\u001b[0;34m(acqf_options, model_gen_options)\u001b[0m\n\u001b[1;32m    251\u001b[0m \u001b[38;5;28;01mdef\u001b[39;00m \u001b[38;5;21mconstruct_acquisition_and_optimizer_options\u001b[39m(\n\u001b[1;32m    252\u001b[0m     acqf_options: TConfig, model_gen_options: TConfig \u001b[38;5;241m|\u001b[39m \u001b[38;5;28;01mNone\u001b[39;00m \u001b[38;5;241m=\u001b[39m \u001b[38;5;28;01mNone\u001b[39;00m\n\u001b[1;32m    253\u001b[0m ) \u001b[38;5;241m-\u001b[39m\u001b[38;5;241m>\u001b[39m \u001b[38;5;28mtuple\u001b[39m[TConfig, TConfig]:\n\u001b[1;32m    254\u001b[0m \u001b[38;5;250m    \u001b[39m\u001b[38;5;124;03m\"\"\"Extract acquisition and optimizer options from `model_gen_options`.\"\"\"\u001b[39;00m\n\u001b[0;32m--> 255\u001b[0m     acq_options \u001b[38;5;241m=\u001b[39m acqf_options\u001b[38;5;241m.\u001b[39mcopy()\n\u001b[1;32m    256\u001b[0m     opt_options \u001b[38;5;241m=\u001b[39m {}\n\u001b[1;32m    258\u001b[0m     \u001b[38;5;28;01mif\u001b[39;00m model_gen_options:\n",
      "\u001b[0;31mAttributeError\u001b[0m: type object 'qLogNoisyExpectedImprovement' has no attribute 'copy'"
     ]
    }
   ],
   "source": [
    "# Initiate the current trials.\n",
    "ExperimentalMethods_obj.TrialsStartor_func(AxClient_obj,OptimisationSetup_obj)\n",
    "df = AxClient_obj.get_trials_data_frame()\n",
    "df"
   ]
  },
  {
   "cell_type": "code",
   "execution_count": null,
   "metadata": {},
   "outputs": [],
   "source": [
    "# Carry out the experimentation associated with the current trials.\n",
    "ExperimentalMethods_obj.TrialsExecutor_func(AxClient_obj,OptimisationSetup_obj)"
   ]
  },
  {
   "cell_type": "markdown",
   "metadata": {},
   "source": [
    "# Stykke 2 - Enden"
   ]
  },
  {
   "cell_type": "code",
   "execution_count": null,
   "metadata": {},
   "outputs": [],
   "source": [
    "# Use the initialiser function to import the current experiment or begin a new one.\n",
    "AxClient_obj = ExperimentalMethods_obj.ExperimentInitialiser_func(OptimisationSetup_obj)"
   ]
  },
  {
   "cell_type": "code",
   "execution_count": null,
   "metadata": {},
   "outputs": [],
   "source": [
    "# Complete the current trials.\n",
    "ExperimentalMethods_obj.TrialsCompletor_func(AxClient_obj,OptimisationSetup_obj)"
   ]
  },
  {
   "cell_type": "code",
   "execution_count": null,
   "metadata": {},
   "outputs": [],
   "source": [
    "df = AxClient_obj.get_trials_data_frame()\n",
    "df"
   ]
  },
  {
   "cell_type": "code",
   "execution_count": null,
   "metadata": {},
   "outputs": [],
   "source": []
  }
 ],
 "metadata": {
  "kernelspec": {
   "display_name": "BO4ACST-BleedingEdge_env",
   "language": "python",
   "name": "python3"
  },
  "language_info": {
   "codemirror_mode": {
    "name": "ipython",
    "version": 3
   },
   "file_extension": ".py",
   "mimetype": "text/x-python",
   "name": "python",
   "nbconvert_exporter": "python",
   "pygments_lexer": "ipython3",
   "version": "3.11.10"
  }
 },
 "nbformat": 4,
 "nbformat_minor": 2
}
